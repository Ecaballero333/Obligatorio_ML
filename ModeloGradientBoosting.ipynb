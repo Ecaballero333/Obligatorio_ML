{
  "nbformat": 4,
  "nbformat_minor": 0,
  "metadata": {
    "colab": {
      "name": "VallarinoIgnacio_CaballeroEduardo_Obligatorio_ML.ipynb",
      "provenance": [],
      "include_colab_link": true
    },
    "kernelspec": {
      "name": "python3",
      "display_name": "Python 3"
    },
    "language_info": {
      "name": "python"
    }
  },
  "cells": [
    {
      "cell_type": "markdown",
      "metadata": {
        "id": "view-in-github",
        "colab_type": "text"
      },
      "source": [
        "<a href=\"https://colab.research.google.com/github/Ecaballero333/Obligatorio_ML/blob/develop/ModeloGradientBoosting.ipynb\" target=\"_parent\"><img src=\"https://colab.research.google.com/assets/colab-badge.svg\" alt=\"Open In Colab\"/></a>"
      ]
    },
    {
      "cell_type": "markdown",
      "metadata": {
        "id": "i7ylFWKuy-kQ"
      },
      "source": [
        "# Obligatorio\n",
        "\n"
      ]
    },
    {
      "cell_type": "code",
      "metadata": {
        "id": "_nzScwxJ8-Ml"
      },
      "source": [
        "import pandas as pd\n",
        "import numpy as np\n",
        "import matplotlib.pyplot as plt\n",
        "import seaborn as sns\n",
        "from sklearn.model_selection import train_test_split\n",
        "from sklearn.preprocessing import MinMaxScaler, StandardScaler\n",
        "from sklearn.metrics import accuracy_score"
      ],
      "execution_count": null,
      "outputs": []
    },
    {
      "cell_type": "code",
      "metadata": {
        "colab": {
          "resources": {
            "http://localhost:8080/nbextensions/google.colab/files.js": {
              "data": "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",
              "ok": true,
              "headers": [
                [
                  "content-type",
                  "application/javascript"
                ]
              ],
              "status": 200,
              "status_text": ""
            }
          },
          "base_uri": "https://localhost:8080/",
          "height": 73
        },
        "id": "JnWa4MQUKS_q",
        "outputId": "483d7b56-84f4-4363-cb75-2531c85c2798"
      },
      "source": [
        "from google.colab import files \n",
        "\n",
        "\n",
        "uploaded = files.upload()"
      ],
      "execution_count": null,
      "outputs": [
        {
          "output_type": "display_data",
          "data": {
            "text/html": [
              "\n",
              "     <input type=\"file\" id=\"files-54213d67-9599-46d2-845b-db7707b501a0\" name=\"files[]\" multiple disabled\n",
              "        style=\"border:none\" />\n",
              "     <output id=\"result-54213d67-9599-46d2-845b-db7707b501a0\">\n",
              "      Upload widget is only available when the cell has been executed in the\n",
              "      current browser session. Please rerun this cell to enable.\n",
              "      </output>\n",
              "      <script src=\"/nbextensions/google.colab/files.js\"></script> "
            ],
            "text/plain": [
              "<IPython.core.display.HTML object>"
            ]
          },
          "metadata": {}
        },
        {
          "output_type": "stream",
          "name": "stdout",
          "text": [
            "Saving nuevo_dataset.csv to nuevo_dataset.csv\n"
          ]
        }
      ]
    },
    {
      "cell_type": "code",
      "metadata": {
        "id": "3XHyiNEbLIba"
      },
      "source": [
        "df=pd.read_csv(\"nuevo_dataset.csv\", sep = \",\")"
      ],
      "execution_count": null,
      "outputs": []
    },
    {
      "cell_type": "markdown",
      "metadata": {
        "id": "7_DOGUMKzNFl"
      },
      "source": [
        "## Análisis exploratorio"
      ]
    },
    {
      "cell_type": "code",
      "metadata": {
        "colab": {
          "base_uri": "https://localhost:8080/",
          "height": 444
        },
        "id": "ApnhE49SLMT2",
        "outputId": "2b243f67-d6cd-4d32-8bfe-aeef8db5d042"
      },
      "source": [
        "df.head(100)"
      ],
      "execution_count": null,
      "outputs": [
        {
          "output_type": "execute_result",
          "data": {
            "text/html": [
              "<div>\n",
              "<style scoped>\n",
              "    .dataframe tbody tr th:only-of-type {\n",
              "        vertical-align: middle;\n",
              "    }\n",
              "\n",
              "    .dataframe tbody tr th {\n",
              "        vertical-align: top;\n",
              "    }\n",
              "\n",
              "    .dataframe thead th {\n",
              "        text-align: right;\n",
              "    }\n",
              "</style>\n",
              "<table border=\"1\" class=\"dataframe\">\n",
              "  <thead>\n",
              "    <tr style=\"text-align: right;\">\n",
              "      <th></th>\n",
              "      <th>id</th>\n",
              "      <th>Gender</th>\n",
              "      <th>Age</th>\n",
              "      <th>Driving_License</th>\n",
              "      <th>Region_Code</th>\n",
              "      <th>Previously_Insured</th>\n",
              "      <th>Vehicle_Age</th>\n",
              "      <th>Vehicle_Damage</th>\n",
              "      <th>Annual_Premium</th>\n",
              "      <th>Policy_Sales_Channel</th>\n",
              "      <th>Vintage</th>\n",
              "      <th>Response</th>\n",
              "    </tr>\n",
              "  </thead>\n",
              "  <tbody>\n",
              "    <tr>\n",
              "      <th>0</th>\n",
              "      <td>79510</td>\n",
              "      <td>Female</td>\n",
              "      <td>22</td>\n",
              "      <td>1</td>\n",
              "      <td>19.0</td>\n",
              "      <td>1</td>\n",
              "      <td>&lt; 1 Year</td>\n",
              "      <td>No</td>\n",
              "      <td>54559.0</td>\n",
              "      <td>152.0</td>\n",
              "      <td>87</td>\n",
              "      <td>0</td>\n",
              "    </tr>\n",
              "    <tr>\n",
              "      <th>1</th>\n",
              "      <td>186555</td>\n",
              "      <td>Male</td>\n",
              "      <td>57</td>\n",
              "      <td>1</td>\n",
              "      <td>18.0</td>\n",
              "      <td>0</td>\n",
              "      <td>1-2 Year</td>\n",
              "      <td>Yes</td>\n",
              "      <td>33439.0</td>\n",
              "      <td>124.0</td>\n",
              "      <td>63</td>\n",
              "      <td>0</td>\n",
              "    </tr>\n",
              "    <tr>\n",
              "      <th>2</th>\n",
              "      <td>158037</td>\n",
              "      <td>Female</td>\n",
              "      <td>64</td>\n",
              "      <td>1</td>\n",
              "      <td>28.0</td>\n",
              "      <td>0</td>\n",
              "      <td>1-2 Year</td>\n",
              "      <td>Yes</td>\n",
              "      <td>39327.0</td>\n",
              "      <td>122.0</td>\n",
              "      <td>45</td>\n",
              "      <td>0</td>\n",
              "    </tr>\n",
              "    <tr>\n",
              "      <th>3</th>\n",
              "      <td>343706</td>\n",
              "      <td>Male</td>\n",
              "      <td>52</td>\n",
              "      <td>1</td>\n",
              "      <td>41.0</td>\n",
              "      <td>1</td>\n",
              "      <td>1-2 Year</td>\n",
              "      <td>No</td>\n",
              "      <td>26536.0</td>\n",
              "      <td>124.0</td>\n",
              "      <td>161</td>\n",
              "      <td>0</td>\n",
              "    </tr>\n",
              "    <tr>\n",
              "      <th>4</th>\n",
              "      <td>137903</td>\n",
              "      <td>Female</td>\n",
              "      <td>21</td>\n",
              "      <td>1</td>\n",
              "      <td>7.0</td>\n",
              "      <td>0</td>\n",
              "      <td>&lt; 1 Year</td>\n",
              "      <td>No</td>\n",
              "      <td>28416.0</td>\n",
              "      <td>152.0</td>\n",
              "      <td>92</td>\n",
              "      <td>0</td>\n",
              "    </tr>\n",
              "    <tr>\n",
              "      <th>...</th>\n",
              "      <td>...</td>\n",
              "      <td>...</td>\n",
              "      <td>...</td>\n",
              "      <td>...</td>\n",
              "      <td>...</td>\n",
              "      <td>...</td>\n",
              "      <td>...</td>\n",
              "      <td>...</td>\n",
              "      <td>...</td>\n",
              "      <td>...</td>\n",
              "      <td>...</td>\n",
              "      <td>...</td>\n",
              "    </tr>\n",
              "    <tr>\n",
              "      <th>95</th>\n",
              "      <td>196823</td>\n",
              "      <td>Male</td>\n",
              "      <td>51</td>\n",
              "      <td>1</td>\n",
              "      <td>28.0</td>\n",
              "      <td>0</td>\n",
              "      <td>1-2 Year</td>\n",
              "      <td>Yes</td>\n",
              "      <td>54154.0</td>\n",
              "      <td>26.0</td>\n",
              "      <td>272</td>\n",
              "      <td>0</td>\n",
              "    </tr>\n",
              "    <tr>\n",
              "      <th>96</th>\n",
              "      <td>293262</td>\n",
              "      <td>Male</td>\n",
              "      <td>35</td>\n",
              "      <td>1</td>\n",
              "      <td>46.0</td>\n",
              "      <td>0</td>\n",
              "      <td>1-2 Year</td>\n",
              "      <td>No</td>\n",
              "      <td>22241.0</td>\n",
              "      <td>154.0</td>\n",
              "      <td>267</td>\n",
              "      <td>0</td>\n",
              "    </tr>\n",
              "    <tr>\n",
              "      <th>97</th>\n",
              "      <td>260666</td>\n",
              "      <td>Male</td>\n",
              "      <td>24</td>\n",
              "      <td>1</td>\n",
              "      <td>14.0</td>\n",
              "      <td>1</td>\n",
              "      <td>&lt; 1 Year</td>\n",
              "      <td>No</td>\n",
              "      <td>16288.0</td>\n",
              "      <td>152.0</td>\n",
              "      <td>236</td>\n",
              "      <td>0</td>\n",
              "    </tr>\n",
              "    <tr>\n",
              "      <th>98</th>\n",
              "      <td>14316</td>\n",
              "      <td>Female</td>\n",
              "      <td>23</td>\n",
              "      <td>1</td>\n",
              "      <td>13.0</td>\n",
              "      <td>1</td>\n",
              "      <td>&lt; 1 Year</td>\n",
              "      <td>No</td>\n",
              "      <td>28760.0</td>\n",
              "      <td>152.0</td>\n",
              "      <td>166</td>\n",
              "      <td>0</td>\n",
              "    </tr>\n",
              "    <tr>\n",
              "      <th>99</th>\n",
              "      <td>110941</td>\n",
              "      <td>Male</td>\n",
              "      <td>27</td>\n",
              "      <td>1</td>\n",
              "      <td>8.0</td>\n",
              "      <td>1</td>\n",
              "      <td>&lt; 1 Year</td>\n",
              "      <td>No</td>\n",
              "      <td>24417.0</td>\n",
              "      <td>152.0</td>\n",
              "      <td>52</td>\n",
              "      <td>0</td>\n",
              "    </tr>\n",
              "  </tbody>\n",
              "</table>\n",
              "<p>100 rows × 12 columns</p>\n",
              "</div>"
            ],
            "text/plain": [
              "        id  Gender  Age  ...  Policy_Sales_Channel  Vintage  Response\n",
              "0    79510  Female   22  ...                 152.0       87         0\n",
              "1   186555    Male   57  ...                 124.0       63         0\n",
              "2   158037  Female   64  ...                 122.0       45         0\n",
              "3   343706    Male   52  ...                 124.0      161         0\n",
              "4   137903  Female   21  ...                 152.0       92         0\n",
              "..     ...     ...  ...  ...                   ...      ...       ...\n",
              "95  196823    Male   51  ...                  26.0      272         0\n",
              "96  293262    Male   35  ...                 154.0      267         0\n",
              "97  260666    Male   24  ...                 152.0      236         0\n",
              "98   14316  Female   23  ...                 152.0      166         0\n",
              "99  110941    Male   27  ...                 152.0       52         0\n",
              "\n",
              "[100 rows x 12 columns]"
            ]
          },
          "metadata": {},
          "execution_count": 4
        }
      ]
    },
    {
      "cell_type": "code",
      "metadata": {
        "colab": {
          "base_uri": "https://localhost:8080/"
        },
        "id": "uOXfmHwpLNW7",
        "outputId": "6e831e68-ac53-42a6-f2d8-a70ce4f03dac"
      },
      "source": [
        "df.info()"
      ],
      "execution_count": null,
      "outputs": [
        {
          "output_type": "stream",
          "name": "stdout",
          "text": [
            "<class 'pandas.core.frame.DataFrame'>\n",
            "RangeIndex: 93891 entries, 0 to 93890\n",
            "Data columns (total 12 columns):\n",
            " #   Column                Non-Null Count  Dtype  \n",
            "---  ------                --------------  -----  \n",
            " 0   id                    93891 non-null  int64  \n",
            " 1   Gender                93891 non-null  object \n",
            " 2   Age                   93891 non-null  int64  \n",
            " 3   Driving_License       93891 non-null  int64  \n",
            " 4   Region_Code           93891 non-null  float64\n",
            " 5   Previously_Insured    93891 non-null  int64  \n",
            " 6   Vehicle_Age           93891 non-null  object \n",
            " 7   Vehicle_Damage        93891 non-null  object \n",
            " 8   Annual_Premium        93891 non-null  float64\n",
            " 9   Policy_Sales_Channel  93891 non-null  float64\n",
            " 10  Vintage               93891 non-null  int64  \n",
            " 11  Response              93891 non-null  int64  \n",
            "dtypes: float64(3), int64(6), object(3)\n",
            "memory usage: 8.6+ MB\n"
          ]
        }
      ]
    },
    {
      "cell_type": "markdown",
      "metadata": {
        "id": "-vE1FXfhzivm"
      },
      "source": [
        "### Convertir Variables"
      ]
    },
    {
      "cell_type": "markdown",
      "metadata": {
        "id": "LwtMIbKT_jgn"
      },
      "source": [
        "Variables que están definidas como número pero son categoricas:\n",
        "* Driving_License: valores posibles -> 0 y 1\n",
        "* Previously_Insured: valores posibles -> 0 y 1\n",
        "* Response: Es el target. Valores posibles -> 0 y 1\n",
        "\n",
        "Las pasamos a string (excepto \"response\") en un primer lugar para poder hacerlas Dummy y luego poder usarlas en analisis de correlacion. "
      ]
    },
    {
      "cell_type": "code",
      "metadata": {
        "colab": {
          "base_uri": "https://localhost:8080/"
        },
        "id": "GBFv6VjEzV4Z",
        "outputId": "3c8e0b09-e954-4ae1-c1a3-2a516031fd77"
      },
      "source": [
        "# Conversión variable categórica\n",
        "df['Driving_License'] = df['Driving_License'].astype('str')\n",
        "df['Previously_Insured'] = df['Previously_Insured'].astype('str')\n",
        "df.info()"
      ],
      "execution_count": null,
      "outputs": [
        {
          "output_type": "stream",
          "name": "stdout",
          "text": [
            "<class 'pandas.core.frame.DataFrame'>\n",
            "RangeIndex: 93891 entries, 0 to 93890\n",
            "Data columns (total 12 columns):\n",
            " #   Column                Non-Null Count  Dtype  \n",
            "---  ------                --------------  -----  \n",
            " 0   id                    93891 non-null  int64  \n",
            " 1   Gender                93891 non-null  object \n",
            " 2   Age                   93891 non-null  int64  \n",
            " 3   Driving_License       93891 non-null  object \n",
            " 4   Region_Code           93891 non-null  float64\n",
            " 5   Previously_Insured    93891 non-null  object \n",
            " 6   Vehicle_Age           93891 non-null  object \n",
            " 7   Vehicle_Damage        93891 non-null  object \n",
            " 8   Annual_Premium        93891 non-null  float64\n",
            " 9   Policy_Sales_Channel  93891 non-null  float64\n",
            " 10  Vintage               93891 non-null  int64  \n",
            " 11  Response              93891 non-null  int64  \n",
            "dtypes: float64(3), int64(4), object(5)\n",
            "memory usage: 8.6+ MB\n"
          ]
        }
      ]
    },
    {
      "cell_type": "code",
      "metadata": {
        "colab": {
          "base_uri": "https://localhost:8080/"
        },
        "id": "-dwRgZ3Cv-Um",
        "outputId": "4a97f768-60c5-4017-e145-e24950dc1be3"
      },
      "source": [
        "# Creacion de dummies para variables categoricas.\n",
        "dfDummy = pd.get_dummies(df, drop_first = True)\n",
        "dfDummy.info()"
      ],
      "execution_count": null,
      "outputs": [
        {
          "output_type": "stream",
          "name": "stdout",
          "text": [
            "<class 'pandas.core.frame.DataFrame'>\n",
            "RangeIndex: 93891 entries, 0 to 93890\n",
            "Data columns (total 13 columns):\n",
            " #   Column                 Non-Null Count  Dtype  \n",
            "---  ------                 --------------  -----  \n",
            " 0   id                     93891 non-null  int64  \n",
            " 1   Age                    93891 non-null  int64  \n",
            " 2   Region_Code            93891 non-null  float64\n",
            " 3   Annual_Premium         93891 non-null  float64\n",
            " 4   Policy_Sales_Channel   93891 non-null  float64\n",
            " 5   Vintage                93891 non-null  int64  \n",
            " 6   Response               93891 non-null  int64  \n",
            " 7   Gender_Male            93891 non-null  uint8  \n",
            " 8   Driving_License_1      93891 non-null  uint8  \n",
            " 9   Previously_Insured_1   93891 non-null  uint8  \n",
            " 10  Vehicle_Age_< 1 Year   93891 non-null  uint8  \n",
            " 11  Vehicle_Age_> 2 Years  93891 non-null  uint8  \n",
            " 12  Vehicle_Damage_Yes     93891 non-null  uint8  \n",
            "dtypes: float64(3), int64(4), uint8(6)\n",
            "memory usage: 5.6 MB\n"
          ]
        }
      ]
    },
    {
      "cell_type": "markdown",
      "metadata": {
        "id": "DmkQIlijBuo4"
      },
      "source": [
        "### Outliers"
      ]
    },
    {
      "cell_type": "code",
      "metadata": {
        "colab": {
          "base_uri": "https://localhost:8080/",
          "height": 337
        },
        "id": "PNqZMyhcBUJ2",
        "outputId": "34788ca8-de15-41d9-dc92-0d76fe9e34a0"
      },
      "source": [
        "dfDummy.describe(include = [np.number])"
      ],
      "execution_count": null,
      "outputs": [
        {
          "output_type": "execute_result",
          "data": {
            "text/html": [
              "<div>\n",
              "<style scoped>\n",
              "    .dataframe tbody tr th:only-of-type {\n",
              "        vertical-align: middle;\n",
              "    }\n",
              "\n",
              "    .dataframe tbody tr th {\n",
              "        vertical-align: top;\n",
              "    }\n",
              "\n",
              "    .dataframe thead th {\n",
              "        text-align: right;\n",
              "    }\n",
              "</style>\n",
              "<table border=\"1\" class=\"dataframe\">\n",
              "  <thead>\n",
              "    <tr style=\"text-align: right;\">\n",
              "      <th></th>\n",
              "      <th>id</th>\n",
              "      <th>Age</th>\n",
              "      <th>Region_Code</th>\n",
              "      <th>Annual_Premium</th>\n",
              "      <th>Policy_Sales_Channel</th>\n",
              "      <th>Vintage</th>\n",
              "      <th>Response</th>\n",
              "      <th>Gender_Male</th>\n",
              "      <th>Driving_License_1</th>\n",
              "      <th>Previously_Insured_1</th>\n",
              "      <th>Vehicle_Age_&lt; 1 Year</th>\n",
              "      <th>Vehicle_Age_&gt; 2 Years</th>\n",
              "      <th>Vehicle_Damage_Yes</th>\n",
              "    </tr>\n",
              "  </thead>\n",
              "  <tbody>\n",
              "    <tr>\n",
              "      <th>count</th>\n",
              "      <td>93891.000000</td>\n",
              "      <td>93891.000000</td>\n",
              "      <td>93891.000000</td>\n",
              "      <td>93891.000000</td>\n",
              "      <td>93891.000000</td>\n",
              "      <td>93891.000000</td>\n",
              "      <td>93891.000000</td>\n",
              "      <td>93891.000000</td>\n",
              "      <td>93891.000000</td>\n",
              "      <td>93891.000000</td>\n",
              "      <td>93891.000000</td>\n",
              "      <td>93891.000000</td>\n",
              "      <td>93891.000000</td>\n",
              "    </tr>\n",
              "    <tr>\n",
              "      <th>mean</th>\n",
              "      <td>190515.346806</td>\n",
              "      <td>40.806520</td>\n",
              "      <td>26.556092</td>\n",
              "      <td>30983.086547</td>\n",
              "      <td>103.525716</td>\n",
              "      <td>154.679415</td>\n",
              "      <td>0.497492</td>\n",
              "      <td>0.570545</td>\n",
              "      <td>0.998477</td>\n",
              "      <td>0.264296</td>\n",
              "      <td>0.313481</td>\n",
              "      <td>0.068036</td>\n",
              "      <td>0.706532</td>\n",
              "    </tr>\n",
              "    <tr>\n",
              "      <th>std</th>\n",
              "      <td>109947.403429</td>\n",
              "      <td>14.368874</td>\n",
              "      <td>12.645412</td>\n",
              "      <td>17687.544914</td>\n",
              "      <td>55.814796</td>\n",
              "      <td>83.567929</td>\n",
              "      <td>0.499996</td>\n",
              "      <td>0.495001</td>\n",
              "      <td>0.038997</td>\n",
              "      <td>0.440960</td>\n",
              "      <td>0.463910</td>\n",
              "      <td>0.251810</td>\n",
              "      <td>0.455353</td>\n",
              "    </tr>\n",
              "    <tr>\n",
              "      <th>min</th>\n",
              "      <td>1.000000</td>\n",
              "      <td>20.000000</td>\n",
              "      <td>0.000000</td>\n",
              "      <td>2630.000000</td>\n",
              "      <td>1.000000</td>\n",
              "      <td>10.000000</td>\n",
              "      <td>0.000000</td>\n",
              "      <td>0.000000</td>\n",
              "      <td>0.000000</td>\n",
              "      <td>0.000000</td>\n",
              "      <td>0.000000</td>\n",
              "      <td>0.000000</td>\n",
              "      <td>0.000000</td>\n",
              "    </tr>\n",
              "    <tr>\n",
              "      <th>25%</th>\n",
              "      <td>95254.500000</td>\n",
              "      <td>27.000000</td>\n",
              "      <td>16.000000</td>\n",
              "      <td>24506.000000</td>\n",
              "      <td>26.000000</td>\n",
              "      <td>82.000000</td>\n",
              "      <td>0.000000</td>\n",
              "      <td>0.000000</td>\n",
              "      <td>1.000000</td>\n",
              "      <td>0.000000</td>\n",
              "      <td>0.000000</td>\n",
              "      <td>0.000000</td>\n",
              "      <td>0.000000</td>\n",
              "    </tr>\n",
              "    <tr>\n",
              "      <th>50%</th>\n",
              "      <td>190640.000000</td>\n",
              "      <td>41.000000</td>\n",
              "      <td>28.000000</td>\n",
              "      <td>32232.000000</td>\n",
              "      <td>124.000000</td>\n",
              "      <td>155.000000</td>\n",
              "      <td>0.000000</td>\n",
              "      <td>1.000000</td>\n",
              "      <td>1.000000</td>\n",
              "      <td>0.000000</td>\n",
              "      <td>0.000000</td>\n",
              "      <td>0.000000</td>\n",
              "      <td>1.000000</td>\n",
              "    </tr>\n",
              "    <tr>\n",
              "      <th>75%</th>\n",
              "      <td>285907.500000</td>\n",
              "      <td>50.000000</td>\n",
              "      <td>34.000000</td>\n",
              "      <td>40299.000000</td>\n",
              "      <td>152.000000</td>\n",
              "      <td>227.000000</td>\n",
              "      <td>1.000000</td>\n",
              "      <td>1.000000</td>\n",
              "      <td>1.000000</td>\n",
              "      <td>1.000000</td>\n",
              "      <td>1.000000</td>\n",
              "      <td>0.000000</td>\n",
              "      <td>1.000000</td>\n",
              "    </tr>\n",
              "    <tr>\n",
              "      <th>max</th>\n",
              "      <td>381098.000000</td>\n",
              "      <td>85.000000</td>\n",
              "      <td>52.000000</td>\n",
              "      <td>540165.000000</td>\n",
              "      <td>163.000000</td>\n",
              "      <td>299.000000</td>\n",
              "      <td>1.000000</td>\n",
              "      <td>1.000000</td>\n",
              "      <td>1.000000</td>\n",
              "      <td>1.000000</td>\n",
              "      <td>1.000000</td>\n",
              "      <td>1.000000</td>\n",
              "      <td>1.000000</td>\n",
              "    </tr>\n",
              "  </tbody>\n",
              "</table>\n",
              "</div>"
            ],
            "text/plain": [
              "                  id           Age  ...  Vehicle_Age_> 2 Years  Vehicle_Damage_Yes\n",
              "count   93891.000000  93891.000000  ...           93891.000000        93891.000000\n",
              "mean   190515.346806     40.806520  ...               0.068036            0.706532\n",
              "std    109947.403429     14.368874  ...               0.251810            0.455353\n",
              "min         1.000000     20.000000  ...               0.000000            0.000000\n",
              "25%     95254.500000     27.000000  ...               0.000000            0.000000\n",
              "50%    190640.000000     41.000000  ...               0.000000            1.000000\n",
              "75%    285907.500000     50.000000  ...               0.000000            1.000000\n",
              "max    381098.000000     85.000000  ...               1.000000            1.000000\n",
              "\n",
              "[8 rows x 13 columns]"
            ]
          },
          "metadata": {},
          "execution_count": 8
        }
      ]
    },
    {
      "cell_type": "code",
      "metadata": {
        "id": "Z517_5nYWO2y"
      },
      "source": [
        "from scipy.stats.mstats import winsorize"
      ],
      "execution_count": null,
      "outputs": []
    },
    {
      "cell_type": "code",
      "metadata": {
        "colab": {
          "base_uri": "https://localhost:8080/",
          "height": 35
        },
        "id": "gl3YdoiGEltL",
        "outputId": "6a351070-bf48-4dc7-ae01-9baeebd40612"
      },
      "source": [
        "plt.figure(figsize = (3,5))\n",
        "sns.set_theme(style=\"whitegrid\")"
      ],
      "execution_count": null,
      "outputs": [
        {
          "output_type": "display_data",
          "data": {
            "text/plain": [
              "<Figure size 216x360 with 0 Axes>"
            ]
          },
          "metadata": {}
        }
      ]
    },
    {
      "cell_type": "code",
      "metadata": {
        "colab": {
          "base_uri": "https://localhost:8080/",
          "height": 322
        },
        "id": "smRNAKjtEG1v",
        "outputId": "fb223e93-94c0-4145-ae8a-75630dd33109"
      },
      "source": [
        "print('Outliers de variable Age')\n",
        "sns.boxplot(x = 'Age', data = dfDummy)"
      ],
      "execution_count": null,
      "outputs": [
        {
          "output_type": "stream",
          "name": "stdout",
          "text": [
            "Outliers de variable Age\n"
          ]
        },
        {
          "output_type": "execute_result",
          "data": {
            "text/plain": [
              "<matplotlib.axes._subplots.AxesSubplot at 0x7f7dfdc11410>"
            ]
          },
          "metadata": {},
          "execution_count": 11
        },
        {
          "output_type": "display_data",
          "data": {
            "image/png": "[encoded data removed]",
            "text/plain": [
              "<Figure size 432x288 with 1 Axes>"
            ]
          },
          "metadata": {}
        }
      ]
    },
    {
      "cell_type": "markdown",
      "metadata": {
        "id": "zMos0bn0Viqh"
      },
      "source": [
        "Detecamos un outlier para la variable \"Age\". Procederemos a eliminarlo...\n"
      ]
    },
    {
      "cell_type": "code",
      "metadata": {
        "id": "zZ8i6LdjWWT9",
        "colab": {
          "base_uri": "https://localhost:8080/",
          "height": 322
        },
        "outputId": "2153bb5e-9550-449f-d40b-2080fe816ecf"
      },
      "source": [
        "dfDummy['Age_Winzorized'] = winsorize(dfDummy['Age'], limits = [None, 0.0001])\n",
        "print('Outliers de variable Age_Winzorized')\n",
        "sns.boxplot(x = 'Age_Winzorized', data = dfDummy)"
      ],
      "execution_count": null,
      "outputs": [
        {
          "output_type": "stream",
          "name": "stdout",
          "text": [
            "Outliers de variable Age_Winzorized\n"
          ]
        },
        {
          "output_type": "execute_result",
          "data": {
            "text/plain": [
              "<matplotlib.axes._subplots.AxesSubplot at 0x7f7dfcf98490>"
            ]
          },
          "metadata": {},
          "execution_count": 12
        },
        {
          "output_type": "display_data",
          "data": {
            "image/png": "[encoded data removed]",
            "text/plain": [
              "<Figure size 432x288 with 1 Axes>"
            ]
          },
          "metadata": {}
        }
      ]
    },
    {
      "cell_type": "code",
      "metadata": {
        "colab": {
          "base_uri": "https://localhost:8080/",
          "height": 322
        },
        "id": "xwRx6gDKA8IB",
        "outputId": "80be8095-588f-4743-ae25-69d3232ad069"
      },
      "source": [
        "print('Outliers de variable Annual_Premium')\n",
        "sns.boxplot(x = 'Annual_Premium', data = dfDummy)"
      ],
      "execution_count": null,
      "outputs": [
        {
          "output_type": "stream",
          "name": "stdout",
          "text": [
            "Outliers de variable Annual_Premium\n"
          ]
        },
        {
          "output_type": "execute_result",
          "data": {
            "text/plain": [
              "<matplotlib.axes._subplots.AxesSubplot at 0x7f7dfcae0410>"
            ]
          },
          "metadata": {},
          "execution_count": 13
        },
        {
          "output_type": "display_data",
          "data": {
            "image/png": "[encoded data removed]",
            "text/plain": [
              "<Figure size 432x288 with 1 Axes>"
            ]
          },
          "metadata": {}
        }
      ]
    },
    {
      "cell_type": "markdown",
      "metadata": {
        "id": "kD0kk2U4XfNt"
      },
      "source": [
        "Detectamos varios outliers para la variable \"Annual_Premium\". Procederemos a eliminarlos..."
      ]
    },
    {
      "cell_type": "code",
      "metadata": {
        "id": "EWdFu3WaXp2e",
        "colab": {
          "base_uri": "https://localhost:8080/",
          "height": 322
        },
        "outputId": "e3366693-859e-4bed-b4f6-99f3e281f18c"
      },
      "source": [
        "dfDummy['Annual_Premium_Winzorized'] = winsorize(dfDummy['Annual_Premium'], limits = [None, 0.025])\n",
        "print('Outliers de variable Annual_Premium_Winzorized')\n",
        "sns.boxplot(x = 'Annual_Premium_Winzorized', data = dfDummy)"
      ],
      "execution_count": null,
      "outputs": [
        {
          "output_type": "stream",
          "name": "stdout",
          "text": [
            "Outliers de variable Annual_Premium_Winzorized\n"
          ]
        },
        {
          "output_type": "execute_result",
          "data": {
            "text/plain": [
              "<matplotlib.axes._subplots.AxesSubplot at 0x7f7dfca31650>"
            ]
          },
          "metadata": {},
          "execution_count": 14
        },
        {
          "output_type": "display_data",
          "data": {
            "image/png": "[encoded data removed]",
            "text/plain": [
              "<Figure size 432x288 with 1 Axes>"
            ]
          },
          "metadata": {}
        }
      ]
    },
    {
      "cell_type": "code",
      "metadata": {
        "colab": {
          "base_uri": "https://localhost:8080/",
          "height": 322
        },
        "id": "mpL3YqYdFiuR",
        "outputId": "ee97e43d-01e8-4ce4-f337-73e952ef520f"
      },
      "source": [
        "print('Outliers de variable Vintage')\n",
        "sns.boxplot(x = 'Vintage', data = dfDummy)"
      ],
      "execution_count": null,
      "outputs": [
        {
          "output_type": "stream",
          "name": "stdout",
          "text": [
            "Outliers de variable Vintage\n"
          ]
        },
        {
          "output_type": "execute_result",
          "data": {
            "text/plain": [
              "<matplotlib.axes._subplots.AxesSubplot at 0x7f7dfc9b3a90>"
            ]
          },
          "metadata": {},
          "execution_count": 15
        },
        {
          "output_type": "display_data",
          "data": {
            "image/png": "[encoded data removed]",
            "text/plain": [
              "<Figure size 432x288 with 1 Axes>"
            ]
          },
          "metadata": {}
        }
      ]
    },
    {
      "cell_type": "markdown",
      "metadata": {
        "id": "UDRLN3syU7Rs"
      },
      "source": [
        "Eliminamos las columnas que son \"winzorized\": Age y Annual_Premium"
      ]
    },
    {
      "cell_type": "code",
      "metadata": {
        "id": "E9yU7IbiTyfe"
      },
      "source": [
        "dfDummy = dfDummy.drop(['Age', 'Annual_Premium'], axis=1)"
      ],
      "execution_count": null,
      "outputs": []
    },
    {
      "cell_type": "code",
      "metadata": {
        "id": "SrQrN2SPVEX6",
        "colab": {
          "base_uri": "https://localhost:8080/",
          "height": 461
        },
        "outputId": "3f563157-8278-4c2f-a20d-01590a05500d"
      },
      "source": [
        "dfDummy"
      ],
      "execution_count": null,
      "outputs": [
        {
          "output_type": "execute_result",
          "data": {
            "text/html": [
              "<div>\n",
              "<style scoped>\n",
              "    .dataframe tbody tr th:only-of-type {\n",
              "        vertical-align: middle;\n",
              "    }\n",
              "\n",
              "    .dataframe tbody tr th {\n",
              "        vertical-align: top;\n",
              "    }\n",
              "\n",
              "    .dataframe thead th {\n",
              "        text-align: right;\n",
              "    }\n",
              "</style>\n",
              "<table border=\"1\" class=\"dataframe\">\n",
              "  <thead>\n",
              "    <tr style=\"text-align: right;\">\n",
              "      <th></th>\n",
              "      <th>id</th>\n",
              "      <th>Region_Code</th>\n",
              "      <th>Policy_Sales_Channel</th>\n",
              "      <th>Vintage</th>\n",
              "      <th>Response</th>\n",
              "      <th>Gender_Male</th>\n",
              "      <th>Driving_License_1</th>\n",
              "      <th>Previously_Insured_1</th>\n",
              "      <th>Vehicle_Age_&lt; 1 Year</th>\n",
              "      <th>Vehicle_Age_&gt; 2 Years</th>\n",
              "      <th>Vehicle_Damage_Yes</th>\n",
              "      <th>Age_Winzorized</th>\n",
              "      <th>Annual_Premium_Winzorized</th>\n",
              "    </tr>\n",
              "  </thead>\n",
              "  <tbody>\n",
              "    <tr>\n",
              "      <th>0</th>\n",
              "      <td>79510</td>\n",
              "      <td>19.0</td>\n",
              "      <td>152.0</td>\n",
              "      <td>87</td>\n",
              "      <td>0</td>\n",
              "      <td>0</td>\n",
              "      <td>1</td>\n",
              "      <td>1</td>\n",
              "      <td>1</td>\n",
              "      <td>0</td>\n",
              "      <td>0</td>\n",
              "      <td>22</td>\n",
              "      <td>54559.0</td>\n",
              "    </tr>\n",
              "    <tr>\n",
              "      <th>1</th>\n",
              "      <td>186555</td>\n",
              "      <td>18.0</td>\n",
              "      <td>124.0</td>\n",
              "      <td>63</td>\n",
              "      <td>0</td>\n",
              "      <td>1</td>\n",
              "      <td>1</td>\n",
              "      <td>0</td>\n",
              "      <td>0</td>\n",
              "      <td>0</td>\n",
              "      <td>1</td>\n",
              "      <td>57</td>\n",
              "      <td>33439.0</td>\n",
              "    </tr>\n",
              "    <tr>\n",
              "      <th>2</th>\n",
              "      <td>158037</td>\n",
              "      <td>28.0</td>\n",
              "      <td>122.0</td>\n",
              "      <td>45</td>\n",
              "      <td>0</td>\n",
              "      <td>0</td>\n",
              "      <td>1</td>\n",
              "      <td>0</td>\n",
              "      <td>0</td>\n",
              "      <td>0</td>\n",
              "      <td>1</td>\n",
              "      <td>64</td>\n",
              "      <td>39327.0</td>\n",
              "    </tr>\n",
              "    <tr>\n",
              "      <th>3</th>\n",
              "      <td>343706</td>\n",
              "      <td>41.0</td>\n",
              "      <td>124.0</td>\n",
              "      <td>161</td>\n",
              "      <td>0</td>\n",
              "      <td>1</td>\n",
              "      <td>1</td>\n",
              "      <td>1</td>\n",
              "      <td>0</td>\n",
              "      <td>0</td>\n",
              "      <td>0</td>\n",
              "      <td>52</td>\n",
              "      <td>26536.0</td>\n",
              "    </tr>\n",
              "    <tr>\n",
              "      <th>4</th>\n",
              "      <td>137903</td>\n",
              "      <td>7.0</td>\n",
              "      <td>152.0</td>\n",
              "      <td>92</td>\n",
              "      <td>0</td>\n",
              "      <td>0</td>\n",
              "      <td>1</td>\n",
              "      <td>0</td>\n",
              "      <td>1</td>\n",
              "      <td>0</td>\n",
              "      <td>0</td>\n",
              "      <td>21</td>\n",
              "      <td>28416.0</td>\n",
              "    </tr>\n",
              "    <tr>\n",
              "      <th>...</th>\n",
              "      <td>...</td>\n",
              "      <td>...</td>\n",
              "      <td>...</td>\n",
              "      <td>...</td>\n",
              "      <td>...</td>\n",
              "      <td>...</td>\n",
              "      <td>...</td>\n",
              "      <td>...</td>\n",
              "      <td>...</td>\n",
              "      <td>...</td>\n",
              "      <td>...</td>\n",
              "      <td>...</td>\n",
              "      <td>...</td>\n",
              "    </tr>\n",
              "    <tr>\n",
              "      <th>93886</th>\n",
              "      <td>381058</td>\n",
              "      <td>46.0</td>\n",
              "      <td>26.0</td>\n",
              "      <td>189</td>\n",
              "      <td>1</td>\n",
              "      <td>1</td>\n",
              "      <td>1</td>\n",
              "      <td>0</td>\n",
              "      <td>0</td>\n",
              "      <td>0</td>\n",
              "      <td>1</td>\n",
              "      <td>40</td>\n",
              "      <td>27508.0</td>\n",
              "    </tr>\n",
              "    <tr>\n",
              "      <th>93887</th>\n",
              "      <td>381062</td>\n",
              "      <td>28.0</td>\n",
              "      <td>124.0</td>\n",
              "      <td>99</td>\n",
              "      <td>1</td>\n",
              "      <td>0</td>\n",
              "      <td>1</td>\n",
              "      <td>0</td>\n",
              "      <td>0</td>\n",
              "      <td>0</td>\n",
              "      <td>1</td>\n",
              "      <td>41</td>\n",
              "      <td>37377.0</td>\n",
              "    </tr>\n",
              "    <tr>\n",
              "      <th>93888</th>\n",
              "      <td>381074</td>\n",
              "      <td>28.0</td>\n",
              "      <td>124.0</td>\n",
              "      <td>167</td>\n",
              "      <td>1</td>\n",
              "      <td>0</td>\n",
              "      <td>1</td>\n",
              "      <td>0</td>\n",
              "      <td>0</td>\n",
              "      <td>0</td>\n",
              "      <td>1</td>\n",
              "      <td>46</td>\n",
              "      <td>34741.0</td>\n",
              "    </tr>\n",
              "    <tr>\n",
              "      <th>93889</th>\n",
              "      <td>381076</td>\n",
              "      <td>28.0</td>\n",
              "      <td>26.0</td>\n",
              "      <td>139</td>\n",
              "      <td>1</td>\n",
              "      <td>0</td>\n",
              "      <td>1</td>\n",
              "      <td>0</td>\n",
              "      <td>0</td>\n",
              "      <td>0</td>\n",
              "      <td>1</td>\n",
              "      <td>61</td>\n",
              "      <td>43875.0</td>\n",
              "    </tr>\n",
              "    <tr>\n",
              "      <th>93890</th>\n",
              "      <td>381098</td>\n",
              "      <td>28.0</td>\n",
              "      <td>26.0</td>\n",
              "      <td>165</td>\n",
              "      <td>1</td>\n",
              "      <td>0</td>\n",
              "      <td>1</td>\n",
              "      <td>0</td>\n",
              "      <td>0</td>\n",
              "      <td>0</td>\n",
              "      <td>1</td>\n",
              "      <td>38</td>\n",
              "      <td>52742.0</td>\n",
              "    </tr>\n",
              "  </tbody>\n",
              "</table>\n",
              "<p>93891 rows × 13 columns</p>\n",
              "</div>"
            ],
            "text/plain": [
              "           id  Region_Code  ...  Age_Winzorized  Annual_Premium_Winzorized\n",
              "0       79510         19.0  ...              22                    54559.0\n",
              "1      186555         18.0  ...              57                    33439.0\n",
              "2      158037         28.0  ...              64                    39327.0\n",
              "3      343706         41.0  ...              52                    26536.0\n",
              "4      137903          7.0  ...              21                    28416.0\n",
              "...       ...          ...  ...             ...                        ...\n",
              "93886  381058         46.0  ...              40                    27508.0\n",
              "93887  381062         28.0  ...              41                    37377.0\n",
              "93888  381074         28.0  ...              46                    34741.0\n",
              "93889  381076         28.0  ...              61                    43875.0\n",
              "93890  381098         28.0  ...              38                    52742.0\n",
              "\n",
              "[93891 rows x 13 columns]"
            ]
          },
          "metadata": {},
          "execution_count": 17
        }
      ]
    },
    {
      "cell_type": "markdown",
      "metadata": {
        "id": "yC3COqMYNeUr"
      },
      "source": [
        "### Filas repetidas"
      ]
    },
    {
      "cell_type": "markdown",
      "metadata": {
        "id": "u-JdmecVOnRI"
      },
      "source": [
        "Según el reporte obtenido con pandas-profiling no hay filas repetidas. Igual probamos"
      ]
    },
    {
      "cell_type": "code",
      "metadata": {
        "id": "KX2QnnLH4F8B",
        "colab": {
          "base_uri": "https://localhost:8080/"
        },
        "outputId": "17ad2bc8-5266-40e6-83bf-ad0e9c7f79a6"
      },
      "source": [
        "print(\"Cantidad sin borrar\",len(dfDummy))\n",
        "dfDummy_without_duplicates = dfDummy.drop_duplicates()\n",
        "print(\"Cantidad con borrado\", len(dfDummy_without_duplicates))\n"
      ],
      "execution_count": null,
      "outputs": [
        {
          "output_type": "stream",
          "name": "stdout",
          "text": [
            "Cantidad sin borrar 93891\n",
            "Cantidad con borrado 93891\n"
          ]
        }
      ]
    },
    {
      "cell_type": "markdown",
      "metadata": {
        "id": "607Akm5UMVpI"
      },
      "source": [
        "### Valores nulos"
      ]
    },
    {
      "cell_type": "markdown",
      "metadata": {
        "id": "Y3YwioIR17Sa"
      },
      "source": [
        "No hay variables nulas."
      ]
    },
    {
      "cell_type": "code",
      "metadata": {
        "colab": {
          "base_uri": "https://localhost:8080/"
        },
        "id": "2GGgDUGZ1NMR",
        "outputId": "e5f30b50-6aa6-461c-e095-00741e470806"
      },
      "source": [
        "sns.heatmap(dfDummy.isnull(), cbar = False, yticklabels = False, xticklabels = True)"
      ],
      "execution_count": null,
      "outputs": [
        {
          "output_type": "execute_result",
          "data": {
            "text/plain": [
              "<matplotlib.axes._subplots.AxesSubplot at 0x7f7dfcfde910>"
            ]
          },
          "metadata": {},
          "execution_count": 19
        },
        {
          "output_type": "display_data",
          "data": {
            "image/png": "[encoded data removed]",
            "text/plain": [
              "<Figure size 432x288 with 1 Axes>"
            ]
          },
          "metadata": {}
        }
      ]
    },
    {
      "cell_type": "markdown",
      "metadata": {
        "id": "_q0Ujz1VMlEO"
      },
      "source": [
        "### Feature Scaling"
      ]
    },
    {
      "cell_type": "markdown",
      "metadata": {
        "id": "Tqfy0rKQOYJ_"
      },
      "source": [
        "Usamos la normalización porque:\n",
        "-\tNo podemos asumir que la distribución de nuestros datos es gaussiana.\n",
        "-\tNo tenemos outliers porque ya los eliminamos."
      ]
    },
    {
      "cell_type": "code",
      "metadata": {
        "id": "-7fjGRDnOMeR"
      },
      "source": [
        "scaler = MinMaxScaler(feature_range = (0, 1))"
      ],
      "execution_count": null,
      "outputs": []
    },
    {
      "cell_type": "code",
      "metadata": {
        "id": "8ORB3awUOb7c"
      },
      "source": [
        "dfDummy_normAux = scaler.fit_transform(dfDummy)"
      ],
      "execution_count": null,
      "outputs": []
    },
    {
      "cell_type": "code",
      "metadata": {
        "id": "Wx5lZaEZOhfM",
        "colab": {
          "base_uri": "https://localhost:8080/"
        },
        "outputId": "f564b03f-f9c1-44a5-b650-30e407a2f3dd"
      },
      "source": [
        "dfDummy_normAux"
      ],
      "execution_count": null,
      "outputs": [
        {
          "output_type": "execute_result",
          "data": {
            "text/plain": [
              "array([[0.20863192, 0.36538462, 0.93209877, ..., 0.        , 0.03174603,\n",
              "        0.84877658],\n",
              "       [0.48951842, 0.34615385, 0.75925926, ..., 1.        , 0.58730159,\n",
              "        0.50357137],\n",
              "       [0.41468707, 0.53846154, 0.74691358, ..., 1.        , 0.6984127 ,\n",
              "        0.5998104 ],\n",
              "       ...,\n",
              "       [0.99993702, 0.53846154, 0.75925926, ..., 1.        , 0.41269841,\n",
              "        0.52485249],\n",
              "       [0.99994227, 0.53846154, 0.15432099, ..., 1.        , 0.65079365,\n",
              "        0.6741472 ],\n",
              "       [1.        , 0.53846154, 0.15432099, ..., 1.        , 0.28571429,\n",
              "        0.81907782]])"
            ]
          },
          "metadata": {},
          "execution_count": 22
        }
      ]
    },
    {
      "cell_type": "code",
      "metadata": {
        "id": "6w9K0nhnO4AE"
      },
      "source": [
        "dfDummy_normalized = pd.DataFrame(dfDummy_normAux, columns = sorted(dfDummy))"
      ],
      "execution_count": null,
      "outputs": []
    },
    {
      "cell_type": "code",
      "metadata": {
        "id": "0nRbsJrMQy9z",
        "colab": {
          "base_uri": "https://localhost:8080/"
        },
        "outputId": "7955cd1c-de30-4f93-ef92-7af1a4c0c423"
      },
      "source": [
        "dfDummy2 = pd.DataFrame(dfDummy, columns = sorted(dfDummy))\n",
        "dfDummy2"
      ],
      "execution_count": null,
      "outputs": [
        {
          "output_type": "execute_result",
          "data": {
            "text/html": [
              "<div>\n",
              "<style scoped>\n",
              "    .dataframe tbody tr th:only-of-type {\n",
              "        vertical-align: middle;\n",
              "    }\n",
              "\n",
              "    .dataframe tbody tr th {\n",
              "        vertical-align: top;\n",
              "    }\n",
              "\n",
              "    .dataframe thead th {\n",
              "        text-align: right;\n",
              "    }\n",
              "</style>\n",
              "<table border=\"1\" class=\"dataframe\">\n",
              "  <thead>\n",
              "    <tr style=\"text-align: right;\">\n",
              "      <th></th>\n",
              "      <th>Age_Winzorized</th>\n",
              "      <th>Annual_Premium_Winzorized</th>\n",
              "      <th>Driving_License_1</th>\n",
              "      <th>Gender_Male</th>\n",
              "      <th>Policy_Sales_Channel</th>\n",
              "      <th>Previously_Insured_1</th>\n",
              "      <th>Region_Code</th>\n",
              "      <th>Response</th>\n",
              "      <th>Vehicle_Age_&lt; 1 Year</th>\n",
              "      <th>Vehicle_Age_&gt; 2 Years</th>\n",
              "      <th>Vehicle_Damage_Yes</th>\n",
              "      <th>Vintage</th>\n",
              "      <th>id</th>\n",
              "    </tr>\n",
              "  </thead>\n",
              "  <tbody>\n",
              "    <tr>\n",
              "      <th>0</th>\n",
              "      <td>22</td>\n",
              "      <td>54559.0</td>\n",
              "      <td>1</td>\n",
              "      <td>0</td>\n",
              "      <td>152.0</td>\n",
              "      <td>1</td>\n",
              "      <td>19.0</td>\n",
              "      <td>0</td>\n",
              "      <td>1</td>\n",
              "      <td>0</td>\n",
              "      <td>0</td>\n",
              "      <td>87</td>\n",
              "      <td>79510</td>\n",
              "    </tr>\n",
              "    <tr>\n",
              "      <th>1</th>\n",
              "      <td>57</td>\n",
              "      <td>33439.0</td>\n",
              "      <td>1</td>\n",
              "      <td>1</td>\n",
              "      <td>124.0</td>\n",
              "      <td>0</td>\n",
              "      <td>18.0</td>\n",
              "      <td>0</td>\n",
              "      <td>0</td>\n",
              "      <td>0</td>\n",
              "      <td>1</td>\n",
              "      <td>63</td>\n",
              "      <td>186555</td>\n",
              "    </tr>\n",
              "    <tr>\n",
              "      <th>2</th>\n",
              "      <td>64</td>\n",
              "      <td>39327.0</td>\n",
              "      <td>1</td>\n",
              "      <td>0</td>\n",
              "      <td>122.0</td>\n",
              "      <td>0</td>\n",
              "      <td>28.0</td>\n",
              "      <td>0</td>\n",
              "      <td>0</td>\n",
              "      <td>0</td>\n",
              "      <td>1</td>\n",
              "      <td>45</td>\n",
              "      <td>158037</td>\n",
              "    </tr>\n",
              "    <tr>\n",
              "      <th>3</th>\n",
              "      <td>52</td>\n",
              "      <td>26536.0</td>\n",
              "      <td>1</td>\n",
              "      <td>1</td>\n",
              "      <td>124.0</td>\n",
              "      <td>1</td>\n",
              "      <td>41.0</td>\n",
              "      <td>0</td>\n",
              "      <td>0</td>\n",
              "      <td>0</td>\n",
              "      <td>0</td>\n",
              "      <td>161</td>\n",
              "      <td>343706</td>\n",
              "    </tr>\n",
              "    <tr>\n",
              "      <th>4</th>\n",
              "      <td>21</td>\n",
              "      <td>28416.0</td>\n",
              "      <td>1</td>\n",
              "      <td>0</td>\n",
              "      <td>152.0</td>\n",
              "      <td>0</td>\n",
              "      <td>7.0</td>\n",
              "      <td>0</td>\n",
              "      <td>1</td>\n",
              "      <td>0</td>\n",
              "      <td>0</td>\n",
              "      <td>92</td>\n",
              "      <td>137903</td>\n",
              "    </tr>\n",
              "    <tr>\n",
              "      <th>...</th>\n",
              "      <td>...</td>\n",
              "      <td>...</td>\n",
              "      <td>...</td>\n",
              "      <td>...</td>\n",
              "      <td>...</td>\n",
              "      <td>...</td>\n",
              "      <td>...</td>\n",
              "      <td>...</td>\n",
              "      <td>...</td>\n",
              "      <td>...</td>\n",
              "      <td>...</td>\n",
              "      <td>...</td>\n",
              "      <td>...</td>\n",
              "    </tr>\n",
              "    <tr>\n",
              "      <th>93886</th>\n",
              "      <td>40</td>\n",
              "      <td>27508.0</td>\n",
              "      <td>1</td>\n",
              "      <td>1</td>\n",
              "      <td>26.0</td>\n",
              "      <td>0</td>\n",
              "      <td>46.0</td>\n",
              "      <td>1</td>\n",
              "      <td>0</td>\n",
              "      <td>0</td>\n",
              "      <td>1</td>\n",
              "      <td>189</td>\n",
              "      <td>381058</td>\n",
              "    </tr>\n",
              "    <tr>\n",
              "      <th>93887</th>\n",
              "      <td>41</td>\n",
              "      <td>37377.0</td>\n",
              "      <td>1</td>\n",
              "      <td>0</td>\n",
              "      <td>124.0</td>\n",
              "      <td>0</td>\n",
              "      <td>28.0</td>\n",
              "      <td>1</td>\n",
              "      <td>0</td>\n",
              "      <td>0</td>\n",
              "      <td>1</td>\n",
              "      <td>99</td>\n",
              "      <td>381062</td>\n",
              "    </tr>\n",
              "    <tr>\n",
              "      <th>93888</th>\n",
              "      <td>46</td>\n",
              "      <td>34741.0</td>\n",
              "      <td>1</td>\n",
              "      <td>0</td>\n",
              "      <td>124.0</td>\n",
              "      <td>0</td>\n",
              "      <td>28.0</td>\n",
              "      <td>1</td>\n",
              "      <td>0</td>\n",
              "      <td>0</td>\n",
              "      <td>1</td>\n",
              "      <td>167</td>\n",
              "      <td>381074</td>\n",
              "    </tr>\n",
              "    <tr>\n",
              "      <th>93889</th>\n",
              "      <td>61</td>\n",
              "      <td>43875.0</td>\n",
              "      <td>1</td>\n",
              "      <td>0</td>\n",
              "      <td>26.0</td>\n",
              "      <td>0</td>\n",
              "      <td>28.0</td>\n",
              "      <td>1</td>\n",
              "      <td>0</td>\n",
              "      <td>0</td>\n",
              "      <td>1</td>\n",
              "      <td>139</td>\n",
              "      <td>381076</td>\n",
              "    </tr>\n",
              "    <tr>\n",
              "      <th>93890</th>\n",
              "      <td>38</td>\n",
              "      <td>52742.0</td>\n",
              "      <td>1</td>\n",
              "      <td>0</td>\n",
              "      <td>26.0</td>\n",
              "      <td>0</td>\n",
              "      <td>28.0</td>\n",
              "      <td>1</td>\n",
              "      <td>0</td>\n",
              "      <td>0</td>\n",
              "      <td>1</td>\n",
              "      <td>165</td>\n",
              "      <td>381098</td>\n",
              "    </tr>\n",
              "  </tbody>\n",
              "</table>\n",
              "<p>93891 rows × 13 columns</p>\n",
              "</div>"
            ],
            "text/plain": [
              "       Age_Winzorized  Annual_Premium_Winzorized  ...  Vintage      id\n",
              "0                  22                    54559.0  ...       87   79510\n",
              "1                  57                    33439.0  ...       63  186555\n",
              "2                  64                    39327.0  ...       45  158037\n",
              "3                  52                    26536.0  ...      161  343706\n",
              "4                  21                    28416.0  ...       92  137903\n",
              "...               ...                        ...  ...      ...     ...\n",
              "93886              40                    27508.0  ...      189  381058\n",
              "93887              41                    37377.0  ...       99  381062\n",
              "93888              46                    34741.0  ...      167  381074\n",
              "93889              61                    43875.0  ...      139  381076\n",
              "93890              38                    52742.0  ...      165  381098\n",
              "\n",
              "[93891 rows x 13 columns]"
            ]
          },
          "metadata": {},
          "execution_count": 24
        }
      ]
    },
    {
      "cell_type": "code",
      "metadata": {
        "id": "-jD_CcgtQJQr",
        "colab": {
          "base_uri": "https://localhost:8080/"
        },
        "outputId": "72fe8ce0-68d5-4183-c785-01b7b5004a33"
      },
      "source": [
        "dfDummy_normalized"
      ],
      "execution_count": null,
      "outputs": [
        {
          "output_type": "execute_result",
          "data": {
            "text/html": [
              "<div>\n",
              "<style scoped>\n",
              "    .dataframe tbody tr th:only-of-type {\n",
              "        vertical-align: middle;\n",
              "    }\n",
              "\n",
              "    .dataframe tbody tr th {\n",
              "        vertical-align: top;\n",
              "    }\n",
              "\n",
              "    .dataframe thead th {\n",
              "        text-align: right;\n",
              "    }\n",
              "</style>\n",
              "<table border=\"1\" class=\"dataframe\">\n",
              "  <thead>\n",
              "    <tr style=\"text-align: right;\">\n",
              "      <th></th>\n",
              "      <th>Age_Winzorized</th>\n",
              "      <th>Annual_Premium_Winzorized</th>\n",
              "      <th>Driving_License_1</th>\n",
              "      <th>Gender_Male</th>\n",
              "      <th>Policy_Sales_Channel</th>\n",
              "      <th>Previously_Insured_1</th>\n",
              "      <th>Region_Code</th>\n",
              "      <th>Response</th>\n",
              "      <th>Vehicle_Age_&lt; 1 Year</th>\n",
              "      <th>Vehicle_Age_&gt; 2 Years</th>\n",
              "      <th>Vehicle_Damage_Yes</th>\n",
              "      <th>Vintage</th>\n",
              "      <th>id</th>\n",
              "    </tr>\n",
              "  </thead>\n",
              "  <tbody>\n",
              "    <tr>\n",
              "      <th>0</th>\n",
              "      <td>0.208632</td>\n",
              "      <td>0.365385</td>\n",
              "      <td>0.932099</td>\n",
              "      <td>0.266436</td>\n",
              "      <td>0.0</td>\n",
              "      <td>0.0</td>\n",
              "      <td>1.0</td>\n",
              "      <td>1.0</td>\n",
              "      <td>1.0</td>\n",
              "      <td>0.0</td>\n",
              "      <td>0.0</td>\n",
              "      <td>0.031746</td>\n",
              "      <td>0.848777</td>\n",
              "    </tr>\n",
              "    <tr>\n",
              "      <th>1</th>\n",
              "      <td>0.489518</td>\n",
              "      <td>0.346154</td>\n",
              "      <td>0.759259</td>\n",
              "      <td>0.183391</td>\n",
              "      <td>0.0</td>\n",
              "      <td>1.0</td>\n",
              "      <td>1.0</td>\n",
              "      <td>0.0</td>\n",
              "      <td>0.0</td>\n",
              "      <td>0.0</td>\n",
              "      <td>1.0</td>\n",
              "      <td>0.587302</td>\n",
              "      <td>0.503571</td>\n",
              "    </tr>\n",
              "    <tr>\n",
              "      <th>2</th>\n",
              "      <td>0.414687</td>\n",
              "      <td>0.538462</td>\n",
              "      <td>0.746914</td>\n",
              "      <td>0.121107</td>\n",
              "      <td>0.0</td>\n",
              "      <td>0.0</td>\n",
              "      <td>1.0</td>\n",
              "      <td>0.0</td>\n",
              "      <td>0.0</td>\n",
              "      <td>0.0</td>\n",
              "      <td>1.0</td>\n",
              "      <td>0.698413</td>\n",
              "      <td>0.599810</td>\n",
              "    </tr>\n",
              "    <tr>\n",
              "      <th>3</th>\n",
              "      <td>0.901883</td>\n",
              "      <td>0.788462</td>\n",
              "      <td>0.759259</td>\n",
              "      <td>0.522491</td>\n",
              "      <td>0.0</td>\n",
              "      <td>1.0</td>\n",
              "      <td>1.0</td>\n",
              "      <td>1.0</td>\n",
              "      <td>0.0</td>\n",
              "      <td>0.0</td>\n",
              "      <td>0.0</td>\n",
              "      <td>0.507937</td>\n",
              "      <td>0.390742</td>\n",
              "    </tr>\n",
              "    <tr>\n",
              "      <th>4</th>\n",
              "      <td>0.361855</td>\n",
              "      <td>0.134615</td>\n",
              "      <td>0.932099</td>\n",
              "      <td>0.283737</td>\n",
              "      <td>0.0</td>\n",
              "      <td>0.0</td>\n",
              "      <td>1.0</td>\n",
              "      <td>0.0</td>\n",
              "      <td>1.0</td>\n",
              "      <td>0.0</td>\n",
              "      <td>0.0</td>\n",
              "      <td>0.015873</td>\n",
              "      <td>0.421471</td>\n",
              "    </tr>\n",
              "    <tr>\n",
              "      <th>...</th>\n",
              "      <td>...</td>\n",
              "      <td>...</td>\n",
              "      <td>...</td>\n",
              "      <td>...</td>\n",
              "      <td>...</td>\n",
              "      <td>...</td>\n",
              "      <td>...</td>\n",
              "      <td>...</td>\n",
              "      <td>...</td>\n",
              "      <td>...</td>\n",
              "      <td>...</td>\n",
              "      <td>...</td>\n",
              "      <td>...</td>\n",
              "    </tr>\n",
              "    <tr>\n",
              "      <th>93886</th>\n",
              "      <td>0.999895</td>\n",
              "      <td>0.884615</td>\n",
              "      <td>0.154321</td>\n",
              "      <td>0.619377</td>\n",
              "      <td>1.0</td>\n",
              "      <td>1.0</td>\n",
              "      <td>1.0</td>\n",
              "      <td>0.0</td>\n",
              "      <td>0.0</td>\n",
              "      <td>0.0</td>\n",
              "      <td>1.0</td>\n",
              "      <td>0.317460</td>\n",
              "      <td>0.406630</td>\n",
              "    </tr>\n",
              "    <tr>\n",
              "      <th>93887</th>\n",
              "      <td>0.999906</td>\n",
              "      <td>0.538462</td>\n",
              "      <td>0.759259</td>\n",
              "      <td>0.307958</td>\n",
              "      <td>1.0</td>\n",
              "      <td>0.0</td>\n",
              "      <td>1.0</td>\n",
              "      <td>0.0</td>\n",
              "      <td>0.0</td>\n",
              "      <td>0.0</td>\n",
              "      <td>1.0</td>\n",
              "      <td>0.333333</td>\n",
              "      <td>0.567938</td>\n",
              "    </tr>\n",
              "    <tr>\n",
              "      <th>93888</th>\n",
              "      <td>0.999937</td>\n",
              "      <td>0.538462</td>\n",
              "      <td>0.759259</td>\n",
              "      <td>0.543253</td>\n",
              "      <td>1.0</td>\n",
              "      <td>0.0</td>\n",
              "      <td>1.0</td>\n",
              "      <td>0.0</td>\n",
              "      <td>0.0</td>\n",
              "      <td>0.0</td>\n",
              "      <td>1.0</td>\n",
              "      <td>0.412698</td>\n",
              "      <td>0.524852</td>\n",
              "    </tr>\n",
              "    <tr>\n",
              "      <th>93889</th>\n",
              "      <td>0.999942</td>\n",
              "      <td>0.538462</td>\n",
              "      <td>0.154321</td>\n",
              "      <td>0.446367</td>\n",
              "      <td>1.0</td>\n",
              "      <td>0.0</td>\n",
              "      <td>1.0</td>\n",
              "      <td>0.0</td>\n",
              "      <td>0.0</td>\n",
              "      <td>0.0</td>\n",
              "      <td>1.0</td>\n",
              "      <td>0.650794</td>\n",
              "      <td>0.674147</td>\n",
              "    </tr>\n",
              "    <tr>\n",
              "      <th>93890</th>\n",
              "      <td>1.000000</td>\n",
              "      <td>0.538462</td>\n",
              "      <td>0.154321</td>\n",
              "      <td>0.536332</td>\n",
              "      <td>1.0</td>\n",
              "      <td>0.0</td>\n",
              "      <td>1.0</td>\n",
              "      <td>0.0</td>\n",
              "      <td>0.0</td>\n",
              "      <td>0.0</td>\n",
              "      <td>1.0</td>\n",
              "      <td>0.285714</td>\n",
              "      <td>0.819078</td>\n",
              "    </tr>\n",
              "  </tbody>\n",
              "</table>\n",
              "<p>93891 rows × 13 columns</p>\n",
              "</div>"
            ],
            "text/plain": [
              "       Age_Winzorized  Annual_Premium_Winzorized  ...   Vintage        id\n",
              "0            0.208632                   0.365385  ...  0.031746  0.848777\n",
              "1            0.489518                   0.346154  ...  0.587302  0.503571\n",
              "2            0.414687                   0.538462  ...  0.698413  0.599810\n",
              "3            0.901883                   0.788462  ...  0.507937  0.390742\n",
              "4            0.361855                   0.134615  ...  0.015873  0.421471\n",
              "...               ...                        ...  ...       ...       ...\n",
              "93886        0.999895                   0.884615  ...  0.317460  0.406630\n",
              "93887        0.999906                   0.538462  ...  0.333333  0.567938\n",
              "93888        0.999937                   0.538462  ...  0.412698  0.524852\n",
              "93889        0.999942                   0.538462  ...  0.650794  0.674147\n",
              "93890        1.000000                   0.538462  ...  0.285714  0.819078\n",
              "\n",
              "[93891 rows x 13 columns]"
            ]
          },
          "metadata": {},
          "execution_count": 25
        }
      ]
    },
    {
      "cell_type": "markdown",
      "metadata": {
        "id": "nFG7VI9pOGSr"
      },
      "source": [
        "### Análisis de correlación"
      ]
    },
    {
      "cell_type": "code",
      "metadata": {
        "colab": {
          "base_uri": "https://localhost:8080/"
        },
        "id": "Fn7S-GtxmgAh",
        "outputId": "568995dd-af12-48eb-fdfa-17916f755fba"
      },
      "source": [
        "d_cor = dfDummy_normalized.corr()\n",
        "d_cor"
      ],
      "execution_count": null,
      "outputs": [
        {
          "output_type": "execute_result",
          "data": {
            "text/html": [
              "<div>\n",
              "<style scoped>\n",
              "    .dataframe tbody tr th:only-of-type {\n",
              "        vertical-align: middle;\n",
              "    }\n",
              "\n",
              "    .dataframe tbody tr th {\n",
              "        vertical-align: top;\n",
              "    }\n",
              "\n",
              "    .dataframe thead th {\n",
              "        text-align: right;\n",
              "    }\n",
              "</style>\n",
              "<table border=\"1\" class=\"dataframe\">\n",
              "  <thead>\n",
              "    <tr style=\"text-align: right;\">\n",
              "      <th></th>\n",
              "      <th>Age_Winzorized</th>\n",
              "      <th>Annual_Premium_Winzorized</th>\n",
              "      <th>Driving_License_1</th>\n",
              "      <th>Gender_Male</th>\n",
              "      <th>Policy_Sales_Channel</th>\n",
              "      <th>Previously_Insured_1</th>\n",
              "      <th>Region_Code</th>\n",
              "      <th>Response</th>\n",
              "      <th>Vehicle_Age_&lt; 1 Year</th>\n",
              "      <th>Vehicle_Age_&gt; 2 Years</th>\n",
              "      <th>Vehicle_Damage_Yes</th>\n",
              "      <th>Vintage</th>\n",
              "      <th>id</th>\n",
              "    </tr>\n",
              "  </thead>\n",
              "  <tbody>\n",
              "    <tr>\n",
              "      <th>Age_Winzorized</th>\n",
              "      <td>1.000000</td>\n",
              "      <td>-0.000327</td>\n",
              "      <td>0.001997</td>\n",
              "      <td>-0.002523</td>\n",
              "      <td>-0.003286</td>\n",
              "      <td>0.005085</td>\n",
              "      <td>-0.002911</td>\n",
              "      <td>0.003164</td>\n",
              "      <td>0.000701</td>\n",
              "      <td>-0.004702</td>\n",
              "      <td>-0.001973</td>\n",
              "      <td>0.002731</td>\n",
              "      <td>0.002147</td>\n",
              "    </tr>\n",
              "    <tr>\n",
              "      <th>Annual_Premium_Winzorized</th>\n",
              "      <td>-0.000327</td>\n",
              "      <td>1.000000</td>\n",
              "      <td>-0.035028</td>\n",
              "      <td>-0.005488</td>\n",
              "      <td>0.016278</td>\n",
              "      <td>-0.003781</td>\n",
              "      <td>0.003100</td>\n",
              "      <td>-0.023101</td>\n",
              "      <td>-0.034282</td>\n",
              "      <td>0.013191</td>\n",
              "      <td>0.025978</td>\n",
              "      <td>0.032374</td>\n",
              "      <td>-0.001270</td>\n",
              "    </tr>\n",
              "    <tr>\n",
              "      <th>Driving_License_1</th>\n",
              "      <td>0.001997</td>\n",
              "      <td>-0.035028</td>\n",
              "      <td>1.000000</td>\n",
              "      <td>0.003790</td>\n",
              "      <td>-0.207801</td>\n",
              "      <td>-0.090779</td>\n",
              "      <td>0.026948</td>\n",
              "      <td>0.228769</td>\n",
              "      <td>0.495390</td>\n",
              "      <td>-0.181666</td>\n",
              "      <td>-0.239369</td>\n",
              "      <td>-0.519569</td>\n",
              "      <td>-0.167470</td>\n",
              "    </tr>\n",
              "    <tr>\n",
              "      <th>Gender_Male</th>\n",
              "      <td>-0.002523</td>\n",
              "      <td>-0.005488</td>\n",
              "      <td>0.003790</td>\n",
              "      <td>1.000000</td>\n",
              "      <td>-0.006753</td>\n",
              "      <td>-0.001775</td>\n",
              "      <td>-0.001058</td>\n",
              "      <td>0.005661</td>\n",
              "      <td>0.003494</td>\n",
              "      <td>0.001171</td>\n",
              "      <td>-0.003744</td>\n",
              "      <td>-0.006477</td>\n",
              "      <td>0.000989</td>\n",
              "    </tr>\n",
              "    <tr>\n",
              "      <th>Policy_Sales_Channel</th>\n",
              "      <td>-0.003286</td>\n",
              "      <td>0.016278</td>\n",
              "      <td>-0.207801</td>\n",
              "      <td>-0.006753</td>\n",
              "      <td>1.000000</td>\n",
              "      <td>0.080682</td>\n",
              "      <td>0.016465</td>\n",
              "      <td>-0.588736</td>\n",
              "      <td>-0.341658</td>\n",
              "      <td>0.128924</td>\n",
              "      <td>0.595324</td>\n",
              "      <td>0.182061</td>\n",
              "      <td>0.033304</td>\n",
              "    </tr>\n",
              "    <tr>\n",
              "      <th>Previously_Insured_1</th>\n",
              "      <td>0.005085</td>\n",
              "      <td>-0.003781</td>\n",
              "      <td>-0.090779</td>\n",
              "      <td>-0.001775</td>\n",
              "      <td>0.080682</td>\n",
              "      <td>1.000000</td>\n",
              "      <td>-0.015677</td>\n",
              "      <td>-0.090274</td>\n",
              "      <td>-0.145536</td>\n",
              "      <td>0.049334</td>\n",
              "      <td>0.096432</td>\n",
              "      <td>0.131681</td>\n",
              "      <td>0.008915</td>\n",
              "    </tr>\n",
              "    <tr>\n",
              "      <th>Region_Code</th>\n",
              "      <td>-0.002911</td>\n",
              "      <td>0.003100</td>\n",
              "      <td>0.026948</td>\n",
              "      <td>-0.001058</td>\n",
              "      <td>0.016465</td>\n",
              "      <td>-0.015677</td>\n",
              "      <td>1.000000</td>\n",
              "      <td>0.000492</td>\n",
              "      <td>0.026392</td>\n",
              "      <td>-0.000294</td>\n",
              "      <td>-0.001779</td>\n",
              "      <td>-0.064070</td>\n",
              "      <td>-0.007420</td>\n",
              "    </tr>\n",
              "    <tr>\n",
              "      <th>Response</th>\n",
              "      <td>0.003164</td>\n",
              "      <td>-0.023101</td>\n",
              "      <td>0.228769</td>\n",
              "      <td>0.005661</td>\n",
              "      <td>-0.588736</td>\n",
              "      <td>-0.090274</td>\n",
              "      <td>0.000492</td>\n",
              "      <td>1.000000</td>\n",
              "      <td>0.403296</td>\n",
              "      <td>-0.161272</td>\n",
              "      <td>-0.853874</td>\n",
              "      <td>-0.261900</td>\n",
              "      <td>-0.010180</td>\n",
              "    </tr>\n",
              "    <tr>\n",
              "      <th>Vehicle_Age_&lt; 1 Year</th>\n",
              "      <td>0.000701</td>\n",
              "      <td>-0.034282</td>\n",
              "      <td>0.495390</td>\n",
              "      <td>0.003494</td>\n",
              "      <td>-0.341658</td>\n",
              "      <td>-0.145536</td>\n",
              "      <td>0.026392</td>\n",
              "      <td>0.403296</td>\n",
              "      <td>1.000000</td>\n",
              "      <td>-0.182579</td>\n",
              "      <td>-0.415373</td>\n",
              "      <td>-0.732124</td>\n",
              "      <td>-0.030455</td>\n",
              "    </tr>\n",
              "    <tr>\n",
              "      <th>Vehicle_Age_&gt; 2 Years</th>\n",
              "      <td>-0.004702</td>\n",
              "      <td>0.013191</td>\n",
              "      <td>-0.181666</td>\n",
              "      <td>0.001171</td>\n",
              "      <td>0.128924</td>\n",
              "      <td>0.049334</td>\n",
              "      <td>-0.000294</td>\n",
              "      <td>-0.161272</td>\n",
              "      <td>-0.182579</td>\n",
              "      <td>1.000000</td>\n",
              "      <td>0.173856</td>\n",
              "      <td>0.246683</td>\n",
              "      <td>0.101323</td>\n",
              "    </tr>\n",
              "    <tr>\n",
              "      <th>Vehicle_Damage_Yes</th>\n",
              "      <td>-0.001973</td>\n",
              "      <td>0.025978</td>\n",
              "      <td>-0.239369</td>\n",
              "      <td>-0.003744</td>\n",
              "      <td>0.595324</td>\n",
              "      <td>0.096432</td>\n",
              "      <td>-0.001779</td>\n",
              "      <td>-0.853874</td>\n",
              "      <td>-0.415373</td>\n",
              "      <td>0.173856</td>\n",
              "      <td>1.000000</td>\n",
              "      <td>0.276029</td>\n",
              "      <td>0.027007</td>\n",
              "    </tr>\n",
              "    <tr>\n",
              "      <th>Vintage</th>\n",
              "      <td>0.002731</td>\n",
              "      <td>0.032374</td>\n",
              "      <td>-0.519569</td>\n",
              "      <td>-0.006477</td>\n",
              "      <td>0.182061</td>\n",
              "      <td>0.131681</td>\n",
              "      <td>-0.064070</td>\n",
              "      <td>-0.261900</td>\n",
              "      <td>-0.732124</td>\n",
              "      <td>0.246683</td>\n",
              "      <td>0.276029</td>\n",
              "      <td>1.000000</td>\n",
              "      <td>0.092092</td>\n",
              "    </tr>\n",
              "    <tr>\n",
              "      <th>id</th>\n",
              "      <td>0.002147</td>\n",
              "      <td>-0.001270</td>\n",
              "      <td>-0.167470</td>\n",
              "      <td>0.000989</td>\n",
              "      <td>0.033304</td>\n",
              "      <td>0.008915</td>\n",
              "      <td>-0.007420</td>\n",
              "      <td>-0.010180</td>\n",
              "      <td>-0.030455</td>\n",
              "      <td>0.101323</td>\n",
              "      <td>0.027007</td>\n",
              "      <td>0.092092</td>\n",
              "      <td>1.000000</td>\n",
              "    </tr>\n",
              "  </tbody>\n",
              "</table>\n",
              "</div>"
            ],
            "text/plain": [
              "                           Age_Winzorized  ...        id\n",
              "Age_Winzorized                   1.000000  ...  0.002147\n",
              "Annual_Premium_Winzorized       -0.000327  ... -0.001270\n",
              "Driving_License_1                0.001997  ... -0.167470\n",
              "Gender_Male                     -0.002523  ...  0.000989\n",
              "Policy_Sales_Channel            -0.003286  ...  0.033304\n",
              "Previously_Insured_1             0.005085  ...  0.008915\n",
              "Region_Code                     -0.002911  ... -0.007420\n",
              "Response                         0.003164  ... -0.010180\n",
              "Vehicle_Age_< 1 Year             0.000701  ... -0.030455\n",
              "Vehicle_Age_> 2 Years           -0.004702  ...  0.101323\n",
              "Vehicle_Damage_Yes              -0.001973  ...  0.027007\n",
              "Vintage                          0.002731  ...  0.092092\n",
              "id                               0.002147  ...  1.000000\n",
              "\n",
              "[13 rows x 13 columns]"
            ]
          },
          "metadata": {},
          "execution_count": 26
        }
      ]
    },
    {
      "cell_type": "code",
      "metadata": {
        "id": "dsgTiMSSnBQ1"
      },
      "source": [
        "paletaColores = sns.diverging_palette(0, 100, sep = 10, as_cmap = False)"
      ],
      "execution_count": null,
      "outputs": []
    },
    {
      "cell_type": "code",
      "metadata": {
        "colab": {
          "base_uri": "https://localhost:8080/"
        },
        "id": "F1rsGW00mvtd",
        "outputId": "0b64472d-b26d-408f-be38-840c991e6db1"
      },
      "source": [
        "fig, ax = plt.subplots(nrows=1, ncols=1, figsize=(15, 15))\n",
        "sns.heatmap(\n",
        "    dfDummy_normalized.corr(),\n",
        "    annot     = True,\n",
        "    annot_kws = {\"size\": 12},\n",
        "    vmin      = -1,\n",
        "    vmax      = 1,\n",
        "    center    = 0,\n",
        "    cmap      = paletaColores,\n",
        "    square    = True,\n",
        "    ax        = ax\n",
        ").set_title(\"Mapa de correlación\", fontsize = 16)\n",
        "ax.set_xticklabels(\n",
        "    ax.get_xticklabels(),\n",
        "    rotation = 45,\n",
        "    horizontalalignment = 'right',\n",
        ")\n",
        "\n",
        "ax.tick_params(labelsize = 14)"
      ],
      "execution_count": null,
      "outputs": [
        {
          "output_type": "display_data",
          "data": {
            "image/png": "[encoded data removed]",
            "text/plain": [
              "<Figure size 1080x1080 with 2 Axes>"
            ]
          },
          "metadata": {}
        }
      ]
    },
    {
      "cell_type": "markdown",
      "metadata": {
        "id": "P2WsyCy2naG1"
      },
      "source": [
        "Consideramos una alta correlacion cuando el valor supera 0.68. Por otro lado, no tomamos en cuenta la variable \"Response\" por ser el target. Por lo tanto las correlaciones existentes son:\n",
        "\n",
        "*   Vintage --> Vehicle_Age_> 1 Years\n",
        "\n",
        "Dado a que Vehicle_Age_> 1 Years contiene menos correlacion con las demas variables, procedemos a eliminar Vintage para tener un cuadro menor de correlacion. Por otro lado, Vehicle_Age_> 1 Years tiene mas correlacion con Response (target), haciendolo mas relevante. \n",
        "\n"
      ]
    },
    {
      "cell_type": "markdown",
      "metadata": {
        "id": "nMDcLuEuOY3J"
      },
      "source": [
        "####\tEliminación de variables altamente correlacionadas"
      ]
    },
    {
      "cell_type": "code",
      "metadata": {
        "colab": {
          "base_uri": "https://localhost:8080/"
        },
        "id": "aajKGvVqpGmo",
        "outputId": "5d46ab3f-e5b3-4f36-a329-422ab4f1fcd8"
      },
      "source": [
        "df_sin_corr = dfDummy_normalized\n",
        "\n",
        "df_sin_corr = df_sin_corr.drop(columns=['Vintage'])\n",
        "\n",
        "df_sin_corr.corr()"
      ],
      "execution_count": null,
      "outputs": [
        {
          "output_type": "execute_result",
          "data": {
            "text/html": [
              "<div>\n",
              "<style scoped>\n",
              "    .dataframe tbody tr th:only-of-type {\n",
              "        vertical-align: middle;\n",
              "    }\n",
              "\n",
              "    .dataframe tbody tr th {\n",
              "        vertical-align: top;\n",
              "    }\n",
              "\n",
              "    .dataframe thead th {\n",
              "        text-align: right;\n",
              "    }\n",
              "</style>\n",
              "<table border=\"1\" class=\"dataframe\">\n",
              "  <thead>\n",
              "    <tr style=\"text-align: right;\">\n",
              "      <th></th>\n",
              "      <th>Age_Winzorized</th>\n",
              "      <th>Annual_Premium_Winzorized</th>\n",
              "      <th>Driving_License_1</th>\n",
              "      <th>Gender_Male</th>\n",
              "      <th>Policy_Sales_Channel</th>\n",
              "      <th>Previously_Insured_1</th>\n",
              "      <th>Region_Code</th>\n",
              "      <th>Response</th>\n",
              "      <th>Vehicle_Age_&lt; 1 Year</th>\n",
              "      <th>Vehicle_Age_&gt; 2 Years</th>\n",
              "      <th>Vehicle_Damage_Yes</th>\n",
              "      <th>id</th>\n",
              "    </tr>\n",
              "  </thead>\n",
              "  <tbody>\n",
              "    <tr>\n",
              "      <th>Age_Winzorized</th>\n",
              "      <td>1.000000</td>\n",
              "      <td>-0.000327</td>\n",
              "      <td>0.001997</td>\n",
              "      <td>-0.002523</td>\n",
              "      <td>-0.003286</td>\n",
              "      <td>0.005085</td>\n",
              "      <td>-0.002911</td>\n",
              "      <td>0.003164</td>\n",
              "      <td>0.000701</td>\n",
              "      <td>-0.004702</td>\n",
              "      <td>-0.001973</td>\n",
              "      <td>0.002147</td>\n",
              "    </tr>\n",
              "    <tr>\n",
              "      <th>Annual_Premium_Winzorized</th>\n",
              "      <td>-0.000327</td>\n",
              "      <td>1.000000</td>\n",
              "      <td>-0.035028</td>\n",
              "      <td>-0.005488</td>\n",
              "      <td>0.016278</td>\n",
              "      <td>-0.003781</td>\n",
              "      <td>0.003100</td>\n",
              "      <td>-0.023101</td>\n",
              "      <td>-0.034282</td>\n",
              "      <td>0.013191</td>\n",
              "      <td>0.025978</td>\n",
              "      <td>-0.001270</td>\n",
              "    </tr>\n",
              "    <tr>\n",
              "      <th>Driving_License_1</th>\n",
              "      <td>0.001997</td>\n",
              "      <td>-0.035028</td>\n",
              "      <td>1.000000</td>\n",
              "      <td>0.003790</td>\n",
              "      <td>-0.207801</td>\n",
              "      <td>-0.090779</td>\n",
              "      <td>0.026948</td>\n",
              "      <td>0.228769</td>\n",
              "      <td>0.495390</td>\n",
              "      <td>-0.181666</td>\n",
              "      <td>-0.239369</td>\n",
              "      <td>-0.167470</td>\n",
              "    </tr>\n",
              "    <tr>\n",
              "      <th>Gender_Male</th>\n",
              "      <td>-0.002523</td>\n",
              "      <td>-0.005488</td>\n",
              "      <td>0.003790</td>\n",
              "      <td>1.000000</td>\n",
              "      <td>-0.006753</td>\n",
              "      <td>-0.001775</td>\n",
              "      <td>-0.001058</td>\n",
              "      <td>0.005661</td>\n",
              "      <td>0.003494</td>\n",
              "      <td>0.001171</td>\n",
              "      <td>-0.003744</td>\n",
              "      <td>0.000989</td>\n",
              "    </tr>\n",
              "    <tr>\n",
              "      <th>Policy_Sales_Channel</th>\n",
              "      <td>-0.003286</td>\n",
              "      <td>0.016278</td>\n",
              "      <td>-0.207801</td>\n",
              "      <td>-0.006753</td>\n",
              "      <td>1.000000</td>\n",
              "      <td>0.080682</td>\n",
              "      <td>0.016465</td>\n",
              "      <td>-0.588736</td>\n",
              "      <td>-0.341658</td>\n",
              "      <td>0.128924</td>\n",
              "      <td>0.595324</td>\n",
              "      <td>0.033304</td>\n",
              "    </tr>\n",
              "    <tr>\n",
              "      <th>Previously_Insured_1</th>\n",
              "      <td>0.005085</td>\n",
              "      <td>-0.003781</td>\n",
              "      <td>-0.090779</td>\n",
              "      <td>-0.001775</td>\n",
              "      <td>0.080682</td>\n",
              "      <td>1.000000</td>\n",
              "      <td>-0.015677</td>\n",
              "      <td>-0.090274</td>\n",
              "      <td>-0.145536</td>\n",
              "      <td>0.049334</td>\n",
              "      <td>0.096432</td>\n",
              "      <td>0.008915</td>\n",
              "    </tr>\n",
              "    <tr>\n",
              "      <th>Region_Code</th>\n",
              "      <td>-0.002911</td>\n",
              "      <td>0.003100</td>\n",
              "      <td>0.026948</td>\n",
              "      <td>-0.001058</td>\n",
              "      <td>0.016465</td>\n",
              "      <td>-0.015677</td>\n",
              "      <td>1.000000</td>\n",
              "      <td>0.000492</td>\n",
              "      <td>0.026392</td>\n",
              "      <td>-0.000294</td>\n",
              "      <td>-0.001779</td>\n",
              "      <td>-0.007420</td>\n",
              "    </tr>\n",
              "    <tr>\n",
              "      <th>Response</th>\n",
              "      <td>0.003164</td>\n",
              "      <td>-0.023101</td>\n",
              "      <td>0.228769</td>\n",
              "      <td>0.005661</td>\n",
              "      <td>-0.588736</td>\n",
              "      <td>-0.090274</td>\n",
              "      <td>0.000492</td>\n",
              "      <td>1.000000</td>\n",
              "      <td>0.403296</td>\n",
              "      <td>-0.161272</td>\n",
              "      <td>-0.853874</td>\n",
              "      <td>-0.010180</td>\n",
              "    </tr>\n",
              "    <tr>\n",
              "      <th>Vehicle_Age_&lt; 1 Year</th>\n",
              "      <td>0.000701</td>\n",
              "      <td>-0.034282</td>\n",
              "      <td>0.495390</td>\n",
              "      <td>0.003494</td>\n",
              "      <td>-0.341658</td>\n",
              "      <td>-0.145536</td>\n",
              "      <td>0.026392</td>\n",
              "      <td>0.403296</td>\n",
              "      <td>1.000000</td>\n",
              "      <td>-0.182579</td>\n",
              "      <td>-0.415373</td>\n",
              "      <td>-0.030455</td>\n",
              "    </tr>\n",
              "    <tr>\n",
              "      <th>Vehicle_Age_&gt; 2 Years</th>\n",
              "      <td>-0.004702</td>\n",
              "      <td>0.013191</td>\n",
              "      <td>-0.181666</td>\n",
              "      <td>0.001171</td>\n",
              "      <td>0.128924</td>\n",
              "      <td>0.049334</td>\n",
              "      <td>-0.000294</td>\n",
              "      <td>-0.161272</td>\n",
              "      <td>-0.182579</td>\n",
              "      <td>1.000000</td>\n",
              "      <td>0.173856</td>\n",
              "      <td>0.101323</td>\n",
              "    </tr>\n",
              "    <tr>\n",
              "      <th>Vehicle_Damage_Yes</th>\n",
              "      <td>-0.001973</td>\n",
              "      <td>0.025978</td>\n",
              "      <td>-0.239369</td>\n",
              "      <td>-0.003744</td>\n",
              "      <td>0.595324</td>\n",
              "      <td>0.096432</td>\n",
              "      <td>-0.001779</td>\n",
              "      <td>-0.853874</td>\n",
              "      <td>-0.415373</td>\n",
              "      <td>0.173856</td>\n",
              "      <td>1.000000</td>\n",
              "      <td>0.027007</td>\n",
              "    </tr>\n",
              "    <tr>\n",
              "      <th>id</th>\n",
              "      <td>0.002147</td>\n",
              "      <td>-0.001270</td>\n",
              "      <td>-0.167470</td>\n",
              "      <td>0.000989</td>\n",
              "      <td>0.033304</td>\n",
              "      <td>0.008915</td>\n",
              "      <td>-0.007420</td>\n",
              "      <td>-0.010180</td>\n",
              "      <td>-0.030455</td>\n",
              "      <td>0.101323</td>\n",
              "      <td>0.027007</td>\n",
              "      <td>1.000000</td>\n",
              "    </tr>\n",
              "  </tbody>\n",
              "</table>\n",
              "</div>"
            ],
            "text/plain": [
              "                           Age_Winzorized  ...        id\n",
              "Age_Winzorized                   1.000000  ...  0.002147\n",
              "Annual_Premium_Winzorized       -0.000327  ... -0.001270\n",
              "Driving_License_1                0.001997  ... -0.167470\n",
              "Gender_Male                     -0.002523  ...  0.000989\n",
              "Policy_Sales_Channel            -0.003286  ...  0.033304\n",
              "Previously_Insured_1             0.005085  ...  0.008915\n",
              "Region_Code                     -0.002911  ... -0.007420\n",
              "Response                         0.003164  ... -0.010180\n",
              "Vehicle_Age_< 1 Year             0.000701  ... -0.030455\n",
              "Vehicle_Age_> 2 Years           -0.004702  ...  0.101323\n",
              "Vehicle_Damage_Yes              -0.001973  ...  0.027007\n",
              "id                               0.002147  ...  1.000000\n",
              "\n",
              "[12 rows x 12 columns]"
            ]
          },
          "metadata": {},
          "execution_count": 29
        }
      ]
    },
    {
      "cell_type": "code",
      "metadata": {
        "colab": {
          "base_uri": "https://localhost:8080/"
        },
        "id": "OdRge8LPpXxC",
        "outputId": "57ee619b-ffc4-4cb9-cba3-d23682a28e34"
      },
      "source": [
        "fig, ax = plt.subplots(nrows=1, ncols=1, figsize=(15, 15))\n",
        "sns.heatmap(\n",
        "    df_sin_corr.corr(),\n",
        "    annot     = True,\n",
        "    annot_kws = {\"size\": 12},\n",
        "    vmin      = -1,\n",
        "    vmax      = 1,\n",
        "    center    = 0,\n",
        "    cmap      = paletaColores,\n",
        "    square    = True,\n",
        "    ax        = ax\n",
        ").set_title(\"Nuevo Mapa de correlación\", fontsize = 16)\n",
        "ax.set_xticklabels(\n",
        "    ax.get_xticklabels(),\n",
        "    rotation = 45,\n",
        "    horizontalalignment = 'right',\n",
        ")\n",
        "\n",
        "ax.tick_params(labelsize = 14)"
      ],
      "execution_count": null,
      "outputs": [
        {
          "output_type": "display_data",
          "data": {
            "image/png": "[encoded data removed]",
            "text/plain": [
              "<Figure size 1080x1080 with 2 Axes>"
            ]
          },
          "metadata": {}
        }
      ]
    },
    {
      "cell_type": "markdown",
      "metadata": {
        "id": "orEigA6n_2Xt"
      },
      "source": [
        "## Implementación de Modelos"
      ]
    },
    {
      "cell_type": "markdown",
      "metadata": {
        "id": "H67dhp_HAESp"
      },
      "source": [
        "En primer lugar separamos el target del dataframe. "
      ]
    },
    {
      "cell_type": "code",
      "metadata": {
        "id": "gP3k9ezUALXY"
      },
      "source": [
        "data = df_sin_corr.drop(columns = \"Response\")\n",
        "targets = df_sin_corr[\"Response\"]\n",
        "x = data\n",
        "y = targets"
      ],
      "execution_count": null,
      "outputs": []
    },
    {
      "cell_type": "markdown",
      "metadata": {
        "id": "Ej8OZzv_Bz5Z"
      },
      "source": [
        "Luego, hacemos la Partición en train y test"
      ]
    },
    {
      "cell_type": "code",
      "metadata": {
        "id": "8OtQdUpmB_Tp"
      },
      "source": [
        "X_train, X_test, y_train, y_test = train_test_split(x, y, test_size = 0.30, random_state = 42)"
      ],
      "execution_count": null,
      "outputs": []
    },
    {
      "cell_type": "markdown",
      "metadata": {
        "id": "o2VSJD0PECtY"
      },
      "source": [
        "### Definicion de Modelos"
      ]
    },
    {
      "cell_type": "code",
      "metadata": {
        "id": "_hXk5nc8Ll_F"
      },
      "source": [
        "from sklearn.tree import DecisionTreeClassifier\n",
        "from sklearn.linear_model import LogisticRegression\n",
        "from sklearn.ensemble import BaggingClassifier\n",
        "from sklearn.ensemble import RandomForestClassifier\n",
        "from sklearn.ensemble import GradientBoostingClassifier"
      ],
      "execution_count": null,
      "outputs": []
    },
    {
      "cell_type": "code",
      "metadata": {
        "id": "awrzs9zfQZT-"
      },
      "source": [
        "decisionTree = DecisionTreeClassifier()\n",
        "logisticRegression = LogisticRegression()\n",
        "bagging = BaggingClassifier()\n",
        "randomForest = RandomForestClassifier()\n",
        "gradientBoosting = GradientBoostingClassifier()"
      ],
      "execution_count": null,
      "outputs": []
    },
    {
      "cell_type": "markdown",
      "metadata": {
        "id": "yM5Nd8FDCJmm"
      },
      "source": [
        "### Declaración de Parametros"
      ]
    },
    {
      "cell_type": "code",
      "metadata": {
        "id": "OOd7WjTMDZx5"
      },
      "source": [
        "parametersTree = {\n",
        "    \"criterion\" : ['entropy', 'gini'],\n",
        "    \"max_depth\":[None,5,10,15,20],\n",
        "    \"min_samples_leaf\":[None,1,2,4,8],\n",
        "    \"min_samples_split\":[None,1,2,4,8],\n",
        "    \"random_state\":[42],}\n",
        "\n",
        "parametersLogisticRegression = {\n",
        "    \"penalty\" : ['l1','l2'],\n",
        "    \"C\":[0.1, 0.3, 0.5, 0.8, 1.0],\n",
        "    \"max_iter\":[10,50,80, 100],\n",
        "    \"solver\" : ['newton-cg', 'lbfgs', 'liblinear', 'sag', 'saga'],\n",
        "    \"random_state\": [42]}\n",
        "\n",
        "parametersBagging = {\n",
        "    \"n_estimators\":[100, 200, 500, 800],\n",
        "    \"max_samples\":[200,500,800,1000],\n",
        "    \"random_state\": [42]}\n",
        "\n",
        "parametersRandomForest = {\n",
        "    \"n_estimators\":[100, 200],\n",
        "    \"criterion\": ['gini', 'entropy'],\n",
        "    \"max_depth\":[10,15],\n",
        "    \"min_samples_split\" : [2,4],\n",
        "    \"min_samples_leaf\" : [2,4],\n",
        "    \"max_samples\":[200,250],\n",
        "    \"max_features\": [2,4],\n",
        "    \"random_state\": [42]}\n",
        "\n",
        "parametersGradientBoosting = {\n",
        "    \"learning_rate\": [0.001,0.003, 0.008],\n",
        "    \"max_depth\":[3,5],\n",
        "    \"subsample\" : [0.9,0.5],\n",
        "    \"min_samples_leaf\" : [2,4],\n",
        "    \"min_samples_split\" : [2,5,10],\n",
        "    \"random_state\": [42]}    \n",
        "\n",
        "\n",
        "\n"
      ],
      "execution_count": null,
      "outputs": []
    },
    {
      "cell_type": "markdown",
      "metadata": {
        "id": "nva9RRKLDGu9"
      },
      "source": [
        "### Busqueda de Mejores Parametros para cada modelo "
      ]
    },
    {
      "cell_type": "code",
      "metadata": {
        "id": "GgZIw6lgQvud"
      },
      "source": [
        "from sklearn.model_selection import GridSearchCV"
      ],
      "execution_count": null,
      "outputs": []
    },
    {
      "cell_type": "markdown",
      "metadata": {
        "id": "AhHWAI2ckUVa"
      },
      "source": [
        "#### Decision Tree"
      ]
    },
    {
      "cell_type": "code",
      "metadata": {
        "id": "m8rYxKxbDjEd"
      },
      "source": [
        "gridTree = GridSearchCV(decisionTree,\n",
        "                  parametersTree,\n",
        "                  scoring='accuracy',\n",
        "                  cv=5,\n",
        "                  return_train_score=True,\n",
        "                  verbose=1)"
      ],
      "execution_count": null,
      "outputs": []
    },
    {
      "cell_type": "code",
      "metadata": {
        "id": "y4T7oRMODk-B",
        "colab": {
          "base_uri": "https://localhost:8080/"
        },
        "outputId": "dd52e7c9-056f-42be-d983-1d73303eb4d1"
      },
      "source": [
        "gridTree.fit(X_train,y_train)"
      ],
      "execution_count": null,
      "outputs": [
        {
          "output_type": "stream",
          "name": "stdout",
          "text": [
            "Fitting 5 folds for each of 250 candidates, totalling 1250 fits\n"
          ]
        },
        {
          "output_type": "stream",
          "name": "stderr",
          "text": [
            "/usr/local/lib/python3.7/dist-packages/sklearn/model_selection/_validation.py:372: FitFailedWarning: \n",
            "650 fits failed out of a total of 1250.\n",
            "The score on these train-test partitions for these parameters will be set to nan.\n",
            "If these failures are not expected, you can try to debug them by setting error_score='raise'.\n",
            "\n",
            "Below are more details about the failures:\n",
            "--------------------------------------------------------------------------------\n",
            "250 fits failed with the following error:\n",
            "Traceback (most recent call last):\n",
            "  File \"/usr/local/lib/python3.7/dist-packages/sklearn/model_selection/_validation.py\", line 681, in _fit_and_score\n",
            "    estimator.fit(X_train, y_train, **fit_params)\n",
            "  File \"/usr/local/lib/python3.7/dist-packages/sklearn/tree/_classes.py\", line 942, in fit\n",
            "    X_idx_sorted=X_idx_sorted,\n",
            "  File \"/usr/local/lib/python3.7/dist-packages/sklearn/tree/_classes.py\", line 241, in fit\n",
            "    if not 0.0 < self.min_samples_leaf <= 0.5:\n",
            "TypeError: '<' not supported between instances of 'float' and 'NoneType'\n",
            "\n",
            "--------------------------------------------------------------------------------\n",
            "200 fits failed with the following error:\n",
            "Traceback (most recent call last):\n",
            "  File \"/usr/local/lib/python3.7/dist-packages/sklearn/model_selection/_validation.py\", line 681, in _fit_and_score\n",
            "    estimator.fit(X_train, y_train, **fit_params)\n",
            "  File \"/usr/local/lib/python3.7/dist-packages/sklearn/tree/_classes.py\", line 942, in fit\n",
            "    X_idx_sorted=X_idx_sorted,\n",
            "  File \"/usr/local/lib/python3.7/dist-packages/sklearn/tree/_classes.py\", line 258, in fit\n",
            "    if not 0.0 < self.min_samples_split <= 1.0:\n",
            "TypeError: '<' not supported between instances of 'float' and 'NoneType'\n",
            "\n",
            "--------------------------------------------------------------------------------\n",
            "200 fits failed with the following error:\n",
            "Traceback (most recent call last):\n",
            "  File \"/usr/local/lib/python3.7/dist-packages/sklearn/model_selection/_validation.py\", line 681, in _fit_and_score\n",
            "    estimator.fit(X_train, y_train, **fit_params)\n",
            "  File \"/usr/local/lib/python3.7/dist-packages/sklearn/tree/_classes.py\", line 942, in fit\n",
            "    X_idx_sorted=X_idx_sorted,\n",
            "  File \"/usr/local/lib/python3.7/dist-packages/sklearn/tree/_classes.py\", line 254, in fit\n",
            "    % self.min_samples_split\n",
            "ValueError: min_samples_split must be an integer greater than 1 or a float in (0.0, 1.0]; got the integer 1\n",
            "\n",
            "  warnings.warn(some_fits_failed_message, FitFailedWarning)\n",
            "/usr/local/lib/python3.7/dist-packages/sklearn/model_selection/_search.py:972: UserWarning: One or more of the test scores are non-finite: [       nan        nan        nan        nan        nan        nan\n",
            "        nan 0.91214647 0.91194867 0.91470264        nan        nan\n",
            " 0.91097487 0.91097487 0.9163307         nan        nan 0.91897818\n",
            " 0.91897818 0.91897818        nan        nan 0.9351825  0.9351825\n",
            " 0.9351825         nan        nan        nan        nan        nan\n",
            "        nan        nan 0.95050438 0.95055003 0.95056524        nan\n",
            "        nan 0.95061089 0.95061089 0.95059567        nan        nan\n",
            " 0.95048917 0.95048917 0.95048917        nan        nan 0.95065654\n",
            " 0.95065654 0.95065654        nan        nan        nan        nan\n",
            "        nan        nan        nan 0.9485416  0.94855681 0.94866333\n",
            "        nan        nan 0.94875462 0.94875462 0.94881549        nan\n",
            "        nan 0.94854162 0.94854162 0.94854162        nan        nan\n",
            " 0.94959147 0.94959147 0.94959147        nan        nan        nan\n",
            "        nan        nan        nan        nan 0.94111653 0.94135998\n",
            " 0.94143606        nan        nan 0.94116218 0.94116218 0.94131433\n",
            "        nan        nan 0.94155774 0.94155774 0.94155774        nan\n",
            "        nan 0.94496597 0.94496597 0.94496597        nan        nan\n",
            "        nan        nan        nan        nan        nan 0.93159174\n",
            " 0.93192647 0.93276332        nan        nan 0.93054185 0.93054185\n",
            " 0.93251987        nan        nan 0.93337188 0.93337188 0.93337188\n",
            "        nan        nan 0.9407209  0.9407209  0.9407209         nan\n",
            "        nan        nan        nan        nan        nan        nan\n",
            " 0.91199427 0.91217685 0.91675669        nan        nan 0.91292243\n",
            " 0.91292243 0.91861296        nan        nan 0.92256896 0.92256896\n",
            " 0.92256896        nan        nan 0.93719092 0.93719092 0.93719092\n",
            "        nan        nan        nan        nan        nan        nan\n",
            "        nan 0.95041309 0.95044352 0.9504283         nan        nan\n",
            " 0.95048916 0.95048916 0.95047395        nan        nan 0.9506261\n",
            " 0.9506261  0.9506261         nan        nan 0.95064132 0.95064132\n",
            " 0.95064132        nan        nan        nan        nan        nan\n",
            "        nan        nan 0.94761346 0.94756783 0.94778084        nan\n",
            "        nan 0.94758304 0.94758304 0.94790256        nan        nan\n",
            " 0.94817644 0.94817644 0.94817644        nan        nan 0.94887634\n",
            " 0.94887634 0.94887634        nan        nan        nan        nan\n",
            "        nan        nan        nan 0.93985363 0.94047745 0.94090347\n",
            "        nan        nan 0.94072091 0.94072091 0.94114693        nan\n",
            "        nan 0.94151213 0.94151213 0.94151213        nan        nan\n",
            " 0.94569631 0.94569631 0.94569631        nan        nan        nan\n",
            "        nan        nan        nan        nan 0.92940066 0.92943111\n",
            " 0.93154602        nan        nan 0.93078528 0.93078528 0.93271761\n",
            "        nan        nan 0.93370667 0.93370667 0.93370667        nan\n",
            "        nan 0.94207508 0.94207508 0.94207508]\n",
            "  category=UserWarning,\n",
            "/usr/local/lib/python3.7/dist-packages/sklearn/model_selection/_search.py:972: UserWarning: One or more of the train scores are non-finite: [       nan        nan        nan        nan        nan        nan\n",
            "        nan 1.         0.99282975 0.98103784        nan        nan\n",
            " 0.98333536 0.98333536 0.97410344        nan        nan 0.96656802\n",
            " 0.96656802 0.96656802        nan        nan 0.95628623 0.95628623\n",
            " 0.95628623        nan        nan        nan        nan        nan\n",
            "        nan        nan 0.95080489 0.95078587 0.95072882        nan\n",
            "        nan 0.95076685 0.95076685 0.95070599        nan        nan\n",
            " 0.95069078 0.95069078 0.95069078        nan        nan 0.95065654\n",
            " 0.95065654 0.95065654        nan        nan        nan        nan\n",
            "        nan        nan        nan 0.95390503 0.95369201 0.95332304\n",
            "        nan        nan 0.95325837 0.95325837 0.95292744        nan\n",
            "        nan 0.95257748 0.95257748 0.95257748        nan        nan\n",
            " 0.95214004 0.95214004 0.95214004        nan        nan        nan\n",
            "        nan        nan        nan        nan 0.96258159 0.96151271\n",
            " 0.95943201        nan        nan 0.95987706 0.95987706 0.95810447\n",
            "        nan        nan 0.95663999 0.95663999 0.95663999        nan\n",
            "        nan 0.95376809 0.95376809 0.95376809        nan        nan\n",
            "        nan        nan        nan        nan        nan 0.97439253\n",
            " 0.97177549 0.96679245        nan        nan 0.96826834 0.96826834\n",
            " 0.96409933        nan        nan 0.96062642 0.96062642 0.96062642\n",
            "        nan        nan 0.95499292 0.95499292 0.95499292        nan\n",
            "        nan        nan        nan        nan        nan        nan\n",
            " 1.         0.99012141 0.97826484        nan        nan 0.97949348\n",
            " 0.97949348 0.97036426        nan        nan 0.96462806 0.96462806\n",
            " 0.96462806        nan        nan 0.95558632 0.95558632 0.95558632\n",
            "        nan        nan        nan        nan        nan        nan\n",
            "        nan 0.95083152 0.95080109 0.95075164        nan        nan\n",
            " 0.95078587 0.95078587 0.95072121        nan        nan 0.95067937\n",
            " 0.95067937 0.95067937        nan        nan 0.95066415 0.95066415\n",
            " 0.95066415        nan        nan        nan        nan        nan\n",
            "        nan        nan 0.95454787 0.95423596 0.95371864        nan\n",
            "        nan 0.9537795  0.9537795  0.95331543        nan        nan\n",
            " 0.95292363 0.95292363 0.95292363        nan        nan 0.95216286\n",
            " 0.95216286 0.95216286        nan        nan        nan        nan\n",
            "        nan        nan        nan 0.96419062 0.96238379 0.95995694\n",
            "        nan        nan 0.96053132 0.96053132 0.95821478        nan\n",
            "        nan 0.95678073 0.95678073 0.95678073        nan        nan\n",
            " 0.95354366 0.95354366 0.95354366        nan        nan        nan\n",
            "        nan        nan        nan        nan 0.97726443 0.97272264\n",
            " 0.96727934        nan        nan 0.96808195 0.96808195 0.96342985\n",
            "        nan        nan 0.96019278 0.96019278 0.96019278        nan\n",
            "        nan 0.9545745  0.9545745  0.9545745 ]\n",
            "  category=UserWarning,\n"
          ]
        },
        {
          "output_type": "execute_result",
          "data": {
            "text/plain": [
              "GridSearchCV(cv=5, estimator=DecisionTreeClassifier(),\n",
              "             param_grid={'criterion': ['entropy', 'gini'],\n",
              "                         'max_depth': [None, 5, 10, 15, 20],\n",
              "                         'min_samples_leaf': [None, 1, 2, 4, 8],\n",
              "                         'min_samples_split': [None, 1, 2, 4, 8],\n",
              "                         'random_state': [42]},\n",
              "             return_train_score=True, scoring='accuracy', verbose=1)"
            ]
          },
          "metadata": {},
          "execution_count": 38
        }
      ]
    },
    {
      "cell_type": "code",
      "metadata": {
        "colab": {
          "base_uri": "https://localhost:8080/"
        },
        "id": "sQ47BedClH9l",
        "outputId": "0f17aa85-d128-4df1-83af-0666feba57b3"
      },
      "source": [
        "gridTree.best_params_"
      ],
      "execution_count": null,
      "outputs": [
        {
          "output_type": "execute_result",
          "data": {
            "text/plain": [
              "{'criterion': 'entropy',\n",
              " 'max_depth': 5,\n",
              " 'min_samples_leaf': 8,\n",
              " 'min_samples_split': 2,\n",
              " 'random_state': 42}"
            ]
          },
          "metadata": {},
          "execution_count": 39
        }
      ]
    },
    {
      "cell_type": "markdown",
      "metadata": {
        "id": "bH5IhzfzkRst"
      },
      "source": [
        "#### Logistic Regression"
      ]
    },
    {
      "cell_type": "code",
      "metadata": {
        "id": "9VYjc67-klKv"
      },
      "source": [
        "gridLogisticRegression = GridSearchCV(logisticRegression,\n",
        "                  parametersLogisticRegression,\n",
        "                  scoring='accuracy',\n",
        "                  cv=5,\n",
        "                  return_train_score=True,\n",
        "                  verbose=1)"
      ],
      "execution_count": null,
      "outputs": []
    },
    {
      "cell_type": "code",
      "metadata": {
        "colab": {
          "base_uri": "https://localhost:8080/"
        },
        "id": "KBLTBbcAk7es",
        "outputId": "53249c4a-f8e9-49e2-9f8d-42e35a3d4a31"
      },
      "source": [
        "gridLogisticRegression.fit(X_train,y_train)"
      ],
      "execution_count": null,
      "outputs": [
        {
          "output_type": "stream",
          "name": "stdout",
          "text": [
            "Fitting 5 folds for each of 200 candidates, totalling 1000 fits\n"
          ]
        },
        {
          "output_type": "stream",
          "name": "stderr",
          "text": [
            "/usr/local/lib/python3.7/dist-packages/sklearn/svm/_base.py:1208: ConvergenceWarning: Liblinear failed to converge, increase the number of iterations.\n",
            "  ConvergenceWarning,\n",
            "/usr/local/lib/python3.7/dist-packages/sklearn/svm/_base.py:1208: ConvergenceWarning: Liblinear failed to converge, increase the number of iterations.\n",
            "  ConvergenceWarning,\n",
            "/usr/local/lib/python3.7/dist-packages/sklearn/svm/_base.py:1208: ConvergenceWarning: Liblinear failed to converge, increase the number of iterations.\n",
            "  ConvergenceWarning,\n",
            "/usr/local/lib/python3.7/dist-packages/sklearn/svm/_base.py:1208: ConvergenceWarning: Liblinear failed to converge, increase the number of iterations.\n",
            "  ConvergenceWarning,\n",
            "/usr/local/lib/python3.7/dist-packages/sklearn/svm/_base.py:1208: ConvergenceWarning: Liblinear failed to converge, increase the number of iterations.\n",
            "  ConvergenceWarning,\n",
            "/usr/local/lib/python3.7/dist-packages/sklearn/linear_model/_sag.py:354: ConvergenceWarning: The max_iter was reached which means the coef_ did not converge\n",
            "  ConvergenceWarning,\n",
            "/usr/local/lib/python3.7/dist-packages/sklearn/linear_model/_sag.py:354: ConvergenceWarning: The max_iter was reached which means the coef_ did not converge\n",
            "  ConvergenceWarning,\n",
            "/usr/local/lib/python3.7/dist-packages/sklearn/linear_model/_sag.py:354: ConvergenceWarning: The max_iter was reached which means the coef_ did not converge\n",
            "  ConvergenceWarning,\n",
            "/usr/local/lib/python3.7/dist-packages/sklearn/linear_model/_sag.py:354: ConvergenceWarning: The max_iter was reached which means the coef_ did not converge\n",
            "  ConvergenceWarning,\n",
            "/usr/local/lib/python3.7/dist-packages/sklearn/linear_model/_sag.py:354: ConvergenceWarning: The max_iter was reached which means the coef_ did not converge\n",
            "  ConvergenceWarning,\n",
            "/usr/local/lib/python3.7/dist-packages/sklearn/utils/optimize.py:212: ConvergenceWarning: newton-cg failed to converge. Increase the number of iterations.\n",
            "  ConvergenceWarning,\n",
            "/usr/local/lib/python3.7/dist-packages/sklearn/utils/optimize.py:212: ConvergenceWarning: newton-cg failed to converge. Increase the number of iterations.\n",
            "  ConvergenceWarning,\n",
            "/usr/local/lib/python3.7/dist-packages/sklearn/utils/optimize.py:212: ConvergenceWarning: newton-cg failed to converge. Increase the number of iterations.\n",
            "  ConvergenceWarning,\n",
            "/usr/local/lib/python3.7/dist-packages/sklearn/utils/optimize.py:212: ConvergenceWarning: newton-cg failed to converge. Increase the number of iterations.\n",
            "  ConvergenceWarning,\n",
            "/usr/local/lib/python3.7/dist-packages/sklearn/utils/optimize.py:212: ConvergenceWarning: newton-cg failed to converge. Increase the number of iterations.\n",
            "  ConvergenceWarning,\n",
            "/usr/local/lib/python3.7/dist-packages/sklearn/linear_model/_logistic.py:818: ConvergenceWarning: lbfgs failed to converge (status=1):\n",
            "STOP: TOTAL NO. of ITERATIONS REACHED LIMIT.\n",
            "\n",
            "Increase the number of iterations (max_iter) or scale the data as shown in:\n",
            "    https://scikit-learn.org/stable/modules/preprocessing.html\n",
            "Please also refer to the documentation for alternative solver options:\n",
            "    https://scikit-learn.org/stable/modules/linear_model.html#logistic-regression\n",
            "  extra_warning_msg=_LOGISTIC_SOLVER_CONVERGENCE_MSG,\n",
            "/usr/local/lib/python3.7/dist-packages/sklearn/linear_model/_logistic.py:818: ConvergenceWarning: lbfgs failed to converge (status=1):\n",
            "STOP: TOTAL NO. of ITERATIONS REACHED LIMIT.\n",
            "\n",
            "Increase the number of iterations (max_iter) or scale the data as shown in:\n",
            "    https://scikit-learn.org/stable/modules/preprocessing.html\n",
            "Please also refer to the documentation for alternative solver options:\n",
            "    https://scikit-learn.org/stable/modules/linear_model.html#logistic-regression\n",
            "  extra_warning_msg=_LOGISTIC_SOLVER_CONVERGENCE_MSG,\n",
            "/usr/local/lib/python3.7/dist-packages/sklearn/linear_model/_logistic.py:818: ConvergenceWarning: lbfgs failed to converge (status=1):\n",
            "STOP: TOTAL NO. of ITERATIONS REACHED LIMIT.\n",
            "\n",
            "Increase the number of iterations (max_iter) or scale the data as shown in:\n",
            "    https://scikit-learn.org/stable/modules/preprocessing.html\n",
            "Please also refer to the documentation for alternative solver options:\n",
            "    https://scikit-learn.org/stable/modules/linear_model.html#logistic-regression\n",
            "  extra_warning_msg=_LOGISTIC_SOLVER_CONVERGENCE_MSG,\n",
            "/usr/local/lib/python3.7/dist-packages/sklearn/linear_model/_logistic.py:818: ConvergenceWarning: lbfgs failed to converge (status=1):\n",
            "STOP: TOTAL NO. of ITERATIONS REACHED LIMIT.\n",
            "\n",
            "Increase the number of iterations (max_iter) or scale the data as shown in:\n",
            "    https://scikit-learn.org/stable/modules/preprocessing.html\n",
            "Please also refer to the documentation for alternative solver options:\n",
            "    https://scikit-learn.org/stable/modules/linear_model.html#logistic-regression\n",
            "  extra_warning_msg=_LOGISTIC_SOLVER_CONVERGENCE_MSG,\n",
            "/usr/local/lib/python3.7/dist-packages/sklearn/linear_model/_logistic.py:818: ConvergenceWarning: lbfgs failed to converge (status=1):\n",
            "STOP: TOTAL NO. of ITERATIONS REACHED LIMIT.\n",
            "\n",
            "Increase the number of iterations (max_iter) or scale the data as shown in:\n",
            "    https://scikit-learn.org/stable/modules/preprocessing.html\n",
            "Please also refer to the documentation for alternative solver options:\n",
            "    https://scikit-learn.org/stable/modules/linear_model.html#logistic-regression\n",
            "  extra_warning_msg=_LOGISTIC_SOLVER_CONVERGENCE_MSG,\n",
            "/usr/local/lib/python3.7/dist-packages/sklearn/linear_model/_sag.py:354: ConvergenceWarning: The max_iter was reached which means the coef_ did not converge\n",
            "  ConvergenceWarning,\n",
            "/usr/local/lib/python3.7/dist-packages/sklearn/linear_model/_sag.py:354: ConvergenceWarning: The max_iter was reached which means the coef_ did not converge\n",
            "  ConvergenceWarning,\n",
            "/usr/local/lib/python3.7/dist-packages/sklearn/linear_model/_sag.py:354: ConvergenceWarning: The max_iter was reached which means the coef_ did not converge\n",
            "  ConvergenceWarning,\n",
            "/usr/local/lib/python3.7/dist-packages/sklearn/linear_model/_sag.py:354: ConvergenceWarning: The max_iter was reached which means the coef_ did not converge\n",
            "  ConvergenceWarning,\n",
            "/usr/local/lib/python3.7/dist-packages/sklearn/linear_model/_sag.py:354: ConvergenceWarning: The max_iter was reached which means the coef_ did not converge\n",
            "  ConvergenceWarning,\n",
            "/usr/local/lib/python3.7/dist-packages/sklearn/linear_model/_sag.py:354: ConvergenceWarning: The max_iter was reached which means the coef_ did not converge\n",
            "  ConvergenceWarning,\n",
            "/usr/local/lib/python3.7/dist-packages/sklearn/linear_model/_sag.py:354: ConvergenceWarning: The max_iter was reached which means the coef_ did not converge\n",
            "  ConvergenceWarning,\n",
            "/usr/local/lib/python3.7/dist-packages/sklearn/linear_model/_sag.py:354: ConvergenceWarning: The max_iter was reached which means the coef_ did not converge\n",
            "  ConvergenceWarning,\n",
            "/usr/local/lib/python3.7/dist-packages/sklearn/linear_model/_sag.py:354: ConvergenceWarning: The max_iter was reached which means the coef_ did not converge\n",
            "  ConvergenceWarning,\n",
            "/usr/local/lib/python3.7/dist-packages/sklearn/linear_model/_sag.py:354: ConvergenceWarning: The max_iter was reached which means the coef_ did not converge\n",
            "  ConvergenceWarning,\n",
            "/usr/local/lib/python3.7/dist-packages/sklearn/svm/_base.py:1208: ConvergenceWarning: Liblinear failed to converge, increase the number of iterations.\n",
            "  ConvergenceWarning,\n",
            "/usr/local/lib/python3.7/dist-packages/sklearn/svm/_base.py:1208: ConvergenceWarning: Liblinear failed to converge, increase the number of iterations.\n",
            "  ConvergenceWarning,\n",
            "/usr/local/lib/python3.7/dist-packages/sklearn/svm/_base.py:1208: ConvergenceWarning: Liblinear failed to converge, increase the number of iterations.\n",
            "  ConvergenceWarning,\n",
            "/usr/local/lib/python3.7/dist-packages/sklearn/svm/_base.py:1208: ConvergenceWarning: Liblinear failed to converge, increase the number of iterations.\n",
            "  ConvergenceWarning,\n",
            "/usr/local/lib/python3.7/dist-packages/sklearn/svm/_base.py:1208: ConvergenceWarning: Liblinear failed to converge, increase the number of iterations.\n",
            "  ConvergenceWarning,\n",
            "/usr/local/lib/python3.7/dist-packages/sklearn/linear_model/_sag.py:354: ConvergenceWarning: The max_iter was reached which means the coef_ did not converge\n",
            "  ConvergenceWarning,\n",
            "/usr/local/lib/python3.7/dist-packages/sklearn/linear_model/_sag.py:354: ConvergenceWarning: The max_iter was reached which means the coef_ did not converge\n",
            "  ConvergenceWarning,\n",
            "/usr/local/lib/python3.7/dist-packages/sklearn/linear_model/_sag.py:354: ConvergenceWarning: The max_iter was reached which means the coef_ did not converge\n",
            "  ConvergenceWarning,\n",
            "/usr/local/lib/python3.7/dist-packages/sklearn/linear_model/_sag.py:354: ConvergenceWarning: The max_iter was reached which means the coef_ did not converge\n",
            "  ConvergenceWarning,\n",
            "/usr/local/lib/python3.7/dist-packages/sklearn/linear_model/_sag.py:354: ConvergenceWarning: The max_iter was reached which means the coef_ did not converge\n",
            "  ConvergenceWarning,\n",
            "/usr/local/lib/python3.7/dist-packages/sklearn/utils/optimize.py:212: ConvergenceWarning: newton-cg failed to converge. Increase the number of iterations.\n",
            "  ConvergenceWarning,\n",
            "/usr/local/lib/python3.7/dist-packages/sklearn/utils/optimize.py:212: ConvergenceWarning: newton-cg failed to converge. Increase the number of iterations.\n",
            "  ConvergenceWarning,\n",
            "/usr/local/lib/python3.7/dist-packages/sklearn/utils/optimize.py:212: ConvergenceWarning: newton-cg failed to converge. Increase the number of iterations.\n",
            "  ConvergenceWarning,\n",
            "/usr/local/lib/python3.7/dist-packages/sklearn/utils/optimize.py:212: ConvergenceWarning: newton-cg failed to converge. Increase the number of iterations.\n",
            "  ConvergenceWarning,\n",
            "/usr/local/lib/python3.7/dist-packages/sklearn/utils/optimize.py:212: ConvergenceWarning: newton-cg failed to converge. Increase the number of iterations.\n",
            "  ConvergenceWarning,\n",
            "/usr/local/lib/python3.7/dist-packages/sklearn/linear_model/_logistic.py:818: ConvergenceWarning: lbfgs failed to converge (status=1):\n",
            "STOP: TOTAL NO. of ITERATIONS REACHED LIMIT.\n",
            "\n",
            "Increase the number of iterations (max_iter) or scale the data as shown in:\n",
            "    https://scikit-learn.org/stable/modules/preprocessing.html\n",
            "Please also refer to the documentation for alternative solver options:\n",
            "    https://scikit-learn.org/stable/modules/linear_model.html#logistic-regression\n",
            "  extra_warning_msg=_LOGISTIC_SOLVER_CONVERGENCE_MSG,\n",
            "/usr/local/lib/python3.7/dist-packages/sklearn/linear_model/_logistic.py:818: ConvergenceWarning: lbfgs failed to converge (status=1):\n",
            "STOP: TOTAL NO. of ITERATIONS REACHED LIMIT.\n",
            "\n",
            "Increase the number of iterations (max_iter) or scale the data as shown in:\n",
            "    https://scikit-learn.org/stable/modules/preprocessing.html\n",
            "Please also refer to the documentation for alternative solver options:\n",
            "    https://scikit-learn.org/stable/modules/linear_model.html#logistic-regression\n",
            "  extra_warning_msg=_LOGISTIC_SOLVER_CONVERGENCE_MSG,\n",
            "/usr/local/lib/python3.7/dist-packages/sklearn/linear_model/_logistic.py:818: ConvergenceWarning: lbfgs failed to converge (status=1):\n",
            "STOP: TOTAL NO. of ITERATIONS REACHED LIMIT.\n",
            "\n",
            "Increase the number of iterations (max_iter) or scale the data as shown in:\n",
            "    https://scikit-learn.org/stable/modules/preprocessing.html\n",
            "Please also refer to the documentation for alternative solver options:\n",
            "    https://scikit-learn.org/stable/modules/linear_model.html#logistic-regression\n",
            "  extra_warning_msg=_LOGISTIC_SOLVER_CONVERGENCE_MSG,\n",
            "/usr/local/lib/python3.7/dist-packages/sklearn/linear_model/_logistic.py:818: ConvergenceWarning: lbfgs failed to converge (status=1):\n",
            "STOP: TOTAL NO. of ITERATIONS REACHED LIMIT.\n",
            "\n",
            "Increase the number of iterations (max_iter) or scale the data as shown in:\n",
            "    https://scikit-learn.org/stable/modules/preprocessing.html\n",
            "Please also refer to the documentation for alternative solver options:\n",
            "    https://scikit-learn.org/stable/modules/linear_model.html#logistic-regression\n",
            "  extra_warning_msg=_LOGISTIC_SOLVER_CONVERGENCE_MSG,\n",
            "/usr/local/lib/python3.7/dist-packages/sklearn/linear_model/_logistic.py:818: ConvergenceWarning: lbfgs failed to converge (status=1):\n",
            "STOP: TOTAL NO. of ITERATIONS REACHED LIMIT.\n",
            "\n",
            "Increase the number of iterations (max_iter) or scale the data as shown in:\n",
            "    https://scikit-learn.org/stable/modules/preprocessing.html\n",
            "Please also refer to the documentation for alternative solver options:\n",
            "    https://scikit-learn.org/stable/modules/linear_model.html#logistic-regression\n",
            "  extra_warning_msg=_LOGISTIC_SOLVER_CONVERGENCE_MSG,\n",
            "/usr/local/lib/python3.7/dist-packages/sklearn/linear_model/_sag.py:354: ConvergenceWarning: The max_iter was reached which means the coef_ did not converge\n",
            "  ConvergenceWarning,\n",
            "/usr/local/lib/python3.7/dist-packages/sklearn/linear_model/_sag.py:354: ConvergenceWarning: The max_iter was reached which means the coef_ did not converge\n",
            "  ConvergenceWarning,\n",
            "/usr/local/lib/python3.7/dist-packages/sklearn/linear_model/_sag.py:354: ConvergenceWarning: The max_iter was reached which means the coef_ did not converge\n",
            "  ConvergenceWarning,\n",
            "/usr/local/lib/python3.7/dist-packages/sklearn/linear_model/_sag.py:354: ConvergenceWarning: The max_iter was reached which means the coef_ did not converge\n",
            "  ConvergenceWarning,\n",
            "/usr/local/lib/python3.7/dist-packages/sklearn/linear_model/_sag.py:354: ConvergenceWarning: The max_iter was reached which means the coef_ did not converge\n",
            "  ConvergenceWarning,\n",
            "/usr/local/lib/python3.7/dist-packages/sklearn/linear_model/_sag.py:354: ConvergenceWarning: The max_iter was reached which means the coef_ did not converge\n",
            "  ConvergenceWarning,\n",
            "/usr/local/lib/python3.7/dist-packages/sklearn/linear_model/_sag.py:354: ConvergenceWarning: The max_iter was reached which means the coef_ did not converge\n",
            "  ConvergenceWarning,\n",
            "/usr/local/lib/python3.7/dist-packages/sklearn/linear_model/_sag.py:354: ConvergenceWarning: The max_iter was reached which means the coef_ did not converge\n",
            "  ConvergenceWarning,\n",
            "/usr/local/lib/python3.7/dist-packages/sklearn/linear_model/_sag.py:354: ConvergenceWarning: The max_iter was reached which means the coef_ did not converge\n",
            "  ConvergenceWarning,\n",
            "/usr/local/lib/python3.7/dist-packages/sklearn/linear_model/_sag.py:354: ConvergenceWarning: The max_iter was reached which means the coef_ did not converge\n",
            "  ConvergenceWarning,\n",
            "/usr/local/lib/python3.7/dist-packages/sklearn/svm/_base.py:1208: ConvergenceWarning: Liblinear failed to converge, increase the number of iterations.\n",
            "  ConvergenceWarning,\n",
            "/usr/local/lib/python3.7/dist-packages/sklearn/svm/_base.py:1208: ConvergenceWarning: Liblinear failed to converge, increase the number of iterations.\n",
            "  ConvergenceWarning,\n",
            "/usr/local/lib/python3.7/dist-packages/sklearn/svm/_base.py:1208: ConvergenceWarning: Liblinear failed to converge, increase the number of iterations.\n",
            "  ConvergenceWarning,\n",
            "/usr/local/lib/python3.7/dist-packages/sklearn/svm/_base.py:1208: ConvergenceWarning: Liblinear failed to converge, increase the number of iterations.\n",
            "  ConvergenceWarning,\n",
            "/usr/local/lib/python3.7/dist-packages/sklearn/svm/_base.py:1208: ConvergenceWarning: Liblinear failed to converge, increase the number of iterations.\n",
            "  ConvergenceWarning,\n",
            "/usr/local/lib/python3.7/dist-packages/sklearn/linear_model/_sag.py:354: ConvergenceWarning: The max_iter was reached which means the coef_ did not converge\n",
            "  ConvergenceWarning,\n",
            "/usr/local/lib/python3.7/dist-packages/sklearn/linear_model/_sag.py:354: ConvergenceWarning: The max_iter was reached which means the coef_ did not converge\n",
            "  ConvergenceWarning,\n",
            "/usr/local/lib/python3.7/dist-packages/sklearn/linear_model/_sag.py:354: ConvergenceWarning: The max_iter was reached which means the coef_ did not converge\n",
            "  ConvergenceWarning,\n",
            "/usr/local/lib/python3.7/dist-packages/sklearn/linear_model/_sag.py:354: ConvergenceWarning: The max_iter was reached which means the coef_ did not converge\n",
            "  ConvergenceWarning,\n",
            "/usr/local/lib/python3.7/dist-packages/sklearn/linear_model/_sag.py:354: ConvergenceWarning: The max_iter was reached which means the coef_ did not converge\n",
            "  ConvergenceWarning,\n",
            "/usr/local/lib/python3.7/dist-packages/sklearn/utils/optimize.py:212: ConvergenceWarning: newton-cg failed to converge. Increase the number of iterations.\n",
            "  ConvergenceWarning,\n",
            "/usr/local/lib/python3.7/dist-packages/sklearn/utils/optimize.py:212: ConvergenceWarning: newton-cg failed to converge. Increase the number of iterations.\n",
            "  ConvergenceWarning,\n",
            "/usr/local/lib/python3.7/dist-packages/sklearn/utils/optimize.py:212: ConvergenceWarning: newton-cg failed to converge. Increase the number of iterations.\n",
            "  ConvergenceWarning,\n",
            "/usr/local/lib/python3.7/dist-packages/sklearn/utils/optimize.py:212: ConvergenceWarning: newton-cg failed to converge. Increase the number of iterations.\n",
            "  ConvergenceWarning,\n",
            "/usr/local/lib/python3.7/dist-packages/sklearn/utils/optimize.py:212: ConvergenceWarning: newton-cg failed to converge. Increase the number of iterations.\n",
            "  ConvergenceWarning,\n",
            "/usr/local/lib/python3.7/dist-packages/sklearn/linear_model/_logistic.py:818: ConvergenceWarning: lbfgs failed to converge (status=1):\n",
            "STOP: TOTAL NO. of ITERATIONS REACHED LIMIT.\n",
            "\n",
            "Increase the number of iterations (max_iter) or scale the data as shown in:\n",
            "    https://scikit-learn.org/stable/modules/preprocessing.html\n",
            "Please also refer to the documentation for alternative solver options:\n",
            "    https://scikit-learn.org/stable/modules/linear_model.html#logistic-regression\n",
            "  extra_warning_msg=_LOGISTIC_SOLVER_CONVERGENCE_MSG,\n",
            "/usr/local/lib/python3.7/dist-packages/sklearn/linear_model/_logistic.py:818: ConvergenceWarning: lbfgs failed to converge (status=1):\n",
            "STOP: TOTAL NO. of ITERATIONS REACHED LIMIT.\n",
            "\n",
            "Increase the number of iterations (max_iter) or scale the data as shown in:\n",
            "    https://scikit-learn.org/stable/modules/preprocessing.html\n",
            "Please also refer to the documentation for alternative solver options:\n",
            "    https://scikit-learn.org/stable/modules/linear_model.html#logistic-regression\n",
            "  extra_warning_msg=_LOGISTIC_SOLVER_CONVERGENCE_MSG,\n",
            "/usr/local/lib/python3.7/dist-packages/sklearn/linear_model/_logistic.py:818: ConvergenceWarning: lbfgs failed to converge (status=1):\n",
            "STOP: TOTAL NO. of ITERATIONS REACHED LIMIT.\n",
            "\n",
            "Increase the number of iterations (max_iter) or scale the data as shown in:\n",
            "    https://scikit-learn.org/stable/modules/preprocessing.html\n",
            "Please also refer to the documentation for alternative solver options:\n",
            "    https://scikit-learn.org/stable/modules/linear_model.html#logistic-regression\n",
            "  extra_warning_msg=_LOGISTIC_SOLVER_CONVERGENCE_MSG,\n",
            "/usr/local/lib/python3.7/dist-packages/sklearn/linear_model/_logistic.py:818: ConvergenceWarning: lbfgs failed to converge (status=1):\n",
            "STOP: TOTAL NO. of ITERATIONS REACHED LIMIT.\n",
            "\n",
            "Increase the number of iterations (max_iter) or scale the data as shown in:\n",
            "    https://scikit-learn.org/stable/modules/preprocessing.html\n",
            "Please also refer to the documentation for alternative solver options:\n",
            "    https://scikit-learn.org/stable/modules/linear_model.html#logistic-regression\n",
            "  extra_warning_msg=_LOGISTIC_SOLVER_CONVERGENCE_MSG,\n",
            "/usr/local/lib/python3.7/dist-packages/sklearn/linear_model/_logistic.py:818: ConvergenceWarning: lbfgs failed to converge (status=1):\n",
            "STOP: TOTAL NO. of ITERATIONS REACHED LIMIT.\n",
            "\n",
            "Increase the number of iterations (max_iter) or scale the data as shown in:\n",
            "    https://scikit-learn.org/stable/modules/preprocessing.html\n",
            "Please also refer to the documentation for alternative solver options:\n",
            "    https://scikit-learn.org/stable/modules/linear_model.html#logistic-regression\n",
            "  extra_warning_msg=_LOGISTIC_SOLVER_CONVERGENCE_MSG,\n",
            "/usr/local/lib/python3.7/dist-packages/sklearn/linear_model/_sag.py:354: ConvergenceWarning: The max_iter was reached which means the coef_ did not converge\n",
            "  ConvergenceWarning,\n",
            "/usr/local/lib/python3.7/dist-packages/sklearn/linear_model/_sag.py:354: ConvergenceWarning: The max_iter was reached which means the coef_ did not converge\n",
            "  ConvergenceWarning,\n",
            "/usr/local/lib/python3.7/dist-packages/sklearn/linear_model/_sag.py:354: ConvergenceWarning: The max_iter was reached which means the coef_ did not converge\n",
            "  ConvergenceWarning,\n",
            "/usr/local/lib/python3.7/dist-packages/sklearn/linear_model/_sag.py:354: ConvergenceWarning: The max_iter was reached which means the coef_ did not converge\n",
            "  ConvergenceWarning,\n",
            "/usr/local/lib/python3.7/dist-packages/sklearn/linear_model/_sag.py:354: ConvergenceWarning: The max_iter was reached which means the coef_ did not converge\n",
            "  ConvergenceWarning,\n",
            "/usr/local/lib/python3.7/dist-packages/sklearn/linear_model/_sag.py:354: ConvergenceWarning: The max_iter was reached which means the coef_ did not converge\n",
            "  ConvergenceWarning,\n",
            "/usr/local/lib/python3.7/dist-packages/sklearn/linear_model/_sag.py:354: ConvergenceWarning: The max_iter was reached which means the coef_ did not converge\n",
            "  ConvergenceWarning,\n",
            "/usr/local/lib/python3.7/dist-packages/sklearn/linear_model/_sag.py:354: ConvergenceWarning: The max_iter was reached which means the coef_ did not converge\n",
            "  ConvergenceWarning,\n",
            "/usr/local/lib/python3.7/dist-packages/sklearn/linear_model/_sag.py:354: ConvergenceWarning: The max_iter was reached which means the coef_ did not converge\n",
            "  ConvergenceWarning,\n",
            "/usr/local/lib/python3.7/dist-packages/sklearn/linear_model/_sag.py:354: ConvergenceWarning: The max_iter was reached which means the coef_ did not converge\n",
            "  ConvergenceWarning,\n",
            "/usr/local/lib/python3.7/dist-packages/sklearn/linear_model/_logistic.py:818: ConvergenceWarning: lbfgs failed to converge (status=1):\n",
            "STOP: TOTAL NO. of ITERATIONS REACHED LIMIT.\n",
            "\n",
            "Increase the number of iterations (max_iter) or scale the data as shown in:\n",
            "    https://scikit-learn.org/stable/modules/preprocessing.html\n",
            "Please also refer to the documentation for alternative solver options:\n",
            "    https://scikit-learn.org/stable/modules/linear_model.html#logistic-regression\n",
            "  extra_warning_msg=_LOGISTIC_SOLVER_CONVERGENCE_MSG,\n",
            "/usr/local/lib/python3.7/dist-packages/sklearn/linear_model/_logistic.py:818: ConvergenceWarning: lbfgs failed to converge (status=1):\n",
            "STOP: TOTAL NO. of ITERATIONS REACHED LIMIT.\n",
            "\n",
            "Increase the number of iterations (max_iter) or scale the data as shown in:\n",
            "    https://scikit-learn.org/stable/modules/preprocessing.html\n",
            "Please also refer to the documentation for alternative solver options:\n",
            "    https://scikit-learn.org/stable/modules/linear_model.html#logistic-regression\n",
            "  extra_warning_msg=_LOGISTIC_SOLVER_CONVERGENCE_MSG,\n",
            "/usr/local/lib/python3.7/dist-packages/sklearn/svm/_base.py:1208: ConvergenceWarning: Liblinear failed to converge, increase the number of iterations.\n",
            "  ConvergenceWarning,\n",
            "/usr/local/lib/python3.7/dist-packages/sklearn/svm/_base.py:1208: ConvergenceWarning: Liblinear failed to converge, increase the number of iterations.\n",
            "  ConvergenceWarning,\n",
            "/usr/local/lib/python3.7/dist-packages/sklearn/svm/_base.py:1208: ConvergenceWarning: Liblinear failed to converge, increase the number of iterations.\n",
            "  ConvergenceWarning,\n",
            "/usr/local/lib/python3.7/dist-packages/sklearn/svm/_base.py:1208: ConvergenceWarning: Liblinear failed to converge, increase the number of iterations.\n",
            "  ConvergenceWarning,\n",
            "/usr/local/lib/python3.7/dist-packages/sklearn/svm/_base.py:1208: ConvergenceWarning: Liblinear failed to converge, increase the number of iterations.\n",
            "  ConvergenceWarning,\n",
            "/usr/local/lib/python3.7/dist-packages/sklearn/linear_model/_sag.py:354: ConvergenceWarning: The max_iter was reached which means the coef_ did not converge\n",
            "  ConvergenceWarning,\n",
            "/usr/local/lib/python3.7/dist-packages/sklearn/linear_model/_sag.py:354: ConvergenceWarning: The max_iter was reached which means the coef_ did not converge\n",
            "  ConvergenceWarning,\n",
            "/usr/local/lib/python3.7/dist-packages/sklearn/linear_model/_sag.py:354: ConvergenceWarning: The max_iter was reached which means the coef_ did not converge\n",
            "  ConvergenceWarning,\n",
            "/usr/local/lib/python3.7/dist-packages/sklearn/linear_model/_sag.py:354: ConvergenceWarning: The max_iter was reached which means the coef_ did not converge\n",
            "  ConvergenceWarning,\n",
            "/usr/local/lib/python3.7/dist-packages/sklearn/linear_model/_sag.py:354: ConvergenceWarning: The max_iter was reached which means the coef_ did not converge\n",
            "  ConvergenceWarning,\n",
            "/usr/local/lib/python3.7/dist-packages/sklearn/utils/optimize.py:212: ConvergenceWarning: newton-cg failed to converge. Increase the number of iterations.\n",
            "  ConvergenceWarning,\n",
            "/usr/local/lib/python3.7/dist-packages/sklearn/utils/optimize.py:212: ConvergenceWarning: newton-cg failed to converge. Increase the number of iterations.\n",
            "  ConvergenceWarning,\n",
            "/usr/local/lib/python3.7/dist-packages/sklearn/utils/optimize.py:212: ConvergenceWarning: newton-cg failed to converge. Increase the number of iterations.\n",
            "  ConvergenceWarning,\n",
            "/usr/local/lib/python3.7/dist-packages/sklearn/utils/optimize.py:212: ConvergenceWarning: newton-cg failed to converge. Increase the number of iterations.\n",
            "  ConvergenceWarning,\n",
            "/usr/local/lib/python3.7/dist-packages/sklearn/utils/optimize.py:212: ConvergenceWarning: newton-cg failed to converge. Increase the number of iterations.\n",
            "  ConvergenceWarning,\n",
            "/usr/local/lib/python3.7/dist-packages/sklearn/linear_model/_logistic.py:818: ConvergenceWarning: lbfgs failed to converge (status=1):\n",
            "STOP: TOTAL NO. of ITERATIONS REACHED LIMIT.\n",
            "\n",
            "Increase the number of iterations (max_iter) or scale the data as shown in:\n",
            "    https://scikit-learn.org/stable/modules/preprocessing.html\n",
            "Please also refer to the documentation for alternative solver options:\n",
            "    https://scikit-learn.org/stable/modules/linear_model.html#logistic-regression\n",
            "  extra_warning_msg=_LOGISTIC_SOLVER_CONVERGENCE_MSG,\n",
            "/usr/local/lib/python3.7/dist-packages/sklearn/linear_model/_logistic.py:818: ConvergenceWarning: lbfgs failed to converge (status=1):\n",
            "STOP: TOTAL NO. of ITERATIONS REACHED LIMIT.\n",
            "\n",
            "Increase the number of iterations (max_iter) or scale the data as shown in:\n",
            "    https://scikit-learn.org/stable/modules/preprocessing.html\n",
            "Please also refer to the documentation for alternative solver options:\n",
            "    https://scikit-learn.org/stable/modules/linear_model.html#logistic-regression\n",
            "  extra_warning_msg=_LOGISTIC_SOLVER_CONVERGENCE_MSG,\n",
            "/usr/local/lib/python3.7/dist-packages/sklearn/linear_model/_logistic.py:818: ConvergenceWarning: lbfgs failed to converge (status=1):\n",
            "STOP: TOTAL NO. of ITERATIONS REACHED LIMIT.\n",
            "\n",
            "Increase the number of iterations (max_iter) or scale the data as shown in:\n",
            "    https://scikit-learn.org/stable/modules/preprocessing.html\n",
            "Please also refer to the documentation for alternative solver options:\n",
            "    https://scikit-learn.org/stable/modules/linear_model.html#logistic-regression\n",
            "  extra_warning_msg=_LOGISTIC_SOLVER_CONVERGENCE_MSG,\n",
            "/usr/local/lib/python3.7/dist-packages/sklearn/linear_model/_logistic.py:818: ConvergenceWarning: lbfgs failed to converge (status=1):\n",
            "STOP: TOTAL NO. of ITERATIONS REACHED LIMIT.\n",
            "\n",
            "Increase the number of iterations (max_iter) or scale the data as shown in:\n",
            "    https://scikit-learn.org/stable/modules/preprocessing.html\n",
            "Please also refer to the documentation for alternative solver options:\n",
            "    https://scikit-learn.org/stable/modules/linear_model.html#logistic-regression\n",
            "  extra_warning_msg=_LOGISTIC_SOLVER_CONVERGENCE_MSG,\n",
            "/usr/local/lib/python3.7/dist-packages/sklearn/linear_model/_logistic.py:818: ConvergenceWarning: lbfgs failed to converge (status=1):\n",
            "STOP: TOTAL NO. of ITERATIONS REACHED LIMIT.\n",
            "\n",
            "Increase the number of iterations (max_iter) or scale the data as shown in:\n",
            "    https://scikit-learn.org/stable/modules/preprocessing.html\n",
            "Please also refer to the documentation for alternative solver options:\n",
            "    https://scikit-learn.org/stable/modules/linear_model.html#logistic-regression\n",
            "  extra_warning_msg=_LOGISTIC_SOLVER_CONVERGENCE_MSG,\n",
            "/usr/local/lib/python3.7/dist-packages/sklearn/linear_model/_sag.py:354: ConvergenceWarning: The max_iter was reached which means the coef_ did not converge\n",
            "  ConvergenceWarning,\n",
            "/usr/local/lib/python3.7/dist-packages/sklearn/linear_model/_sag.py:354: ConvergenceWarning: The max_iter was reached which means the coef_ did not converge\n",
            "  ConvergenceWarning,\n",
            "/usr/local/lib/python3.7/dist-packages/sklearn/linear_model/_sag.py:354: ConvergenceWarning: The max_iter was reached which means the coef_ did not converge\n",
            "  ConvergenceWarning,\n",
            "/usr/local/lib/python3.7/dist-packages/sklearn/linear_model/_sag.py:354: ConvergenceWarning: The max_iter was reached which means the coef_ did not converge\n",
            "  ConvergenceWarning,\n",
            "/usr/local/lib/python3.7/dist-packages/sklearn/linear_model/_sag.py:354: ConvergenceWarning: The max_iter was reached which means the coef_ did not converge\n",
            "  ConvergenceWarning,\n",
            "/usr/local/lib/python3.7/dist-packages/sklearn/linear_model/_sag.py:354: ConvergenceWarning: The max_iter was reached which means the coef_ did not converge\n",
            "  ConvergenceWarning,\n",
            "/usr/local/lib/python3.7/dist-packages/sklearn/linear_model/_sag.py:354: ConvergenceWarning: The max_iter was reached which means the coef_ did not converge\n",
            "  ConvergenceWarning,\n",
            "/usr/local/lib/python3.7/dist-packages/sklearn/linear_model/_sag.py:354: ConvergenceWarning: The max_iter was reached which means the coef_ did not converge\n",
            "  ConvergenceWarning,\n",
            "/usr/local/lib/python3.7/dist-packages/sklearn/linear_model/_sag.py:354: ConvergenceWarning: The max_iter was reached which means the coef_ did not converge\n",
            "  ConvergenceWarning,\n",
            "/usr/local/lib/python3.7/dist-packages/sklearn/linear_model/_sag.py:354: ConvergenceWarning: The max_iter was reached which means the coef_ did not converge\n",
            "  ConvergenceWarning,\n",
            "/usr/local/lib/python3.7/dist-packages/sklearn/linear_model/_logistic.py:818: ConvergenceWarning: lbfgs failed to converge (status=1):\n",
            "STOP: TOTAL NO. of ITERATIONS REACHED LIMIT.\n",
            "\n",
            "Increase the number of iterations (max_iter) or scale the data as shown in:\n",
            "    https://scikit-learn.org/stable/modules/preprocessing.html\n",
            "Please also refer to the documentation for alternative solver options:\n",
            "    https://scikit-learn.org/stable/modules/linear_model.html#logistic-regression\n",
            "  extra_warning_msg=_LOGISTIC_SOLVER_CONVERGENCE_MSG,\n",
            "/usr/local/lib/python3.7/dist-packages/sklearn/linear_model/_logistic.py:818: ConvergenceWarning: lbfgs failed to converge (status=1):\n",
            "STOP: TOTAL NO. of ITERATIONS REACHED LIMIT.\n",
            "\n",
            "Increase the number of iterations (max_iter) or scale the data as shown in:\n",
            "    https://scikit-learn.org/stable/modules/preprocessing.html\n",
            "Please also refer to the documentation for alternative solver options:\n",
            "    https://scikit-learn.org/stable/modules/linear_model.html#logistic-regression\n",
            "  extra_warning_msg=_LOGISTIC_SOLVER_CONVERGENCE_MSG,\n",
            "/usr/local/lib/python3.7/dist-packages/sklearn/svm/_base.py:1208: ConvergenceWarning: Liblinear failed to converge, increase the number of iterations.\n",
            "  ConvergenceWarning,\n",
            "/usr/local/lib/python3.7/dist-packages/sklearn/svm/_base.py:1208: ConvergenceWarning: Liblinear failed to converge, increase the number of iterations.\n",
            "  ConvergenceWarning,\n",
            "/usr/local/lib/python3.7/dist-packages/sklearn/svm/_base.py:1208: ConvergenceWarning: Liblinear failed to converge, increase the number of iterations.\n",
            "  ConvergenceWarning,\n",
            "/usr/local/lib/python3.7/dist-packages/sklearn/svm/_base.py:1208: ConvergenceWarning: Liblinear failed to converge, increase the number of iterations.\n",
            "  ConvergenceWarning,\n",
            "/usr/local/lib/python3.7/dist-packages/sklearn/svm/_base.py:1208: ConvergenceWarning: Liblinear failed to converge, increase the number of iterations.\n",
            "  ConvergenceWarning,\n",
            "/usr/local/lib/python3.7/dist-packages/sklearn/linear_model/_sag.py:354: ConvergenceWarning: The max_iter was reached which means the coef_ did not converge\n",
            "  ConvergenceWarning,\n",
            "/usr/local/lib/python3.7/dist-packages/sklearn/linear_model/_sag.py:354: ConvergenceWarning: The max_iter was reached which means the coef_ did not converge\n",
            "  ConvergenceWarning,\n",
            "/usr/local/lib/python3.7/dist-packages/sklearn/linear_model/_sag.py:354: ConvergenceWarning: The max_iter was reached which means the coef_ did not converge\n",
            "  ConvergenceWarning,\n",
            "/usr/local/lib/python3.7/dist-packages/sklearn/linear_model/_sag.py:354: ConvergenceWarning: The max_iter was reached which means the coef_ did not converge\n",
            "  ConvergenceWarning,\n",
            "/usr/local/lib/python3.7/dist-packages/sklearn/linear_model/_sag.py:354: ConvergenceWarning: The max_iter was reached which means the coef_ did not converge\n",
            "  ConvergenceWarning,\n",
            "/usr/local/lib/python3.7/dist-packages/sklearn/utils/optimize.py:212: ConvergenceWarning: newton-cg failed to converge. Increase the number of iterations.\n",
            "  ConvergenceWarning,\n",
            "/usr/local/lib/python3.7/dist-packages/sklearn/utils/optimize.py:212: ConvergenceWarning: newton-cg failed to converge. Increase the number of iterations.\n",
            "  ConvergenceWarning,\n",
            "/usr/local/lib/python3.7/dist-packages/sklearn/utils/optimize.py:212: ConvergenceWarning: newton-cg failed to converge. Increase the number of iterations.\n",
            "  ConvergenceWarning,\n",
            "/usr/local/lib/python3.7/dist-packages/sklearn/utils/optimize.py:212: ConvergenceWarning: newton-cg failed to converge. Increase the number of iterations.\n",
            "  ConvergenceWarning,\n",
            "/usr/local/lib/python3.7/dist-packages/sklearn/utils/optimize.py:212: ConvergenceWarning: newton-cg failed to converge. Increase the number of iterations.\n",
            "  ConvergenceWarning,\n",
            "/usr/local/lib/python3.7/dist-packages/sklearn/linear_model/_logistic.py:818: ConvergenceWarning: lbfgs failed to converge (status=1):\n",
            "STOP: TOTAL NO. of ITERATIONS REACHED LIMIT.\n",
            "\n",
            "Increase the number of iterations (max_iter) or scale the data as shown in:\n",
            "    https://scikit-learn.org/stable/modules/preprocessing.html\n",
            "Please also refer to the documentation for alternative solver options:\n",
            "    https://scikit-learn.org/stable/modules/linear_model.html#logistic-regression\n",
            "  extra_warning_msg=_LOGISTIC_SOLVER_CONVERGENCE_MSG,\n",
            "/usr/local/lib/python3.7/dist-packages/sklearn/linear_model/_logistic.py:818: ConvergenceWarning: lbfgs failed to converge (status=1):\n",
            "STOP: TOTAL NO. of ITERATIONS REACHED LIMIT.\n",
            "\n",
            "Increase the number of iterations (max_iter) or scale the data as shown in:\n",
            "    https://scikit-learn.org/stable/modules/preprocessing.html\n",
            "Please also refer to the documentation for alternative solver options:\n",
            "    https://scikit-learn.org/stable/modules/linear_model.html#logistic-regression\n",
            "  extra_warning_msg=_LOGISTIC_SOLVER_CONVERGENCE_MSG,\n",
            "/usr/local/lib/python3.7/dist-packages/sklearn/linear_model/_logistic.py:818: ConvergenceWarning: lbfgs failed to converge (status=1):\n",
            "STOP: TOTAL NO. of ITERATIONS REACHED LIMIT.\n",
            "\n",
            "Increase the number of iterations (max_iter) or scale the data as shown in:\n",
            "    https://scikit-learn.org/stable/modules/preprocessing.html\n",
            "Please also refer to the documentation for alternative solver options:\n",
            "    https://scikit-learn.org/stable/modules/linear_model.html#logistic-regression\n",
            "  extra_warning_msg=_LOGISTIC_SOLVER_CONVERGENCE_MSG,\n",
            "/usr/local/lib/python3.7/dist-packages/sklearn/linear_model/_logistic.py:818: ConvergenceWarning: lbfgs failed to converge (status=1):\n",
            "STOP: TOTAL NO. of ITERATIONS REACHED LIMIT.\n",
            "\n",
            "Increase the number of iterations (max_iter) or scale the data as shown in:\n",
            "    https://scikit-learn.org/stable/modules/preprocessing.html\n",
            "Please also refer to the documentation for alternative solver options:\n",
            "    https://scikit-learn.org/stable/modules/linear_model.html#logistic-regression\n",
            "  extra_warning_msg=_LOGISTIC_SOLVER_CONVERGENCE_MSG,\n",
            "/usr/local/lib/python3.7/dist-packages/sklearn/linear_model/_logistic.py:818: ConvergenceWarning: lbfgs failed to converge (status=1):\n",
            "STOP: TOTAL NO. of ITERATIONS REACHED LIMIT.\n",
            "\n",
            "Increase the number of iterations (max_iter) or scale the data as shown in:\n",
            "    https://scikit-learn.org/stable/modules/preprocessing.html\n",
            "Please also refer to the documentation for alternative solver options:\n",
            "    https://scikit-learn.org/stable/modules/linear_model.html#logistic-regression\n",
            "  extra_warning_msg=_LOGISTIC_SOLVER_CONVERGENCE_MSG,\n",
            "/usr/local/lib/python3.7/dist-packages/sklearn/linear_model/_sag.py:354: ConvergenceWarning: The max_iter was reached which means the coef_ did not converge\n",
            "  ConvergenceWarning,\n",
            "/usr/local/lib/python3.7/dist-packages/sklearn/linear_model/_sag.py:354: ConvergenceWarning: The max_iter was reached which means the coef_ did not converge\n",
            "  ConvergenceWarning,\n",
            "/usr/local/lib/python3.7/dist-packages/sklearn/linear_model/_sag.py:354: ConvergenceWarning: The max_iter was reached which means the coef_ did not converge\n",
            "  ConvergenceWarning,\n",
            "/usr/local/lib/python3.7/dist-packages/sklearn/linear_model/_sag.py:354: ConvergenceWarning: The max_iter was reached which means the coef_ did not converge\n",
            "  ConvergenceWarning,\n",
            "/usr/local/lib/python3.7/dist-packages/sklearn/linear_model/_sag.py:354: ConvergenceWarning: The max_iter was reached which means the coef_ did not converge\n",
            "  ConvergenceWarning,\n",
            "/usr/local/lib/python3.7/dist-packages/sklearn/linear_model/_sag.py:354: ConvergenceWarning: The max_iter was reached which means the coef_ did not converge\n",
            "  ConvergenceWarning,\n",
            "/usr/local/lib/python3.7/dist-packages/sklearn/linear_model/_sag.py:354: ConvergenceWarning: The max_iter was reached which means the coef_ did not converge\n",
            "  ConvergenceWarning,\n",
            "/usr/local/lib/python3.7/dist-packages/sklearn/linear_model/_sag.py:354: ConvergenceWarning: The max_iter was reached which means the coef_ did not converge\n",
            "  ConvergenceWarning,\n",
            "/usr/local/lib/python3.7/dist-packages/sklearn/linear_model/_sag.py:354: ConvergenceWarning: The max_iter was reached which means the coef_ did not converge\n",
            "  ConvergenceWarning,\n",
            "/usr/local/lib/python3.7/dist-packages/sklearn/linear_model/_sag.py:354: ConvergenceWarning: The max_iter was reached which means the coef_ did not converge\n",
            "  ConvergenceWarning,\n",
            "/usr/local/lib/python3.7/dist-packages/sklearn/linear_model/_logistic.py:818: ConvergenceWarning: lbfgs failed to converge (status=1):\n",
            "STOP: TOTAL NO. of ITERATIONS REACHED LIMIT.\n",
            "\n",
            "Increase the number of iterations (max_iter) or scale the data as shown in:\n",
            "    https://scikit-learn.org/stable/modules/preprocessing.html\n",
            "Please also refer to the documentation for alternative solver options:\n",
            "    https://scikit-learn.org/stable/modules/linear_model.html#logistic-regression\n",
            "  extra_warning_msg=_LOGISTIC_SOLVER_CONVERGENCE_MSG,\n",
            "/usr/local/lib/python3.7/dist-packages/sklearn/linear_model/_logistic.py:818: ConvergenceWarning: lbfgs failed to converge (status=1):\n",
            "STOP: TOTAL NO. of ITERATIONS REACHED LIMIT.\n",
            "\n",
            "Increase the number of iterations (max_iter) or scale the data as shown in:\n",
            "    https://scikit-learn.org/stable/modules/preprocessing.html\n",
            "Please also refer to the documentation for alternative solver options:\n",
            "    https://scikit-learn.org/stable/modules/linear_model.html#logistic-regression\n",
            "  extra_warning_msg=_LOGISTIC_SOLVER_CONVERGENCE_MSG,\n",
            "/usr/local/lib/python3.7/dist-packages/sklearn/model_selection/_validation.py:372: FitFailedWarning: \n",
            "300 fits failed out of a total of 1000.\n",
            "The score on these train-test partitions for these parameters will be set to nan.\n",
            "If these failures are not expected, you can try to debug them by setting error_score='raise'.\n",
            "\n",
            "Below are more details about the failures:\n",
            "--------------------------------------------------------------------------------\n",
            "100 fits failed with the following error:\n",
            "Traceback (most recent call last):\n",
            "  File \"/usr/local/lib/python3.7/dist-packages/sklearn/model_selection/_validation.py\", line 681, in _fit_and_score\n",
            "    estimator.fit(X_train, y_train, **fit_params)\n",
            "  File \"/usr/local/lib/python3.7/dist-packages/sklearn/linear_model/_logistic.py\", line 1461, in fit\n",
            "    solver = _check_solver(self.solver, self.penalty, self.dual)\n",
            "  File \"/usr/local/lib/python3.7/dist-packages/sklearn/linear_model/_logistic.py\", line 449, in _check_solver\n",
            "    % (solver, penalty)\n",
            "ValueError: Solver newton-cg supports only 'l2' or 'none' penalties, got l1 penalty.\n",
            "\n",
            "--------------------------------------------------------------------------------\n",
            "100 fits failed with the following error:\n",
            "Traceback (most recent call last):\n",
            "  File \"/usr/local/lib/python3.7/dist-packages/sklearn/model_selection/_validation.py\", line 681, in _fit_and_score\n",
            "    estimator.fit(X_train, y_train, **fit_params)\n",
            "  File \"/usr/local/lib/python3.7/dist-packages/sklearn/linear_model/_logistic.py\", line 1461, in fit\n",
            "    solver = _check_solver(self.solver, self.penalty, self.dual)\n",
            "  File \"/usr/local/lib/python3.7/dist-packages/sklearn/linear_model/_logistic.py\", line 449, in _check_solver\n",
            "    % (solver, penalty)\n",
            "ValueError: Solver lbfgs supports only 'l2' or 'none' penalties, got l1 penalty.\n",
            "\n",
            "--------------------------------------------------------------------------------\n",
            "100 fits failed with the following error:\n",
            "Traceback (most recent call last):\n",
            "  File \"/usr/local/lib/python3.7/dist-packages/sklearn/model_selection/_validation.py\", line 681, in _fit_and_score\n",
            "    estimator.fit(X_train, y_train, **fit_params)\n",
            "  File \"/usr/local/lib/python3.7/dist-packages/sklearn/linear_model/_logistic.py\", line 1461, in fit\n",
            "    solver = _check_solver(self.solver, self.penalty, self.dual)\n",
            "  File \"/usr/local/lib/python3.7/dist-packages/sklearn/linear_model/_logistic.py\", line 449, in _check_solver\n",
            "    % (solver, penalty)\n",
            "ValueError: Solver sag supports only 'l2' or 'none' penalties, got l1 penalty.\n",
            "\n",
            "  warnings.warn(some_fits_failed_message, FitFailedWarning)\n",
            "/usr/local/lib/python3.7/dist-packages/sklearn/model_selection/_search.py:972: UserWarning: One or more of the test scores are non-finite: [       nan        nan 0.94969797        nan 0.94969797 0.94969797\n",
            " 0.94969797 0.94968276 0.94968276 0.94969797        nan        nan\n",
            " 0.94969797        nan 0.94969797 0.94968276 0.94968276 0.94968276\n",
            " 0.94968276 0.94968276        nan        nan 0.94969797        nan\n",
            " 0.94969797 0.94968276 0.94968276 0.94968276 0.94968276 0.94968276\n",
            "        nan        nan 0.94969797        nan 0.94969797 0.94968276\n",
            " 0.94968276 0.94968276 0.94968276 0.94968276        nan        nan\n",
            " 0.94969797        nan 0.94969797 0.94969797 0.94969797 0.94969797\n",
            " 0.94969797 0.94969797        nan        nan 0.94969797        nan\n",
            " 0.94969797 0.94969797 0.94969797 0.94969797 0.94969797 0.94969797\n",
            "        nan        nan 0.94969797        nan 0.94969797 0.94969797\n",
            " 0.94969797 0.94969797 0.94969797 0.94969797        nan        nan\n",
            " 0.94969797        nan 0.94969797 0.94969797 0.94969797 0.94969797\n",
            " 0.94969797 0.94969797        nan        nan 0.94969797        nan\n",
            " 0.94969797 0.94969797 0.94969797 0.94969797 0.94969797 0.94969797\n",
            "        nan        nan 0.94969797        nan 0.94969797 0.94969797\n",
            " 0.94969797 0.94969797 0.94969797 0.94969797        nan        nan\n",
            " 0.94969797        nan 0.94969797 0.94969797 0.94969797 0.94969797\n",
            " 0.94969797 0.94969797        nan        nan 0.94969797        nan\n",
            " 0.94969797 0.94969797 0.94969797 0.94969797 0.94969797 0.94969797\n",
            "        nan        nan 0.94969797        nan 0.94969797 0.94969797\n",
            " 0.94969797 0.94969797 0.94969797 0.94969797        nan        nan\n",
            " 0.94969797        nan 0.94969797 0.94969797 0.94969797 0.94969797\n",
            " 0.94969797 0.94969797        nan        nan 0.94969797        nan\n",
            " 0.94969797 0.94969797 0.94969797 0.94969797 0.94969797 0.94969797\n",
            "        nan        nan 0.94969797        nan 0.94969797 0.94969797\n",
            " 0.94969797 0.94969797 0.94969797 0.94969797        nan        nan\n",
            " 0.94969797        nan 0.94969797 0.94969797 0.94969797 0.94969797\n",
            " 0.94969797 0.94969797        nan        nan 0.94969797        nan\n",
            " 0.94969797 0.94969797 0.94969797 0.94969797 0.94969797 0.94969797\n",
            "        nan        nan 0.94969797        nan 0.94969797 0.94969797\n",
            " 0.94969797 0.94969797 0.94969797 0.94969797        nan        nan\n",
            " 0.94969797        nan 0.94969797 0.94969797 0.94969797 0.94969797\n",
            " 0.94969797 0.94969797]\n",
            "  category=UserWarning,\n",
            "/usr/local/lib/python3.7/dist-packages/sklearn/model_selection/_search.py:972: UserWarning: One or more of the train scores are non-finite: [       nan        nan 0.94969417        nan 0.94969417 0.94969797\n",
            " 0.94969797 0.94969417 0.94969797 0.94969797        nan        nan\n",
            " 0.94969417        nan 0.94969417 0.94969797 0.94969797 0.94969417\n",
            " 0.94969797 0.94969797        nan        nan 0.94969417        nan\n",
            " 0.94969417 0.94969797 0.94969797 0.94969417 0.94969797 0.94969797\n",
            "        nan        nan 0.94969417        nan 0.94969417 0.94969797\n",
            " 0.94969797 0.94969417 0.94969797 0.94969797        nan        nan\n",
            " 0.94969797        nan 0.94969797 0.94969797 0.94969797 0.94969797\n",
            " 0.94969797 0.94969797        nan        nan 0.94969797        nan\n",
            " 0.94969797 0.94969797 0.94969797 0.94969797 0.94969797 0.94969797\n",
            "        nan        nan 0.94969797        nan 0.94969797 0.94969797\n",
            " 0.94969797 0.94969797 0.94969797 0.94969797        nan        nan\n",
            " 0.94969797        nan 0.94969797 0.94969797 0.94969797 0.94969797\n",
            " 0.94969797 0.94969797        nan        nan 0.94969797        nan\n",
            " 0.94969797 0.94969797 0.94969797 0.94969797 0.94969797 0.94969797\n",
            "        nan        nan 0.94969797        nan 0.94969797 0.94969797\n",
            " 0.94969797 0.94969797 0.94969797 0.94969797        nan        nan\n",
            " 0.94969797        nan 0.94969797 0.94969797 0.94969797 0.94969797\n",
            " 0.94969797 0.94969797        nan        nan 0.94969797        nan\n",
            " 0.94969797 0.94969797 0.94969797 0.94969797 0.94969797 0.94969797\n",
            "        nan        nan 0.94969797        nan 0.94969797 0.94969797\n",
            " 0.94969797 0.94969797 0.94969797 0.94969797        nan        nan\n",
            " 0.94969797        nan 0.94969797 0.94969797 0.94969797 0.94969797\n",
            " 0.94969797 0.94969797        nan        nan 0.94969797        nan\n",
            " 0.94969797 0.94969797 0.94969797 0.94969797 0.94969797 0.94969797\n",
            "        nan        nan 0.94969797        nan 0.94969797 0.94969797\n",
            " 0.94969797 0.94969797 0.94969797 0.94969797        nan        nan\n",
            " 0.94969797        nan 0.94969797 0.94969797 0.94969797 0.94969797\n",
            " 0.94969797 0.94969797        nan        nan 0.94969797        nan\n",
            " 0.94969797 0.94969797 0.94969797 0.94969797 0.94969797 0.94969797\n",
            "        nan        nan 0.94969797        nan 0.94969797 0.94969797\n",
            " 0.94969797 0.94969797 0.94969797 0.94969797        nan        nan\n",
            " 0.94969797        nan 0.94969797 0.94969797 0.94969797 0.94969797\n",
            " 0.94969797 0.94969797]\n",
            "  category=UserWarning,\n",
            "/usr/local/lib/python3.7/dist-packages/sklearn/svm/_base.py:1208: ConvergenceWarning: Liblinear failed to converge, increase the number of iterations.\n",
            "  ConvergenceWarning,\n"
          ]
        },
        {
          "output_type": "execute_result",
          "data": {
            "text/plain": [
              "GridSearchCV(cv=5, estimator=LogisticRegression(),\n",
              "             param_grid={'C': [0.1, 0.3, 0.5, 0.8, 1.0],\n",
              "                         'max_iter': [10, 50, 80, 100], 'penalty': ['l1', 'l2'],\n",
              "                         'random_state': [42],\n",
              "                         'solver': ['newton-cg', 'lbfgs', 'liblinear', 'sag',\n",
              "                                    'saga']},\n",
              "             return_train_score=True, scoring='accuracy', verbose=1)"
            ]
          },
          "metadata": {},
          "execution_count": 41
        }
      ]
    },
    {
      "cell_type": "code",
      "metadata": {
        "id": "PTnr2mlrDl62",
        "colab": {
          "base_uri": "https://localhost:8080/"
        },
        "outputId": "03318c1b-7590-4d8a-83bd-2ef24c828812"
      },
      "source": [
        "gridLogisticRegression.best_params_"
      ],
      "execution_count": null,
      "outputs": [
        {
          "output_type": "execute_result",
          "data": {
            "text/plain": [
              "{'C': 0.1,\n",
              " 'max_iter': 10,\n",
              " 'penalty': 'l1',\n",
              " 'random_state': 42,\n",
              " 'solver': 'liblinear'}"
            ]
          },
          "metadata": {},
          "execution_count": 42
        }
      ]
    },
    {
      "cell_type": "markdown",
      "metadata": {
        "id": "_Ww0Ys7oto2A"
      },
      "source": [
        "#### Bagging\n"
      ]
    },
    {
      "cell_type": "code",
      "metadata": {
        "id": "ULRWbCI2txgy"
      },
      "source": [
        "gridBagging = GridSearchCV(bagging,\n",
        "                  parametersBagging,\n",
        "                  scoring='accuracy',\n",
        "                  cv=5,\n",
        "                  return_train_score=True,\n",
        "                  verbose=1)"
      ],
      "execution_count": null,
      "outputs": []
    },
    {
      "cell_type": "code",
      "metadata": {
        "colab": {
          "base_uri": "https://localhost:8080/"
        },
        "id": "uDqmLqEbt8CC",
        "outputId": "7dc56f83-a4a4-41b9-d6f3-6e665556372d"
      },
      "source": [
        "gridBagging.fit(X_train,y_train)"
      ],
      "execution_count": null,
      "outputs": [
        {
          "output_type": "stream",
          "name": "stdout",
          "text": [
            "Fitting 5 folds for each of 16 candidates, totalling 80 fits\n"
          ]
        },
        {
          "output_type": "execute_result",
          "data": {
            "text/plain": [
              "GridSearchCV(cv=5, estimator=BaggingClassifier(),\n",
              "             param_grid={'max_samples': [200, 500, 800, 1000],\n",
              "                         'n_estimators': [100, 200, 500, 800],\n",
              "                         'random_state': [42]},\n",
              "             return_train_score=True, scoring='accuracy', verbose=1)"
            ]
          },
          "metadata": {},
          "execution_count": 44
        }
      ]
    },
    {
      "cell_type": "code",
      "metadata": {
        "colab": {
          "base_uri": "https://localhost:8080/"
        },
        "id": "AUCFI2Njt-AI",
        "outputId": "e4f65357-b7c6-45d6-a550-2252d8a56837"
      },
      "source": [
        "gridBagging.best_params_"
      ],
      "execution_count": null,
      "outputs": [
        {
          "output_type": "execute_result",
          "data": {
            "text/plain": [
              "{'max_samples': 800, 'n_estimators': 500, 'random_state': 42}"
            ]
          },
          "metadata": {},
          "execution_count": 45
        }
      ]
    },
    {
      "cell_type": "markdown",
      "metadata": {
        "id": "RDNvip44IJDU"
      },
      "source": [
        "#### Random Forest"
      ]
    },
    {
      "cell_type": "code",
      "metadata": {
        "id": "SPQlbWdGIL0P"
      },
      "source": [
        "gridRandomForest = GridSearchCV(randomForest,\n",
        "                  parametersRandomForest,\n",
        "                  scoring='accuracy',\n",
        "                  cv=5,\n",
        "                  return_train_score=True,\n",
        "                  verbose=1)"
      ],
      "execution_count": null,
      "outputs": []
    },
    {
      "cell_type": "code",
      "metadata": {
        "colab": {
          "base_uri": "https://localhost:8080/"
        },
        "id": "qE33kAqbIaTn",
        "outputId": "d9d1b93f-e821-4fe6-e146-35b756c9d857"
      },
      "source": [
        "gridRandomForest.fit(X_train,y_train)"
      ],
      "execution_count": null,
      "outputs": [
        {
          "output_type": "stream",
          "name": "stdout",
          "text": [
            "Fitting 5 folds for each of 128 candidates, totalling 640 fits\n"
          ]
        },
        {
          "output_type": "execute_result",
          "data": {
            "text/plain": [
              "GridSearchCV(cv=5, estimator=RandomForestClassifier(),\n",
              "             param_grid={'criterion': ['gini', 'entropy'],\n",
              "                         'max_depth': [10, 15], 'max_features': [2, 4],\n",
              "                         'max_samples': [200, 250], 'min_samples_leaf': [2, 4],\n",
              "                         'min_samples_split': [2, 4],\n",
              "                         'n_estimators': [100, 200], 'random_state': [42]},\n",
              "             return_train_score=True, scoring='accuracy', verbose=1)"
            ]
          },
          "metadata": {},
          "execution_count": 47
        }
      ]
    },
    {
      "cell_type": "code",
      "metadata": {
        "colab": {
          "base_uri": "https://localhost:8080/"
        },
        "id": "fwRELQJVId9Z",
        "outputId": "1350c4ac-493d-4c2c-b236-fe27cf94e939"
      },
      "source": [
        "gridRandomForest.best_params_"
      ],
      "execution_count": null,
      "outputs": [
        {
          "output_type": "execute_result",
          "data": {
            "text/plain": [
              "{'criterion': 'gini',\n",
              " 'max_depth': 10,\n",
              " 'max_features': 2,\n",
              " 'max_samples': 200,\n",
              " 'min_samples_leaf': 2,\n",
              " 'min_samples_split': 2,\n",
              " 'n_estimators': 100,\n",
              " 'random_state': 42}"
            ]
          },
          "metadata": {},
          "execution_count": 48
        }
      ]
    },
    {
      "cell_type": "markdown",
      "metadata": {
        "id": "bxxbYmhhaGAE"
      },
      "source": [
        "#### Gradient Boosting"
      ]
    },
    {
      "cell_type": "code",
      "metadata": {
        "id": "7UN5eMPgaK1u"
      },
      "source": [
        "gridGradientBoosting = GridSearchCV(gradientBoosting,\n",
        "                  parametersGradientBoosting,\n",
        "                  scoring='accuracy',\n",
        "                  cv=5,\n",
        "                  return_train_score=True,\n",
        "                  verbose=1)"
      ],
      "execution_count": null,
      "outputs": []
    },
    {
      "cell_type": "code",
      "metadata": {
        "id": "xIxlhrOGab6j",
        "colab": {
          "base_uri": "https://localhost:8080/"
        },
        "outputId": "10db51a4-7758-4edc-aac5-cf13cafad987"
      },
      "source": [
        "gridGradientBoosting.fit(X_train,y_train)"
      ],
      "execution_count": null,
      "outputs": [
        {
          "output_type": "stream",
          "name": "stdout",
          "text": [
            "Fitting 5 folds for each of 72 candidates, totalling 360 fits\n"
          ]
        },
        {
          "output_type": "execute_result",
          "data": {
            "text/plain": [
              "GridSearchCV(cv=5, estimator=GradientBoostingClassifier(),\n",
              "             param_grid={'learning_rate': [0.001, 0.003, 0.008],\n",
              "                         'max_depth': [3, 5], 'min_samples_leaf': [2, 4],\n",
              "                         'min_samples_split': [2, 5, 10], 'random_state': [42],\n",
              "                         'subsample': [0.9, 0.5]},\n",
              "             return_train_score=True, scoring='accuracy', verbose=1)"
            ]
          },
          "metadata": {},
          "execution_count": 50
        }
      ]
    },
    {
      "cell_type": "code",
      "metadata": {
        "id": "W5xqLSgOafn3",
        "colab": {
          "base_uri": "https://localhost:8080/"
        },
        "outputId": "fc58bf93-c817-4f03-8515-3f35902f2e90"
      },
      "source": [
        "gridGradientBoosting.best_params_"
      ],
      "execution_count": null,
      "outputs": [
        {
          "output_type": "execute_result",
          "data": {
            "text/plain": [
              "{'learning_rate': 0.008,\n",
              " 'max_depth': 3,\n",
              " 'min_samples_leaf': 2,\n",
              " 'min_samples_split': 2,\n",
              " 'random_state': 42,\n",
              " 'subsample': 0.9}"
            ]
          },
          "metadata": {},
          "execution_count": 51
        }
      ]
    },
    {
      "cell_type": "markdown",
      "metadata": {
        "id": "PyFS2-7VEX1P"
      },
      "source": [
        "### Representacion de Mejores Parametros"
      ]
    },
    {
      "cell_type": "markdown",
      "metadata": {
        "id": "YcWXCYdfEjlq"
      },
      "source": [
        "### Entrenamiento de modelos con mejores parametros"
      ]
    },
    {
      "cell_type": "markdown",
      "metadata": {
        "id": "KZ-5PDjKoqYH"
      },
      "source": [
        "#### Decision Tree"
      ]
    },
    {
      "cell_type": "code",
      "metadata": {
        "id": "MO-LKXpPTWOU"
      },
      "source": [
        "treeMP = DecisionTreeClassifier(**gridTree.best_params_)"
      ],
      "execution_count": null,
      "outputs": []
    },
    {
      "cell_type": "code",
      "metadata": {
        "id": "8fUmZXteJXN-",
        "colab": {
          "base_uri": "https://localhost:8080/"
        },
        "outputId": "0496a9e6-b359-46cf-87df-e6e0fcfdd20c"
      },
      "source": [
        "treeMP.fit(X_train, y_train)"
      ],
      "execution_count": null,
      "outputs": [
        {
          "output_type": "execute_result",
          "data": {
            "text/plain": [
              "DecisionTreeClassifier(criterion='entropy', max_depth=5, min_samples_leaf=8,\n",
              "                       random_state=42)"
            ]
          },
          "metadata": {},
          "execution_count": 53
        }
      ]
    },
    {
      "cell_type": "markdown",
      "metadata": {
        "id": "BXODikvno8PE"
      },
      "source": [
        "#### Logistic Regression"
      ]
    },
    {
      "cell_type": "code",
      "metadata": {
        "id": "mSWMmr6YGmlD"
      },
      "source": [
        "logisticRegressionMP = LogisticRegression(**gridLogisticRegression.best_params_)"
      ],
      "execution_count": null,
      "outputs": []
    },
    {
      "cell_type": "code",
      "metadata": {
        "id": "qSRFuF6EJNXc",
        "colab": {
          "base_uri": "https://localhost:8080/"
        },
        "outputId": "3fef08b7-62b3-41f3-cbc4-665b7044c9a4"
      },
      "source": [
        "logisticRegressionMP.fit(X_train, y_train)"
      ],
      "execution_count": null,
      "outputs": [
        {
          "output_type": "stream",
          "name": "stderr",
          "text": [
            "/usr/local/lib/python3.7/dist-packages/sklearn/svm/_base.py:1208: ConvergenceWarning: Liblinear failed to converge, increase the number of iterations.\n",
            "  ConvergenceWarning,\n"
          ]
        },
        {
          "output_type": "execute_result",
          "data": {
            "text/plain": [
              "LogisticRegression(C=0.1, max_iter=10, penalty='l1', random_state=42,\n",
              "                   solver='liblinear')"
            ]
          },
          "metadata": {},
          "execution_count": 55
        }
      ]
    },
    {
      "cell_type": "markdown",
      "metadata": {
        "id": "hy8Dp2lbo-nS"
      },
      "source": [
        "#### Bagging"
      ]
    },
    {
      "cell_type": "code",
      "metadata": {
        "id": "O-2IGQiX3swx"
      },
      "source": [
        "baggingMP = BaggingClassifier(**gridBagging.best_params_)"
      ],
      "execution_count": null,
      "outputs": []
    },
    {
      "cell_type": "code",
      "metadata": {
        "id": "6N7ZD99GJDQn",
        "colab": {
          "base_uri": "https://localhost:8080/"
        },
        "outputId": "6218f480-9f44-47be-d792-c6b71d40d3a4"
      },
      "source": [
        "baggingMP.fit(X_train, y_train)"
      ],
      "execution_count": null,
      "outputs": [
        {
          "output_type": "execute_result",
          "data": {
            "text/plain": [
              "BaggingClassifier(max_samples=800, n_estimators=500, random_state=42)"
            ]
          },
          "metadata": {},
          "execution_count": 57
        }
      ]
    },
    {
      "cell_type": "markdown",
      "metadata": {
        "id": "hsSr9NKApDQJ"
      },
      "source": [
        "#### RandomForest"
      ]
    },
    {
      "cell_type": "code",
      "metadata": {
        "id": "VDedXRqiIPR2"
      },
      "source": [
        "randomForestMP = RandomForestClassifier(**gridRandomForest.best_params_)"
      ],
      "execution_count": null,
      "outputs": []
    },
    {
      "cell_type": "code",
      "metadata": {
        "id": "Ft2zfZAkJBXr",
        "colab": {
          "base_uri": "https://localhost:8080/"
        },
        "outputId": "ef62ab1c-b261-481c-fc1f-a8ec47cfd340"
      },
      "source": [
        "randomForestMP.fit(X_train, y_train)"
      ],
      "execution_count": null,
      "outputs": [
        {
          "output_type": "execute_result",
          "data": {
            "text/plain": [
              "RandomForestClassifier(max_depth=10, max_features=2, max_samples=200,\n",
              "                       min_samples_leaf=2, random_state=42)"
            ]
          },
          "metadata": {},
          "execution_count": 59
        }
      ]
    },
    {
      "cell_type": "markdown",
      "metadata": {
        "id": "Z9ZLF45-pF1m"
      },
      "source": [
        "#### GradientBoosting"
      ]
    },
    {
      "cell_type": "code",
      "metadata": {
        "id": "aDWcIGmHImmK"
      },
      "source": [
        "gradientBoostingMP= GradientBoostingClassifier(**gridGradientBoosting.best_params_)"
      ],
      "execution_count": null,
      "outputs": []
    },
    {
      "cell_type": "code",
      "metadata": {
        "id": "COMSu5N1FZC8",
        "colab": {
          "base_uri": "https://localhost:8080/"
        },
        "outputId": "2b11e5f2-5520-4e0f-a8f6-086399eab4d6"
      },
      "source": [
        "gradientBoostingMP.fit(X_train, y_train)"
      ],
      "execution_count": null,
      "outputs": [
        {
          "output_type": "execute_result",
          "data": {
            "text/plain": [
              "GradientBoostingClassifier(learning_rate=0.008, min_samples_leaf=2,\n",
              "                           random_state=42, subsample=0.9)"
            ]
          },
          "metadata": {},
          "execution_count": 61
        }
      ]
    },
    {
      "cell_type": "markdown",
      "metadata": {
        "id": "G8mKipE3FomF"
      },
      "source": [
        "### Evaluacion de los modelos"
      ]
    },
    {
      "cell_type": "markdown",
      "metadata": {
        "id": "0tqKMUrmGT2Z"
      },
      "source": [
        "Declaramos la siguiente funcion para evaluar cada uno de los modelos. "
      ]
    },
    {
      "cell_type": "code",
      "metadata": {
        "id": "eJa9WrB-Llfb"
      },
      "source": [
        "def evaluateAccuracy(model, X_train, X_test, y_train, y_test):\n",
        "    y_test_pred = model.predict(X_test)\n",
        "    y_train_pred = model.predict(X_train)\n",
        "    \n",
        "    print(\"Model:\", model)\n",
        "    print(f\"ACCURACY TRAIN: {accuracy_score(y_train, y_train_pred):.6f}\")\n",
        "    print(f\"ACCURACY TEST: {accuracy_score(y_test, y_test_pred):.6f}\")\n",
        "    print(\"\\n\")\n",
        "    "
      ],
      "execution_count": null,
      "outputs": []
    },
    {
      "cell_type": "code",
      "metadata": {
        "id": "FR5va7DFGe42",
        "colab": {
          "base_uri": "https://localhost:8080/"
        },
        "outputId": "5ba7d6a6-fd11-43d1-eb23-29c7ea53c18e"
      },
      "source": [
        "evaluateAccuracy(treeMP, X_train, X_test, y_train, y_test)"
      ],
      "execution_count": null,
      "outputs": [
        {
          "output_type": "stream",
          "name": "stdout",
          "text": [
            "Model: DecisionTreeClassifier(criterion='entropy', max_depth=5, min_samples_leaf=8,\n",
            "                       random_state=42)\n",
            "ACCURACY TRAIN: 0.950657\n",
            "ACCURACY TEST: 0.948701\n",
            "\n",
            "\n"
          ]
        }
      ]
    },
    {
      "cell_type": "code",
      "metadata": {
        "id": "2iIlJGQMJiil",
        "colab": {
          "base_uri": "https://localhost:8080/"
        },
        "outputId": "e0af9d21-f77f-4ddf-f1d0-4bc6c71aee95"
      },
      "source": [
        "evaluateAccuracy(logisticRegressionMP, X_train, X_test, y_train, y_test)"
      ],
      "execution_count": null,
      "outputs": [
        {
          "output_type": "stream",
          "name": "stdout",
          "text": [
            "Model: LogisticRegression(C=0.1, max_iter=10, penalty='l1', random_state=42,\n",
            "                   solver='liblinear')\n",
            "ACCURACY TRAIN: 0.949698\n",
            "ACCURACY TEST: 0.947991\n",
            "\n",
            "\n"
          ]
        }
      ]
    },
    {
      "cell_type": "code",
      "metadata": {
        "id": "czVfXpuPJiWY",
        "colab": {
          "base_uri": "https://localhost:8080/"
        },
        "outputId": "25d61c0a-8589-4711-e27f-21db141f48fa"
      },
      "source": [
        "evaluateAccuracy(baggingMP, X_train, X_test, y_train, y_test)"
      ],
      "execution_count": null,
      "outputs": [
        {
          "output_type": "stream",
          "name": "stdout",
          "text": [
            "Model: BaggingClassifier(max_samples=800, n_estimators=500, random_state=42)\n",
            "ACCURACY TRAIN: 0.950641\n",
            "ACCURACY TEST: 0.948665\n",
            "\n",
            "\n"
          ]
        }
      ]
    },
    {
      "cell_type": "code",
      "metadata": {
        "id": "HRETV5CdJiNV",
        "colab": {
          "base_uri": "https://localhost:8080/"
        },
        "outputId": "56c3e476-839b-42c8-92ad-f36b8e6789b2"
      },
      "source": [
        "evaluateAccuracy(randomForestMP, X_train, X_test, y_train, y_test)"
      ],
      "execution_count": null,
      "outputs": [
        {
          "output_type": "stream",
          "name": "stdout",
          "text": [
            "Model: RandomForestClassifier(max_depth=10, max_features=2, max_samples=200,\n",
            "                       min_samples_leaf=2, random_state=42)\n",
            "ACCURACY TRAIN: 0.949683\n",
            "ACCURACY TEST: 0.947991\n",
            "\n",
            "\n"
          ]
        }
      ]
    },
    {
      "cell_type": "code",
      "metadata": {
        "id": "u4vVgMaHJiEv",
        "colab": {
          "base_uri": "https://localhost:8080/"
        },
        "outputId": "8ce9d6d4-789f-48a0-dd74-44fb7f0dd2ba"
      },
      "source": [
        "evaluateAccuracy(gradientBoostingMP, X_train, X_test, y_train, y_test)"
      ],
      "execution_count": null,
      "outputs": [
        {
          "output_type": "stream",
          "name": "stdout",
          "text": [
            "Model: GradientBoostingClassifier(learning_rate=0.008, min_samples_leaf=2,\n",
            "                           random_state=42, subsample=0.9)\n",
            "ACCURACY TRAIN: 0.950657\n",
            "ACCURACY TEST: 0.948701\n",
            "\n",
            "\n"
          ]
        }
      ]
    },
    {
      "cell_type": "markdown",
      "metadata": {
        "id": "VjsUTE9BGbUG"
      },
      "source": [
        "### Conlusiones"
      ]
    },
    {
      "cell_type": "markdown",
      "metadata": {
        "id": "MR0dEXjjYmYf"
      },
      "source": [
        "#### Mejor Modelo"
      ]
    },
    {
      "cell_type": "markdown",
      "metadata": {
        "id": "Cj3-RzxCHKhy"
      },
      "source": [
        "![Capture.JPG](data:image/jpeg;base64,/9j/4AAQSkZJRgABAQEAYABgAAD/4RDiRXhpZgAATU0AKgAAAAgABAE7AAIAAAAIAAAISodpAAQAAAABAAAIUpydAAEAAAAQAAAQyuocAAcAAAgMAAAAPgAAAAAc6gAAAAgAAAAAAAAAAAAAAAAAAAAAAAAAAAAAAAAAAAAAAAAAAAAAAAAAAAAAAAAAAAAAAAAAAAAAAAAAAAAAAAAAAAAAAAAAAAAAAAAAAAAAAAAAAAAAAAAAAAAAAAAAAAAAAAAAAAAAAAAAAAAAAAAAAAAAAAAAAAAAAAAAAAAAAAAAAAAAAAAAAAAAAAAAAAAAAAAAAAAAAAAAAAAAAAAAAAAAAAAAAAAAAAAAAAAAAAAAAAAAAAAAAAAAAAAAAAAAAAAAAAAAAAAAAAAAAAAAAAAAAAAAAAAAAAAAAAAAAAAAAAAAAAAAAAAAAAAAAAAAAAAAAAAAAAAAAAAAAAAAAAAAAAAAAAAAAAAAAAAAAAAAAAAAAAAAAAAAAAAAAAAAAAAAAAAAAAAAAAAAAAAAAAAAAAAAAAAAAAAAAAAAAAAAAAAAAAAAAAAAAAAAAAAAAAAAAAAAAAAAAAAAAAAAAAAAAAAAAAAAAAAAAAAAAAAAAAAAAAAAAAAAAAAAAAAAAAAAAAAAAAAAAAAAAAAAAAAAAAAAAAAAAAAAAAAAAAAAAAAAAAAAAAAAAAAAAAAAAAAAAAAAAAAAAAAAAAAAAAAAAAAAAAAAAAAAAAAAAAAAAAAAAAAAAAAAAAAAAAAAAAAAAAAAAAAAAAAAAAAAAAAAAAAAAAAAAAAAAAAAAAAAAAAAAAAAAAAAAAAAAAAAAAAAAAAAAAAAAAAAAAAAAAAAAAAAAAAAAAAAAAAAAAAAAAAAAAAAAAAAAAAAAAAAAAAAAAAAAAAAAAAAAAAAAAAAAAAAAAAAAAAAAAAAAAAAAAAAAAAAAAAAAAAAAAAAAAAAAAAAAAAAAAAAAAAAAAAAAAAAAAAAAAAAAAAAAAAAAAAAAAAAAAAAAAAAAAAAAAAAAAAAAAAAAAAAAAAAAAAAAAAAAAAAAAAAAAAAAAAAAAAAAAAAAAAAAAAAAAAAAAAAAAAAAAAAAAAAAAAAAAAAAAAAAAAAAAAAAAAAAAAAAAAAAAAAAAAAAAAAAAAAAAAAAAAAAAAAAAAAAAAAAAAAAAAAAAAAAAAAAAAAAAAAAAAAAAAAAAAAAAAAAAAAAAAAAAAAAAAAAAAAAAAAAAAAAAAAAAAAAAAAAAAAAAAAAAAAAAAAAAAAAAAAAAAAAAAAAAAAAAAAAAAAAAAAAAAAAAAAAAAAAAAAAAAAAAAAAAAAAAAAAAAAAAAAAAAAAAAAAAAAAAAAAAAAAAAAAAAAAAAAAAAAAAAAAAAAAAAAAAAAAAAAAAAAAAAAAAAAAAAAAAAAAAAAAAAAAAAAAAAAAAAAAAAAAAAAAAAAAAAAAAAAAAAAAAAAAAAAAAAAAAAAAAAAAAAAAAAAAAAAAAAAAAAAAAAAAAAAAAAAAAAAAAAAAAAAAAAAAAAAAAAAAAAAAAAAAAAAAAAAAAAAAAAAAAAAAAAAAAAAAAAAAAAAAAAAAAAAAAAAAAAAAAAAAAAAAAAAAAAAAAAAAAAAAAAAAAAAAAAAAAAAAAAAAAAAAAAAAAAAAAAAAAAAAAAAAAAAAAAAAAAAAAAAAAAAAAAAAAAAAAAAAAAAAAAAAAAAAAAAAAAAAAAAAAAAAAAAAAAAAAAAAAAAAAAAAAAAAAAAAAAAAAAAAAAAAAAAAAAAAAAAAAAAAAAAAAAAAAAAAAAAAAAAAAAAAAAAAAAAAAAAAAAAAAAAAAAAAAAAAAAAAAAAAAAAAAAAAAAAAAAAAAAAAAAAAAAAAAAAAAAAAAAAAAAAAAAAAAAAAAAAAAAAAAAAAAAAAAAAAAAAAAAAAAAAAAAAAAAAAAAAAAAAAAAAAAAAAAAAAAAAAAAAAAAAAAAAAAAAAAAAAAAAAAAAAAAAAAAAAAAAAAAAAAAAAAAAAAAAAAAAAAAAAAAAAAAAAAAAAAAAAAAAAAAAAAAAAAAAAAAAAAAAAAAAAAAAAAAAAAAAAAAAAAAAAAAAAAAAAAAAAAAAAAAAAAAAAAAAAAAAAAAAAAAAAAAAAAAAAAAAAAAAAAAAAAAAAAAAAAAAAAAAAAAAAAAAAAAAAAAAAAAAAAAAAAAAAAAAAAAAAAAAAAAAAAAAAAAAAAAAAAAAAAAAAAAAAAAAAAAAAAAAAAAAAAAAAAAAAAAAAAAAAAAAAAAAAAAAAAAAAAAAAAAAAAAAAAAAAAAAAAAAAAAAAAAAAAAAAAAAAAAAAAAAAAAAAAAAAAAAAAAAAAAAAAAAAAAAAAAAAAAAAAAAAAAAAAAAAAAAAAAAAAAAAAAAAAAAAAAAAAAAAAAAAAAAAAAAAAAAAAAAAAAAAAAAAAAAAAAAAAAAAAAAAAAAAAAAAAAAAAAAAAAAAAAAAAAAAAAAAAAAAAAAAAAAAAAAAAAAAAAAAAAAAAAAAAAAAAAAAAAAAAAAAAAAAAAAAAAAAAAAAAAAAAAAAAAAAAAAAAAAAAAAAAAAAAAAAAAAAAAAAAAAAAAAAAAAAAAAAAAAAAAAAAAAAAAAAAAAAAAAAAAAAAAAAAAAAAAAAAAAAAAAAAAAAAAAAAAAAAAAAAAAAAAAAAAAAAAAAAAAAAAAAAAAAAAAAAAAAAAAAAAAAAAAAAAAAAAAAAAAAAAAAAAAAAAAAAAAAAAAAAAAAAAAAAAAAAAAAAAAAAAAAAAAAAAAAAAAAAAAAAAAAAAAAAAAAAAAAAAAAAAAAAAAAAAAAAAAAAAAAAAAAAAAAAAAAAAAAAAAAAAAAAAAAAAAAAAAAAAAAAAAAAAAAElnbmFjaW8AAAWQAwACAAAAFAAAEKCQBAACAAAAFAAAELSSkQACAAAAAzM3AACSkgACAAAAAzM3AADqHAAHAAAIDAAACJQAAAAAHOoAAAAIAAAAAAAAAAAAAAAAAAAAAAAAAAAAAAAAAAAAAAAAAAAAAAAAAAAAAAAAAAAAAAAAAAAAAAAAAAAAAAAAAAAAAAAAAAAAAAAAAAAAAAAAAAAAAAAAAAAAAAAAAAAAAAAAAAAAAAAAAAAAAAAAAAAAAAAAAAAAAAAAAAAAAAAAAAAAAAAAAAAAAAAAAAAAAAAAAAAAAAAAAAAAAAAAAAAAAAAAAAAAAAAAAAAAAAAAAAAAAAAAAAAAAAAAAAAAAAAAAAAAAAAAAAAAAAAAAAAAAAAAAAAAAAAAAAAAAAAAAAAAAAAAAAAAAAAAAAAAAAAAAAAAAAAAAAAAAAAAAAAAAAAAAAAAAAAAAAAAAAAAAAAAAAAAAAAAAAAAAAAAAAAAAAAAAAAAAAAAAAAAAAAAAAAAAAAAAAAAAAAAAAAAAAAAAAAAAAAAAAAAAAAAAAAAAAAAAAAAAAAAAAAAAAAAAAAAAAAAAAAAAAAAAAAAAAAAAAAAAAAAAAAAAAAAAAAAAAAAAAAAAAAAAAAAAAAAAAAAAAAAAAAAAAAAAAAAAAAAAAAAAAAAAAAAAAAAAAAAAAAAAAAAAAAAAAAAAAAAAAAAAAAAAAAAAAAAAAAAAAAAAAAAAAAAAAAAAAAAAAAAAAAAAAAAAAAAAAAAAAAAAAAAAAAAAAAAAAAAAAAAAAAAAAAAAAAAAAAAAAAAAAAAAAAAAAAAAAAAAAAAAAAAAAAAAAAAAAAAAAAAAAAAAAAAAAAAAAAAAAAAAAAAAAAAAAAAAAAAAAAAAAAAAAAAAAAAAAAAAAAAAAAAAAAAAAAAAAAAAAAAAAAAAAAAAAAAAAAAAAAAAAAAAAAAAAAAAAAAAAAAAAAAAAAAAAAAAAAAAAAAAAAAAAAAAAAAAAAAAAAAAAAAAAAAAAAAAAAAAAAAAAAAAAAAAAAAAAAAAAAAAAAAAAAAAAAAAAAAAAAAAAAAAAAAAAAAAAAAAAAAAAAAAAAAAAAAAAAAAAAAAAAAAAAAAAAAAAAAAAAAAAAAAAAAAAAAAAAAAAAAAAAAAAAAAAAAAAAAAAAAAAAAAAAAAAAAAAAAAAAAAAAAAAAAAAAAAAAAAAAAAAAAAAAAAAAAAAAAAAAAAAAAAAAAAAAAAAAAAAAAAAAAAAAAAAAAAAAAAAAAAAAAAAAAAAAAAAAAAAAAAAAAAAAAAAAAAAAAAAAAAAAAAAAAAAAAAAAAAAAAAAAAAAAAAAAAAAAAAAAAAAAAAAAAAAAAAAAAAAAAAAAAAAAAAAAAAAAAAAAAAAAAAAAAAAAAAAAAAAAAAAAAAAAAAAAAAAAAAAAAAAAAAAAAAAAAAAAAAAAAAAAAAAAAAAAAAAAAAAAAAAAAAAAAAAAAAAAAAAAAAAAAAAAAAAAAAAAAAAAAAAAAAAAAAAAAAAAAAAAAAAAAAAAAAAAAAAAAAAAAAAAAAAAAAAAAAAAAAAAAAAAAAAAAAAAAAAAAAAAAAAAAAAAAAAAAAAAAAAAAAAAAAAAAAAAAAAAAAAAAAAAAAAAAAAAAAAAAAAAAAAAAAAAAAAAAAAAAAAAAAAAAAAAAAAAAAAAAAAAAAAAAAAAAAAAAAAAAAAAAAAAAAAAAAAAAAAAAAAAAAAAAAAAAAAAAAAAAAAAAAAAAAAAAAAAAAAAAAAAAAAAAAAAAAAAAAAAAAAAAAAAAAAAAAAAAAAAAAAAAAAAAAAAAAAAAAAAAAAAAAAAAAAAAAAAAAAAAAAAAAAAAAAAAAAAAAAAAAAAAAAAAAAAAAAAAAAAAAAAAAAAAAAAAAAAAAAAAAAAAAAAAAAAAAAAAAAAAAAAAAAAAAAAAAAAAAAAAAAAAAAAAAAAAAAAAAAAAAAAAAAAAAAAAAAAAAAAAAAAAAAAAAAAAAAAAAAAAAAAAAAAAAAAAAAAAAAAAAAAAAAAAAAAAAAAAAAAAAAAAAAAAAAAAAAAAAAAAAAAAAAAAAAAAAAAAAAAAAAAAAAAAAAAAAAAAAAAAAAAAAAAAAAAAAAAAAAAAAAAAAAAAAAAAAAAAAAAAAAAAAAAAAAAAAAAAAAAAAAAAAAAAAAAAAAAAAAAAAAAAAAAAAAAAAAAAAAAAAAAAAAAAAAAAAAAAAAAAAAAAAAAAAAAAAAAAAAAAAAAAAAAAAAAAAAAAAAAAAAAAAAAAAAAAAAAAAAAAAAAAAAAAAAAAAAAAAAAAAAAAAAAAAAAAAAAAAAAAAAAAAAAAAAAAAAAAAAAAAAAAAAAAAAAAAAAAAAAAAAAAAAAAAAAAAAAAAAAAAAAAAAAAAAAAAAAAAAAAAAAAAAAAAAAAAAAAAAAAAAAAAAAAAAAAAAAAAAAAAAAAAAAAAAAAAAAAAAAAAAAAAAAAAAAAAAAAAAAAAAAAAAAAAAAAAAAAAAAAAAAAAAAAAAAAAAAAAAAAAAAAAAAAAAAAAAAAAAAAAAAAAAAAAAAAAAAAAAAAAAAAAAAAAAAAAAAAAAAAAAAAAAAAAAAAAAAAAAAAAAAAAAAAAAAAAAAAAAAAAAAAAAAAAAAAAAAAAAAAAAAAAAAAAAAAAAAAAAAAAAAAAAAAAAAAAAAAAAAAAAAAAAAAAAAAAAAAAAAAAAAAAAAAAAAAAAAAAAAAAAAAAAAAAAAAAAAAAAAAAAAAAAAAAAAAAAAAAAAAAAAAAAAAAAAAAAAAAAAAAAAAAAAAAAAAAAAAAAAAAAAAAAAAAAAAAAAAAAAAAAAAAAAAAAAAAAAAAAAAAAAyMDIxOjEyOjA1IDEwOjQ3OjMzADIwMjE6MTI6MDUgMTA6NDc6MzMAAABJAGcAbgBhAGMAaQBvAAAA/+ELGmh0dHA6Ly9ucy5hZG9iZS5jb20veGFwLzEuMC8APD94cGFja2V0IGJlZ2luPSfvu78nIGlkPSdXNU0wTXBDZWhpSHpyZVN6TlRjemtjOWQnPz4NCjx4OnhtcG1ldGEgeG1sbnM6eD0iYWRvYmU6bnM6bWV0YS8iPjxyZGY6UkRGIHhtbG5zOnJkZj0iaHR0cDovL3d3dy53My5vcmcvMTk5OS8wMi8yMi1yZGYtc3ludGF4LW5zIyI+PHJkZjpEZXNjcmlwdGlvbiByZGY6YWJvdXQ9InV1aWQ6ZmFmNWJkZDUtYmEzZC0xMWRhLWFkMzEtZDMzZDc1MTgyZjFiIiB4bWxuczpkYz0iaHR0cDovL3B1cmwub3JnL2RjL2VsZW1lbnRzLzEuMS8iLz48cmRmOkRlc2NyaXB0aW9uIHJkZjphYm91dD0idXVpZDpmYWY1YmRkNS1iYTNkLTExZGEtYWQzMS1kMzNkNzUxODJmMWIiIHhtbG5zOnhtcD0iaHR0cDovL25zLmFkb2JlLmNvbS94YXAvMS4wLyI+PHhtcDpDcmVhdGVEYXRlPjIwMjEtMTItMDVUMTA6NDc6MzMuMzY2PC94bXA6Q3JlYXRlRGF0ZT48L3JkZjpEZXNjcmlwdGlvbj48cmRmOkRlc2NyaXB0aW9uIHJkZjphYm91dD0idXVpZDpmYWY1YmRkNS1iYTNkLTExZGEtYWQzMS1kMzNkNzUxODJmMWIiIHhtbG5zOmRjPSJodHRwOi8vcHVybC5vcmcvZGMvZWxlbWVudHMvMS4xLyI+PGRjOmNyZWF0b3I+PHJkZjpTZXEgeG1sbnM6cmRmPSJodHRwOi8vd3d3LnczLm9yZy8xOTk5LzAyLzIyLXJkZi1zeW50YXgtbnMjIj48cmRmOmxpPklnbmFjaW88L3JkZjpsaT48L3JkZjpTZXE+DQoJCQk8L2RjOmNyZWF0b3I+PC9yZGY6RGVzY3JpcHRpb24+PC9yZGY6UkRGPjwveDp4bXBtZXRhPg0KICAgICAgICAgICAgICAgICAgICAgICAgICAgICAgICAgICAgICAgICAgICAgICAgICAgICAgICAgICAgICAgICAgICAgICAgICAgICAgICAgICAgICAgICAgICAgICAgICAgIAogICAgICAgICAgICAgICAgICAgICAgICAgICAgICAgICAgICAgICAgICAgICAgICAgICAgICAgICAgICAgICAgICAgICAgICAgICAgICAgICAgICAgICAgICAgICAgICAgICAgCiAgICAgICAgICAgICAgICAgICAgICAgICAgICAgICAgICAgICAgICAgICAgICAgICAgICAgICAgICAgICAgICAgICAgICAgICAgICAgICAgICAgICAgICAgICAgICAgICAgICAKICAgICAgICAgICAgICAgICAgICAgICAgICAgICAgICAgICAgICAgICAgICAgICAgICAgICAgICAgICAgICAgICAgICAgICAgICAgICAgICAgICAgICAgICAgICAgICAgICAgIAogICAgICAgICAgICAgICAgICAgICAgICAgICAgICAgICAgICAgICAgICAgICAgICAgICAgICAgICAgICAgICAgICAgICAgICAgICAgICAgICAgICAgICAgICAgICAgICAgICAgCiAgICAgICAgICAgICAgICAgICAgICAgICAgICAgICAgICAgICAgICAgICAgICAgICAgICAgICAgICAgICAgICAgICAgICAgICAgICAgICAgICAgICAgICAgICAgICAgICAgICAKICAgICAgICAgICAgICAgICAgICAgICAgICAgICAgICAgICAgICAgICAgICAgICAgICAgICAgICAgICAgICAgICAgICAgICAgICAgICAgICAgICAgICAgICAgICAgICAgICAgIAogICAgICAgICAgICAgICAgICAgICAgICAgICAgICAgICAgICAgICAgICAgICAgICAgICAgICAgICAgICAgICAgICAgICAgICAgICAgICAgICAgICAgICAgICAgICAgICAgICAgCiAgICAgICAgICAgICAgICAgICAgICAgICAgICAgICAgICAgICAgICAgICAgICAgICAgICAgICAgICAgICAgICAgICAgICAgICAgICAgICAgICAgICAgICAgICAgICAgICAgICAKICAgICAgICAgICAgICAgICAgICAgICAgICAgICAgICAgICAgICAgICAgICAgICAgICAgICAgICAgICAgICAgICAgICAgICAgICAgICAgICAgICAgICAgICAgICAgICAgICAgIAogICAgICAgICAgICAgICAgICAgICAgICAgICAgICAgICAgICAgICAgICAgICAgICAgICAgICAgICAgICAgICAgICAgICAgICAgICAgICAgICAgICAgICAgICAgICAgICAgICAgCiAgICAgICAgICAgICAgICAgICAgICAgICAgICAgICAgICAgICAgICAgICAgICAgICAgICAgICAgICAgICAgICAgICAgICAgICAgICAgICAgICAgICAgICAgICAgICAgICAgICAKICAgICAgICAgICAgICAgICAgICAgICAgICAgICAgICAgICAgICAgICAgICAgICAgICAgICAgICAgICAgICAgICAgICAgICAgICAgICAgICAgICAgICAgICAgICAgICAgICAgIAogICAgICAgICAgICAgICAgICAgICAgICAgICAgICAgICAgICAgICAgICAgICAgICAgICAgICAgICAgICAgICAgICAgICAgICAgICAgICAgICAgICAgICAgICAgICAgICAgICAgCiAgICAgICAgICAgICAgICAgICAgICAgICAgICAgICAgICAgICAgICAgICAgICAgICAgICAgICAgICAgICAgICAgICAgICAgICAgICAgICAgICAgICAgICAgICAgICAgICAgICAKICAgICAgICAgICAgICAgICAgICAgICAgICAgICAgICAgICAgICAgICAgICAgICAgICAgICAgICAgICAgICAgICAgICAgICAgICAgICAgICAgICAgICAgICAgICAgICAgICAgIAogICAgICAgICAgICAgICAgICAgICAgICAgICAgICAgICAgICAgICAgICAgICAgICAgICAgICAgICAgICAgICAgICAgICAgICAgICAgICAgICAgICAgICAgICAgICAgICAgICAgCiAgICAgICAgICAgICAgICAgICAgICAgICAgICAgICAgICAgICAgICAgICAgICAgICAgICAgICAgICAgICAgICAgICAgICAgICAgICAgICAgICAgICAgICAgICAgICAgICAgICAKICAgICAgICAgICAgICAgICAgICAgICAgICAgICAgICAgICAgICAgICAgICAgICAgICAgICAgICAgICAgICAgICAgICAgICAgICAgICAgICAgICAgICAgICAgICAgICAgICAgIAogICAgICAgICAgICAgICAgICAgICAgICAgICAgICAgICAgICAgICAgICAgICAgICAgICAgICAgICAgICAgICAgICAgICAgICAgICAgICAgICAgICAgICAgICAgICAgICAgICAgCiAgICAgICAgICAgICAgICAgICAgICAgICAgICA8P3hwYWNrZXQgZW5kPSd3Jz8+/9sAQwAHBQUGBQQHBgUGCAcHCAoRCwoJCQoVDxAMERgVGhkYFRgXGx4nIRsdJR0XGCIuIiUoKSssKxogLzMvKjInKisq/9sAQwEHCAgKCQoUCwsUKhwYHCoqKioqKioqKioqKioqKioqKioqKioqKioqKioqKioqKioqKioqKioqKioqKioqKioq/8AAEQgBmAdqAwEiAAIRAQMRAf/EAB8AAAEFAQEBAQEBAAAAAAAAAAABAgMEBQYHCAkKC//EALUQAAIBAwMCBAMFBQQEAAABfQECAwAEEQUSITFBBhNRYQcicRQygZGhCCNCscEVUtHwJDNicoIJChYXGBkaJSYnKCkqNDU2Nzg5OkNERUZHSElKU1RVVldYWVpjZGVmZ2hpanN0dXZ3eHl6g4SFhoeIiYqSk5SVlpeYmZqio6Slpqeoqaqys7S1tre4ubrCw8TFxsfIycrS09TV1tfY2drh4uPk5ebn6Onq8fLz9PX29/j5+v/EAB8BAAMBAQEBAQEBAQEAAAAAAAABAgMEBQYHCAkKC//EALURAAIBAgQEAwQHBQQEAAECdwABAgMRBAUhMQYSQVEHYXETIjKBCBRCkaGxwQkjM1LwFWJy0QoWJDThJfEXGBkaJicoKSo1Njc4OTpDREVGR0hJSlNUVVZXWFlaY2RlZmdoaWpzdHV2d3h5eoKDhIWGh4iJipKTlJWWl5iZmqKjpKWmp6ipqrKztLW2t7i5usLDxMXGx8jJytLT1NXW19jZ2uLj5OXm5+jp6vLz9PX29/j5+v/aAAwDAQACEQMRAD8A+kaKKKACiiigAooooAKKKKACiiigAooooAKKKKACiiigAooooAKKKKACiiigAooooAKKKKACiiigAooooAKKKKACiiigAooooAKKKKACiiigAooooAKKKKACiiigAooooAKKKKACiiigAooooAKKKKACiiigAooooAKKKKACiiigAooooAKKKKACiiigAooooAKKKKACiiigAooooAKKKKACiiigAooooAKKKKACiiigAooooAKKKKACiiigAooooAKKKKACiiigAooooAKKKKACiiigAooooAKKKKACiiigAooooAKKKKACiiigAooooAKKKKACiiigAooooAKKKKACiiigAooooAKKKKACiiigAooooAKKKKACiiigAooooAKKKKACiiigAooooAKKKKACiiigAooooAKKKKACiiigAooooAKKKKACiiigAooooAKKKKACiiigAooooAKKKKACiiigAooooAKKKKACiiigAooooAKKKKACiiigAooooAKKKKACiiigAooooAKKKKACiiigAooooAKKKKACiiigAooooAKKKKACiiigAooooAKKKKACiiigAooooAKKKKACiiigAooooAKKKKACiiigAooooAKKKKACiiigAooooAKKK8c8V+D9B8b/ALR8emeJ9PF9axeExcInnSRkOLtlByjA9Gbj3oA9jorzb/hnz4Y/9Cz/AOT9z/8AHKP+GfPhj/0LP/k/c/8AxygD0mivNv8Ahnz4Y/8AQs/+T9z/APHKP+GfPhj/ANCz/wCT9z/8coA9Jorzb/hnz4Y/9Cz/AOT9z/8AHKP+GfPhj/0LP/k/c/8AxygD0mivNv8Ahnz4Y/8AQs/+T9z/APHKP+GfPhj/ANCz/wCT9z/8coA9Jorzb/hnz4Y/9Cz/AOT9z/8AHKP+GfPhj/0LP/k/c/8AxygD0mivNv8Ahnz4Y/8AQs/+T9z/APHKP+GfPhj/ANCz/wCT9z/8coA9Jorzb/hnz4Y/9Cz/AOT9z/8AHKP+GfPhj/0LP/k/c/8AxygD0mivNv8Ahnz4Y/8AQs/+T9z/APHKP+GfPhj/ANCz/wCT9z/8coA9Jorzb/hnz4Y/9Cz/AOT9z/8AHKP+GfPhj/0LP/k/c/8AxygD0mivNv8Ahnz4Y/8AQs/+T9z/APHKP+GfPhj/ANCz/wCT9z/8coA9Jorzb/hnz4Y/9Cz/AOT9z/8AHKP+GfPhj/0LP/k/c/8AxygD0mivNv8Ahnz4Y/8AQs/+T9z/APHKP+GfPhj/ANCz/wCT9z/8coA9Jorzb/hnz4Y/9Cz/AOT9z/8AHKP+GfPhj/0LP/k/c/8AxygD0mivNv8Ahnz4Y/8AQs/+T9z/APHKP+GfPhj/ANCz/wCT9z/8coA9Jorzb/hnz4Y/9Cz/AOT9z/8AHKP+GfPhj/0LP/k/c/8AxygD0mivNv8Ahnz4Y/8AQs/+T9z/APHKP+GfPhj/ANCz/wCT9z/8coA9Jorzb/hnz4Y/9Cz/AOT9z/8AHKP+GfPhj/0LP/k/c/8AxygD0mivNv8Ahnz4Y/8AQs/+T9z/APHKP+GfPhj/ANCz/wCT9z/8coA9Jorzb/hnz4Y/9Cz/AOT9z/8AHKP+GfPhj/0LP/k/c/8AxygD0mivNv8Ahnz4Y/8AQs/+T9z/APHKP+GfPhj/ANCz/wCT9z/8coA9Jorzb/hnz4Y/9Cz/AOT9z/8AHKP+GfPhj/0LP/k/c/8AxygD0mivNv8Ahnz4Y/8AQs/+T9z/APHKP+GfPhj/ANCz/wCT9z/8coA9Jorzb/hnz4Y/9Cz/AOT9z/8AHKP+GfPhj/0LP/k/c/8AxygD0mivNv8Ahnz4Y/8AQs/+T9z/APHKP+GfPhj/ANCz/wCT9z/8coA9Jorzb/hnz4Y/9Cz/AOT9z/8AHKP+GfPhj/0LP/k/c/8AxygD0mivNv8Ahnz4Y/8AQs/+T9z/APHKP+GfPhj/ANCz/wCT9z/8coA9Jorzb/hnz4Y/9Cz/AOT9z/8AHKP+GfPhj/0LP/k/c/8AxygD0mivNv8Ahnz4Y/8AQs/+T9z/APHKP+GfPhj/ANCz/wCT9z/8coA9Jorzb/hnz4Y/9Cz/AOT9z/8AHKP+GfPhj/0LP/k/c/8AxygD0mivNv8Ahnz4Y/8AQs/+T9z/APHKP+GfPhj/ANCz/wCT9z/8coA9Jorzb/hnz4Y/9Cz/AOT9z/8AHKP+GfPhj/0LP/k/c/8AxygD0mivNv8Ahnz4Y/8AQs/+T9z/APHKP+GfPhj/ANCz/wCT9z/8coA9Jorzb/hnz4Y/9Cz/AOT9z/8AHKP+GfPhj/0LP/k/c/8AxygD0mivNv8Ahnz4Y/8AQs/+T9z/APHKP+GfPhj/ANCz/wCT9z/8coA9Jorzb/hnz4Y/9Cz/AOT9z/8AHKP+GfPhj/0LP/k/c/8AxygD0mivNv8Ahnz4Y/8AQs/+T9z/APHKP+GfPhj/ANCz/wCT9z/8coA9Jorzb/hnz4Y/9Cz/AOT9z/8AHKP+GfPhj/0LP/k/c/8AxygD0mivNv8Ahnz4Y/8AQs/+T9z/APHKP+GfPhj/ANCz/wCT9z/8coA9Jorzb/hnz4Y/9Cz/AOT9z/8AHKP+GfPhj/0LP/k/c/8AxygD0mivNv8Ahnz4Y/8AQs/+T9z/APHKP+GfPhj/ANCz/wCT9z/8coA9Jorzb/hnz4Y/9Cz/AOT9z/8AHKP+GfPhj/0LP/k/c/8AxygD0mivNv8Ahnz4Y/8AQs/+T9z/APHKP+GfPhj/ANCz/wCT9z/8coA9Jorzb/hnz4Y/9Cz/AOT9z/8AHKP+GfPhj/0LP/k/c/8AxygD0mivNv8Ahnz4Y/8AQs/+T9z/APHKP+GfPhj/ANCz/wCT9z/8coA9Jorzb/hnz4Y/9Cz/AOT9z/8AHKP+GfPhj/0LP/k/c/8AxygD0mivNv8Ahnz4Y/8AQs/+T9z/APHKP+GfPhj/ANCz/wCT9z/8coA9Jorzb/hnz4Y/9Cz/AOT9z/8AHKP+GfPhj/0LP/k/c/8AxygD0mivNv8Ahnz4Y/8AQs/+T9z/APHKP+GfPhj/ANCz/wCT9z/8coA9Jorzb/hnz4Y/9Cz/AOT9z/8AHKP+GfPhj/0LP/k/c/8AxygD0mivNv8Ahnz4Y/8AQs/+T9z/APHKP+GfPhj/ANCz/wCT9z/8coA9Jorzb/hnz4Y/9Cz/AOT9z/8AHKP+GfPhj/0LP/k/c/8AxygD0mivNv8Ahnz4Y/8AQs/+T9z/APHKP+GfPhj/ANCz/wCT9z/8coA9Jorzb/hnz4Y/9Cz/AOT9z/8AHKP+GfPhj/0LP/k/c/8AxygD0mivAfh/8H/Auv6v4wi1bQvPTTNbls7QfbJ18uJVXC8OM9epya7X/hnz4Y/9Cz/5P3P/AMcoA9Jorzb/AIZ8+GP/AELP/k/c/wDxyj/hnz4Y/wDQs/8Ak/c//HKAPSaK82/4Z8+GP/Qs/wDk/c//AByj/hnz4Y/9Cz/5P3P/AMcoA9Jorzb/AIZ8+GP/AELP/k/c/wDxyj/hnz4Y/wDQs/8Ak/c//HKAPSaK82/4Z8+GP/Qs/wDk/c//AByj/hnz4Y/9Cz/5P3P/AMcoA9Jorzb/AIZ8+GP/AELP/k/c/wDxyj/hnz4Y/wDQs/8Ak/c//HKAPSaK82/4Z8+GP/Qs/wDk/c//AByj/hnz4Y/9Cz/5P3P/AMcoA9Jorzb/AIZ8+GP/AELP/k/c/wDxyj/hnz4Y/wDQs/8Ak/c//HKAPSaK82/4Z8+GP/Qs/wDk/c//AByj/hnz4Y/9Cz/5P3P/AMcoA9Jorzb/AIZ8+GP/AELP/k/c/wDxyj/hnz4Y/wDQs/8Ak/c//HKAPSaK82/4Z8+GP/Qs/wDk/c//AByj/hnz4Y/9Cz/5P3P/AMcoA9Jorzb/AIZ8+GP/AELP/k/c/wDxyj/hnz4Y/wDQs/8Ak/c//HKAPSaK82/4Z8+GP/Qs/wDk/c//AByj/hnz4Y/9Cz/5P3P/AMcoA9Jorzb/AIZ8+GP/AELP/k/c/wDxyj/hnz4Y/wDQs/8Ak/c//HKAPSaK82/4Z8+GP/Qs/wDk/c//AByj/hnz4Y/9Cz/5P3P/AMcoA9Jorzb/AIZ8+GP/AELP/k/c/wDxyj/hnz4Y/wDQs/8Ak/c//HKAPSaK82/4Z8+GP/Qs/wDk/c//AByj/hnz4Y/9Cz/5P3P/AMcoA9Jorzb/AIZ8+GP/AELP/k/c/wDxyj/hnz4Y/wDQs/8Ak/c//HKAPSaK82/4Z8+GP/Qs/wDk/c//AByj/hnz4Y/9Cz/5P3P/AMcoA9Jorzb/AIZ8+GP/AELP/k/c/wDxyj/hnz4Y/wDQs/8Ak/c//HKAPSaK82/4Z8+GP/Qs/wDk/c//AByj/hnz4Y/9Cz/5P3P/AMcoA9Jorzb/AIZ8+GP/AELP/k/c/wDxyj/hnz4Y/wDQs/8Ak/c//HKAPSaK82/4Z8+GP/Qs/wDk/c//AByj/hnz4Y/9Cz/5P3P/AMcoA9Jorzb/AIZ8+GP/AELP/k/c/wDxyj/hnz4Y/wDQs/8Ak/c//HKAPSaK82/4Z8+GP/Qs/wDk/c//AByj/hnz4Y/9Cz/5P3P/AMcoA9Jorzb/AIZ8+GP/AELP/k/c/wDxyj/hnz4Y/wDQs/8Ak/c//HKAPSaK82/4Z8+GP/Qs/wDk/c//AByj/hnz4Y/9Cz/5P3P/AMcoA9Jorzb/AIZ8+GP/AELP/k/c/wDxyj/hnz4Y/wDQs/8Ak/c//HKAPSaK82/4Z8+GP/Qs/wDk/c//AByuL1P4Q+BrX4z6F4dg0Pbpd5plxcTwfa5zvdWGDu37h24B7UAe+0V5t/wz58Mf+hZ/8n7n/wCOUf8ADPnwx/6Fn/yfuf8A45QB6TRXm3/DPnwx/wChZ/8AJ+5/+OUf8M+fDH/oWf8Ayfuf/jlAHpNFebf8M+fDH/oWf/J+5/8AjlH/AAz58Mf+hZ/8n7n/AOOUAek0V5t/wz58Mf8AoWf/ACfuf/jlH/DPnwx/6Fn/AMn7n/45QB6TRXm3/DPnwx/6Fn/yfuf/AI5R/wAM+fDH/oWf/J+5/wDjlAHpNFebf8M+fDH/AKFn/wAn7n/45R/wz58Mf+hZ/wDJ+5/+OUAek0V5t/wz58Mf+hZ/8n7n/wCOUf8ADPnwx/6Fn/yfuf8A45QB6TRXm3/DPnwx/wChZ/8AJ+5/+OUf8M+fDH/oWf8Ayfuf/jlAHpNFebf8M+fDH/oWf/J+5/8AjlH/AAz58Mf+hZ/8n7n/AOOUAek0V5t/wz58Mf8AoWf/ACfuf/jlH/DPnwx/6Fn/AMn7n/45QB6TRXm3/DPnwx/6Fn/yfuf/AI5R/wAM+fDH/oWf/J+5/wDjlAHpNFebf8M+fDH/AKFn/wAn7n/45R/wz58Mf+hZ/wDJ+5/+OUAek0V5t/wz58Mf+hZ/8n7n/wCOUf8ADPnwx/6Fn/yfuf8A45QB6TRXm3/DPnwx/wChZ/8AJ+5/+OUf8M+fDH/oWf8Ayfuf/jlAHpNFebf8M+fDH/oWf/J+5/8AjlH/AAz58Mf+hZ/8n7n/AOOUAek0V5t/wz58Mf8AoWf/ACfuf/jlH/DPnwx/6Fn/AMn7n/45QB6TRXm3/DPnwx/6Fn/yfuf/AI5R/wAM+fDH/oWf/J+5/wDjlAHpNFebf8M+fDH/AKFn/wAn7n/45R/wz58Mf+hZ/wDJ+5/+OUAek0V5t/wz58Mf+hZ/8n7n/wCOUf8ADPnwx/6Fn/yfuf8A45QB6TRXm3/DPnwx/wChZ/8AJ+5/+OUf8M+fDH/oWf8Ayfuf/jlAHpNFebf8M+fDH/oWf/J+5/8AjlH/AAz58Mf+hZ/8n7n/AOOUAek0V5t/wz58Mf8AoWf/ACfuf/jlH/DPnwx/6Fn/AMn7n/45QB6TRXm3/DPnwx/6Fn/yfuf/AI5R/wAM+fDH/oWf/J+5/wDjlAHpNFebf8M+fDH/AKFn/wAn7n/45R/wz58Mf+hZ/wDJ+5/+OUAek0V5t/wz58Mf+hZ/8n7n/wCOUf8ADPnwx/6Fn/yfuf8A45QB6TRXm3/DPnwx/wChZ/8AJ+5/+OUf8M+fDH/oWf8Ayfuf/jlAHpNFebf8M+fDH/oWf/J+5/8AjlH/AAz58Mf+hZ/8n7n/AOOUAek0V5t/wz58Mf8AoWf/ACfuf/jlH/DPnwx/6Fn/AMn7n/45QB6TRXm3/DPnwx/6Fn/yfuf/AI5R/wAM+fDH/oWf/J+5/wDjlAHpNFebf8M+fDH/AKFn/wAn7n/45R/wz58Mf+hZ/wDJ+5/+OUAek0V5t/wz58Mf+hZ/8n7n/wCOUf8ADPnwx/6Fn/yfuf8A45QB6TRXm3/DPnwx/wChZ/8AJ+5/+OUf8M+fDH/oWf8Ayfuf/jlAHpNFeT/BnRNO8P8Aifx9p2kW/wBntbbVI4Yo97PtRY8gZYkn7xr1igAooooAKKKKACiiigArzb/m6b/uTP8A29r0mvNv+bpv+5M/9vaAPSaKKKACiiigAooooAKKKKACiiigAooooAKKKKACiiigAooooAKKKKACiiigAooooAKKKKACiiigAooooAKKKKACiiigAooooAKKKKACiiigDlPHd943sLO3l8AaXpupyDebmK9kKNjjbs+ZR/ezk+leBXf7T/jixvLi0vPDmkwXFq5SeJ4pg0bA4II38c8V9UV8y6z4Sj8XftAfEvQ4o182fQRJb8dJx9kdT+LDn2JoA6D4T/tBal438dRaB4gsNPtEuoX+zyWwcEyqN207mIwVDfiBXvVfnXo2q3Xh7xBZapZ5S6sLhJkB4+ZWzg/lg1+g+jarba5odlqti262vYEniP8AssoI/HmgDlfi148l+HfgOTWbOKCe9e4jgtop87HZjk5AIP3VY9e1eDn9q3xcDg6JooP+5L/8XXoXjYf8LC/aG8P+Ek/eab4dj/tLUV7F+GVSO/8AyzH/AG0avk25/wCPqX/fP86APs34beLviX4uk07U9d8P6Pp/h67Qyeckjid0KEoyqXPBbb1A4OfSvUq5v4cf8ks8Kf8AYFs//RCVu3t7a6dZS3moXMVrbQrukmmcIiD1JPAoAnorzC5/aC8DLqP2HSpdR1qfn5dNsXkzjrjOM/UZFTaT8fPAWp6h9hudRn0m63bPL1O3aHB9C3Kr+JFAHpNFNjkSWNZInV0cBlZTkMD0INJNPFbQST3EqRRRqWeSRgqqB1JJ6CgBLiBbm1lgcsqyoUJRsMARjg9jXy78dPhc3gfQrbXtE8QatPayXIt5ra9ujIVLKxDK3HHykEHJ5HNepav+0b8PtKvWtor661FlO1nsrcsmfZmIB+oyK89+N/xV8KeOvhetloV9J9uj1CKR7S4gaOQKFcZ5GD1HQmgDjf2bpZJPjRamR2Y/ZJ+WOf4a+yK+NP2a/wDks9p/16T/APoNfZdABRXD+K/jF4K8H3zWGp6r51+p2taWcZmkU+hxwp9iQaw1/aI8EQ6gLPVl1fSJCAf9OsGTAPQ4XJx+FAHqlfJ3x5+HMvgK3sNV0fX9VubK8mMDwXl00jRvt3AhuMggHg8jHU54+pdK1bT9c02LUNHvIb20mGY5oHDK34jv7dq8V/au/wCRB0b/ALCf/tJ6APPf2XJHk+LN4ZHZidJlyWOf+WsVfXFfIn7LP/JWLv8A7BMv/o2KvrugAoriPFnxh8E+DLp7TWNZRr1OGtbVDNIp9G28KfZiKwm/aH8HW5hbUrTXNOhn5jnu9OZUceowST+AoA9UorJ8PeKNE8Wad9u8Oanb6hb5wzQtyh9GU8qfYgGtagAooooAKKKKACiiigAooooAKKKKACiiigAooooAKKKKACiiigAooooAKKKKACiiigAooooAKKKKACiiigAooooAKKKKACiiigAooooAKKKKAPNvhN/yHviD/wBjNP8A+grXpNebfCb/AJD3xB/7Gaf/ANBWvSaACiiigArk/ib4wHgX4e6nralftMcfl2isMhpm4TjuB94j0U11lfPvxvj1H4k/ECy+H3h98nTLKXUrvuPN8s+Wp/NRn/ptQBS+Dvx58QeJviFb6H4untnt76J0t2jgEZWYfMuSOxAYY9SK+j6/OWwvrrSNVtr6zcw3VnMs0TY5R1bIP5iv0E8K+ILfxV4T03XLPAivrdZdoOdjEfMv1DZH4UAa1FFZmv8AiXRvC2mtqHiHUbfT7YHAeZsbj6KOrH2AJoA06K8q/wCGiPBk3nvp9treoW9uMy3Ntp7NGg9SSQQPqK6fwd8UPCPjt2h8Paqkt0q7mtJlMcoHqFb7w9xkCgDrqKK4DxN8bfAvhW+exvNW+13qNta3sYzMyn0JHyg+2c0Ad/RXl8X7QfglL+O01caro0kgDKdRsHjBB6HjJx79K6zW/iH4T8O6XZalq+t20Nlfgm1nTdKswABO0oDnqKAOkorzWb9oT4ZxdPETSH0SxuP6piuuvPGegad4RtvE+oagttpFzFFNHcyI3KyAFPlAyMgjjFAG5RXm837QPwzh/wCZk3n0SyuD+vl4rsfC/ijSvGOgxaxoE7XFlKzKjtGyElTg8MAeooA16K4XVfjT8PtE1G5sNT8RxxXVrK0M0Qt5nKOpww+VD0Ip3hv4xeCfFuurpGg6s1zdtG0gDWssa7VGScsoHSgDuKK8u1j9oj4faRqzWP8AaFxelG2vPZweZEp/3sjd9VyK9D0nWtO1zRINX0q7jubC4j8yOdThSvfOemMEEHpg5oAvUV51qvx08DadqX9n2moT6xeZ2+TpVu1wSfZh8p/AmqEX7RfgQX5s9TfU9KmU4cXtiylD7hdxH5UAeqUVV0zU7HWdNh1DSruG8tJ13RTwuGVh7EVaoAKK4DxN8bfAvhW+exvNW+13qNta3sYzMyn0JHyg+2c1nRftB+CUv47TVxqujSSAMp1GweMEHoeMnHv0oA9Qorjdf+Lfgfwy1mNY1+KNb6AXFs8MMs6Sxkkbg0asOoPesj/hoP4Y/wDQzf8Akhc//G6APSaKwvD/AI00DxT4fm1zQr43WnQM6yTeRImCqhm+VlDHAI6CuT/4aD+GP/Qzf+SFz/8AG6APSa5n4jeJrrwd8PdV1+whhnuLKNWSOcEo2XVecEHofWtTw94h0vxVoVvrGg3P2qwuN3lTeWybtrFT8rAEcqRyKxfih4ev/Ffw01jRNIWNry7jRYhI+1SRIrHJ7cA0AeReDfjV8U/H1xPH4Z8KaNcrbgGaZzJHGmegLNIOT6DmmeNfjl8SPAGqQaf4j0Dw/HcXEHnoImlcbdxXqH9VNex/DfwZb+A/Amn6JCqeeiCS7kX/AJazsMu2e4zwPYCvnn9q3/komkf9gpf/AEbJQB1Pgj40fE34hS3kfhrw/wCHpXslRpRK8kfDZxjL8/dNVvF/x1+J3gXUo7LxN4U0e0kmXfEw8x0kHcqyyEHHcdRketU/2Sv+Qr4n/wCuNv8A+hSV7J8WvAKfELwFc6bCkf8AaMJ8+wkc42yj+HPYMMqfqD2oA3vCGsTeIfBWjazdRxxz6hZQ3MiR52qzoGIGcnHNbNed2PjTw38L/CPh7w7411iHT9TttLgV4QjyZ2rsJBVTkblYfhUSftAfDeW6it7fXnmklcIoWxnAyTgclBQB6TRXCeNPjJ4N8C3v2HV9Qea+HL2lnH5rxj/a5AX6E59q1/BXj7w/4/0uS98N3ZmWFgk8MiFJISem5T69iMg4PPBoA6SiuN8WfFnwZ4MuGtdb1mP7YvW0t1M0oPoQudv/AALFc3cftE+D7GWJdUstd09ZRmN7rTygceo5yR9BQB6tWP4uutRsfBes3WhxmTUobGaS1ULuJkCErgdznt3qPwt408PeNdPa88M6nDfRRkCQLlXjJ6BkYBl79RziovFPj3wz4Ka3HijVY9PN0GMIeN2LhcZxtB6ZH50AfCVt4i12LxGus22p3v8Aa5l3i6ErGVmz69Tn071+gWjzXdxodjNqcXk3sltG9xGBjZIVBYfgc15I3xQ+BdprZ1iD+zm1Pdv+1RaNJ5m7+9uMY+b361602sWKaCdaknCaett9raZlI2xbd+4jr93mgC7RXnM3x9+GcH3vEyMfRLOdv5JWvoPxT8H+I9F1DV9O1dFsNNIF1cXEbQqmRkffAzn2oA6+ivI7j9pf4ewXhhjn1C4QHHnxWh2fX5iG/SvRfDPirRfGGjrqnhy/jvbVjtLJkFG7qynBU+xFAGvRRRQAV5trf/Jx3hf/ALAt3/6EK9JrzbW/+TjvC/8A2Bbv/wBCFAHpNFFFABRRRQAUUUUAFFFFABRRRQBmeJNdtvDHhjUdbvj+4sbd5mGcbsDhR7k4A9zXzX4D/aM8UX/j7S7PxRPZnSru4EE3l24Qx7/lVt3oGIJ9s16B8ery58RX/hz4a6RLsutdulmumAz5cCHqR3GQzf8AbKvk7VNOudF1i702+Ty7qzneCVfR1Yg/qKAP0YorjfhP4u/4TX4aaVqskm+7WP7Pd88+cnysT9eG/wCBCuyoAKKqapq2n6Jp0t/q95BZWkIy807hFX8T39q85b9oTwVNevbaQmr6w0Yyzafp7uAPXnBx74oA9RorhfCXxk8FeNL5bHSdV8q/f7lpdxmJ39lzwx9gSa7qgAori/F3xb8GeCbhrXW9YT7avW0tlMsi/wC8F4X/AIERXP8A/DQ/gyFoDqUGtaZDcDMU93p7Kjj1GCSRz2FAHqlFc5c/ELwpaeFovEk2uW39kSuI0u0JdS5z8uFBIPB4IyK5mb9oL4Zw5/4qTefRLK4P67MUAek0Vgaf420DU/BQ8WW19jRfLeQ3MkbLhUYqxKkZ4KntXMTfH74Zw53eJlY+iWdw38o6APRqK57wf450Dx3p9xe+Gbt7qC3l8mRmhePDYB6MB2NZ/iH4s+CPCurzaXr2vR2l7AFMkHkyuy7lDD7qnqCD+NAHY0V5/pPxw8Aa7rlppGk609zd3kgihUWcyhmPQZZBioPFPx48C+E9VfTbu/mvbqJtsyWMXmiI+hbIXPqASR3oA9HorH8L+KtH8ZaFHq/h67W6tJCVJwVZGHVWU8gjI49wehrm/EXxp8D+Gr82Fxq322/DbDa6fE07hv7uV+UHPGCc0Ad5RXlMn7RXgq0vRa6tBrWlyEA4vdPZCB64BJx+FeiaB4j0jxTpSal4f1CG/tHOBJEeh9CDyp9iAaANKiiuL8XfFvwZ4JuGtdb1hPtq9bS2UyyL/vBeF/4ERQB2lFeV/wDDQ/gyFoDqUGtaZDcDMU93p7Kjj1GCSRz2FdJqnxY8EaNotjq99r8IsNQLLbTwxSTK5XG4HYpKkZHBwaAOworzb/hoP4Y/9DN/5IXP/wAbrp/CXj3w346iupPCuom+S0ZVmP2eWLaWzj76rnoelAHRUV53c/Hr4bWd3NbXPiPZNC7RyL9guTtYHBHEfqK6nwp4y0Hxvpcuo+GL77daRTGB5PJkjw4AYjDqD0Yc9OaALfiDUJNI8M6nqUCq8tnZyzor52sUQsAcduK+fPCnx8+JXjbV/wCzfDXhbR7y4VN78SKsa+rMZAAP519AeJbGbVPCmrWFqFM91ZTQxBjgFmQqMn6muQ+DPw5Pw68Ei1vki/te8kMt7JGdwyCQiA9wF/Ut60AcB43+MHxR+HsNlJ4l8PeHohes6wiKSSQkrjOcPx94VQ8HfHr4i+O9cbSfD+gaBJdrC0xWUyoNqkA8l/8AaFS/tbf8eHhb/rrdfyiri/2Xv+SuS/8AYMm/9DjoA7vxn8Y/iv4BED+JfCeiwQXBKxTxmSSNmH8OVk4PscZr1b4W+Lrzx18O9P8AEGpQQW9zdNKHjtwQg2SMgxkk9F9a0PG3hS08a+DtQ0K+Vdt1ERFIRnypByjj6HH4ZHesj4ReF9S8G/DHTdD1tY1vbZpjIIn3r80rMOfoRQB2tFcl4v8Aih4R8DOIfEOrxxXRG4WkSmWUjsSq52j3bArln/aK8F200K6lba3p6TrujlutPKq6/wB4YJJH0FAHq1FZfh/xNo3ivS11Hw7qMF/ak4LxNyp9GB5U+xANSa5r+leGtLk1LXr+CwtI+DLM2AT2A7k+w5oA0KK8oP7RvgeS4kjsI9Yv1j5aW2sCVA9eSCB+FXLf4/8AgG8WyWy1C4uLi8u47VbZbZlkRnOAzBsDaD1IJ6igD0DVdVstE0m51PVJxb2drGZJpSpIRR1OACa5HTvjR8P9W1S107T/ABHFNd3cqwwRC3mG92OFGSmOSR1rm/jP8TfCdn4W8S+EbjVCmuNZmIWv2aU/M6BlG8Lt5DA9a+VfBGpWuj+P9A1LUZPKtLPUreeeTaW2IsisxwMk8A8CgD9B6K4fw78Y/A3ivXrfRtB1prq/uN3lRG0mTdtUseWQAcKT1ruKACiiigAooooAKKKKACiiigDzb4Zf8j38Rv8AsNJ/6KFek15t8Mv+R7+I3/YaT/0UK9JoAKKKKACiiigAooooAK82/wCbpv8AuTP/AG9r0mvNv+bpv+5M/wDb2gD0miiigAooooAKKKKACiiigAooooAKKKKACiiigAooooAKKKKACiiigAooooAKKKKACiiigAooooAKKKKACiiigAooooAKKKKACiiigAooooAK8Q8J/wDJ4/jP/sDp/wCg2le314b4TlX/AIbI8Y8/e0lVH1C2v+BoA8S+OnhT/hFPixqccUey01A/brfA4xISWA+jhx9AK9o/Z38f2yfCXVLXVpto8M75mJPP2dgzj64YOP8AvkU/9qTwp/aXgmy8R28eZtJn8uYgf8sZCBk/Rwn/AH0a+bfCf9sXuqHw9oczRvr5jsJVHR1Mitz6AFQSfTPYmgD6m/Z+0u5vdJ1rx3q6Yv8AxNevKuf4YVYgAeg3Fh9FWvkC5/4+pf8AfP8AOv0S0XSbbQdCsdJsF221lAkEQ/2VAAJ9+K/O25/4+pf98/zoA++/hx/ySzwp/wBgWz/9EJXzB+0P8Q73xJ46uvD1tOyaRo8vk+SpwJZxw7sO5Byo9MH1NfT/AMOP+SWeFP8AsC2f/ohK+JviRZzWPxQ8TQXIIkGqXDc9w0hZT+IIP40AfSP7L/hu20/4cy66YlN5qly480jkRRnaFB9NwY/j7Vy/7V3hu2ibRPElvEqXEzPaXLqMeZgboyfcAOM+mPSvRf2dpVk+B+jKvWOS4Vvr57n+RFcv+1fKi+A9FhJ+d9T3AewicH/0IUAcz+zH8Q71dafwVqU7TWk0TTWG85MLryyD/ZK5bHYqfU1H+058QbybXU8FafO0VnbRpNfBDgzSMNyof9kLtbHct7CuL/Z4sprv43aPJCCUtY55pSP4V8l0/wDQnUfjUX7QVpLa/G/XGmB2ziCWMn+JTCg/mCPwoA7/APZZ8F2V9PqfivUIEnks5FtbLeuRG+3c7j/awVAPbJrpf2ptA06bwNY66bdV1G3vUt1nUYZo2ViVb1GVBHpz6mpf2U7mJ/hrqlspHmxas7uvs0UYB/8AHT+VXf2of+SRxf8AYTh/9AkoA8Y/Zr/5LPaf9ek//oNe7fH/AOIN14G8DRwaRKYdU1aRoIZVOGijAzI6+/Kgem7PavCf2a/+Sz2n/XpP/wCg13f7W1pMV8L3gBMCm5iY9lY+WR+YB/KgDgv2d7bTLn4srfa9cW8aWFpJdRvdSBVMu5VBy3U/OSPcZ7V6D+1HJoWq+GtF1HT7+xur63vDbnyJ0d/LdC3ODnAKD6Z9684/Z+0jQNf+Jb6X4osIL6C4sZfs8U/TzVZWyPfYr19Of8Ka+Hn/AEKen/8AfJ/xoA+fv2Y/Fd5pvxEPh0ys1jq0Mh8knhZY1Lhx6HarA+vHoK9C/au/5EHRv+wn/wC0nr0vSPhv4K8O61b6ho+g2NlqEQYwyxghxlSrY59GI/GvNP2rv+RB0b/sJ/8AtJ6APOv2Wf8AkrF3/wBgmX/0bFXsv7QXxAu/BHgaK30eYwanq8jQRTKcNFGozI6n+9yoB7bs9RXjX7LP/JWLv/sEy/8Ao2Kur/a2s5jH4XvQCYENzEx7Kx8sj8wp/KgDzf4CeHYPFHxfsV1KMXEFmkl7Ikg3B2XAXOevzsp98V9Y/Efw3beK/h5rGl3cSyM9q8kBIyY5VUlGHpggfhkd6+av2W5Vj+LN0rdZNKmVfr5kR/kDX1lqkqW+kXk0pwkcDsxPoFJNAHwR4H8aap4D8U22s6RKwMbATwbsLcR5+ZGHv+hwe1ffOnX0GqaXa6haNut7uFJ4m9VZQwP5Gvzkr9BPAdlNpvw58OWV2Cs9vpdtHIp6qwiUEfgeKAN+iiigAooooAKKKKACiiigAooooAKKKKACiiigAooooAKKKKACiiigAooooAKKKKACiiigAooooAKKKKACiiigAooooAKKKKACiiigAooooA82+E3/ACHviD/2M0//AKCtek15t8Jv+Q98Qf8AsZp//QVr0mgAooooAqatqdtoujXmqX7+XbWcDzyt6KoJP8q8l/Z+0651WDX/AIg6un+m+Ir1/JzzshRjwD6bsr9IxSftE69cSaHpPgfR23al4ku0iKg9Igw6+mXK/grVJbfs2eHba1jhTxP4pQIuNsV9Gig98Dy+BQB4N8ePCH/CJfFS/EEeyy1P/TrfA4G8nev4OG49CK9Z/ZX8X/atE1LwndSZksn+12oJ/wCWTnDgewbB/wCB1lfF34C2Ph/wHc6/oura1qNzp7K8seo3CSjyScMVwikEZB64wDXj/wAMPFp8E/EbStZZytskvlXQHeF/lf64B3fVRQB93399Bpmm3N/ePst7WF5pW/uooJJ/IV8F/EDx3qnxB8VT6tqkjCLcVtbbd8tvFnhQPX1Pc19sfEK3k1D4X+JILP55JtKuBGF53kxNgD69Pxr4AoA+34fCE/hn4AXXh/wza51E6PIu1Bhprh4/nb3YknH4DtXyt8OtA8TL8UNETTdNvob22v4mkJhZPJUON5fI4XbnOe3FfcWk6hBq2i2Wo2jBoLu3SeNh0KsoI/Q1Ylmigj8yeRIkyBudgBknAGT6kgfjQB4h+0l8SLzwzpFr4a0Odre91SNpLmdDho4M7cKexY5GfRT6153+y/4XtdZ8eXur30SzLo9urQqwyFmkJCt9QFfHvg9qX9qm1mj+JunXLg+TNpSKjdsrJJkfqD+NbH7JeoQRa14l052AnuLeCdF7lY2cN+si0AU/2otJ1258eWN8LC4l0tbBIoZ4oyyB97lgSOjcjr1GK7n9nnwvc3XwovLHxjpQm0+e9drS3v4c/uyihioYcKWzj3ya9wpiTRSSSRxyIzxECRVYEoSMgEduCD+NAH516zbR2Wu39rACIoLmSNATnADED+Vfd/w/t4br4TeFormKOaNtFs8pIoZT+4Tsa+FvEnHirVs/8/s3/oZr7t+HH/JLPCn/AGBbP/0QlAHxz8aNKstF+MWv2OlW0draxzRskMS7VQtEjnA7DLHjtX0t+zh/yRTTv+vi4/8ARhr50+Pf/JcvEX+/D/6Ijr6L/Zw/5Ipp3/Xxcf8Aow0Ac3+1D4c0hfAdtrkdhBFqSagkZuY4wrujK5KsR97kA89PxNeJfBfw5D4s+Jlro97c3EFpPBL9pFu5RpowuTHuHIDdDjtkd6+gf2of+SRxf9hOH/0CSvFv2bf+S02P/XrP/wCgGgBPjR8NNR8P/EW5Hh/w7cJok6RfYvscDyJxGqspIz824MeeTnPevQ4/h/41t/2V10Syt7hdTnu/tU2ng7Zfs7NzHj16MV69R14r6Lrg/i38TIfhl4XjvVt1u9QvJDFZ27HCkgZZ2xztHHA5JIHHUAHiX7PvgHxlovxOi1TUtEvdM0+K3ljuJLyExbwy/KqhsE/MFPHpS/tWLpreLNEmtJbd7420kV0sbguoVgU3gcj7zYz/AEqn4P8AEXj346eNm0bUfE1zpmlxwtcXUenjyVWIEDaAOWJLAfMTjk84xVX9oPwJ4f8AAc3h2y8N2jQedDO08skjO8zApgsT+PTA56UAdr+yZqtzLp3iTSpJGa2t5IJ4kJ4RnDhvz2L+Va/7SXxIvPDOkWvhrQ52t73VI2kuZ0OGjgztwp7FjkZ9FPrXPfsjrmTxa3oLMf8Ao7/Cud/aptZo/ibp1y4PkzaUio3bKySZH6g/jQAn7L/he11nx5e6vfRLMuj26tCrDIWaQkK31AV8e+D2q7+1FpOu3PjyxvhYXEulrYJFDPFGWQPvcsCR0bkdeoxVz9kvUIIta8S6c7AT3FvBOi9ysbOG/WRa+naAPA/gf4Gm8QfBTU9F8Z6fItjeXUjWAuY8PECijzI93K/Nkg+oPrz82eINEvfCvie90fUV23dhOY244bB4YZ7EYI9jX6GJNFJJJHHIjPEQJFVgShIyAR24IP4184ftS+BsGy8aWMXXFpf7R/37c/qpP+6KAPavhx4ttvG3gHTNatgiPJEI7iFBgRSrw647DPI9iK8qm8NaR8S/2mr2X+z7d9I8M26R3xWMbbu5yxCv/ewSQc9fKI6GvK/g78W3+HNrrtpchpbe7tXmtExkLdquEz6BhwT/ALK19I/BbwlL4V+Hdu+ohjq2rOdQv3f7xeTkKfcLjPvu9aAO+REijVI1VEUYVVGAB6AU6iigAr5Q/at/5KJpH/YKX/0bJX1fXyh+1b/yUTSP+wUv/o2SgDU/ZK/5Cvif/rjb/wDoUlfTdfMn7JX/ACFfE/8A1xt//QpK+m6AOQ+J3hzSNf8Ah/rf9rWEFxJBp80kMrxgvE6ozKyt1GCK+FNMjeXVrSOKQxO86KsgGShLDB/Cvv8A8a/8iB4g/wCwZc/+imr4E0X/AJD+n/8AX1H/AOhCgD3f46fB7+w9B0a78H6TdX5jeb+1bwbp7iaRthWSQ8nGQ/QAAn3qz+zr4L8U2Om+J9V8ifSzeWBtbBrhDGXm5IkAIzhTjn3OOhr6WrL8S+ILPwr4Zv8AXNTLC1sYTK4X7zdgo9ySAPc0AfGWkfCv4j/8Jnaj/hHNSivI7tJDdzxny1YPneZT8p5GcgnNfQX7TC6bL8JZlu5bdb2K5hltEdwJGO7a20dT8rNnFeO6l8cfiB8QvElroug3iaHFqFyltBDZ/Kw3sFBaX73GeSu0e1dh8VPhFoPgv4P6hq0kt1q+vtLAsmqXsrM5JkUNtXOADz1yfegDz79nXVbnT/jRpdvbyMsN/HNBOgPDqImcfkyKa+wNc8O6R4l097LXtOtr+3dSu2eMNtz3U9VPuMGvjX9n9d3x08PD3uD+VvKa+3KAPzjvoVttQuIEyVilZAT1wCRX6CeFUWTwPoySKGVtOgDKwyCPLXivz/1b/kNXv/XxJ/6Ea/QHwn/yJeif9g+D/wBFrQB8r/tMeH9L0L4iWT6PZQ2QvbATTRwIERn8x13YHAJAGfpmrn7Pfw603x1BqkviSae40yxnjK6asjJHNKVbDvggnA4A9z9DN+1d/wAj/o3/AGDB/wCjXrqf2S/+QB4k/wCvqH/0FqAOc/aN+Gfh3wjpuk6x4ZsV08TztbTwxsxRjt3KwBJweCDjrxVb9lTVLiD4g6ppiu32a604yumeN6SIFP5Ow/Gu6/au/wCRB0b/ALCf/tJ684/Zc/5K1cf9gqb/ANGR0AfXtFFFABXm2t/8nHeF/wDsC3f/AKEK9JrzbW/+TjvC/wD2Bbv/ANCFAHpNFFFABRRRQAUUUUAFFFFABSMyopZyFVRkknAApa8z+Pfi8+Ffhfdw2rkX+rn7DbhfvAMPnYfRMjPqwoA5v4SbvH3xa8U/EWcFrOB/7N0osOAgAyw9DsCn/to1ecftO+EP7G8eW/iC2j222sxfvCBwJ4wFb812H3O6vR/Dn7NmkweHbEaj4g8R2l88KPdQ2d5HHEkpALBR5Z4B45PaqPjr9nTTYfBepXmj654gv9Qs4Gnt4L66SWNyvJG0Rg5KggYPUigDlv2WfF/2HxNqHha6kxFqUf2i2BPSZB8wH1Tn/tnX1PX53eHNcufDXibTtasT+/sbhJlGcbsHlT7EZB9jX6B6fqFvr3h+31DTZd1vfWyywyf7LrkH9aAPi74yfEi88feMrlY52GjWMrRWMAPykA4MpHdm657DAr6S+B3hiPw38G7CexhT+0dUgN7LIwwZGcExgn0C7R+Z718W3EElrcy29whSWJyjqeqsDgj86+7/AIS6hBqfwh8MTWzBkTTooGx2aNfLYfmpoA+LP+EZ8WR+KhZDSdSTWhcZVBCwkEm7O4H687unfNfV3xv+Id/4B+HdtHZyhNc1T9xHKv8AyywoMkg9xkAehYHtXqcsscMLyzOscaKWd3OAoHUk9hXzh+1rbSvH4VvU+a3H2mMsOgY+WR+YB/KgDzj4E+HIfGHxftBq6/a4bVJL+dZfm81lxt3Z6/Oyk5616l+1Vpet39r4fnsbGe402287z3hQuI5G2Y3Y6DAOD9a4P9mHUILL4vNDOwV73TpoIs92DJJj8o2r7CoA+cv2X9A1JtN8QjW9Oc6JcmHyoryHMcso3biqsMHggE/T0rxT4oaVZ6J8UfEGn6ZAtvaQXjiKJfuoDzgegGeBX3qJojOYBIhlVQ5j3DcFJIBx6ZB59q+FvjL/AMll8Tf9fp/kKAPqH4ARpL8BdASVVdGFyCrDII+0y14F+0no2naN8VkXSrOG0S50+KeVIUCq0hd1LYHAJCj+de//ALPn/JCfD3/bz/6Uy14b+1N/yVi0/wCwTF/6NloA9C/ZQ/5EbW/+wkP/AEUtdN+0D4c0jUPhPrGqXNhA2oWaxyQXQjAkQ+YqkbuuCCRjp+Qrmf2UP+RG1v8A7CQ/9FLXc/HT/kiXiP8A64x/+jUoA+P/AIe6a2sfETQ9OS8msjdXaRG4tziSMHglT2OM4PavSfjx8KJPDetaZN4N8PzDRfsSxO9tG8pEwdiTIeTkgryeuOOlcL8Iv+SweGP+whH/ADr7xoA+cfhd4F8ZWPwD8WRWsNxYalrHzWFvIfKkKqAGPONpcZUZx0B6YNcN8J/ht46sPipol7L4e1DT4LK7WS4uLqAxIsY4cAt97KkgYz1r6g+IXjez+H3g26129iM5jIjgt1baZpW+6uew6kn0B69K+adN+JXxE+MHjiy8OW2uHRLe+dgy6epiEUaqWY7gd7fKDwWwT6ZoA7n9q9dNk8PaG/m251OG7ZRHvHmiJkJJx125Veen51yv7Kmq3MPj7VdKWRvslzpxnePPG9JECt+TsPxqf47fDLw74B8BaVLpEU02oXGobbi/upTJLMPLYnPYc4PAFZ37Ky7virfn+7o8p/8AI0I/rQB7R8efiJc+AvA6JpMnl6rqjmC3k7wqBl5B7gEAehYHtXzv8CfDkPjD4v2g1dftcNqkl/Osvzeay427s9fnZSc9a9H/AGtrWYr4WuwCYFNzEx7Kx8sj8wD+Vcd+zDqEFl8XmhnYK97p00EWe7Bkkx+UbUAd5+1Vpet39r4fnsbGe402287z3hQuI5G2Y3Y6DAOD9ap/sz+Gb680TxLbeI9MeTQL0RKkN5EfLlkG4MVB9ARkj/Z9OPpKmCaIzmASIZVUOY9w3BSSAcemQefagD4I+JHg2bwH481DQ5NzQRv5lrI3/LSFuUP1xwfcGvq/4C+MLfxV8LbGFRHHeaSosriNAB90fI+P9pcc+oauc/aZ8Df254Mi8S2UW690Y/vto5e3Y8/98tg+wLV4b8F/iMvw68am5vmc6VexGG8RBk8ZKOB6huPozUAe0fEzQtP+JHx68PeFIrWMppkDXmsXMagOYiVIiZhz0Cgenm5r3K0s7bT7OK0sbeK2t4VCxwwoFVB6ADgV5f8AArR7qfSNU8c62mNU8U3TXIB/5Z24J8tR7dSPbb6V6tQAUUUUAfOn7W3/AB4eFv8Arrdfyiri/wBl7/krkv8A2DJv/Q467T9rb/jw8Lf9dbr+UVcX+y9/yVyX/sGTf+hx0AfX9cT8XPG7+APh1e6va7TfSMttZhhkea+cEjvgBmx324rtq8T/AGp7Saf4X2M8QLR2+qRtLjsDHIoP5kD8aAPAfhfHb+JPjNo8nim6SWKW6e6upryQYkZEaT5y3XLKBz1zivoD9ou58Pa38J7iSDUtPub2xuIZrdYrhGk5cIwABzjDEn6e1fPHwjtNIv8A4r6HZeI7aK60+6maGSGb7rM0bKn/AI+Vr66/4U18PP8AoU9P/wC+T/jQB8s/ArxXeeGfitpUMErC01WdLK5hz8sgc7UOPUMQQfqO5rpP2odXv7r4mQaXO7iys7NHgiz8pZ8ln+pwB/wGvoe0+FfgHStQtb208N6fbXUEyyW8gBDLIp3KRz1BGfwrlfiR4F8MfGO/vdO07VBa+JvD4WKWTymwquCyo4IG5TyQVJwSfXFAHGfAT4t+DPDngqHw7rky6RfRzSO1zJEfLudzEglwDggYX5sDCjmul+Ivww03xxf6R4x+Hv2G41CG+ie5e0nTy7qMMCWLA43rgc9SDz0FeEeKPgb488KrJLcaO1/ax5JudPbzlx67R84HuVFc14S8Za34I1yLU9AvZLeRGHmRZPlzKP4XXoR/LqMGgD7A+NGg6RJ8L/EupyaVYtfiz3fa2tkMuRtAO/GeAMda+Q/h/BFc/EzwxBcxJNDLq9okkcihldTMoIIPBBHavr74l6nHrX7PmrapCpSO+0lLlFJyQHCsB+tfInw4/wCSp+FP+w1Z/wDo9KAPuuy8MaBp12l1p+h6baXCZ2TQWkaOuRg4IGRwSK1KKKACiiigAooooAKKKKACiiigDzb4Zf8AI9/Eb/sNJ/6KFek15t8Mv+R7+I3/AGGk/wDRQr0mgAooooAKKKKACiiigArzb/m6b/uTP/b2vSa82/5um/7kz/29oA9JooooAKKKKACiiigAooooAKKKKACiiigAooooAKKKKACiiigAooooAKKKKACiiigAooooAKKKKACiiigAooooAKKKKACiiigAooooAKKKKAOS8deNrvwfDb/2f4U1rxFPcq5VdMtjIkZXHEjAErnPHB6H0r5o0jUPibpXxauPHY8C63LcXU0jT2h02cI0bceWG2ZGABg+qjg9K+xKKAOI0zUW+KfgHVrDWfDmqeHzcxPaSQanAUbLJw6ZALAEjnA5FeQ/AL4Ra7oXxAuNb8WaVJZLp0LLaebjEkr5UsvqAu7/AL6FfStFAHAeOviRqnhe7m0/RPA/iHXboRB47i1s2a13EcAuoJOO4xXyA3w68cu5ZvB3iAljk/8AErm/+Jr7+ooA8i+EXjnXX0vQ/CfiHwL4g0yW1tVtV1CSydbbbFH8pdmA2EhQO+SR61n/ABx+CE3ja4/4SPwt5Y1lYwlxbOwUXaqMKQx4Dgcc8EAcjHPttFAHzJ8HfHl58KbK98M+P9C1extmnM9vP9jdtjEAMpGOVO0EFc9/Wsv4qan4i+N3iiwtPBnhzVJdKsFZYpprcxrI7kbnZj8qjCqBk54Privq+igDzL4M/CSL4a6RNcX8kdzrl8oFxLH9yJByI0J5IzyT3OPQVm/Hf4RT+P8AT4NX8Pqn9uWMZj8piFF1FnOzJ4DAkkZ45IPbHr9FAHxJ4C8UeM/g/wCJ7jGg3ZW5AjutPuoHTzcH5SDjgjJweRgnrXefFDVviR8SvAEV1L4Ol0jR47qNktAjzXVy5DANt2ghACedozkcnt9P0UAfFvwx0rx34G8cWmvweBNbvY4leOSFrKWLerLg4YrwRwfwr6W17w9F8Xvhi1nrul3ehXE7GSGO6UGW1lQkK+B1BGeO6seld5RQB8Nat8OviB8NPEcV8mmXiy2cokt9RsYzNESDwdwBxn+6wHGcivVtE/aQ8YXtuln/AMIBJqeokbd9oZVDH18vYx/Wvo+igDyPwP4L8WeIfGUHjv4nyLb3dqjLpejwNhLQMMFmAJ5x2yT6ngAcX+0BqfiDxvHB4f0LwN4mePTb6RpLxtNkMcxUFAYyoO5DkkNxkY4r6QooA+OPhJB4y+HHjgazd+AfEl5bS2720yRaZMHCsVbcuVwSCo4OO9fTfi3wrp/xP+Hw0/U4LiyF5ElzB58W2azlK5UsvZhkqy57sM966yigD450vwh43+CXxIstbutCudRsbWRleexQyRTwsCrcgfKcHIDY5Ar1Dx/8bbTxD4JvNF8DaVrN9qupwm3K/YXHkI4w+cZy2CQMZ5Oc8c+7UUAfLnwh/Z71S41i213x3afYrG3cSxafLjzJ2HI3r/CueoPJ6YAr6joooAKKKKACiiigAooooAKKKKACiiigAooooAKKKKACiiigAooooAKKKKACiiigAooooAKKKKACiiigAooooAKKKKACiiigAooooAKKKKACiiigDzb4Tf8AIe+IP/YzT/8AoK16TXm3wm/5D3xB/wCxmn/9BWvSaACub8a+LZ/COmRXNp4c1fX5pnKLBpduZShAzl8fdHbODXSUUAfI82s/ETUPjNZ+PNW+HmuXC2bbYdPXT5wscYVlChinUFi2cct2HSvpbwZ4rm8W6XLdXPh7V9Bkik8swarbGJn4B3LnqvOM8dK6KigDg/iN40m0OKTR4vBGveJkvbRvMNhaM8G1tymNnAJBwORg8EV8en4ceN88eDfEGP8AsFz/APxNff1FAHiXwl+IHi2DTtK8LeL/AAL4hRo9lrHqhsJFjEfRTLvAxgYBbJz6V5x8V/2fta0XWbnVfBdjJqWkTuZBa267prUnkqE6svoRk44PTJ+tKKAPkT4dfGXxj8PdMXw/feHLjVrSFj9ngmWSGaHJ5UHacrnPBHHrjivRbfTfHfxtvrQ+MtMbwx4Pt5VmewyyzXxHIVs4bb74UegJ5Hu1FAHn3xc+F1v8SPCsdpbvHa6nYkvYzMPlGQAY2x/C2B06EA89D8rw6F8QPhP4sg1NdIvrK7tHO2YQmSCVehXcuVZSOoz+Rr7pooA+e9N+PHxA8V262Hhf4eltRcbTdM7tAh/vEFVCj/ef869J+GHgG68IWV9qPiG+/tLxJrMgn1G6zlQRnbGvsMnsPpgAV3dFAHxf8ZvhbrnhnxzqWoWmnXF1o9/cPcwXMEZdY953FGx90gkgZ6jHvjsvhj8U/iSfDdl4W0LweNUktUEFvfTpJHHEg+75h4XCjjqOAOpr6eooA+JPiL4B8dSfEXVPtunanr97IY5Jr2z0+RopHaJWITC42qTsHsvQdK9h+A+seLvDmkWnhPXPA2rwWpuHaPUXhaNYlc5O9WA6HPIPfpxXvVFAHz/+0BrOueK9JbwpoPgnxJcfZb5ZZb8ac7QyBVYfuyoO4Et146V5d8MdN8aeAPHtnr8/gLxFdwxK8csSabMrFWUjIJTGRkH3r7RooAyfDOvHxJoceotpOpaSXZlNrqdv5My4OMlcng9jXl37SHgHV/GPhnTNQ0C3e8uNJklL2sQy8kcgXJUfxEFBwOcE17PRQB8N/DDxD4q+H/jNrzRvD91qFxNC1tNYtbybnUkHAwMggqO3rXcfGDwz8TPGmkWPivXdCSCKDdFHpVkplmtYzg+ZJjJOSOf7uBkDJr6sooA+Ovgd401nwDq2p21v4S1LWhqaxBorWNhJG0ZbB+6ePnOelfQXxX+GkXxR8HwRqVstXtR51nJL0RmA3Rvj+E4GSOhAPPQ+h0UAfC0OhfED4T+LINTXSL6yu7RztmEJkglXoV3LlWUjqM/ka9l0348fEDxXbrYeF/h6W1FxtN0zu0CH+8QVUKP95/zr6EooA4T4YeAbrwhZX2o+Ib7+0vEmsyCfUbrOVBGdsa+wyew+mABXT+JdAtPFPhnUNE1Fc219A0THHKk9GHuDgj3FcF8efiBrPw/8G2lx4dCR3d7deR9peMOIQFLcA8bjjjORgHivLvA/7Tmr21heWni+0Or3vlk2E1tEqPLKeFjdVwMEnqozx0OaAOO+GXwxu9U+Nn/CPa1B+50SdptQBHyssbcD3DttHupJr7Trz74R+Db7w7od5rPiX5vEniCc3moMRzHnJWL225PHYkjoBXoNABRRRQBk+Jtebw3oMupJpOo6u0bKotNNg86Z8nGQvoOp9q+Uvi9/wmfxL8XQ6pbfD/xHY21tarbRRyadMzsAzMWOEwOWxjnpX2HRQB8jfB688a/DDWr6e5+HniK/tL+JElWPT5kdCpJDDKYPU8cfXivqjQNWbXdBtdSfTr3TWuFLG0v4vLmiwSMMvbpn6EVo0UAef/FfxVfaR4dvdH0nwtrmt3ep2MsUcun2bSwwllKfOy5IPOcY59q+RbXwB45tLyG5TwZr5aGRZADpc+CQc/3a++qKAOR8D+ObnxesyX3hPXfD08CKz/2naGONyeyOcFsY9BUnxN8L3HjP4a6zoNk6pc3UKmHccAujrIqk9gSoGfeuqooA/P8At9L8UeCfF1pcPo95a6np1yk0cc1uxBdGBH+8DjtwRXuvieX4p/GL4f3cJ8MQ6Fp8KLP5E24T37qQQqBsFR35HJAAJya+i6KAPg/wLe658P8A4jadq7+H72e5sZHD2TwOjsGRkYfdyDhjjjrX1jN8TNQt/BdprcngPxJJd3juiabb2hklj29Gk7ordjg/Su/ooA+Bbn4f+Obm6lnbwZr4aVy5A0ufgk5/u19a/DHxnqepeE0stb8Ia7pF3pFggc3FmyJdbF24i3YJY7c7cd+pr0WigD5E+M//AAlXxK8XW2o6V4B8UWtpa2gt0Fzpcu9zuZiSFBA+9jGT0ro/2fLrxJ4G1G60fXPBHiJLfV7iEJeDTpFS3YZXMm4ABPmBJzxg8GvpiigD52/aJvNd8XpbeHNB8G+IrldOuzLLerp0jQynZgeWyg7h8x546VwPwjtvGHw58cjWb3wD4ku7aS3e2lSHTJg6hip3DK4Jyo4JFfY9FAFewu/t+m2155E9t9ohSXyLhNkke4A7XXswzgjsasUUUAFeba3/AMnHeF/+wLd/+hCvSa821v8A5OO8L/8AYFu//QhQB6TRRRQAUUUUAFFFFABRRRQBj+Kdffw1oUmoxaRqWsOjKotNMg82Zsnrt9B3NfMHjzWfiH448faTrlx8PNdj0/R5ke105tPnYMA4Zt7bOrbQDgcAD0yfreigDkPA3jm78YC4TUPCWueHZrdFY/2lbGOOTOeEYgFiMc8DqKn8beMp/CFvbNa+GNb8QSXO8BNKtTKItuPvkfdzu44OcH0rqKKAPgzWPAfi6/1y+u7DwH4gs7W4uJJYbb+zZm8lGYkJnYM4BxnHavZ/g/448a+DdCg8N+I/h/4mu7GKQi2uYdOl3wqzZKsGUAqCSc5GOlfRlFAHzV8bPgNqd7rt14o8E232tbtjLeaehAkWQ/edB/ECeSOuTxnPHE/Dr4leM/hO0+lXGgXV1YSPvawu4ZInjfoSh25XPGQQR9K+y6KAPAm1H4kfG6FdLfRX8HeFpiPttxIWM1wndELBSwPsoHqex9K8YfDPR/FPw3Twio+yQWsSCwlA3G3dFwje/GQfUE9+a7OigD4W1j4d+Pfhv4giuzpl5HLZyiS31GyjMsRIOQwYDj6Ng+or13RP2h/HGr2kdhYeAG1HVSoXz4fNEZb+8Y9vA9fnA+lfRlFAHmvw08Ca5Y61e+M/H90tz4m1KMRCGM5jsocg+WuOM8DOOOOpySfHP2h/hhrUPje58U6PYT32m6gqvObeMubeVVCncByFOAd3TJI9M/VtFAHyV8I/ib478N6KPC+h+EpdcQSs1tmORTAWOSGIGNucnnGMnn0zPi94N+IepeNLa91zT7rV9QvLFJZF0uykkgtPncCBSoOdoAJ92PXqfsiigD5l+Bd/418ApdaTqHgDW57LULhJBP8AZ2iaBsBSSHAyuMHqMY75ruvjr4h1W78L6n4P0Pwf4g1O4vI4s31tYPJbKu9XOGXJLfLjGBjPWvYKKAPhnwj4X8ceFvGGla4PA3iC4+wXSTmL+zZ13gHkZ2ccd6+xfB3iuTxZpstzN4f1nQnhcI0GrWphZ+M5Tn5l7Z4roaKAPOPjr4K1Dxz8NZLHRV82+s7lLyKDOPO2qylQT3w5I9wBXyl4QuvFHgHx5Z6nZaJdnUbN2U2k9rIC4ZSrKVxnoT9DX3pRQB8zfErTPij8UfBCatf+G00uy0+USw6RGGe7myCGkIPPHQLgE5JwcCvPPhF4j1n4d+PHvo/DV/qbT2z2ktpFE6y4ZlbI+U8goOMetfblFAHEeKfCsHxX+GSWWs2c+kXNzGtzCk65ks5gDjcPxII9CelfJusfDvx78N/EEV2dMvI5bOUSW+o2UZliJByGDAcfRsH1FfdNFAHznon7Q/jjV7SOwsPADajqpUL58PmiMt/eMe3gevzgfSvQvhp4E1yx1q98Z+P7pbnxNqUYiEMZzHZQ5B8tccZ4GcccdTkk+lVxPxd8YX/gb4bX+taPCsl4jRxRtIu5Yi7Bd5HfGePcigDsbq1gvrOa0u41lgnjaOWNhkOrDBB9iDXxRN8Jr2P45jwIvmeS91uWfHP2T7/mZ6ZCZ/4EMV2PgL9pvW7DUZIvHx/tWxkVis0ECRzRMBkABQqsCeOeRnOeMV6z8JfD+p6jqmqfEbxZb+Rq2vALaWzdbS0GNi+xbCn6AHqSKAPTbS1gsbKC0tI1it7eNYoo1HCKowAPoBUtFFABVPV9ROk6PdX4s7q+NtEZBbWcfmTS4/hRe5PpVyigD5S+NOq+LvifPpcWm/DvxNZWmneaQ0+nSl5Gfb2C4AGz1PWue+F9r45+HPjWPXP+EA8QX0RheCaH+zp0JRsHIOw8ggH9Pevs6igDD8I+JJPFOh/2hPomp6JIJDGbXU4DFJwAdwB6qc8H2NWPE3h2w8WeGr7Q9WQvaXsRjfHVT1DD3BAI9xWpRQB8ReMfgx418C6s0lvYXOo2cUm+31HT42fGDkMwXLRkcdeM9Ca9D8N/tH+MobOLT9U8HSa1fIAglg8yF5D6sgRsn6Y+lfTVFAHimg+GPG3xN8Uaf4j+JUH9i6NpkouLDRIiVZ5R0eQZyMe+D2AAJzyviG18f+Hf2iPEnijwboN5qFpAIPtMQQhLuJoY8qv945H8OSCOnUV9K0UAeWRftD+CY7POsHUtKv1Hz6fc2EnmhvQEAr+ZH4V4Hpnw08RfFj4iahqlho1xo2i399JcPdXMRRIo2cnC5++2D0XjPXA5r7PooA53xF4Th1X4b33hWyIgik042duW5EeE2oT7AgV8Q3XhzxV4I8SwNe6ReWd/Y3CyxF4GKl0YEFWHDDI6g4r9AKKAPJPAHxX8Y+NNWsra4+HtxYWL/wDHzqbzMsajaeVV0GecDAYnmvW6KKACiiigAooooAKKKKACiiigDzb4Zf8AI9/Eb/sNJ/6KFek15t8Mv+R7+I3/AGGk/wDRQr0mgAooooAKKKKACiiigArxzxXo2qa5+0fHb6D4in0C6XwmJGuYbZJi6C7YFMMcckg5/wBmvY682/5um/7kz/29oAP+Fe+O/wDoq+of+CqD/Gj/AIV747/6KvqH/gqg/wAa9JooA82/4V747/6KvqH/AIKoP8aP+Fe+O/8Aoq+of+CqD/GvSaKAPNv+Fe+O/wDoq+of+CqD/Gj/AIV747/6KvqH/gqg/wAa9JooA82/4V747/6KvqH/AIKoP8aP+Fe+O/8Aoq+of+CqD/GvSaKAPNv+Fe+O/wDoq+of+CqD/Gj/AIV747/6KvqH/gqg/wAa9JooA82/4V747/6KvqH/AIKoP8aP+Fe+O/8Aoq+of+CqD/GvSaKAPNv+Fe+O/wDoq+of+CqD/Gj/AIV747/6KvqH/gqg/wAa9JrnPGniLV/DelxXeheGbnxFI0m2SC2mCNGuCd3IOeRjAHegDmf+Fe+O/wDoq+of+CqD/Gj/AIV747/6KvqH/gqg/wAa4K5/atSyupba88E3VvPCxSSKW+2sjDqCDHkH2rb0D49a94psXvPD3wz1LULaOQxPLBegqHABK58vrhgfxoA6L/hXvjv/AKKvqH/gqg/xo/4V747/AOir6h/4KoP8a56f9o+10TUVs/GXgzXNDkbkb0DEj1Abbke4zXpPhPx54a8b2jT+GtVhvCgzJDyssf8AvIcEfXGPQ0Acv/wr3x3/ANFX1D/wVQf40f8ACvfHf/RV9Q/8FUH+Nek0UAebf8K98d/9FX1D/wAFUH+NH/CvfHf/AEVfUP8AwVQf416TRQB5t/wr3x3/ANFX1D/wVQf40f8ACvfHf/RV9Q/8FUH+Nek0UAebf8K98d/9FX1D/wAFUH+NH/CvfHf/AEVfUP8AwVQf416TRQB5t/wr3x3/ANFX1D/wVQf40f8ACvfHf/RV9Q/8FUH+NedftJfEbxPoHiSx8PaDf3GlWrWi3Uk9q5jkmZnZcbxyANvQEck57Ve/Zr+IfiPxNdaponiG7n1KG0gWeG7uGLyIS20oznls5yM88H8ADt/+Fe+O/wDoq+of+CqD/Gj/AIV747/6KvqH/gqg/wAa9JooA82/4V747/6KvqH/AIKoP8aP+Fe+O/8Aoq+of+CqD/GvSabIxSJmClyqkhR1PtQB5x/wr3x3/wBFX1D/AMFUH+NH/CvfHf8A0VfUP/BVB/jXzDrHxm8fal4kl1RfEV/Yt5paO0t5mSGIZ4Xy/utjp8wJPevsL4d+ILzxV8O9F1vU4RDd3lsHlVRgFgSNwHYHG4fWgDm/+Fe+O/8Aoq+of+CqD/Gj/hXvjv8A6KvqH/gqg/xr0migDzb/AIV747/6KvqH/gqg/wAaP+Fe+O/+ir6h/wCCqD/GvSaKAPNv+Fe+O/8Aoq+of+CqD/Gj/hXvjv8A6KvqH/gqg/xr0migDzb/AIV747/6KvqH/gqg/wAaP+Fe+O/+ir6h/wCCqD/GvSaKAPNv+Fe+O/8Aoq+of+CqD/Gj/hXvjv8A6KvqH/gqg/xr0mqWs6iNH0G/1NozKLK2kuDGGxv2KWxntnFAHB/8K98d/wDRV9Q/8FUH+NH/AAr3x3/0VfUP/BVB/jXFaV+09PruoJY6L4Bvr+7cErDb3m9iB1OBH096veIP2hNY8KR27+I/hxf6ctyWEJnvgu8rjOP3fbI/OgDp/wDhXvjv/oq+of8Agqg/xo/4V747/wCir6h/4KoP8a4/Qv2lLzxPqBsdA8AXl/dCMyGKG/BbaCAT/q/cU/Xf2jtS8MTxw+IfhzqWmvKCYxc3ewOB12kx4P4UAdb/AMK98d/9FX1D/wAFUH+NH/CvfHf/AEVfUP8AwVQf410nw+8YJ498E2XiKOyaxW6aQCBpPMK7HZPvYGc7c9K6WgDzb/hXvjv/AKKvqH/gqg/xo/4V747/AOir6h/4KoP8a9JooA82/wCFe+O/+ir6h/4KoP8AGj/hXvjv/oq+of8Agqg/xr0migDzb/hXvjv/AKKvqH/gqg/xo/4V747/AOir6h/4KoP8a9JooA82/wCFe+O/+ir6h/4KoP8AGj/hXvjv/oq+of8Agqg/xr0migDzb/hXvjv/AKKvqH/gqg/xo/4V747/AOir6h/4KoP8a9JooA82/wCFe+O/+ir6h/4KoP8AGj/hXvjv/oq+of8Agqg/xr0ms/Xdf0vwzpE2qa9exWVnCPnllPfsAOpJ7AZJoA4b/hXvjv8A6KvqH/gqg/xo/wCFe+O/+ir6h/4KoP8AGuOuf2krnXddGkfDjwhdaxcOTse4fbuA6tsUHC+5Ye+K1Lrx78ZdGtDfat8OLK4tYxukSyuw0ij6K7n8lNAG7/wr3x3/ANFX1D/wVQf40f8ACvfHf/RV9Q/8FUH+NcjF+1PodxBZRweH777fPOsUsEkqqkQJxuD4Jbr02jv076fxp0Tx1p+nan4r8LeM7y2s7ZFkk0pFCCNFUKzI45PQsQfU89BQBt/8K98d/wDRV9Q/8FUH+NH/AAr3x3/0VfUP/BVB/jXzV4O+I3jTUPiD4egvfFesTQzapbJJE19JsdTKoKlc4II4wa+3qAPNv+Fe+O/+ir6h/wCCqD/Gj/hXvjv/AKKvqH/gqg/xr0migDzb/hXvjv8A6KvqH/gqg/xo/wCFe+O/+ir6h/4KoP8AGvSaKAPNv+Fe+O/+ir6h/wCCqD/Gj/hXvjv/AKKvqH/gqg/xr0migDzb/hXvjv8A6KvqH/gqg/xo/wCFe+O/+ir6h/4KoP8AGvSaKAPNv+Fe+O/+ir6h/wCCqD/Gj/hXvjv/AKKvqH/gqg/xr0migDzb/hXvjv8A6KvqH/gqg/xo/wCFe+O/+ir6h/4KoP8AGofj7401jwV8OkufDzGC6vLtbU3QXJgUqzEj0J24B7ZPfFeH/Bn4q+Mv+Fl6Xpd/rF9rFlqU4gmgvJmmKg/xqWJK7evHGAaAPdv+Fe+O/wDoq+of+CqD/Gj/AIV747/6KvqH/gqg/wAa9JrxT42fHKTwPdf8I94XWKXWige4nkG5bQEZUbe7kc88AY4OaAOi/wCFe+O/+ir6h/4KoP8AGj/hXvjv/oq+of8Agqg/xrwnx9N8TvDvhfw54ovPGWtSw63bCaX7PdPClvIw3qhVCByhB6dQ3pXMXPxs+IF14fi0l/El2iRuW+0xNsuHGBhTIuGIHJ6555JwMAH07/wr3x3/ANFX1D/wVQf40f8ACvfHf/RV9Q/8FUH+NcR+zX8Q/Efia61TRPEN3PqUNpAs8N3cMXkQltpRnPLZzkZ54P4fQFAHm3/CvfHf/RV9Q/8ABVB/jR/wr3x3/wBFX1D/AMFUH+Nek0UAebf8K98d/wDRV9Q/8FUH+NH/AAr3x3/0VfUP/BVB/jXpNFAHm3/CvfHf/RV9Q/8ABVB/jR/wr3x3/wBFX1D/AMFUH+Nek0UAebf8K98d/wDRV9Q/8FUH+NH/AAr3x3/0VfUP/BVB/jXpNFAHm3/CvfHf/RV9Q/8ABVB/jR/wr3x3/wBFX1D/AMFUH+Nek0UAebf8K98d/wDRV9Q/8FUH+NH/AAr3x3/0VfUP/BVB/jXpNFAHm3/CvfHf/RV9Q/8ABVB/jR/wr3x3/wBFX1D/AMFUH+Nek0UAebf8K98d/wDRV9Q/8FUH+NH/AAr3x3/0VfUP/BVB/jXpNFAHm3/CvfHf/RV9Q/8ABVB/jR/wr3x3/wBFX1D/AMFUH+Nek0UAebf8K98d/wDRV9Q/8FUH+NH/AAr3x3/0VfUP/BVB/jXpNFAHgPw/8HeKr/V/GC6b8QLzTnttblhuXSwif7VKFXMpyflJ9BxXa/8ACvfHf/RV9Q/8FUH+NHwm/wCQ98Qf+xmn/wDQVr0mgDzb/hXvjv8A6KvqH/gqg/xo/wCFe+O/+ir6h/4KoP8AGvSaKAPNv+Fe+O/+ir6h/wCCqD/Gj/hXvjv/AKKvqH/gqg/xr0migDzb/hXvjv8A6KvqH/gqg/xo/wCFe+O/+ir6h/4KoP8AGvSaKAPNv+Fe+O/+ir6h/wCCqD/Gj/hXvjv/AKKvqH/gqg/xr0migDzb/hXvjv8A6KvqH/gqg/xo/wCFe+O/+ir6h/4KoP8AGvSaKAPNv+Fe+O/+ir6h/wCCqD/Gj/hXvjv/AKKvqH/gqg/xr0migDzb/hXvjv8A6KvqH/gqg/xo/wCFe+O/+ir6h/4KoP8AGvSaR3WNGd2CqoyzE4AHrQB5v/wr3x3/ANFX1D/wVQf40f8ACvfHf/RV9Q/8FUH+NZQ+M+o+LfFk+gfCvQotX+yjNxql9MYrZBnGQAMkE9DnJwcAjmm618WvFXw81K0T4l+GrT+zLt9ianos7SIjehRxnOOcccA4zigDX/4V747/AOir6h/4KoP8aP8AhXvjv/oq+of+CqD/ABr0DTdSs9Y0y31HTLhLm0uYxJDNGcq6noas0Aebf8K98d/9FX1D/wAFUH+NH/CvfHf/AEVfUP8AwVQf416TXnHxC+MmmeC9Uh0HTbKbXfEVwVWPT7ZsbC33Q7YOCc8KAT9AQaAG/wDCvfHf/RV9Q/8ABVB/jR/wr3x3/wBFX1D/AMFUH+NZ2oeMfi/o2lPrGoeCdHuLSJfMms7S8Y3CIOT6gkf7IP0rpvhx8UdD+JWlyTaUXtr23A+02MxG+LPcEfeX3H4gUAZX/CvfHf8A0VfUP/BVB/jR/wAK98d/9FX1D/wVQf416TXz1d/tYWdvezwJ4TmlWORkDi/A3AHGceX3oA7z/hXvjv8A6KvqH/gqg/xo/wCFe+O/+ir6h/4KoP8AGvPf+GtrX/oT5v8AwYD/AON1638MvH6fEjwm2txae2nqty9v5LTeZ90Kc5wP73pQBjf8K98d/wDRV9Q/8FUH+NH/AAr3x3/0VfUP/BVB/jXUeNfG2jeAvDz6vr85SIHZFFGMyTv2VR3P6DvXEaF44+J3jPShrfhzwroun6XKC1suq3cnnXC/3l2DAB7ZwPqOaADWvhD4n8R6XJpuufEm6vrOXBaGbSICMjoRzwR6jmsDQv2aZPDWpJqGi+NJbe7j/wBXMdKikZD6ruY7T7jmuo8EfGe317xTN4S8V6W/h3xJC5T7NJIHjmYDOFbjkjkDoR0Jr0+gDzb/AIV747/6KvqH/gqg/wAaP+Fe+O/+ir6h/wCCqD/GvSSQASeAOpryzxF8eNDsdZ/sPwjp934s1gsVEGnD92COoMmDn6qCB3IoAtf8K98d/wDRV9Q/8FUH+NH/AAr3x3/0VfUP/BVB/jXR+CdU8WatY3M/jTQINEl8wfZoIrkTEpj+IgnnP0rpqAPNv+Fe+O/+ir6h/wCCqD/Gj/hXvjv/AKKvqH/gqg/xrg7v9rCzt72eBPCc0qxyMgcX4G4A4zjy+9Q/8NbWv/Qnzf8AgwH/AMboA9C/4V747/6KvqH/AIKoP8aP+Fe+O/8Aoq+of+CqD/Gtn4ZeP0+JHhNtbi09tPVbl7fyWm8z7oU5zgf3vSvP/GX7Sdv4Q8Y6loL+GZbtrGXyjML0IH4BzjYcdfWgDp/+Fe+O/wDoq+of+CqD/Gj/AIV747/6KvqH/gqg/wAa89/4a2tf+hPm/wDBgP8A43R/w1ta/wDQnzf+DAf/ABugD0L/AIV747/6KvqH/gqg/wAaP+Fe+O/+ir6h/wCCqD/GrXwp+KB+KFjqN4mhy6XBZSJEsjziUTMQSwHyjBUbf++hXf0Aebf8K98d/wDRV9Q/8FUH+NH/AAr3x3/0VfUP/BVB/jXpNFAHm3/CvfHf/RV9Q/8ABVB/jR/wr3x3/wBFX1D/AMFUH+Nek0UAebf8K98d/wDRV9Q/8FUH+NH/AAr3x3/0VfUP/BVB/jXpNFAHm3/CvfHf/RV9Q/8ABVB/jR/wr3x3/wBFX1D/AMFUH+Nek0UAebf8K98d/wDRV9Q/8FUH+NH/AAr3x3/0VfUP/BVB/jXpNFAHm3/CvfHf/RV9Q/8ABVB/jR/wr3x3/wBFX1D/AMFUH+Nek0UAebf8K98d/wDRV9Q/8FUH+NcVqng/xVF8Z9C0+Xx/eS6hNplxJDqJsIg0KBhlAmcHPqfX2r36vNtb/wCTjvC//YFu/wD0IUAH/CvfHf8A0VfUP/BVB/jR/wAK98d/9FX1D/wVQf416TRQB5t/wr3x3/0VfUP/AAVQf40f8K98d/8ARV9Q/wDBVB/jXpNFAHm3/CvfHf8A0VfUP/BVB/jR/wAK98d/9FX1D/wVQf416TRQB5t/wr3x3/0VfUP/AAVQf40f8K98d/8ARV9Q/wDBVB/jXpNFAHm3/CvfHf8A0VfUP/BVB/jR/wAK98d/9FX1D/wVQf416TRQB5t/wr3x3/0VfUP/AAVQf40f8K98d/8ARV9Q/wDBVB/jXpNFAHm3/CvfHf8A0VfUP/BVB/jR/wAK98d/9FX1D/wVQf416TRQB5t/wr3x3/0VfUP/AAVQf40f8K98d/8ARV9Q/wDBVB/jXpNFAHm3/CvfHf8A0VfUP/BVB/jR/wAK98d/9FX1D/wVQf416TRQB5t/wr3x3/0VfUP/AAVQf40f8K98d/8ARV9Q/wDBVB/jXpDusaM7sFVRlmJwAPWvIh8Z9R8W+LJ9A+FehRav9lGbjVL6YxWyDOMgAZIJ6HOTg4BHNAGr/wAK98d/9FX1D/wVQf40f8K98d/9FX1D/wAFUH+NZGtfFrxV8PNStE+Jfhq0/sy7fYmp6LO0iI3oUcZzjnHHAOM4r1fTdSs9Y0y31HTLhLm0uYxJDNGcq6noaAPP/wDhXvjv/oq+of8Agqg/xo/4V747/wCir6h/4KoP8a9JooA82/4V747/AOir6h/4KoP8aP8AhXvjv/oq+of+CqD/ABp3xC+MmmeC9Uh0HTbKbXfEVwVWPT7ZsbC33Q7YOCc8KAT9AQazNQ8Y/F/RtKfWNQ8E6PcWkS+ZNZ2l4xuEQcn1BI/2QfpQBo/8K98d/wDRV9Q/8FUH+NH/AAr3x3/0VfUP/BVB/jWr8OPijofxK0uSbSi9te24H2mxmI3xZ7gj7y+4/ECu0oA82/4V747/AOir6h/4KoP8aP8AhXvjv/oq+of+CqD/ABr0mvOfiz8XrD4ZWNvGkC6hq10d0Vn5m3bHnl2ODgdh6n6GgBn/AAr3x3/0VfUP/BVB/jR/wr3x3/0VfUP/AAVQf411XgfxG/i7wPpevS262r30PmGFW3BOSMZ79Kn8UeKdI8G6BNrHiC6W2tIuOmWkY9EUd2Pp+PQE0Acd/wAK98d/9FX1D/wVQf40f8K98d/9FX1D/wAFUH+NZej/ABI+IPjm2bUfBHg2yttILEQXes3ZUz4OMhU/LuM96qj456n4U8URaH8VfDP9imfmK/s5fNhIzjdjuvqQSR3FAG9/wr3x3/0VfUP/AAVQf41Xv/hf4w1SwmstR+J13dWs6FJYZtIt2V1PYg16Pc38UGjzajCVnijgadCjcSKF3DB9CO9fP3/DW1r/ANCfN/4MB/8AG6ALunfsuRaVqEd9ZeL3W4ibcjSaVFIFPYhWYjP4cV2v/CvfHf8A0VfUP/BVB/jXnv8Aw1ta/wDQnzf+DAf/ABuj/hra1/6E+b/wYD/43QB6F/wr3x3/ANFX1D/wVQf40f8ACvfHf/RV9Q/8FUH+Ndb4L8RyeLvBuna9Lp8mnG/jMq20j7yq7iFOcDIZQGHHQ1wuv/Gh5fGn/CH/AA70b/hItYVis8rTeXbwFfvZbvt6E8DPAJPFAF3/AIV747/6KvqH/gqg/wAaP+Fe+O/+ir6h/wCCqD/GsvxF8SPH3w9gh1Lxv4X0u90dnCTXOi3TlrcnpuEg59OwzxkZFekeGvEul+LtAttZ0K5FxZ3AyrYwykdVYdmB6igDi/8AhXvjv/oq+of+CqD/ABo/4V747/6KvqH/AIKoP8a7XxB4m0bwppy3/iG/isLV5BEssucFyCQOPYH8q8w8ZftJ+EdE0+VfDUra5qJUiNUjZIUb1d2AyPZc56ZHWgDa/wCFe+O/+ir6h/4KoP8AGj/hXvjv/oq+of8Agqg/xrpvh/4iuvFngHSdd1CGKG4vofMeOEEIvzEcZJPQetdHQB5t/wAK98d/9FX1D/wVQf40f8K98d/9FX1D/wAFUH+Nek0UAebf8K98d/8ARV9Q/wDBVB/jR/wr3x3/ANFX1D/wVQf416TRQB5t/wAK98d/9FX1D/wVQf40f8K98d/9FX1D/wAFUH+Nek0UAebf8K98d/8ARV9Q/wDBVB/jR/wr3x3/ANFX1D/wVQf416TRQB5t/wAK98d/9FX1D/wVQf40f8K98d/9FX1D/wAFUH+Nek0UAebf8K98d/8ARV9Q/wDBVB/jR/wr3x3/ANFX1D/wVQf416TRQB5t/wAK98d/9FX1D/wVQf40f8K98d/9FX1D/wAFUH+Nek0UAebf8K98d/8ARV9Q/wDBVB/jR/wr3x3/ANFX1D/wVQf416TRQB5t/wAK98d/9FX1D/wVQf40f8K98d/9FX1D/wAFUH+Nek0UAeU/BqzudP8AEfjy1v799RuotVRZbuRAhmby/vbRwPwr1avNvhl/yPfxG/7DSf8AooV6TQAUUUUAFFFFABRRRQAV5t/zdN/3Jn/t7XpNebf83Tf9yZ/7e0Aek0UUUAFFFFABRRRQAUUUUAFFFFABRRRQAUUUUAfEPx9UL8c/EQUADdAeB3NvGa9x/ZU/5JZqX/Yal/8AREFeH/H/AP5Lp4h/3rf/ANJ469w/ZU/5JZqX/Yal/wDREFAHqHjHwfpXjjw3caNrcCyRSqfLl2/PA+OHU9iP16Hg18LO2tfD7xtcR2l1JZarpN08XnQnHzK2D9VOOh4INfoNXxN+0FbJbfHDXPKAAkEEhA9TCmf15/GgD6m+FXj2P4ieBbfVyixXsbGC9iTokqgZI9iCGH1x2rsJp4raB5riRIoo1LPJIwVVA7knoK+bP2SryUXXieyJJiKW8wHYMC4P5gj8q4j44/FS+8aeKbrSLC5ePQNPmMUUSNhbh1ODK3ryPl9BjuTQB9K3fxo+HdlcGCbxXYs4OCYd0q/99ICP1rf0Dxh4d8Uxs3h3WbLUdgy6QTAug9SvUfiK4n4S/Dzw/a/B3S4L3SrW6fV7Jbm8eaIM0vmruAJ64CsAMdMZ618kXkl94H8e3q6NeS213pN/LDFPG2GBRyv45xyOhoA/Qaqmparp+jWL3mr31vY2yfemuZVjQfiTiuY0L4hWl58H7fxxqYEUIsDcXKp/fTKuq/V1IH1FfHvirxhr/wAU/GkL6jOxa5uFgs7QMfKtw7AKqj8Rk9TQB9ct8bfhys/knxVZ7s4yFcr/AN9bcfrXWaTrula9YfbtF1G1v7XoZreZXUH0JB4Psa8n+Kvg7S/Bn7PGoab4e0iBzDHCkk/kK0h/eLvlY4znrz2z2ArxL9nvUNUtfi9p1ppxka2vVkjvoRko8QRjlh7HBB9eO9AH0l40/wCFV+MrSKDxdrGgT+QSYpG1SOKSPPXDK4ODgcdDVz4dQ/DzSre40n4dXWmS7QJbhbS6E8jdgztkkjnjnAzxXgv7R/w68O+DpNH1Lw1ZiwF80sc9vGxMZKhSGUH7vUggcdOOubH7J/8AyOmuf9g9f/RgoA+p2ZUQs5CqoySTgAVxeofGL4faZctb3fiqw8xThhCxmAP1QEV5X+1R4t1Kxg0nw3YzPBaXsb3F3sOPOAICoT6Dkkd+PSsD9nLUvh/bWuoW3ioabHrctwDBLqSLtaHaMKjP8oO7dkcE5HXHAB7yPix4EbSJ9TTxTpz21uAZdsuZFBIUfux8/UjtXRXms6Zp1nHd6jqFrZ28uNktzMsatkZGCxHavFfjR8ENL1rw+/iDwJpscOqQ4d7WxQBLxCedqLxvGc5HXnOTivULrwjpHi/wVpum+LdLW6RLeJjFNuVopPLwSCCCrDJFAHC614b+BOo6++sapf8Ah43cj+ZKserqqSN1y0ayYyT14575r1XSLvTr3R7W40OW3m09owLd7Ygx7BwAuOMDGOPSvgXxvokHhvx3rWjWbu9vY3skMTOctsDHGffFfZfwT/5It4a/69T/AOhtQB3EsscELyzyLHGgLM7tgKB3JPSuLvvjL8PNPuDDceK7BnU4PkFph+aAivmj43/FXUPGnim70mxuni0CxmMUUMbYW4ZTgyt/eyRwD0GO5Ne4/APwBpGk/DGw1S70+3uNR1ZDcSzTRB2CEnYgJ6Dbg49SaAO80Dx74U8UyeVoGv2N7NjPkpMBJj12HDfpXQ18c/tC+ELXwV8SLe98PxCxt9RgFyiQfIIZlYhtmPu/wtx0JOK9k/Z8+J95440G50jX5vO1bSwpE7feuITwGPqwIwT3yp65oA9Dm8e+ELbP2jxVokWOu/UYR/Nqn0bxf4d8RXMtvoOuWGpTQrvkS1uFkKrnGTg9M180ftJfD7w94Rm0XUfDditgb9pkuIIyfLJXaQwB+6fmIOOOn4838DPC+p+MfEWp6PZaxLpOnzWg/tKS3/10sO8fu0PbJxk+gPXoQD6h1P4u+AdHvmtL/wAUWKzodrLExl2n0JQEA10Wi69pXiLTxfaFqNtqFsTjzbeQOAfQ46H2PNfNXxp+Bmg+CfBK6/4amvAbeZIriK5kDh1bgMDgYO7Htz7VzX7OHiG70n4uWemxSsLTVo5IZ4s/KSsbOjY9QVxn0Y+tAH2VWT4rtpr3wZrVraxtLPPp88cUa9WZo2AA+pNa1FAHlHwD+Gr+B/CDX2sWnka7qTEzq4G6GIHCR+3TcfqPQVxf7W3/AB4eFv8Arrdfyir6Lr50/a2/48PC3/XW6/lFQBxf7L3/ACVyX/sGTf8AocdfSXxM8D23j/wNe6RMi/aghlspT1imA+U59D0PsTXzb+y9/wAlcl/7Bk3/AKHHX1/QB5n8I9ngT4Q6Np3jKe30O7V7gmK/nSI/65m4yeeGB/EV0s3xL8DwZ8zxhoeR1C6hEx/INUvjHwJ4e8d6ctp4ksFufKVxBKGKyQFsZKsOh4HscDIr4CuYfs91LDnd5blM+uDigD9Bdb8Y+HfDmmQ6hres2lnazqGhkkkH70EZygHLcEHgGk8NeMfD3jC2kn8Natb6gkRAkETfMmem5TgjPuOcV82fFH4bXNn8IdJ8XX15eaxrEv2ZbiTP7mztTE21EQdFB2DJ6k54zVH9mCz1OX4oy3dmkgsYbKRbxwDsw2Nik+pYAgf7J9KAPrmaeK2gea4kSKKNSzySMFVQO5J6CuKu/jR8O7K4ME3iuxZwcEw7pV/76QEfrXzV8cfipfeNPFN1pFhcvHoGnzGKKJGwtw6nBlb15Hy+gx3Jr374S/Dzw/a/B3S4L3SrW6fV7Jbm8eaIM0vmruAJ64CsAMdMZ60AdtoHjDw74pjZvDus2Wo7Bl0gmBdB6leo/EVs1+fN5JfeB/Ht6ujXkttd6TfywxTxthgUcr+Occjoa+vLn4tQ2XwHtvHk0KNc3Fsqx2+cK9ySUK/7oYMfXANAHba74n0PwzbC48QatZ6dG33DcTBC/wDug8t+FczB8a/h1cziGPxXZBicZkDov/fTKB+tfK3glLz4qfGzSk8WXMl+17cmS58xuGjjVpDGB/CuFIwMYB4r3b9o7wZo5+FLarZadbWtzpM0XlvBEqERuwjKcDpllOPagD2e0vLbULSO6sLiK5t5RujmhcOjj1BHBqavjT9n7x7f+GfiHY6K1w76TrEwt5bdmyqytwjqOx3YB9QfYY+y6AAkAEk4A6k18PfGP4k3XxC8ZTmKZv7GspGisIQflKg4MpH95uvsMCvr74h3kmn/AAz8S3cBKyxaXcMjDs3ltg/nX5/0AfYv7OHg630D4aw6y8S/2hrRM0khHzLECQiA+mBu/wCBe1evVzfw5iWH4XeFkTGBpFr07nyVJNdJQB8s/tD+AYPD3jTS/FelQrFaapcql0iLhUuAd27/AIGAT9VY9695+K3/ACSPxR/2DJ//AEA1v6vomma/ZC01qwt7+3VxIIriMOoYdGwe4zWB8Vv+SR+KP+wZP/6AaAPinwD/AMlJ8Nf9ha1/9HLX6B1+fngH/kpPhr/sLWv/AKOWvvfWHvYtDvpNKQSXy20jWyN0aUKdoP44oAqa74r0DwxCsniHWLLTgwyguJlVn/3V6n8BXNRfG34czS+WniqzDZxl0kUfmVAr4+toPE2ufEGBtQsr3U9ZkvEaWG7hZ2dgw+V1Yfd4wQeAPavpT9o/wpo7fCiTU4NPtoLrTp4TDLDEqMFZghTIH3fmBx6gUAevaZqun6zYreaRfW99av8AdmtpVkQ/iDirdfG/7N3iO90r4sWmlQzP9i1aOSKeHPylljZ1bHqCuM+jGvob44eKdQ8I/CrUL7R5GhvJnS2jnXrFvOCw9DgHB7Eg0Abmv/Efwf4YuTba74isbW4X70Bk3yL9UXJH4iq2lfFfwJrUwh0/xTpzSn7qSy+SW+gfGfwr5M+DWo+FbT4lR3XxAWGWzeJ/Lku08yNbgkbWkBzkY3cngEg9s19MeLfhd4I+JXhiR9Hh02K6KH7JqemhMK2OAxTh19Qe3TB5oA7jQPEOleKdHj1TQLxbyykZlSZVZQSpweCAeop+sa9pPh6y+167qVrp9vnAkuZVQE+gz1PsK4X4DaJqvh34YR6Xr1lNZXVveTjy5VwSpbIYeoOTg18pfE3xbqXjDx9qd7qczskVxJDbQk/LBErEKoHbgc+pyaAPruP42fDmWfyV8V2YbOMsrqv/AH0Vx+tb1h428NarrcWk6XrVpe3s1sbpI7aTzA0Qbbu3LlevbOa5HwZB8KPF3hS207QbHQ7mEwAPZSQx/aEOOd4I37v9rueQa5Xwf8J7n4eftBJdaLb3Evh27sZjHMQWFsx/5ZM31AwT1BHUg0AeoeKNS8FXtjdaJ4u1PRvIkAWe1vbyNCO44LAg9CDwRwRXI+CdI+DnhjxFGfCGoaNJq1yfKhKakLmTn+FMu2M9OOT0rK+P/wAOPDl74G1jxWlkLfW7VUlN1ExBm+ZUKuOh+Xv1GBz2r52+EX/JYPDH/YQj/nQB9tav4t8OaBdJba7r2m6bO6eYkV3dpEzLkjcAxBxkEZ9q+CfFerSa94v1bVZpPMa8vJZt2c8FiQB7AYA9q+5vE3w48J+MdQivvEujRX9zFEIUkeR1KoCTj5WHdj+dfBV9GsWoXEcY2okrKo9ACaAPtzRPGHgC+8F6VpGp+IfD10hsoIZLS5u4XDMEUbSjHrntiqXiLSfgzrGkxabq1x4Wt7a3cvCtvew2xjY4zgoy9cDI6HA9Kb4X+DPw/l8O6PfyeG4GuntIJmkM0vLlFbON2OtePftH/Drw74Ok0fUvDVmLAXzSxz28bExkqFIZQfu9SCBx0465APevh1D8PNKt7jSfh1daZLtAluFtLoTyN2DO2SSOeOcDPFdtXyv+yf8A8jprn/YPX/0YK9l+NHxFf4d+Bzc2G06rfP8AZ7MMMhDjLSEd9o/Ur2oA6fxB408NeFQv/CRa3ZaezDKxzSgOw9Qg+Yj6CsSx+Mvw81G4ENv4rsFdjgecWhH5uAK+avgXoieP/jJ9p8TltT+zwSX8/wBqPmee4Kqu7PX5nBx7eld/+1N4T0y00XRvEFjZw21x9pNnM0KBfMUoWXOOuNjY+tAH0XHIk0SyQuskbgMrqchgehBrCm8e+ELbP2jxVokWOu/UYR/Nq+d/2Y/Ht/b+KG8HXtw82n3kTy2iO2fIlQbiF9FKhiR6gHuc1/2kvh94e8IzaLqPhuxWwN+0yXEEZPlkrtIYA/dPzEHHHT8QD6W0fxf4c8Q3EsGg65p+oywpvkS1uFkKLnGTg9Kx5fi34Ch1f+zJPFWnC53bCBJlAfQyAbR+dfMXwG8KXHjLxDq2kf2rPp2myWYOoC1O2W4j3jEQb+EE9T3Ax3rivHXh9vDXj7WdGS1lt4ra9kS3jkySYtx8s5PXK4Oe+aAP0DBDKCpyDyCO9Fcp8L7TUrH4W+HrbXFkW9iskWRJPvIP4VPoQu0Y9q6ugAooooAKKKKACiiigAooooAKKKKACiiigDzb4Tf8h74g/wDYzT/+grXpNebfCb/kPfEH/sZp/wD0Fa9JoAKKKKACiiigAooooAKKKKACiiigAooooAK8i/aR8VzeHfhibCykMdxrM32UspwRFgtJ+YAU+zGvXa+av2t5mNx4Vhz8gW6fHqcxD+lAHb/s06BFpXwli1HywJ9WuZJnfHJVGMaj6fKx/wCBGup+MGgReI/hLr9pJGHkhtGuoeORJEN4x7naR9CaZ8GI1j+DPhlVxg2Ybj1LEn+ddVrkay+HtRjfBV7WVTn0KGgDwf8AZU8VzXOmat4WupCy2ZW7tATnajHEij2DbT9WNfQ1fIP7LszR/FuZFPEulzK303xn+YFfX1AFHXNSGi+HdR1Rl3rY2stwV9QiFsfpXy5+zfC/if4yanr+sv8AabyG1luhI/J86R1Ut+TOPxr6k1nTU1nQb/TJW2pe20luzegdSpP618hfB/X/APhVPxkuLDxWPsUcivp120nCwtuBVyf7uVHPTDZoA+yq+Qbmc/C79qmUad+4sm1FFkjXhfIuArMuPRd/A9VHpX1s9/Zx2BvpLuBbQJvNw0gEe313dMe9fGXxP1qw8ZfHxrnw7OLq3mubW3imQcSMoRCV9Rnoe9AH2RrV7/Zug6hfE4+y20k2fTapP9K8n+AHg7RLr4Padfapoun3lxdzTyGW5tUkbAkZAMsCcfJXffElbuT4YeI4tNtprq6m06aGOGBC7sXQrwByTzXlng3wF8U7/wAA6Vp0niaLwbYW8AENrbW3mXLZJbdK2QVJJPAPHcZoA9f/AOEK8K/9Czo//gBF/wDE1pWGm2OlW32fS7K3soSxbyreJY1ye+FAGeK+a/FWtfFv4Kana3epa/8A8JFo1xJsWS5UujnrsbPzRtjJGGwcd8EV7z4C8baf8QPCNtrumKYxITHPAxy0Eo+8hPfqCD3BB4oA+bfjPqs/j74/WPhZJW+xWl1Dp0aqeA8jL5r/AFycfRBX1lbW8NpaxW1rGsUMKCOONRgKoGAB7AV8beHGN5+1cHm5LeI7h+fUSOR/IV9m0AfMX7UulNpPi3w94n04tBdTxtG0sfBWSFlZGz6/P1/2RXv/AIH8RDxZ4F0fXMAPe2qSSheiyYw4HsGBFeQ/tYRqfBuhSHG5b9lH0MZ/wFdL+z/fi3+AljcXBPlWjXTH2USOx/maAOR+Ofj/AFTXfFVv8MfBcjC4upEhv5Y2wXZ8YiyOigHLH8OxB9Z+Hvw80b4d+Ho9P0qFXuWUG7vWX95cP3JPZfReg+uSflP4V3vifXPi7cav4dsLe/124We4E12xENq0hw0z45IAcgD1Ydeh9m1z4T/Fa+tnvovindSajjcLSDzLSEn+6CjY/NKAPcqpa1e/2boOoXxOPsttJNn02qT/AEr59+Enxr1+18Yr4K+I7tJM85tYrqYASwzg4EchH3gTwD1yRyQePaPiSt3J8MPEcWm2011dTadNDHDAhd2LoV4A5J5oA4H4AeDtEuvg9p19qmi6feXF3NPIZbm1SRsCRkAywJx8lelf8IV4V/6FnR//AAAi/wDia8g8G+Avinf+AdK06TxNF4NsLeACG1trbzLlsktulbIKkkngHjuM1znirWvi38FNTtbvUtf/AOEi0a4k2LJcqXRz12Nn5o2xkjDYOO+CKAPpSw02x0q2+z6XZW9lCWLeVbxLGuT3woAzxXmnh34T2kvxQ8WeKPFmkW92Lq7UaatyElTy9g3SbeQCTgDcMjB9a7DwF420/wCIHhG213TFMYkJjngY5aCUfeQnv1BB7gg8V0lAGYvhnQUGE0TTlHoLSMf0rzf4232meHPB8ek6Ho9i2veIJfsNhHHbJvG7Adxx1AYAHsWB7V607rGjO7BVUZZicAD1rxLwArfFL4xap4/uVL6LohNhoqsOHb+KTH0Jb/ga/wB2gD0rwB4Qt/A3gfTtCttrNBHunlUf62VuXb8+nsAO1dJRRQAUUUUAFFFFABRRRQAUUUUAFFFFABRRRQAV5trf/Jx3hf8A7At3/wChCvSa821v/k47wv8A9gW7/wDQhQB6TRRRQAUUUUAFFFFABRRRQAUUUUAFFFFABRRRQAUUUUAFFFFAHkX7SPiubw78MTYWUhjuNZm+yllOCIsFpPzACn2Y0n7NOgRaV8JYtR8sCfVrmSZ3xyVRjGo+nysf+BGuI/a3mY3HhWHPyBbp8epzEP6V678GI1j+DPhlVxg2Ybj1LEn+dAD/AIwaBF4j+Euv2kkYeSG0a6h45EkQ3jHudpH0Jry79lTxXNc6Zq3ha6kLLZlbu0BOdqMcSKPYNtP1Y17xrkay+HtRjfBV7WVTn0KGvk/9l2Zo/i3MiniXS5lb6b4z/MCgD6+qjrmpDRfDuo6oy71sbWW4K+oRC2P0q9VLWdNTWdBv9Mlbal7bSW7N6B1Kk/rQB8t/s3wv4n+Mmp6/rL/abyG1luhI/J86R1Ut+TOPxr6xr41+D+v/APCqfjJcWHisfYo5FfTrtpOFhbcCrk/3cqOemGzX2E9/Zx2BvpLuBbQJvNw0gEe313dMe9AHyTczn4XftUyjTv3Fk2ooska8L5FwFZlx6Lv4Hqo9K+vq+KvifrVh4y+PjXPh2cXVvNc2tvFMg4kZQiEr6jPQ96+xde13T/DOhXesazcLb2VpGXkc/oAO5JwAO5NAGN8QfHen/D/wvJql8POuHPlWdop+e5lPRR7dyew98A/M3xa8Gatpvg2x8XeM5nl8Ta9f7p4ycLaReWSsIHtxn0wB2JPr3gHQtQ+I/ixPiX4zt2itI+PD2lyciCPPEzDux6g9zz0C1kftYf8AIl6F/wBhBv8A0WaAPQvgt/yRjw1/16f+zNXjH7WN9eHxFoFgxYWK2rzIOzSF8N9SAF+mfevZ/gt/yRjw1/16f+zNUHxj8D6D4z8FOdf1CHSXsMy22pTMAsDHghs9VbABHXIGORQB0vgu40668C6JNorIbA2MQg2dAoQDH1GMEeoNeU/tVW9q/wAN9MuJVX7THqipC3fa0UhYfQ7VP4CvFfCPjHx58MLd7/Q/OvPDrXDJ5klvI1jcMDgsjMFKk+owT36Yrq5fHek/HLxtpdn461GLwzo1kAYrNXLfa5WxuzMQAmcAAnoMgcnNAHsnwiW/1D9nfS4rgM9zJY3EMQY4JXfIsY57bduPbFJ8KfhJo/hTwTZJruhWU2uTKZLyS4iSZkYn7gbkAAYHynBIzXo1laW1hYQWdhEkNrbxrHDHGMKiAYAHtip6AM0eG9DAwNF08D/r1T/CvGviRpun+Ofilo3w40OxtYLa1I1DXJ7eFUZIwOI9wGRkEfjInpXrfjPxTaeC/B+oa9f4MdpEWSPODK54RB9WIH61xHwK8L3dl4bu/FviDL654nl+2TOw5SIklF9s5LY9Co7UAa/xd8SnwN8JNSu9Mxbz+UtnZiP5fLZ/lBX02rkj/drzn9lHQY4/D+t+IZEBnuLkWaOeoRFDtj6lxn/dFaX7VczJ8NdLiU4WTVkLe+Ipf8a1P2Z41T4NwsuMvfTsfrkD+lAHpPiTRIPEnhjUtGu1DRX1s8JyOhYYB+oOCPcV81fsveJ7jTPGmo+FLpiIL6Jpo4yfuTx9cfVM5/3BX1RXxl8NGNn+1BbLDwF1W7jGP7pWVf5GgD7HurK1voRFfW0NzGDuCTRhwD64P1r55/ao0uw0/wAO+H2sLG2tme6lDGGFUJGwdcCvoyvn39rP/kW/Dv8A19y/+gCgD034OjHwc8M4/wCfFf5mu1ri/g9/yR3wz/14p/Wu0oAKKKKACiiigAooooAKKKKACiiigAooooAKKKKACiiigAooooA82+GX/I9/Eb/sNJ/6KFek15t8Mv8Ake/iN/2Gk/8ARQr0mgAooooAKKKKACiiigArzb/m6b/uTP8A29r0mvNv+bpv+5M/9vaAPSaKKKACiiigAooooAKKKKACiiigAooooAKKKwPF/jfQPAmmRX/ia8a1gmk8qMrC8hd8E4woOOAevFAHyD8f/wDkuniH/et//SeOvcP2VP8Aklmpf9hqX/0RBXzr8UPFFp4z+Jesa9pqSJaXciCISjDFUjVMkds7c4969H+Avxi0HwFoV/ofiZbiGGe6N3Dcwx+YMlFVlYDkfcUggHqelAH1hXwv8bNWi1n4zeIrmBg0aXC24I6ZiRYz+qGvdvFHx+fV9Ml0/wCFuhatq2pXClEuxZtshz/EqjJZh2yAO/PSuH+H37Nmtaxfx6l4/ZtPst3mNaCQNcXHfDEZCA9znd7DrQB1v7Lvhe6sPBmsa/KhjbVZFitSwxlIg3zD2LOR/wAAr5bkV0kZZQQ6khgeoPev0asrK202xgsrCBLe2t4xHFFGuFRQMAAV8p/HL4L6ro/iK88SeGrKS90i9kaeaO3Qs9pITlsqOdhOSCOB0OMAkA9I8C/B3wp4g+Hug6pJeayXurCF5RHqUioH2DcAOwDZGK0n/Zr+H8kjPJDqLuxJZmvWJJ9ScV4z8JPj3N4A0j+wtcsJdR0pHLwNC4Etvk5ZQDwyk5OMjBJ5Pb0e5+PGsePFbRfhP4Zv21CcbHv71VCWgP8AGQpZR7FiPoelAGv8WvC9p4S/Zp1PQvD6yrZWZiKq7722tdK7ZPflj+FfLXga5is/iH4dubkhYYdVtpJCegUSqT+gr7Z0LwP9m+GI8JeI9RuNZM9s8N3czyFmYvnO0nkBc/L6YFfHfxB+GHiD4eavLDqVrJNYbz9n1CNCYpV7ZP8AC3qp5+o5oA+8GUOpVgGUjBBHBFUrDRNK0qSSTS9Ms7J5f9Y1vbrGX+pUDNfPPgn9qO2sPDsFj4z0y9ur22QRi7s9jeeAMAuGZcN6kE568V1Ogap4v+MPi3S9Y+yXnhjwfpU4uYh5hSbUZB0GRjKYJBxxgkZJPABiftaf8gXw1/18T/8AoKVzv7J//I6a5/2D1/8ARgqv+0d8RfD3jCTSdL8O3L3b6bNMbmQxMiqx2rtG4Ak/KecY6da574C/EDRvAHjC9uPEbSxWd7aeT58cZfy2DhhkDnGAegPbigD6C+L/AMPdL+KFrHpVpqtpbeJdNjNxbxvIC3lMQCHUfMEJAw2OCPqK+VvE/wAMfGPg9pDrmhXUcCdbqJfNhx671yB+ODXsvxU8R614d/aE0nxD4RtJtRYaHFPLbwxs3nWxeTfuAGQMAHOOCAe1eq6B8avAXiDSluzr9pp0m397a6jKsEkZ7rhjhv8AgJIoA+QPCHxD8TeBr5J/D+qTRRK2XtHYtBL6hkPH4jB9CK+4fBfiaHxj4L0vX7ePylvoA7R5zscEqy574YEZ9q+O/HVhbePvjLqMPwz01ru2uZEES2sW1GbaoeTHAVS2Tk4HfvX1NpD6P8GvhPpdt4lvxDbWEaxSzpE7hpnJZgAoJwWLY4oA+Rfiz/yV7xR/2Epf/Qq+tvgyHb4H+HhEcObNgp9DvbFfHHjnW7fxH491vWLFXW2vb2SaISDDbCxxkdjivp79n34j6Fqvg7SvCCySxa1YwSboWiO2RA5O5WHHRhwcHOaAPkWRHjlZJQVdWIYN1B7198fDBlb4T+FSnT+ybYfiI1B/Wvnv45fBPVNN8QXnifwrZSXumXjme5t4FLSWsh5Y7RyUJycjpyDgAGuz+B/xj8NWnw9tdB8T6pDpl9pe6JTckqssW4lSD0yAduOvFAHP/tasp1Twwo++Ibgn6Fo8fyNYv7KsUzfEzUpUB8lNJdZD2yZYsD9D+RrJ+K+v3Xxj+KKQ+CrK61O2tIVtbbyoj+8+YlpCD91STjJxwoJxX0F8F/hePht4XkF8yS6xqBWS8dOVjAHyxqe4GTk9yT2xQB59+1r/AMgvwx/12uP/AEGOsD9k/wD5HTXP+wev/owVW/aP+Inh/wAYzaRpvh25e7fTZZ/tMhhZFVjtUKNwBP3TzjHTrWH+z/480XwL4yvZfEcskFtfWvkLMkZcI+8EZC5ODzyAaAPe/wBo3/kiWqf9drf/ANGrXzh8CP8Akt/hz/rrL/6Jkr279pTxxokHgu68I/aWfWbh4JfIETYSMPu3Fsbf4cYBzzXzz8MvEln4Q+JWja5qayG0tJWMvlrlgrIyZA743Z/CgD75orO8P6/pvijQbbWdDuPtNjdAmKUoybsMVPDAEcgjp2rRoAK+dP2tv+PDwt/11uv5RV7/AKvq1loWj3Wq6pL5NnZxGWaTaW2qOpwASfwr5N/aA+KOg/EGXRrbw0Z5odP855Z5YjGGL7AAoPPG05yB1FACfsvf8lcl/wCwZN/6HHX1/Xwz8G/HVh8PviAmr6vDNLZyW728hgALJuIIYAkZ5Ufgfwr7K8I+MNG8caH/AGt4duHuLTzDEWeJoyrgAkYYD1HtQBuV+cuo/wDIUu/+uz/+hGvvbxp4+8P+ANOivPEt28CzllgSOFpGlYDJUYGB+JA96+BLmb7RdzTAbfMdnx6ZOaAP0H8Kqr+CNFV1DK2nQAgjII8tavx2UNnZyQ6bbw22QSqxIEG4jrgV578KPit4Y8W6Tpehafcyx6vb2CCW0lgYY8tVViHxtIz05z7V6XQB+b0iukjLKCHUkMD1B719beBfg74U8QfD3QdUkvNZL3VhC8oj1KRUD7BuAHYBsjFeb/HL4L6ro/iK88SeGrKS90i9kaeaO3Qs9pITlsqOdhOSCOB0OMAmn8JPj3N4A0j+wtcsJdR0pHLwNC4Etvk5ZQDwyk5OMjBJ5PYA9mf9mv4fySM8kOou7Elma9Ykn1JxXJ/tA+FrTwj8DdD0TQllXTbLVhhZH3sN6zNkn/eY/mKu3Px41jx4raL8J/DN+2oTjY9/eqoS0B/jIUso9ixH0PSu5/4Vj9v+Dh8FeIdWuNSuZIctqE7F2SbduVlzztVsADuBjvQB8m/CXSbDXfilo2l6vLPFa3TyRs9vMYnDeU+3DDkZbA/GvqGf9n3wbdRGO6m1qaNuqyak7A/ga+VvEXhLxT8MvE0R1K1msrm1nElrexgmKRlOVZHxg9AcdR3Ar3XQf2rtKOlxr4m0K9S+VcO1gUeOQ+oDMpXPpzj1oA7XSf2e/Auia1ZarYwXy3NjcR3EJa6JAdGDLkY5GQK9PrxLRNW8a/GHxTpupxW954U8H6bOLlSJCs+oMOgzxlSODj5cE8scY9toAzfEmkjXvCuq6QSF+32cttuPbehXP61+ed1azWV5Na3cbRTwSNHLGw5RlOCD9CK/R6vAPjj8CrnxDfTeKfBkSvfyDde2AIXzyP8Alonbd6jv1HPUA9D+Cmtxa78HfD8sThmtbYWci55RovkwfwCn6EV3lfFPwy+KGtfCDW7qw1LTp5LCdwbvT5gYpInHG9dw4bHBBHIA6YBHuD/tReBFsvOW31dpcZEH2ZA2fTO/H60Aera7rum+GtEudX1u6W0sbVd0srAnHOAABySSQAB1rmviPfW2p/BPxDfWEyz2tzpEssMqHh0ZMgj8K8xg0/xb8f8AXrS78RWE2geBrOQTR2jEh70jpzwWyON2AACcZOTXVfG7x74b8LeBtS8KTSlNTv8ATClpZRQNgRtmMNuxtAG1uM546UAfKvgH/kpPhr/sLWv/AKOWvvfV9Vs9D0e71TVJhBZ2kTTTSH+FQMnjufbvX59eHNTTRPFOlarLG0iWN7Dcsi9WCOGIH5V9g+K9Vs/jF8C9e/4QWaS7eRQixtE0b+ZG0crRYI5JXA4yPm60AeW67+0t4n8R6zFpHgHS4bA3U6wW0lwBLPIzNtXg/IuSRwQ31q38WPhtqek/Cm78Q+M/Feo69rcckIWMylbWAs4DBI/oTzx9BXhOg6pc+E/F+n6obYm40u8SZreUFSWRgSh7jpj2r3nx58QNd+MPw1v7bwl4Ovk0y3C3F7eXDA52MDsiA++e59ADxyKAPNvgAu/46eHh/tXB/K3kNfXHjzSdC8SeF5fDniO9htI9WYQW5eRUdps7k8sH7zAgHA64r4t+GHiq18EfEnSfEGowyzWto8glWIAvteNoyQDjON+ce1e5fHHxTD4x+FPhrxD4U+1qW11FtC0RSXzAkm0qPXcvFAHlPjD4E+N/CdxKyaZJq9ipJW709TJlfVkHzL78Y9zXEaVrWseGdS+06Pf3em3cbYLQyNG2R2I7/Q19deBfjpoup2S6d45mXw54htRsuob9TAjsOrKW4XP904I7ZHNeT/tHa/4W8Va/o0XhB7fU9UUSLdXFgu/zAdojTcv3zkN0zjPvQB7B8D/idc/EHwfdSa55a6lpbiO5mUBVlQglZCOinhgQOOM8ZwPMPid8CrnxDqVx4v8AhncWur2GpO08ltBOv3yTvaJs7WUnPGcg8DPbvfgJ8OdR8G+A9Sm12E2+oayQzWzfeijVSEDejHcxI7ZHfNea/A/4rz+A9Ij07xdaXaeGLuZjZ6kIWZIJM/OuccrnkgZIOeDngA8Y1XRNY8OXwg1jTrzTblTlVuImjbjuM9fqK9m+Bfxm1638Xaf4Y8RX0upabqEgt4HuGLy28h4TDHkqTgYPTIIxjB9W+JnxF+HWpfDTVobnWtL1Zri0dba2hlWWTzipCEKOUIYg5OMV4h8A/hvq3iLxzp3iCa1kg0bS5xcm5kUgTSIcoif3vmAJI4AHqRQB9E/HD/kiniT/AK90/wDRiV8l/CL/AJLB4Y/7CEf86+iv2gfiL4e07wXrHhF7l5Nbu4YwtssTYRS6tuLkbcYB4BJr5h8D67B4Y8d6NrV3G8lvY3kc0qx/eKg8498UAfoLX5y6j/yFLv8A67P/AOhGvt67+NHgiz8IW3iSXU5TYXbvFb7bWTfJIn3kxt4PucD3r4duZvtF3NMBtEjs+PTJzQB+g/hP/kS9E/7B8H/ota8Q/a0/5Avhr/r4n/8AQUrt/hT8XPC3ivS9J0CzuJodYiskR7SWFuTGgDEOBtI4yOQfavHv2jviL4e8YSaTpfh25e7fTZpjcyGJkVWO1do3AEn5TzjHTrQBY/ZP/wCR01z/ALB6/wDowVq/tbpNv8KycmEC6X2Dfuv6fyrgfgL8QNG8AeML248RtLFZ3tp5Pnxxl/LYOGGQOcYB6A9uK+l/ih4Etvij8P8A7HazJHdLtu9PuHBCh9vAbuFYHB9Mg44xQB8x/AXw1pXiz4gz6XrU93DG9hI8RtLhoWZ1dOMjqNu449q+hLn9nnwVeIEvH1idQcgS6i7DPrzXyxFH4p+FHji1vLmym03VLGXdGJ0OyUdGAI4dCCQSD0PWvfbD9q/w/Jp6nUfD2px3u3mO3aOSMt7MWU4/4DQB3Hhb4HeDfB3iW113RYbxL213+WZLksvzIUOR34Y151+1r/yC/DH/AF2uP/QY66vwQfHPxA8bW3jHxElz4b0CyRlsNIWRle63DlpRxleh5A6DAxknyz9o/wCInh/xjNpGm+Hbl7t9Nln+0yGFkVWO1Qo3AE/dPOMdOtAFn9k//kdNc/7B6/8AowV9QzWNpcXEc9xawyzRf6uR4wzJ9CeRXxt8BfiBovgDxffXPiNpYrS8tPJE0UZfYwcMMgc4wD0z2r7E0jVrLXtHtdV0qbz7K7jEsMuxl3KehwwBH4igC5RRRQAUUUUAFFFFABRRRQAUUUUAFFFFABRRRQB5t8Jv+Q98Qf8AsZp//QVr0mvNvhN/yHviD/2M0/8A6Ctek0AFFFFABRRRQAUUUUAFFFFABRRRQAUUUUAFfPX7WelvLofhzVVX5Le4mt3PvIqsP/RTV9C1zfxA8HW/jvwRf6DcsI2uE3QTEZ8qVTlG+meD7EigDA+BF8t/8E/D7KcmKOSFh6FJXH8gD+NdT4yvl0zwNrt9IcLb6fPJk+0bGvCfgz4uf4VahqHgT4jq2jhpzcWdzcAiEkgBhv6bTgEN0zuzg1s/Gj4l2XiTw/8A8IR8Ppv7e1TVmVJjp371Y4gQSNy8EkgA9gN2ccUAcR+ynpb3Hj7VtT25itNO8on0eSRSP0javq6uA+Dnw6/4Vz4IWzuyj6peP5966HIDYwEB7hRx9Sx715f8ePif498H+P4bLQ7l9M0tYEkgkFujrcsfvEsynODxgeme9AH0fXEePfhH4V+IjJPrVtLBfIuxb20cJLt9DkEMPqDjtitP4eeJpfGPw90fXrmNY57yDMqoPl3qxVse2VJFQ+M/iV4X8AiJfEt+0E06F4YI4XkeUA4OMDA/EigDgbD9m7wJoKvfa1falf2lqDM8V3cKkKqoyWYIoPH1rzT4VaEnxF+Pt14js7JbbQtKuPtMSJGERAny20YA4BwqnH+wa7LW77x/8dGGl6Hplx4X8HyMDPeXy7ZLpc5+71Yf7K8Z6t6exeC/Bmk+A/DUOi6HEViT5pJX5eeQ9XY9ycfgAAOlAFvX/E2i+FrNLvxDqdtp0Ej+Wjzvt3N6D1q9aXdvf2cV3ZTx3FvMgeKWJgyup5BBHBFeRftGfD/V/GnhfT73w/E11c6TJIz2ifelRwuSo7sNg46kE454LfhP8TfBOifDjStD1PXI9N1DToTHdW9+rQukm4lhyMEZJxg/l0oA3f2gILeb4Ia61yoPleQ8ZP8AC/nIBj8yPxNcJ+yY058PeI1bP2cXUJT03bG3foFqp8WvHcvxZa38DfDK2n1eNpllvbyKMrFx91dxxhQeSxwMgYzXr/ww8BwfDrwPb6NHIs1yzGe8nUcSTMBnHsAAo9hQB8zXcJ8L/taf6R+7Q+IllyegSdwwP0xJX2RXgv7Q/wALdR1yW28Y+FYJJtQs0CXcEAzI6KcpIoHJZeQR1IxjpXX+DPjf4S13wrDd65rNnpOpwxhb20u5BEyyAfNtB+8CeRjJ7HmgDg/2tL5U0fw3YZ+eW4mmx6BVVf8A2eu3+FOgz2/7OVjp+0i4vtPuJFHc+cXZP/HWWvLdX02//aH+LkdzpkNxD4R00C3N86FFdAcuVz/GxOAOw2kgdK+nre3itLWK2to1ihhQRxoo4VQMAD8KAPk79ladIvihqMMnDy6VIFz3IliOPyz+VfWtfL/jPwjq/wAGvi7F490CwlvPD8lw00yQrnyFkyJY29B8xKseOg6jn11vjt8O10L+1P8AhIYWGzcLUI3n5/u7MZz29PfHNAHzt8foPsfx6vJNMG25kFtKAn/PXYoB+vANfXGv+JtF8LWaXfiHU7bToJH8tHnfbub0HrXz38P/AAPrHxT+LE3xG8T2Mljo4uRc2sMww1xswIlAPVVCrluhIwOpx2v7Rnw/1fxp4X0+98PxNdXOkySM9on3pUcLkqO7DYOOpBOOeCAeu2l3b39nFd2U8dxbzIHiliYMrqeQQRwRXnv7QEFvN8ENda5UHyvIeMn+F/OQDH5kfiawvhP8TfBOifDjStD1PXI9N1DToTHdW9+rQukm4lhyMEZJxg/l0rlvi147l+LLW/gb4ZW0+rxtMst7eRRlYuPuruOMKDyWOBkDGaALf7JjTnw94jVs/ZxdQlPTdsbd+gWvoOuQ+GHgOD4deB7fRo5FmuWYz3k6jiSZgM49gAFHsK6u5uYbO1lubqRYoIUMkkjnARQMkn2AFAHlvx38VXdl4dtPCHh/L654nlFpEiHlIiQHb2zkL9Cx7V3XgzwtaeDPB+naDYYMdnEFeTGPNc8u5+rEmvKvhTBN8R/idrPxO1ONhZW7Gw0SOQfcQDBYDsdp/OR/SvcaACiiigAooooAKKKKACiiigAooooAKKKKACiiigArzbW/+TjvC/8A2Bbv/wBCFek15trf/Jx3hf8A7At3/wChCgD0miiigAooooAKKKKACiiigAooooAKKKKACiiigAooooAKKKKAPnr9rPS3l0Pw5qqr8lvcTW7n3kVWH/opq9C+BF8t/wDBPw+ynJijkhYehSVx/IA/jW/8QPB1v478EX+g3LCNrhN0ExGfKlU5Rvpng+xIrxP4M+Ln+FWoah4E+I6to4ac3Fnc3AIhJIAYb+m04BDdM7s4NAHu3jK+XTPA2u30hwtvp88mT7Rsa+a/2U9Le48fatqe3MVpp3lE+jySKR+kbV2/xo+Jdl4k8P8A/CEfD6b+3tU1ZlSY6d+9WOIEEjcvBJIAPYDdnHFdx8HPh1/wrnwQtndlH1S8fz710OQGxgID3Cjj6lj3oA7+ivC/2iPH3jPwbdaRH4Ylew0+aNnmvEgV90gOPLJYEDAwffPtXa/BbxvfePfhxBqmsbDfwzvazyIoUSMuCGwOBkMM44znp0oAsePfhH4V+IjJPrVtLBfIuxb20cJLt9DkEMPqDjtiuOsP2bvAmgq99rV9qV/aWoMzxXdwqQqqjJZgig8fWu+8Z/Erwv4BES+Jb9oJp0LwwRwvI8oBwcYGB+JFeUa3feP/AI6MNL0PTLjwv4PkYGe8vl2yXS5z93qw/wBleM9W9ADjfhVoSfEX4+3XiOzslttC0q4+0xIkYRECfLbRgDgHCqcf7Br2P44eAfEXj/RdKs/DU1qn2W6M8yXUhVH+XC5G0hsc8Ed67HwX4M0nwH4ah0XQ4isSfNJK/LzyHq7HuTj8AAB0rfoA8FTw1+0RHGqR+K9IRFGFVY4QAPQfuK84+M+l/FCw0HTn+JGtWWo2bXJFuluqArJtPJ2xr2z3NfYNeCftYf8AIl6F/wBhBv8A0WaAKnwd0n4snSvDN3DrtiPCOVY2ZWPzPI3HcufKznr/ABfjXPfF/V7rxz+0Fpngi6nkj0a1vba2MKtgM0m0yOf9rDFR6Y9zXt3wW/5Ix4a/69P/AGZq8m+PPw/13SfHdv8AEfwrbvdLG8M9ysSFmglixtkKjkoQq59CDnrQB9FQ6fZ2+mpp8NrElnHEIVtwg2BAMbdvTGOMV88fHv4LaJpnhq58XeFbZdPe1ZTeWcQxE6MwXci/wkEjgcYzwD19L8KfHHwP4l0eK5uNbtNIu9g8+0v5hEY27gM2Aw9CP0PFcR8XviLbeO9GbwH8N0k8QahqMiC5ltELRQxqwb7/AE5IGT90DOTQBtfs0+Jb3XvhlJaajK0zaVdm2hkc5PlbVZVz7ZIHtgdq9hrifhN4BHw68BwaTLIs17LIbm8kT7plYAYX2AUD3xnjNX/iL4yg8B+BdQ1yfa0sSbLWJv8AlrM3CL9M8n2BoA818fSN8U/jLpngG1YvomiEX2ssp+V3HSPP0IX6u392vcFVURURQqqMBQMAD0rzL4F+Drjw94LfWdZ3PrniGT7deSSffw2Sin3wxY+7kdq9OoA8e/ac0t7/AOEP2mNc/wBn6hDcOR2Uho/5yCof2Xb5bn4U3FsD89rqUqlfZkRgf1P5V6vr+i2niPw9faNqSlrW+gaGTHUAjGR7jqPcV84/Di+vvgJ8QtQ8P+OUkg0XVCBBqQQmEupOxwR0BBIYdQcZ4GaAPp1mVELOQqqMknsK+OfgZbv4i/aFi1KNS0UL3V9Jx0DKyg/99SLXtHxT+MWhQeELnSPB2pQ63rmqxm2totNbzzHvGC5K55AJwOuccYzTvgF8LbjwH4fuNT12IR6zqYXdF1NtEOQh/wBonk/gO1AHrtfPv7Wf/It+Hf8Ar7l/9AFe0+KPFuieDNIGp+Jb0WVm0oiEnlPJlyCQMICegPavl34/fFfQviAml6d4aE80FjI8sl1LGYw5YAAKp57HJIFAH0P8Hv8Akjvhn/rxT+tdpXgXwo+O/grSfh9pWieIbybTLywh8hi9u8iSYJwwKA9sdQOfzr3qGZLiCOaFt0cih0bHUEZBoAfRRRQAUUUUAFFFFABRRRQAUUUUAFFFFABRRRQAUUUUAFFFFAHm3wy/5Hv4jf8AYaT/ANFCvSa82+GX/I9/Eb/sNJ/6KFek0AFFFFABRRRQAUUUUAFebf8AN03/AHJn/t7XpNeOeK7vxFaftHxv4P0201G/PhMCSO8uDEgi+1tkggddwX8zQB7HRXm39t/F/wD6FHw//wCDNv8ACj+2/i//ANCj4f8A/Bm3+FAHpNFebf238X/+hR8P/wDgzb/Cj+2/i/8A9Cj4f/8ABm3+FAHpNFebf238X/8AoUfD/wD4M2/wo/tv4v8A/Qo+H/8AwZt/hQB6TRXm39t/F/8A6FHw/wD+DNv8KP7b+L//AEKPh/8A8Gbf4UAek0V5t/bfxf8A+hR8P/8Agzb/AAo/tv4v/wDQo+H/APwZt/hQB6TRXm39t/F//oUfD/8A4M2/wo/tv4v/APQo+H//AAZt/hQB6TRXm39t/F//AKFHw/8A+DNv8KP7b+L/AP0KPh//AMGbf4UAek0V5t/bfxf/AOhR8P8A/gzb/Cj+2/i//wBCj4f/APBm3+FAHpNFebf238X/APoUfD//AIM2/wAKP7b+L/8A0KPh/wD8Gbf4UAek0V5t/bfxf/6FHw//AODNv8KP7b+L/wD0KPh//wAGbf4UAdtd+GdB1CczX+iaddSk5Mk1pG7H8SKu2tpbWNuILK3it4V6RwoEUfgK88/tv4v/APQo+H//AAZt/hR/bfxf/wChR8P/APgzb/CgD0mmuiSxskiq6MMMrDIIrzj+2/i//wBCj4f/APBm3+FH9t/F/wD6FHw//wCDNv8ACgDs4/Cnh2K4FxFoOmJMDkSLZxhgfXOM1rV5t/bfxf8A+hR8P/8Agzb/AAo/tv4v/wDQo+H/APwZt/hQB6TRXm39t/F//oUfD/8A4M2/wo/tv4v/APQo+H//AAZt/hQB6P5Ufm+bsXzNu3fjnHpn0rI1Dwd4Z1a5Nxqvh3Sb2YnJlubGKRj+LKTXH/238X/+hR8P/wDgzb/Cj+2/i/8A9Cj4f/8ABm3+FAHfafpWnaRB5GlWFrYxf887aFY1/JQKt15t/bfxf/6FHw//AODNv8KP7b+L/wD0KPh//wAGbf4UAek0V5t/bfxf/wChR8P/APgzb/Cj+2/i/wD9Cj4f/wDBm3+FAHpNZl74a0LUZzNqGi6ddynrJPaI7H8SK4n+2/i//wBCj4f/APBm3+FH9t/F/wD6FHw//wCDNv8ACgD0KzsbTT4fJsLWG1i/uQRhF/IVPXm39t/F/wD6FHw//wCDNv8ACj+2/i//ANCj4f8A/Bm3+FAHpNFebf238X/+hR8P/wDgzb/Cj+2/i/8A9Cj4f/8ABm3+FAHpNFebf238X/8AoUfD/wD4M2/wo/tv4v8A/Qo+H/8AwZt/hQB6TRXm39t/F/8A6FHw/wD+DNv8KP7b+L//AEKPh/8A8Gbf4UAek0V5t/bfxf8A+hR8P/8Agzb/AAo/tv4v/wDQo+H/APwZt/hQB6TRXm39t/F//oUfD/8A4M2/wo/tv4v/APQo+H//AAZt/hQB6TRXm39t/F//AKFHw/8A+DNv8KP7b+L/AP0KPh//AMGbf4UAek0V5t/bfxf/AOhR8P8A/gzb/Cj+2/i//wBCj4f/APBm3+FAHpNZl34Z0HUJzNf6Jp11KTkyTWkbsfxIrif7b+L/AP0KPh//AMGbf4Uf238X/wDoUfD/AP4M2/woA9DtbS2sbcQWVvFbwr0jhQIo/AVNXm39t/F//oUfD/8A4M2/wo/tv4v/APQo+H//AAZt/hQB6NNBFcwtFcRJLGwwyOoYH6g1mQ+FPD1tcCe30HTIpgciSOzjVgfqBmuM/tv4v/8AQo+H/wDwZt/hR/bfxf8A+hR8P/8Agzb/AAoA9Jorzb+2/i//ANCj4f8A/Bm3+FH9t/F//oUfD/8A4M2/woA9Jorzb+2/i/8A9Cj4f/8ABm3+FH9t/F//AKFHw/8A+DNv8KAO71LQ9J1lAmsaZZ36r0W6t0lA/wC+gapWPgrwtpk4m03w1o9pKpyJLewijYfiFrkf7b+L/wD0KPh//wAGbf4Uf238X/8AoUfD/wD4M2/woA9Jorzb+2/i/wD9Cj4f/wDBm3+FH9t/F/8A6FHw/wD+DNv8KAPSaK82/tv4v/8AQo+H/wDwZt/hR/bfxf8A+hR8P/8Agzb/AAoA7i88O6JqF19p1DR7C6uP+es9qjv+ZGavpGkUapEqoijCqowAPTFecf238X/+hR8P/wDgzb/Cj+2/i/8A9Cj4f/8ABm3+FAHayeGNBmvDdzaJpslyTuMzWkZcn13YzWi0MbqoeNGCEFQVB2kdCK85/tv4v/8AQo+H/wDwZt/hR/bfxf8A+hR8P/8Agzb/AAoA7nVNA0bXFVda0mx1ELwou7ZJcf8AfQNR6Z4Z0HRHL6Nomnaex4LWlpHEf/HQK4r+2/i//wBCj4f/APBm3+FH9t/F/wD6FHw//wCDNv8ACgD0moXs7WS0a1ktoXt2GGhaMFCPp0rzz+2/i/8A9Cj4f/8ABm3+FH9t/F//AKFHw/8A+DNv8KAOqj8B+EIbjz4fCuiRzZz5i6dCGz9dua3lVUQKihVUYAAwAK83/tv4v/8AQo+H/wDwZt/hR/bfxf8A+hR8P/8Agzb/AAoA9Jorzb+2/i//ANCj4f8A/Bm3+FH9t/F//oUfD/8A4M2/woA9Jorzb+2/i/8A9Cj4f/8ABm3+FH9t/F//AKFHw/8A+DNv8KAPSaK82/tv4v8A/Qo+H/8AwZt/hR/bfxf/AOhR8P8A/gzb/CgD0mivNv7b+L//AEKPh/8A8Gbf4Uf238X/APoUfD//AIM2/wAKAPQ7qztr6Aw3ttDcxHrHNGHU/gapWfhrQtOuBPp+i6dazDpJBaIjD8QK4n+2/i//ANCj4f8A/Bm3+FH9t/F//oUfD/8A4M2/woA9Jorzb+2/i/8A9Cj4f/8ABm3+FH9t/F//AKFHw/8A+DNv8KAPSaK82/tv4v8A/Qo+H/8AwZt/hR/bfxf/AOhR8P8A/gzb/CgD0mivNv7b+L//AEKPh/8A8Gbf4Uf238X/APoUfD//AIM2/wAKAPSaK82/tv4v/wDQo+H/APwZt/hR/bfxf/6FHw//AODNv8KAPSaK82/tv4v/APQo+H//AAZt/hR/bfxf/wChR8P/APgzb/CgD0mivNv7b+L/AP0KPh//AMGbf4Uf238X/wDoUfD/AP4M2/woA9Jorzb+2/i//wBCj4f/APBm3+FH9t/F/wD6FHw//wCDNv8ACgD0mivNv7b+L/8A0KPh/wD8Gbf4Uf238X/+hR8P/wDgzb/CgD0mivNv7b+L/wD0KPh//wAGbf4Uf238X/8AoUfD/wD4M2/woAPhN/yHviD/ANjNP/6Ctek14D8P9V+IsOr+MDofhzSbmSTW5WvhPfFBFPtXcqccqOOa7X+2/i//ANCj4f8A/Bm3+FAHpNFebf238X/+hR8P/wDgzb/Cj+2/i/8A9Cj4f/8ABm3+FAHpNFebf238X/8AoUfD/wD4M2/wo/tv4v8A/Qo+H/8AwZt/hQB6TRXm39t/F/8A6FHw/wD+DNv8KP7b+L//AEKPh/8A8Gbf4UAek0V5t/bfxf8A+hR8P/8Agzb/AAo/tv4v/wDQo+H/APwZt/hQB6TRXm39t/F//oUfD/8A4M2/wo/tv4v/APQo+H//AAZt/hQB6TRXm39t/F//AKFHw/8A+DNv8KP7b+L/AP0KPh//AMGbf4UAek0V5t/bfxf/AOhR8P8A/gzb/Cj+2/i//wBCj4f/APBm3+FAHoF9p1lqcHk6lZ293FnPl3ESyL+RFM0/R9M0lWXStOtLJW+8LaBYwfrtArgv7b+L/wD0KPh//wAGbf4Uf238X/8AoUfD/wD4M2/woA9Jryj4o+L59ee4+G/gdPt2u6inkX0qg+Vp9u332kboCVOMe/rgG9/bfxf/AOhR8P8A/gzb/CoYtQ+K0NxNcQ+CfDUc1wQZpEvyGkIGBuOMnA4Ge1AHc+FvD9t4U8KaboVkS0NjAsQcjBcjqx9ycn8avzWFpcXUVzPawSzwgiOV4wWTPXBPI6V57/bfxf8A+hR8P/8Agzb/AAo/tv4v/wDQo+H/APwZt/hQB6TRXm39t/F//oUfD/8A4M2/wo/tv4v/APQo+H//AAZt/hQB6TWff6Bo+qyCTVNJsb1wMBri2SQj8WBrhv7b+L//AEKPh/8A8Gbf4Uf238X/APoUfD//AIM2/wAKAPQrOxtNPtxBYWsNrCOkcMYRR+AqevNv7b+L/wD0KPh//wAGbf4Uf238X/8AoUfD/wD4M2/woA9JrNvPDeh6hc/aL/RtPup/+es9qjt+ZGa4j+2/i/8A9Cj4f/8ABm3+FH9t/F//AKFHw/8A+DNv8KAPR4oo4IlihjWONBhURcBR6AU6vNv7b+L/AP0KPh//AMGbf4Uf238X/wDoUfD/AP4M2/woA9JIBBBGQeorKXwt4fS6+1JoWmrcZz5os4w+fXOM1xf9t/F//oUfD/8A4M2/wo/tv4v/APQo+H//AAZt/hQB6TRXm39t/F//AKFHw/8A+DNv8KP7b+L/AP0KPh//AMGbf4UAdzf6Bo+qyCTVNJsb1wMBri2SQj8WBqzZ2Npp9uILC1htYR0jhjCKPwFee/238X/+hR8P/wDgzb/Cj+2/i/8A9Cj4f/8ABm3+FAHpNNlijnheKeNZI3BVkdchgexB615x/bfxf/6FHw//AODNv8KP7b+L/wD0KPh//wAGbf4UAeiW9tBZwLBaQRwRLnbHEgVRnnoKlrzb+2/i/wD9Cj4f/wDBm3+FH9t/F/8A6FHw/wD+DNv8KAPSaK82/tv4v/8AQo+H/wDwZt/hR/bfxf8A+hR8P/8Agzb/AAoA9Jorzb+2/i//ANCj4f8A/Bm3+FH9t/F//oUfD/8A4M2/woA9Jorzb+2/i/8A9Cj4f/8ABm3+FH9t/F//AKFHw/8A+DNv8KAPSaK82/tv4v8A/Qo+H/8AwZt/hR/bfxf/AOhR8P8A/gzb/CgD0mivNv7b+L//AEKPh/8A8Gbf4Uf238X/APoUfD//AIM2/wAKAPSaK82/tv4v/wDQo+H/APwZt/hR/bfxf/6FHw//AODNv8KAPSaK82/tv4v/APQo+H//AAZt/hR/bfxf/wChR8P/APgzb/CgD0mvNtb/AOTjvC//AGBbv/0IUf238X/+hR8P/wDgzb/CuK1TVfiG3xn0Ka58O6SmtLplwLa2W9YxPHuG5mbHB9v8aAPfqK82/tv4v/8AQo+H/wDwZt/hR/bfxf8A+hR8P/8Agzb/AAoA9Jorzb+2/i//ANCj4f8A/Bm3+FH9t/F//oUfD/8A4M2/woA9Jorzb+2/i/8A9Cj4f/8ABm3+FH9t/F//AKFHw/8A+DNv8KAPSaK82/tv4v8A/Qo+H/8AwZt/hR/bfxf/AOhR8P8A/gzb/CgD0mivNv7b+L//AEKPh/8A8Gbf4Uf238X/APoUfD//AIM2/wAKAPSaK82/tv4v/wDQo+H/APwZt/hR/bfxf/6FHw//AODNv8KAPSaK82/tv4v/APQo+H//AAZt/hR/bfxf/wChR8P/APgzb/CgD0mivNv7b+L/AP0KPh//AMGbf4Uf238X/wDoUfD/AP4M2/woA9Jorzb+2/i//wBCj4f/APBm3+FH9t/F/wD6FHw//wCDNv8ACgD0mq19p1lqcHk6lZ293FnPl3ESyL+RFef/ANt/F/8A6FHw/wD+DNv8KP7b+L//AEKPh/8A8Gbf4UAd7p+j6ZpKsuladaWSt94W0Cxg/XaBVyvNv7b+L/8A0KPh/wD8Gbf4Uf238X/+hR8P/wDgzb/CgCx8SviGdAjHhzwzE+peLtSj2WVnAMmHdx5rnoqjk8+nYZI1fhl4KXwB4CsdDMizXK5lupV6PK3LY9hwo9gK5z+0PisL03n/AAhPhr7UYxEZ/t53lAc7d2M4ySce9Tf238X/APoUfD//AIM2/wAKAPQprC0uLqK5ntYJZ4QRHK8YLJnrgnkdKnrzb+2/i/8A9Cj4f/8ABm3+FH9t/F//AKFHw/8A+DNv8KAPSaK82/tv4v8A/Qo+H/8AwZt/hR/bfxf/AOhR8P8A/gzb/CgD0mivNv7b+L//AEKPh/8A8Gbf4Uf238X/APoUfD//AIM2/wAKAPSaK82/tv4v/wDQo+H/APwZt/hR/bfxf/6FHw//AODNv8KAOuvfBPhXUrhp9R8M6PdzMctJPYROxP1K5rQ0/StP0i38jSrC2sYevl20Kxr+SgCuB/tv4v8A/Qo+H/8AwZt/hR/bfxf/AOhR8P8A/gzb/CgD0moLuxtL+MR31rDcop3BZow4B9cGvPf7b+L/AP0KPh//AMGbf4Uf238X/wDoUfD/AP4M2/woA9J6dKK82/tv4v8A/Qo+H/8AwZt/hR/bfxf/AOhR8P8A/gzb/CgD0morq0t723aC8t4riFvvRyoHU/UHivO/7b+L/wD0KPh//wAGbf4Uf238X/8AoUfD/wD4M2/woA7qw0HR9KkMml6VY2TsMFra2SMn8VAq/Xm39t/F/wD6FHw//wCDNv8ACj+2/i//ANCj4f8A/Bm3+FAHpNFebf238X/+hR8P/wDgzb/Cj+2/i/8A9Cj4f/8ABm3+FAHpNFebf238X/8AoUfD/wD4M2/wo/tv4v8A/Qo+H/8AwZt/hQB6TRXm39t/F/8A6FHw/wD+DNv8KP7b+L//AEKPh/8A8Gbf4UAek0V5t/bfxf8A+hR8P/8Agzb/AAo/tv4v/wDQo+H/APwZt/hQB6TRXm39t/F//oUfD/8A4M2/wo/tv4v/APQo+H//AAZt/hQB6TRXm39t/F//AKFHw/8A+DNv8KP7b+L/AP0KPh//AMGbf4UAek0V5t/bfxf/AOhR8P8A/gzb/Cj+2/i//wBCj4f/APBm3+FAHpNFebf238X/APoUfD//AIM2/wAKP7b+L/8A0KPh/wD8Gbf4UAek0V5t/bfxf/6FHw//AODNv8KP7b+L/wD0KPh//wAGbf4UAek0V5t/bfxf/wChR8P/APgzb/Cj+2/i/wD9Cj4f/wDBm3+FAHpNFebf238X/wDoUfD/AP4M2/wo/tv4v/8AQo+H/wDwZt/hQAfDL/ke/iN/2Gk/9FCvSa8p+DU1/P4j8eSazbxW2oNqqG4hhcuiP5fIVu4r1agAooooAKKKKACiiigArzb/AJum/wC5M/8Ab2vSa82/5um/7kz/ANvaAPSaKKKACiiigAooooAKKKKACiiigAooooAKKKKACiiigAooooAKKKKAOb8beN7DwJpEWparZ6hdQSS+WfsMHmlOCctyMDjrXnv/AA1H4D/59da/8BY//jlezV8O/HW0t7L42+IobSFIYvMifYi4G5oY2Y49ySfxoA+g7T9pbwdfzeTY6Z4guZf7kNkrt+QevW7eYXNrFOqugkQOFcYZcjOCOxrxL9lOCJfhpqk6xqJX1d0Z8clVhiIGfQFm/M17jQAUUUUAFFUL/XtH0pwmqarY2THotxcpGT/30RUlhq+m6qpbS9Qtb1V6m3mWQD/vkmgC3RRRQAUVkz+K/DttMYbnXtLhlBwUkvI1YfgTWhBeW11CsttcQzRt0eNwwP4igCavlH4jftC+Mbfx3qNh4ZuYtMsNOuntlQ20cjTFGKlmLg4yQeBjAx35r6tDq33WB+hryrxn+z74O8W+IptcuZ77Tbi4bfci0kRUlbu2GU4Y9yOD1xmgDf8AhJ46n+IXw/t9ZvbdILxJXt7hYwdjOuPmXPYgg47HIrt6yPC3h/SPC/hy20jw7EkdjbAhdr7izZyzM3ck9a16ACisq58UeH7O4MF3rmmwTA4Mct3GrA/QnNWZNX02G2huJtQtY4LiQRQytOoWRz0VTnBJxwBQBcorjfi3Ls+Efiba+1xYSYwcEcV8dfDe8uG+KfhYPcSlTq9rkFzjHmrQB9714P8AHz4x694J1y08P+FmjtJ5LYXU148SyMAzMqqoYFf4SSSD1HTBr3YOpOAyk+xrifiL8JvDnxJW3k1r7RbXlqpSK7tXCuEznacggrnnpxzgjJoA4v4A/FzWvHs2oaP4mEc95Zwi4jvI4wnmJu2kMowMgkYIAzz6V7ZXFfDr4b+Gvh1aXNv4ed7i6uMG5ubiRXlYDoOAAFGTwB9c12tABRVe91Cz02DztQu4LSLpvnlCL+ZNVrHxFouqTeVpusWF5J/ct7pJD+QNAGjRRRQBx/jz4l6R8PFtX1uy1OeK5DES2duJETbjhiWGCc8fjXE/8NR+A/8An11r/wABY/8A45XsrKHUqwDKRggjgivz68c20Nn8RPEdtaxrFBDqt1HHGgwqKJWAAHoAKAPqkftI+ETZi7Gk+IjbHOJvsC7Dg4Pzb8dalsP2lPh3eTBJry+sgTjfcWbEf+Obqv8A7Poz8CfD4P8A08/+lMteG/tM+E9M8PeOLC+0i2jtV1S3aSaGJQq+YrYLgDpkEZ9wT3NAH1dpGtabr+mx6hol9BfWkn3ZoJAyk9xx0Pt1FXa+Rv2X9cvrP4lTaRFI5sb+0kaaLPyh0wVfHr1H/Aq+uaACio554baFprmVIYkGWeRgqr9SazYPFfh66nEFrr2mTSk4Ecd5GzE/QGgDWooooAKKzLzxNoWnTGHUNa061lHBSe7RGH4E1atdRsb+HzbG8t7mP+/DKrr+YNAFmimh1Y4DKT7GnEhRljgepoAKKZHNFNnypEfacHawODVODXdIudQawttUsprxc7reO4RpBjrlQc0AX6KKq32qWGlxCXU762s4z0e4mWMH8SRQBaoqhYa9o+quU0vVbG9YdVt7lJCP++Sav0AFFNkkSKNpJXVEUZZmOAB9ay4/Fnh2afyItf0t5c48tbyMtn6ZoA1qKrnULMagtgbuD7Y0XnLb+aPMKZxvC5ztzxnpVigAorNvfEeiaZN5Opaxp9pL/cnukjb8iakOt6UumvqLanZixjxvujcJ5S5OBl84HJA/GgC5I4iiaRs7VUscDPSvj3Vv2lvHVz4ikvNKuLay08SZisDbI6lM8B2I3E46kEe2K+w1YOoZSGUjIIPWvHtZ/Zs8C3+vyao1xf2EMshkks4JkWLJOSFypKg+gPHbFAHofgbxMPGPgfStf8j7O19BveLOQjAlWAPcZBx7Vv1U0qxsdM0m1sdJijhsreJY4I4jlVQDAAPf61boAKKzL3xLoWmzGHUda0+0lHVJ7pEYfgTVuy1Cz1GHztPu4LuL+/BKHX8waALFFFHSgAopiTxSOVjlR2XqFYEiqN94h0XTJxBqWr2FpKekdxcpGx/AmgDRopkU0dxCssEiyxuMq6MCGHqCKfQAUUUUAFFFFABRRRQAUUUUAFFFFABRRRQAUUUUAFFFFABRRRQAUUUUAebfCb/kPfEH/sZp/wD0Fa9Jrzb4Tf8AIe+IP/YzT/8AoK16TQAUUUUAFFFFABRRRQAUUUUAFFFFABRRRQAUUV5l8ffGc/g74Yz/ANnymK/1OQWcLqcNGGBLsP8AgIIz2LA0AP1b41aWvihvDfhDSb7xVq8ZIljsNqxRY4O6VuODwTjA6ZzxUEnxth0HWrfTfiF4Z1Hws11/qbmV0uIG+rp9RnAOM84rH/Zh8Mw6Z8N5NcaMfatXuHPmEc+VGSir/wB9Bz+PtXU/G/wzD4m+Emso8Ya4sITfW745RoxuOPqu5fxoA72GaO4hSaCRZYpFDI6NlWUjIII6in14R+y94zn1bwvfeGr+UySaSyyWpY5Pkvn5forD8mA7V7vQAVxvjz4peG/h7HEmszyTX04zBYWq75pB0zjIAGe5Iz2zXUapqEWk6PeajcZMNnA88mP7qKWP6Cvlj4GJL8RPjrfeJfEh+0z2sL3yh+VWQsqIAPRQxx6bRQB6zefGbXNK0/8AtXWvhnr1npKjc9z5iM8a/wB5o8Ar+JFdx4O8b6D470b+0vDl4LiNTtliYbZIW/uuvb+R7E1vSRpNE0cqK6OCrKwyGB6givkfRbt/hF+05caVZu0elz3y2ssOfl8ifa0ef9zepz/sn1NAH11RRXJ/EXx7ZfD/AMMtqFwn2m9nbybCyT79zMegAHOB3P8AUgEAzPiR8YNA+GstpbanHPe3tyC4tbXbuRP77ZIwCeB68+ldvp14mo6Xa3sasiXMKTKrdQGUEA/nXxX8XvC+t6Lc6VrHi+7afX9eSW7vIz923wVCRj/dHHoOg6ZP2R4X/wCRQ0f/AK8YP/Ra0AM8T+KtG8HaLJqviK+SztUOAW5Z27Kqjlj7CvPrP40avrdm2o+GPhvrupaVzsumdIjIB3ROd34E15B8T9Wn+I/7RVn4ZuJnGl2moRackQbAUbgJm/3id3Poq19Z21tDZ2sVtaxJDBCgjjjQYVFAwAB2AFAHEeA/i94b8e3UlhZmfT9Whz5mnXyBJePvbecNjuOo7gV3dfLH7R2lyeDvibovi7QG+x3V6plLx8fv4SuW/FWQEd8HPU19JeFtcj8TeEtL1qJQi39rHOUH8BZQSv4HI/CgDVrhvGHxh8H+C7o2WoX7XmpA7fsFgnnTZ9DyAp9iQa4j45/FTUdLv7fwN4JZzruoFEnmhPzwh+EjT0ds5z2BGOTkdX8L/hBo/gDTYrq5ijv/ABBKu65v5BuKMeqx5+6Pfqep9AAb/gnxdd+L7G5urvw3qegpHIFhTUY9jzKRncBjj9a6YkKpLHAHJJ7UV41+0v4vuvDvw+g0vTpWhn1qZoZHU4PkqMuB9SVH0JoA1b/45aXP4gk0TwRouoeLb+HPmmwAWFMcH94e2e+NvvUKfHey0nXIdK8feHNU8KzT/wCqmuQJYWHTO9e3uAQO+KT9nLw7baN8I7PUI41F3q0j3E8mOSA7Ii59Aq5x6sa0/jp4Xt/E3wl1ZpIla50yJr63kxyhjG5sfVAwx9PSgD0GKWO4hSaCRZYpFDI6NlWB5BBHUVm+I/E2j+EtFk1XxDfR2VpHxvfks3ZVA5Yn0FeOfsueMLjVvC+o+HL6VpG0l0ktSxyRC+fk+isp/wC+sdq4b9oPWH1b43afoerTNFo9j9nQruwoEhDSSfXBxn/ZoA9cs/jLquvW5vfCXw71zVNNydl3I6QCUDqVBzuH0q54R+N3h7xLr58P6ja3nh/XA/liy1JNm9/7ob+97EAntmvRbaCG1tYre1jSKCJAkccYwqKBgADsAK+av2rtNtrPVvDWs2oEN/Os0UkicMwjKFDkdwXPPuPSgD6ZorG8Hahc6t4F0LUb/wD4+rvTreebIx87Rqzfqa2aACiiigAooooAKKKKACiiigAooooAKKKKACvNtb/5OO8L/wDYFu//AEIV6TXm2t/8nHeF/wDsC3f/AKEKAPSaKKKACiiigAooooAKKKKACiiigAooooAKKKKACiiigAooooAK811b41aWvihvDfhDSb7xVq8ZIljsNqxRY4O6VuODwTjA6ZzxTPj74zn8HfDGf+z5TFf6nILOF1OGjDAl2H/AQRnsWBrD/Zh8Mw6Z8N5NcaMfatXuHPmEc+VGSir/AN9Bz+PtQBsSfG2HQdat9N+IXhnUfCzXX+puZXS4gb6un1GcA4zzivToZo7iFJoJFlikUMjo2VZSMggjqK4L43+GYfE3wk1lHjDXFhCb63fHKNGNxx9V3L+NcR+y94zn1bwvfeGr+UySaSyyWpY5Pkvn5forD8mA7UAe70UVV1TUItJ0e81G4yYbOB55Mf3UUsf0FAHL+PPil4b+HscSazPJNfTjMFharvmkHTOMgAZ7kjPbNczefGbXNK0/+1da+GevWekqNz3PmIzxr/eaPAK/iRXk3wMSX4ifHW+8S+JD9pntYXvlD8qshZUQAeihjj02ivq+SNJomjlRXRwVZWGQwPUEUAYPg7xvoPjvRv7S8OXguI1O2WJhtkhb+669v5HsTXQV8i6Ldv8ACL9py40qzdo9LnvltZYc/L5E+1o8/wC5vU5/2T6mvrqgArj/AIifErRPhto8N5rPmTzXD7ILSDHmSY+8eSMADqfcDvWt4u8V6Z4K8M3Wt61L5dvbrwo+9K5+6ijuxP8AieAa+UPizpPiHVPDll8QPGLvBe61d+VZad/DaWgQsg57nr+p5OAAfWXhTxFB4t8K2Gu2cMkEF9F5iRy43KMkc447VyHjb43+FvAXiNtF1uDUnuliWUm2gVlw3TkuOePSrvwW/wCSMeGv+vT/ANmauP8AEPwqg8d/tAXd/wCJLK5bQrTTISpAaOO5lyRs3jGQBkkA56etAD/+Go/Af/PrrX/gLH/8co/4aj8B/wDPrrX/AICx/wDxyutj+C3w7jXC+FLEj/a3N/M1gePPBHwy8D+CtQ1678J6axt48QxFT+9lPCJ17nGfQZPagDa8BfGLw58RdYuNN0C31FJre3Nw73MCom3cFxkMect09jVzx58UvDfw9jiTWZ5Jr6cZgsLVd80g6ZxkADPckZ7Zrlfgv4Vi+HfwpuvEGqwCO+v4G1K7ULtMcSqWSP2wuTjsWI7V5V8DEl+Inx1vvEviQ/aZ7WF75Q/KrIWVEAHooY49NooA9ZvPjNrmlaf/AGrrXwz16z0lRue58xGeNf7zR4BX8SK7jwd430Hx3o39peHLwXEanbLEw2yQt/dde38j2JrekjSaJo5UV0cFWVhkMD1BFfI+i3b/AAi/acuNKs3aPS575bWWHPy+RPtaPP8Aub1Of9k+poA+uq848S/GrRNH8Rf8I7oVje+Jdc3FWtNNQMI2HUM/QEd8A45zipvjf4uufBvwsv73TpDFfXTLZ28qnBjZ85Ye4UMR74rhf2VvD1vD4T1TxHIga9u7s2yyHkrEiq2AfdmOfXaKAOiu/jm3hy8t4/H3gvWPDtvcttjuyVuI8+5XH5DJ9q9Q03UrLWNNg1DS7mO6tLhA8U0TblcexrI8d+F7fxj4H1TRLqNXNxA3kkj/AFcoGUYfRsfyrwP9lfxfcx6vqXhG6lZraSE3lqrH/VupAdR9QQf+An1oA+lby+tNPhE1/dQ2sRbaHnkCKT6ZPfiuH8ZfGjwZ4O0+WR9Wt9SvQp8qysZVld27BiMhB7n8AeldXr/hvR/FOnrY+IdPhv7VZBKsUwJAcAgH8ifzr5z/AGkfA/hrwnoOhzeHNHttOknuZElaEEFwFBAPNAH0J4M8SDxh4N03X1tTaC+i8wQF95TkjGcDPT0rcrivg4Avwc8Mgf8APip/U12tABRRRQAUUUUAFFFFABRRRQAUUUUAFFFFABRRRQAUUUUAFFFFAHm3wy/5Hv4jf9hpP/RQr0mvNvhl/wAj38Rv+w0n/ooV6TQAUUUUAFFFFABRRRQAV5t/zdN/3Jn/ALe16TXm3/N03/cmf+3tAHpNFFFABRRRQAUUUUAFFFFABRRRQAUUUUAFFFFABRRRQAUUUUAFFFFABXxF8f8A/kuniH/et/8A0njr7dr4i+P/APyXTxD/AL1v/wCk8dAHuH7Kn/JLNS/7DUv/AKIgr22vEv2VP+SWal/2Gpf/AERBXttABXzp8f8A40ajpOrSeEPCV01pLEg+33sRxIGYZEaH+HAIJI5yccYOfb9Z8YaRoXiDR9Ev5X+36zIyWsUabs7RklvQc9a+G/iJJNL8TvE7XOfN/ta6DZ7YlYYoA9p/Z8+FmjeKNDvPFfi+0GqPNctDbRXJLLhQN0hH8RJOOem0+tYXx78BW3w38R6Vr/gszaVBe71KW0rL5EyYOUOcgMD0zxtP0r2f9ncKPgdou3qXuC3189/6Yrlv2rgv/Cv9GJ++NUAH08p8/wBKALnwC+L9343hm8P+JZFk1izi82K5wAbmIEA7h03KSOnUHPYmvKPjx8Udb1zxrqXhyyvJrTRtNma2MELFfPdeHZ8feG7IA6YA71j/ALPbTL8cdCEGcMLgSY6FfIk6/jj9K7f49fBjUYNc1Dxl4f8ALnsLpvPvYGkCPBJ/EwyfmUnnA5yTxigDrfhD8HPCGrfCKxvNe0mO9vdWjeWS4cnfGpYhQhB+XAAPHfNfMOs6d/YniS/02X96LG7kt25xv2OVP0zivo74SfGK10D4W2ul6zo2sS3Wnq62ptbJ5FukLFlww4BGcc8cA15loHwf8b/EbxVcahe6VPo9pe3T3Fxd3sRjC72LHYrYZzycYGPUigD2/wAF/BLwPceE11HS31ZbfX9OiZg92AyIxSUAFVGCCoHp1r5v+KfhFfA/xDv9ChvJryCEI8Msx+fa6hgG7ZGcZHXGeOlfc+j6XbaHodjpViCLaxt0t4gxydqKFGffAr48/aP/AOS16j/172//AKLFAHt/7Mf/ACR8f9hCb+S1w37S3xI1i11+Pwfo91LZWiW6y3jQsVadnzhCRztAxx3J56Cu5/Zj/wCSPj/sITfyWsf4/wDwe1PxfeQ+JvCsYub+GEQ3VmGAaVVJKsmerDJBHcYxzwQDK+Avw7+HninwELrVbS31XWmkkF3DNM263UMQgCAjAK4O7HUkZ4wM34k/B1fAXiLRNd8JNctob6pAZ7FnZ/s0gcbWHcqRkZPIPc548JnttV8PapsuYbzS76E52urQyofxwRXp3gH9oXxV4Yv4IPEF3LrmklgsqXJ3Txr3ZJDySPRiQfbrQB6x8b/hL4dvNF8SeOZXvv7WW3WUKsw8rKKsY+Xbnoo718x+EdLt9c8b6HpN6XFtf6jb20pjOG2PIqnB7HBNfZ/xbuob34HeILq1kEkE+n+ZG46MrbSD+Rr48+HH/JU/Cn/Yas//AEelAH1n4U+AvhDwd4kt9b0mTUmu7dZFQTXCsuHRkOQFB6Me9eGfH74YWHgGfTL3Rb68ltNRaRGt7qXzDEybTlW6kEN0PIx154+v6+ef2tP+QL4a/wCvif8A9BSgDnf2T/8AkdNc/wCwev8A6MFew/Gb4or8NvDEZslSbWNQLJZxvyqAfekYdwMjjuSO2a8e/ZP/AOR01z/sHr/6MFUP2qJZm+KFhFIT5SaTGYx25llyf0/SgDP+E/h27+MnxOmuvG17c6la2cRubrzZD+8JICxjH3VJJOBjhSBim/tDaPo3hj4jWVh4Z0uLSo4rCOVjbgpvcu+G/AAc12X7JDRC88VKxHmmO1KjvtBlz+pWvePE3gbwz4xEX/CS6Nbag0IxHJICHQegZSDj2zigDg/2dPF+r+K/h5ONenku5tOuzbR3Upy0ibFYBj3Iz164xXrdZ+iaDpfhvS49N0KxhsbOMkrFCuBk9SfU+55rQoAK/P74hf8AJTvFH/YYu/8A0c9foDX5/fEL/kp3ij/sMXf/AKOegD6J+D3xV8FeFfgzo9hruvQW15bCcy2+x3dd08jDhVPUEH8a8l+JHibUvjb8SY08JaVd3MFtB5NpAqZcoGy0r9lBLDqcABc12uj/AAjtfHv7NWh6hpFtFF4itRdSRSKoU3YFxIPLc9zgDaT0IA4BNeG6FreqeEPEtvqmmSPaahYy5AYEYI4ZGHoeQR9aAPq74GfBuf4fR3Gs+IXjfWryLyhDE25baPIJXd0LEgZI4GOCa9F8Z+K7LwT4Rv8AX9Sy0VpHlY1ODK5OFQfUkD269qpfDzx3p3xC8JQaxpxEcv8Aq7q2Jy1vKByp9u4PcEfSvOv2qpJk+GOnLGSIn1aMSY7/ALqUgH/PagDxXT9Z1343/FrStO8S38ptbu6J+yxMVjgiUF2CL0B2qRuOT65r1D4+/Cfwxofw4XW/DWlQ6bPp00aSeTnEsTnZ82TyQxXnr1rxj4Q6fPqvxV0extNXuNGmnMqpe22PMjPkucDPHONv419Lax8FNU8QaZLp2tfEfXr2zm2+ZBKiFWwQwyPYgH8KAPJv2fPipqum+LbPwprF5JdaTqDeTbiZixtpcfLtJ52k/Lt6ZIIxznV/aO+KOtW/ih/B2iXcthaW8KNePAxV53ddwXcOQoUjgdSTnPFdd4f/AGZNI8P+JdM1mDxDfSyafdxXSxtCgDlHDYPscYrP+P8A8Gr/AMSag3i7w15clysAS+tZHCFwg4kVjxkLwQSOAMc0AUP2evhf4Z8Q+BLvXPEulw6ncXV08MYnyRHGoHQf3iSeevAxXiXxJ8NweEPiRrWh2W77Na3H7kMckRsodQT3wGAz7V6/8BPidb+EPCV7ouv6ZqbwpcvNbXFpZvMrEgBozt6EFcg9OTnGK47VPA/jb4u/EjUtasPDt5p9rf3G5Z9QjMMcUYAVckj5iFUZC55oA9V+Dfwp8Gat4R03xbZjUo7q8s57a4ia6G1SyvDLjCgj+Ig5yMivHvjl4DtfAHjaCy028ubmzvLUXMa3T73iO5lK57j5cg9efbJ+uvA/hS38EeC9O8P2khmSzjIaUjBkdiWdsdssTx2GBXzj+1d/yP8Ao3/YMH/o16AKfwL8M+IfGHh7XdH03WW0XRnmja/ntxm4nO1gsScjapGST9ByM147bzXWn6lHNaPNbXcEoaNkJV43B4x3BBr6X/ZL/wCQB4k/6+of/QWr2Jvh/wCEn8QjXG8O6cdTD+b9p+zru39d/puzznrmgDifir8Vrz4ffD3TCsaf8JLqluoRHXIgYIPMkK+xOAPU+gIryD4GeFk+KnjzVNZ8cyzazHp8SMyXMhYSSSE7d3P3QFb5enTtxR+1RJM3xSsI5CfKXSYzGO3MsuT+n6U39nfw3qHiR/EEWl+K9R8PvCLdnWyCnzwfM5Of7uP/AB6gCH9oXwPp3gPxlpd/4Xh/s631CFnEUDFRFLGRkp/d4ZeB3zXqf7OvxP1Hxjpd5oXiG4a61HTUWSK5c5eaEnHzHuynAz3DDPIJMviD9nuTxW0B8R+PNa1I227yftEaN5e7G7H12j8q2Php8EdO+GniO41ex1i6vXntGtTHNGqqAXRt3Hf5P1oA+bfi78SNY8b+ML+Ga6lj0i0uHitLJWIQKrEB2HdjjOT0zgcV9EaB8GPhXrng21OmafDqEE0IxqEdy5lZscsSG4bPVcYHTHavH/jD8D9e0jxJf654ZsZdT0e8la4K2q75LZmOWUoOSuScEZ4647+S6ZrOseHb4zaRqF5plypwzW8rRNkdjgj8jQB9E+APAGofDj9o2HTpZ5r3TZ9Mm+w3UmT+6znYewIIPA4Oc4GcVq/tKfEXVvC9hp/h/QLmSzm1FHlubmI7XEYIAVT1GTnJHPHuaxvgr8fNW1jxFa+F/GbpdNdny7TUAgRxJjhHA4IOMAgZzjOc5HafHj4VXXxD0e0vdBMZ1jTQwSF2Ci4jbBK5PAYEZGeOTQB5j+zx4M8D+L7TVJfFMcOo60txiO0uJiMRbQfMCgjcSxYE84wOmedH40/Aqz0Hw/c+IfAaz29vHt+36YsjOrJuGHXJJ4OCVOR3GMc+Caroms+GtR+z6xYXemXSHKrPG0bcdwT1+ort/Bnx28a+EbqJZdSk1jT1ID2l+5kyvorn5lPpzj2NAH1Rq/gzTfiF8P8ASrHWZbyBPIinSS1m8t1fy8e4P3jwQa+KPF+iv4c8Zatoslwbk2F1JAJiMFwrEA47ZHavvfw3r9n4p8M2Gt6aW+zX0KyoG6rnqp9wcg+4r4e+LP8AyV7xR/2Epf8A0KgD65+Cf/JFvDX/AF6n/wBDavDPjj8bNV1LxBeeGfC17JZaXZuYLie3bbJdSA4YbhyEByMDryTkEAe4fBkuvwP8PGIZcWbFR6ne2K+HJHeSVnlJZ2JLFupPegD6m+B/wc8NXfw+tte8UaXFqd9qm6VBc5ZYYskKAOmTjdnryK8v+Lnhu4+EHxPjn8F3l1pttdwi5tTDKwMXzENHn+IAjODnhgDmvqL4YhR8J/Cuzp/ZNsfx8pc/rXh37WwX+1PC5H3zDcg/TdHj+tAHpvwS+KTfEfw1MmphE1rTiqXQQYWZTnbIB2zggjsR2BArw/8AaB+Gmn+A7rS7zRby8kttSMqvb3Uxk8tk2nKsecEN0OcY688Wf2VWmHxO1JUz5J0mQyDtkSxY/Hk/rXV/ta/8gvwx/wBdrj/0GOgDzX4GWXivVfEWp6V4NvYtMe8tAl5qTjLWsIcZKDPLk4A/HkdRr/F34FS+A/Di+I7bXJtWQziO7+0RbXDPnD5yc5PBzzyOtan7J/8AyOmuf9g9f/Rgr1b9o3/kiWqf9d7f/wBGrQB4t+zX4z1HS/iJB4ba4d9M1VJB5DNlY5VQuHUdiQpBx1yM9BX13Xw98CP+S3+HP+usv/omSvuGgAooooAKKKKACiiigAooooAKKKKACiiigAooooAKKKKACiiigAooooA82+E3/Ie+IP8A2M0//oK16TXm3wm/5D3xB/7Gaf8A9BWvSaACiiigAooooAKKKKACiiigAooooAKKKKACvm39re5fd4VtgcJi6kI9T+6A/r+dfSVfOn7Wunu+n+GdRVfkiluIHPuwRl/9AagD1L4LQrB8GPDSKMA2m/8AFmZj/Oup1+Fbnw1qcDjKyWkqEeoKEVyHwNu1vPgp4ckQg7IHiPsUkdf6V1Piq7Ww8G6zeSHC29hPKSfRY2P9KAPln9lu5eH4r3MSn5Z9LlVh9HjI/l+tfXlfJf7K2nvP8SdRvdp8q10xlLejPImB+St+VfWlAGd4h00614Y1TS1YK19ZzW4Y9t6Fc/rXyb+z3r0fg34vTaXr3+htfRPp7CX5fKnDgqrenKlfqRX2HXlfxK+AuhfEDUG1W2uX0fVnAEtxFGHSfHQumRlu2QR75oA9Ur4y+Ml7bav+0NO+kXEdyPtFrD5kLbh5iqikZHcEY+or2HS/gV4gS2Fp4l+J+t3WkoMPZ20rxKyDsWZ2AX2xXlPw68M6f4y/aHMnhyzWDw9pN19qTZkqIoSBEST1Lsqk55OWPrQB9X+IvEOm+FfD93rOtTiCztU3u3dj2VR3YngD1NeY/Dzw9qXj3xQPib42gMakY0DTH5W1h7Skd2PUH/gX93FL48eHPGniHxB4f/4RvRf7b0qxBuJrOV1EDzbuN671Lce/c+pqovjP9oBVCr4E0gADAATp/wCTFAHM/taf8h/w3/16zf8AoS19F+F/+RQ0f/rxg/8ARa18e/GnWPHer6lpT/ETRbXSZ44ZBarbDAkUkbifnfvj0r3T4WeIvine6jpVl4n8NWNl4dFmAt5EvzkCP92f9aevH8P5UAeK+PUn+Hv7SsurXsTmBdVj1RCB/rYncO23/wAfX6ivsWxvrXU9PgvtPnS4tbiMSRSxnKupGQQa5b4h/DPQviRpSW2so8VzBk217BgSQk9Rz1U9wf0PNebaL+z34o0HNppfxQ1Kx00sSYbOKSLOfQCXAPvQBjftZ6hZyL4c0+O4je9haeWSFWBaNGCAEjtkg49cGvU/g0/2P4HeH5bs7Vjs2kYnsu9iD+VfOnxX8Iabb/EjSvBPg8T6hqZ2i8vLmUyTXFzKR99vRVCn0G4+5r6pl0NdI+GsuhaflltdJa0hOOW2xbQfqcUAfJHgHxLqOq/G2bxLFotxr2r3Ek9xaWUbAL5r8KXY8KiKx57bR06j2bXLf9oZrZ9Ss9Q0WDA3/wBm2KRu4HoDKhyf+B159+ypIi/EzU0bh20l9vviaLNfWdAHhfwh+Pdz4l11fC/je3jtdWdilvcohjWVx1jdT91+DjHB6YBxmP8Aar0K5vvB2kazbozxabcuk+B9xZQoDH23Io+rCvKfjlB/wjvx9vLzSB5Uxkt75AnGJdqkn6lhu+pr7Gv7C11TT57HUbeO5tbhDHLDIuVdTwQRQB5Z+zh4ps9a+FdtpKSr9u0d3hmiz82xnLI+PTDY+qmu2+ImoWemfDfX59RuI4IW0+eMNIwAZmjYKo9SSQAK8pvP2ZW07XjqXgXxje6FknYmxmeIHsJFdSR7EfUmsr4neALTwX8Ob3WfGfifUvFesyr9k04X8rCKKR+CyRlm+ZV3HJOOBxnmgDH/AGT0c+NNccZ8tdPUN9TIMfyNd78f/hJ/wl9iPE2kT29vqdhBsnW4kWOO4iBJHztgKwycE4BBwSMCo/2X/CUujeB7zXryMxy6zKvkhhz5MeQrfizP9QAa4zXtbu/jD+0PB4PvbiWPw3YXssZtEcqsogDF2bHUsUIB7A8Y5JAMX4eftE694PtYNK8R251rS4gEicvieJBxhX6OoxwD9M4rpoxZ/tH/ABMhurm+h07QNIXZDpskwF5dDO522A/KDwCQTgAd+a951fwR4Z17RItI1XRLKexhTy4YvKC+Sv8AsEYKf8BIr5b+MPwkm+FV9ZeIfC1/cDTZbgLE5fE1pNgso3DGQQDg9RjB9SAfX0UUcEKQwosccahURRgKBwAKfXG/CbxbceNfhlpWs3+DeOjRXBAwGdGKlse+A3412VABRRRQAUUUUAFFFFABRRRQAUUUUAFFFFABXm2t/wDJx3hf/sC3f/oQr0mvNtb/AOTjvC//AGBbv/0IUAek0UUUAFFFFABRRRQAUUUUAFFFFABRRRQAUUUUAFFFFABRRRQB82/tb3L7vCtsDhMXUhHqf3QH9fzr1n4LQrB8GPDSKMA2m/8AFmZj/OvLf2tdPd9P8M6iq/JFLcQOfdgjL/6A1emfA27W8+CnhyRCDsgeI+xSR1/pQB1+vwrc+GtTgcZWS0lQj1BQivlP9lu5eH4r3MSn5Z9LlVh9HjI/l+tfU3iq7Ww8G6zeSHC29hPKSfRY2P8ASvmH9lbT3n+JOo3u0+Va6YylvRnkTA/JW/KgD60rO8Q6ada8MappasFa+s5rcMe29Cuf1rRooA+PP2e9ej8G/F6bS9e/0Nr6J9PYS/L5U4cFVb05Ur9SK+w68r+JXwF0L4gag2q21y+j6s4AluIow6T46F0yMt2yCPfNY+l/ArxAlsLTxL8T9butJQYeztpXiVkHYszsAvtigDx74yXttq/7Q076RcR3I+0WsPmQtuHmKqKRkdwRj6ivsa+vrbTLCe+1CdLe1t4zJLLIcKigZJJr5E+HXhnT/GX7Q5k8OWaweHtJuvtSbMlRFCQIiSepdlUnPJyx9a9p/aA0HxZ4l8L6bpvhKylv4WuvMvrdJFRZEUAqGJZSRnsD6HsKAMvw9Y3Xxt8aJ4s1yB4vBukyldHsJRgXkgODM47jI6dP4ezZo/tYf8iXoX/YQb/0WajsvFHx506xgsrD4faNb21vGI4oo48KigYAA+0V578Z9e+Jer6Dp0fxD8O2Wk2iXJa3ktxgvJtPB/eP2z2FAH0R8Fv+SMeGv+vT/wBmau5r55+DviL4prpXhnTofDVi3hTKob8r+88ncct/revX+H8K+hqACvEPFZ/4Wv8AHCx8IxfvfD3hc/bNVI5SaftGfX+7+MnpXoPxP8bReAfAN9rLFTdbfJs42/jnbO3juByx9lNZPwU8FS+EfAiXGqBm1rWH+3ahJJ9/c3KoT6gHn/aZqAOz8Q6YdZ8L6ppSMEN7Zy2wJ6DehX+tfJv7PevR+Dfi9Npevf6G19E+nsJfl8qcOCqt6cqV+pFfYdeV/Er4C6F8QNQbVba5fR9WcAS3EUYdJ8dC6ZGW7ZBHvmgD1SvjL4yXttq/7Q076RcR3I+0WsPmQtuHmKqKRkdwRj6ivYdL+BXiBLYWniX4n63daSgw9nbSvErIOxZnYBfbFeU/Drwzp/jL9ocyeHLNYPD2k3X2pNmSoihIERJPUuyqTnk5Y+tAHt37RmhXOufB+6ezRpH024jvWRRklFDKx/BXLfQGuT/ZW8U2cvhnUvDEsqpfW9ybuJCcGSJlUHHrtZef94V7+6LJGySKHRgQysMgj0NeG+I/2ZrGfX/7X8E6/ceHZd/mCFYy6xMf+ebKysg9ufbA4oA9svb2206xmvL+4jtraBC8s0rBVRR1JJ6V8gfs9fv/AI8Qy2/MXlXTnH90qcfqRXpviP4Zr4W8G6h4h+JPjPVfFaadAZLaxupXW2abpGGUsxbLFR1HuCKxf2VPCUqzat4tuYysRT7Dakj7/IaQj6YQZ92HagD6Tr59/az/AORb8O/9fcv/AKAK+gq+ff2s/wDkW/Dv/X3L/wCgCgD074Pf8kd8M/8AXin9a7SuL+D3/JHfDP8A14p/Wu0oAKKKKACiiigAooooAKKKKACiiigAooooAKKKKACiiigAooooA82+GX/I9/Eb/sNJ/wCihXpNebfDL/ke/iN/2Gk/9FCvSaACiiigAooooAKKKKACvNv+bpv+5M/9va9Jrzb/AJum/wC5M/8Ab2gD0miiigAooooAKKKKACiiigAooooAKKKKACiiigAooooAKKKKACiiigDN1vxFo/huzW71/U7XToHbYslzKEDNjOBnqcA8CviL4v6/p/ij4sa3q+jTefZTyRrFLtI37IkQkA84ypxX3Bq2haTr1ukGuaXZalDG29I7y3SZVbGMgMCAcE81lf8ACuPBH/Qm+H//AAVwf/E0AeF/s4fEjwz4Y8J6loniLVYdNne/N1E0+Qjq0aKfmxgEFO/rXr2ofGn4eadavPJ4osptoJCWxMrt7AKDWt/wrjwR/wBCb4f/APBXB/8AE0f8K48Ef9Cb4f8A/BXB/wDE0AfOHg7xlc/Ev9qbSNYuEaK3V5VtIGOfJhSGQqPqTyfdjVv9on4VahZeIrnxlols9xpt5h75YlybaUDBcj+62M57HOcZFfR2neC/C+j3yXuk+G9IsbqMEJPa2EUci5GDhlUEZBIraIyMHkUAeAfsy+OtKHg6fwxqN9Ba3tpcvLbpNIE82J8E7c9SG3ZHoRXL/tO+N9P17VdK8O6LdR3gsC8108DB1EjYCpkdwAc/7wHXNe7ap8JPAWs3LXF/4W08yscs0KGHcfU7CMmrWhfDbwb4auFuNE8OWFtcIcpP5W+Rfo7ZI/A0AeUfs5/Cm+8PGXxb4jtmtru5h8qytZVw8cZwWkYdicAAdcZ9a5H9qaDxAPGVjNdee2gm2UWmM+UsuTvB7b+h9cY9K+qZpPKheQKz7FLbV6nA6Cvhvxd8YPGPjW7uIr7V5bPT7hiosbc+XEiE/dOOW+rZoA6nQv2mvF2iaNZ6adM0e5hs4UgjdopFcqoAGdr46DsBW9Z/tZ6skq/2h4Xs5o/4hBcvGf1DV65pnwO+HlrpFrbv4ftb0pEqtcyMxaY45ckHv1449K8j/aH+GHhHwf4Z07V/DdmNOu5rwW7wJKzLKhRmLYYnBBUDjj5ue1AHt3gr4peG/G3hWfXLW7Wwis8C9jvXWM2pPQsxONp7NnB+oIHyj8dNe03xH8W9SvtEu47y08uGNZ4jlHKxgHB7jORn2rvf2W9AfUrzxJPqFnHc6NLbR20sVxGHimk3bgCp4bAB+m4ete//APCuPBH/AEJvh/8A8FcH/wATQB5R+zL4w0KLwSfDdxqUFvq326R47WV9rTKyqQUz97oeBzxWLd/EofDT9pjxQuoq76LqMkC3mxcmI+ShWUDvjccjuCepAr3iy8DeEtNvYrzTvC+i2l1Cd0c8GnxI6H1DBcirMvhjQp7u/uZ9HsZZtSVUvHkt1Y3CqMKHyPmAAHX0oAo3Ung/xr4dM94+k6xpTJu8yVkkRRjrk/dI/AiviS/8OprfxKvtD8CQvfW8t/JFYBCW3Rbztbd/dA53Htya+vLn4EfDW7uTPL4WhVyc4iuJo1/75VwP0rp/Dvg7w74ThaPw5o9pp+8Yd4Yxvcf7TH5j+JoAwfFnha5b4GX3hmxzc3MGjC2iCjmVo4wAB7kr+tfE3h7VDoHirS9WaMudOvYbkx9CfLcNj9K/RGuR1r4U+BvEGoPfat4asprqQ7pJUUxs59W2EZPuaAM7w98bvAvijVrLStI1SWS/vTtjt3tJVIOCSCxXb0B715B+1D4s0LW49C07RtUtb+5tJZ3uFtpRIIshQAxHAOQeOvFfQegeC/DXhcH/AIR/Q7HT3IwZIYQHYehf7x/E1BJ8PPBcsjSS+ENBd3JZmbTISWJ6knbQB8wfs3+LNE8LeN9Q/wCEhv4dPivLLy4pp22x7w6nBboOM8njivVv2hvhvdeNvD9l4g8ORfa7/TkIaGL5muIG+b5cfeKnkAdQxxzgV6P/AMK48Ef9Cb4f/wDBXB/8TXRRxpFGscSKiIAqqowFA6ACgD4R+GHj+5+GnjZNU8h5rZ1Nve23RnjJBOM9GBAIz6Y4zX0td/tKfD6HS/tNrd3t3clcrZpaOsmfQlgF/U/jXa698OfB/ie4a41zw7YXVw33pzFskb6uuCfxNQ6F8MPBXhu8W70bw3Y29yhykzIZHQ+qs5JH4UAZnwtuPGWsW2peIfGhayi1SZZNP0hlGbOIDGScbstxwfTOBuwO+oooAxvEPjDw94UjjfxHrFnp3mAtGs8oDSAddq9TjI6DvXwZ4t1KDWPG2t6nZFjb3uoXFxEWGCUeRmGR24NffOr+GdC19om17RdO1NoQREb20SYoD1xuBxnA6elZ3/CuPBH/AEJvh/8A8FcH/wATQB5r+z38QfDK/DjSPDFzq1va6vbyyxC2nbYZTJMzrsJ4bO8DA5z2rkf2lPheLO5PjjRIMQTuE1OJBwjnhZvo3Q++D3Ne+2vgLwfY3cV1ZeFNEt7iFxJFNFp0KPGwOQwIXIIPcVs3dpbX9nLaX1vFc20ylJYZkDo6nqCp4I9jQB8K/DH4jX/w38VJqNrumsZsR31oDgTR+o9GHUH6joTX1D4hvPCnxz+Ht7onh3W7Wa+khF1BEzbZYJFIwXQ/MBk7ScH73Haur/4Vx4I/6E3w/wD+CuD/AOJq9pXhPw7oN01zoegaXps7p5bS2dnHCzLkHaSoBxkA49hQB8H+Xrvw88aQPc20mn6vpdwsqxzL/EpyP95TjqOCDX1NoP7S/gXUdLjl1me50i82/vbd7d5QG77WQHI+uPpXpeueGND8TW6w+INIs9RRfufaYVcp/uk8j8K5qH4KfDqC4EyeFLIsDnEhd1/75ZiP0oA5LT/iR4i+KXjSxtfh1FPpvhzT7gS6lq11CP8ASAP+WSqcjkfjyCduOef/AGrIPEDafo8tr57aCu8XSxZ2LNkbTJj26Z759a+gbOztdPtI7WwtobW3iG2OGGMIiD0AHAr49+Knxk8Y6n4x1jSbXUp9K020upbRLW2PlllRipLsPmJOORnHtQBF4N/aE8U+C/DNpoVnYaVdWdoCIjPE4cAsWwSrgHkntmuptv2stcRx9s8NafKvcRTvGT+J3V6L8Ovg14Eufh1ol5qOj2+qXd5Zx3M11KzEs8ihiODgAZx+Hrmub+OPwj8EeH/hre67ounLpd/ayRCLypXKzbpFUoVYkdCTxzx6UAeh/Db4waD8RrC5e3DabfWcfmXVpcOPkT++r8BlHc8Y7gZGfn39pPxNo3iTx9p76BqNvqMVrp4ilmtpA6B/Mc4DDg8EdPWk/Zo0m61D4pPOkPmWFvYyreblyjK42hG7HJ5x32n0r6f/AOFceCP+hN8P/wDgrg/+JoA8C/Zl8a+HfDlprlh4g1a10ya5likha6kEaOAGB+Y8Ajjqe9fUCOskavGwdGAKspyCPUGuc/4Vx4I/6E3w/wD+CuD/AOJrokRIo1jjVURQFVVGAAOwFAHjX7RHwyvfGehWut6BA1xqelqyvboMtPCeSF9WU8gd8t3wK+evhb8Qbn4Y+Nf7Re2ee1kQ299a/dYpkHIz0ZSM8+44zmvuyub174eeEfE85n13w9YXc7fenaILIfq64Y/nQBxp/aR+HI083P8AaN2Zdufsv2KTzCfTONmf+BYpfAeu+MvH+qan4j1CFtI8KTWjQadpssYMlwf+exOMjgnpwcgDOMnpNK+EngLRbpbnT/C1gsynKvKhm2n1G8nB967HHGO1AHzN+z78YrDRtMTwh4suVtIFdm069mOI1DHJiZv4eSSCeOSOOK9Q+MGk+CdT+Heq6n4hj08zJaO1negqJjLtPlhHHLZbHy8g11E/gDwlcaGmjzeHNNbT42Zo7f7Mu2MsckrxlSfUc1zsfwF+GkVx5y+F4i2c4a6nZf8Avkvj9KAPmf4F+ENR8TfFDSru1hcWWlXCXd1cY+VNh3KufViAMemT0Br1D4peObj4cftIWGtRRNPaTaRFHewL1khMkgOPcFQR7jHevoDS9J07RLBLLR7G3sbWP7sNvEEUe+B396in0DSbrVv7UudNtZr77ObU3EkQZ/KJJKZP8OSePegDM07XfCfj/wAPedbXGn6vp8q5kimCuF46OjfdPsRXxt8TdH0Zfi1qOleAovtNm0yRwQ2hMoMpUbkTGcjeSMfhX1fqPwQ+HGqXRnuvC1qjsckW8skC/wDfMbKP0ra8N/D7wn4Rk8zw7oVnZTY2+eqbpcem9stj8aAMvwLZW3w1+EujWPijULXT/skP7+W5nVESR2Zym4nBILEe+OK+N/iJqlprXxJ8QalpsvnWlzfyyQyAYDruOGHsetfeep6Rput2ZtNZ0+11C2LBjDdwrKmR0O1gRmsf/hXHgj/oTfD/AP4K4P8A4mgDjfgF4w0LU/hro2h22pQf2tZwuk1kz4lGHJ3BT1GCDkZ614R8b/hVqHgvxRd6vYWzy6BfTGWKaNcrbMxyYm/u4J+U9xjuDX1ppng/wzol4LvRvDuk6fchSomtLGOJ8HqNyqDitaWKOeF4p41kjcFWR1yGB7EHrQB5N8A/H2j6r8MLDS7rULeDUdKQ280E0oRigJ2OAeo24GfUGvFP2gfFtv44+JlvZeHX/tC30+EWsTW48wTTMxLbMfe6qvHUqcV9IX3wa+HmoXBmuPClgrscnyQ0I/75QgVsaB4F8LeFn8zw/oNjYy4x50cI8zHpvPzY/GgDgvgD8L7rwH4duNS1yPy9Y1QKXhPJt4hyqH/aJOT+A7V53+1F4q0PWxoOn6Nqlrf3FpJO1wLaUSCLOwAMRwDkHjrxX1BXOyfDzwXLI0kvhDQXdyWZm0yEliepJ20AfMf7NXifRvDfjjURr2oQael5ZCOGW4cIhcOp2ljwDjPX0r1n9pPxFpEHwxvNEk1G2/tS4mgKWYlBl2hw24r1C4U8nivQR8OfBAII8HaACOhGlw//ABNW9T8H+GdbvDd6z4d0nULkqFM13YxyvgdBuZScUAfE/wAI9bsPDvxY0LVNYnFvZQTMJZWBIQNGygnHbLCvujTtRstX0+K+0q7gvbSYExz28gdHAODhhweQR+FYn/CuPBH/AEJvh/8A8FcH/wATW5YadZaVYx2Wl2dvZWkWfLgtoljjTJycKoAHJJ/GgCxRRRQAUUUUAFFFFABRRRQAUUUUAFFFFABRRRQAUUUUAFFFFABRRRQB5t8Jv+Q98Qf+xmn/APQVr0mvNvhN/wAh74g/9jNP/wCgrXpNABRRRQAUUUUAFFFFABRRRQAUUUUAFFFFABXHfFXwQPH/AMPb7Royq3gxPZu3RZl6ZPYEErnsGrsaKAPnv9nPxjHocOoeAPFDf2bqdrdNJbRXR2Fs43xjPcEbgO4Y46V0X7Qfj6z0nwPceGdNuFuNa1nFuLaE73jiJG4kDpuHygdTu46GvQ/EXgXwv4tZW8RaHZ38ijasskeJAPTeMNj2zVfw/wDDbwd4WuhdaD4esrW5H3Z9m+RfozZI/A0Acp8Bfh1P4D8EvNq0XlatqrrNcRnrCgHyRn3GST6FiO1cr8Yvjr4i8B+PV0PRNOsjBDDHLJJeRuxn3DPy4YYUdO/INe+V5J8b9V0W605PC9npFlrni/VENtYQNbpLLaK/3pSxB8sAZIPHPPQEgA7/AMF+JovGPgvS9fhi8lb6AO0Wc7GBIZc98MCM1NrvirQfDMIk8QaxZacCu5RcTqjOP9lTy34A1X8D+Gl8H+BtJ0BZBK1jbhJHHRnPzOR7FicU7XPBfhzxLfW154g0a01Ge1UrCbmPeFBOSNp4PTuKAPG/FnxG8Q/Ftp/Cfwm0+4OnTfur7Wp1MSbD1UE/dUjrn5iMgL6+n/DT4c6b8NvDA06xPn3cxEl5eMuGnfH6KOgHbnuTXWW1rb2VslvZwR28EYwkUSBVUegA4FS0AFFFFAHzB+1p/wAh/wAN/wDXrN/6EtfRfhf/AJFDR/8Arxg/9FrRq3hjQdfkjk13RNO1N4gVja8tI5igPUAsDitKKKOCFIoEWOONQqIgwqgcAADoKAINQ1Kx0mza71W9t7K2U4aa5lWNB9WYgV5N4w+O9tJMdC+F9rJ4l16YbUkt4i8EH+1n+PHt8vqeMV6jrvh/SvE2ltp2vWUd9Zs6uYZc4JU5B4p2kaDpOgWv2bQ9MtNOh7pawrGD7nA5PuaAPM/hD8IJ/Ct7P4q8Yzi+8UXxZmYtvFtv5b5u7nPLDgdBxkn1uiigD5Q1HSLv4C/Ha3117aRvDV5O4SWNcgQyZ3R/7yZyB3Cg96+kW8c+Fk0L+2W8Qad/Z+zf5/2hcEemM5z7dc8YzWtf6dZarYyWep2kF5ayjDw3EYdGHuDwa45fgt8OluvtA8KWO/OcHeU/74J2/pQB4b4Z8P3nxu+Ol34uktZIvDdtdpIZZVwJEiAEcQ9WbaCwHQE+2fquobSztrC0jtbC3itreIbY4YUCIg9ABwKmoA4bxZ8Y/BXhG3lN5rMF5dpkCysXE0rN/dIBwv8AwIivL7Twf4s+O3iy28QeOrSXRPCtoc2enElZJVJzgA4PzYGXIGRgKO49o0zwD4U0bUZNQ03w/p8N7JI0rXPkBpNxOSQxyRye1dDQBHbW8NnaxW1rEkMEKCOONFwqKBgADsAK+UfFNhffBn9oeLxVcWssui3l7JcJMi5DRzBhKnpuXe2AeuFPevrKq2o6bY6vYyWWq2cF7ayjDw3EYdG+oPFAFTRvE2i+IdNTUNF1S1vLV13eZFKDt9mHVT7HBFeG/tAeLLfxmumeAfBhGtanLeCecWZEix7VZQhYcZ+Yk8/KF5xXoc/wF+GlxOZZPC8QYnOI7qdF/wC+VcD9K6nw74P8PeE4Wi8OaPaaeHGHaGMB3H+0x+Y/iaAKHw28I/8ACDfD7S9BeRZZ7eMtO69GldizY9gTgewFdTRRQAUUUUAFFFFABRRRQAUUUUAFFFFABRRRQAV5trf/ACcd4X/7At3/AOhCvSa821v/AJOO8L/9gW7/APQhQB6TRRRQAUUUUAFFFFABRRRQAUUUUAFFFFABRRRQAUUUUAFFFFAHHfFXwQPH/wAPb7Royq3gxPZu3RZl6ZPYEErnsGryz9nPxjHocOoeAPFDf2bqdrdNJbRXR2Fs43xjPcEbgO4Y46V9CVgeIvAvhfxayt4i0Ozv5FG1ZZI8SAem8YbHtmgDzz9oPx9Z6T4HuPDOm3C3Gtazi3FtCd7xxEjcSB03D5QOp3cdDWh8Bfh1P4D8EvNq0XlatqrrNcRnrCgHyRn3GST6FiO1dX4f+G3g7wtdC60Hw9ZWtyPuz7N8i/RmyR+Brp6APGfjn8YNc+HGo6XYaBY2rtdxNNJcXaM6kBsbFAI57n6iu0+Ffjs/ETwHb63NbpbXQkeC5ijJKCRccrnnBBBwemcc9ao/FzxJ4c0Pw2INZ0yy1vVbnKaVpc9stw80x4UhCDwDjJ/DqQKn+D3gqfwH8N7LS7/Av5Wa6u1U5CSPj5fwUKPqDQB0eu+KtB8MwiTxBrFlpwK7lFxOqM4/2VPLfgDXiviz4jeIfi20/hP4TafcHTpv3V9rU6mJNh6qCfuqR1z8xGQF9fZNc8F+HPEt9bXniDRrTUZ7VSsJuY94UE5I2ng9O4rXtrW3srZLezgjt4IxhIokCqo9ABwKAOT+Gnw5034beGBp1ifPu5iJLy8ZcNO+P0UdAO3PcmuxoooAK8E/aw/5EvQv+wg3/os173VDVtB0jX4Y4dd0qx1KKNt6JeWyTKrYxkBgcGgDlfgt/wAkY8Nf9en/ALM1dzUFlY2mm2UVnp1rDaWsI2xwQRhEQegUcCpyMjFAHhWoH/hb3x/i01f3vhnwafMuO6T3Ofun1+ZcYPaN/WvdaydA8L6J4Wt54fD+mwWEdxJ5soiH32xjJJ5Na1ABWTrvirQfDMIk8QaxZacCu5RcTqjOP9lTy34A1rVh654L8OeJb62vPEGjWmoz2qlYTcx7woJyRtPB6dxQB434s+I3iH4ttP4T+E2n3B06b91fa1OpiTYeqgn7qkdc/MRkBfX0/wCGnw5034beGBp1ifPu5iJLy8ZcNO+P0UdAO3PcmustrW3srZLezgjt4IxhIokCqo9ABwKloAK5TxR8TvB/g+Ob+29dtEuIutpFIJJ8+nlrkj8cD3rq657/AIQLwoden1uTw/YS6lO/mSXM0IkfdgDI3ZweO2KAPE7+18X/ALROsWwazn8PeB7aXzFeYYkue24D+JsZAx8q5PJPX3/RNFsPDuiWmk6Rbrb2VpGI4o17D1PqScknuSTV7p0ooAp6prGm6JZ/a9Z1C10+23BPOu51iTcegyxAzwePavmX9pT4geHPFNvo+l+HdRj1GS0lklnlg+aNcgAAN0Y9emelfTOqaNpmuWgtdb0201G3DhxDdwLKgYZAO1gRnk8+9ZH/AArjwR/0Jvh//wAFcH/xNAHCfBz4neDl+GWi6Ze+ILHT76ytxBNBezrCQwJ5BbAIIweD3r15HWSNXjYMjDKspyCPWuc/4Vx4I/6E3w//AOCuD/4muiREijWONVRFAVVUYAA7AUAOooooAKKKKACiiigAooooAKKKKACiiigAooooAKKKKACiiigDzb4Zf8j38Rv+w0n/AKKFek15t8Mv+R7+I3/YaT/0UK9JoAKKKKACiiigAooooAK8c8V6xquh/tIRXOg+H59fum8JiNrWGdISiG7Yl9zccEAY/wBqvY682/5um/7kz/29oAP+FheO/wDolGof+DWD/Cj/AIWF47/6JRqH/g1g/wAK9JooA82/4WF47/6JRqH/AINYP8KP+FheO/8AolGof+DWD/CvSaKAPNv+FheO/wDolGof+DWD/Cj/AIWF47/6JRqH/g1g/wAK9JooA82/4WF47/6JRqH/AINYP8KP+FheO/8AolGof+DWD/CvSaKAPNv+FheO/wDolGof+DWD/Cj/AIWF47/6JRqH/g1g/wAK9JooA82/4WF47/6JRqH/AINYP8KP+FheO/8AolGof+DWD/CvSaKAPNv+FheO/wDolGof+DWD/Cj/AIWF47/6JRqH/g1g/wAK9JooA82/4WF47/6JRqH/AINYP8KP+FheO/8AolGof+DWD/CvSaKAPNv+FheO/wDolGof+DWD/Cj/AIWF47/6JRqH/g1g/wAK9JooA82/4WF47/6JRqH/AINYP8KP+FheO/8AolGof+DWD/CvSaKAPNv+FheO/wDolGof+DWD/Cj/AIWF47/6JRqH/g1g/wAK9JooA82/4WF47/6JRqH/AINYP8KP+FheO/8AolGof+DWD/CvSayLzxb4c0+7ktb/AMQaXa3EZw8M97GjpxnlScjigDjf+FheO/8AolGof+DWD/Cj/hYXjv8A6JRqH/g1g/wrq/8AhOvCX/Q06L/4MIv/AIqnL448KO2F8T6Mx9BqEX/xVAHJf8LC8d/9Eo1D/wAGsH+FH/CwvHf/AESjUP8Awawf4V6DZ6hZajF5mn3cF1H/AHoJVcfmDVigDzb/AIWF47/6JRqH/g1g/wAK8d8afC/UvE+pT6lpfwy1jRLu4YvIsOpW8kLMeSdhwRk+jAe1fVdFAHy74fsPj34Y02PTtJTU/scS7YoriK1m8sdgC7kgD0ziq974F+IHinV4r/4i+HfEXiEw8RwxXtraxqO4CjcAD324Jx1r6qooA8n0TxL4o8N6RDpeh/Bu7srKAYSGLVIAB6knqSe5PJq//wALC8d/9Eo1D/wawf4V6TRQB5t/wsLx3/0SjUP/AAawf4Uf8LC8d/8ARKNQ/wDBrB/hXpNFAHm3/CwvHf8A0SjUP/BrB/hR/wALC8d/9Eo1D/wawf4V6TRQB5t/wsLx3/0SjUP/AAawf4Uf8LC8d/8ARKNQ/wDBrB/hXpNZXifxJp/hHw1e65rMjJZ2abn2DLMSQFUDuSSAPrQBxf8AwsLx3/0SjUP/AAawf4Uf8LC8d/8ARKNQ/wDBrB/hXJ+GP2odG1vxPBpmp6HPpdtcyiKK8NyJQGJwN67RtHuCcfrXutAHm3/CwvHf/RKNQ/8ABrB/hR/wsLx3/wBEo1D/AMGsH+Fek0UAebf8LC8d/wDRKNQ/8GsH+FH/AAsLx3/0SjUP/BrB/hXpNFAHm3/CwvHf/RKNQ/8ABrB/hR/wsLx3/wBEo1D/AMGsH+Fek0UAebf8LC8d/wDRKNQ/8GsH+FH/AAsLx3/0SjUP/BrB/hXpNFAHm3/CwvHf/RKNQ/8ABrB/hR/wsLx3/wBEo1D/AMGsH+Fek0UAebf8LC8d/wDRKNQ/8GsH+FH/AAsLx3/0SjUP/BrB/hXo8kiQxtJK6oiDLMxwFHqTXG6h8YPh/pc5huvFenl1OCIHM2D9UBFAGV/wsLx3/wBEo1D/AMGsH+FH/CwvHf8A0SjUP/BrB/hXQ6J8S/BfiK4WDR/Eun3E7nCwmYI7H2VsE/gK1bzXrSCPUY7GSPUNRsLdpn062lVp2wuQu3OQW4Az6igDif8AhYXjv/olGof+DWD/AAry/wAf+BtT8d6nLqv/AAqzWNK1OXmWe21W3KSn1dCOT7gjPfNb+sftQRaLfyWN94I1O1uovvw3cwhdfqCpNdh8Jfi+vxSm1ZF0Q6WNOERybrzvM37/APYXGNnv1oA8e8L+H/jh4MszZeHINUgsskrbzJayouf7oeQ7fXjFP1jwl8U/GVzCfiBpOv6vaQtuS1tbi0tEB9cAsM9s4zzX1RRQB454V1PX/Bejrpnhz4M3lnb53ORqsJeVv7zMeWP1/Ditr/hYXjv/AKJRqH/g1g/wr0migDzb/hYXjv8A6JRqH/g1g/wo/wCFheO/+iUah/4NYP8ACvSaKAPNv+FheO/+iUah/wCDWD/Cj/hYXjv/AKJRqH/g1g/wr0migDzb/hYXjv8A6JRqH/g1g/wo/wCFheO/+iUah/4NYP8ACvSaKAPNv+FheO/+iUah/wCDWD/Cj/hYXjv/AKJRqH/g1g/wr0mvJPiZ8f8ASvh94gOiW2lSavqESq1yonEKQ7hkDdtYlsEHGMYI5oA0v+FheO/+iUah/wCDWD/Cj/hYXjv/AKJRqH/g1g/wra+HHxG0r4leHX1LS45LeWCTyrm1lILRNjI5HUEdD9emK6+gDzb/AIWF47/6JRqH/g1g/wAKP+FheO/+iUah/wCDWD/Cjxf8btA8N+IE8PaVa3XiDXXkEQsrADCuf4Gc8A+wBx3xXA2n7WVp/aAi1Twhc2sIba7xXwkdeefkKLz7ZoA77/hYXjv/AKJRqH/g1g/wo/4WF47/AOiUah/4NYP8K4vUv2rdEtddNtp3h+6vdOV9pvDcCN2HcrGVOR6ZYfhXt2h61ZeItCs9X0qXzrO8iEsT4wcHsR2I6EeooA4X/hYXjv8A6JRqH/g1g/wo/wCFheO/+iUah/4NYP8ACvSaKAPNv+FheO/+iUah/wCDWD/Cj/hYXjv/AKJRqH/g1g/wr0migDzb/hYXjv8A6JRqH/g1g/wo/wCFheO/+iUah/4NYP8ACvSaKAPNv+FheO/+iUah/wCDWD/Cj/hYXjv/AKJRqH/g1g/wr0migDzb/hYXjv8A6JRqH/g1g/wo/wCFheO/+iUah/4NYP8ACvSaKAPNv+FheO/+iUah/wCDWD/Cj/hYXjv/AKJRqH/g1g/wr0migDzb/hYXjv8A6JRqH/g1g/wo/wCFheO/+iUah/4NYP8ACvSaKAPNv+FheO/+iUah/wCDWD/Cj/hYXjv/AKJRqH/g1g/wr0migDzb/hYXjv8A6JRqH/g1g/wo/wCFheO/+iUah/4NYP8ACvSaKAPNv+FheO/+iUah/wCDWD/Cj/hYXjv/AKJRqH/g1g/wr0migDzb/hYXjv8A6JRqH/g1g/wo/wCFheO/+iUah/4NYP8ACvSaKAPNv+FheO/+iUah/wCDWD/Cj/hYXjv/AKJRqH/g1g/wr0migDzb/hYXjv8A6JRqH/g1g/wo/wCFheO/+iUah/4NYP8ACvSaKAPNv+FheO/+iUah/wCDWD/Cj/hYXjv/AKJRqH/g1g/wr0migDzb/hYXjv8A6JRqH/g1g/wo/wCFheO/+iUah/4NYP8ACvSaKAPAfh/4x8VWGr+MH03wBeak9zrks1yiX0Uf2WUquYiT94j1HFdr/wALC8d/9Eo1D/wawf4UfCb/AJD3xB/7Gaf/ANBWvSaAPNv+FheO/wDolGof+DWD/Cj/AIWF47/6JRqH/g1g/wAK9JooA82/4WF47/6JRqH/AINYP8KP+FheO/8AolGof+DWD/CvSaKAPNv+FheO/wDolGof+DWD/Cj/AIWF47/6JRqH/g1g/wAK9JooA82/4WF47/6JRqH/AINYP8KP+FheO/8AolGof+DWD/CvSaKAPNv+FheO/wDolGof+DWD/Cj/AIWF47/6JRqH/g1g/wAK9JooA82/4WF47/6JRqH/AINYP8KP+FheO/8AolGof+DWD/CvSaKAPNv+FheO/wDolGof+DWD/Cj/AIWF47/6JRqH/g1g/wAK9JooA82/4WF47/6JRqH/AINYP8KP+FheO/8AolGof+DWD/Cur8ReOPDHhLaPEet2dg7jcsUkmZGHqEGWI98VV8P/ABK8HeKbsWuheIbK6uW+7BvKSN9FYAn8KAOe/wCFheO/+iUah/4NYP8ACsqz1vxBp+vXut2XwVuIdTv8fabpdSg3yYAGM9hwMgYyRk8169RQB5t/wsLx3/0SjUP/AAawf4Uf8LC8d/8ARKNQ/wDBrB/hXpNVNT1XT9GsHvdXvbextY/vTXEojQfiaAOB/wCFheO/+iUah/4NYP8ACj/hYXjv/olGof8Ag1g/wrQh+NHw7nuxbp4rsQ5OMvuRP++yAv612tvcQ3dvHcWs0c0MihkkjYMrg9wRwRQB51/wsLx3/wBEo1D/AMGsH+FH/CwvHf8A0SjUP/BrB/hXpNYcnjbwrFI0cvibR0dCVZWv4gVI6gjdQByX/CwvHf8A0SjUP/BrB/hR/wALC8d/9Eo1D/wawf4V1f8AwnXhL/oadF/8GEX/AMVWpp+qWGr2xudKvra+gDFTLbTLIuR1GVJGeRQBwH/CwvHf/RKNQ/8ABrB/hR/wsLx3/wBEo1D/AMGsH+FekkhVJY4A5JPauKv/AIxfD7TLxrW78VWHmqcMImaUA+hZAR+tAGX/AMLC8d/9Eo1D/wAGsH+FH/CwvHf/AESjUP8Awawf4V3Oi6/pPiOxF7oOpWuoW+cGS2lDgH0OOh9jWhQB5t/wsLx3/wBEo1D/AMGsH+FH/CwvHf8A0SjUP/BrB/hXpNVdQ1Ow0iza71W9t7K2X701zKsaD8WIFAHAf8LC8d/9Eo1D/wAGsH+FH/CwvHf/AESjUP8Awawf4V2Xh/xXoXiqK4l8O6nBqMdtJ5crwHIVsZxnvx6Vr0Aebf8ACwvHf/RKNQ/8GsH+FH/CwvHf/RKNQ/8ABrB/hXpNZeu+JtE8M20dx4h1S106KV9kbXMoQO2M4GetAHFf8LC8d/8ARKNQ/wDBrB/hR/wsLx3/ANEo1D/wawf4V6NBNHc28c8DrJFKodHU5DKRkEU+gDzb/hYXjv8A6JRqH/g1g/wo/wCFheO/+iUah/4NYP8ACu18Q+JtG8KaW2o+ItQhsLUMF3yk/MT2AGSx9gDV+1uob2zhurV/MgnjWSN8EblYZB59jQB53/wsLx3/ANEo1D/wawf4Uf8ACwvHf/RKNQ/8GsH+Fek0UAebf8LC8d/9Eo1D/wAGsH+FH/CwvHf/AESjUP8Awawf4V6TRQB5t/wsLx3/ANEo1D/wawf4Uf8ACwvHf/RKNQ/8GsH+Fek0UAebf8LC8d/9Eo1D/wAGsH+FH/CwvHf/AESjUP8Awawf4V6TRQB5t/wsLx3/ANEo1D/wawf4Uf8ACwvHf/RKNQ/8GsH+Fek0UAebf8LC8d/9Eo1D/wAGsH+FH/CwvHf/AESjUP8Awawf4V6TRQB5t/wsLx3/ANEo1D/wawf4Uf8ACwvHf/RKNQ/8GsH+Fek0UAebf8LC8d/9Eo1D/wAGsH+FcXqnjDxTL8Z9C1CbwDeQ6jDplxHDppvoi06Fhlw/QY9DXvteba3/AMnHeF/+wLd/+hCgA/4WF47/AOiUah/4NYP8KP8AhYXjv/olGof+DWD/AAr0migDzb/hYXjv/olGof8Ag1g/wo/4WF47/wCiUah/4NYP8K9JooA82/4WF47/AOiUah/4NYP8KP8AhYXjv/olGof+DWD/AAr0migDzb/hYXjv/olGof8Ag1g/wo/4WF47/wCiUah/4NYP8K9JooA82/4WF47/AOiUah/4NYP8KP8AhYXjv/olGof+DWD/AAr0migDzb/hYXjv/olGof8Ag1g/wo/4WF47/wCiUah/4NYP8K9JooA82/4WF47/AOiUah/4NYP8KP8AhYXjv/olGof+DWD/AAr0migDzb/hYXjv/olGof8Ag1g/wo/4WF47/wCiUah/4NYP8K9JooA82/4WF47/AOiUah/4NYP8KP8AhYXjv/olGof+DWD/AAr0migDzb/hYXjv/olGof8Ag1g/wo/4WF47/wCiUah/4NYP8K9JrB8ReOPDHhLaPEet2dg7jcsUkmZGHqEGWI98UAcp/wALC8d/9Eo1D/wawf4Uf8LC8d/9Eo1D/wAGsH+FdD4f+JXg7xTdi10LxDZXVy33YN5SRvorAE/hXUUAeQvrfiCTxMviKT4K3DausIgW8bUoC6oM8D0PJGeuOM4rV/4WF47/AOiUah/4NYP8K9JooA82/wCFheO/+iUah/4NYP8ACj/hYXjv/olGof8Ag1g/wrvtT1XT9GsHvdXvbextY/vTXEojQfia5GH40fDue7FuniuxDk4y+5E/77IC/rQBn/8ACwvHf/RKNQ/8GsH+FH/CwvHf/RKNQ/8ABrB/hXotvcQ3dvHcWs0c0MihkkjYMrg9wRwRUlAHm3/CwvHf/RKNQ/8ABrB/hR/wsLx3/wBEo1D/AMGsH+Fek1R1jWtM8P6c1/rd9BYWiEK01xIEUEnAGT3oA4T/AIWF47/6JRqH/g1g/wAKP+FheO/+iUah/wCDWD/CvQNO1Kz1fTob/TLmO6tJ13RTRNuVx6g1ZoA82/4WF47/AOiUah/4NYP8KP8AhYXjv/olGof+DWD/AArc1n4qeBvD949rqviawiuEOHiRzKyH0IQHB9jV7w9468L+LHZPDuu2V/KoyYY5MSAeuw4bHvigDlf+FheO/wDolGof+DWD/Cj/AIWF47/6JRqH/g1g/wAK9JooA82/4WF47/6JRqH/AINYP8KP+FheO/8AolGof+DWD/Cu/wBQ1Ow0iza71W9t7K2X701zKsaD8WIFUvD/AIr0LxVFcS+HdTg1GO2k8uV4DkK2M4z349KAON/4WF47/wCiUah/4NYP8KP+FheO/wDolGof+DWD/CvSaKAPNv8AhYXjv/olGof+DWD/AAo/4WF47/6JRqH/AINYP8K7PXPFWgeGYhJ4g1iy04MMqLidUZvopOT+FW9L1Sy1rS7fUtLuFubO5QSQzJnDqe/NAHA/8LC8d/8ARKNQ/wDBrB/hR/wsLx3/ANEo1D/wawf4V6JdXdvY2slze3EVtbxDdJLM4REHqSeBWN/wnXhL/oadF/8ABhF/8VQByn/CwvHf/RKNQ/8ABrB/hR/wsLx3/wBEo1D/AMGsH+FdX/wnXhL/AKGnRf8AwYRf/FVtxSx3EKTQSLLFIoZHRsqwIyCCOooA85/4WF47/wCiUah/4NYP8KP+FheO/wDolGof+DWD/CvSaKAPNv8AhYXjv/olGof+DWD/AAo/4WF47/6JRqH/AINYP8K9JooA82/4WF47/wCiUah/4NYP8KP+FheO/wDolGof+DWD/CvSaKAPNv8AhYXjv/olGof+DWD/AAo/4WF47/6JRqH/AINYP8K9JooA82/4WF47/wCiUah/4NYP8KP+FheO/wDolGof+DWD/CvSaKAPNv8AhYXjv/olGof+DWD/AAo/4WF47/6JRqH/AINYP8K9JooA82/4WF47/wCiUah/4NYP8KP+FheO/wDolGof+DWD/CvSaKAPNv8AhYXjv/olGof+DWD/AAo/4WF47/6JRqH/AINYP8K9JooA82/4WF47/wCiUah/4NYP8KP+FheO/wDolGof+DWD/CvSaKAPKfg1eXN/4j8eXV/YSaddS6rG0tpI4cwt5f3dw4P1FerV5t8Mv+R7+I3/AGGk/wDRQr0mgAooooAKKKKACiiigArzb/m6b/uTP/b2vSa82/5um/7kz/29oA9JooooAKKKKACiiigAooooAKKKKACiiigAooooAKKKKACiiigAooooAKKKKACvKvjF8L/CmseEPEPiObTFi1m3spbpbyF2VmaOMkBhnDAhQOR0r1WuY+Jf/JKfFX/YHuv/AES1AHwHX25q3wE+HmqadJbR6CljIykJcWsrq8Z9RkkH6EEV8R19v698dfAGh6dJcJr0GozKpMdtY5keQ+mRwPqSKAPjrUIdT8EeMr+ysr+a2vdLu5LcXNtIY2JRiu4EHIBxmvsL4G+Or7x78OVvdYIe/s7lrOeYLjziqqwfA4BIcA+4NfL+neBfGvxV8S3msaboswj1O6kuHu5QY7dC7knDnqBnouT7V9dfDPwHb/DrwTb6JDN9omLtPdTgYEkrYBIHoAAB7AUAdbRXhfxr+O1/4K1tvDXhe2i/tBIle4vLhdwi3DIVF6E4IOTkc4waofDjSvF3xR8DTeIZviVrVnqBnkhENuqxwxOuCMquMggg8Y64oA+g6K+N9B+PPj7wf4ja016/OsW1rOYbq1ulUt8rYbbIBuB4OM5HtX1/puoW+raVaajZNvtruFJ4Wx95HUMp/IigCzRXzB8Uf2j9YXXbvR/AjRWdrayNC+oNGJJJmBwSgbKquc4OCT146V09r4G+Id58Mk8Sf8LF1ldclsvtyWYf9zgrvEZH94jjPQHt3oA94or4r0j44fEi91K0sH8ZC0jmkWL7RcWcDLHk43MfLJwO55r6T8PS+LPAvhnXNY+KniO21e3to1mha1gVDGqhty4CLksSoHv6UAeg0V8j3nxy8e/ELxjZ6L4au00G3v7pLeCOBQXUM2NzyEZ4zk7cDjpXY/FHRPHnwz8MQeItF+Ies6ikcqxXcd2QwUt0dQcjGeMHPUc0AfQ9c7498IQeOvBGoeHridrcXSqUmUZ8t1YMpx3GQMj0zXzZ4A+I/wAVPiD4k/sSx8cW1jdtE0kX2qyhxLt5KjbEecZP0Br1Hxha/GTQPBcepad4o067n0+zaTUEWzj3ylWdi6Epg4TaNuB909SaAOC8L/sua9B4ptpvEupaeNLt5lkf7I7vJMAc7QCoC5xgknj0NfUNfFen/Hf4kXus2UVx4lcxyXEasq2kC5BYZHCCvrXxnZeJ77QfL8E6pa6ZqSyhvNuofMR0wcr0OMkqc4PSgDfor4w1z42/FbStZvNL1HxD9nubOZ4Jo47O3wrqSDg7OeR1r0fQ/H3xU8feBbC08DWR+0QxbNR168Ecfmy5PyRA/LwMZIBOfTqQD6Ior4l1L4j/ABV8E+Kp7HWPEGow6hauPNt7mRZkOQCODlSCCOR2NfU/wq8eD4ieA7bWZIlgu1dre7iT7qyrgnHsQVbHbOOcZoA7Oivn34y/tAX/AIb1+48NeDEhS6tcLdX8qB9j4zsRTxkdyc85GOM1L4B8J+PvHngJPEmo/EbWLC8vt7WcMBAjUBioLgYzkg8DGBjr0oA99or4nf42fE/Sb2TTbnxRLG9tM0MpktYZCpVsHkoScEGvpT4bab8QIro6j4x8W2GvaVdWYe0W1gVPmYqyvkRrxtz370AeiVQ1zWrHw7oV5q+rTCCzs4jLK57AdgO5J4A7kir9eB/tW69NZ+E9F0SFyq6jcvNNg/eWILhT7bpAfqooA8c+IHxR8SfFTxAljC0sGnTTrFZaXC+AxLYXf/fcnHXgdsV9KeAfgf4U8JaHBHqWlWer6qyA3N1eQiUb+4RWBCqOg4ye9fM3wMsI9R+NnhyGYZVJ3n59Y4nkH6qK+5KAPJfiV8BvDfijQ55vDem22ka1Eha3a1QRRTEfwOgwvP8AexkHnkcV5p+y2LiL4jeIIb0SLcLYkSrLncGEqgg55zmvqWuE0D4aReHvi1rvjG0u0EGsW+xrIRYKSFkZn3Z5yVJ6dWNAHjn7WkES674bnVFEsltOjPjkhWUgfhuP51Y/ZI/4+vFf+5afzlqL9rX/AJCvhj/rjcf+hR1L+yR/x9eK/wDctP5y0AfS1Fee/GD4oL8MfDlvcQWa3mo30jR2schIjXaAWdsckDI4GM56ivJPhj4n8Y/GTxRqNpq/jfUNHW1txPHBpcSRBhu2n5hzgEjrknPXigD6dor5G8beNviR8JviBPo48XXWqQRqk0LXiLIJo2HAYNkg5BBwR0zxX0T8LvHkfxF8C2+t+Stvch2gu4UOVSVcE49iCrD0zigDsKK8Z+OPxquPAE0OheHIon1i4i86SeZdy2yEkLhe7HB68AAcHNYfw38OePviP4Uj8T6r8S9UsBdu4ggs1AACsVJYAqByD8oHTHPNAH0FRXzN4y1X4reAfE+g6Tr3iWXUNFuNShaHUYIxE0oDANFIV5GQclSSD2Jwce9eN/F1l4G8H32v6irSR2qjZEpwZXY4VR6ZJHPYZPagDfor5W8I+O/iJ8aPHzaTbeJz4cs1he5dbGMDy41IGFP3mbLDq3qfau68UeFfir4H0mXWPCfjm78QR2yl7ix1C3V5Cg5JUnO71wMHjjPSgD2+vAPi9+z9qvjDxlN4j8L31or3oT7TbXbsm1lULuVgDkEAZBxznrnA6r4Mavr3ij4IfaG1aSTWne5iivrvMxR9x2FgeoGRxXkvxF+I/wAYvh/4j/sjWfEVvmSITQzWtnAUlQkjI3R5ByCCD/LBoA9q+Dfwvb4ZeG7m3vbuO71G/lWS5eEHy02jCqucE4yTkgZz04q98YPFs/gv4X6rqli+y9ZVt7Zv7sjnbuHuoy34VyH7OnjbxF410fXJvE+pPfyW9xEsTNGibAVJI+UD0Fef/GvQfiZpvgcXHjXxZY6tpTXqKttBbqjByG2nIjXgAHv3oA5X9naEXnxv02afMjxxXEu5jklvLYZPv81ex+NP2aNI8U+LrjWtP1qXSUvJPNubVbUSqznlih3Dbk88g8k/SvAfhBZeJNQ+Ilvb+DNUh0rVWglKXM8YdQoXLDBVuo9q+jrfwv8AG6CzufM8eaPPcEAwh7JdvGcgkRDGeOcHp0oA8y1T9lTxEuvvHo2r6fJpTPlJrlnWVE9GUKQSPY4PtX0j4Q8NW/g/whpugWcjSxWMIj8xxgu2SWbHbJJOO2a+SNc+NvxX0rWLzS9S8QG3urOZoJo0s7f5WU4PITnp1zX1F8K9Yv8AX/hboWqavcG5vbm3LSzMoBc72GcAAdBQB11FeWfGL4z23w3t49P02GO9125TekUhPlwJ0Dvjk5IOFGM4PI78d8NbD4gfFjQ7rxFrnjzU9ItmmaG0h05VjDFerEDA2gnGOpwefUA+hKK+QR8ZPiJ8NfG97ouuamNcisLkwzQ3ag+aoPDK+Ny5GCMk9eQa+hp9a1jx/wDDix1n4Z6tbabc3REge9hEgAAZXiYYOCHxzg/d96AO4or4w1z42/FbStZvNL1HxD9nubOZ4Jo47O3wrqSDg7OeR1rs9R+KfxI1D4Mwaxo6taWdlEqajrtwqLLdStJs2wrjoNygsB1B5GOQD6cor5L+DHxi8Wv8RtN0fXNVuNWsNTl8h0um3tGxHysrHkYOMjpjPsa+tKACiiigAooooAKKKKACiiigAooooAKKKKACiiigAooooAKKKKACiiigAooooA82+E3/ACHviD/2M0//AKCtek15t8Jv+Q98Qf8AsZp//QVr0mgAooooAKKKKACiiigAooooAKKKKACiiigArkPij42XwB8P77WlCvdcQWcbdGmb7ufUAAsR6Ka6+vnX9rXUHTT/AAzpqt+7lluJ3X3QIq/+htQBP+zr4QTxBHqHxB8Vj+09Turpo7aW6G8rtxvkGeMknaPQKQOtdD+0H4BstX8D3HibTrdbfWtGxcC4hXa8kQPzAkdcD5ge23jqa6P4G2i2fwU8ORoAN8Dyn3LyM39a6rxVaLf+DtZs5AClxYTxMD6NGw/rQBwXwF+Ik/jzwO8WrS+bq2lOsFxIesqEfu5D7kAg+pUnvXqVfJf7K2oPb/EnUbHcfKutNZivqySJg/kzfnX1pQAyeaO2t5J53CRRKXdz0UAZJr5U0C9uf2gvjiBrjyf8I7pyvcx2G4hRCrBVU4/iYsu49cZA4Ax9LeL7We+8D67aWgJuJ9OuIogvUs0bAfqa+Yv2WNRgtfiVf2c7BZLzTnWHP8TK6sVH/AQT/wABoA+k9V8A+FtZ8Pvot5odiLJk2KkUCoYuOChA+UjsRXz58JvFGpfDH4w3Xw81e6efSZ71rWIOeI5Sf3UijsHyoI/2ge1fUtfHXxtY2f7SM1xbfLKJrKUEf3hHHj+QoA+wbmdLW1luJeEiQu30Aya+T/hx8BU+JPhEeJr7X5bCS7uZR5SWokBw2Cclh3zX0l8Qb3+zvhr4kuwcNFpdwVP+15bY/XFeNfDX4s2Phj4W6NoXh/w7rPiXUbaJ3uk061Yxws8jPtZ8HnDDoCPegBv/AAyVY/8AQ3XH/gCv/wAXXrXw08AxfDfwo2iQag+oK1y9x5zxCM/MFGMAn+7XC6R+0v4fl1j+zfFWi6j4dm3bWa4XesZ/2xgMv/fJr2W3uIbu2juLWVJoZVDxyRsGV1IyCCOoI70AfO37R3xA1CbWbX4feHZmRrgIb4xthpWkP7uHPpghj67l98+y+CvAOi+CvCdvo1jZwOfKAupmjBa5fHzMxPXJzgHoOK+Xopj4h/a0Elwd4HiQgZ5ysMmF/SMV9k0AfLHxDSf4FfGm013wopg0nVEE0tih2xuA2JYsdMchh/dLccCvp7Tr+31XS7XULGTzLa7hSaFx/EjAEH8jXgv7Wdor+HfDt4QN8V1LED7OgJ/9AFd58A9RfUPgloTzNl7dZYCSeySsF/JcUAP+LvxXs/hpoiCFEu9avAfslqx4A6GR8c7Qe3UngdyOO8H/AAc1HxpJD4r+Md9dajdzjzINJZykcCHkBgMY/wBxcAd8nIHlNr4u0jxd8f5/FfjG8WPRbGV7iJHBbdHFxBGq9yW2kgDn5j6163rP7RV/p8RvbX4b64+ldRfXha3Uj1/1bL/49QB7DpOhaToFqbfQ9MtNOhOMpawLGGI7naBk+9X64L4cfF/w98SUkh0/zLLUoV3y2NwRu2/3kI4Zf1HcDiu6lljghead1jijUs7ucKoHJJPYUAUte13T/DWhXWsazcLb2VpGXkc/oAO5JwAO5NfGXxf1zxH4s1LTvE2vwtZ6fqSSHSLJjzFbqQAxHqxOc98em2vbYlm+PXjYTyiRPh/oU/7tCCv9q3A7n/YH8jjqx28d+1gix654aSNQiLaTBVUYAG5eAKAPo3wv/wAiho//AF4wf+i1rP8AF/hjUvEqWg0vxRqHh8wFy5sQp87OMbs+mDj6mtDwv/yKGj/9eMH/AKLWtSgD4y+PfhG78JeJtOjvvEepa/Ld2zSmbUH3MmGxtHJwK+u/DieX4V0pB0WyhH/jgr5r/ax/5G/Qf+vF/wD0Ya+ltA/5FvTP+vSL/wBAFAGhRRRQAUUUUAFFFFABRRRQAUUUUAFFFFABRRRQAV5trf8Aycd4X/7At3/6EK9JrzbW/wDk47wv/wBgW7/9CFAHpNFFFABRRRQAUUUUAFFFFABRRRQAUUUUAFFFFABRRRQAUUUUAch8UfGy+APh/fa0oV7riCzjbo0zfdz6gAFiPRTXlf7OvhBPEEeofEHxWP7T1O6umjtpbobyu3G+QZ4ySdo9ApA61B+1rqDpp/hnTVb93LLcTuvugRV/9DavS/gbaLZ/BTw5GgA3wPKfcvIzf1oA5z9oPwDZav4HuPE2nW62+taNi4FxCu15IgfmBI64HzA9tvHU1ofAX4iT+PPA7xatL5uraU6wXEh6yoR+7kPuQCD6lSe9d74qtFv/AAdrNnIAUuLCeJgfRo2H9a+YP2VtQe3+JOo2O4+VdaazFfVkkTB/Jm/OgD60pk80dtbyTzuEiiUu7nooAyTT6x/F9rPfeB9dtLQE3E+nXEUQXqWaNgP1NAHzToF7c/tBfHEDXHk/4R3Tle5jsNxCiFWCqpx/ExZdx64yBwBj6M1XwD4W1nw++i3mh2IsmTYqRQKhi44KED5SOxFfNn7LGowWvxKv7Odgsl5pzrDn+JldWKj/AICCf+A19a0AfLXwm8Ual8MfjDdfDzV7p59JnvWtYg54jlJ/dSKOwfKgj/aB7V9S18dfG1jZ/tIzXFt8somspQR/eEceP5CvsWgCG7u7ews5ru9mSC3gQySyyNhUUDJJPYAV8g/GrxdrXj+1h8QRRyW3hGK8a00xHypunCkvMR36Y9s4HO6vWPE2oXfxo8aSeDPD07xeE9LlDa3qMR4uXB4gQ9xkdemQT0A3ZH7UGn2mk/Dnw3YabbpbWlteeXDFGMKiiIgAUAelfBb/AJIx4a/69P8A2Zq8/wD2mPiHqPh6wsfDOiTvay6lE013PGdr+UDtCA9tx3Z9hjua9A+C3/JGPDX/AF6f+zNXB/tJ/DjUfE2m2XiTQoHurnTY2iubeMZd4SdwZR32nOR6N7UAdz8Nfhr4f8I+DrCKLTrWe+mt0ku7yWJXeV2UE8noozgAcY98mvLP2i/BFh4Wh0vxv4UjGkX63iwTGzHlAsVZlkAGMMNhBI65Gab8KP2jbGy0iz0Dx2skJtUWGHU41LqyAYUSKOQQONwznuB1N34167/wtSTR/BXw7Ka5IZ1vbu4tW3QwDaVTfIOBw7E+mAOpxQB618MvFM3jP4a6Nrt2ALm5hKz7RgGRGKMQO2SpOPesX4u/Fez+GmiIIUS71q8B+yWrHgDoZHxztB7dSeB3I6XwP4Xh8FeB9L0CGUSCxh2vLjAdySzt7AszGvlO18XaR4u+P8/ivxjeLHotjK9xEjgtuji4gjVe5LbSQBz8x9aAPVvB/wAHNR8aSQ+K/jHfXWo3c48yDSWcpHAh5AYDGP8AcXAHfJyB7NpOhaToFqbfQ9MtNOhOMpawLGGI7naBk+9ePaz+0Vf6fEb21+G+uPpXUX14Wt1I9f8AVsv/AI9XZ/Dj4v8Ah74kpJDp/mWWpQrvlsbgjdt/vIRwy/qO4HFAHe14n8U/i5qo8TxeAfhoguNfuH8qe6UBhbkjlFzxuA5Zjwo9849I+Ifif/hDvh7rGupjzbW3Pk7unmsQiZ9tzCvmX4H+KdC8J3er+KNf+06prt2/2axsrWMzXMpb55Xx2ydo3E/3sZ5oA9o8G/AXQdJYap4yY+KNdm+eee/JliDdwqN976tk+w6V6ja2tvZWsdtZQRW8EYwkUSBFUegA4FeF6h+0te6Jexrr/wAOtW0y1kPyy3MzRuw9QjRAH6bq9b8H+M9F8daCmreHrrzoCdsiMNskL91dex/Q9RkUAcp+0De/YvgjrmDh5/JhX8Zkz+gNeb6f+yja3emWtxP4pnikmhSR4xZA7CQCRnf2rrf2mrqJPh5pdlPKI47zWIUlY9owjlj+HFPv/j8gRp/C/gbxDrWmp/y/pbNFCwHdTtbj64oA5f8A4ZKsf+huuP8AwBX/AOLr3zRtOGj6DYaYshlFnbR24kIxv2KFzjtnFed+BPj74U8bajHpbifSNSlO2KC8xtlb+6rg4z7HBPbNeo0AFFFFABRRRQAUUUUAFFFFABRRRQAUUUUAFFFFABRRRQAUUUUAebfDL/ke/iN/2Gk/9FCvSa82+GX/ACPfxG/7DSf+ihXpNABRRRQAUUUUAFFFFABXm3/N03/cmf8At7XpNebf83Tf9yZ/7e0Aek0UUUAFFFFABRRRQAUUUUAFFFFABRRRQAUUUUAFFFFABRRRQAUUUUAFFFFABXMfEv8A5JT4q/7A91/6JaunrlvidIkXwn8VNK6op0m5UFjjkxMAPxJAoA+Ba+6b/wCC3w81C0a3l8LWUQYYD24MTr7hlINfC1fo/FcQz2yXEEqSQyIHSRGBVlIyCD6Y70AfEfjzRtY+DnxIuNN8PazfW0W1bi1nimKM8TdA2MA4IKnscdOcV7/8Bvi5d/ECzutI8Q7G1iwjEvnooUXMWcFio4DAkA4wDuHHWvC/2gfFVj4r+Ks8ukzJcWthbJZLPGcrIVLMxB7gM5Ge+K7f9lPwzff29q3iaWJksVtDZROwwJXZ1dseu0IM/wC8KAPQ/i/4E+Geo3cev+PdUk0e5MYj823uAr3Cr0GwqxYjOMqM4x7Vz3g34j6Zp+m/8Ir8EfBmpa2sLF5Lq7kEMQdv+WjufXHQ7OmB0rw/4x6xf6x8XPEL6k7sbW9ktYEY8JFGxVAB2BAz9ST3r6M+Aut+GNJ+CdlI2pWNm8LzPqBlmVGWTzG5fJ/ubMe2KAPlDxO93J4u1d9SSKO8a+mNwkJ+RZPMO4LntnOK+5/hkCPhR4Vz/wBAi1/9FLXwv4mvIdQ8Wave2r+ZBcX00sb4I3Kzkg4Psa+6fhpJHL8KfCrQurqNItVJU5GREoI+oIIoA+LfiJ4H1XwJ4uu9P1O3kEDSs1pclfkuI88MD0zjGR2NfWeifErw4Pgvba9Jqdqq2+mKksBlUOJlj2mLb13FhgDvkHoa8P8Aj38TNdv/ABxqHhSdRBolhMiNaqgD3HAbeXIJGc8YxwR1rWsviD8BDHGZfA1zA6gZElokgB+vmHP4igDxvwZ4N1bxz4kt9I0W3eRpGHnTBfkt0zy7nsB+vQc19tfEXwtP4s+Ger+H7F8XFxbAQFzjc6MHUE9slQM+9cX4a+Ofwns400/SZF0OBjxH/Z5hjz77AQPqa9Sk1KFtEfU9PK30PkGeEwOGEw25G0jg57UAfCvg64l8CfFfSJ/EdtNZHTr9PtccyENEucMcewOfevoz9ovxfojfCSTTrXUrW6uNUmh8hIJlclFcOX4P3flAz7ivDj8VF8VfEO01n4n2P9r6RAXC6fbRqgiBB2gdCwBIOGbn1r0aw+IvwDhmWVfBkkTA8efpySAfhvYUAcv+zf4K1XVPiJaeJRBJFpWliQtcMuFlkZGQIp7n5snHQDnqK+pPGP8AyIuvf9g24/8ARTVy3hX40fD3xBcQaXpGrR2czYSC2uIGgB9FUkbc9gAc11HjNgngPX2chVGm3BJPb901AHwHov8AyH9P/wCvqP8A9CFfotX50aQ6xa3YvIwVFuIyzE8ABhzX6Lg5GRyKAPgn4rf8lc8Uf9hOf/0M19dfBEBfgr4b2gD/AEZjx/10avkT4qMG+LfigqQR/ak44/3zX138EWV/gr4bKkEfZmHB7iRgaAPnr9p9FX4vIVABfTYS3udzj+QFenfspE/8K61cdv7Vb/0VHXmX7UDA/F2MA5K6ZCD7fM9el/soup+H2sICNw1QkjPIBiTH8jQB5B8d/A+q+GfiPqeqT28j6Zq1y1zb3YXKbnO5kJ7MCTx3GDXvfwR8c6A3wZ08XmqWlpJpMTw3iTTKhjCsSGIPYqQc+uR2rg/2kPiV4g0zxAfCGmlbTTpLRJZ3MSs1zuJ4ywOFGMcc5B5rF8N+Ovghb6DYW+s+Cbr7dDAiXEpgWUSOANzbvMBOTk9B9KAPLbq0vvHfxDvx4dsprufVL+aaGGNeQryFsn0AB5J4FfdXhPRn8O+DdH0aWQSyWFlDbvIOjMiBSR7ZFeWeGfjf8INHX7No1v8A2FHJjcU0zYD/ALxjBJ+pr17StX0/XdMh1DR7yG9s5hmOaBwyt+I7+3agC5Xzf+1tZSGPwvfKCYlNzC59GPllfzw35V9IVx3xT8Cx/ELwFd6MGWO7Uiezkboky5xn2IJU+zUAfKPwFvEsvjf4eeU4V3li59XhdR+pFfb9fniU1fwZ4rTz4ZLHVdKulk2SrgxyIwYfUcA+hFfcXw/+ImifELQIb3SrmNbsIPtViXHmW79wR1K56N0P5igDrKKzdd8Q6T4Z0uTUde1CCwtYxkyTPjPsB1Y+wya8s8AeJvEnxQ+J0/iezmu9M8GaZG9tbW5OBfOe7DoSPvEj7uFA6saAOJ/a1/5Cvhj/AK43H/oUdS/skf8AH14r/wBy0/nLUP7WrA6x4ZUEbhBcEj0BZP8AA1J+yTIgv/FMZYB2itWC55IBlyf1H50Ae0fEvwj4U8WeGdvjeZbSzs381LwziEwE8HDHjnpgg5474rx7wn4u+Gnw41aey+GOm614t1y+Hkh1H3wDnaG2jAyMkhD0znArN/av1i/bxToujF3XTksvtQQHCvKzupJ9SFUY9Nx9af8AsqXeiWmpeIWv7i2g1Jo4RbmZwrGLLlwuffZn8KAOD+OWoeI9T+IEVz4u0m30i9axj8u0hm83ZFufbuYHBbOentXtf7KYP/CtNVPb+13/APRMVeQ/tE65puu/FiSbR72G9ht7OKB5IW3KHBYlQw4ONw6V6/8AspyRn4Z6pErqZV1d2ZAeQDDEAT7HB/I0AcP+1B4L1KHxZD4st4JJtNubdIZ5VGRBIuQA3oCMYPrkeleZeDfij4t8BqYvD2qNHaM+97SZBJEx7naehPquDX0nYfFL7N8dvEXgfxbdRPptw0Uem+dGgSNjGpMTHHIfdxuzyMd60/FH7PngPxGsklvpzaNdNkibT22KD/1zOUx9APrQB594d+Pvh7x21poXxR0O3gQ3CSRXkLt5CSg/KzDO5Ov3txHPOBk16l8afCV74z+FuoadpK+ZexslzBED/rShyV+pXOPfFfF/iPQpPD3izUtCMoupLG7ktvMjH+sKsVyB746V9V/Ebxj4g+Gnw08E30UpE8U1rb6nCyqxnUQEyISQcElTyMGgD5Q0zVNX8K64t5plxc6ZqVq5XcuUdD0KkH8iD+NexeF/2pPEunyRxeKLC11e36NLEPIm+vHyH6bR9a92uvCnw/8Ai1odvrU+mWmoxXcYaO8jBjmH+yXUhsg8bT0I6V82/HH4S6f8NLzTbjRb6aey1IyBYLggyRMm0n5gBuHzemRjvmgD6e+Gd/4T1Twcl74DhW302eZ5JIBkNFMcF1ZSTtPTgcYwRwa8C/av/wCR60T/ALBp/wDRrV1X7JtreR+G/EN1KGFlNdRJCT0Lqrb8fgyVyn7V7A+PNFUEbhpuSPT96/8AhQB1H7Jf/IA8Sf8AX1D/AOgtXQftQ/8AJI4v+wnD/wCgSVzv7JciHRfEsYYbxcQMVzyAVfB/Q10P7UTAfCSEEgFtUhAHr8klAHi/7Nv/ACWmx/69Z/8A0A19m18Yfs4OifGrTw7BS1vOq5PU+WTgflX2fQB8F/Fn/kr3ij/sJS/+hV9c/BP/AJIt4a/69T/6G1fIvxXYP8XfFBUgj+0phkezGvrj4HyJJ8FfDZjYMBbspwehEjAigD5E+KOqz6z8VfEl3dMWYajNCuT0SNiiD8FUV7t8H9S+JNr8KNIi8L+HdEu9M/fGGe5vGSRz5z7tyj0bI+gFeU/HnwddeFvijqNy0TfYdXla9tpcfKxc5kX6hiePQqe9eofs2fEvSbfw23hDWr2GyuredpLJp3CLMjnJQE8bg2TjuG46GgDnPGnwS+JXjXxhfeIbzTdKtZr0oXihvPlXaipxnnnbn8a9k+B3g3XPAvgKfSPEqxLcfb5Jolil3qI2RO/+8G4rr9f8WaF4X0p9R13VLa0t1XcC8g3P7KvVj7DNZPw58aXfjzw9NrM+jS6XaPculkZXy1xCDxJjHHp3GQcGgD43+K3/ACVzxR/2E5//AEM19TfDjw5p/i39nLR9D1mNpLO8sikgRsMMSkhgexBAI9xXyx8VGDfFvxQVII/tSccf75r66+CDq/wV8NlGDAW7AkHuJGBFAGN4D/Z/8OeBfEy65HeXmpXUAP2YXIULCSMbsActgkZ6c9M4x6tRRQAUUUUAFFFFABRRRQAUUUUAFFFFABRRRQAUUUUAFFFFABRRRQAUUUUAFFFFAHm3wm/5D3xB/wCxmn/9BWvSa82+E3/Ie+IP/YzT/wDoK16TQAUUUUAFFFFABRRRQAUUUUAFFFFABRRRQAV82/tb2z7vCtyBlMXUZPof3RH9fyr6Sry/9oHwdP4u+F876fEZb7SpRexIoyzqAQ6j/gJJx3KgUAa/wWmE/wAGPDTqcgWmz8VdlP8AKup1+Zbbw1qc7nCxWkrk+gCE15L+zD4mh1P4byaG0g+1aRcOPLJ58qQl1b/vouPw966n44eJofDPwk1l3kC3GoQmxt0zy7SDacfRdx/CgDwT9lu2eb4r3Mqj5YNLlZj9XjA/nX15Xg/7LvgyfSfDN/4mv4jHJqzLHahhg+Smct9GY/8AjoPeuu8efHPwx8P/ABImialb313dbFkm+yRqRCG6Z3MMnHOB2oA9Kr5y+IXwG8Qab4y/4Sz4Vyqkxn+0fY1kWJ4Jc5JjLYUqeflJGM45HA+gdI1az13RrTVNLmE9neRLNDIBjcpGRx2Pt2q5QB4ppOtfH3V4VsbjQND0gkbX1K6IJX/aCLI2T/wHFeNad4cufEX7SkWkvqc+tvDqateX8w5l8nBmPHCrlGVR2G0V7x8VvjLZ+GbeXw/4Uf8AtTxTdfuIobUeZ9mY8ZbHV/ROucZ46s+Bfwnl8CaXNrPiABvEGpLiQE7jbR5zsz3YnBY+wHbJAPTtZ0ex8QaLdaVq0Pn2V3GY5o95Xcp7ZBBH4UmjaLp3h7SLfS9GtI7Szt12xxRjAHufUnuTyT1ryX9o/wAY+J/CGhaLJ4Yu5bGK5uJFubmJQSCFBRMkHGfnPvtrv/hpq+p698M9C1TXWD391aiSVwoXfkna2BwMrg8cc0AcN+0l4QsNY+Gs+vmFF1LSGRkmAwzxs4RkJ7j5t3sR7ms/9lnxDdal4G1LSLqRpE0q5XyCxzsjkBO36BlY/wDAq0f2lvE9rpPwul0Yyr9t1iWOOOIH5hGjh2fHp8oX/gVL+zb4Pu/DXw7l1DUomhudZmFwkbDBWELhMj3yzfQigDxPQ1Om/tYeXNwR4kmQZ77pWA/PcK+zK+UPj3oN34J+Men+NLOFjaXk8N2rL0W4iK7k9shVb3yfSvqXS9StdZ0m11LTpRNa3cSzQyD+JWGRQB4Z+1jMq+EdBgJ+Z753A9ljx/7MK3Pg3FNZfszLMgIkktr6aMd/vSAf+g159+0hqM3i/wCJeheDtCU3d3aIVMcZz++mK/KfoqqSewb619E+GfDtv4d8Gad4fTEsNnaLbuccSELhj+JyfxoA+W/2YdJ0/U/iddSajaxXL2WntPbiVd3lyeZGu8D1AY89s19duiSxtHIqujAqysMgg9QRXyP8O0f4Q/tGvo+uMYLacyWIuJOFeKQhonz0wSqZPbn0r66oA+LPHNsPhN+0DJcaBm3t7S6ivII04AjcBnj/AN3l1x6V61+0h41l0yXSPCs8txa6RqQ87UprMBp5Ig2PLUEgc45yeeO2QfPPFNkfi7+0zPZ6MPtFgk8cM06cqsEIUSvnpjIYD1yvrX1vNa29wwM8EcpHALoDj86APB9G/aU+Hnh/RrXStI0DW7aytIxHFEkEPAH/AG15J6k9ySa8q+N/xO0j4manpNzolrfWyWUMkcgvERSSzAjG1m9K+yf7Nsf+fO3/AO/S/wCFfMv7V1vDb694dEEMcQNtNkIoGfmX0oA9H+GHxu8PeK7zSvCmn2GpxXqWYUyzxxiPMcfzchye3HFeuVi+FLS2i8K6PJHbxJJ9hh+dUAP+rHetqgD5Z/ax/wCRv0H/AK8X/wDRhr6W0D/kW9M/69Iv/QBXzL+1dcQyeNtFgSRWlisCZEByVzIcZ9M4r6X8NTR3HhTSZoHWSN7KFldTkMNg5FAGnRRRQAUUUUAFFFFABRRRQAUUUUAFFFFABRRRQAV5trf/ACcd4X/7At3/AOhCvSa821v/AJOO8L/9gW7/APQhQB6TRRRQAUUUUAFFFFABRRRQAUUUUAFFFFABRRRQAUUUUAFFFFAHzb+1vbPu8K3IGUxdRk+h/dEf1/KvWfgtMJ/gx4adTkC02firsp/lWR+0D4On8XfC+d9PiMt9pUovYkUZZ1AIdR/wEk47lQKxf2YfE0Op/DeTQ2kH2rSLhx5ZPPlSEurf99Fx+HvQB61r8y23hrU53OFitJXJ9AEJr5T/AGW7Z5vivcyqPlg0uVmP1eMD+de9/HDxND4Z+Emsu8gW41CE2NumeXaQbTj6LuP4VxH7LvgyfSfDN/4mv4jHJqzLHahhg+Smct9GY/8AjoPegD3iiuC+I/xf0D4aTWdvq8N3d3V2pdILVFJVAcbiWIHXIH0NdJ4T8VaX408NW2uaHIz2lwDgSLtdGBwVYdiD/wDWyKAPC/iF8BvEGm+Mv+Es+FcqpMZ/tH2NZFieCXOSYy2FKnn5SRjOORwOi0nWvj7q8K2NxoGh6QSNr6ldEEr/ALQRZGyf+A4r2uvJ/it8ZbPwzby+H/Cj/wBqeKbr9xFDajzPszHjLY6v6J1zjPHUA8H07w5c+Iv2lItJfU59beHU1a8v5hzL5ODMeOFXKMqjsNor3T9ojxtqHhPwTa2elyNbPrEzW811HzJDEBltgyPmIOM5GOe/IX4F/CeXwJpc2s+IAG8QakuJATuNtHnOzPdicFj7Adsn1ea3huABPDHKB0DqDj86APnfwd8fvhx4I8L2uiaLomvLBAMvIYIN0zn7zsfN5J/TgDgCuQ+Nvxj0H4leH9NsdEstRt5bW6MztdxxqpBQjA2u3PNfWX9m2P8Az52//fpf8K8I/artbe38G6GYIIoib9gSiAZ/dn0oAPg58bvD0Oh+GfBDWGpnUTttPOEcfk72Y4Od+7HPpWn8ZPi3q2j+JrTwL4F2Lrd60cct0wDeQ0pARFB43HIJJzgEY5PHXfBe0tj8H/DUxt4vN+y537BuzubnNeEfFRZfBn7T9r4h1ON/sEl5aXySYzujUIr49wUbj6etAHq0/wCzd4T1Dw+IdUub+bXJCZbjWBOTJNK3LEq2V257YzjvnmvFvE/grx18BdZi1fRtUdtPlkCJe22Qkh6hJozkZ68HI9Dnp9i29xDd20VxaypNDMgeORGyrqRkEHuCK8z/AGiNTsLH4M6pb3zJ5188UNrG3VnEitkfRVJ/D3oAteDviF/wsH4OahrkcQg1CC2nhuYozwsyx5yuecEFSPTOOcZrwj9mHSdP1P4nXUmo2sVy9lp7T24lXd5cnmRrvA9QGPPbNes/s1+GLrSvhXPPqsLIusXLTxxOMZh2KgJH+1hj7jB715T8O0f4Q/tGvo+uMYLacyWIuJOFeKQhonz0wSqZPbn0oA+uHRJY2jkVXRgVZWGQQeoIr4u8c2w+E37QMlxoGbe3tLqK8gjTgCNwGeP/AHeXXHpX2nXyH4psj8Xf2mZ7PRh9osEnjhmnTlVghCiV89MZDAeuV9aAPYf2l5JE+Dc6pna97Ar49Mk/zArG/ZX0nT08AX+rLaxHUJNQeB7nb8/lqkZCZ7DLE4HrXo3xT8KyeNPhnrGjWoBupIhJbAnGZUYOo9sldv414/8Asr+I47X+3PCN8TBdib7XDDINrMQAkq4PcbU469fSgD3jxR4b0/xd4avdF1eFZbe6jK5K5MbY+V19GB5Br5X/AGcdYvNB+MZ0FnPk6jHNbzxg/LviVnDfUbGH/AjX1frus2fh3Qb3V9TkEVrZQtNIxPYDoPcngDuSK+Yf2a/DN7rvxHu/GFzEUtLES7ZMcPPKCNo9cKzE+mV9aAPpPxH4P0Lxb9h/4SLT0vlsJxcQJIzbQ/uoOGHscitlVCKFQBVUYAAwAK+b/ir8SPHWgfHi10fRr17ew3Wy21r5alLoSYDFsjJyxZevG3jBr6RoA+Vf2oPCVlofifSvEWlRrbSaoJBciIbQZY9pEnHchuf93PUmvf8A4Ya/ceJ/hhoOr3zF7me1Amc9XdCUZvxKk/jXhH7TOs/8JN460Lwnoam9vLNWDxQ/MTNMVCx/UBAf+BV9B+BfDp8JeA9H0J2DSWVqqSsvQydXI9txNAG/RRRQAUUUUAFFFFABRRRQAUUUUAFFFFABRRRQAUUUUAFFFFAHm3wy/wCR7+I3/YaT/wBFCvSa82+GX/I9/Eb/ALDSf+ihXpNABRRRQAUUUUAFFFFABXm3/N03/cmf+3tek1434r8Y6F4I/aSj1LxPffYbSXwkIEk8l5MubxmAwik9FbnGOKAPZKK82/4aD+GP/Qzf+SFz/wDG6P8AhoP4Y/8AQzf+SFz/APG6APSaK82/4aD+GP8A0M3/AJIXP/xuj/hoP4Y/9DN/5IXP/wAboA9Jorzb/hoP4Y/9DN/5IXP/AMbo/wCGg/hj/wBDN/5IXP8A8boA9Jorzb/hoP4Y/wDQzf8Akhc//G6P+Gg/hj/0M3/khc//ABugD0mivNv+Gg/hj/0M3/khc/8Axuj/AIaD+GP/AEM3/khc/wDxugD0mivNv+Gg/hj/ANDN/wCSFz/8bo/4aD+GP/Qzf+SFz/8AG6APSaK82/4aD+GP/Qzf+SFz/wDG6P8AhoP4Y/8AQzf+SFz/APG6APSaK82/4aD+GP8A0M3/AJIXP/xuj/hoP4Y/9DN/5IXP/wAboA9Jorzb/hoP4Y/9DN/5IXP/AMbo/wCGg/hj/wBDN/5IXP8A8boA9Jorzb/hoP4Y/wDQzf8Akhc//G6P+Gg/hj/0M3/khc//ABugD0mivNv+Gg/hj/0M3/khc/8Axuj/AIaD+GP/AEM3/khc/wDxugD0mvN/GHwT0jxvq1ze6z4i8SCO4YN9iivk+zx4AHyI0Zx0z9SaT/hoP4Y/9DN/5IXP/wAbo/4aD+GP/Qzf+SFz/wDG6AOb/wCGVPBH/QV8Qf8AgRB/8Zq8n7N/hyPTzYJ4m8ViyIwbYahGIz/wHysVrf8ADQfwx/6Gb/yQuf8A43R/w0H8Mf8AoZv/ACQuf/jdAFTSP2cvh5pUyyzWF1qTKcgXtySufdU2g/QjFenWdnbafZxWlhbxW1tCu2OGFAiIPQAcAV55/wANB/DH/oZv/JC5/wDjdH/DQfwx/wChm/8AJC5/+N0AV/iL8BvDvxA1ZtX+0z6VqcgAmmgUMk2BgFkPfAAyCPfNYvhj9mHwpo1/Hd61e3WtmM5WCRRFCT/tKMk/Tdj1Brov+Gg/hj/0M3/khc//ABuj/hoP4Y/9DN/5IXP/AMboAxPGn7NnhvxTrc2q6bfT6LNcHdNDDErwlu5C8bSe/OParvg/4WaJ8HLO+8SXOu6nepZWkryq5CwqgG5iIx1bjjmr3/DQfwx/6Gb/AMkLn/43VPWPjd8J9d0S90rUPEhe1vYHgmC2FyDtZSDg+XweaAPBfHPj2L4yeLrGx03wrY2V7d3EdpbXskrmchmCrvKkKRz3DY5wa9LX9kzS/KUN4pvPMwMkWq4z9N1eEaraaZ4X1+LUfBvi621QWs6zWsq2s8MyMrZUsrxhcggdGIr2PTf2tLiPT0TVvCkdxdquGlt70xo59dpRiv5mgDzj4ufCWf4XX+nj+0l1Gz1BZDDL5XlurJt3Ky5P99cHPPPArufg/wDFU+APg/q9zq8U19BBqKQabbhsbpHQsybjnao27jweW6c1yvinxnD8YPElreeMPEWn+GdNtFKQ2yW1zcvGrEFiNseGY4GSSo4HFdxreofBG++FMXgzS/FT2f2ab7VBeNp1y7tPggvJ+7G7IJBAxgYx0FAHEeHNCi+OnxOlitNLsfDUPlPd3slkHbIyBnazbdxZh0CjknBr0qX9kvTCh8nxVdo3YvaKw/LcK8T8LeLLz4XeMF1Xw1qtjqw2GGURxzLHPESCVIkRGHIByOhHevXpf2tmazxB4QVLkjAaTUNyKfXAjBI9uPrQB4d438J3Xgbxnf8Ah69nSeWzdcTRjAdWUOpx24YcdjX1Jonghviv8J/DNz4p1/X7Qtp4jmgsrwRx3IDEK8isrbmIAOT614Vpn/CJeMPGVx4m+KPje3iN1N5s1lY2V0zvjACbvLwigADgscDqDzX0Pa/Hn4VWVnDa2niFYbeCNY4o0065CooGAAPL6ACgDA/4ZU8Ef9BXxB/4EQf/ABmuwsPhPa6Z4Pm8OWfivxVHbSyrIs66iBNCFGPLRgmFQ91xVP8A4aD+GP8A0M3/AJIXP/xuj/hoP4Y/9DN/5IXP/wAboA5x/wBlfwVJIzyav4hd2JLM1zCST6n9zXX+B/hHpfgD7Wui67r0kF1A0Jt7m7QxRliD5iKqKA4xw3uap/8ADQfwx/6Gb/yQuf8A43R/w0H8Mf8AoZv/ACQuf/jdAGJqH7M3hXVr6S81XxD4ovbqTG+e5vYpHbtyxiJNX/DPwD8O+CtYh1fRvEPiS3a3dZZI/tsaxTKpztkCxjcvqM9M1c/4aD+GP/Qzf+SFz/8AG6Rv2gPhe6FX8ShlYYIOn3PI/wC/dAHg/wAW/jHpXxDuDY2Xha1lit2KWmo3LuLjBPVQhGAf7rbh+Ndvp37J1o+l276n4kuIr1owZkht1KI5HIBJyQOme9eL+M9D8I2eqTXPgrxdb39izlorea1uYpoh1C5aPa2PXIPtXqPhz9qvUbDSYbXxF4fTU7mJApu4bryTJjuylWGfUgj6UAct8W/gfL8M9HtdXttYGpWU9wLdg8PlPG5VmHchgQremOK6/wDZO1O//tfX9L3u2n+QlwVJ+VJd20EehK5z67R6Vyfjn4oyfGC4tLLWNR0/wro1rL5oikWe4dnxjcTHGdxAJAHyjk816f8ADfx38Gvhr4fbT9L8UNcXE7B7u8k065DTsBxx5fCjJwO2T1JJoA95orzb/hoP4Y/9DN/5IXP/AMbo/wCGg/hj/wBDN/5IXP8A8boA2/G/wx8LfECFR4gsM3KLtjvIG8uZB6bu49mBHtXk8/7J9tHeCbSPGV1aBTlPMshI6/8AAldf5V3v/DQfwx/6Gb/yQuf/AI3R/wANB/DH/oZv/JC5/wDjdAHOaN+zLoEN9Hd+Ktb1HxA8fSOQ+VG3seS2Powr2WxsbTTLGGy062itbWBQkUMKBVRR2AHSvPf+Gg/hj/0M3/khc/8Axuj/AIaD+GP/AEM3/khc/wDxugDH1T9mzw1rd39q1nxL4q1C427fOur+OV8emWiJxSaZ+zT4X0a+W80jxF4osblOFmtr6KNwPTKxA1s/8NB/DH/oZv8AyQuf/jdH/DQfwx/6Gb/yQuf/AI3QBs/EP4Z6D8SdLittbWWKe3JNtdwECSLPUcggqcDIPp2rzLTv2UNBhvFk1PxDf3cAOfKihSIn2LfN+gFdp/w0H8Mf+hm/8kLn/wCN0f8ADQfwx/6Gb/yQuf8A43QBW8Wfs/eDfEmj2NlYwPoslhGY4JrQAllJziQNnfySck5yTzWL4V/Zo0vw5rMOoTeJtTuDDIsgjt1W3VypyA3LEj24ro/+Gg/hj/0M3/khc/8Axuj/AIaD+GP/AEM3/khc/wDxugBviP4EeE/FnibWNc1tr2W61NYwPLlCfZiiBNyYHJIUZ3ZHtVeL4W+NtPs/7P0f4salBYAbUjudOjnlVfQSlgw/DFWv+Gg/hj/0M3/khc//ABuj/hoP4Y/9DN/5IXP/AMboAreCfgH4Z8Jawus3s9zrurK/mrcXpG1HzneEHVs85YnnkYNdT498AaZ8RNJstO1qWeO3tb1LvEJAMm1WXYSR0IY9Oa5//hoP4Y/9DN/5IXP/AMbo/wCGg/hj/wBDN/5IXP8A8boAowfBB/Dl9NcfDnxjqnhlJ23SWpRbuDPsjkfmST71SvfgBJ4o1qHUfiH411LxC0I2pFHbpaoB1wACwAPfbg+9bf8Aw0H8Mf8AoZv/ACQuf/jdH/DQfwx/6Gb/AMkLn/43QB29joGn6T4dXRNGh/s2yjhMMS2p2tECD8yn+9znJyc8mvLtR/Zn8L6veteat4i8UX1y4w01zfRSOfqzRE1tf8NB/DH/AKGb/wAkLn/43R/w0H8Mf+hm/wDJC5/+N0AZmhfs5+GvDerQ6jo3iDxNazxOrZivY03gHO1tsQJU45FX/F/wM0Xxvq819rviLxLIHkMkdqL1DBBntGjRnaKk/wCGg/hj/wBDN/5IXP8A8bo/4aD+GP8A0M3/AJIXP/xugDnof2WvBlvMk1vrPiKKVDuR0uoVZT6giLiu5X4dovgo+Gx4r8T7DN5v9of2iPtYH/PPzNv3PbFY/wDw0H8Mf+hm/wDJC5/+N0f8NB/DH/oZv/JC5/8AjdAHOP8Asr+CpJGeTV/ELOxyzNcwkk+v+prrPAnwe0j4eakbrQ9b16WJkZWs7q7RrdicfMUVFywxwarf8NB/DH/oZv8AyQuf/jdH/DQfwx/6Gb/yQuf/AI3QB2fiXwto3i/R30vxFYR3tqxyFfIKN/eVhyp9wa8Z1L9lDw/PcM+leIdQs4yciOaJJsewI212f/DQfwx/6Gb/AMkLn/43R/w0H8Mf+hm/8kLn/wCN0AYPhj9mTwhol4l1rFzda48ZysM+I4SfdF5P0LY9RXpviPwzF4h8P/2RHqWo6NCCu2XSJxbyKq/wA4OF9sVyH/DQfwx/6Gb/AMkLn/43R/w0H8Mf+hm/8kLn/wCN0Ac4/wCyv4KkkZ5NX8Qu7Elma5hJJ9T+5ro/B/wS0jwRqtveaJ4j8SiOFy5spL5Ps8xxj50WMbv/AKwo/wCGg/hj/wBDN/5IXP8A8bo/4aD+GP8A0M3/AJIXP/xugD0mivNv+Gg/hj/0M3/khc//ABuj/hoP4Y/9DN/5IXP/AMboA9Jorzb/AIaD+GP/AEM3/khc/wDxuj/hoP4Y/wDQzf8Akhc//G6APSaK82/4aD+GP/Qzf+SFz/8AG6P+Gg/hj/0M3/khc/8AxugD0mivNv8AhoP4Y/8AQzf+SFz/APG6P+Gg/hj/ANDN/wCSFz/8boA9Jorzb/hoP4Y/9DN/5IXP/wAbo/4aD+GP/Qzf+SFz/wDG6APSaK82/wCGg/hj/wBDN/5IXP8A8bo/4aD+GP8A0M3/AJIXP/xugD0mivNv+Gg/hj/0M3/khc//ABuj/hoP4Y/9DN/5IXP/AMboA9Jorzb/AIaD+GP/AEM3/khc/wDxuj/hoP4Y/wDQzf8Akhc//G6APSaK82/4aD+GP/Qzf+SFz/8AG6P+Gg/hj/0M3/khc/8AxugD0mivNv8AhoP4Y/8AQzf+SFz/APG6P+Gg/hj/ANDN/wCSFz/8boA9Jorzb/hoP4Y/9DN/5IXP/wAbo/4aD+GP/Qzf+SFz/wDG6APSaK82/wCGg/hj/wBDN/5IXP8A8bo/4aD+GP8A0M3/AJIXP/xugA+E3/Ie+IP/AGM0/wD6Ctek14D8PvjB4F0DV/GMura59nTU9clvLQ/ZJ28yFlXa3yocZx0OD7V2v/DQfwx/6Gb/AMkLn/43QB6TRXm3/DQfwx/6Gb/yQuf/AI3R/wANB/DH/oZv/JC5/wDjdAHpNFebf8NB/DH/AKGb/wAkLn/43R/w0H8Mf+hm/wDJC5/+N0Aek0V5t/w0H8Mf+hm/8kLn/wCN0f8ADQfwx/6Gb/yQuf8A43QB6TRXm3/DQfwx/wChm/8AJC5/+N0f8NB/DH/oZv8AyQuf/jdAHpNFebf8NB/DH/oZv/JC5/8AjdH/AA0H8Mf+hm/8kLn/AON0Aek0V5t/w0H8Mf8AoZv/ACQuf/jdH/DQfwx/6Gb/AMkLn/43QB6TRXm3/DQfwx/6Gb/yQuf/AI3R/wANB/DH/oZv/JC5/wDjdADNT+CWlr4obxH4N1a+8K6rISZGsQrQyZ5OYm45PbO32qJ/glBrut2+p/ELxLqPil7X/U20yJb26/WNPoM4IzjnNWP+Gg/hj/0M3/khc/8Axuj/AIaD+GP/AEM3/khc/wDxugD0aKKOCFIYI1jijUKiIuFUDgAAdBXif7QfgTwbLod54v1mW6ttYWEW9qttKqi7mxiNWVlOcd8YO0Hnium/4aD+GP8A0M3/AJIXP/xuuMm8c/CPUfiGfFev+NbnVntyp02xuLC48ixOBllURfM2RkE9OOpANAHp3wq0O78N/CvQNL1JSl1DbbpUbrGzsX2n3G7H4VH448AT+Nri1B8Uaxo9jGjJPa6dN5YuMnqx9uRyDWR/w0H8Mf8AoZv/ACQuf/jdH/DQfwx/6Gb/AMkLn/43QBt+Dfhf4T8CDfoGlot2Rhryc+ZM3r8x+7n0XArrq82/4aD+GP8A0M3/AJIXP/xuj/hoP4Y/9DN/5IXP/wAboA7rW9D0zxJo8+l65ZxXtlOMSQyjg+hB6gjsRyK88tvg3qOhRm28GfEDXNGsMkpZyBLmOLPZN2Noqz/w0H8Mf+hm/wDJC5/+N0f8NB/DH/oZv/JC5/8AjdAEWj/AvQ4fEA17xZqWoeK9UUgrJqbgxrjphB2HoSR7V6dXm3/DQfwx/wChm/8AJC5/+N0f8NB/DH/oZv8AyQuf/jdAHbeIvDmk+K9Em0nX7OO8s5vvI/BB7MpHKkeo5rz/AEz4Pav4ZtJNP8IfEPV9L0t2JFpLbxXHl567GYDb+AHrVr/hoP4Y/wDQzf8Akhc//G6P+Gg/hj/0M3/khc//ABugDQ8DfCXw/wCBr2bU4Dc6nrNwWM2p37+ZKS3LY7Lnuep7k13Nebf8NB/DH/oZv/JC5/8AjdH/AA0H8Mf+hm/8kLn/AON0Abnjv4aeHPiJYpD4gtWE8IIgvIG2TRZ7A4II9iCK5T/hTevvpv8AZEvxP15tJ2+WbcIokKdNvm5zjHGOmO1X/wDhoP4Y/wDQzf8Akhc//G6P+Gg/hj/0M3/khc//ABugDo/BPw+8PfD/AExrPw5Z+W0mDPcytvmmI6bm/oMAeldNXm3/AA0H8Mf+hm/8kLn/AON0f8NB/DH/AKGb/wAkLn/43QB6TXB/EP4RaD8S7yyuddu9St3so2jjFnLGoIYgnO5G9PaqX/DQfwx/6Gb/AMkLn/43R/w0H8Mf+hm/8kLn/wCN0Aeg2FnHp2m21lAWaO2iWJC5yxCgAZx34rE8X+Dx4ugtom8Qa7oqwFiTo959nMu7HD/KcgY4+prmf+Gg/hj/ANDN/wCSFz/8bo/4aD+GP/Qzf+SFz/8AG6AOfn/Zc8HXVw891rXiOaaQ5eSS7hZmPqSYua2tA+BemeGZYDo3i/xfbQwyCT7NHqaLC+DnDIsYBB7ipv8AhoP4Y/8AQzf+SFz/APG6P+Gg/hj/ANDN/wCSFz/8boA9Jorzb/hoP4Y/9DN/5IXP/wAbo/4aD+GP/Qzf+SFz/wDG6APSaK82/wCGg/hj/wBDN/5IXP8A8bo/4aD+GP8A0M3/AJIXP/xugD0mivNv+Gg/hj/0M3/khc//ABuj/hoP4Y/9DN/5IXP/AMboA9Jorzb/AIaD+GP/AEM3/khc/wDxuj/hoP4Y/wDQzf8Akhc//G6APSaK82/4aD+GP/Qzf+SFz/8AG6P+Gg/hj/0M3/khc/8AxugD0mivNv8AhoP4Y/8AQzf+SFz/APG6P+Gg/hj/ANDN/wCSFz/8boA9Jorzb/hoP4Y/9DN/5IXP/wAbo/4aD+GP/Qzf+SFz/wDG6APSa821v/k47wv/ANgW7/8AQhR/w0H8Mf8AoZv/ACQuf/jdcXqnxe8D3Xxo0LxDBre7SrPTLmCe4+yTjY7MMDaU3Hr1AxQB77RXm3/DQfwx/wChm/8AJC5/+N0f8NB/DH/oZv8AyQuf/jdAHpNFebf8NB/DH/oZv/JC5/8AjdH/AA0H8Mf+hm/8kLn/AON0Aek0V5t/w0H8Mf8AoZv/ACQuf/jdH/DQfwx/6Gb/AMkLn/43QB6TRXm3/DQfwx/6Gb/yQuf/AI3R/wANB/DH/oZv/JC5/wDjdAHpNFebf8NB/DH/AKGb/wAkLn/43R/w0H8Mf+hm/wDJC5/+N0Aek0V5t/w0H8Mf+hm/8kLn/wCN0f8ADQfwx/6Gb/yQuf8A43QB6TRXm3/DQfwx/wChm/8AJC5/+N0f8NB/DH/oZv8AyQuf/jdAHpNFebf8NB/DH/oZv/JC5/8AjdH/AA0H8Mf+hm/8kLn/AON0Aek0V5t/w0H8Mf8AoZv/ACQuf/jdH/DQfwx/6Gb/AMkLn/43QB6TXmep/BLS18UN4j8G6tfeFdVkJMjWIVoZM8nMTccntnb7U/8A4aD+GP8A0M3/AJIXP/xuj/hoP4Y/9DN/5IXP/wAboArv8EoNd1u31P4heJdR8Uva/wCptpkS3t1+safQZwRnHOa9OiijghSGCNY4o1CoiLhVA4AAHQV5z/w0H8Mf+hm/8kLn/wCN0f8ADQfwx/6Gb/yQuf8A43QA34zeBfBviDw+2v8AjOa6sxpMDFbi0mVJHU8iP5lYHLcAYzk+9Qfs76DeaF8IbQ6gjRvf3El5HG/VY2ChfzC7vo1cr4l8dfCPxh4sstT8ReNrq80yxQNDorWFwLczAn94+IstwQMH064JFdmP2gfhgqgL4lwBwANPueP/ACHQBr+OPAE/ja4tQfFGsaPYxoyT2unTeWLjJ6sfbkcg1J4N+F/hPwIN+gaWi3ZGGvJz5kzevzH7ufRcCsT/AIaD+GP/AEM3/khc/wDxuj/hoP4Y/wDQzf8Akhc//G6APSaK82/4aD+GP/Qzf+SFz/8AG6P+Gg/hj/0M3/khc/8AxugD0muR+IXw30j4laXaWOu3N9bxWsxmQ2ciKxYqRzuVuOaxP+Gg/hj/ANDN/wCSFz/8bo/4aD+GP/Qzf+SFz/8AG6AO08MeHrTwn4ZsdC06SaW1sY/LjedgXIyTyQAO/oKqeMfA+g+PNH/s7xHZieNSWilU7ZIW9Ubt9Oh7g1y3/DQfwx/6Gb/yQuf/AI3R/wANB/DH/oZv/JC5/wDjdAGZpPwc8T+FoTZ+D/idqOn6eCfLtbrT47oRj23MAPwAq7Z/BGwvdci1jx9ruoeLr2D/AFSXuI7dO/ES8Yz2zg9wam/4aD+GP/Qzf+SFz/8AG6P+Gg/hj/0M3/khc/8AxugD0hVVFCoAqqMAAYAFcn47+Gnhz4iWKQ+ILVhPCCILyBtk0WewOCCPYgisP/hoP4Y/9DN/5IXP/wAbo/4aD+GP/Qzf+SFz/wDG6AKH/Cm9ffTf7Il+J+vNpO3yzbhFEhTpt83OcY4x0x2rsvBPw+8PfD/TGs/Dln5bSYM9zK2+aYjpub+gwB6Vzn/DQfwx/wChm/8AJC5/+N0f8NB/DH/oZv8AyQuf/jdAHpNedeMPgt4f8U66uv2NxeaDrqNvF/pr7Czf3mXufcYJ7k1H/wANB/DH/oZv/JC5/wDjdH/DQfwx/wChm/8AJC5/+N0AULz4JXniLyYfHHj3WtcsImDCzVUt0YjpuxnP16+9elaNouneHtIg0vRbOKzsrddscMQwB7+pJ6knk1wn/DQfwx/6Gb/yQuf/AI3R/wANB/DH/oZv/JC5/wDjdAHR+Nfh74e8fWMdv4gtC0sJzb3ULbJoD/st/Q5HtXK/8Kq8UxQfZLX4qa+lnjaFkjR5Qvp5uQ2fep/+Gg/hj/0M3/khc/8Axuj/AIaD+GP/AEM3/khc/wDxugC/4G+EXhnwJdPf2Mc9/q0ufM1G/fzJeeuOAFzk8gZPcmu6rzb/AIaD+GP/AEM3/khc/wDxuj/hoP4Y/wDQzf8Akhc//G6APSaK82/4aD+GP/Qzf+SFz/8AG6P+Gg/hj/0M3/khc/8AxugD0mivNv8AhoP4Y/8AQzf+SFz/APG6P+Gg/hj/ANDN/wCSFz/8boA9Jorzb/hoP4Y/9DN/5IXP/wAbo/4aD+GP/Qzf+SFz/wDG6APSaK82/wCGg/hj/wBDN/5IXP8A8bo/4aD+GP8A0M3/AJIXP/xugD0mivNv+Gg/hj/0M3/khc//ABuj/hoP4Y/9DN/5IXP/AMboA9Jorzb/AIaD+GP/AEM3/khc/wDxuj/hoP4Y/wDQzf8Akhc//G6APSaK82/4aD+GP/Qzf+SFz/8AG6P+Gg/hj/0M3/khc/8AxugD0mivNv8AhoP4Y/8AQzf+SFz/APG6P+Gg/hj/ANDN/wCSFz/8boA9Jorzb/hoP4Y/9DN/5IXP/wAbo/4aD+GP/Qzf+SFz/wDG6AD4Zf8AI9/Eb/sNJ/6KFek15T8GtXsde8SePNU0mbz7K71WOWGXYy71MQwcMAR+Ir1agAooooAKKKKACiiigArzfc3/AA1Jtydv/CG5xnjP22vSK82/5um/7kz/ANvaAPSaKKKACiiigAooooAKKKKACiiigAoqnrFhJqmi3djDez2ElxE0a3Vs2JISRjcp9RXyv8XoviB8LtTsI1+IWs6jaagkjQubmSN1KFdykbiP415+vAoA+tKK+RPhBf8AjL4l+LrrR73x94gsUgsHuhJDdsxJEka4wT0+c/lXT/Evwv8AE/4daK2vaX8QdV1fToXUTiWRlkhycAkEsGXJAzx1HHegD6Uor5M8B/tLeI9M1WC28aSJqumSOFkn8pUnhH94bQAwHUgjJ9a+sY5EljWSNg6OAysDkEHvQA6iiigAooooAKKKKACiiigApk00dvBJNO4SKNS7s3RQBkmn0jKroVdQysMEEZBFAHDS/Gr4dQ/f8V2R/wBwO/8AJTVrw78V/BXizW10jw9ra3l86M6xLbyrlV6ncyAfrXlX7S/gXw7p/gu18QaXpdtYX63yQO9rEIxKjKxO4LgE5Uc9etec/s1/8lntP+vSf/0GgD7LooooAKKKKACiiigAooooAKKKKACiiigAoqnrFhJqmi3djDez2ElxE0a3Vs2JISRjcp9RXyv8XovH/wALtTsI0+IWs6jaagkjQubmSN0KFdykbiD95efrxQB9aUV8ifB+/wDGPxK8X3Wj33j7xBZRwWL3Qkhu2YkiSNccnp85/KvYp/g74naM/Zviz4mR8cGRywH4BxQB6zRXyUt/8SvBvxt8P+G/E3ifVbiGbVbUBvtkjRXcDTKM4J5BGQQfcV9a0AFFFFABRRRQAUUUUAFFFFABRRRQAUUUUAFFFQ3tz9jsLi5K7xDE0m3OM4GcfpQBNRXzqv7WtqzAf8IhNycf8hAf/G6+iqACiiigAorzH4u/Gaw+G1qtlZxJf67Om6K2ZvkhXs8mOceijk+3WvIfAun/ABB+O2qXV7rnim+sNDtn2Sm2Yxoz9fLjjXCkgYyxzjI65oA+rKK8Zuv2ctOt7Qv4b8W+ItO1FR+7uHuw67vcKFP5EV47rvjz4peFvE1v4R8R+IbxGsrxCZI3w06EjB80AM6Ec8nvzyMAA+ntc+Jvgzw3qc2na54htLS8g2+ZA5JdMqGGQAeoIP41m2nxt+Hl9qltp1n4jjmuruZIIUS2mO52IVRnZgZJHJOKz/jd4L0HW/hxrmq3em2/9p2dq1xDepGFmDIMgFhyQQMYPH5CvkjwD/yUnw1/2FrX/wBHLQB+gdFFFABRRRQAUUUUAFFFFABRRRQAVl+IfEuj+FNJbUvEOoQ2FopC+ZKfvMewA5Y9eACeK1K8M/aY8FeIfE+kaNf+H7We/i05pRcWlupZ/n24cKOWxtIOORn0zQB6l4U8e+GPG8cz+F9XhvzBjzECsjoD0JRwGx74xXQ18s/s5eAPFNj4/wD7f1HTrvS9Ot7eSNzdRNEbgsMBQrYJAPzZ6fKO9fUrMEUsxCqBkknoKAK2papYaPYSXurXkFlax/fmuJAiL+J4rhpPj18NIrjyG8URF84ytrOy/wDfQTH618wfE74g3/xO8eFRcOmkx3Hkafb5+VULbfMI/vN1J/DoK9X+MX7P15qV9Zan8O7CAhLdLa4sBIkR+QbVkUsQp+UAHJB4B5yaAPYtT+Jng3R9Attav/ENmun3ZIt5o2MvmkddqoCxx34471o+GvFuheMdNN/4a1KHULdW2s0eQyH0ZSAyn6gV8d+JPgb498OaFZXtzpkt6kpYyW1iTO1q2f4gueoHVcjjk9K9X/Zl8DeJPD91q2s63Z3Gm2d1AsEVvcoY3lYNnfsPIAGQCeu44oA+haKKKACiiigAooooAKKKKACiiigAooooAKKKKACiiigAooooA83+E5J174g5OceJpwP++Vr0ivNvhN/yHviD/wBjNP8A+grXpNABRRRQAUUUUAFFFFABRRRQAUUUUAFFFFABRRWR4q8SWPhDwvfa7qrEW1lEXYDq56Ko9ySAPrQBr0V86/D211/48atqGv8AjLU7y28OWs3k2+lWM7QxSPjJUlcEhQRk9SW4IAxV34m+C9R+FWkp4w+GWq6hYwWcii+06W5eeFkY4D7XJzyQCDnrkYxQB77RXIfDLx9bfEXwXBrMCLDcqxhvLcHPlSgDIHsQQR7H1Brr6ACiivnTX/iN4h+K/wAT18D+AdSk0nR43YXWo25xJKiffcMOQvZQCM5GTg4AB9F0V5LqH7P2jDSnOga5rlhrSLmLUWv3Zi/YuBjjP93BrA+DHxb1m48U3HgHx/IZNVt3kit7p8b3ePO6Jz3OASG745ySKAPeaKKa7pFG0kjKiKCzMxwAB1JNADqK+RPjT8Y9V8Ta1Hb+Fry7sdAtZHSG5t3aL7bIuAz7hjKjIAHvk9cD6o8NO8vhTSZJGZ3ayhZmY5JJQZJNAGnRXiXxu+MGoeGtSg8IeC8Nrt0EEs4UMYN/CIoPG9sg5PQEdzxo6X8A9OudJSXxlrmtarrcqbp7sag4EbnqEHoPU5z7dKAPXKK+arfxz4l+B/xOXwv4s1S41rw1cbXguLol5IoWJAdWPPykEMvT5TgDIr6UR1kRXjYMrDKsDkEetAC0VheMPGOj+BvDs2sa/ceVAnyoijLzP2RB3J/IdTgCvItI1L4nfGhjfWF8fBfhRmIjkgBNxcAHqrcMfTcCq/72DQB71RXM+CfA1p4Hsbm3tNS1PUXupBLNNqNx5rlgMZBwMVP438XWfgbwffa/qCmSO2QbIlODLIThUH1JHPYZPagDfor58+H2j+IvjfFdeJvHOvX9toonaKz0nTZjBG+OpOOqjOMnLE55AHNv4g/Ci68D+HLnxR8NNe1fTbnTUM89o140kcsS8see4GSQ2QQOlAHvFFecfBX4lyfEjwjLLqKJHq2nyCG7EYwsmRlZAO2cHj1U9sVyHxy+L+oeH/EFt4O8M3Q0+5mEbXupbdzW6ueFQHvj5ifQjGDyAD3aivLn+Afhy6s8apq/iC+v2X5tQl1JzIW9QPu/gQa8p8O+PvEnwj+L83g3xFq8+r6It0kDG6cs0SSAFJVJyVwGUlc4698GgD6nooooAKKKKACiiigAooooAKKKKACiiigAooooAK821s/8ZHeGB2/sa7/9CFek15trf/Jx3hf/ALAt3/6EKAPSaKKKACiiigAooooAKKKKACiiigAooooAKKKKACiiigAooooAKKyPFXiSx8IeF77XdVYi2soi7AdXPRVHuSQB9a8M+Htrr/x41bUNf8ZaneW3hy1m8m30qxnaGKR8ZKkrgkKCMnqS3BAGKAPoqivAvib4L1H4VaSnjD4ZarqFjBZyKL7Tpbl54WRjgPtcnPJAIOeuRjFenfDLx9bfEXwXBrMCLDcqxhvLcHPlSgDIHsQQR7H1BoA6+iiigAor501/4jeIfiv8T18D+AdSk0nR43YXWo25xJKiffcMOQvZQCM5GTg4HY6h+z9ow0pzoGua5Ya0i5i1Fr92Yv2LgY4z/dwaAPWqK8G+DHxb1m48U3HgHx/IZNVt3kit7p8b3ePO6Jz3OASG745ySK95oAKKK+Y/j58Yb28uZPD3g66nhsLKcR3+o2zlfMm5IiVx2GDn1I9ByAfTlFcX8H7qe8+EPh24vJ5LieS1y8srlmY7jySeTXj/AMYNT+IF98bh4c8B6nqqvJZRSLa2l00SL13OeQqjpkn2oA+lKK+X4/h7+0A65bxHeRn0bWj/AEJpZPh98fIo2kl8U3CIgLMza0wCgdSTmgD6forwb9nCbxfrsmq6/wCJNf1DUNNQfY7WO5uGkSSTIZpAG9AAAf8AaPpWbr/xG8Q/Ff4nr4H8A6lJpOjxuwutRtziSVE++4YcheygEZyMnBwAD6LoryXUP2ftGGlOdA1zXLDWkXMWotfuzF+xcDHGf7uDWB8GPi3rNx4puPAPj+QyarbvJFb3T43u8ed0TnucAkN3xzkkUAe80Vm+ItesfC/h291rVpDHaWURlkI6n0Ue5OAPcivAvBs/if8AaA8R6hf65q17o/hWxcIthp0xj81jyELD7xA5Zj6jAGeAD6Porwnx98J7rwR4dn8TfDDW9X06801DPPatdtJHPGvLHDdSBzg5BA6V1vwX+KQ+JPhqX7ekcOs6eVS7ROFkB+7Io7A4II7EehFAHpNFYniu58R2mkpJ4P0+zv74zANFeTGJBHg5OR3zt49zXz58avGHxY0vRIYPEC6dounagzQ7NLlLSSgDJVnJJAwe2M9DQB9PUVxHwaDD4N+Gy7Fma03Ek5JyxP8AWu3oAKKKKACiiigAooooAKKKKACiiigAooooAKKKKACiiigAooooA82+GR/4rv4i+2srj/v2K9Jrzb4Zf8j38Rv+w0n/AKKFek0AFFFFABRRRQAUUUUAFebf83Tf9yZ/7e16TXm3/N03/cmf+3tAHpNFFFABRRRQAUUUUAFFFFABRRRQAV81/tcf63wl/u3n/tGvpSvmv9rj/W+Ev928/wDaNAHO/sqf8lT1L/sCy/8Ao+CvefjdqNtp3wa8QtdsoE9v9njU/wATuwCge/f8DXy98Fh4uHirVJfh/LapqkOkyyNHcpu86MSR5Rc8bi23GcDjrWF40+IHivxrdKnivUpp/szkJa7BEkTdD8igDd1GTzQBg6Xpl5rWrWum6ZA093dSrFFGo5ZicCv0O0qyOm6NZWJfeba3jhLf3tqgZ/SvL/gN4e8BDwnb6/4Rsy2oOvlXc13IJbiCTHzJnACjv8oGQRmvW6APLfiR8evD3gC/k0qGCXV9XjAMlvC4RIcjIDuQcHB6AH3xWMPiR8VbnwT/AMJfY+E9DfSmgNysQunkn8oDJbAIHA5x19q574h/s36v4g8b6lruj63p8NpfTNcyrel1aEnlsFVIIzkjpxx2zXVWPjrwL8NPh7aeEH8Qrrt7bWzwGLTo/PeV2LFh8uVXliMFulAGf8P/ANpbTvE2uW2j+I9K/sme6cRQ3Mc3mRM54CsCAVyeM8jnnFev+I9TvdH8P3V/pmlTaxdQhTHZQOEeXLAHBPoCT+FfngjtG6ujFWU5Ug8g1+j8LF4I2b7zKCfrigD541L9qufTryazn8CzW9zCxSSK51Ao6MOoK+VkGt6z/aS0p/A8WqXWls+tXM8kVvo9pN5jsFx87Nt+VTnHQk44B5x4x+0Wir8btWKqAWitycDqfJWvZP2XtE06D4dz6zHaR/2jcXkkUlyRl9ihcKD2HJOB1oA4t/2rPEUGostz4XsEiVsNA0kiyD23Hv8A8Br3r4e+P9L+I3hhdX0lXhZX8q4tpCC8EgGcE9xggg9x6HIHgf7WGnW0HinQb+KJUuLq1kjmcDBcIy7c+p+cj8q0P2SZn+0eKoNx8vbavt9DmUZoA978V+LdH8FaBLrHiC6FvbR/KoAy8rHoiL3Y/wD1zgAmvELX9o3xR4t8TLpPgDwbDcu+SiXUpZyo/iYgqqD6kj3rhv2lvE9zq/xRk0YyN9j0eFI44wflMjoHdvr8yr/wGvQf2UNEgj8M63rpQG4nvBZq5HKoiK5A+pkGf90elAHN/HLxz4pvPB0Hhzxx4S/sW7kukuYLqC5E0MwQMGAxnBG4cZJ9hXM/s1/8lntP+vSf/wBBr2T9qOKN/hPbyMil49Ti2sRyuUkzivG/2a/+Sz2n/XpP/wCg0AfZZOBk14l43/aW0PQdSfTPC1g2v3aNsaZZNkAbphSAS/PoAPQmtr9ojxRc+GvhPOlhI0VxqlwtjvU4Koysz4+qoV/4FXzP8GNNi1b4y+G7adQ6C688qRwTGjSD9UFAH0RqPjn4waN4bfX9Q8F6ObOKPzpraK4c3EUeMkkbiOB1xkj04q18Ov2gvDvji/i0u/gfRdVmO2KKaQPFM391ZMD5vYgegya9YdFkjZJFDIwIZWGQR6V+eGv2f9jeK9TsrdmQWV7LChB5GxyBz+FAH3j4z8Qal4a0H+0NH8PXXiCYShWtLVwrqmCS/Q5wQBgDPNeG3P7WrxyNHH4KKMpIPm6lyD6EeVXsXwq8ST+LfhboesXrb7qaAxzuervGxjZj9Sufxr43+KaKnxa8UBFCj+1JzgD/AGzQB9FX/wC0hYQeFdNn03R5NT169t/Ol062lLJaDJHzuFznjO0DOOuMgni7H9rDWU1Bf7V8N2L2u7DrbyukgHsWyCfbAr1j4B6Lp2l/CDR7qxtY4ri/jaa5mA+aVt7AZPsAAB2r5y/aF0+20/406qLSJYlnSGd1UYG9oxuP4kZPuTQB9Ea/8efCuleFtO1TTTLq13qke+0023/1xwSD5nXZggjvkg4Bwa8qk/as8RQaky3HhewjhVsNA0kiyD23Hv8A8Brrv2WNE06PwHfa0LSM6jNfvbtckZcRqiEKD2GWJ469+gri/wBq7T7aDxlot9DEqT3Vm6zMoxv2N8pPqcNjPoB6UAfQPw+8e6Z8RPC0es6UrxEOYri2kILQSAAlSR1GCCD3B7HIHUV83/skTOU8VwliY1No4X0J84E/oPyr6QoAK+a/2uP9b4S/3bz/ANo19KV81/tcf63wl/u3n/tGgDnf2VP+Sp6l/wBgWX/0fBX0h8Q/GEXgXwJqOvSeW0sEe22ikPEszcIvHJ55OOwNfJ/wG8P6n4j8d3tpoviK68PTpprytdWsYdnUSxAoQSOCWB/4CK6342/CzxhpPh9de1Lxfd+J7C0cCWO5Vka23HaHC7ipGSASMHkdugB7lF4e0z4k6B4L8Ua7AYtQtEttVgNs20JIypIU5ySm4DjrwOa0vHHj/Qfh9ow1DxDclPMJWC3iG6Wdh1Cr/MnAGRk8il+HH/JLPCn/AGBbP/0QlfH3xr8UXPij4say88jNb2Fw9jbJnhEjYqcfVgzfjQB7j4b+NXjf4i6ncw+AfB9ilra48241G6YquemSuOTjoM1FqXx/8Q+BvEw0f4j+EI7clQ4n064yGQ/xoGyGHB/iHSug/Zr02Ky+DVrcxqA9/dTzyNjkkP5Y/SOuW/ay02J/DegaptHnQ3clvu7lXTdj84/1oA9r8MeKdI8YaHFq/h+8W6tJOMjhkYdVZTyrD0P8q8x8efHnUvAWszWepeAr3yPOeO2vJbwRx3KqcBlIjYcjBxnIzXkv7M3ie50r4nLogkY2esQujxk8CSNC6t9cKw/4FXrX7USK3wlgLKCV1SEqSOnySUAZXhL9p2z13Xmt9c0aHRdOjt5JpLprwyldoyAF2DJJ4AHOTWHr/wC1RqlrrTRaV4Xjhs1IIGoM4mkU8hsDAXIOf4vrXn/7Pmm2ep/GTTY9Qto7mOKKWZEkXIDqhKtj1B5HvXpnxh+AniPxb8QLnxF4bntJor9Y/NhuJTG0TKipxwQVIUH168UAezeAvGln4+8G2mv2ETQLNuWWB2yYZFOGXPf1B7gjp0rznxh+0bpmm68NB8F6Y/iLUWlEAkWTZCZCcBUIBLnPHGB6E1j+NbC6+C37NaaDa3gk1LU7r7PcXMOQAZAzSbe+NibM9ec8dvD/AITapY6J8UtG1PVYLie1tXkkaO2hMshYRttIUdcNg/hQB794u+LPxM+H1rZ6h4r8JaObG6fZm0uXJR8Z2M2SAcA9iODXa/DP4v6F8S4ZIrJJLHVIE3zWMzAnb03Iw+8uTjoCO4GRnzv4wfEjR/HHw2vtF0nR9ee+kkikgMumOqgrICee3y7q8g+FFp4g0P4seHLuPTL+FWv44JXa3cKI5G2Nk46YY0AfVnxI+Keh/DTTopNUEl1e3IP2ayhI3yAdWJPCr7/kDXDeGfil8UvHVg+q+FvBWlrpm8rG93dkGQjqFOVzjpnGM15j+1BZ3sPxVhurkMbW4sIxbOfu4UsGUe4Y5x/tD1pvwr/aAufAOgxeH9U0kajpkLs0LwyeXLEGYsw5BDDJJ7detAHol9+0D4k0rxDp/hzXvBq6Rq0t9DFOZ5jJG0LttZkxjnOMEFhwa7H4n+OvEnhqeXTtF8D3mu2M2nmSW/hlZUhJLqVICN0Chuo+9XP3Wu/D/wCPS6XbWWqtpmt6fdLc2yXMIWfA5ZBztYHAJCsSNoNeseJP+RV1b/rym/8AQDQB+d6nawPoc19k6L8VfHGpa9YWN98KdTsLa5uI4pruSdysCMwBcjyhwAc9R0r41r9I6ACq2pX8OlaTd6hdHEFpA88hHZVUsf0FWa5j4mJI/wAKvFKw53HSbnp3HlNn9KAPhXxHr174n8SX2tam5e5vZmlfnIXPRR7AYA9gK+1vgro0WifB3w9DGgDXNqLuQ45ZpfnyfwYD6AV8L19//DmRJfhd4WaP7v8AZFqBjtiFRigDpK8c+Pnw1v8AxhFouseHLH7VqthcCKVFZVLwE7s5JGdrDgf7Zr2OigDkvit/ySPxR/2DJ/8A0A18U+Af+Sk+Gv8AsLWv/o5a+1vit/ySPxR/2DJ//QDXxT4B/wCSk+Gv+wta/wDo5aAP0Cd1jRnkYKqjLMxwAPWvDfEn7TOmQ60mj+CtKOtXEkwgS6nmEEDOTgbcjJGT1O0d+le0arp8eraNe6dOzJFeW8kDsnUB1Kkj35r5hX9mTUNF1aO917xZpFnosEwZ7pmaOTaDnowCqcD+8ce9AHceMvin8T/h9Y2+peJfCuiPYTyCPfaXEjbGIJCsc8E4POCOK6f4WfGnSPiXJNYi0fTNWhj8xrV5A6yJnBZGwM4JGQQDz35rhfjt8VPCHiL4e3/h/Qb59UvDLE5ltoWaGHbIDlpDgcjIGM8mvJ/gBK8Xxy8P+WxG8zqw9R5EnFAH2lqmqWWi6Vc6lqlwltZ2sZkmlc8Ko/z0714dH+0PrXi3xQNE+GfhIX8hyyy302zKDq5UYCL9W7jvxXV/tEWd7efBfUxYBmEMsM1wqdTErjP4A4Y+wzXyp8PPHmofDrxWut6XDFcMYmgmgmztkjYgkZHIOVBB9u/SgD6T1r4sfELwJCt5458B28mmsQrXemXmVjJ/vZ3Y9OcA+tdr8KfGl34+8AW2vajbwW9xLNLG0dvnaNrEDqSemK4TRP2jvA3iu0fS/FdjPpS3aGKZLlRNbsrDBUuvOPcqB712vgnwZD4S+Glzo/hrVf7QiuBPPZXQxgeYvyYYEggcfN3oA4vxv+0fYaNr7aD4P0ptev1l8gy+ZtiMmcbUABLnPHGB6E1euPG3xj0nTv7T1T4f6ddWyLvkt7K8zOi/QM2T9Aa+SLS5vfD+vwXUQa3v9OuVkUSLzHLG2RkH0YdK+lfDH7Vek3Kxw+LdFuLGXADXFkwljJ9dpwyj2G6gDrfhP8YJ/id4i1q2/syOws7KGGSBSxaUlsh9x6EZHGAOOtZXjf4/al4G1eWz1TwBfJF5rpb3M155cdyqnG5SIyORg4zkZrpfh/oPha58W6x468FatDdWmtRqk1tAmFilBBZj3Vj1KkDk571z/wC1Ait8I42ZQSupQlSR0O1xQBD8Nf2gZviF45g0BvDqafHNFJJ5wvDKRtXOMbBV/wCJ3xD8WaLLrej6X4BvtQ09bNlGsRzMI1DRZZ8CMj5ST/F/D2rw39m3/ktNj/16z/8AoBr6y8a/8iB4g/7Blz/6KagD4A0yZ7fVrSaKIzPHOjrEOrkMCF/HpX2L4f8Ail421bxBaWOo/C3UtMtZ32yXck7FYhg8kGID9RXx9ov/ACH9P/6+o/8A0IV+i1AHgviP9pTUfC2oGx1n4eXtlc43Kl3feXuHqD5RBHuK6L4SfGqX4n67qFhJoaaatpbiYOt0ZS3zBcfdHrXH/taop0nwy+0bxPcANjnG1OP0rn/2T/8AkdNc/wCwev8A6MFAH05q2rWGhaTcanq91HaWVsm+WaQ4Cj+p7ADknivGLX4/av408V/2F8MfC63rhWc3WozeWoQcFyq/dXkdWycgYzxXL/tWeKbk6tpPhaCRktUg+3Tqp4kdmZUB/wB0Kx/4FXPfs8eMtH8GXWvXWrWeo3EtwkEcLWVo02xQXLBsdMnb9cUAd5rnx/8AFvgLxR/Y/j3wlZZ2rIHsLlgHjPG9S24NyCMccjtXrXh/x1pvi7wVN4h8Kq+o+XE5FnkJL5qrnyWzwrHgZ6cg8ivnD49eIrf4iX2i3PhvRtZL2cc0dw1xp7pkEoUx1z/HWv8AstprOmeMNZ0+9sru2s7mwE586FkUyJIqjGR1xI35UAbmuftP3ugalLp+peALqzu4vvRXd/5bD0OPKOQfWtPw7+0pp+peG7/UNU0Z4L2OdYLHTbSYzzXbFSePlGAMcn39cA8B+1cij4haOwUBm0sAnHJxK9dB+yfpllLZeItQkto2vEkigScj50QqxKg9snGcdcD0oApaf+1hqB1xBq3hy2TTGfDrBKxmjXPXJ4Yj0wM+1fS9vcRXdrFcW7iSGZBJG46MpGQfyr5Sk/Za8Vf8JN9mj1CwOkGXi9Mh3iPPePH3sds4z3r6psLOLTtNtrG2yIbaJYY8nJ2qAB+goAsUUUUAFFFFABRRRQAUUUUAFFFFAHm3wm/5D3xB/wCxmn/9BWvSa82+E3/Ie+IP/YzT/wDoK16TQAUUUUAFFFFABRRRQAUUUUAFFFFABRRRQAV4F+1frMlt4U0PR42KrfXck8gH8QiUAA+2ZAfwFe+180/tbowu/Crn7pS6A+oMX+IoA9P+AOnJp3wU0PauHuRLcOfUtI2P/HQo/Cup8dacurfD7X7B13CfTp0Hs3lnB/A4NY3waYN8GvDJXp9iA/EE5rqtaYJoGoM/3RayE/TaaAPmX9lDWZIfF2taKWPlXVkLkKTxvjcLx+Eh/Kvqevj/APZfRm+LkhXoumTFvpuQfzIr7AoAxvGM89r4F164tCRcRabcPER1DCJiP1r5p/ZS8n/hYmr7sed/ZbbPXb5se7/2Wvq2WNJoXilUPG6lWVhkMD1FfIWueFvEvwC+JkfiLR7SS80VZG8mfBMbwt1hkI+62O56kAj0AB9f18d/FeQ+G/2npNQsv3bR3tndgLx822Mt+ZB/OvXdP/aV0PWokt9D8Ma/qGrSD5bKCBGG7/fDE7ffb+FeIa+uu+M/2iILbX7WG31K51C2imtrZ9626gJld3cqv3j6g0Afa1eN+Pdc1D4leLH+Gvg24aKyhwfEOqR8iGPPMCnux6Edzx0DVpfGn4jT+FbKz8O6HcQ2ut63lI7y5lEUVnFnDSs7cA+npyewBk+H+ofDb4f+F4tKsPGWgzTsfMu7ttRh33Mp6sfm6dgOw/EkA8e/aW0PT/DT+EdI0a3W3srSymSKNf8AfXJJ7knJJ7kmvpvwv/yKGj/9eMH/AKLWvmL9pzxFoviHW9Ak0HVrHU0ht5VkazuElCEsuAdpOK+hPBPjDw3qei6Rpmna/pl3fixiBtYLuN5AVjG75Qc8YOaAPmO4nNx+1uH1I5x4mVFLeiyhY/0C19k180/H/wCFOsR+Jj468JW81wJCkl5FbKTJBKgGJVA5IIAzjoRnvxteGP2o9Hm0mCDxLo+pDV1UI4sIkkSZumVBZSCf7uOPWgDK/a2so9vhe+VQJCbmFj6j92R+XzfnXr3wh1GXVPhB4auZ2LSfYliLHqfLJTP/AI7Xzl8fvF2v+KZdEl1fQ30LTysslja3Lf6S4O0GSRf4AcAAezdeK+hvBNrP4U+BWmq4KXFnoxuGU9VcoZCPwJxQB4X4n1F/jT+0NBock5Xw9pkzx8NhRDFkzSZ7FyuAfTb6V7ZcfGf4ZaA0emf8JJZxrbqIkjtIZJo0UcABo1K4H1r5t+A/guz8d+O7uy1i4uVsYbJp7iGCQp9qHmIPLZhztJIJ/wB3t1r6fvPg98P7zSmsH8K6dFGV2iWGEJKvuJB82fqaAOj0LxFpHibTRf6BqNvqFqTjzIHDbT6EdQfY81wf7QXh6+8RfCO8TTI2lmsZkvDEgyXRMhsDvgMW/wCA14DpN9qPwK+Os2mrdSSaclykNyrHie2fBViOm5VYH2II6E19XeMvGWkeBfDc2ta9KyQRkIkaDLzOeiKO5OD9ACTwKAPCf2dvizomj6D/AMIh4juU091naSzuZTticOclGbopzkgng5x1HPsfxW1200T4S+ILy5lQLPYSW8PP+seVSiAevLZ+gNeF2PwfuPjL9t8Y2FpZeDrG8JNjaIjS/aWDHMj8gICePlHOM47niPEnhjxz8ML3T18UWP8Aamj2U/mWsdw73Onu3T7uQFJ9CFJ9KAPZP2WfC1/pPhbVtcvomhi1eSJbZXGC8cYf5/oS5A/3a7Dxj8DvDHjfxnF4j1aa+SYKizQQyKI5wnTOVJHHBwRwOx5qz8KPinpfxJ0Nza24sNQsgq3NjnIQHoyHupxj26HsT39ADJporeF5riRIoo1LO7sFVQOpJPQV8hajps3xl/aNvZ/D8bTaULuITXaqdiQRKqF8/wC1sO0d8ivW/GX7PUXi7W9R1GTxbqNv9tmaYWzRiSKMnsF3DgVw1l8QfFHwI8XReEvFVtY3+iYWRJbK1SBzExx5i7AASMHIYEkg/N3oA+nqKitbmG9tIbq1kWWCdFkjkXoykZBH1BqWgAooooAKKKKACiiigAooooAKKKKACiiigArzbW/+TjvC/wD2Bbv/ANCFek15trf/ACcd4X/7At3/AOhCgD0miiigAooooAKKKKACiiigAooooAKKKKACiiigAooooAKKKKAPAv2r9ZktvCmh6PGxVb67knkA/iESgAH2zID+ArtvgDpyad8FND2rh7kS3Dn1LSNj/wAdCj8K8w/a3Rhd+FXP3Sl0B9QYv8RXr/waYN8GvDJXp9iA/EE5oA2fHWnLq3w+1+wddwn06dB7N5ZwfwODXzt+yhrMkPi7WtFLHyrqyFyFJ43xuF4/CQ/lX01rTBNA1Bn+6LWQn6bTXyZ+y+jN8XJCvRdMmLfTcg/mRQB9gVjeMZ57XwLr1xaEi4i024eIjqGETEfrWzTZY0mheKVQ8bqVZWGQwPUUAfKX7KXk/wDCxNX3Y87+y22eu3zY93/stfV9fIGueFvEvwC+JkfiLR7SS80VZG8mfBMbwt1hkI+62O56kAj0HrGn/tK6HrUSW+h+GNf1DVpB8tlBAjDd/vhidvvt/CgDyL4ryHw3+09JqFl+7aO9s7sBePm2xlvzIP519iV8U6+uu+M/2iILbX7WG31K51C2imtrZ9626gJld3cqv3j6g19NfFz4iL8O/CQubaNZdUvn+z2KSECNXxy7k8BV689eO2SADH+KHjLU77V4fh14Cfd4g1Jf9MulPGnW5+87EdGIP1AIxyVrzj49eDdM8CfCLw1omjp8kd+zSzMPnnkMZ3O3uf0AA7V3fwvufAvgrSJrrVfG+g33iPVG8/U75tThYu552A7vugk/U5PoBx37TPivw94g8JaNDoOuadqUsd8zulpdJKyr5ZGSFJwKAPWPgt/yRjw1/wBen/szVvW3hTT7Xxre+KUMzahe2sdo4YjYkaEn5RjIJOM5J6DpXEfBjxh4bT4ZeGdHfX9MXU/IEX2I3cfnbyxwuzOc+2K9SoAK8o+OniS8TR7HwR4dO7W/FEotlCnmOAnDsfQH7v03ntXqN3dwWFlPd3kqw29vG0ssjnARVGST7ACvGvhHbT+P/H2tfFHVomWBnax0WKQf6uJeGYe+OOO7SUAd3NocXgj4N32laFlf7N0ecQuBhnkETMX+pbJ+prwD9lLyf+Fiavux539lts9dvmx7v/Za+rZY0mheKVQ8bqVZWGQwPUV8ha54W8S/AL4mR+ItHtJLzRVkbyZ8ExvC3WGQj7rY7nqQCPQAH1/Xx38V5D4b/aek1Cy/dtHe2d2AvHzbYy35kH869d0/9pXQ9aiS30Pwxr+oatIPlsoIEYbv98MTt99v4V4hr6674z/aIgttftYbfUrnULaKa2tn3rbqAmV3dyq/ePqDQB7p+0/PPF8IVSEkJNqUKTY7rtduf+BKtRfsueT/AMKmuPKxv/tSXzcf3tkeP0xXovj3whb+OvBOoaBdP5X2lAYpsZ8qRTuRvpkDPqMivmTwN4t8Q/s/+Kb7SPFujXD6bdsDIid2XgSwsflYEcEZGeM4IxQB9c3EEd1bS286h4pUKOp7gjBFfIf7N13LpfxqbT0clLm1nt3HY7cOD/45+teu/wDC+JPFFjNF8OfDGp3l0qEve6hGsNpaADJeRgxzgc7eM9q8n/Zk02bU/i1cam4JSyspZXfHG9yFA/EFj+FAH13Xz7+1n/yLfh3/AK+5f/QBX0FXz7+1n/yLfh3/AK+5f/QBQB6d8Hv+SO+Gf+vFP612lcX8Hv8Akjvhn/rxT+tdpQAUUUUAFFFFABRRRQAUUUUAFFFFABRRRQAUUUUAFFFFABRRRQB5t8Mv+R7+I3/YaT/0UK9Jrzb4Zf8AI9/Eb/sNJ/6KFek0AFFFFABRRRQAUUUUAFebf83Tf9yZ/wC3tek15t/zdN/3Jn/t7QB6TRRRQAUUUUAFFFFABRRRQAUUUUAFfNf7XH+t8Jf7t5/7Rr6I1b+0jo93/YZtRqPlN9mN3u8nzMfLv287c9cc18/eOvgz8V/iJqFvdeI9b8NN9lQpBDBJMiRhiC2B5ROTgcknoKAOW/ZU/wCSp6l/2Bpf/R8Nb/7SPwqELv440CDCOwGqQxjox4EwHv0b3we5NR+EvgH8UPBGvprHh7XfD0F0qGNt00zK6HGVYGHkcD8hX0JpFpql54Ujs/Gqafc300Tx3qWSsbeQEkYAfnBXGc980AfFfwq+JF58N/FiXqb5tNucR39qp/1iZ+8P9pc5H4jvX3BpeqWWt6TbalpdwlzZ3UYkhlQ8Mp/z07V8x63+yr4jOuXjeHtU0kaY0pNst3NKsqoeQrYjIyOmc84zx0rq/Afw0+Mfw9t3s9G17wzPYO+82l3LPJGrdyuIgVz7HBoA8P8AiP8AE7XfH2v3clzfTx6V5pFrYI5WJIwflJUcM2OST39BgV9P/DDwNofhP4U2t9YWkLahfaWLm5vSoMjl49+0N2UZwAOOM9a8j8d/szeIYvENzdeCzbXunXEjSRwSTCKSDJzs+bggdAc59RXT+Cvg78RZ9Ih0Xxr4rmsfDcY2Npdncb5JU/55lwMKh6YyeOMCgD5er9IlG1QB2GK+RPEX7MnjOx1eZPD4tdTsC5MMhuFjcL2Dq2OfoSK9y8F2HxasfDF8viTUdEutRW3RNNjnDFVcHkzNGoJ49MmgD54/aN/5Lbqn/XG3/wDRS17j+zH/AMkfH/YQm/ktcF4s/Z9+JPjPxNda7rWr+G2vLoruEU06ooVQoAHldAAK734P/D74hfDqQaXqmoaDc+HpJHmljheVp0cpgFCUUYJC5BzxnHNAHCfta/8AIV8Mf9cbj/0KOn/sk/8AIQ8U/wDXK2/nJWt8TPg/8S/iVrsd3qOo+GYba0Dx2kUUs64QtnLZjbLEAZ5xxxUPw++DnxT+G+qz3mhar4YdLpVS4guJJ3SQA5HSIEEZPQ96APOf2jtFn0v4yX13IhEOpww3ELY4OEEbDP8AvIfzFepfso6zby+D9a0XePtNvffathPJSRFXI+hjP5j1r0n4mfDTS/iX4fWxv3NteW5L2d4i7mhY9QR3U4GR7D0r5+sPgT8V/BviJb3wrcWwmTKreWt4qBlPZlfGR0yCCOKAPUP2of8AkkcX/YTh/wDQJK8Y/Zr/AOSz2n/XpP8A+g16N4o+CfxE8ZeF0m8U+K4tT1tJV8i0L+VawJg7j8qDc/QZCjvyaxPC37O/xH8La9bazpHiDRLG9tydjrJJJwRggqYsEEEjFAHoX7S+hXGsfCc3Vohc6XeR3UgUZPl7WRj+G8H6A187/A+8Sx+NfhuWUhVa4aEE+skboP1YV9naDZaufDKWnjKay1C+dXS5a3iKwyKScDaf9kgH15rwrxh+zNeW+tjWPhvqcVqUlE8dndMVMDg5HlyAHOD0DDjHU0AfRvTrX54eJ71NS8XaxfQndHdX08yEdw0hI/nX1Vqtz8b9a8MS6L/wj2j2FzcRGGbU0vl+6RglUBO0kd+cdgOKzfhp+zbaeG9Tg1jxjdw6neQMHhs4FPkIw6MxYAuR2GAPrQB6F8HtAuPDPwk0HTb5DHcrAZpUYYKNI7SbT7jfj8K+Pvit/wAlc8Uf9hOf/wBDNfb3igeJDorDwadMGplxtOqeZ5IXv9znPp2r5t1f9mn4ha5rV5quo6x4fku72Z55nE8wBZjk4Hk8DnpQB7f8E/8Aki3hr/r1P/obV82/tJf8lpvv+vWD/wBAFfQPwt8K/EDwX4am0PXL3Qby0tbdxphgaUukhJIWQlFymSemTXmXjL4B/Enxz4ouNd1rU/DK3U6qpS3mnVFCqAAAYie3cmgDs/2XP+SS3H/YVm/9Fx1w37Wn/If8N/8AXrN/6Etd78HPh34/+HE7abqeoaDc+H55XnmjgeVp0kKAAoSijBKrkHPAOOa5/wCJvwe+JPxK8QJe3+oeGYbe0DxWkcUs6kRlsgtmNvmIxnBxxxQBm/sj/wCt8W/7tn/7Wr6Ur55+HXwf+KXw21We50XVfDEkN2EW5gnkndXCk4PEYIIy2Oe9fQ1ABXzX+1x/rfCX+7ef+0a+iNW/tI6Pd/2GbUaj5TfZjd7vJ8zHy79vO3PXHNfP/jr4NfFf4iahb3XiPW/DTfZUZIIYJJkSMMQWwPKJycDqT0FAHK/sqf8AJVNS/wCwNL/6Phr6p1jSbPXtFvNK1OLzbO8haGZM4yrDBwR0PvXzj4S+AfxQ8Ea8mseHte8PW90qGNt00zK6HqrAw8jgfkK+hvDS68ugW48XNp76sN3ntp2/yT8x27d/P3cZ980AW9L0220bR7PTLBSlrZQJbwqzFiERQqjJ68AV8M/F3Qrjw98WPEFrcoVE15JdQkjho5WLqR6/ex9Qa+8K4X4m/CnRviZpsa3zNZ6lbgi2v4lyyA/wsP4lzzjIx2IycgGL+zfeJdfBTTokILWlxcQuPQmQv/JxXK/tY30cfhHQbAsPMmvnmUeyRkH/ANGCo/AvgT4rfCS6vLXQ7TSfEOlXbh2hN35WGAwHG7G0kYBHI4HpVbxN8IviP8V/FUWp+M7jTNCs4U8qK3hkM5hTOTtUcMxPUlh27ACgDg/2a9AuNV+LcGpIh+zaTBJNK+OAzo0ar9TuJ/4Ca9j/AGof+SRxf9hOH/0CSvQPA3gTRvh/4eXSdCiYKTvnuJMGSd/7zH+QHArzz4sfD34lfEYvpcN/4bttBhufPtoy86zPgEKZDsYZG48LgUAeM/s2/wDJabH/AK9Z/wD0A19m18w+Ff2fPiX4N8R22t6FrXh2K8t9wUvNMysGBBBBh5BBr6I8MjxCNDjHjA6adUDN5h0zzPJK5+XG/nOOtAHm37TOiT6t8JvtVqhc6Zex3MgAz+7KshP4FwfoDXzZ8JvENv4W+K2g6tfSCK2iuDHNI3REkRoyx9gHz+Ffd1zbQ3lrLbXcSTQTIY5I5FyrqRggjuCK+bPG/wCy1dG/lu/AmoQfZnYsLC9Yq0XssgB3D03YPuaAPpZWDKGUggjII71ieIfGWheFrrTbbW75befU7gW9rEFLs7n2GTjOBnpkivAvDngn9oHQLWPS9L1VLSyjGxPtF1DMka+g3BmA9gK9I8B/B+XRtf8A+Ep8c6xJ4j8SYxHNISYrX/czyTycHAAzwB1oAXUNT8L/ABP8ZeIPh14q0mMTaTsltZTN88oKAs6HAKFdy5GTkH0zXm/ij9lK4iWSfwfrqzgZK2uoJtb6eYvBP1UfWuh8WfBHxVrXxY1jxloGu22kT7oZdNf5izOsSowfA+UZU9myDgiuki8TfGOxs/st34B03VLtRtF9batHFEx/vGNju/UfhQB8eXNvqHh7XZbecSWWo6fcFWCth4pUbsR3BHUV94RXtzqvwpS+vFxdXeiCaVcYw7QZIx9TXi3hv9nfW/EHjGfxJ8Tbq2Rbi5a6msbRtzTMzbipYcKufQk444619GeVH5Pk7F8vbt2Y4x0xj0oA/N+v0hjkWWNZIyGRgGUjuDXyh4v/AGYvE9prU7+EmtdQ02Ry0CSTiOWJSeFbdwcdMg8+grvvAngr41Wf9n2ut+LbfT9Is2QG2Kx3EzxqR8m7ZnBAxnfxQB7nUV1bRXlnNa3KCSGeNo5EP8SkYI/I1LRQB+fvjrwhe+BvGN9oeoK37hyYJSOJoifkcfUfkcjtX1D+zf40tte+HUWhSzL/AGjopMbRk/M8JYlHHsM7fbaPUV2fxB+Gug/EfSVtdaiaO4hyba9hwJYSfT1U91PH0PNfPs/7PfxH8Ha4mo+CtRgu5ISTDcWtx9nlx6MrkDnuNxBoA+sK4D4r/E2H4f6LHDp6Je+Ib9hHp9hgsWJON7KOdvYDqTwO5Hnton7SN7CLSc2FhkbTdzG1LD3+Td+i113w++C8fh3XG8T+MNUk8ReJXO4XExJjgPTK7uSewY4wOgFAG38Qpb2b4Ga7LqsEdvfPo0jXEMT7ljkMfzKD3AORXxp4B/5KT4a/7C1r/wCjlr6/+Knh3x/4s0+fRPCd3oNpo95aiO6e9MouCxY7lUqrKEK7R0z972rxO0/Zf8f2F9BeWes6DFcW8iyxSLcTZR1OQR+57EUAfRXxG8Uv4K+Hmr6/DGsk1nCPKVvumR2CJn23MM18Xafe6r8SviLpFp4o1e5um1G/igeWWTPlq7gEIOi8HgAAV9gx+F/EHiv4b6j4d+JU+myXd4DEJ9JD7QgClHIcD5w4JwABwPevnS8/Zs+IWmawP7JFpdJFIGhvIbsREYOQ2GwykdeM47E0Aet/HDw/pHhb9n++03QNPgsbVZ7cBIlxuPmLyT1Y8dTk14V+z8u746+HvrcH/wAlpa9lf4H+LvF/hmeP4j+NJry+WL/QLeFi0FvJ2d+BvOMr04BPJrzzRfgP8VfC3im21LQkso7q0k3Q3iXaFBwQflYZIIJBBXoaAPob4kePrPwDY6VNqtit1YalfLZXLs+BAjKSXK7TuAAPy8ZrgvFn7MvhfX5Hv/C1/Joskw3rGiia2OecqMgqD7Ej0FaHjv4b+M/H/wANNG0fXdR02TWYdUW4u7iEFIlh2uvyjb8zDcOMDNQ+HdG+LPwztBpGn22n+NNFh4tVa6FrcQr2XL8Ae2Wx2IHFAHzn8Q/hjr3w11CCDXBDNBdBjbXVuxKSbcZHIBBGRwR34zXr37PvjO/0P4T+MLiaJr210EC7toGk2g7kcugbBwPkB6dWJ71e8deA/if8YdW09db0jTvC+m2O7Ykl6twwLY3MTHnccKMD5R+deh2Hwrs/DXwd1jwf4eYS3V/ZTo91P8vnTvGVDNjO1egwM4A7nJIBzl78NPBHxx8OWfi+yEmlahfRBpprRgcSDhkkUjDFTkZ+Ung5xivFviN8A/EHgDSpdYS7t9V0mFgJJolMckQJwCyHPGSBwT1r1Dwf8L/id8K4Y7nwpqOmavFcoHv9HuHaNPM9Y2PGccbsr7g4rQ8cp8XPiF4al8OL4LstAtboqLm5m1aKfcqsGwNvKjIGeCcUAeUfs06tfWXxdgsLZ3+y6hbSpcxg/KQiF1Yj1BGAf9o+teyftPf8khX/ALCUP/oL1f8Ag/8ABa1+Gqy6jf3SX+t3EfltLGpEcCZBKpnk5IGWOOg4HOcz4sfD74lfEYvpcF/4btdBiufOt4y86zPgEKZDsYZGTwuBQB4x+zb/AMlpsf8Ar1n/APQDX1l41/5EDxB/2DLn/wBFNXz34W/Z7+Jfg7xHba3oeteHYry2J2l5pmVgQQVI8nkEE16x4x0j4oa94Ti0nS7rwxay3lk0GqTOZx87ZDeT8pwpU9WGaAPjDRf+Q/p//X1H/wChCv0Wr5Lj/ZY8dRSLJHq+gK6EMrC5nyCOh/1NfQfga2+Ilo0kPxAvNBvIFiAhm04SiZnzyX3Kq4x6DrQB5V+1p/yBfDX/AF8T/wDoKVzv7J//ACOmuf8AYPX/ANGCur+Jfwp+KPxLvrc6pqXheCzsnk+ywwSTpgMRy2Y2JbCjvj0rK8D/AAQ+KXw911tV8Pax4aEskRhljnlneORMg4I8oHqByCDQBk/tW6JPB4y0jXAhNtdWX2bdjgSRuzYPpkOPyNN/ZW8RW2neLtX0S6lWOTVII3g3HG94i3yj32ux/wCAmvovxP4R0/xv4TbRfFECSrKiszQHBilA+/GTyCDnGe3ByCRXzdrf7MXjHR9SFx4V1K1v4433wSeabedCDkHngEeob8qAPrCsOLxloU/jSXwpDfLJrENv9okgRSdiZxyw4B5BwTnBHrXiml+Ev2g76EafqHiiPTbQja88s0Tygezopcn/AIEPrXp/gT4aWXw80O8Gky/b9cvFL3GpXuczyckZxkhNxzgEn1JNAHhX7V3/ACP+jf8AYMH/AKNeup/ZL/5AHiT/AK+of/QWqn48+CXxQ+ImvJquv6p4XWWKEQRRW0s6IiAk4AMRPVjySaufD/4TfFr4bS3R8P6t4WkhvNpmgupJ3RiucHiMEHk9DQB9CUUyHzfs8f2jZ520eZ5edu7HOM9s0+gAooooAKKKKACiiigAooooAKKKKAPNvhN/yHviD/2M0/8A6Ctek15t8Jv+Q98Qf+xmn/8AQVr0mgAooooAKKKKACiiigAooooAKKKKACiiigArxT9qHw5Lqvw5tdXtkLvpF0GkwOkUg2sf++gn4Zr2uoL2yttSsJ7K/hSe2uI2imicZV1YYIP4UAeY/s46zHqnwbsbZXBl02ea2kHcfOZF/wDHXH5V1PxS1mPQfhX4ivpHCEWMkUZP/PSQbE/8eYV51ovwv8Z/CjxReX3w6ktNa0S+x52lX05hkXGduHxtyMkbvQ8g9am8W+C/iL8W5rTT/E0Vh4V8PwSiWW3guvtU8zDjOQApwM4zgDOcHigDlv2UPDcom1zxNMhWIotjAxH3jkPJ+WI/zr33WPFnh7w/dQW2u63p+nT3AzFHdXKRs4zjIBPTPepPDnh7TvCvh+00XRYPIs7RNqL1J7lie5JySfU14R+0F8ItQ1bUtQ8c2mrWcVpb2Qa5gu2dWXy1wBGQpBLcAA4+Y9eaAPolWDqGUhlIyCDwRSkAggjIPUGuI+DRvD8G/DX9o7vO+xjbv6+XuPl/+Obal8cS/EI3FrbfD+30cRSo32i81FmzA2eNqg88ex6UATeOvGui/DfwtPqd75KSEEWtomFa5lxwoA7dMnsK8l/Z78B6jqGuXnxK8UxsLm9aR7ESLgu0hJkmx2BBKr6gsemDXUaJ8ClvdfXxD8T9bl8VaoMFYHXbbR98bf4gD2wq+qmvXVVUQIihVUYAAwAKAOR8ZfC/wt49vbe78TWUtzNbRmKIpcPHhSc9FIzzXOf8M5fDb/oEXH/gdL/8VXqVFAHx3+0D8P8Aw94B1bRYPDNpJbR3cEjyh5mkyQwA+8TjrXvfw6+EvhDw3HpPiPSbCWLU2skYytcuwy8Y3fKTjuaxfjh8Ite+JeqaTc6Fd6dbpZQyRyC8lkUkswIxtRvT2r1bRrOTTtBsLKcq0ltbRxOUOVJVQDj24oAu1R1G70zRLO41bUpLezggQvNcyYXaPc/5zVLxbP4jtvD8kngy0s7zVN6hIr1yse0n5iSCOnXrXmU/wg8W+Pb6G5+LHilZLOJt6aRpClIQfdiBz2zgnnhhQBwemabc/tA/G6XXpreRPCulskYaRcB40OVi/wB5ySxHYMfbP07e2iX2nXFnLxHcRNE2OwYYP86g0XRNN8O6TBpmiWcVlZQDEcMQwB7+pJ7k8mr1AHyN+z3JJ4S+Ot3oerDybma3uNPZW4/eoyv/AO0zj1zX1zXkvxQ+Cv8AwlmuQ+KfCV+uj+JLdkfzWyI52TG1iQCVYYHzYOQACO9O/tb43Ppn2AeG9Bjvduw6ob0GPPTf5XXPf0z27UAeKfGi1Pi79o6XRtLHmzSyW1llOfm2LuP/AAHJz6YNdn+1sbrZ4XA3fY83JOOnmfu8Z98Zx+Nd98LvgxD4K1KfxF4hvhrHiW6LM9zg7IS/L7M8ljk5Y44OABznrvHfgfSviB4Xl0XWQyqWEkE8f34JADhx+ZBHcE0AJ8OJbab4YeGXsSvkf2XbhdvYiNQR9QQQfetnV9MsdZ0e607VoY57K5iaOaOToVI5+nrnt1rxXwl4a+LfwpjfSNHstO8W6EHLwRG7FvJFk5OC5G3J5K/MM9Opzsa6vxe8d6bLoy6Lpvg2xulMd1cy6gt1MYzwwTy+BkZHQfUUAeUfswW8/wDwtnUHsyzWcWnSrLJjhgZE259yRn8DXpGn/Hq9vPjhL4LbRYfsA1CSwWdXbzgyErvPYjKnjAwO9d/8OvhxpHw38PnT9J3TTzEPd3kgAedh0+ijJwvbJ6kknkfGfwdvX8fQ+PPh9e2ljr0TmSW2vYy1vOxUqW4yVJUkHjknOQeaAPXK+Vf2rry3l8b6LaRFWuILAtLjqAznaD/3yT+NetSa98ZntzBF4N0KK4IwLptR3RA+uzO79ayPCPwKuG8Xt4w+JmqR65rLSiZbeJT5COPukkgbgMDC4AGO9AHo3w/sbrTPhv4dsb9WW5t9Nt45UbqjCMZU/Tp+FdDRRQAUUUUAFFFFABRRRQAUUUUAFFFFABRRRQAV5trf/Jx3hf8A7At3/wChCvSa821v/k47wv8A9gW7/wDQhQB6TRRRQAUUUUAFFFFABRRRQAUUUUAFFFFABRRRQAUUUUAFFFFAHin7UPhyXVfhza6vbIXfSLoNJgdIpBtY/wDfQT8M1rfs46zHqnwbsbZXBl02ea2kHcfOZF/8dcflXp17ZW2pWE9lfwpPbXEbRTROMq6sMEH8K8V0X4X+M/hR4ovL74dSWmtaJfY87Sr6cwyLjO3D425GSN3oeQetAHovxS1mPQfhX4ivpHCEWMkUZP8Az0kGxP8Ax5hXi/7KHhuUTa54mmQrEUWxgYj7xyHk/LEf511Pi3wX8Rfi3Naaf4misPCvh+CUSy28F19qnmYcZyAFOBnGcAZzg8V6x4c8Pad4V8P2mi6LB5FnaJtRepPcsT3JOST6mgA1vxJonhuGKXxBq1npsczbY2up1j3nuBk81etrqC9tY7mznjuIJVDxyxOGV1PQgjgivH/jt8ItQ8fzWWs6Zq1nZHTrd0nS/ZliCA7i4ZVbB6546Ac8Va/Zo+2f8Kch+2FjF9tn+y7unl5Gce2/f+tAHrZAIIIyD1Brk/HXjXRfhv4Wn1O98lJCCLW0TCtcy44UAdumT2FQ+OJfiEbi1tvh/b6OIpUb7ReaizZgbPG1QeePY9K5PRPgUt7r6+IfifrcvirVBgrA67baPvjb/EAe2FX1U0Acv+z34D1HUNcvPiV4pjYXN60j2IkXBdpCTJNjsCCVX1BY9MGvYvGXgDw/4+tbW38TWslzHauXiCTNHgkYP3SM10aqqIERQqqMAAYAFLQB5b/wzl8Nv+gRcf8AgdL/APFV5P8AH/4XeFfAXhrS7zwzZS201zdmKRnuHkyuwnGGJ7ivqqvMvjd8N9X+JXh/TbHQrmxt5bW6Mzm8kdVKlCONqtzzQBz/AMG/hL4Ql8H+GfFr2Ep1gItz532l9vmBjg7c47dMV7bXOfD7w9d+E/h/pGhajJDLdWMHlyPAxKE5J4JAPf0FdGeB0z7UAeO/HXXbzU20n4beHH/4mniKVftBH/LG2B5J9iQSf9lG9a9R8P6HZ+GvDtjo2mJstbKFYYx3OByT7k5J9ya8/wDh94C1uD4ieIPHPjdIBqd63k2EEUvmC2g9M9M4Cr+Df3q9RoAKCAQQRkHqDRXG+OJfiEbi1tvh/b6OIpUb7ReaizZgbPG1QeePY9KAJvHXjXRfhv4Wn1O98lJCCLW0TCtcy44UAdumT2FeS/s9+A9R1DXLz4leKY2FzetI9iJFwXaQkyTY7AglV9QWPTBrqNE+BS3uvr4h+J+ty+KtUGCsDrtto++Nv8QB7YVfVTXrqqqIERQqqMAAYAFAC0yWKOZNk0ayL/ddcin15n4otPi3rmtXmnaBd6LoGi79sWofM9y6EDJA5APUdFPvQBjfHz4iW2g+F5fB+gsJ9c1dBbm3txuaCJ+DkD+JgdoHXkn0zt/A/wCHD/D3wT/xMUA1jUmWe8A58oAfJFnvtBOfdj2xUvgH4MaF4Jvm1e6mm1zXpCWfUr3llY9Si5O0n1JLdeea9FoAK+ff2s/+Rb8O/wDX3L/6AK9p8Uf8JN/ZA/4Qv+yf7R80Z/tYyeT5eDn/AFfO7OPbrXh3jv4PfFv4iXcEviLXfDZjtt3kW8EkyRx5xkgeUSScDkk0AerfB7/kjvhn/rxT+tdpXivgzwh8afBWhwaPZar4RvrG3BEMd61wxjUnOAyxqcZJ65xXs8Pm+RH9o2ebtHmbM7d2OcZ7ZoAfRRRQAUUUUAFFFFABRRRQAUUUUAFFFFABRRRQAUUUUAFFFFAHm3wy/wCR7+I3/YaT/wBFCvSa82+GX/I9/Eb/ALDSf+ihXpNABRRRQAUUUUAFFFFABXmcs8UH7UgaeVIlPg3ALsAM/bfevTK8f8S+FdD8Y/tJR6d4l06O/to/CQnRHd1w4vCoPykdmP50Aer/ANpWP/P5b/8Af1f8aP7Ssf8An8t/+/q/41xH/Ci/ht/0K1v/AN/5f/i6P+FF/Db/AKFa3/7/AMv/AMXQB2/9pWP/AD+W/wD39X/Gj+0rH/n8t/8Av6v+NcR/wov4bf8AQrW//f8Al/8Ai6P+FF/Db/oVrf8A7/y//F0Adv8A2lY/8/lv/wB/V/xo/tKx/wCfy3/7+r/jXEf8KL+G3/QrW/8A3/l/+Lo/4UX8Nv8AoVrf/v8Ay/8AxdAHb/2lY/8AP5b/APf1f8aP7Ssf+fy3/wC/q/41xH/Ci/ht/wBCtb/9/wCX/wCLo/4UX8Nv+hWt/wDv/L/8XQB2/wDaVj/z+W//AH9X/Gj+0rH/AJ/Lf/v6v+NcR/wov4bf9Ctb/wDf+X/4uj/hRfw2/wChWt/+/wDL/wDF0Adv/aVj/wA/lv8A9/V/xo/tKx/5/Lf/AL+r/jXEf8KL+G3/AEK1v/3/AJf/AIuj/hRfw2/6Fa3/AO/8v/xdAHb/ANpWP/P5b/8Af1f8aP7Ssf8An8t/+/q/41xH/Ci/ht/0K1v/AN/5f/i6P+FF/Db/AKFa3/7/AMv/AMXQB2/9pWP/AD+W/wD39X/Gj+0rH/n8t/8Av6v+NcR/wov4bf8AQrW//f8Al/8Ai6P+FF/Db/oVrf8A7/y//F0Adv8A2lY/8/lv/wB/V/xo/tKx/wCfy3/7+r/jXEf8KL+G3/QrW/8A3/l/+Lo/4UX8Nv8AoVrf/v8Ay/8AxdAHb/2lY/8AP5b/APf1f8aP7Ssf+fy3/wC/q/41xH/Ci/ht/wBCtb/9/wCX/wCLo/4UX8Nv+hWt/wDv/L/8XQB2/wDaVj/z+W//AH9X/Gj+0rH/AJ/Lf/v6v+NecXXwq+D1jI0d7pmk27qcMs1+6EfUGSqR8C/AkTLEf+EdEjsFVP7X5YnoAPN60Aeqf2lY/wDP5b/9/V/xo/tKx/5/Lf8A7+r/AI1xH/Ci/ht/0K1v/wB/5f8A4usu6+GXwYsdUTTb2x0a3v3ICWsupMkrZ6YQyZP5UAel/wBpWP8Az+W//f1f8aP7Ssf+fy3/AO/q/wCNcR/wov4bf9Ctb/8Af+X/AOLo/wCFF/Db/oVrf/v/AC//ABdAHb/2lY/8/lv/AN/V/wAaP7Ssf+fy3/7+r/jXEf8ACi/ht/0K1v8A9/5f/i6P+FF/Db/oVrf/AL/y/wDxdAHb/wBpWP8Az+W//f1f8aP7Ssf+fy3/AO/q/wCNcR/wov4bf9Ctb/8Af+X/AOLo/wCFF/Db/oVrf/v/AC//ABdAHb/2lY/8/lv/AN/V/wAaP7Ssf+fy3/7+r/jXEf8ACi/ht/0K1v8A9/5f/i6P+FF/Db/oVrf/AL/y/wDxdAHb/wBpWP8Az+W//f1f8aP7Ssf+fy3/AO/q/wCNcR/wov4bf9Ctb/8Af+X/AOLo/wCFF/Db/oVrf/v/AC//ABdAHb/2lY/8/lv/AN/V/wAaP7Ssf+fy3/7+r/jXEf8ACi/ht/0K1v8A9/5f/i6P+FF/Db/oVrf/AL/y/wDxdAHb/wBpWP8Az+W//f1f8aP7Ssf+fy3/AO/q/wCNcR/wov4bf9Ctb/8Af+X/AOLo/wCFF/Db/oVrf/v/AC//ABdAHb/2lY/8/lv/AN/V/wAaP7Ssf+fy3/7+r/jXEf8ACi/ht/0K1v8A9/5f/i6P+FF/Db/oVrf/AL/y/wDxdAHb/wBpWP8Az+W//f1f8aP7Ssf+fy3/AO/q/wCNcR/wov4bf9Ctb/8Af+X/AOLo/wCFF/Db/oVrf/v/AC//ABdAHb/2lY/8/lv/AN/V/wAaP7Ssf+fy3/7+r/jXEf8ACi/ht/0K1v8A9/5f/i6P+FF/Db/oVrf/AL/y/wDxdAHb/wBpWP8Az+W//f1f8aP7Ssf+fy3/AO/q/wCNcR/wov4bf9Ctb/8Af+X/AOLo/wCFF/Db/oVrf/v/AC//ABdAHb/2lY/8/lv/AN/V/wAaP7Ssf+fy3/7+r/jXEf8ACi/ht/0K1v8A9/5f/i6P+FF/Db/oVrf/AL/y/wDxdAHb/wBpWP8Az+W//f1f8aP7Ssf+fy3/AO/q/wCNcR/wov4bf9Ctb/8Af+X/AOLo/wCFF/Db/oVrf/v/AC//ABdAHb/2lY/8/lv/AN/V/wAaP7Ssf+fy3/7+r/jXEf8ACi/ht/0K1v8A9/5f/i6P+FF/Db/oVrf/AL/y/wDxdAHb/wBpWP8Az+W//f1f8aP7Ssf+fy3/AO/q/wCNcR/wov4bf9Ctb/8Af+X/AOLo/wCFF/Db/oVrf/v/AC//ABdAHb/2lY/8/lv/AN/V/wAaP7Ssf+fy3/7+r/jXEf8ACi/ht/0K1v8A9/5f/i6P+FF/Db/oVrf/AL/y/wDxdAHb/wBpWP8Az+W//f1f8aP7Ssf+fy3/AO/q/wCNcNL8EPhlBC8s/hq1jjRSzu9xKAoHUkl+BVDSvhb8HNdMg0TTtI1Ixf6wWeoNLs+u2Q4oA9I/tKx/5/Lf/v6v+NH9pWP/AD+W/wD39X/GuI/4UX8Nv+hWt/8Av/L/APF0f8KL+G3/AEK1v/3/AJf/AIugDt/7Ssf+fy3/AO/q/wCNH9pWP/P5b/8Af1f8a4j/AIUX8Nv+hWt/+/8AL/8AF0f8KL+G3/QrW/8A3/l/+LoA7f8AtKx/5/Lf/v6v+NH9pWP/AD+W/wD39X/GuI/4UX8Nv+hWt/8Av/L/APF0f8KL+G3/AEK1v/3/AJf/AIugDt/7Ssf+fy3/AO/q/wCNH9pWP/P5b/8Af1f8a4j/AIUX8Nv+hWt/+/8AL/8AF0f8KL+G3/QrW/8A3/l/+LoA7f8AtKx/5/Lf/v6v+NH9pWP/AD+W/wD39X/GuI/4UX8Nv+hWt/8Av/L/APF0f8KL+G3/AEK1v/3/AJf/AIugDt/7Ssf+fy3/AO/q/wCNH9pWP/P5b/8Af1f8a4j/AIUX8Nv+hWt/+/8AL/8AF0f8KL+G3/QrW/8A3/l/+LoA7f8AtKx/5/Lf/v6v+NH9pWP/AD+W/wD39X/GuI/4UX8Nv+hWt/8Av/L/APF0f8KL+G3/AEK1v/3/AJf/AIugDt/7Ssf+fy3/AO/q/wCNH9pWP/P5b/8Af1f8a4aT4H/DOKNpJfDFqiICzM1xKAoHUk76ypvhx8E7fP2i20OLHXfqZX+clAHp39pWP/P5b/8Af1f8aP7Ssf8An8t/+/q/415vpXwt+DmutMuh6dpGpNBjzRZ6g0xjznG7bIcZwevoa0f+FF/Db/oVrf8A7/y//F0Adv8A2lY/8/lv/wB/V/xo/tKx/wCfy3/7+r/jXEf8KL+G3/QrW/8A3/l/+Lo/4UX8Nv8AoVrf/v8Ay/8AxdAHb/2lY/8AP5b/APf1f8aP7Ssf+fy3/wC/q/41xH/Ci/ht/wBCtb/9/wCX/wCLo/4UX8Nv+hWt/wDv/L/8XQB2/wDaVj/z+W//AH9X/Gj+0rH/AJ/Lf/v6v+NcR/wov4bf9Ctb/wDf+X/4uj/hRfw2/wChWt/+/wDL/wDF0Adv/aVj/wA/lv8A9/V/xo/tKx/5/Lf/AL+r/jXEf8KL+G3/AEK1v/3/AJf/AIuj/hRfw2/6Fa3/AO/8v/xdAHb/ANpWP/P5b/8Af1f8aP7Ssf8An8t/+/q/41xH/Ci/ht/0K1v/AN/5f/i6P+FF/Db/AKFa3/7/AMv/AMXQB2/9pWP/AD+W/wD39X/Gj+0rH/n8t/8Av6v+Nea6n8MPgzok8UGs2Gj6fLN/q47vUWiZ/oGkGa0l+Bvw0dAyeGLZlYZBE8pBH/fdAHcf2lY/8/lv/wB/V/xo/tKx/wCfy3/7+r/jXEf8KL+G3/QrW/8A3/l/+LqG7+DHws0+2a4v/D9jawL96Wa6kRR9SXxQB3v9pWP/AD+W/wD39X/Gj+0rH/n8t/8Av6v+NeW2XgH4GaleLa6cnh+7uWOFhg1be5PoFEmanuvhl8GLHVE029sdGt79yAlrLqTJK2emEMmT+VAHpf8AaVj/AM/lv/39X/Gj+0rH/n8t/wDv6v8AjXEf8KL+G3/QrW//AH/l/wDi6P8AhRfw2/6Fa3/7/wAv/wAXQB2/9pWP/P5b/wDf1f8AGj+0rH/n8t/+/q/41xH/AAov4bf9Ctb/APf+X/4uj/hRfw2/6Fa3/wC/8v8A8XQB2/8AaVj/AM/lv/39X/Gj+0rH/n8t/wDv6v8AjXEf8KL+G3/QrW//AH/l/wDi6P8AhRfw2/6Fa3/7/wAv/wAXQB2/9pWP/P5b/wDf1f8AGj+0rH/n8t/+/q/41xH/AAov4bf9Ctb/APf+X/4uj/hRfw2/6Fa3/wC/8v8A8XQB2/8AaVj/AM/lv/39X/Gj+0rH/n8t/wDv6v8AjXEf8KL+G3/QrW//AH/l/wDi6P8AhRfw2/6Fa3/7/wAv/wAXQB2/9pWP/P5b/wDf1f8AGj+0rH/n8t/+/q/41xH/AAov4bf9Ctb/APf+X/4uj/hRfw2/6Fa3/wC/8v8A8XQB2/8AaVj/AM/lv/39X/Gj+0rH/n8t/wDv6v8AjXEf8KL+G3/QrW//AH/l/wDi6P8AhRfw2/6Fa3/7/wAv/wAXQBn/AApvrSPXfH++6hXd4lnZcyAZG1eRXo/9pWP/AD+W/wD39X/GvEfh58KvBOuax4yi1TQIbhNO12W0tQZZB5cSquF4bnr3rt/+FF/Db/oVrf8A7/y//F0Adv8A2lY/8/lv/wB/V/xo/tKx/wCfy3/7+r/jXEf8KL+G3/QrW/8A3/l/+Lo/4UX8Nv8AoVrf/v8Ay/8AxdAHb/2lY/8AP5b/APf1f8aP7Ssf+fy3/wC/q/41xH/Ci/ht/wBCtb/9/wCX/wCLo/4UX8Nv+hWt/wDv/L/8XQB2/wDaVj/z+W//AH9X/Gj+0rH/AJ/Lf/v6v+NcR/wov4bf9Ctb/wDf+X/4uj/hRfw2/wChWt/+/wDL/wDF0Adv/aVj/wA/lv8A9/V/xo/tKx/5/Lf/AL+r/jXEf8KL+G3/AEK1v/3/AJf/AIuj/hRfw2/6Fa3/AO/8v/xdAHb/ANpWP/P5b/8Af1f8aP7Ssf8An8t/+/q/41xH/Ci/ht/0K1v/AN/5f/i6P+FF/Db/AKFa3/7/AMv/AMXQB2/9pWP/AD+W/wD39X/Gj+0rH/n8t/8Av6v+NcR/wov4bf8AQrW//f8Al/8Ai6P+FF/Db/oVrf8A7/y//F0Adv8A2lY/8/lv/wB/V/xo/tKx/wCfy3/7+r/jXEf8KL+G3/QrW/8A3/l/+Lo/4UX8Nv8AoVrf/v8Ay/8AxdAHb/2lY/8AP5b/APf1f8aP7Ssf+fy3/wC/q/41xH/Ci/ht/wBCtb/9/wCX/wCLo/4UX8Nv+hWt/wDv/L/8XQB2/wDaVj/z+W//AH9X/GvNPFfhzVviF4u/s/xFqVhY+CbGRJVtra6DS6mwAOHPGxQcjHtxnhhqf8KL+G3/AEK1v/3/AJf/AIuj/hRfw2/6Fa3/AO/8v/xdAHaRXumwQpDBc2sccahURJFAUDgADsKf/aVj/wA/lv8A9/V/xriP+FF/Db/oVrf/AL/y/wDxdH/Ci/ht/wBCtb/9/wCX/wCLoA7f+0rH/n8t/wDv6v8AjR/aVj/z+W//AH9X/GuI/wCFF/Db/oVrf/v/AC//ABdH/Ci/ht/0K1v/AN/5f/i6AO3/ALSsf+fy3/7+r/jR/aVj/wA/lv8A9/V/xriP+FF/Db/oVrf/AL/y/wDxdH/Ci/ht/wBCtb/9/wCX/wCLoA7f+0rH/n8t/wDv6v8AjR/aVj/z+W//AH9X/GuI/wCFF/Db/oVrf/v/AC//ABdH/Ci/ht/0K1v/AN/5f/i6AO3/ALSsf+fy3/7+r/jR/aVj/wA/lv8A9/V/xriP+FF/Db/oVrf/AL/y/wDxdH/Ci/ht/wBCtb/9/wCX/wCLoA7f+0rH/n8t/wDv6v8AjR/aVj/z+W//AH9X/GuI/wCFF/Db/oVrf/v/AC//ABdH/Ci/ht/0K1v/AN/5f/i6AO3/ALSsf+fy3/7+r/jR/aVj/wA/lv8A9/V/xriP+FF/Db/oVrf/AL/y/wDxdH/Ci/ht/wBCtb/9/wCX/wCLoA7f+0rH/n8t/wDv6v8AjR/aVj/z+W//AH9X/GuI/wCFF/Db/oVrf/v/AC//ABdH/Ci/ht/0K1v/AN/5f/i6AO3/ALSsf+fy3/7+r/jR/aVj/wA/lv8A9/V/xriP+FF/Db/oVrf/AL/y/wDxdH/Ci/ht/wBCtb/9/wCX/wCLoA7f+0rH/n8t/wDv6v8AjR/aVj/z+W//AH9X/GuI/wCFF/Db/oVrf/v/AC//ABdH/Ci/ht/0K1v/AN/5f/i6AO3/ALSsf+fy3/7+r/jR/aVj/wA/lv8A9/V/xriP+FF/Db/oVrf/AL/y/wDxdH/Ci/ht/wBCtb/9/wCX/wCLoA7f+0rH/n8t/wDv6v8AjR/aVj/z+W//AH9X/GuI/wCFF/Db/oVrf/v/AC//ABdH/Ci/ht/0K1v/AN/5f/i6AO3/ALSsf+fy3/7+r/jR/aVj/wA/lv8A9/V/xriP+FF/Db/oVrf/AL/y/wDxdH/Ci/ht/wBCtb/9/wCX/wCLoA7f+0rH/n8t/wDv6v8AjR/aVj/z+W//AH9X/GuI/wCFF/Db/oVrf/v/AC//ABdH/Ci/ht/0K1v/AN/5f/i6AO3/ALSsf+fy3/7+r/jR/aVj/wA/lv8A9/V/xriP+FF/Db/oVrf/AL/y/wDxdH/Ci/ht/wBCtb/9/wCX/wCLoA7f+0rH/n8t/wDv6v8AjR/aVj/z+W//AH9X/GuI/wCFF/Db/oVrf/v/AC//ABdH/Ci/ht/0K1v/AN/5f/i6AO3/ALSsf+fy3/7+r/jR/aVj/wA/lv8A9/V/xriP+FF/Db/oVrf/AL/y/wDxdH/Ci/ht/wBCtb/9/wCX/wCLoA7f+0rH/n8t/wDv6v8AjR/aVj/z+W//AH9X/GuI/wCFF/Db/oVrf/v/AC//ABdH/Ci/ht/0K1v/AN/5f/i6AO3/ALSsf+fy3/7+r/jXnGtX1of2ivDMguoSi6NdAt5gwDuHetD/AIUX8Nv+hWt/+/8AL/8AF1xOqfCzwXbfGvQdBh0GFNMu9LuZ5rfzZMO6sMHO7Pp37UAe2/2lY/8AP5b/APf1f8aP7Ssf+fy3/wC/q/41xH/Ci/ht/wBCtb/9/wCX/wCLo/4UX8Nv+hWt/wDv/L/8XQB2/wDaVj/z+W//AH9X/Gj+0rH/AJ/Lf/v6v+NcR/wov4bf9Ctb/wDf+X/4uj/hRfw2/wChWt/+/wDL/wDF0Adv/aVj/wA/lv8A9/V/xo/tKx/5/Lf/AL+r/jXEf8KL+G3/AEK1v/3/AJf/AIuj/hRfw2/6Fa3/AO/8v/xdAHb/ANpWP/P5b/8Af1f8aP7Ssf8An8t/+/q/41xH/Ci/ht/0K1v/AN/5f/i6P+FF/Db/AKFa3/7/AMv/AMXQB2/9pWP/AD+W/wD39X/Gj+0rH/n8t/8Av6v+NcR/wov4bf8AQrW//f8Al/8Ai6P+FF/Db/oVrf8A7/y//F0Adv8A2lY/8/lv/wB/V/xo/tKx/wCfy3/7+r/jXEf8KL+G3/QrW/8A3/l/+Lo/4UX8Nv8AoVrf/v8Ay/8AxdAHb/2lY/8AP5b/APf1f8aP7Ssf+fy3/wC/q/41xH/Ci/ht/wBCtb/9/wCX/wCLo/4UX8Nv+hWt/wDv/L/8XQB2/wDaVj/z+W//AH9X/Gj+0rH/AJ/Lf/v6v+NcR/wov4bf9Ctb/wDf+X/4uj/hRfw2/wChWt/+/wDL/wDF0Adv/aVj/wA/lv8A9/V/xo/tKx/5/Lf/AL+r/jXEf8KL+G3/AEK1v/3/AJf/AIuj/hRfw2/6Fa3/AO/8v/xdAHb/ANpWP/P5b/8Af1f8aP7Ssf8An8t/+/q/41xH/Ci/ht/0K1v/AN/5f/i6P+FF/Db/AKFa3/7/AMv/AMXQB2/9pWP/AD+W/wD39X/Gj+0rH/n8t/8Av6v+NcR/wov4bf8AQrW//f8Al/8Ai6P+FF/Db/oVrf8A7/y//F0AVPiDpmv+N9Ti8O2urWGleE5Y1fUbyK5Vrm55OYFX+EcDJ6EHvyp7bSU0TQ9ItdL0qW1t7O0jEUMSyjCqPx5Pv3rlP+FF/Db/AKFa3/7/AMv/AMXR/wAKL+G3/QrW/wD3/l/+LoA7f+0rH/n8t/8Av6v+NH9pWP8Az+W//f1f8a4j/hRfw2/6Fa3/AO/8v/xdH/Ci/ht/0K1v/wB/5f8A4ugDt/7Ssf8An8t/+/q/40f2lY/8/lv/AN/V/wAa4j/hRfw2/wChWt/+/wDL/wDF0f8ACi/ht/0K1v8A9/5f/i6AO3/tKx/5/Lf/AL+r/jR/aVj/AM/lv/39X/GuI/4UX8Nv+hWt/wDv/L/8XR/wov4bf9Ctb/8Af+X/AOLoA7f+0rH/AJ/Lf/v6v+NH9pWP/P5b/wDf1f8AGuI/4UX8Nv8AoVrf/v8Ay/8AxdH/AAov4bf9Ctb/APf+X/4ugDt/7Ssf+fy3/wC/q/40f2lY/wDP5b/9/V/xriP+FF/Db/oVrf8A7/y//F0f8KL+G3/QrW//AH/l/wDi6AO3/tKx/wCfy3/7+r/jR/aVj/z+W/8A39X/ABriP+FF/Db/AKFa3/7/AMv/AMXR/wAKL+G3/QrW/wD3/l/+LoA7f+0rH/n8t/8Av6v+NH9pWP8Az+W//f1f8a4j/hRfw2/6Fa3/AO/8v/xdH/Ci/ht/0K1v/wB/5f8A4ugDt/7Ssf8An8t/+/q/40f2lY/8/lv/AN/V/wAa4j/hRfw2/wChWt/+/wDL/wDF0f8ACi/ht/0K1v8A9/5f/i6AO3/tKx/5/Lf/AL+r/jR/aVj/AM/lv/39X/GuI/4UX8Nv+hWt/wDv/L/8XR/wov4bf9Ctb/8Af+X/AOLoA7f+0rH/AJ/Lf/v6v+NH9pWP/P5b/wDf1f8AGuI/4UX8Nv8AoVrf/v8Ay/8AxdH/AAov4bf9Ctb/APf+X/4ugDt/7Ssf+fy3/wC/q/40f2lY/wDP5b/9/V/xriP+FF/Db/oVrf8A7/y//F0f8KL+G3/QrW//AH/l/wDi6AO3/tKx/wCfy3/7+r/jR/aVj/z+W/8A39X/ABriP+FF/Db/AKFa3/7/AMv/AMXR/wAKL+G3/QrW/wD3/l/+LoA7f+0rH/n8t/8Av6v+NH9pWP8Az+W//f1f8a4j/hRfw2/6Fa3/AO/8v/xdH/Ci/ht/0K1v/wB/5f8A4ugDt/7Ssf8An8t/+/q/40f2lY/8/lv/AN/V/wAa4j/hRfw2/wChWt/+/wDL/wDF0f8ACi/ht/0K1v8A9/5f/i6AO3/tKx/5/Lf/AL+r/jR/aVj/AM/lv/39X/GuI/4UX8Nv+hWt/wDv/L/8XR/wov4bf9Ctb/8Af+X/AOLoA7f+0rH/AJ/Lf/v6v+NH9pWP/P5b/wDf1f8AGuI/4UX8Nv8AoVrf/v8Ay/8AxdH/AAov4bf9Ctb/APf+X/4ugDt/7Ssf+fy3/wC/q/40f2lY/wDP5b/9/V/xriP+FF/Db/oVrf8A7/y//F0f8KL+G3/QrW//AH/l/wDi6AO3/tKx/wCfy3/7+r/jR/aVj/z+W/8A39X/ABriP+FF/Db/AKFa3/7/AMv/AMXR/wAKL+G3/QrW/wD3/l/+LoA7f+0rH/n8t/8Av6v+NH9pWP8Az+W//f1f8a4j/hRfw2/6Fa3/AO/8v/xdH/Ci/ht/0K1v/wB/5f8A4ugDt/7Ssf8An8t/+/q/40f2lY/8/lv/AN/V/wAa4j/hRfw2/wChWt/+/wDL/wDF0f8ACi/ht/0K1v8A9/5f/i6AKnwukSXxx8RWjdXU6yhBU5B/divS68r+D2l2Wi+JvHum6XAtvZ2urJHDEpJCqIxgZJJr1SgAooooAKKKKACiiigArzb/AJum/wC5M/8Ab2vSa82/5um/7kz/ANvaAPSaKKKACiiigAooooAyPFHijSfB3h+fWNfuhb2kIxnq0jHoijux9P6Amvm7U/j9478eeJodD+Hdmmm/apPLgUIss7juzM2VUYGTgcc8nrWH+0f40n8QfEaXRIpT/Z+ijyVQHhpiAZGPuM7f+An1Ndj+yh4chf8AtzxJNGGlQpZW7EfdGN8n5/u/19aAOts/hN8SJrRZtT+LWowXrDLR28LPEh9Ml1z/AN8iuO8U/ED4ufB68Fp4juLLXrG5Rls7+WD5Sceq7SGHBKtnPY96+l65j4ieD7fx14F1HRJ1XzZYy9rI3/LOZRlG/Pg+xI70AYvwS8Wat4z+GsOr+ILhbi9a5ljaRY1QEKeOFAFeg15X+zrp19pXwpW01WyuLK4S+mzFcRGNscc4PajxL+0J4U8Ka5daVqmna59ptZWjbZaIFfaSNylnGVOOD3oA9Uoryjwp+0N4V8W68dNgtL+wRYJJ3ur4RpHGqLuJYhzjgVgax+1T4bstWa30rRr7UrVG2m63rEG91Ugkj67aAPdqKxfDPizSfFfhW38Q6Vcf6BNGXLTYQxbchg/YEEHPbv05rgNU/aF8NLrqaL4UsNQ8T6jI5SNbFAI3YdQGPJ6ZyARjnNAHrNFeLa1+0LP4T1CG18Y+A9V0kzLujP2hJN4HUrwAcdxnjivRfBPj3QfiBo7ah4cujIsbBZoZV2ywsegZf5EZB5weDQB0lFBIAJJwB1Jrx3xd+0r4S8O38ljpMNxrs8R2vJbMEhB9A5+99QCPegC18Wfg94U1/wAN65ryWP2TWoraW7F5FIw8x0QthlztIO3HTNfImgf8jJpn/X3F/wChivqHXvjiZvBeoReJfBOv6DDqVlNBbXc0BaFneNgoLELjOewNfL2gf8jJpn/X3F/6GKAP0RkDmJhEQH2naT0B7V+eniHTtctvFV5Z+IILk6w1w3nrKpMkkhPX/ayeQR1zxX3V418bad4D0VNU1e2vp7dpPLP2KDzCnBOW5GBx1PtXmM/7UngYSiSPR9amkX7rm3hGPofMzQB6T8NLbWLP4Z6Db+JfM/tOO0UTCU5deu0N/tBdoPuDXUVj+E/Edt4u8K2GvWMMsNvfR+Ykc2NyjJHOCR2qv4w8caB4F0oX/iS/W2RyRFEBukmPoqjk/XoM8kUAdBRXjlr8er7WtMutW8M/D3WtS0m1z5l2ZUj6DJwoDZwOoBOKu+Cv2hvCHi/UYtNnFxo19MwWJLzb5cjHoocHGfqBnoKAPVqKwPGXjGx8D6CNW1W2vbi380RsLKDzWXIJ3EZGF+Xr7ivMJv2qvBScQ6Xrsp9fIiUf+jaAPbqK8y1X49eEdH8Habrl4bjztTh86302MK1xtyVywztUZB5J57Zwa46y/aw0OW9VL/w5f29sTgyxzpIwHrtwP50Ae/Vw/j/4s+Hvhvd2Vv4givpHvEZ4/ssSuAFIBzlh61vDxZpc3gmbxVp8rX+mR2cl4pthlpERSxVQcfN8pGDjng4r5L+OnxG074iarpFxpen6jZLZwyI638SoWLMCCNrHjigD6c+H3xQ0L4lLqB8PxXsf9nmMTfaolTO/djGGOfuGuyr47+BHxO0z4cpro1XTdTvvt5tzH9ghV9mzzM7tzLjO8Y+hr6e8CeObH4gaDLqumWV9ZwxXDW5jvo1RywVWyAGPHzDv2NAHTVx3j7TPHt9HbSfD7XbHTHjV/OhvLcOJjxtwxVtuOe3euxooA+NNQ+PnxS0vU7rT73WIY7m0meCZPsUB2urFWH3fUGvUvBc/xm8b+CLPxHpvjPSYEvPM8uC4sEBGyRk5IjPUqa+d/iF/yU7xR/2GLv8A9HPX1x+z5/yQnw9/28/+lMtAHjer/HP4qeA/E0+j+KYdNuLm3I3Ry2wCupHDK0ZXII6H8x2r2v4U/FzTvidYTqlsbDVLMA3Foz7gVPAdG4yueOmQfwJ8D/af1Oyv/itBBZusktjp0cFyVP3X3u+0+4V1/Ot79lXwzqP/AAkWp+JpIni04WZs45GGBNIzox2+oUJz7kUAfUFFVdT1Sx0bTZtQ1a7is7SBd0s0zBVUfWvJm/aL0rVNdGkeCPDmreI7ps7TEoiVwOrDOWA92AoA9jorxy8/aFg8OaxHp/jrwdrGgySDcrEpMCv94fdyP93NeoeH/EekeKtIj1Tw/fxX1nJwJIz0P91geVPsQDQBp0VHPPDa28k9zKkMMSl5JJGCqijkkk8AV5Hq37R3hqPWk0jwrpuo+Jb2R/LjFnHtSRvRSfmb6hce9AHsFFeO6r8e7jwrcW6+NvAWs6NBcf6uZZUmDeoH3Rkemc16J4S8baB440s3/hrUEu41IEseCskR9GU8j+R7ZoA3qKqapqljoml3GpatdR2lnbpvlmlbCqP88Y7mvJF/aMsdY1ptN8EeE9Y8RSqCS0SiMFR/FjDEL7sBQB7NRXjV/wDtE2mgebb+LPB+uaLfeS0lvDOgKTkDgB+OCcDIBArqNR+LGnaP8NdG8Y3+l38kGqmNVtrJVlkjZ0Z+clQQNhGfXHFAGV4m/aC8H+FPEt7oep2+qtd2T7JTDboyE4B4JcevpXc+EvFFj4z8LWev6SsyWd4HMYnUK42uyHIBI6qe9fDfxG8QW/in4iaxrVlBcW8F5MHSK5ULIo2gYYAkA8ete0/Cz466F4P+Gmk6FfaLrlzPaCUPLaWyNG26V3GCXB6MB065oA7n9pKy1u++FJXQ0mkhju0kv44QSzQBW5IHVQ20n6Z6Cvn74D2WuXPxd0ibQUmCW8m69kQHYsGPnDnpgjgA98V9Da1+0P4U0B7dNS0zXY3uLeK4QfY1AKyRq4AJcAkBgDjociqnhn9onwn4h8T2GhaTo+qwS6hcCJZJYokUMe52uaAPYaK5Px58RdJ+HlpbXOt2uozQ3JcB7O38wJt2/eJIC53DHrg153N+1X4MXPkaTrkh/wBqGFR/6MNAHuFFeY+MPj14T8IWdr5nn3+oXUCTixttpaFXUMPMbOFOD05PtjmuW0X9qrw7e6gkGs6Je6bA7BftCyLMqe7AAHH0yfagD3eio7a5hvLWK5tJUmgmQSRyIcq6kZBB7giuV8c/E7wx8PbdG8Q3rC4lXdFZ2675pB6heAB7sQKAOuorxvT/AI86lrul3OreHfh1rGoaXbEiS5Eyr0GThQDkgdQM4qhb/tWeEpI18/RNbSY8FIo4nGfYmQZ/KgD3OiuB8BfF3SPiFrFxp2l6Vq9lJbwGdnvoERSNwXAKuefmrvqACvBvif8AtIW3h++n0bwTDDqF7CSk19KS0MbdwgH3yPXOPrXS/tCeNp/CHw3aDTpTFf6vJ9kjkU4aOPBMjD3xhfbdntXyz8MtAi8T/E7QdJuUDwT3atMh/ijTLuPxVSKAPe/CXhP4uePNKi1vxH49u/D8F0okt7e2hAkZD0JVCgUEcjJJ9aTxXZfGD4W2Da3pniz/AISrSbf5rmK7tgXjX+8yklto7lXBHXGOa+gAABgDAFNljSaJ4pkWSN1KsjDIYHqCPSgDwj4PfE3Wviz4m8Q6V4pS2bSZNPOLCKIBFViEYbvvHIJ6nv2rzH9oL4daL4C8Saa/hyN7e01KF3NszlxE6EA7ScnBDDgk45+g9P8AhL4Eu/Avx68VWUdncJpJsi1nctG3lsjSRsqB+hKgkHv8prnP2tf+Qr4Y/wCuNx/6FHQBL+yR/wAfXiv/AHLT+ctfS1fNP7JH/H14r/3LT+ctfQuu6/pXhnSJdT16+isbOL70spwM9gB1JPYDJNAGjRXkVl8fIvEupT2fgLwhrHiE24BllBSBAD0OTnGccZwTg8VnJ+01pFhrUml+K/DOraLcQvsmU7ZDEf8AaHynHfgHjpQB7dRVPSdWsdc0m21PSLmO7srpA8M0Z4Yf0PYg8g8VleMvHWgeAtIGoeJLwQI5KwxIN0kzDsq9/r0GeSKAOhorxrS/j5f+JBLP4U+HWuarZRNta4VwvPpwCM+wNIv7SOjNqNnpT+HtVtNWmvorSezvVEXkBzgvnknGR8pAJzQB7NRTJ54rW3knuZUhhiUvJJIwVUUDJJJ6ADvXj+oftH6FJro0jwfomp+JrtmKp9lTYshHXb1YjjrtA70Aex0V5Dc/H1PD88SeOfBOvaBHMcRztGJYyfr8ufoMn2roNC+K9jq3wt/4Te40u8itlkaN7W2H2iUYk2Z4xn1PoKAPlD4wWOt2nxW10+Ikm86e7kkgkkB2yQlj5ZQ91C4HHTGOor6j+ANlrdh8IrCHxEs0bmSRrWOcEOkBI2gg8gZ3ED0Irmrr9qPwIWX/AIlOtTshypNtDwfxk4r0nwB45sfiF4Y/tvS7a4toPPeHy7kKGyuOflJGOaANDxT4is/CfhbUNd1LP2exhMjKDy56Ko9yxAHua+TvCOqX/wAbPjjpqeM5mubAvJN9hDkRRRojMI1X0JCgnqRnJrpvjN8a9K8Z+A5dC0rStZs5ZLqNpJLyBEjZVJOMhyc5Cnp2rzb4QeLrPwR8Q7fWtRtLu7hjglTyrNA8hLLgEAkDH40AaPjb4J+LfD3jK5sdF0LUNT095S1ldWsDSqYyflDMB8rDoc46Z6VxGt6ZrVn4jubHXra6XV/OKzRzgtI7k9e+7PYjOe1fWlt+0b4Zns7m6fQvEcMNtt8xmskOM554c4HHU47VlT/tSeBhKJI9H1qaRfuubeEY+h8zNAHpPw0ttYs/hnoNv4l8z+047RRMJTl167Q3+0F2g+4NdRWP4T8R23i7wrYa9Ywyw299H5iRzY3KMkc4JHaq/jDxxoHgXShf+JL9bZHJEUQG6SY+iqOT9egzyRQB0FFeOWvx6vta0y61bwz8Pda1LSbXPmXZlSPoMnCgNnA6gE4q74K/aG8IeL9Ri02cXGjX0zBYkvNvlyMeihwcZ+oGegoA9WorA8ZeMbHwPoI1bVba9uLfzRGwsoPNZcgncRkYX5evuK8wm/aq8FJxDpeuyn18iJR/6NoA9uory3Wfj/4S0bwhpuszLcyXOpw+db6agUzBclcvztUZB5zz2Bwar/Dv9oHQ/HniJNDl0640q+nBNt5sgkSUgZK7gBhsAnGMHHXOAQD1qiiigAooooAKKKKAPNvhN/yHviD/ANjNP/6Ctek15t8Jv+Q98Qf+xmn/APQVr0mgAooooAKKKKACiiigAooooAKKKKACiiigAqlrOr2WgaLd6rqswgs7OJpZpD2UenqewHc1drwv9qnX5LDwLpmjQuU/tS7Ly4P3o4gDj/vpkP4UAVvCXijxt8cPEN/Pp+rz+FfCti4T/QlX7RMx5C+YQcNjk44GQMHOasePm8efB63g8R6L4nvfEehrKsd7Z6wFlePJwG8wAHBPGRjBI65rqP2edKTTPgrpLqu2S9ea5k46kyFQf++VWup+IulJrXw08Q2Ei7vN0+YoCM4dULKfwYA0ASeCPGOneO/Cdrruk5WOYFZIWOWhkH3kPuP1BB710FfMP7J+vSR63rvh93Jimt1vY1J4VkYIxH1Dr/3yK+nqACvC/GPxe17xD8Qo/APwsMKXZlMNzqsihxGV+/tBBAVQDliDk8AdCfXvFd9NpfgzWr+1OJ7XT55oyP7yxsw/UV8y/sqxRy/EbVp5fmmTTG2FuTzKmT+g/OgD1bUPhj48tNKe70P4n6xcazGu9Y7tV+zzMP4dhyFB98iq/wAHPjNceMNQn8L+L4EtPEVruCsq7BcbOHBX+F1xkgcEZIxivYq+PfiHKfB37Uz6hYfuwuo212QvGd6oZB/wIl8/WgD7CJwMngV8oWXxS+NviJZr/wAMwXd7pxndYpLfSo5FAB+7nZ1AIr6a8VX39meDtZv84+y2E82fTbGx/pXA/AlrPQPgVotxqV1BZpcNNM0k8gjXmVwOT/sgUAeWf8Jr+0P/ANAvUv8AwTR//EV7b8I9S8X6r4Le4+IEE0Gqi7dVWa2EDeWFXadoA7lua63T9Y0zVlZtK1G0vVX7xtp1kA+u0mrlAHm/xi+LEHwz0SJbWKO61q+B+ywOflRR1kfHOAeAOMn6Gsrwz4F8ceJPD8OseMfH2uafqN5GJo7PTCkEdsCMqrLt+Y4xkcY6ZPWvGvG90fHX7UsdhcnzLWPVoNOCHkLHG4Eg/E+Yfxr7CoA8E0X4p+JPh78TP+EI+J13HqNnMyi01jyxG21+EdscFSeDnlSDyQK97r5t/a00pP8Aim9WRcOfOtpGx1Hyso/D5/zr2L4Ta9J4l+FHh/U7hzJO9qIpXJ5Z42MbE+5KZ/GgDodb1zTfDmj3Gq63dx2dlbruklkPA9AB1JPQAck145bfEvx/8UtQlg+F2lw6Po0T7H1rUkDEn/ZU5XP+yA3bJGa434ka1efGH44WXgPTLh49GsbowyFDwzICZpT2JUBlX6f7Ve/Qa34K8GWVtoK61o2kx2iCKK0lvYomUD2Zgc9yepJoAPBPhzXPDtjcp4k8UT+Irm4kEgllhEQi4wVUAnj8q6YnAyeBUdvcwXduk9pNHPDIMpJEwZWHqCODWd4qvv7M8Hazf5x9lsJ5s+m2Nj/SgD5lsvil8bfESzX/AIZgu73TjO6xSW+lRyKAD93OzqARVn/hNf2h/wDoF6l/4Jo//iK9T+BLWegfArRbjUrqCzS4aaZpJ5BGvMrgcn/ZAr0fT9Y0zVlZtK1G0vVX7xtp1kA+u0mgDkvhHqXi/VfBb3HxAgmg1UXbqqzWwgbywq7TtAHctzXjnjX4q/E+L4s614b8GzS3SWs5WG2t9OjmdUCgkn5Scc9TX05XMeGvBNv4d8UeJNcE4uLnXblZmPlbTCirgJnJzzk5469OKAPCF8UftGMMjTrv8dNgH/stR3Xi/wDaGsrOa6u7S4ht4I2klkewtwqKBkknHQAV9RV5B8cNavNYn0j4aeHpMal4hlBunXnyLUHJJ9jtJ+iMO9AFr4C+JfGPjDwvfa34xu0uLeaYR2GLdIjhMiRvlAyCSB9UNeq1R0TR7Pw9oVlpGmR+XaWUKwxL3wBjJ9SepPcmr1ABRRRQAUUUUAFFFFABRRRQAUUUUAFFFFABXm2t/wDJx3hf/sC3f/oQr0mvNtb/AOTjvC//AGBbv/0IUAek0UUUAFFFFABRRRQAUUUUAFFFFABRRRQAUUUUAFFFFABRRRQBS1nV7LQNFu9V1WYQWdnE0s0h7KPT1PYDua8P8JeKPG3xw8Q38+n6vP4V8K2LhP8AQlX7RMx5C+YQcNjk44GQMHOas/tU6/JYeBdM0aFyn9qXZeXB+9HEAcf99Mh/Cun/AGedKTTPgrpLqu2S9ea5k46kyFQf++VWgDl/HzePPg9bweI9F8T3viPQ1lWO9s9YCyvHk4DeYADgnjIxgkdc16r4I8Y6d478J2uu6TlY5gVkhY5aGQfeQ+4/UEHvUfxF0pNa+GniGwkXd5unzFARnDqhZT+DAGvBf2T9ekj1vXfD7uTFNbrexqTwrIwRiPqHX/vkUAfT1FFZPiu+m0vwZrV/anE9rp880ZH95Y2YfqKAPIfGPxe17xD8Qo/APwsMKXZlMNzqsihxGV+/tBBAVQDliDk8AdCdrUPhj48tNKe70P4n6xcazGu9Y7tV+zzMP4dhyFB98ivKf2VYo5fiNq08vzTJpjbC3J5lTJ/QfnX1hQB478HPjNceMNQn8L+L4EtPEVruCsq7BcbOHBX+F1xkgcEZIxivYq+PfiHKfB37Uz6hYfuwuo212QvGd6oZB/wIl8/WvsKgArwH47/G658O3Y8M+C7vy9RiYNfXqAN5HcRLkEbj1PoOOucdx8U/H93oS2vhfwjH9r8W6z+7tIl5+zoeDM3oBg4zxwSeFNeOfGnwBafD/wCE+hWaSfatSutSabUb5+XuZjG2Tk84GTgfU9SaAPfPhZq19rvwu0LU9WuGuby5tt80zAAudxGeOO1Uvit8T7L4ZeHEupYhd6jdkpZWu7Acgcsx7KuRnucgd8hfgt/yRjw1/wBen/szV4z+1jp14Nf0DUyrGxa1e3Vh91ZA24g+hII+u0+lAHdeF/C/xD8daJBr/izxxf6GL5BNbadpEaw+VG3Klm65I5wckdzngc74s8T/ABD+B+vWM+qay3izw1euVBu4wsqkcld45DY5ByQcHjivVPhh470fxx4OsptMuY/tdvbpHd2e7DwOAAcj+6SOD0I98iuA/arv7eL4daXYuV+03GprLGp67UjcMw+hdR+NAHq8PiK21jwMfEGiS7oJ7Frm3cjkfISMj1B4I9RXzDoPxY+N3idHfw99o1GONtryW+lRMin0LbMA+1e7/Cbw7eWHwK0nRtT3W9zNZzFg68xiZ3dcj1CuOK6PwP4Tt/BHgzT/AA/ayCZbOMh5hHs81ySWcjJxkk9zQB4CPE37RpH/ACDrr/wXW/8A8TWZr3xI+O3hjThfeIBJYWrSCMSzWFuAWOSAPl68H8q+sK8R1A/8LZ+PkWmr+98NeDD5tz3Se7zwp9cEYweyP/eoA9L8FXOtR/D7TrzxtcR/2obYz3shRYxHklgCBgDapAPuDXkdl8RPFnxk8f3Oh+BdQbw/4csRvuNRSINPKmcAjP3Sx+6BggAkk4xXX/tD6/JoXwdv0t3KS6lLHYhgezZZx+KIw/Gud/ZV0pLb4eanqRXEt5qBQtjqkaLj9XegCz450Dx18O9Ak8TeEfGmq6xHYDzL2w1jZcB4/wCJlO0YA6kDBxk5457X4XfEey+JXhUajBGLa9t2EV7a7s+U+Mgj1UjkH6jtXXXtpDf2FxZ3K74biJopFPdWGCPyNfJP7OWqz+HvjNNoUjny7+Ka1kXoDJFlw31ARh/wI0AfUPivXL/w/pKXelaDd67M0wjNraMquqkE7+ewwB+NeGfFT41ePtL0hbeDwpP4VivC0SXt1IJJm452YACnHfk+mDX0dXz7+1n/AMi34d/6+5f/AEAUAepfCa+vdS+E/h+91S6mu7ue13yTzOWdyWPJJ68V2FcX8Hv+SO+Gf+vFP612lABRRRQAUUUUAFFFFABRRRQAUUUUAFFFFABRRRQAUUUUAFFFFAHm3wy/5Hv4jf8AYaT/ANFCvSa82+GX/I9/Eb/sNJ/6KFek0AFFFFABRRRQAUUUUAFebf8AN03/AHJn/t7XpNebf83Tf9yZ/wC3tAHpNFFFABRRRQAUUUUAfn78QGkf4l+Jmmz5h1e63Z9fOavpT9lQr/wq/UgPvf2xJn/vzDXjv7QnhGfw38U7y+EZFjrJ+1wSY4LnHmLn1DZP0YV3v7J/iGJW13w5M4WV9l7ApP3gPkk/L93+tAHv/iXxBZ+FfDt1rOpJO9rahTILeIyP8zBeFHXlhn2zXm3/AA0z8Pv+eupf+An/ANevXa+T/wBqjTbOz8daVc2ttHDNdWRado1C+YQ5AJx1ODjP09KAPVY/2lfAMsixxNqjuxwqrZkkn6ZrK/aY+yan8HtM1RYPnN9C8LyJtkRXjckeozxkeoHpXK/slWlvJqXie7khRriGO2SOQr8yKxl3AHtnav5V237UP/JI4v8AsJw/+gSUAeB/Azw9p3if4rWGn61B9ps/LkleAn5ZCi7gGHdcgHHfFdt8aPgx4qvPiLc6p4W0QXel3iRCFLPYogKxqhQpkYGVzkDHPrXOfs2/8lpsf+vWf/0A19m0AeP+HPhVrNh+zpe+DpbqO21jUI5JW+fKROzAiMsOxChSRkcnr38z+HHwI8c6H8RNK1fWbe302x025W4lnN1G+9V5KgKSeenOOCa94+K/jw/DvwFcazDCk928i29pHJ90ysCQWx2AVjjvjHGc18u+GtR8TfGr4kadofinxDeyWl07PNGj7I0RFLkLGPlBIXAOO+eaAPRP2nfFXhnWtA0rT9K1azv9Ttb0s6W0gk8uMoQ2WXIHIXjOa539lW7mj+JmpWqufJm0t2dM8Fllj2n8Nzfma6D9ojwb4d8G/DXRbTw3pNvYqdRAeRFzJJiJ/vOfmb8TXOfsrLn4qagf7ujSn/yNDQB6Z+014zuvD3gmz0XTpWhm1uR0lkU4PkIBvX23F1H03DvXi37Pfhq28S/FyzF9Gs0GmwvfNGwyGKFVTP0Z1P4V6R+1ppsz2fhnU0UmCKSe3kbsGYIy/mEf8q439l7UIbP4tTW8zBWvdMlhiB/iYOj4/wC+Ub8qAPpv4h2NtqXw28Q219Cs0R06d9rDoyoWU/UEAj3FfB+gf8jJpn/X3F/6GK++PGv/ACIHiD/sGXP/AKKavgfQP+Rk0z/r7i/9DFAH6JkAggjIPUV8C/E6zt9P+KfiS1soUggj1GYJGgwqDceAOw9q++q+C/iz/wAle8Uf9hKX/wBCoA+uPgmcfBXw2TwPsp/9DavkP4k+Nbvx545vtXuZWa38wx2cRPEUIJ2gD6cn1JNfXXwYjE3wP8PRk4D2bKSO2XaviPUbCfS9UutPvEKXFrM8Mqn+FlJBH5igD66+HHxN+Hnhn4Z6BpU3iOyt5oLGM3EWGysrDdIDgdd7NXyf4l+xDxZq39kOr2H26b7K6DAaLedhHtjFfZvwlt/D/iD4T+HrxNM0+aRLKO3mY26FvMjGxs8dSVz+Ndg3h7QkUs+j6cqqMkm1QAD8qAOf+EOu3PiX4SaBqd+5luJLcxSSMclzG7R7j7nZk/Wvjf4l2sFl8UvEttaRLDDHqU4SNBhVG88Adh7V916FfaRqOjw3Hhye0n09s+U1mVMfXkDbwOc596+Gfit/yVzxR/2E5/8A0M0AfSvwK+HvhqL4aaZrVzpdvfajqMRkluLuNZSoDFQibh8qgAdOvftXhf7QXhzTvDXxXuINHto7S2uraO58iJQqIzZDbQOgJXOPevpr4J/8kW8Nf9ep/wDQ2r57/ah/5K5F/wBgyH/0OSgD1L9le8ln+GN/bysWS31R1jB/hUxxtj8yT+NcR+1l/wAjV4f/AOvKT/0Ouw/ZS/5J3q//AGFW/wDRUdcf+1l/yNXh/wD68pP/AEOgDS/ZG/5m7/ty/wDa9fSVfNv7IxGfFwzz/ofH/f8Ar6SoAKKKKAPz++IX/JTvFH/YYu//AEc9e0fDXwH8QvEPwl02fw94/bSNNnE4gsUiKmPEzhv3i/NywJ/GvF/iF/yU7xR/2GLv/wBHPX1x+z5/yQnw9/28/wDpTLQB82at4f1D4ReL1Hjrwxp/iH7QTNDPcTytHNg/MVIIBOTyHUnkcc8/SXwq+L/hrx7brpem2o0bULaLI01tu3YP+eRAAIHpgEemOa5H9q/7N/wgmi79v2r+0v3frs8p9/67P0rwD4VzXcHxa8LtYFhKdTgU7f7jOA/4bC2fagD0X9p3xpd6l43TwrDKyWGlxpJLGDxJO67tx9cKygemW9a639k7RoU0PXtcKAzy3KWauRyqqocgfUuuf90V5h+0Rpc+nfGrVZplIjvo4biFj/Evlqh/8eRh+Fev/so3CN8PtYtgfnj1QyEezRIB/wCgGgDQ/ae0WG/+FaakyDz9NvI3R8chX+Rl+hJU/wDARXh/wD8aXfhb4nWFkJW/s/WJVs7iHPylmOI2x6hiOfQkd6+gP2kblIPgrfxuQGuLm3jT3IkDfyU18wfCfSZ9Z+LXhu2tlLFNQiuHwOiRsJGP5KaAPZ/2p/Gl3bf2b4QspWihuIvtl7tOPMXcVjU+2VYkey+lYX7KWjQ3fjHWdXmQPJYWiRxEj7jSscke+EI+hNRftV6XPB8QNK1Mqfs11pwiRu2+ORiw/J1P41q/sk3CLqXii2J+eSG2kA9lMgP/AKGKAPWvjlosOtfBvXVmQM9pCLyJiOUaM7iR/wAB3D6E18jfDfxnd+BPHVhq9tKywCRY7yMHiWEkbwR9OR6EA19kfFu5S0+EHieSUgK2nSxjPq42j9WFfDOj6Zca3rdlpdkhe4vJ0gjAGfmZgB/OgD6i/aslvU8BaQkBYWUmof6Rt6FgjFAfb7x+oFeO/Bb4qW3wx1m/bUtPkvLLUUjWVoCPNiKFsFQcAj5jkZHbnivqDxvqnha51DS/AXiy1kmj8RI6QMQBGGjwQC2QVfJG0gdcV4p4q/ZV1W2kkn8HavBew5yttffu5QPQOAVY+520Aek6j4q+HPxu8LXHh6HVrdb64Qm1ju0MU0M2PlZN33jnqFJyMiu48BeH7nwr4D0nQ7+aKe4sYBE8kOdrYJ6ZAPSvhHxB4d1jwnrL6Zr9jLYXsYDeW+OR2ZSOCOOoJHFfYP7P/inUPFfwqgm1iZ7i5sbl7MzyHLSqoVlJPcgOBnvjnmgD5g+Mv/JZPE3/AF+n+Qr6k/Z8/wCSE+Hv+3n/ANKZa+W/jL/yWTxN/wBfp/kK+pP2fCD8CvD+D0+059v9JloAl+PNlbXnwW15rmFJGt445YmZcmNxIo3A9jgkfQkV8pfCL/ksHhj/ALCEf86+tPjh/wAkU8Sf9e6f+jEr5L+EX/JYPDH/AGEI/wCdAH3dPBFc28kFxGksMqlHjdcqykYIIPUV+c17GsWoXEcYwiSsqj0ANfo5X5y6j/yFLv8A67P/AOhGgD7a+Hfw28KaR4H07GjWl5cXlpHNdXN5Cs0kzOoY5LA8c8DpXyT8VNDs/DfxT17StMjEVpBc5ijHRFZQ4Uew3YH0r7f8J/8AIl6J/wBg+D/0WtfGXx0/5Lb4j/67R/8AopKAPpz9n+8lvPgjoRnYu0XnRAn+6szhR+AwPwr5b+Ms9/cfGLxIdUL+al4yRh+0Q/1ePbZtP419Ofs6/wDJENI/663H/o564f8AaUbwAJ4U1SO6/wCEqMAaJ7AKMR8hfO3cEcHGPm/CgD0r4HRwR/BTw4LXbsNu7Nju5kbd/wCPZr4z8XRw2njrXI7HCQQ6lcLDs4wolbbj8MV9H/DbwH8SNJ+Hdvb+HfGekwWGoQi4iU25na1Mgydj9M8+4znFXPBv7Muh6JqcepeKNSk16eN/MWAxeXCW65YZJfn1IB7g0Aep+CLu9vvAOgXerbvt0+nQSXBf7xcxqST7k81uUAYGBwKKAPmr9rdpPP8ACinPl7bsj65iz/SvO/2eyo+Omgb/AEudv1+zyV7x+0p4Qn8RfDmPU7GIy3OizGdlUZJhYYkx9MK30U18u+BPEI8KePtG1x8mKzukeUL1MZOHx77SaAP0DoqO2uYby1iubWVZoJkEkciHKupGQQe4IqSgAr5k/a1/5Cvhj/rjcf8AoUdexr8TbO6+LSeB9JspNQkit3lvryGQbLNh0Vh37A4PBYDrnHjn7Wv/ACFfDH/XG4/9CjoAl/ZI/wCPrxX/ALlp/OWu++Pvw6134g+HNNTw20ck9hO8j2skojEoZQMgnjIx3xwx59eB/ZI/4+vFf+5afzlrrPj/APFzU/AgstD8NMkOp3sJnlunQMYYslRtB43EhuT0A98gAy/gZ8ONd+GWoarrvjiaz0i0mtRAI5btCM7g29mB2gAAjr3NeU/tA67oniL4ovfeHL2G+g+xxRzTQZKtIpYHn+L5dvIyK6P4K+EG+L3iTUtY8f6je6vb6Z5e2C4uGPmu+4jJzkKAvQYzkdgRWL+0bpmn6P8AE6Cx0iyt7G1i0yELDbxhEHzP2FAHsH7LF3NP8Lr6CVyyW+qSLECfuqY42IH4kn8TXln7UEt83xXijui/2ZNPi+yg/d2ktuI992fyFeofsqLj4X6m3rrMg/8AIMP+NbfivSvBvxj1zV/CGoJc2uteHipS6AVXAkAOU5O5PuhgQOSOnWgDy34M/HrRfBvhO38M+JbG4jht5HaK9tVDgh2LHeuQeCTyM8Y44r0LxTofhP42HS9Z8Fa1pz6zpdzHK0hJWRoQ2SjpjeOcEEjg5Hc15L4o/Zk8YaMsk2hzWuu265IWI+VNj/cbj8AxNeU6dqOq+F9fjvLCWfT9SsZeCMq8bqcFSD+IIPuDQB9hftFS30XwW1L7AXCtNCtyU6+UXGfwztB+tfMXwo8fr8N/Gy61NY/bYJLdraaNWCuFYqdyk8ZBUfUZHGc19Za5470KDwP4duPF9mzWXilILaRNqmKMzR7j5m4jCDJ5GSK8o8Yfsqu1xLc+CNXjWNiWWy1DPy+yyKDn2yPqaAPQLX4q/DL4oaNNoWo38cK3yeW1nqSeS2T0KscruB6YbOcVv/CrwTdfD/wUNCvLuG7KXUsscsWcFGORnI6+tfF3i3wT4g8D6ktj4m057OWQFomyGSUDqVYZB7e4yM19KfsveKtR1vwhqekalM9wmkSxi2kkOSscgbCZ9AUOPQHHQCgDxr9oWytrL406qtpCkKyxwyuqLgF2jUs2PUnk+/Ne7fsx/wDJHx/2EJv5LXiH7R//ACWvUf8Ar3t//RYr2/8AZj/5I+P+whN/JaAI/wBqH/kkcX/YTh/9Akrxb9m3/ktNj/16z/8AoBr2n9qH/kkcX/YTh/8AQJK8W/Zt/wCS02P/AF6z/wDoBoA+zSAQQRkHqK+BfidZ2+n/ABT8SWtlCkEEeozBI0GFQbjwB2HtX31XwX8Wf+SveKP+wlL/AOhUAfXHwTOPgr4bJ4H2U/8AobV8h/Enxrd+PPHN9q9zKzW/mGOziJ4ihBO0AfTk+pJr66+DEYm+B/h6MnAezZSR2y7V8R6jYT6Xql1p94hS4tZnhlU/wspII/MUAfXXw4+Jvw88M/DPQNKm8R2VvNBYxm4iw2VlYbpAcDrvZq+T/Ev2IeLNW/sh1ew+3TfZXQYDRbzsI9sYr7N+Etv4f8QfCfw9eJpmnzSJZR28zG3Qt5kY2NnjqSufxrsG8PaEiln0fTlVRkk2qAAflQBz/wAIddufEvwk0DU79zLcSW5ikkY5LmN2j3H3OzJ+tfG/xLtYLL4peJba0iWGGPUpwkaDCqN54A7D2r7r0K+0jUdHhuPDk9pPp7Z8prMqY+vIG3gc5z718M/Fb/krnij/ALCc/wD6GaAPcvDXwttNf/ZjKaBZwf8ACQatbrMbqfBeQpMCIw5+6pVNoHA557muT+EHwW8Y2nxK07VNf0uTS7HS5vPeSZ1zIwHyqoBOcnGT0xnnoD7r8E/+SLeGv+vU/wDobV3dABRRRQAUUUUAFFFFAHm3wm/5D3xB/wCxmn/9BWvSa82+E3/Ie+IP/YzT/wDoK16TQAUUUUAFFFFABRRRQAUUUUAFFFFABRRRQAV80ftb7vtnhXOdvl3WPrmLP9K+l68K/aq0KS+8D6XrMKFv7NuykhA+6koAz/30iD8RQB3/AMG8f8Kb8M7en2Ifnk5rqdax/YOobvu/ZpM/Taa8+/Z51VNT+CukorbpLJ5raTnoRIWA/wC+WWup+Iuqpovw08Q38jbfK0+YIScZdlKqPxYgUAfMn7L+7/hbsm3p/Zs276bk/rivsCvmH9k/QZJNc13xA6ERQ262UbEcMzsHYD6BF/76FfTjyxxsqyOqlzhQxxuPoKAGXVtFe2c1rcpvhnjaORT/ABKwwR+Rr45tI9Z/Z6+MS3F/ay3GnHfEJFGBeWrEcqem4YUkdmXHQ5r7LqnqekadrVmbTWLC2v7Zjkw3MKyLn1wwIoA8+P7Qvw5OnrcRaxNLMw+W0SylMzN/dxt25/HHvXzp4vv7/wAeftAQNc6VNplxe3tpAlnNzJGhCBS/odpDEds47V9R6npvgP4Y6JdeI/7D0rTRaoSJYbVFlduyIcZyTwBXj3wF8Kah4y+IWo/EzxBCVh+0SvahhxJO5IJXPVUUkD3xj7poA948c6Ne+IvAes6NpckUV3f2j28bzEhBuGDkgE4wT2rzvw5+zr4fj0Szj8b3N5r17DCIwrXUkcFuP7kSqQQB6k89cDOK6r4m/FLS/hjYWM+p2txeS30jJDDBgHCgFmJPYbl/Ouj8MeIrLxb4Ysdd0vzBa3sXmIJVwy8kEEeoII/CgD5u+L3wiPwwhg8ZfD++vLOCGZUmjEx32xY4VlfqVJwCDnkjqDx7H8FviHL8RPAou9RCjVLKX7Nd7BgSHAKyAdtwPT1B7VD+0Ddw2vwR1xZyMz+TFGp/iYzIePoAT+FcT+ydp88PhbX7+RSILm7jijJ7lEJbH/fYoA8x8L5/4asHnZ3f8JHc5z6+Y/8AWvs2vjzxtbHwN+1Kl/cjy7V9Wg1EOeA0cjhnP4EuPwr7DoA8F/awx/whWh/3v7QbH08tq3PgPePp37PMV6Rn7MLyZQfRXc/zBri/2tNVQnw3pKNmQedcyLnoPlVT+OH/ACr1f4c+FZNM+CGl+H7pfKln05/OVhyjTbnYH3BfH4UAfMfwR8M6l41+IF3b2+t3GlA2ckt7dW/+vkjLqGVG/hZiR83pnr0r369/Zs+H1zpb28FneW1yVwL1bt2k3epDEqfyryD9mmdtF+Mt7pV+vk3E1jPa+W3USo6MR+AR/wAq+uKAPkDwH4n1v4K/F2bwrq900ulNeLbXcRJ2YfGydAfunDKx9Rwe2PqHxzo174i8B6zo2lyRRXd/aPbxvMSEG4YOSATjBPavlf48Wx1r9oOfTtNG+6m+yWwCdTIyLj8fmWvo74m/FLS/hjYWM+p2txeS30jJDDBgHCgFmJPYbl/OgDlfDn7Ovh+PRLOPxvc3mvXsMIjCtdSRwW4/uRKpBAHqTz1wM4rzv4vfCI/DCGDxl8P768s4IZlSaMTHfbFjhWV+pUnAIOeSOoPH0j4Y8RWXi3wxY67pfmC1vYvMQSrhl5III9QQR+FcX+0Ddw2vwR1xZyMz+TFGp/iYzIePoAT+FAE3wW+IcvxE8Ci71EKNUspfs13sGBIcArIB23A9PUHtXodeAfsnafPD4W1+/kUiC5u44oye5RCWx/32K9/oAqarqlpomj3ep6lKIbSzhaaZz2VRk/j7V5L8E9Mu/FGt618UdeiK3OsStBpsbc+TbKccf98hc/7BP8VR/GrU7rxd4l0X4WaDKVm1OVbjVJU58m3U5AP5Fsf7Kf3q9f0zTrXR9KtdN0+IQ2tpEsMMY/hVRgD9KALVFFFABRRRQAUUUUAFFFFABRRRQAUUUUAFFFFABXm2t/8AJx3hf/sC3f8A6EK9JrzbW/8Ak47wv/2Bbv8A9CFAHpNFFFABRRRQAUUUUAFFFFABRRRQAUUUUAFFFFABRRRQAUUUUAfNH7W+77Z4Vznb5d1j65iz/SvYfg3j/hTfhnb0+xD88nNcB+1VoUl94H0vWYULf2bdlJCB91JQBn/vpEH4iun/AGedVTU/grpKK26Syea2k56ESFgP++WWgD0HWsf2DqG77v2aTP02mvkz9l/d/wALdk29P7Nm3fTcn9cV9N/EXVU0X4aeIb+RtvlafMEJOMuylVH4sQK8G/ZP0GSTXNd8QOhEUNutlGxHDM7B2A+gRf8AvoUAfT1RXVtFe2c1rcpvhnjaORT/ABKwwR+Rp8kscK7pXVFzjLHAzTqAPjS0j1n9nr4xLcX9rLcacd8QkUYF5asRyp6bhhSR2ZcdDmvfj+0L8OTp63EWsTSzMPltEspTMzf3cbdufxx716DqekadrVmbTWLC2v7Zjkw3MKyLn1wwIrltT03wH8MdEuvEf9h6VpotUJEsNqiyu3ZEOM5J4AoA+XPF9/f+PP2gIGudKm0y4vb20gSzm5kjQhApf0O0hiO2cdq+rPiL48s/h/4XfUbhDc3kzeTY2a/euJj0Xjt3J9PcgV4r8BfCmoeMviFqPxM8QQlYftEr2oYcSTuSCVz1VFJA98Y+6a9h+JPwx034mWFja6te3dollK0iG225YsMc7gfSgDK+Fnga60hrrxb4ymW68W6z89w7EH7JGekK+mABnHHAA4GTxv7V7q3gvQ9rA/8AEwbof+mZqb/hlHwt/wBB3WPzi/8AiK82+NPwa0f4aaBp1/pOo313Jd3JhZbnZgAKTkbVHPFAH0L8F3X/AIU14aG4Z+ydM/7TVB8YvEfgvR/Bstn48j+2Q3gIgsYhmaRh/EnTbjP3sjHTnOD538Hfgfok+keGfHDanfi+BW78gFPK3Kx4+7nHHrXI/EG4bVv2t7Kz1s7rODUrG3jjk+6IyI2x9CzEn/eNAGfa/A/4iafp8XirwrBNYyMxltrJb3bfRRHlSxAVSSOoGD7dqpaJ8RntviRDqHxj0u81u5sQsMaXAEbWJBzu8jAVj35x68nFfaFeQ/tG+EtK1b4Y3uuzwRpqeleW8FyBhirSKpjJ7g7sgdjj3oA9R0fWLDX9HttV0e5S6srpN8UydGH9CDwQeQRirteIfsrT3Unw11GKYsbeLU2EBPbMaFgPbJz9Sa9voA4j4t+OB4D8AXd/btnUrn/RbBAMkzMOGx32jLfgB3pvwh8EHwN8P7W0u1zql4fteoO3LGVx90n/AGRhfqCe9cLZn/hbv7QD3h/e+GfBh2w90nus9ff5lz9I1/vV7nQB4b+1bu/4VvpOM7f7WXP18mXH9a1/2aMf8Kat8dfts+frkVa/aI0KTW/g7fvAheTTZo70KB/CuVY/gjsfwrnv2VdVS5+Hmp6aWzLZ6iZCueiSIuP1R6APcq+Mvh1n/hqG38rOP7Xu8Y9MS/0r7GvbuHT9PuLy6bZDbxNLIx7KoyT+Qr5K/Zy0ufxB8ZpddkQ+XYRTXUjdhJLlAPqd7H/gJoA+vK+ff2s/+Rb8O/8AX3L/AOgCvoKvn39rP/kW/Dv/AF9y/wDoAoA9O+D3/JHfDP8A14p/Wu0ri/g9/wAkd8M/9eKf1rtKACiiigAooooAKKKKACiiigAooooAKKKKACiiigAooooAKKKKAPNvhl/yPfxG/wCw0n/ooV6TXm3wy/5Hv4jf9hpP/RQr0mgAooooAKKKKACiiigArzb/AJum/wC5M/8Ab2vSa82/5um/7kz/ANvaAPSaKKKACiiigAooooA57xt4I0fx94dk0jXYS0ZO+GZOJIH7Op9f0I4NfNF58E/iR8NvFEGt+DlGqi0k3wXNoRvx0KvETk5GQQNwwetfXFFAHjOn/GjxobNY9R+EniBr4DDGCGVYnPqC0fyj8T9a4Xxh4C+KXxm8R2+o6roFn4etYI/JgW5uB8ik5O7GXJ5/uge1fUFFAHm3wh+EcfwutL5pNUbULzUBGJisYSNAm7AUck/ePJPPHArlPjZpPxI8e2reHdF8GINKt7wTJfHU4N1yFUgEIzKUHzHg5PAr3SigD5H8B/C/4teAvGFrr9h4SiuZIA6tDLqFsFdWUqRkSZHXIPqK+ovDOoaxqehx3PiTRBol+zMHsxdJcbQDwd68cjnHataigDhfi/4Cm+Inw/l0mylSK9hmW6tTIcIZFBG0nsCrMM9iRXy/oPw9+Kng/wAXW1/o3hrUIdRs5D5cqxB4zkFSC2dpBBI69DX21RQB86+NPhj8VPiJ4P8A7Q8U39oNStWD2ehW21Y8EYcs+ceZ0xyRjPIzXCfDfw58VPh/4yOo6N4Mu55pIWtpY7qIrE6MQfv5AHKqc57V9i0UAcprPhc/ED4cf2P4ztI7O7u4FaZLdw/2WYcgo3fB/PkdDXy3qfwX+JPgTxLFeaHYT3zWsoktb/Tfn5B4JT7w9wRjqORX2fRQB4DCPjh4/wDDF5p+tW9p4esWtnWSRYNlzefKf3YUsdu44BOFGCfpXkll8BfigJ454PDjQvGwdHe8t12kHIOC9fbNFAHnOmeIfinB4duZta8E2F3qcflrBBaamkQmznexLEhcYXjPOa+ffEfwY+K3iXxNqOtXnhZI5r+4ed0jv7bapY5wP3nQdK+yKKAPJvgxD8QvDuk2fhfxd4VitdNs4n8nUlvoXYfNuCNGrMT1IyMcAVjfGT4BN4x1KTxF4Slht9VkA+1Wsx2x3JAxuDfwvjg54PXg5J9yooA+QPCWmfGr4X3c0GieH79oJm3S2pgFzA7dN3yE4PuCM8elehJpXxn+KUA0/wAVG28JaFLxdC3TbNOndQu5m59CVHrnpXvtFAHKS6fceAfAlvp3w/8ADY1ZrTbHFZG7S3LA5LSNI/BOeT6k18w+Ifgt8VfEfiXUdau/CyRzX9y9w6Jf221SzE4H7zoM4r7JooA8q+DsXj3w74XTw54r8KR2tvptq5s7tL+FjO2/KxFVZsH5j83A46V5P8S/hz8VPiP4xfXJvBa2C+SkEcC6pbSbVXJ5beMnJPYV9W0UAfP/AMFNA+J3w6lbR9S8Gxy6Rf3aSTXP9pQB7XICs+A7bwFAO0DPHWug+P8A8LdS8f6Tp9/4dVJdT00upt2cJ58bYJAJ43ArwDjOT7V7BRQB8dfD3Q/i98Ptfnn8OeFLsyXCCKaK7tswyAHIy2VHB6EMOpr6d8BTeNLnRpZviFbadaXzy5ht7AkiNMDhjuYZznoTXUUUAFcl431rxnpS26eCPCkOvNKrGWWa/jgWAjG0bWILZyehHSutooA+L9U+B3xW1jWLzU73w0puL2d7iUrfWwBd2LHA8z1Jr1D4eL8aPAPhaLQB4EtNRs7dna3L6lbxvHuYsQSJDuG5iemeetfQFFAHy94z+Gnxi+KWvRXniSw0/TooVKW8BvE8qBSecBC5JOBk9TgdgBXoXwm+Atl8P9QXW9YvF1PWVUrEY0KxW2Rglc8s2MjcccE8d69fooA4P4qfCzTviboccM8n2PU7XJtLwLnbnqjDupwPcHkdwfH/AIe+HviT8FPEl75vhWbXdJvVVJv7NlEm4qTtkTuCMkYYDOa+nKKAPm74m23xG+Mk1jpel+DL3RtItZPNZtSkWIvIRje2TwACQAMnk/h6J8Ifg3ZfDW0kvLuZL7XLlNktwq4SJOuyPPOMgZJ5OBwK9NooA5j4geAtL+IfheTR9X3RkN5lvcoMvBIBww9R2I7j8CPn/wAM/Dz4kfBjx4NX0zRP+Ei09kaCb7DKP38RIONp+ZWBAPQjIxk19T0UAfPvxM1b4g/FHQo/Dfh7wFqul2k0ivdzagViMm05C8kAKDg5zk4HTvufB34EReBLtdd8RzQ3uthSIY4smK1BGCQT958cZwAMnGetezUUAeL/AB4+HniTx3r3hX/hF4whtTcebePLsW2P7tkYkfN1U42gnIq1onxD8eeGrJNO8f8AgLWdSuYBtGoaHEtyLgDozKpwD6nP4CvXqKAPlvx34T8d/G3x5b31r4UutA063gW2SXVv3LBdxYuwPzE5booPSvoHwF4Ms/AXg2z0GwczCEFpZ2GDNIxyzY7egHYACujooA+Y/jp8FfEepeNLrxN4Vsm1K2vwr3EETDzIZAoUkKfvA4B4yck8dKr/AAyf43+FNK/sLQvCytZeYZE/teHy1hJ+9hi6cZ5xz7V9SUUAeM/EqL4peIvBLeFrTwlZ3kl5bRfbdTg1CJIy+QzrHG5VgMjGSTxXjnh74L/Fjw34j0/WrDwwjXFhcJPGsl/bFWKnOD+96HpX2TRQBwd34m+IaeELW6tPAEUmuTO6TWTavCEtwPuybs4YH+6DketfMcvwA+KM0zyyeGss7FmP2+26n/tpX2xRQB574H1Lx7ZeAprbxF4Oji1PSrWKKyhj1KHGobVx1BYRkbRkk4OeK8C8ZfCL4qeMfGOpeILnwktvJfS7/JTUbZggACgZ8zngDmvr+igDxr4JWHxE8Iafa+FvE3hKODSEeV11FdQhZod2X2mNWYtluMjGM+1cF+0no3hq+8Sf2vZ+KLCLWYoRDd6Y7M7ttztIKBtrYOMNgYAOfX6fmVnhdY32OykK+M7TjrX58eJfD+seFvElxYeJbSaO8jlJfzc4m5+8G/iB9RQBr6Z8NfH93YQ3+leHdVa3uEEkUsUZXep6EexFQ38nj7wTdRDUZtf0SV+YjJLLDvx12nIB/CvsPwz8WfA3iDRbe5tNf06xPljdaXdwkEkJx90qxHTpkceleQftG+P9A8VaRpnhjwvdRazfC9Fw8ln+9VAEZQisOGLF+gz93ntQB1f7PfxU1PxxZ32i+JJPtGo6eiyx3W0BpoicHdjjcpxz3B9QSfaq8R/Z1+GGp+DrC913xFA1rfajGsUNq/DxRA5Jcdixxx1GOeTge3UAIyq6lXAZWGCCMgivnD4l/szy3F9Nqvw8aFVlJd9KmfYFP/TJjwB/stgDsegH0hRQB8o+D9e+NXw0thpCeE9R1TT4ziO2mspJ1i9dkkfQe2SPQV2MniH45+Pof7P07w/D4StZRtlvZlaKRAeuC5LD/gK59xXvtFAHFfDT4Z6Z8ONFkhtpGvdSuyHvb+QYaZvQeijJwM9yTXjHxX8IfFb4o6tY3MngZNNgsYmSKFdVtpWJYgklt49BxivpyigD5i+FHhD4tfC/VryeHwTHqFrfIiXELanbRt8pO1lbecY3N2Oc11f7Qfwk1jxtPZeIPDEa3V7aW/2ae0LhWkjDFlKE8Egs2R3yMele5UUAfIHw08P/ABk8G6tcr4X8O3FuLwKlwuoQhITtJ2sSxHIyeh7nrWt8Uvgn8QtSlt/EVxd/8JNqdxHi+jtgE+zkH5VjU43IAccDOcnHNfVNFAHzP8FIvir4O3aJB4OY6VdXizzy6gDAYMhVdlJI3fKo4weRWh4o+HfxHX45a54z8EwwwiEwvbGeZVW9BiRXjAzyMgg7tvsc4r6IooA8si+LviC2s/K1n4XeKl1JRgpY2vnwM3tIOg/A4968k0b4H+LfiJ48vPEHjCw/4R/Tb28e6njdh5rBm3eWi9R1xubHrz0r6uooA8n+O3gPVPFvgXRdF8K2Ika31KIbAwVYIRE6bjk9BlemTWf4Z8T/ABH+H1hHonjbwjqHiO1tRsttU0XFxI6DgBk4J+p2n1B617RRQB8z/FG28bfGrVNKs9D8D6rpNhYFz5+rxi3ZmfbkkN0AC9BknNeo+AfANx8JvhzdQaRaLr2uSnz5o1mEC3EnACK7cKoGcE9eTxnA9HooA+SPH3wu+K/j7xneeILvwhHaNcBFWCPUbZhGqqFAyZOTxya9D+CekfEzwJFH4d1zwjF/Y09y0rXv9oQb7bcoydquxcZUcAA8nmvdKKAPDPjZpPxI8e2reHdF8GINKt7wTJfHU4C1yFUgEIzKUHzHg5PArznwL8Lvi34C8XWuv6d4TiuJYAytDNf2211ZSCMiXI69fWvrmigDjl8ReNf+EKOoN4GH9u+d5Y0katDgp/z0837v/AetfNHiP4MfFbxL4m1HWrzwskc1/cPO6R39ttUsc4H7zoOlfZFFAHk3wYh+IXh3SbPwv4u8KxWum2cT+TqS30LsPm3BGjVmJ6kZGOAKxvjJ8Am8Y6lJ4i8JSw2+qyAfarWY7Y7kgY3Bv4Xxwc8Hrwck+5UUAfIHhLTPjV8L7uaDRPD9+0EzbpbUwC5gdum75CcH3BGePSvQk0r4z/FKAaf4qNt4S0KXi6Fum2adO6hdzNz6EqPXPSvfaKAOUl0+48A+BLfTvh/4bGrNabY4rI3aW5YHJaRpH4JzyfUmvmHxD8Fvir4j8S6jrV34WSOa/uXuHRL+22qWYnA/edBnFfZNFAHj3wkPxL8MaXpXhfxH4KiTTLctH/aSanBuhQksN0asxfk44xxXsNFFABRRRQAUUUUAFFFFAHm3wm/5D3xB/wCxmn/9BWvSa82+E3/Ie+IP/YzT/wDoK16TQAUUUUAFFFFABRRRQAUUUUAFFFFABRRRQAVQ1vRrHxFod5pGqwiazvIjFKnse4PYjqD2IFX6KAPn/wAH+GfHHwP8QX9vZ6PP4q8LXzh91gy+fEw4DeWT97HBA4OByMYq34+Tx58YbeDw7o3hm88N6EZVkvbzWCsbyYOQvlgk4B5wM5IHIxz7rRQBz/gjwdp3gTwna6FpILRwgtJMww00h+87e5/QADtXhP7RHw48X6t4on8VWAW80a0sg7ZuUQ2axgl/lYjOcbvlySTjHSvpavLPHOl+K/iN4hk8IRWU2i+FIHRtR1ORhvvxwwjhA7Z6n1HPTaQDoPhDqV9q/wAI/D17q0jy3UlrteSQ5ZwrFVYnuSoBz3pfHHijxVodxa2nhHwfLr810jEzm5EUUBBxhsj39RXV2FjbaZp1vY2EKwWttEsMMS9ERRgAfgKnoA8Qi+EHir4g65DrHxh1iM20J3Q6JpzERx+xbt7kbmI/iFe0WVja6bYw2Wn28dtawII4oYlCqijoABU9FAHn/wAXvhhF8TfDMNtFcraalYu0lnO4JTJGGRsc7TgcjkEDr0PNeEvE3jH4f+F7Lw3rPw31K7/s6LyYrrSJVnjnA/iI6qT1P8h0r2WigD5/8VeGfiH8btUs7XVdJ/4RHwxayeZsupA80rdNxQclsEgA4AyeTXtfhnw5p3hLw5aaJosPlWdom1ATlmPUsx7kkkk+9atFAHmnxl+EsXxL0eGaxljtdbsQfs00n3JFPJjcjnGeQecHPqazPDHjvxv4c8PQ6P4w8Aa5f6lZxiGO701UmjuQowrM275TjGTznrx0r16igDwTRfhX4j+IPxLPjf4n2ken2kTKbTR/MEjbU5RGI4Cg8nuxJ4ANe90UUAeHfEz4OayfGsPj34aPHHrMUonnsnYIJZB/GpOBlhwykgHk55NbP/C0vHD6Z5Efws1gazt2/MwFqH/vb/7vfH4Z716xRQB4t8Lvg3qWn+K5/HPxDmjudfuJHmitkYMtu7dWYjgtzgAcKO54x1Pxe+GEXxN8Mw20VytpqVi7SWc7glMkYZGxztOByOQQOvQ+gUUAeNeEvE3jH4f+F7Lw3rPw31K7/s6LyYrrSJVnjnA/iI6qT1P8h0rE8VeGfiH8btUs7XVdJ/4RHwxayeZsupA80rdNxQclsEgA4AyeTX0BRQBleGfDmneEvDlpomiw+VZ2ibUBOWY9SzHuSSST71evrlrPT7i5jgkuXhiZ1hiGXkIGQq+56VPRQB5P8G/B2swaprvjfxvatb+INanZUhk628AP3R6AkAY9EX1r1iiigAooooAKKKKACiiigAooooAKKKKACiiigAooooAK821v/k47wv8A9gW7/wDQhXpNeba3/wAnHeF/+wLd/wDoQoA9JooooAKKKKACiiigAooooAKKKKACiiigAooooAKKKKACiiigChrejWPiLQ7zSNVhE1neRGKVPY9wexHUHsQK8O8H+GfHHwP8QX9vZ6PP4q8LXzh91gy+fEw4DeWT97HBA4OByMYr6AooA8K8fJ48+MNvB4d0bwzeeG9CMqyXt5rBWN5MHIXywScA84GckDkY59V8EeDtO8CeE7XQtJBaOEFpJmGGmkP3nb3P6AAdq6CigDwz9ob4b+LvG9zpV34aVby0tInWWza4SLY5OfM+chTkcHnIx71ufs4anf6n8IYP7Slkl+y3ctvA8hyTENpAz3ALMB7DHatL4jnxj4ivB4N8KWD2FlfQA6hr8xHlxQsSGjjAOS5AI7HB7Z3DsPDHhyw8JeGrLQ9IjKWlnHsTd95j1Zj7kkk+5oAwvHHijxVodxa2nhHwfLr810jEzm5EUUBBxhsj39RXBRfCDxV8Qdch1j4w6xGbaE7odE05iI4/Yt29yNzEfxCvb6KAILKxtdNsYbLT7eO2tYEEcUMShVRR0AAqeiigAryP9oTwR4h8ceGNKtPC2n/bp7e8MsqefHHtXYRnLsAeT2r1yigDlPhjot/4d+GWh6TrEH2e+tbfZNFvV9rbicZUkHr2NcN8avgvceN7uHxH4WmS3162QK0btsW4VTlSG/hcdieDxyMV7JRQB4/oPxV8ZaVp8dl44+HHiOe/gUI91pNp9oScj+IgHAJ74JHpjpWV4vtPH/xojh0S30Cbwl4b81ZLm51RgJ5scgeUOeOu3oSBlhXutFAGL4R8K6b4K8L2mhaMhW2tl5duWkY8s7H1J/wHArK+KF/r9l4Bvk8IafcX2r3S/Z4BbjmHcDuk9sDOPciuvooA474WeCI/APw/sdIKr9sYefeuP4pmA3c9wOFHsorsaKKAI54Irq3kt7mNZYZUKSRuMhlIwQR6EV4Dp/w88XfBn4gXOteCNObxF4bvRsnsI5Qs8aZyBg/eKnoRnIyCBnNfQVFAHi3jnXvHXxF0GTwz4R8F6ro8V8PLvb/WdluEj/iVQCcg9CRk4yMc5Ha/C74cWPw18KjTreQXN7cMJb2624818YAHoo6AfU967SigDG8UanrelaQLjw14fOv3hlCm0+2JbYXBy+9+OCAMdea+fvij4Z+MfxPms0vPBkGn2VkWaG3i1G3clmxksxk54HGAK+mqKAPD/AF78X/Bvhe00K++HcOqW9mvlwyprFvA4TOQD8zA4zjoOPzr22FneCN5o/KkZQWj3Z2nHIyOuKfRQAUUUUAFFFFABRRRQAUUUUAFFFFABRRRQAUUUUAFFFFABRRRQB5t8Mv+R7+I3/YaT/0UK9Jrzb4Zf8j38Rv+w0n/AKKFek0AFFFFABRRRQAUUUUAFcX4r+FmheMPEkWt6pcalDdx2gtB9juzCpQOz84Gc5Y98dOK7SigDzb/AIUX4Y/6CHiD/wAG0tH/AAovwx/0EPEH/g2lr0migDzb/hRfhj/oIeIP/BtLR/wovwx/0EPEH/g2lr0migDzb/hRfhj/AKCHiD/wbS0f8KL8Mf8AQQ8Qf+DaWvSaKAPNv+FF+GP+gh4g/wDBtLR/wovwx/0EPEH/AINpa9JooA82/wCFF+GP+gh4g/8ABtLR/wAKL8Mf9BDxB/4Npa9JooA82/4UX4Y/6CHiD/wbS0f8KL8Mf9BDxB/4Npa9JooA82/4UX4Y/wCgh4g/8G0tH/Ci/DH/AEEPEH/g2lr0migDzb/hRfhj/oIeIP8AwbS0f8KL8Mf9BDxB/wCDaWvSaKAPNv8AhRfhj/oIeIP/AAbS0f8ACi/DH/QQ8Qf+DaWvSaKAPNv+FF+GP+gh4g/8G0tH/Ci/DH/QQ8Qf+DaWvSaKAPNv+FF+GP8AoIeIP/BtLR/wovwx/wBBDxB/4Npa9JooA82/4UX4Y/6CHiD/AMG0tH/Ci/DH/QQ8Qf8Ag2lr0migDzb/AIUX4Y/6CHiD/wAG0tH/AAovwx/0EPEH/g2lr0migDzb/hRfhj/oIeIP/BtLR/wovwx/0EPEH/g2lr0migDzb/hRfhj/AKCHiD/wbS0f8KL8Mf8AQQ8Qf+DaWvSaKAPNv+FF+GP+gh4g/wDBtLR/wovwx/0EPEH/AINpa9JooA82/wCFF+GP+gh4g/8ABtLR/wAKL8Mf9BDxB/4Npa9JooA82/4UX4Y/6CHiD/wbS0f8KL8Mf9BDxB/4Npa9JooA82/4UX4Y/wCgh4g/8G0tH/Ci/DH/AEEPEH/g2lr0migDzb/hRfhj/oIeIP8AwbS0f8KL8Mf9BDxB/wCDaWvSaKAPNv8AhRfhj/oIeIP/AAbS0f8ACi/DH/QQ8Qf+DaWvSaKAPNv+FF+GP+gh4g/8G0tH/Ci/DH/QQ8Qf+DaWvSaKAPNv+FF+GP8AoIeIP/BtLR/wovwx/wBBDxB/4Npa9JooA82/4UX4Y/6CHiD/AMG0tH/Ci/DH/QQ8Qf8Ag2lr0migDzb/AIUX4Y/6CHiD/wAG0tH/AAovwx/0EPEH/g2lr0migDzb/hRfhj/oIeIP/BtLR/wovwx/0EPEH/g2lr0migDzb/hRfhj/AKCHiD/wbS0f8KL8Mf8AQQ8Qf+DaWvSaKAPNv+FF+GP+gh4g/wDBtLR/wovwx/0EPEH/AINpa9JooA82/wCFF+GP+gh4g/8ABtLR/wAKL8Mf9BDxB/4Npa9JooA82/4UX4Y/6CHiD/wbS0f8KL8Mf9BDxB/4Npa9JooA82/4UX4Y/wCgh4g/8G0tH/Ci/DH/AEEPEH/g2lr0migDzb/hRfhj/oIeIP8AwbS1FcfAHwhdx+XdXOtzp/dk1ORh+Rr06igDyT/hmj4ef8+2of8AgYf8KsWv7PHgmxJNk+r25PUw6g6fyr1OigDzb/hRfhj/AKCHiD/wbS0f8KL8Mf8AQQ8Qf+DaWvSaKAPNv+FF+GP+gh4g/wDBtLR/wovwx/0EPEH/AINpa9JooA82/wCFF+GP+gh4g/8ABtLR/wAKL8Mf9BDxB/4Npa9JooA82/4UX4Y/6CHiD/wbS0f8KL8Mf9BDxB/4Npa9JooA82/4UX4Y/wCgh4g/8G0tH/Ci/DH/AEEPEH/g2lr0migDzb/hRfhj/oIeIP8AwbS0f8KL8Mf9BDxB/wCDaWvSaKAPNv8AhRfhj/oIeIP/AAbS0f8ACi/DH/QQ8Qf+DaWvSaKAPNv+FF+GP+gh4g/8G0tH/Ci/DH/QQ8Qf+DaWvSaKAPNv+FF+GP8AoIeIP/BtLR/wovwx/wBBDxB/4Npa9JooA82/4UX4Y/6CHiD/AMG0tH/Ci/DH/QQ8Qf8Ag2lr0migDzb/AIUX4Y/6CHiD/wAG0tH/AAovwx/0EPEH/g2lr0migDzb/hRfhj/oIeIP/BtLR/wovwx/0EPEH/g2lr0migDzb/hRfhj/AKCHiD/wbS0f8KL8Mf8AQQ8Qf+DaWvSaKAPNv+FF+GP+gh4g/wDBtLR/wovwx/0EPEH/AINpa9JooA82/wCFF+GP+gh4g/8ABtLR/wAKL8Mf9BDxB/4Npa9JooA82/4UX4Y/6CHiD/wbS0f8KL8Mf9BDxB/4Npa9JooA82/4UX4Y/wCgh4g/8G0tH/Ci/DH/AEEPEH/g2lr0migDzb/hRfhj/oIeIP8AwbS0f8KL8Mf9BDxB/wCDaWvSaKAPNv8AhRfhj/oIeIP/AAbS0f8ACi/DH/QQ8Qf+DaWvSaKAPNv+FF+GP+gh4g/8G0tH/Ci/DH/QQ8Qf+DaWvSaKAPM4/gL4Tid2ivNcQyHc5TU3XcfU46n3p/8Awovwx/0EPEH/AINpa9JooA82/wCFF+GP+gh4g/8ABtLR/wAKL8Mf9BDxB/4Npa9JooA82/4UX4Y/6CHiD/wbS0f8KL8Mf9BDxB/4Npa9JooA82/4UX4Y/wCgh4g/8G0tH/Ci/DH/AEEPEH/g2lr0migDzb/hRfhj/oIeIP8AwbS0f8KL8Mf9BDxB/wCDaWvSaKAPNv8AhRfhj/oIeIP/AAbS0f8ACi/DH/QQ8Qf+DaWvSaKAPNv+FF+GP+gh4g/8G0tH/Ci/DH/QQ8Qf+DaWvSaKAPNv+FF+GP8AoIeIP/BtLR/wovwx/wBBDxB/4Npa9JooA82/4UX4Y/6CHiD/AMG0tH/Ci/DH/QQ8Qf8Ag2lr0migDzb/AIUX4Y/6CHiD/wAG0tH/AAovwx/0EPEH/g2lr0migDzb/hRfhj/oIeIP/BtLR/wovwx/0EPEH/g2lr0migDzb/hRfhj/AKCHiD/wbS0f8KL8Mf8AQQ8Qf+DaWvSaKAPNv+FF+GP+gh4g/wDBtLR/wovwx/0EPEH/AINpa9JooA82/wCFF+GP+gh4g/8ABtLR/wAKL8Mf9BDxB/4Npa9JooA82/4UX4Y/6CHiD/wbS0f8KL8Mf9BDxB/4Npa9JooA82/4UX4Y/wCgh4g/8G0tH/Ci/DH/AEEPEH/g2lr0migDzb/hRfhj/oIeIP8AwbS0f8KL8Mf9BDxB/wCDaWvSaKAPNv8AhRfhj/oIeIP/AAbS0f8ACi/DH/QQ8Qf+DaWvSaKAPNv+FF+GP+gh4g/8G0tH/Ci/DH/QQ8Qf+DaWvSaKAPNv+FF+GP8AoIeIP/BtLR/wovwx/wBBDxB/4Npa9JooA82/4UX4Y/6CHiD/AMG0tH/Ci/DH/QQ8Qf8Ag2lr0migDzb/AIUX4Y/6CHiD/wAG0tH/AAovwx/0EPEH/g2lr0migDzb/hRfhj/oIeIP/BtLR/wovwx/0EPEH/g2lr0migDzb/hRfhj/AKCHiD/wbS0f8KL8Mf8AQQ8Qf+DaWvSaKAPNv+FF+GP+gh4g/wDBtLR/wovwx/0EPEH/AINpa9JooA82/wCFF+GP+gh4g/8ABtLR/wAKL8Mf9BDxB/4Npa9JooA82/4UX4Y/6CHiD/wbS0f8KL8Mf9BDxB/4Npa9JooA82/4UX4Y/wCgh4g/8G0tH/Ci/DH/AEEPEH/g2lr0migDzb/hRfhj/oIeIP8AwbS0w/AbwmZllN3rhlUFVkOpuWAPUA9RXplFAHm3/Ci/DH/QQ8Qf+DaWj/hRfhj/AKCHiD/wbS16TRQB5t/wovwx/wBBDxB/4NpaP+FF+GP+gh4g/wDBtLXpNFAHm3/Ci/DH/QQ8Qf8Ag2lo/wCFF+GP+gh4g/8ABtLXpNFAHm3/AAovwx/0EPEH/g2lo/4UX4Y/6CHiD/wbS16TRQB5t/wovwx/0EPEH/g2lo/4UX4Y/wCgh4g/8G0tek0UAebf8KL8Mf8AQQ8Qf+DaWj/hRfhj/oIeIP8AwbS16TRQB5t/wovwx/0EPEH/AINpaP8AhRfhj/oIeIP/AAbS16TRQB5t/wAKL8Mf9BDxB/4NpaP+FF+GP+gh4g/8G0tek0UAebf8KL8Mf9BDxB/4NpaP+FF+GP8AoIeIP/BtLXpNFAHm3/Ci/DH/AEEPEH/g2lo/4UX4Y/6CHiD/AMG0tek0UAebf8KL8Mf9BDxB/wCDaWj/AIUX4Y/6CHiD/wAG0tek0UAebf8ACi/DH/QQ8Qf+DaWj/hRfhj/oIeIP/BtLXpNFAHm3/Ci/DH/QQ8Qf+DaWj/hRfhj/AKCHiD/wbS16TRQB5t/wovwx/wBBDxB/4NpaP+FF+GP+gh4g/wDBtLXpNFAHm3/Ci/DH/QQ8Qf8Ag2lo/wCFF+GP+gh4g/8ABtLXpNFAHm3/AAovwx/0EPEH/g2lo/4UX4Y/6CHiD/wbS16TRQB5t/wovwx/0EPEH/g2lo/4UX4Y/wCgh4g/8G0tek0UAebf8KL8Mf8AQQ8Qf+DaWj/hRfhj/oIeIP8AwbS16TRQB5t/wovwx/0EPEH/AINpaP8AhRfhj/oIeIP/AAbS16TRQB5t/wAKL8Mf9BDxB/4NpaP+FF+GP+gh4g/8G0tek0UAebf8KL8Mf9BDxB/4NpaP+FF+GP8AoIeIP/BtLXpNFAHm3/Ci/DH/AEEPEH/g2lo/4UX4Y/6CHiD/AMG0tek0UAebf8KL8Mf9BDxB/wCDaWj/AIUX4Y/6CHiD/wAG0tek0UAebf8ACi/DH/QQ8Qf+DaWj/hRfhj/oIeIP/BtLXpNFAHm3/Ci/DH/QQ8Qf+DaWj/hRfhj/AKCHiD/wbS16TRQB5t/wovwx/wBBDxB/4NpaP+FF+GP+gh4g/wDBtLXpNFAHm3/Ci/DH/QQ8Qf8Ag2lo/wCFF+GP+gh4g/8ABtLXpNFAHm3/AAovwx/0EPEH/g2lo/4UX4Y/6CHiD/wbS16TRQB5t/wovwx/0EPEH/g2lo/4UX4Y/wCgh4g/8G0tek0UAebf8KL8Mf8AQQ8Qf+DaWj/hRfhj/oIeIP8AwbS16TRQB5t/wovwx/0EPEH/AINpaP8AhRfhj/oIeIP/AAbS16TRQB5t/wAKL8Mf9BDxB/4NpaP+FF+GP+gh4g/8G0tek0UAcv4L+H2j+A/7Q/sWW9lOoSLJM13P5pyoIGDj3PXNdRRRQAUUUUAFFFFABRRRQAUUUUAFFFFABRRRQAUUUUAFFFFABRRRQAUUUUAFFFFABRRRQAUUUUAFFFFABRRRQAUUUUAFFFFABRRRQAUUUUAFFFFABRRRQAUUUUAFFFFABRRRQAUUUUAFFFFABRRRQAUUUUAFFFFABRRRQAUUUUAFFFFABRRRQAUUUUAFFFFABRRRQAUUUUAFFFFABRRRQAUUUUAFFFFABRRRQAUUUUAFFFFABRRRQAUUUUAFFFFABRRRQAUUUUAFFFFABRRRQAUUUUAFFFFABRRRQAUUUUAFFFFABRRRQAUUUUAFFFFABRRRQAUUUUAFFFFABRRRQAUUUUAFFFFABRRRQAUUUUAFFFFABRRRQAUUUUAFFFFABRRRQAUUUUAFFFFABRRRQAUUUUAFFFFABRRRQAUUUUAFFFFABRRRQAUUUUAFFFFABRRRQAUUUUAFFFFABRRRQAUUUUAFFFFABRRRQAUUUUAFFFFABRRRQAUUUUAFFFFABRRRQAUUUUAFFFFABRRRQAUUUUAFFFFABRRRQAUUUUAFFFFABRRRQAUUUUAFFFFABRRRQAUUUUAFFFFABRRRQAUUUUAFFFFABRRRQAUUUUAFFFFABRRRQAUUUUAFFFFABRRRQAUUUUAFFFFABRRRQAUUUUAFFFFABRRRQAUUUUAFFFFABRRRQAUUUUAFFFFABRRRQAUUUUAFFFFABRRRQAUUUUAFFFFABRRRQAUUUUAFFFFABRRRQAUUUUAFFFFABRRRQAUUUUAFFFFABRRRQAUUUUAFFFFABRRRQAUUUUAFFFFABRRRQAUUUUAFFFFABRRRQAUUUUAFFFFABRRRQAUUUUAFFFFABRRRQAUUUUAFFFFABRRRQAUUUUAFFFFABRRRQAUUUUAFFFFABRRRQAUUUUAFFFFABRRRQAUUUUAFFFFABRRRQAUUUUAFFFFABRRRQAUUUUAFFFFABRRRQAUUUUAFFFFABRRRQAUUUUAFFFFABRRRQAUUUUAFFFFABRRRQAUUUUAFFFFABRRRQAUUUUAFFFFABRRRQAUUUUAFFFFABRRRQAUUUUAFFFFABRRRQAUUUUAFFFFABRRRQAUUUUAFFFFABRRRQAUUUUAFFFFABRRRQAUUUUAFFFFABRRRQAUUUUAFFFFABRRRQAUUUUAFFFFABRRRQAUUUUAFFFFABRRRQAUUUUAFFFFABRRRQAUUUUAFFFFABRRRQAUUUUAFFFFABRRRQAUUUUAFFFFABRRRQAUUUUAFFFFABRRRQB//2Q==)"
      ]
    },
    {
      "cell_type": "markdown",
      "metadata": {
        "id": "3TBucQ_BYBv4"
      },
      "source": [
        "#### Importancia del data cleaning y uso de mejores parámetros"
      ]
    },
    {
      "cell_type": "markdown",
      "metadata": {
        "id": "Daub9H5DX4In"
      },
      "source": [
        "Evaluamos el modelo Árbol con el dataset sin aplicar Data Cleaning para los parámetros por defecto y para los mejores parámetros del modelo obtenidos anteriormente:"
      ]
    },
    {
      "cell_type": "code",
      "metadata": {
        "id": "9XAh9K9yVJsf"
      },
      "source": [
        "data2 = dfDummy.drop(columns = \"Response\")\n",
        "targets2 = dfDummy[\"Response\"]\n",
        "x2 = data2\n",
        "y2 = targets2"
      ],
      "execution_count": null,
      "outputs": []
    },
    {
      "cell_type": "code",
      "metadata": {
        "id": "ibrKlNspVRre"
      },
      "source": [
        "X_train2, X_test2, y_train2, y_test2 = train_test_split(x2, y2, test_size = 0.30, random_state = 42)"
      ],
      "execution_count": null,
      "outputs": []
    },
    {
      "cell_type": "code",
      "metadata": {
        "id": "A_SI3jWiVab6"
      },
      "source": [
        "arbolSinDataClining_ParamsDefault = DecisionTreeClassifier()"
      ],
      "execution_count": null,
      "outputs": []
    },
    {
      "cell_type": "code",
      "metadata": {
        "id": "6IyDdj_yVjyv",
        "colab": {
          "base_uri": "https://localhost:8080/"
        },
        "outputId": "b56553d0-6299-4c55-bbfb-68c4611f8260"
      },
      "source": [
        "arbolSinDataClining_ParamsDefault.fit(X_train2, y_train2)"
      ],
      "execution_count": null,
      "outputs": [
        {
          "output_type": "execute_result",
          "data": {
            "text/plain": [
              "DecisionTreeClassifier()"
            ]
          },
          "metadata": {},
          "execution_count": 71
        }
      ]
    },
    {
      "cell_type": "code",
      "metadata": {
        "id": "wXaKn1yxVsBL",
        "colab": {
          "base_uri": "https://localhost:8080/"
        },
        "outputId": "d210d33d-5111-4a25-83d8-c281edbe34c4"
      },
      "source": [
        "evaluateAccuracy(arbolSinDataClining_ParamsDefault, X_train2, X_test2, y_train2, y_test2)"
      ],
      "execution_count": null,
      "outputs": [
        {
          "output_type": "stream",
          "name": "stdout",
          "text": [
            "Model: DecisionTreeClassifier()\n",
            "ACCURACY TRAIN: 1.0000\n",
            "ACCURACY TEST: 0.7173\n",
            "\n",
            "\n"
          ]
        }
      ]
    },
    {
      "cell_type": "code",
      "metadata": {
        "id": "1kzNr6CxXCHG"
      },
      "source": [
        "arbolSinDataClining_MejoresParams = DecisionTreeClassifier(**gridTree.best_params_)"
      ],
      "execution_count": null,
      "outputs": []
    },
    {
      "cell_type": "code",
      "metadata": {
        "id": "y6CVO_kPXbPl",
        "colab": {
          "base_uri": "https://localhost:8080/"
        },
        "outputId": "1216cdc3-8306-403b-f661-ec453f2d6d9d"
      },
      "source": [
        "arbolSinDataClining_MejoresParams.fit(X_train2, y_train2)"
      ],
      "execution_count": null,
      "outputs": [
        {
          "output_type": "execute_result",
          "data": {
            "text/plain": [
              "DecisionTreeClassifier(criterion='entropy', max_depth=5, min_samples_leaf=8,\n",
              "                       random_state=42)"
            ]
          },
          "metadata": {},
          "execution_count": 75
        }
      ]
    },
    {
      "cell_type": "code",
      "metadata": {
        "id": "tsxYRvfgXS1c",
        "colab": {
          "base_uri": "https://localhost:8080/"
        },
        "outputId": "082f83f6-f7ea-4e5f-f151-b07844fde663"
      },
      "source": [
        "evaluateAccuracy(arbolSinDataClining_MejoresParams, X_train2, X_test2, y_train2, y_test2)"
      ],
      "execution_count": null,
      "outputs": [
        {
          "output_type": "stream",
          "name": "stdout",
          "text": [
            "Model: DecisionTreeClassifier(criterion='entropy', max_depth=5, min_samples_leaf=8,\n",
            "                       random_state=42)\n",
            "ACCURACY TRAIN: 0.7914\n",
            "ACCURACY TEST: 0.7926\n",
            "\n",
            "\n"
          ]
        }
      ]
    },
    {
      "cell_type": "markdown",
      "metadata": {
        "id": "coafTA5-Yrb9"
      },
      "source": [
        "Pudimos observar que: \n",
        "* Sin aplicar Data Cleaning y con los parámetros por defecto, el algoritmo hace sobre ajuste de datos (alta varianza) y tiene un alto sesgo.\n",
        "* Sin aplicar Data Cleaning y con los mejores parámetros, el algoritmo tiene baja varianza pero se mantiene el alto sesgo.\n",
        "* Aplicando Data Cleaning y con los mejores parámetros, obtenemos baja varianza y bajo sesgo."
      ]
    }
  ]
}