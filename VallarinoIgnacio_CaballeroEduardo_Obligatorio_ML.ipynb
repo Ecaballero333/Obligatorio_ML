{
  "nbformat": 4,
  "nbformat_minor": 0,
  "metadata": {
    "colab": {
      "name": "VallarinoIgnacio_CaballeroEduardo_Obligatorio_ML.ipynb",
      "provenance": [],
      "include_colab_link": true
    },
    "kernelspec": {
      "name": "python3",
      "display_name": "Python 3"
    },
    "language_info": {
      "name": "python"
    }
  },
  "cells": [
    {
      "cell_type": "markdown",
      "metadata": {
        "id": "view-in-github",
        "colab_type": "text"
      },
      "source": [
        "<a href=\"https://colab.research.google.com/github/Ecaballero333/Obligatorio_ML/blob/develop/VallarinoIgnacio_CaballeroEduardo_Obligatorio_ML.ipynb\" target=\"_parent\"><img src=\"https://colab.research.google.com/assets/colab-badge.svg\" alt=\"Open In Colab\"/></a>"
      ]
    },
    {
      "cell_type": "markdown",
      "metadata": {
        "id": "i7ylFWKuy-kQ"
      },
      "source": [
        "# Obligatorio\n",
        "\n"
      ]
    },
    {
      "cell_type": "code",
      "metadata": {
        "id": "_nzScwxJ8-Ml"
      },
      "source": [
        "import pandas as pd\n",
        "import numpy as np\n",
        "import matplotlib.pyplot as plt\n",
        "import seaborn as sns\n",
        "from sklearn.model_selection import train_test_split\n",
        "from sklearn.preprocessing import MinMaxScaler, StandardScaler\n",
        "from sklearn.metrics import accuracy_score"
      ],
      "execution_count": 1,
      "outputs": []
    },
    {
      "cell_type": "code",
      "metadata": {
        "colab": {
          "resources": {
            "http://localhost:8080/nbextensions/google.colab/files.js": {
              "data": "Ly8gQ29weXJpZ2h0IDIwMTcgR29vZ2xlIExMQwovLwovLyBMaWNlbnNlZCB1bmRlciB0aGUgQXBhY2hlIExpY2Vuc2UsIFZlcnNpb24gMi4wICh0aGUgIkxpY2Vuc2UiKTsKLy8geW91IG1heSBub3QgdXNlIHRoaXMgZmlsZSBleGNlcHQgaW4gY29tcGxpYW5jZSB3aXRoIHRoZSBMaWNlbnNlLgovLyBZb3UgbWF5IG9idGFpbiBhIGNvcHkgb2YgdGhlIExpY2Vuc2UgYXQKLy8KLy8gICAgICBodHRwOi8vd3d3LmFwYWNoZS5vcmcvbGljZW5zZXMvTElDRU5TRS0yLjAKLy8KLy8gVW5sZXNzIHJlcXVpcmVkIGJ5IGFwcGxpY2FibGUgbGF3IG9yIGFncmVlZCB0byBpbiB3cml0aW5nLCBzb2Z0d2FyZQovLyBkaXN0cmlidXRlZCB1bmRlciB0aGUgTGljZW5zZSBpcyBkaXN0cmlidXRlZCBvbiBhbiAiQVMgSVMiIEJBU0lTLAovLyBXSVRIT1VUIFdBUlJBTlRJRVMgT1IgQ09ORElUSU9OUyBPRiBBTlkgS0lORCwgZWl0aGVyIGV4cHJlc3Mgb3IgaW1wbGllZC4KLy8gU2VlIHRoZSBMaWNlbnNlIGZvciB0aGUgc3BlY2lmaWMgbGFuZ3VhZ2UgZ292ZXJuaW5nIHBlcm1pc3Npb25zIGFuZAovLyBsaW1pdGF0aW9ucyB1bmRlciB0aGUgTGljZW5zZS4KCi8qKgogKiBAZmlsZW92ZXJ2aWV3IEhlbHBlcnMgZm9yIGdvb2dsZS5jb2xhYiBQeXRob24gbW9kdWxlLgogKi8KKGZ1bmN0aW9uKHNjb3BlKSB7CmZ1bmN0aW9uIHNwYW4odGV4dCwgc3R5bGVBdHRyaWJ1dGVzID0ge30pIHsKICBjb25zdCBlbGVtZW50ID0gZG9jdW1lbnQuY3JlYXRlRWxlbWVudCgnc3BhbicpOwogIGVsZW1lbnQudGV4dENvbnRlbnQgPSB0ZXh0OwogIGZvciAoY29uc3Qga2V5IG9mIE9iamVjdC5rZXlzKHN0eWxlQXR0cmlidXRlcykpIHsKICAgIGVsZW1lbnQuc3R5bGVba2V5XSA9IHN0eWxlQXR0cmlidXRlc1trZXldOwogIH0KICByZXR1cm4gZWxlbWVudDsKfQoKLy8gTWF4IG51bWJlciBvZiBieXRlcyB3aGljaCB3aWxsIGJlIHVwbG9hZGVkIGF0IGEgdGltZS4KY29uc3QgTUFYX1BBWUxPQURfU0laRSA9IDEwMCAqIDEwMjQ7CgpmdW5jdGlvbiBfdXBsb2FkRmlsZXMoaW5wdXRJZCwgb3V0cHV0SWQpIHsKICBjb25zdCBzdGVwcyA9IHVwbG9hZEZpbGVzU3RlcChpbnB1dElkLCBvdXRwdXRJZCk7CiAgY29uc3Qgb3V0cHV0RWxlbWVudCA9IGRvY3VtZW50LmdldEVsZW1lbnRCeUlkKG91dHB1dElkKTsKICAvLyBDYWNoZSBzdGVwcyBvbiB0aGUgb3V0cHV0RWxlbWVudCB0byBtYWtlIGl0IGF2YWlsYWJsZSBmb3IgdGhlIG5leHQgY2FsbAogIC8vIHRvIHVwbG9hZEZpbGVzQ29udGludWUgZnJvbSBQeXRob24uCiAgb3V0cHV0RWxlbWVudC5zdGVwcyA9IHN0ZXBzOwoKICByZXR1cm4gX3VwbG9hZEZpbGVzQ29udGludWUob3V0cHV0SWQpOwp9CgovLyBUaGlzIGlzIHJvdWdobHkgYW4gYXN5bmMgZ2VuZXJhdG9yIChub3Qgc3VwcG9ydGVkIGluIHRoZSBicm93c2VyIHlldCksCi8vIHdoZXJlIHRoZXJlIGFyZSBtdWx0aXBsZSBhc3luY2hyb25vdXMgc3RlcHMgYW5kIHRoZSBQeXRob24gc2lkZSBpcyBnb2luZwovLyB0byBwb2xsIGZvciBjb21wbGV0aW9uIG9mIGVhY2ggc3RlcC4KLy8gVGhpcyB1c2VzIGEgUHJvbWlzZSB0byBibG9jayB0aGUgcHl0aG9uIHNpZGUgb24gY29tcGxldGlvbiBvZiBlYWNoIHN0ZXAsCi8vIHRoZW4gcGFzc2VzIHRoZSByZXN1bHQgb2YgdGhlIHByZXZpb3VzIHN0ZXAgYXMgdGhlIGlucHV0IHRvIHRoZSBuZXh0IHN0ZXAuCmZ1bmN0aW9uIF91cGxvYWRGaWxlc0NvbnRpbnVlKG91dHB1dElkKSB7CiAgY29uc3Qgb3V0cHV0RWxlbWVudCA9IGRvY3VtZW50LmdldEVsZW1lbnRCeUlkKG91dHB1dElkKTsKICBjb25zdCBzdGVwcyA9IG91dHB1dEVsZW1lbnQuc3RlcHM7CgogIGNvbnN0IG5leHQgPSBzdGVwcy5uZXh0KG91dHB1dEVsZW1lbnQubGFzdFByb21pc2VWYWx1ZSk7CiAgcmV0dXJuIFByb21pc2UucmVzb2x2ZShuZXh0LnZhbHVlLnByb21pc2UpLnRoZW4oKHZhbHVlKSA9PiB7CiAgICAvLyBDYWNoZSB0aGUgbGFzdCBwcm9taXNlIHZhbHVlIHRvIG1ha2UgaXQgYXZhaWxhYmxlIHRvIHRoZSBuZXh0CiAgICAvLyBzdGVwIG9mIHRoZSBnZW5lcmF0b3IuCiAgICBvdXRwdXRFbGVtZW50Lmxhc3RQcm9taXNlVmFsdWUgPSB2YWx1ZTsKICAgIHJldHVybiBuZXh0LnZhbHVlLnJlc3BvbnNlOwogIH0pOwp9CgovKioKICogR2VuZXJhdG9yIGZ1bmN0aW9uIHdoaWNoIGlzIGNhbGxlZCBiZXR3ZWVuIGVhY2ggYXN5bmMgc3RlcCBvZiB0aGUgdXBsb2FkCiAqIHByb2Nlc3MuCiAqIEBwYXJhbSB7c3RyaW5nfSBpbnB1dElkIEVsZW1lbnQgSUQgb2YgdGhlIGlucHV0IGZpbGUgcGlja2VyIGVsZW1lbnQuCiAqIEBwYXJhbSB7c3RyaW5nfSBvdXRwdXRJZCBFbGVtZW50IElEIG9mIHRoZSBvdXRwdXQgZGlzcGxheS4KICogQHJldHVybiB7IUl0ZXJhYmxlPCFPYmplY3Q+fSBJdGVyYWJsZSBvZiBuZXh0IHN0ZXBzLgogKi8KZnVuY3Rpb24qIHVwbG9hZEZpbGVzU3RlcChpbnB1dElkLCBvdXRwdXRJZCkgewogIGNvbnN0IGlucHV0RWxlbWVudCA9IGRvY3VtZW50LmdldEVsZW1lbnRCeUlkKGlucHV0SWQpOwogIGlucHV0RWxlbWVudC5kaXNhYmxlZCA9IGZhbHNlOwoKICBjb25zdCBvdXRwdXRFbGVtZW50ID0gZG9jdW1lbnQuZ2V0RWxlbWVudEJ5SWQob3V0cHV0SWQpOwogIG91dHB1dEVsZW1lbnQuaW5uZXJIVE1MID0gJyc7CgogIGNvbnN0IHBpY2tlZFByb21pc2UgPSBuZXcgUHJvbWlzZSgocmVzb2x2ZSkgPT4gewogICAgaW5wdXRFbGVtZW50LmFkZEV2ZW50TGlzdGVuZXIoJ2NoYW5nZScsIChlKSA9PiB7CiAgICAgIHJlc29sdmUoZS50YXJnZXQuZmlsZXMpOwogICAgfSk7CiAgfSk7CgogIGNvbnN0IGNhbmNlbCA9IGRvY3VtZW50LmNyZWF0ZUVsZW1lbnQoJ2J1dHRvbicpOwogIGlucHV0RWxlbWVudC5wYXJlbnRFbGVtZW50LmFwcGVuZENoaWxkKGNhbmNlbCk7CiAgY2FuY2VsLnRleHRDb250ZW50ID0gJ0NhbmNlbCB1cGxvYWQnOwogIGNvbnN0IGNhbmNlbFByb21pc2UgPSBuZXcgUHJvbWlzZSgocmVzb2x2ZSkgPT4gewogICAgY2FuY2VsLm9uY2xpY2sgPSAoKSA9PiB7CiAgICAgIHJlc29sdmUobnVsbCk7CiAgICB9OwogIH0pOwoKICAvLyBXYWl0IGZvciB0aGUgdXNlciB0byBwaWNrIHRoZSBmaWxlcy4KICBjb25zdCBmaWxlcyA9IHlpZWxkIHsKICAgIHByb21pc2U6IFByb21pc2UucmFjZShbcGlja2VkUHJvbWlzZSwgY2FuY2VsUHJvbWlzZV0pLAogICAgcmVzcG9uc2U6IHsKICAgICAgYWN0aW9uOiAnc3RhcnRpbmcnLAogICAgfQogIH07CgogIGNhbmNlbC5yZW1vdmUoKTsKCiAgLy8gRGlzYWJsZSB0aGUgaW5wdXQgZWxlbWVudCBzaW5jZSBmdXJ0aGVyIHBpY2tzIGFyZSBub3QgYWxsb3dlZC4KICBpbnB1dEVsZW1lbnQuZGlzYWJsZWQgPSB0cnVlOwoKICBpZiAoIWZpbGVzKSB7CiAgICByZXR1cm4gewogICAgICByZXNwb25zZTogewogICAgICAgIGFjdGlvbjogJ2NvbXBsZXRlJywKICAgICAgfQogICAgfTsKICB9CgogIGZvciAoY29uc3QgZmlsZSBvZiBmaWxlcykgewogICAgY29uc3QgbGkgPSBkb2N1bWVudC5jcmVhdGVFbGVtZW50KCdsaScpOwogICAgbGkuYXBwZW5kKHNwYW4oZmlsZS5uYW1lLCB7Zm9udFdlaWdodDogJ2JvbGQnfSkpOwogICAgbGkuYXBwZW5kKHNwYW4oCiAgICAgICAgYCgke2ZpbGUudHlwZSB8fCAnbi9hJ30pIC0gJHtmaWxlLnNpemV9IGJ5dGVzLCBgICsKICAgICAgICBgbGFzdCBtb2RpZmllZDogJHsKICAgICAgICAgICAgZmlsZS5sYXN0TW9kaWZpZWREYXRlID8gZmlsZS5sYXN0TW9kaWZpZWREYXRlLnRvTG9jYWxlRGF0ZVN0cmluZygpIDoKICAgICAgICAgICAgICAgICAgICAgICAgICAgICAgICAgICAgJ24vYSd9IC0gYCkpOwogICAgY29uc3QgcGVyY2VudCA9IHNwYW4oJzAlIGRvbmUnKTsKICAgIGxpLmFwcGVuZENoaWxkKHBlcmNlbnQpOwoKICAgIG91dHB1dEVsZW1lbnQuYXBwZW5kQ2hpbGQobGkpOwoKICAgIGNvbnN0IGZpbGVEYXRhUHJvbWlzZSA9IG5ldyBQcm9taXNlKChyZXNvbHZlKSA9PiB7CiAgICAgIGNvbnN0IHJlYWRlciA9IG5ldyBGaWxlUmVhZGVyKCk7CiAgICAgIHJlYWRlci5vbmxvYWQgPSAoZSkgPT4gewogICAgICAgIHJlc29sdmUoZS50YXJnZXQucmVzdWx0KTsKICAgICAgfTsKICAgICAgcmVhZGVyLnJlYWRBc0FycmF5QnVmZmVyKGZpbGUpOwogICAgfSk7CiAgICAvLyBXYWl0IGZvciB0aGUgZGF0YSB0byBiZSByZWFkeS4KICAgIGxldCBmaWxlRGF0YSA9IHlpZWxkIHsKICAgICAgcHJvbWlzZTogZmlsZURhdGFQcm9taXNlLAogICAgICByZXNwb25zZTogewogICAgICAgIGFjdGlvbjogJ2NvbnRpbnVlJywKICAgICAgfQogICAgfTsKCiAgICAvLyBVc2UgYSBjaHVua2VkIHNlbmRpbmcgdG8gYXZvaWQgbWVzc2FnZSBzaXplIGxpbWl0cy4gU2VlIGIvNjIxMTU2NjAuCiAgICBsZXQgcG9zaXRpb24gPSAwOwogICAgZG8gewogICAgICBjb25zdCBsZW5ndGggPSBNYXRoLm1pbihmaWxlRGF0YS5ieXRlTGVuZ3RoIC0gcG9zaXRpb24sIE1BWF9QQVlMT0FEX1NJWkUpOwogICAgICBjb25zdCBjaHVuayA9IG5ldyBVaW50OEFycmF5KGZpbGVEYXRhLCBwb3NpdGlvbiwgbGVuZ3RoKTsKICAgICAgcG9zaXRpb24gKz0gbGVuZ3RoOwoKICAgICAgY29uc3QgYmFzZTY0ID0gYnRvYShTdHJpbmcuZnJvbUNoYXJDb2RlLmFwcGx5KG51bGwsIGNodW5rKSk7CiAgICAgIHlpZWxkIHsKICAgICAgICByZXNwb25zZTogewogICAgICAgICAgYWN0aW9uOiAnYXBwZW5kJywKICAgICAgICAgIGZpbGU6IGZpbGUubmFtZSwKICAgICAgICAgIGRhdGE6IGJhc2U2NCwKICAgICAgICB9LAogICAgICB9OwoKICAgICAgbGV0IHBlcmNlbnREb25lID0gZmlsZURhdGEuYnl0ZUxlbmd0aCA9PT0gMCA/CiAgICAgICAgICAxMDAgOgogICAgICAgICAgTWF0aC5yb3VuZCgocG9zaXRpb24gLyBmaWxlRGF0YS5ieXRlTGVuZ3RoKSAqIDEwMCk7CiAgICAgIHBlcmNlbnQudGV4dENvbnRlbnQgPSBgJHtwZXJjZW50RG9uZX0lIGRvbmVgOwoKICAgIH0gd2hpbGUgKHBvc2l0aW9uIDwgZmlsZURhdGEuYnl0ZUxlbmd0aCk7CiAgfQoKICAvLyBBbGwgZG9uZS4KICB5aWVsZCB7CiAgICByZXNwb25zZTogewogICAgICBhY3Rpb246ICdjb21wbGV0ZScsCiAgICB9CiAgfTsKfQoKc2NvcGUuZ29vZ2xlID0gc2NvcGUuZ29vZ2xlIHx8IHt9OwpzY29wZS5nb29nbGUuY29sYWIgPSBzY29wZS5nb29nbGUuY29sYWIgfHwge307CnNjb3BlLmdvb2dsZS5jb2xhYi5fZmlsZXMgPSB7CiAgX3VwbG9hZEZpbGVzLAogIF91cGxvYWRGaWxlc0NvbnRpbnVlLAp9Owp9KShzZWxmKTsK",
              "ok": true,
              "headers": [
                [
                  "content-type",
                  "application/javascript"
                ]
              ],
              "status": 200,
              "status_text": ""
            }
          },
          "base_uri": "https://localhost:8080/",
          "height": 55
        },
        "id": "JnWa4MQUKS_q",
        "outputId": "4d05ff97-0d0f-4e59-8039-8ad917c983b8"
      },
      "source": [
        "from google.colab import files \n",
        "\n",
        "\n",
        "uploaded = files.upload()"
      ],
      "execution_count": 2,
      "outputs": [
        {
          "output_type": "display_data",
          "data": {
            "text/html": [
              "\n",
              "     <input type=\"file\" id=\"files-358bb95a-630a-4dd1-80c9-6d5927e27118\" name=\"files[]\" multiple disabled\n",
              "        style=\"border:none\" />\n",
              "     <output id=\"result-358bb95a-630a-4dd1-80c9-6d5927e27118\">\n",
              "      Upload widget is only available when the cell has been executed in the\n",
              "      current browser session. Please rerun this cell to enable.\n",
              "      </output>\n",
              "      <script src=\"/nbextensions/google.colab/files.js\"></script> "
            ],
            "text/plain": [
              "<IPython.core.display.HTML object>"
            ]
          },
          "metadata": {}
        },
        {
          "output_type": "stream",
          "name": "stdout",
          "text": [
            "Saving nuevo_dataset.csv to nuevo_dataset.csv\n"
          ]
        }
      ]
    },
    {
      "cell_type": "code",
      "metadata": {
        "id": "3XHyiNEbLIba"
      },
      "source": [
        "df=pd.read_csv(\"nuevo_dataset.csv\", sep = \",\")"
      ],
      "execution_count": 3,
      "outputs": []
    },
    {
      "cell_type": "markdown",
      "metadata": {
        "id": "7_DOGUMKzNFl"
      },
      "source": [
        "## Análisis exploratorio"
      ]
    },
    {
      "cell_type": "code",
      "metadata": {
        "colab": {
          "base_uri": "https://localhost:8080/",
          "height": 0
        },
        "id": "ApnhE49SLMT2",
        "outputId": "2713f5d9-aea4-47d7-905c-22795605f0e7"
      },
      "source": [
        "df.head(100)"
      ],
      "execution_count": 4,
      "outputs": [
        {
          "output_type": "execute_result",
          "data": {
            "text/html": [
              "<div>\n",
              "<style scoped>\n",
              "    .dataframe tbody tr th:only-of-type {\n",
              "        vertical-align: middle;\n",
              "    }\n",
              "\n",
              "    .dataframe tbody tr th {\n",
              "        vertical-align: top;\n",
              "    }\n",
              "\n",
              "    .dataframe thead th {\n",
              "        text-align: right;\n",
              "    }\n",
              "</style>\n",
              "<table border=\"1\" class=\"dataframe\">\n",
              "  <thead>\n",
              "    <tr style=\"text-align: right;\">\n",
              "      <th></th>\n",
              "      <th>id</th>\n",
              "      <th>Gender</th>\n",
              "      <th>Age</th>\n",
              "      <th>Driving_License</th>\n",
              "      <th>Region_Code</th>\n",
              "      <th>Previously_Insured</th>\n",
              "      <th>Vehicle_Age</th>\n",
              "      <th>Vehicle_Damage</th>\n",
              "      <th>Annual_Premium</th>\n",
              "      <th>Policy_Sales_Channel</th>\n",
              "      <th>Vintage</th>\n",
              "      <th>Response</th>\n",
              "    </tr>\n",
              "  </thead>\n",
              "  <tbody>\n",
              "    <tr>\n",
              "      <th>0</th>\n",
              "      <td>79510</td>\n",
              "      <td>Female</td>\n",
              "      <td>22</td>\n",
              "      <td>1</td>\n",
              "      <td>19.0</td>\n",
              "      <td>1</td>\n",
              "      <td>&lt; 1 Year</td>\n",
              "      <td>No</td>\n",
              "      <td>54559.0</td>\n",
              "      <td>152.0</td>\n",
              "      <td>87</td>\n",
              "      <td>0</td>\n",
              "    </tr>\n",
              "    <tr>\n",
              "      <th>1</th>\n",
              "      <td>186555</td>\n",
              "      <td>Male</td>\n",
              "      <td>57</td>\n",
              "      <td>1</td>\n",
              "      <td>18.0</td>\n",
              "      <td>0</td>\n",
              "      <td>1-2 Year</td>\n",
              "      <td>Yes</td>\n",
              "      <td>33439.0</td>\n",
              "      <td>124.0</td>\n",
              "      <td>63</td>\n",
              "      <td>0</td>\n",
              "    </tr>\n",
              "    <tr>\n",
              "      <th>2</th>\n",
              "      <td>158037</td>\n",
              "      <td>Female</td>\n",
              "      <td>64</td>\n",
              "      <td>1</td>\n",
              "      <td>28.0</td>\n",
              "      <td>0</td>\n",
              "      <td>1-2 Year</td>\n",
              "      <td>Yes</td>\n",
              "      <td>39327.0</td>\n",
              "      <td>122.0</td>\n",
              "      <td>45</td>\n",
              "      <td>0</td>\n",
              "    </tr>\n",
              "    <tr>\n",
              "      <th>3</th>\n",
              "      <td>343706</td>\n",
              "      <td>Male</td>\n",
              "      <td>52</td>\n",
              "      <td>1</td>\n",
              "      <td>41.0</td>\n",
              "      <td>1</td>\n",
              "      <td>1-2 Year</td>\n",
              "      <td>No</td>\n",
              "      <td>26536.0</td>\n",
              "      <td>124.0</td>\n",
              "      <td>161</td>\n",
              "      <td>0</td>\n",
              "    </tr>\n",
              "    <tr>\n",
              "      <th>4</th>\n",
              "      <td>137903</td>\n",
              "      <td>Female</td>\n",
              "      <td>21</td>\n",
              "      <td>1</td>\n",
              "      <td>7.0</td>\n",
              "      <td>0</td>\n",
              "      <td>&lt; 1 Year</td>\n",
              "      <td>No</td>\n",
              "      <td>28416.0</td>\n",
              "      <td>152.0</td>\n",
              "      <td>92</td>\n",
              "      <td>0</td>\n",
              "    </tr>\n",
              "    <tr>\n",
              "      <th>...</th>\n",
              "      <td>...</td>\n",
              "      <td>...</td>\n",
              "      <td>...</td>\n",
              "      <td>...</td>\n",
              "      <td>...</td>\n",
              "      <td>...</td>\n",
              "      <td>...</td>\n",
              "      <td>...</td>\n",
              "      <td>...</td>\n",
              "      <td>...</td>\n",
              "      <td>...</td>\n",
              "      <td>...</td>\n",
              "    </tr>\n",
              "    <tr>\n",
              "      <th>95</th>\n",
              "      <td>196823</td>\n",
              "      <td>Male</td>\n",
              "      <td>51</td>\n",
              "      <td>1</td>\n",
              "      <td>28.0</td>\n",
              "      <td>0</td>\n",
              "      <td>1-2 Year</td>\n",
              "      <td>Yes</td>\n",
              "      <td>54154.0</td>\n",
              "      <td>26.0</td>\n",
              "      <td>272</td>\n",
              "      <td>0</td>\n",
              "    </tr>\n",
              "    <tr>\n",
              "      <th>96</th>\n",
              "      <td>293262</td>\n",
              "      <td>Male</td>\n",
              "      <td>35</td>\n",
              "      <td>1</td>\n",
              "      <td>46.0</td>\n",
              "      <td>0</td>\n",
              "      <td>1-2 Year</td>\n",
              "      <td>No</td>\n",
              "      <td>22241.0</td>\n",
              "      <td>154.0</td>\n",
              "      <td>267</td>\n",
              "      <td>0</td>\n",
              "    </tr>\n",
              "    <tr>\n",
              "      <th>97</th>\n",
              "      <td>260666</td>\n",
              "      <td>Male</td>\n",
              "      <td>24</td>\n",
              "      <td>1</td>\n",
              "      <td>14.0</td>\n",
              "      <td>1</td>\n",
              "      <td>&lt; 1 Year</td>\n",
              "      <td>No</td>\n",
              "      <td>16288.0</td>\n",
              "      <td>152.0</td>\n",
              "      <td>236</td>\n",
              "      <td>0</td>\n",
              "    </tr>\n",
              "    <tr>\n",
              "      <th>98</th>\n",
              "      <td>14316</td>\n",
              "      <td>Female</td>\n",
              "      <td>23</td>\n",
              "      <td>1</td>\n",
              "      <td>13.0</td>\n",
              "      <td>1</td>\n",
              "      <td>&lt; 1 Year</td>\n",
              "      <td>No</td>\n",
              "      <td>28760.0</td>\n",
              "      <td>152.0</td>\n",
              "      <td>166</td>\n",
              "      <td>0</td>\n",
              "    </tr>\n",
              "    <tr>\n",
              "      <th>99</th>\n",
              "      <td>110941</td>\n",
              "      <td>Male</td>\n",
              "      <td>27</td>\n",
              "      <td>1</td>\n",
              "      <td>8.0</td>\n",
              "      <td>1</td>\n",
              "      <td>&lt; 1 Year</td>\n",
              "      <td>No</td>\n",
              "      <td>24417.0</td>\n",
              "      <td>152.0</td>\n",
              "      <td>52</td>\n",
              "      <td>0</td>\n",
              "    </tr>\n",
              "  </tbody>\n",
              "</table>\n",
              "<p>100 rows × 12 columns</p>\n",
              "</div>"
            ],
            "text/plain": [
              "        id  Gender  Age  ...  Policy_Sales_Channel  Vintage  Response\n",
              "0    79510  Female   22  ...                 152.0       87         0\n",
              "1   186555    Male   57  ...                 124.0       63         0\n",
              "2   158037  Female   64  ...                 122.0       45         0\n",
              "3   343706    Male   52  ...                 124.0      161         0\n",
              "4   137903  Female   21  ...                 152.0       92         0\n",
              "..     ...     ...  ...  ...                   ...      ...       ...\n",
              "95  196823    Male   51  ...                  26.0      272         0\n",
              "96  293262    Male   35  ...                 154.0      267         0\n",
              "97  260666    Male   24  ...                 152.0      236         0\n",
              "98   14316  Female   23  ...                 152.0      166         0\n",
              "99  110941    Male   27  ...                 152.0       52         0\n",
              "\n",
              "[100 rows x 12 columns]"
            ]
          },
          "metadata": {},
          "execution_count": 4
        }
      ]
    },
    {
      "cell_type": "code",
      "metadata": {
        "colab": {
          "base_uri": "https://localhost:8080/"
        },
        "id": "uOXfmHwpLNW7",
        "outputId": "c338d26c-f226-4c6b-84e4-71575dbf45b2"
      },
      "source": [
        "df.info()"
      ],
      "execution_count": 5,
      "outputs": [
        {
          "output_type": "stream",
          "name": "stdout",
          "text": [
            "<class 'pandas.core.frame.DataFrame'>\n",
            "RangeIndex: 93891 entries, 0 to 93890\n",
            "Data columns (total 12 columns):\n",
            " #   Column                Non-Null Count  Dtype  \n",
            "---  ------                --------------  -----  \n",
            " 0   id                    93891 non-null  int64  \n",
            " 1   Gender                93891 non-null  object \n",
            " 2   Age                   93891 non-null  int64  \n",
            " 3   Driving_License       93891 non-null  int64  \n",
            " 4   Region_Code           93891 non-null  float64\n",
            " 5   Previously_Insured    93891 non-null  int64  \n",
            " 6   Vehicle_Age           93891 non-null  object \n",
            " 7   Vehicle_Damage        93891 non-null  object \n",
            " 8   Annual_Premium        93891 non-null  float64\n",
            " 9   Policy_Sales_Channel  93891 non-null  float64\n",
            " 10  Vintage               93891 non-null  int64  \n",
            " 11  Response              93891 non-null  int64  \n",
            "dtypes: float64(3), int64(6), object(3)\n",
            "memory usage: 8.6+ MB\n"
          ]
        }
      ]
    },
    {
      "cell_type": "markdown",
      "metadata": {
        "id": "-vE1FXfhzivm"
      },
      "source": [
        "### Convertir Variables"
      ]
    },
    {
      "cell_type": "markdown",
      "metadata": {
        "id": "LwtMIbKT_jgn"
      },
      "source": [
        "Variables que están definidas como número pero son categoricas:\n",
        "* Driving_License: valores posibles -> 0 y 1\n",
        "* Previously_Insured: valores posibles -> 0 y 1\n",
        "* Response: Es el target. Valores posibles -> 0 y 1\n",
        "\n",
        "Las pasamos a string (excepto \"response\") en un primer lugar para poder hacerlas Dummy y luego poder usarlas en analisis de correlacion. "
      ]
    },
    {
      "cell_type": "code",
      "metadata": {
        "colab": {
          "base_uri": "https://localhost:8080/"
        },
        "id": "GBFv6VjEzV4Z",
        "outputId": "c30300a0-0407-44f2-de62-5c03f9d37df2"
      },
      "source": [
        "# Conversión variable categórica\n",
        "df['Driving_License'] = df['Driving_License'].astype('str')\n",
        "df['Previously_Insured'] = df['Previously_Insured'].astype('str')\n",
        "df.info()"
      ],
      "execution_count": 6,
      "outputs": [
        {
          "output_type": "stream",
          "name": "stdout",
          "text": [
            "<class 'pandas.core.frame.DataFrame'>\n",
            "RangeIndex: 93891 entries, 0 to 93890\n",
            "Data columns (total 12 columns):\n",
            " #   Column                Non-Null Count  Dtype  \n",
            "---  ------                --------------  -----  \n",
            " 0   id                    93891 non-null  int64  \n",
            " 1   Gender                93891 non-null  object \n",
            " 2   Age                   93891 non-null  int64  \n",
            " 3   Driving_License       93891 non-null  object \n",
            " 4   Region_Code           93891 non-null  float64\n",
            " 5   Previously_Insured    93891 non-null  object \n",
            " 6   Vehicle_Age           93891 non-null  object \n",
            " 7   Vehicle_Damage        93891 non-null  object \n",
            " 8   Annual_Premium        93891 non-null  float64\n",
            " 9   Policy_Sales_Channel  93891 non-null  float64\n",
            " 10  Vintage               93891 non-null  int64  \n",
            " 11  Response              93891 non-null  int64  \n",
            "dtypes: float64(3), int64(4), object(5)\n",
            "memory usage: 8.6+ MB\n"
          ]
        }
      ]
    },
    {
      "cell_type": "code",
      "metadata": {
        "colab": {
          "base_uri": "https://localhost:8080/"
        },
        "id": "-dwRgZ3Cv-Um",
        "outputId": "e721ed58-cc08-4ee6-9f35-c163de92ec0a"
      },
      "source": [
        "# Creacion de dummies para variables categoricas.\n",
        "dfDummy = pd.get_dummies(df, drop_first = True)\n",
        "dfDummy.info()"
      ],
      "execution_count": 7,
      "outputs": [
        {
          "output_type": "stream",
          "name": "stdout",
          "text": [
            "<class 'pandas.core.frame.DataFrame'>\n",
            "RangeIndex: 93891 entries, 0 to 93890\n",
            "Data columns (total 13 columns):\n",
            " #   Column                 Non-Null Count  Dtype  \n",
            "---  ------                 --------------  -----  \n",
            " 0   id                     93891 non-null  int64  \n",
            " 1   Age                    93891 non-null  int64  \n",
            " 2   Region_Code            93891 non-null  float64\n",
            " 3   Annual_Premium         93891 non-null  float64\n",
            " 4   Policy_Sales_Channel   93891 non-null  float64\n",
            " 5   Vintage                93891 non-null  int64  \n",
            " 6   Response               93891 non-null  int64  \n",
            " 7   Gender_Male            93891 non-null  uint8  \n",
            " 8   Driving_License_1      93891 non-null  uint8  \n",
            " 9   Previously_Insured_1   93891 non-null  uint8  \n",
            " 10  Vehicle_Age_< 1 Year   93891 non-null  uint8  \n",
            " 11  Vehicle_Age_> 2 Years  93891 non-null  uint8  \n",
            " 12  Vehicle_Damage_Yes     93891 non-null  uint8  \n",
            "dtypes: float64(3), int64(4), uint8(6)\n",
            "memory usage: 5.6 MB\n"
          ]
        }
      ]
    },
    {
      "cell_type": "markdown",
      "metadata": {
        "id": "DmkQIlijBuo4"
      },
      "source": [
        "### Outliers"
      ]
    },
    {
      "cell_type": "code",
      "metadata": {
        "colab": {
          "base_uri": "https://localhost:8080/",
          "height": 0
        },
        "id": "PNqZMyhcBUJ2",
        "outputId": "aca8b1ff-6818-44a3-e785-927571eb20e8"
      },
      "source": [
        "dfDummy.describe(include = [np.number])"
      ],
      "execution_count": 8,
      "outputs": [
        {
          "output_type": "execute_result",
          "data": {
            "text/html": [
              "<div>\n",
              "<style scoped>\n",
              "    .dataframe tbody tr th:only-of-type {\n",
              "        vertical-align: middle;\n",
              "    }\n",
              "\n",
              "    .dataframe tbody tr th {\n",
              "        vertical-align: top;\n",
              "    }\n",
              "\n",
              "    .dataframe thead th {\n",
              "        text-align: right;\n",
              "    }\n",
              "</style>\n",
              "<table border=\"1\" class=\"dataframe\">\n",
              "  <thead>\n",
              "    <tr style=\"text-align: right;\">\n",
              "      <th></th>\n",
              "      <th>id</th>\n",
              "      <th>Age</th>\n",
              "      <th>Region_Code</th>\n",
              "      <th>Annual_Premium</th>\n",
              "      <th>Policy_Sales_Channel</th>\n",
              "      <th>Vintage</th>\n",
              "      <th>Response</th>\n",
              "      <th>Gender_Male</th>\n",
              "      <th>Driving_License_1</th>\n",
              "      <th>Previously_Insured_1</th>\n",
              "      <th>Vehicle_Age_&lt; 1 Year</th>\n",
              "      <th>Vehicle_Age_&gt; 2 Years</th>\n",
              "      <th>Vehicle_Damage_Yes</th>\n",
              "    </tr>\n",
              "  </thead>\n",
              "  <tbody>\n",
              "    <tr>\n",
              "      <th>count</th>\n",
              "      <td>93891.000000</td>\n",
              "      <td>93891.000000</td>\n",
              "      <td>93891.000000</td>\n",
              "      <td>93891.000000</td>\n",
              "      <td>93891.000000</td>\n",
              "      <td>93891.000000</td>\n",
              "      <td>93891.000000</td>\n",
              "      <td>93891.000000</td>\n",
              "      <td>93891.000000</td>\n",
              "      <td>93891.000000</td>\n",
              "      <td>93891.000000</td>\n",
              "      <td>93891.000000</td>\n",
              "      <td>93891.000000</td>\n",
              "    </tr>\n",
              "    <tr>\n",
              "      <th>mean</th>\n",
              "      <td>190515.346806</td>\n",
              "      <td>40.806520</td>\n",
              "      <td>26.556092</td>\n",
              "      <td>30983.086547</td>\n",
              "      <td>103.525716</td>\n",
              "      <td>154.679415</td>\n",
              "      <td>0.497492</td>\n",
              "      <td>0.570545</td>\n",
              "      <td>0.998477</td>\n",
              "      <td>0.264296</td>\n",
              "      <td>0.313481</td>\n",
              "      <td>0.068036</td>\n",
              "      <td>0.706532</td>\n",
              "    </tr>\n",
              "    <tr>\n",
              "      <th>std</th>\n",
              "      <td>109947.403429</td>\n",
              "      <td>14.368874</td>\n",
              "      <td>12.645412</td>\n",
              "      <td>17687.544914</td>\n",
              "      <td>55.814796</td>\n",
              "      <td>83.567929</td>\n",
              "      <td>0.499996</td>\n",
              "      <td>0.495001</td>\n",
              "      <td>0.038997</td>\n",
              "      <td>0.440960</td>\n",
              "      <td>0.463910</td>\n",
              "      <td>0.251810</td>\n",
              "      <td>0.455353</td>\n",
              "    </tr>\n",
              "    <tr>\n",
              "      <th>min</th>\n",
              "      <td>1.000000</td>\n",
              "      <td>20.000000</td>\n",
              "      <td>0.000000</td>\n",
              "      <td>2630.000000</td>\n",
              "      <td>1.000000</td>\n",
              "      <td>10.000000</td>\n",
              "      <td>0.000000</td>\n",
              "      <td>0.000000</td>\n",
              "      <td>0.000000</td>\n",
              "      <td>0.000000</td>\n",
              "      <td>0.000000</td>\n",
              "      <td>0.000000</td>\n",
              "      <td>0.000000</td>\n",
              "    </tr>\n",
              "    <tr>\n",
              "      <th>25%</th>\n",
              "      <td>95254.500000</td>\n",
              "      <td>27.000000</td>\n",
              "      <td>16.000000</td>\n",
              "      <td>24506.000000</td>\n",
              "      <td>26.000000</td>\n",
              "      <td>82.000000</td>\n",
              "      <td>0.000000</td>\n",
              "      <td>0.000000</td>\n",
              "      <td>1.000000</td>\n",
              "      <td>0.000000</td>\n",
              "      <td>0.000000</td>\n",
              "      <td>0.000000</td>\n",
              "      <td>0.000000</td>\n",
              "    </tr>\n",
              "    <tr>\n",
              "      <th>50%</th>\n",
              "      <td>190640.000000</td>\n",
              "      <td>41.000000</td>\n",
              "      <td>28.000000</td>\n",
              "      <td>32232.000000</td>\n",
              "      <td>124.000000</td>\n",
              "      <td>155.000000</td>\n",
              "      <td>0.000000</td>\n",
              "      <td>1.000000</td>\n",
              "      <td>1.000000</td>\n",
              "      <td>0.000000</td>\n",
              "      <td>0.000000</td>\n",
              "      <td>0.000000</td>\n",
              "      <td>1.000000</td>\n",
              "    </tr>\n",
              "    <tr>\n",
              "      <th>75%</th>\n",
              "      <td>285907.500000</td>\n",
              "      <td>50.000000</td>\n",
              "      <td>34.000000</td>\n",
              "      <td>40299.000000</td>\n",
              "      <td>152.000000</td>\n",
              "      <td>227.000000</td>\n",
              "      <td>1.000000</td>\n",
              "      <td>1.000000</td>\n",
              "      <td>1.000000</td>\n",
              "      <td>1.000000</td>\n",
              "      <td>1.000000</td>\n",
              "      <td>0.000000</td>\n",
              "      <td>1.000000</td>\n",
              "    </tr>\n",
              "    <tr>\n",
              "      <th>max</th>\n",
              "      <td>381098.000000</td>\n",
              "      <td>85.000000</td>\n",
              "      <td>52.000000</td>\n",
              "      <td>540165.000000</td>\n",
              "      <td>163.000000</td>\n",
              "      <td>299.000000</td>\n",
              "      <td>1.000000</td>\n",
              "      <td>1.000000</td>\n",
              "      <td>1.000000</td>\n",
              "      <td>1.000000</td>\n",
              "      <td>1.000000</td>\n",
              "      <td>1.000000</td>\n",
              "      <td>1.000000</td>\n",
              "    </tr>\n",
              "  </tbody>\n",
              "</table>\n",
              "</div>"
            ],
            "text/plain": [
              "                  id           Age  ...  Vehicle_Age_> 2 Years  Vehicle_Damage_Yes\n",
              "count   93891.000000  93891.000000  ...           93891.000000        93891.000000\n",
              "mean   190515.346806     40.806520  ...               0.068036            0.706532\n",
              "std    109947.403429     14.368874  ...               0.251810            0.455353\n",
              "min         1.000000     20.000000  ...               0.000000            0.000000\n",
              "25%     95254.500000     27.000000  ...               0.000000            0.000000\n",
              "50%    190640.000000     41.000000  ...               0.000000            1.000000\n",
              "75%    285907.500000     50.000000  ...               0.000000            1.000000\n",
              "max    381098.000000     85.000000  ...               1.000000            1.000000\n",
              "\n",
              "[8 rows x 13 columns]"
            ]
          },
          "metadata": {},
          "execution_count": 8
        }
      ]
    },
    {
      "cell_type": "code",
      "metadata": {
        "id": "Z517_5nYWO2y"
      },
      "source": [
        "from scipy.stats.mstats import winsorize"
      ],
      "execution_count": 9,
      "outputs": []
    },
    {
      "cell_type": "code",
      "metadata": {
        "colab": {
          "base_uri": "https://localhost:8080/",
          "height": 0
        },
        "id": "gl3YdoiGEltL",
        "outputId": "2e46d729-d95e-4351-f538-16945ac25ac6"
      },
      "source": [
        "plt.figure(figsize = (3,5))\n",
        "sns.set_theme(style=\"whitegrid\")"
      ],
      "execution_count": 10,
      "outputs": [
        {
          "output_type": "display_data",
          "data": {
            "text/plain": [
              "<Figure size 216x360 with 0 Axes>"
            ]
          },
          "metadata": {}
        }
      ]
    },
    {
      "cell_type": "code",
      "metadata": {
        "colab": {
          "base_uri": "https://localhost:8080/",
          "height": 0
        },
        "id": "smRNAKjtEG1v",
        "outputId": "bc5342cd-7f6f-4564-d7cc-718534285118"
      },
      "source": [
        "print('Outliers de variable Age')\n",
        "sns.boxplot(x = 'Age', data = dfDummy)"
      ],
      "execution_count": 11,
      "outputs": [
        {
          "output_type": "stream",
          "name": "stdout",
          "text": [
            "Outliers de variable Age\n"
          ]
        },
        {
          "output_type": "execute_result",
          "data": {
            "text/plain": [
              "<matplotlib.axes._subplots.AxesSubplot at 0x7ff28ff65e10>"
            ]
          },
          "metadata": {},
          "execution_count": 11
        },
        {
          "output_type": "display_data",
          "data": {
            "image/png": "[encoded data removed]",
            "text/plain": [
              "<Figure size 432x288 with 1 Axes>"
            ]
          },
          "metadata": {}
        }
      ]
    },
    {
      "cell_type": "markdown",
      "metadata": {
        "id": "zMos0bn0Viqh"
      },
      "source": [
        "Detecamos un outlier para la variable \"Age\". Procederemos a eliminarlo...\n"
      ]
    },
    {
      "cell_type": "code",
      "metadata": {
        "id": "zZ8i6LdjWWT9",
        "colab": {
          "base_uri": "https://localhost:8080/",
          "height": 0
        },
        "outputId": "580f39b1-0c7a-4612-94ee-bbea5531ff39"
      },
      "source": [
        "dfDummy['Age_Winzorized'] = winsorize(dfDummy['Age'], limits = [None, 0.0001])\n",
        "print('Outliers de variable Age_Winzorized')\n",
        "sns.boxplot(x = 'Age_Winzorized', data = dfDummy)"
      ],
      "execution_count": 12,
      "outputs": [
        {
          "output_type": "stream",
          "name": "stdout",
          "text": [
            "Outliers de variable Age_Winzorized\n"
          ]
        },
        {
          "output_type": "execute_result",
          "data": {
            "text/plain": [
              "<matplotlib.axes._subplots.AxesSubplot at 0x7ff28fe996d0>"
            ]
          },
          "metadata": {},
          "execution_count": 12
        },
        {
          "output_type": "display_data",
          "data": {
            "image/png": "[encoded data removed]",
            "text/plain": [
              "<Figure size 432x288 with 1 Axes>"
            ]
          },
          "metadata": {}
        }
      ]
    },
    {
      "cell_type": "code",
      "metadata": {
        "colab": {
          "base_uri": "https://localhost:8080/",
          "height": 0
        },
        "id": "xwRx6gDKA8IB",
        "outputId": "5577420f-5cb7-4f57-c044-c3eea880dba9"
      },
      "source": [
        "print('Outliers de variable Annual_Premium')\n",
        "sns.boxplot(x = 'Annual_Premium', data = dfDummy)"
      ],
      "execution_count": 13,
      "outputs": [
        {
          "output_type": "stream",
          "name": "stdout",
          "text": [
            "Outliers de variable Annual_Premium\n"
          ]
        },
        {
          "output_type": "execute_result",
          "data": {
            "text/plain": [
              "<matplotlib.axes._subplots.AxesSubplot at 0x7ff28f9d7c90>"
            ]
          },
          "metadata": {},
          "execution_count": 13
        },
        {
          "output_type": "display_data",
          "data": {
            "image/png": "[encoded data removed]",
            "text/plain": [
              "<Figure size 432x288 with 1 Axes>"
            ]
          },
          "metadata": {}
        }
      ]
    },
    {
      "cell_type": "markdown",
      "metadata": {
        "id": "kD0kk2U4XfNt"
      },
      "source": [
        "Detectamos varios outliers para la variable \"Annual_Premium\". Procederemos a eliminarlos..."
      ]
    },
    {
      "cell_type": "code",
      "metadata": {
        "id": "EWdFu3WaXp2e",
        "colab": {
          "base_uri": "https://localhost:8080/",
          "height": 0
        },
        "outputId": "7a2a9b90-0dee-4d0d-e11c-16f1f6b0d3ad"
      },
      "source": [
        "dfDummy['Annual_Premium_Winzorized'] = winsorize(dfDummy['Annual_Premium'], limits = [None, 0.025])\n",
        "print('Outliers de variable Annual_Premium_Winzorized')\n",
        "sns.boxplot(x = 'Annual_Premium_Winzorized', data = dfDummy)"
      ],
      "execution_count": 14,
      "outputs": [
        {
          "output_type": "stream",
          "name": "stdout",
          "text": [
            "Outliers de variable Annual_Premium_Winzorized\n"
          ]
        },
        {
          "output_type": "execute_result",
          "data": {
            "text/plain": [
              "<matplotlib.axes._subplots.AxesSubplot at 0x7ff28f958fd0>"
            ]
          },
          "metadata": {},
          "execution_count": 14
        },
        {
          "output_type": "display_data",
          "data": {
            "image/png": "[encoded data removed]",
            "text/plain": [
              "<Figure size 432x288 with 1 Axes>"
            ]
          },
          "metadata": {}
        }
      ]
    },
    {
      "cell_type": "code",
      "metadata": {
        "colab": {
          "base_uri": "https://localhost:8080/",
          "height": 0
        },
        "id": "mpL3YqYdFiuR",
        "outputId": "9c3b2269-3bc8-4e4e-db97-3d7f3190c142"
      },
      "source": [
        "print('Outliers de variable Vintage')\n",
        "sns.boxplot(x = 'Vintage', data = dfDummy)"
      ],
      "execution_count": 15,
      "outputs": [
        {
          "output_type": "stream",
          "name": "stdout",
          "text": [
            "Outliers de variable Vintage\n"
          ]
        },
        {
          "output_type": "execute_result",
          "data": {
            "text/plain": [
              "<matplotlib.axes._subplots.AxesSubplot at 0x7ff28f90c650>"
            ]
          },
          "metadata": {},
          "execution_count": 15
        },
        {
          "output_type": "display_data",
          "data": {
            "image/png": "[encoded data removed]",
            "text/plain": [
              "<Figure size 432x288 with 1 Axes>"
            ]
          },
          "metadata": {}
        }
      ]
    },
    {
      "cell_type": "markdown",
      "metadata": {
        "id": "UDRLN3syU7Rs"
      },
      "source": [
        "Eliminamos las columnas que son \"winzorized\": Age y Annual_Premium"
      ]
    },
    {
      "cell_type": "code",
      "metadata": {
        "id": "E9yU7IbiTyfe"
      },
      "source": [
        "dfDummy = dfDummy.drop(['Age', 'Annual_Premium'], axis=1)"
      ],
      "execution_count": 16,
      "outputs": []
    },
    {
      "cell_type": "code",
      "metadata": {
        "id": "SrQrN2SPVEX6",
        "colab": {
          "base_uri": "https://localhost:8080/",
          "height": 0
        },
        "outputId": "1060ebcd-e7c9-4821-bbed-232c956a9fd7"
      },
      "source": [
        "dfDummy"
      ],
      "execution_count": 17,
      "outputs": [
        {
          "output_type": "execute_result",
          "data": {
            "text/html": [
              "<div>\n",
              "<style scoped>\n",
              "    .dataframe tbody tr th:only-of-type {\n",
              "        vertical-align: middle;\n",
              "    }\n",
              "\n",
              "    .dataframe tbody tr th {\n",
              "        vertical-align: top;\n",
              "    }\n",
              "\n",
              "    .dataframe thead th {\n",
              "        text-align: right;\n",
              "    }\n",
              "</style>\n",
              "<table border=\"1\" class=\"dataframe\">\n",
              "  <thead>\n",
              "    <tr style=\"text-align: right;\">\n",
              "      <th></th>\n",
              "      <th>id</th>\n",
              "      <th>Region_Code</th>\n",
              "      <th>Policy_Sales_Channel</th>\n",
              "      <th>Vintage</th>\n",
              "      <th>Response</th>\n",
              "      <th>Gender_Male</th>\n",
              "      <th>Driving_License_1</th>\n",
              "      <th>Previously_Insured_1</th>\n",
              "      <th>Vehicle_Age_&lt; 1 Year</th>\n",
              "      <th>Vehicle_Age_&gt; 2 Years</th>\n",
              "      <th>Vehicle_Damage_Yes</th>\n",
              "      <th>Age_Winzorized</th>\n",
              "      <th>Annual_Premium_Winzorized</th>\n",
              "    </tr>\n",
              "  </thead>\n",
              "  <tbody>\n",
              "    <tr>\n",
              "      <th>0</th>\n",
              "      <td>79510</td>\n",
              "      <td>19.0</td>\n",
              "      <td>152.0</td>\n",
              "      <td>87</td>\n",
              "      <td>0</td>\n",
              "      <td>0</td>\n",
              "      <td>1</td>\n",
              "      <td>1</td>\n",
              "      <td>1</td>\n",
              "      <td>0</td>\n",
              "      <td>0</td>\n",
              "      <td>22</td>\n",
              "      <td>54559.0</td>\n",
              "    </tr>\n",
              "    <tr>\n",
              "      <th>1</th>\n",
              "      <td>186555</td>\n",
              "      <td>18.0</td>\n",
              "      <td>124.0</td>\n",
              "      <td>63</td>\n",
              "      <td>0</td>\n",
              "      <td>1</td>\n",
              "      <td>1</td>\n",
              "      <td>0</td>\n",
              "      <td>0</td>\n",
              "      <td>0</td>\n",
              "      <td>1</td>\n",
              "      <td>57</td>\n",
              "      <td>33439.0</td>\n",
              "    </tr>\n",
              "    <tr>\n",
              "      <th>2</th>\n",
              "      <td>158037</td>\n",
              "      <td>28.0</td>\n",
              "      <td>122.0</td>\n",
              "      <td>45</td>\n",
              "      <td>0</td>\n",
              "      <td>0</td>\n",
              "      <td>1</td>\n",
              "      <td>0</td>\n",
              "      <td>0</td>\n",
              "      <td>0</td>\n",
              "      <td>1</td>\n",
              "      <td>64</td>\n",
              "      <td>39327.0</td>\n",
              "    </tr>\n",
              "    <tr>\n",
              "      <th>3</th>\n",
              "      <td>343706</td>\n",
              "      <td>41.0</td>\n",
              "      <td>124.0</td>\n",
              "      <td>161</td>\n",
              "      <td>0</td>\n",
              "      <td>1</td>\n",
              "      <td>1</td>\n",
              "      <td>1</td>\n",
              "      <td>0</td>\n",
              "      <td>0</td>\n",
              "      <td>0</td>\n",
              "      <td>52</td>\n",
              "      <td>26536.0</td>\n",
              "    </tr>\n",
              "    <tr>\n",
              "      <th>4</th>\n",
              "      <td>137903</td>\n",
              "      <td>7.0</td>\n",
              "      <td>152.0</td>\n",
              "      <td>92</td>\n",
              "      <td>0</td>\n",
              "      <td>0</td>\n",
              "      <td>1</td>\n",
              "      <td>0</td>\n",
              "      <td>1</td>\n",
              "      <td>0</td>\n",
              "      <td>0</td>\n",
              "      <td>21</td>\n",
              "      <td>28416.0</td>\n",
              "    </tr>\n",
              "    <tr>\n",
              "      <th>...</th>\n",
              "      <td>...</td>\n",
              "      <td>...</td>\n",
              "      <td>...</td>\n",
              "      <td>...</td>\n",
              "      <td>...</td>\n",
              "      <td>...</td>\n",
              "      <td>...</td>\n",
              "      <td>...</td>\n",
              "      <td>...</td>\n",
              "      <td>...</td>\n",
              "      <td>...</td>\n",
              "      <td>...</td>\n",
              "      <td>...</td>\n",
              "    </tr>\n",
              "    <tr>\n",
              "      <th>93886</th>\n",
              "      <td>381058</td>\n",
              "      <td>46.0</td>\n",
              "      <td>26.0</td>\n",
              "      <td>189</td>\n",
              "      <td>1</td>\n",
              "      <td>1</td>\n",
              "      <td>1</td>\n",
              "      <td>0</td>\n",
              "      <td>0</td>\n",
              "      <td>0</td>\n",
              "      <td>1</td>\n",
              "      <td>40</td>\n",
              "      <td>27508.0</td>\n",
              "    </tr>\n",
              "    <tr>\n",
              "      <th>93887</th>\n",
              "      <td>381062</td>\n",
              "      <td>28.0</td>\n",
              "      <td>124.0</td>\n",
              "      <td>99</td>\n",
              "      <td>1</td>\n",
              "      <td>0</td>\n",
              "      <td>1</td>\n",
              "      <td>0</td>\n",
              "      <td>0</td>\n",
              "      <td>0</td>\n",
              "      <td>1</td>\n",
              "      <td>41</td>\n",
              "      <td>37377.0</td>\n",
              "    </tr>\n",
              "    <tr>\n",
              "      <th>93888</th>\n",
              "      <td>381074</td>\n",
              "      <td>28.0</td>\n",
              "      <td>124.0</td>\n",
              "      <td>167</td>\n",
              "      <td>1</td>\n",
              "      <td>0</td>\n",
              "      <td>1</td>\n",
              "      <td>0</td>\n",
              "      <td>0</td>\n",
              "      <td>0</td>\n",
              "      <td>1</td>\n",
              "      <td>46</td>\n",
              "      <td>34741.0</td>\n",
              "    </tr>\n",
              "    <tr>\n",
              "      <th>93889</th>\n",
              "      <td>381076</td>\n",
              "      <td>28.0</td>\n",
              "      <td>26.0</td>\n",
              "      <td>139</td>\n",
              "      <td>1</td>\n",
              "      <td>0</td>\n",
              "      <td>1</td>\n",
              "      <td>0</td>\n",
              "      <td>0</td>\n",
              "      <td>0</td>\n",
              "      <td>1</td>\n",
              "      <td>61</td>\n",
              "      <td>43875.0</td>\n",
              "    </tr>\n",
              "    <tr>\n",
              "      <th>93890</th>\n",
              "      <td>381098</td>\n",
              "      <td>28.0</td>\n",
              "      <td>26.0</td>\n",
              "      <td>165</td>\n",
              "      <td>1</td>\n",
              "      <td>0</td>\n",
              "      <td>1</td>\n",
              "      <td>0</td>\n",
              "      <td>0</td>\n",
              "      <td>0</td>\n",
              "      <td>1</td>\n",
              "      <td>38</td>\n",
              "      <td>52742.0</td>\n",
              "    </tr>\n",
              "  </tbody>\n",
              "</table>\n",
              "<p>93891 rows × 13 columns</p>\n",
              "</div>"
            ],
            "text/plain": [
              "           id  Region_Code  ...  Age_Winzorized  Annual_Premium_Winzorized\n",
              "0       79510         19.0  ...              22                    54559.0\n",
              "1      186555         18.0  ...              57                    33439.0\n",
              "2      158037         28.0  ...              64                    39327.0\n",
              "3      343706         41.0  ...              52                    26536.0\n",
              "4      137903          7.0  ...              21                    28416.0\n",
              "...       ...          ...  ...             ...                        ...\n",
              "93886  381058         46.0  ...              40                    27508.0\n",
              "93887  381062         28.0  ...              41                    37377.0\n",
              "93888  381074         28.0  ...              46                    34741.0\n",
              "93889  381076         28.0  ...              61                    43875.0\n",
              "93890  381098         28.0  ...              38                    52742.0\n",
              "\n",
              "[93891 rows x 13 columns]"
            ]
          },
          "metadata": {},
          "execution_count": 17
        }
      ]
    },
    {
      "cell_type": "markdown",
      "metadata": {
        "id": "yC3COqMYNeUr"
      },
      "source": [
        "### Filas repetidas"
      ]
    },
    {
      "cell_type": "markdown",
      "metadata": {
        "id": "u-JdmecVOnRI"
      },
      "source": [
        "Según el reporte obtenido con pandas-profiling no hay filas repetidas. Igual probamos"
      ]
    },
    {
      "cell_type": "code",
      "metadata": {
        "id": "KX2QnnLH4F8B",
        "colab": {
          "base_uri": "https://localhost:8080/"
        },
        "outputId": "1389d5ef-33a0-48b6-e8d2-bb663a82cbca"
      },
      "source": [
        "print(\"Cantidad sin borrar\",len(dfDummy))\n",
        "dfDummy_without_duplicates = dfDummy.drop_duplicates()\n",
        "print(\"Cantidad con borrado\", len(dfDummy_without_duplicates))\n"
      ],
      "execution_count": 18,
      "outputs": [
        {
          "output_type": "stream",
          "name": "stdout",
          "text": [
            "Cantidad sin borrar 93891\n",
            "Cantidad con borrado 93891\n"
          ]
        }
      ]
    },
    {
      "cell_type": "markdown",
      "metadata": {
        "id": "607Akm5UMVpI"
      },
      "source": [
        "### Valores nulos"
      ]
    },
    {
      "cell_type": "markdown",
      "metadata": {
        "id": "Y3YwioIR17Sa"
      },
      "source": [
        "No hay variables nulas."
      ]
    },
    {
      "cell_type": "code",
      "metadata": {
        "colab": {
          "base_uri": "https://localhost:8080/",
          "height": 0
        },
        "id": "2GGgDUGZ1NMR",
        "outputId": "b5e472ff-b9e1-428a-bc3f-bcd34a0e1aaa"
      },
      "source": [
        "sns.heatmap(dfDummy.isnull(), cbar = False, yticklabels = False, xticklabels = True)"
      ],
      "execution_count": 19,
      "outputs": [
        {
          "output_type": "execute_result",
          "data": {
            "text/plain": [
              "<matplotlib.axes._subplots.AxesSubplot at 0x7ff28f8a1450>"
            ]
          },
          "metadata": {},
          "execution_count": 19
        },
        {
          "output_type": "display_data",
          "data": {
            "image/png": "[encoded data removed]",
            "text/plain": [
              "<Figure size 432x288 with 1 Axes>"
            ]
          },
          "metadata": {}
        }
      ]
    },
    {
      "cell_type": "markdown",
      "metadata": {
        "id": "_q0Ujz1VMlEO"
      },
      "source": [
        "### Feature Scaling"
      ]
    },
    {
      "cell_type": "markdown",
      "metadata": {
        "id": "Tqfy0rKQOYJ_"
      },
      "source": [
        "Usamos la normalización porque:\n",
        "-\tNo podemos asumir que la distribución de nuestros datos es gaussiana.\n",
        "-\tNo tenemos outliers porque ya los eliminamos."
      ]
    },
    {
      "cell_type": "code",
      "metadata": {
        "id": "-7fjGRDnOMeR"
      },
      "source": [
        "scaler = MinMaxScaler(feature_range = (0, 1))"
      ],
      "execution_count": 20,
      "outputs": []
    },
    {
      "cell_type": "code",
      "metadata": {
        "id": "8ORB3awUOb7c"
      },
      "source": [
        "dfDummy_normAux = scaler.fit_transform(dfDummy)"
      ],
      "execution_count": 21,
      "outputs": []
    },
    {
      "cell_type": "code",
      "metadata": {
        "id": "Wx5lZaEZOhfM",
        "colab": {
          "base_uri": "https://localhost:8080/"
        },
        "outputId": "d8eb9c6a-981f-4363-809c-b41d2922631f"
      },
      "source": [
        "dfDummy_normAux"
      ],
      "execution_count": 22,
      "outputs": [
        {
          "output_type": "execute_result",
          "data": {
            "text/plain": [
              "array([[0.20863192, 0.36538462, 0.93209877, ..., 0.        , 0.03174603,\n",
              "        0.84877658],\n",
              "       [0.48951842, 0.34615385, 0.75925926, ..., 1.        , 0.58730159,\n",
              "        0.50357137],\n",
              "       [0.41468707, 0.53846154, 0.74691358, ..., 1.        , 0.6984127 ,\n",
              "        0.5998104 ],\n",
              "       ...,\n",
              "       [0.99993702, 0.53846154, 0.75925926, ..., 1.        , 0.41269841,\n",
              "        0.52485249],\n",
              "       [0.99994227, 0.53846154, 0.15432099, ..., 1.        , 0.65079365,\n",
              "        0.6741472 ],\n",
              "       [1.        , 0.53846154, 0.15432099, ..., 1.        , 0.28571429,\n",
              "        0.81907782]])"
            ]
          },
          "metadata": {},
          "execution_count": 22
        }
      ]
    },
    {
      "cell_type": "code",
      "metadata": {
        "id": "6w9K0nhnO4AE"
      },
      "source": [
        "dfDummy_normalized = pd.DataFrame(dfDummy_normAux, columns = sorted(dfDummy))"
      ],
      "execution_count": 23,
      "outputs": []
    },
    {
      "cell_type": "code",
      "metadata": {
        "id": "0nRbsJrMQy9z",
        "colab": {
          "base_uri": "https://localhost:8080/",
          "height": 0
        },
        "outputId": "05fdae84-3df9-4390-e72f-3b64abf33a15"
      },
      "source": [
        "dfDummy2 = pd.DataFrame(dfDummy, columns = sorted(dfDummy))\n",
        "dfDummy2"
      ],
      "execution_count": 24,
      "outputs": [
        {
          "output_type": "execute_result",
          "data": {
            "text/html": [
              "<div>\n",
              "<style scoped>\n",
              "    .dataframe tbody tr th:only-of-type {\n",
              "        vertical-align: middle;\n",
              "    }\n",
              "\n",
              "    .dataframe tbody tr th {\n",
              "        vertical-align: top;\n",
              "    }\n",
              "\n",
              "    .dataframe thead th {\n",
              "        text-align: right;\n",
              "    }\n",
              "</style>\n",
              "<table border=\"1\" class=\"dataframe\">\n",
              "  <thead>\n",
              "    <tr style=\"text-align: right;\">\n",
              "      <th></th>\n",
              "      <th>Age_Winzorized</th>\n",
              "      <th>Annual_Premium_Winzorized</th>\n",
              "      <th>Driving_License_1</th>\n",
              "      <th>Gender_Male</th>\n",
              "      <th>Policy_Sales_Channel</th>\n",
              "      <th>Previously_Insured_1</th>\n",
              "      <th>Region_Code</th>\n",
              "      <th>Response</th>\n",
              "      <th>Vehicle_Age_&lt; 1 Year</th>\n",
              "      <th>Vehicle_Age_&gt; 2 Years</th>\n",
              "      <th>Vehicle_Damage_Yes</th>\n",
              "      <th>Vintage</th>\n",
              "      <th>id</th>\n",
              "    </tr>\n",
              "  </thead>\n",
              "  <tbody>\n",
              "    <tr>\n",
              "      <th>0</th>\n",
              "      <td>22</td>\n",
              "      <td>54559.0</td>\n",
              "      <td>1</td>\n",
              "      <td>0</td>\n",
              "      <td>152.0</td>\n",
              "      <td>1</td>\n",
              "      <td>19.0</td>\n",
              "      <td>0</td>\n",
              "      <td>1</td>\n",
              "      <td>0</td>\n",
              "      <td>0</td>\n",
              "      <td>87</td>\n",
              "      <td>79510</td>\n",
              "    </tr>\n",
              "    <tr>\n",
              "      <th>1</th>\n",
              "      <td>57</td>\n",
              "      <td>33439.0</td>\n",
              "      <td>1</td>\n",
              "      <td>1</td>\n",
              "      <td>124.0</td>\n",
              "      <td>0</td>\n",
              "      <td>18.0</td>\n",
              "      <td>0</td>\n",
              "      <td>0</td>\n",
              "      <td>0</td>\n",
              "      <td>1</td>\n",
              "      <td>63</td>\n",
              "      <td>186555</td>\n",
              "    </tr>\n",
              "    <tr>\n",
              "      <th>2</th>\n",
              "      <td>64</td>\n",
              "      <td>39327.0</td>\n",
              "      <td>1</td>\n",
              "      <td>0</td>\n",
              "      <td>122.0</td>\n",
              "      <td>0</td>\n",
              "      <td>28.0</td>\n",
              "      <td>0</td>\n",
              "      <td>0</td>\n",
              "      <td>0</td>\n",
              "      <td>1</td>\n",
              "      <td>45</td>\n",
              "      <td>158037</td>\n",
              "    </tr>\n",
              "    <tr>\n",
              "      <th>3</th>\n",
              "      <td>52</td>\n",
              "      <td>26536.0</td>\n",
              "      <td>1</td>\n",
              "      <td>1</td>\n",
              "      <td>124.0</td>\n",
              "      <td>1</td>\n",
              "      <td>41.0</td>\n",
              "      <td>0</td>\n",
              "      <td>0</td>\n",
              "      <td>0</td>\n",
              "      <td>0</td>\n",
              "      <td>161</td>\n",
              "      <td>343706</td>\n",
              "    </tr>\n",
              "    <tr>\n",
              "      <th>4</th>\n",
              "      <td>21</td>\n",
              "      <td>28416.0</td>\n",
              "      <td>1</td>\n",
              "      <td>0</td>\n",
              "      <td>152.0</td>\n",
              "      <td>0</td>\n",
              "      <td>7.0</td>\n",
              "      <td>0</td>\n",
              "      <td>1</td>\n",
              "      <td>0</td>\n",
              "      <td>0</td>\n",
              "      <td>92</td>\n",
              "      <td>137903</td>\n",
              "    </tr>\n",
              "    <tr>\n",
              "      <th>...</th>\n",
              "      <td>...</td>\n",
              "      <td>...</td>\n",
              "      <td>...</td>\n",
              "      <td>...</td>\n",
              "      <td>...</td>\n",
              "      <td>...</td>\n",
              "      <td>...</td>\n",
              "      <td>...</td>\n",
              "      <td>...</td>\n",
              "      <td>...</td>\n",
              "      <td>...</td>\n",
              "      <td>...</td>\n",
              "      <td>...</td>\n",
              "    </tr>\n",
              "    <tr>\n",
              "      <th>93886</th>\n",
              "      <td>40</td>\n",
              "      <td>27508.0</td>\n",
              "      <td>1</td>\n",
              "      <td>1</td>\n",
              "      <td>26.0</td>\n",
              "      <td>0</td>\n",
              "      <td>46.0</td>\n",
              "      <td>1</td>\n",
              "      <td>0</td>\n",
              "      <td>0</td>\n",
              "      <td>1</td>\n",
              "      <td>189</td>\n",
              "      <td>381058</td>\n",
              "    </tr>\n",
              "    <tr>\n",
              "      <th>93887</th>\n",
              "      <td>41</td>\n",
              "      <td>37377.0</td>\n",
              "      <td>1</td>\n",
              "      <td>0</td>\n",
              "      <td>124.0</td>\n",
              "      <td>0</td>\n",
              "      <td>28.0</td>\n",
              "      <td>1</td>\n",
              "      <td>0</td>\n",
              "      <td>0</td>\n",
              "      <td>1</td>\n",
              "      <td>99</td>\n",
              "      <td>381062</td>\n",
              "    </tr>\n",
              "    <tr>\n",
              "      <th>93888</th>\n",
              "      <td>46</td>\n",
              "      <td>34741.0</td>\n",
              "      <td>1</td>\n",
              "      <td>0</td>\n",
              "      <td>124.0</td>\n",
              "      <td>0</td>\n",
              "      <td>28.0</td>\n",
              "      <td>1</td>\n",
              "      <td>0</td>\n",
              "      <td>0</td>\n",
              "      <td>1</td>\n",
              "      <td>167</td>\n",
              "      <td>381074</td>\n",
              "    </tr>\n",
              "    <tr>\n",
              "      <th>93889</th>\n",
              "      <td>61</td>\n",
              "      <td>43875.0</td>\n",
              "      <td>1</td>\n",
              "      <td>0</td>\n",
              "      <td>26.0</td>\n",
              "      <td>0</td>\n",
              "      <td>28.0</td>\n",
              "      <td>1</td>\n",
              "      <td>0</td>\n",
              "      <td>0</td>\n",
              "      <td>1</td>\n",
              "      <td>139</td>\n",
              "      <td>381076</td>\n",
              "    </tr>\n",
              "    <tr>\n",
              "      <th>93890</th>\n",
              "      <td>38</td>\n",
              "      <td>52742.0</td>\n",
              "      <td>1</td>\n",
              "      <td>0</td>\n",
              "      <td>26.0</td>\n",
              "      <td>0</td>\n",
              "      <td>28.0</td>\n",
              "      <td>1</td>\n",
              "      <td>0</td>\n",
              "      <td>0</td>\n",
              "      <td>1</td>\n",
              "      <td>165</td>\n",
              "      <td>381098</td>\n",
              "    </tr>\n",
              "  </tbody>\n",
              "</table>\n",
              "<p>93891 rows × 13 columns</p>\n",
              "</div>"
            ],
            "text/plain": [
              "       Age_Winzorized  Annual_Premium_Winzorized  ...  Vintage      id\n",
              "0                  22                    54559.0  ...       87   79510\n",
              "1                  57                    33439.0  ...       63  186555\n",
              "2                  64                    39327.0  ...       45  158037\n",
              "3                  52                    26536.0  ...      161  343706\n",
              "4                  21                    28416.0  ...       92  137903\n",
              "...               ...                        ...  ...      ...     ...\n",
              "93886              40                    27508.0  ...      189  381058\n",
              "93887              41                    37377.0  ...       99  381062\n",
              "93888              46                    34741.0  ...      167  381074\n",
              "93889              61                    43875.0  ...      139  381076\n",
              "93890              38                    52742.0  ...      165  381098\n",
              "\n",
              "[93891 rows x 13 columns]"
            ]
          },
          "metadata": {},
          "execution_count": 24
        }
      ]
    },
    {
      "cell_type": "code",
      "metadata": {
        "id": "-jD_CcgtQJQr",
        "colab": {
          "base_uri": "https://localhost:8080/",
          "height": 0
        },
        "outputId": "72e99f9e-2774-4e71-d235-7f4b3d654a42"
      },
      "source": [
        "dfDummy_normalized"
      ],
      "execution_count": 25,
      "outputs": [
        {
          "output_type": "execute_result",
          "data": {
            "text/html": [
              "<div>\n",
              "<style scoped>\n",
              "    .dataframe tbody tr th:only-of-type {\n",
              "        vertical-align: middle;\n",
              "    }\n",
              "\n",
              "    .dataframe tbody tr th {\n",
              "        vertical-align: top;\n",
              "    }\n",
              "\n",
              "    .dataframe thead th {\n",
              "        text-align: right;\n",
              "    }\n",
              "</style>\n",
              "<table border=\"1\" class=\"dataframe\">\n",
              "  <thead>\n",
              "    <tr style=\"text-align: right;\">\n",
              "      <th></th>\n",
              "      <th>Age_Winzorized</th>\n",
              "      <th>Annual_Premium_Winzorized</th>\n",
              "      <th>Driving_License_1</th>\n",
              "      <th>Gender_Male</th>\n",
              "      <th>Policy_Sales_Channel</th>\n",
              "      <th>Previously_Insured_1</th>\n",
              "      <th>Region_Code</th>\n",
              "      <th>Response</th>\n",
              "      <th>Vehicle_Age_&lt; 1 Year</th>\n",
              "      <th>Vehicle_Age_&gt; 2 Years</th>\n",
              "      <th>Vehicle_Damage_Yes</th>\n",
              "      <th>Vintage</th>\n",
              "      <th>id</th>\n",
              "    </tr>\n",
              "  </thead>\n",
              "  <tbody>\n",
              "    <tr>\n",
              "      <th>0</th>\n",
              "      <td>0.208632</td>\n",
              "      <td>0.365385</td>\n",
              "      <td>0.932099</td>\n",
              "      <td>0.266436</td>\n",
              "      <td>0.0</td>\n",
              "      <td>0.0</td>\n",
              "      <td>1.0</td>\n",
              "      <td>1.0</td>\n",
              "      <td>1.0</td>\n",
              "      <td>0.0</td>\n",
              "      <td>0.0</td>\n",
              "      <td>0.031746</td>\n",
              "      <td>0.848777</td>\n",
              "    </tr>\n",
              "    <tr>\n",
              "      <th>1</th>\n",
              "      <td>0.489518</td>\n",
              "      <td>0.346154</td>\n",
              "      <td>0.759259</td>\n",
              "      <td>0.183391</td>\n",
              "      <td>0.0</td>\n",
              "      <td>1.0</td>\n",
              "      <td>1.0</td>\n",
              "      <td>0.0</td>\n",
              "      <td>0.0</td>\n",
              "      <td>0.0</td>\n",
              "      <td>1.0</td>\n",
              "      <td>0.587302</td>\n",
              "      <td>0.503571</td>\n",
              "    </tr>\n",
              "    <tr>\n",
              "      <th>2</th>\n",
              "      <td>0.414687</td>\n",
              "      <td>0.538462</td>\n",
              "      <td>0.746914</td>\n",
              "      <td>0.121107</td>\n",
              "      <td>0.0</td>\n",
              "      <td>0.0</td>\n",
              "      <td>1.0</td>\n",
              "      <td>0.0</td>\n",
              "      <td>0.0</td>\n",
              "      <td>0.0</td>\n",
              "      <td>1.0</td>\n",
              "      <td>0.698413</td>\n",
              "      <td>0.599810</td>\n",
              "    </tr>\n",
              "    <tr>\n",
              "      <th>3</th>\n",
              "      <td>0.901883</td>\n",
              "      <td>0.788462</td>\n",
              "      <td>0.759259</td>\n",
              "      <td>0.522491</td>\n",
              "      <td>0.0</td>\n",
              "      <td>1.0</td>\n",
              "      <td>1.0</td>\n",
              "      <td>1.0</td>\n",
              "      <td>0.0</td>\n",
              "      <td>0.0</td>\n",
              "      <td>0.0</td>\n",
              "      <td>0.507937</td>\n",
              "      <td>0.390742</td>\n",
              "    </tr>\n",
              "    <tr>\n",
              "      <th>4</th>\n",
              "      <td>0.361855</td>\n",
              "      <td>0.134615</td>\n",
              "      <td>0.932099</td>\n",
              "      <td>0.283737</td>\n",
              "      <td>0.0</td>\n",
              "      <td>0.0</td>\n",
              "      <td>1.0</td>\n",
              "      <td>0.0</td>\n",
              "      <td>1.0</td>\n",
              "      <td>0.0</td>\n",
              "      <td>0.0</td>\n",
              "      <td>0.015873</td>\n",
              "      <td>0.421471</td>\n",
              "    </tr>\n",
              "    <tr>\n",
              "      <th>...</th>\n",
              "      <td>...</td>\n",
              "      <td>...</td>\n",
              "      <td>...</td>\n",
              "      <td>...</td>\n",
              "      <td>...</td>\n",
              "      <td>...</td>\n",
              "      <td>...</td>\n",
              "      <td>...</td>\n",
              "      <td>...</td>\n",
              "      <td>...</td>\n",
              "      <td>...</td>\n",
              "      <td>...</td>\n",
              "      <td>...</td>\n",
              "    </tr>\n",
              "    <tr>\n",
              "      <th>93886</th>\n",
              "      <td>0.999895</td>\n",
              "      <td>0.884615</td>\n",
              "      <td>0.154321</td>\n",
              "      <td>0.619377</td>\n",
              "      <td>1.0</td>\n",
              "      <td>1.0</td>\n",
              "      <td>1.0</td>\n",
              "      <td>0.0</td>\n",
              "      <td>0.0</td>\n",
              "      <td>0.0</td>\n",
              "      <td>1.0</td>\n",
              "      <td>0.317460</td>\n",
              "      <td>0.406630</td>\n",
              "    </tr>\n",
              "    <tr>\n",
              "      <th>93887</th>\n",
              "      <td>0.999906</td>\n",
              "      <td>0.538462</td>\n",
              "      <td>0.759259</td>\n",
              "      <td>0.307958</td>\n",
              "      <td>1.0</td>\n",
              "      <td>0.0</td>\n",
              "      <td>1.0</td>\n",
              "      <td>0.0</td>\n",
              "      <td>0.0</td>\n",
              "      <td>0.0</td>\n",
              "      <td>1.0</td>\n",
              "      <td>0.333333</td>\n",
              "      <td>0.567938</td>\n",
              "    </tr>\n",
              "    <tr>\n",
              "      <th>93888</th>\n",
              "      <td>0.999937</td>\n",
              "      <td>0.538462</td>\n",
              "      <td>0.759259</td>\n",
              "      <td>0.543253</td>\n",
              "      <td>1.0</td>\n",
              "      <td>0.0</td>\n",
              "      <td>1.0</td>\n",
              "      <td>0.0</td>\n",
              "      <td>0.0</td>\n",
              "      <td>0.0</td>\n",
              "      <td>1.0</td>\n",
              "      <td>0.412698</td>\n",
              "      <td>0.524852</td>\n",
              "    </tr>\n",
              "    <tr>\n",
              "      <th>93889</th>\n",
              "      <td>0.999942</td>\n",
              "      <td>0.538462</td>\n",
              "      <td>0.154321</td>\n",
              "      <td>0.446367</td>\n",
              "      <td>1.0</td>\n",
              "      <td>0.0</td>\n",
              "      <td>1.0</td>\n",
              "      <td>0.0</td>\n",
              "      <td>0.0</td>\n",
              "      <td>0.0</td>\n",
              "      <td>1.0</td>\n",
              "      <td>0.650794</td>\n",
              "      <td>0.674147</td>\n",
              "    </tr>\n",
              "    <tr>\n",
              "      <th>93890</th>\n",
              "      <td>1.000000</td>\n",
              "      <td>0.538462</td>\n",
              "      <td>0.154321</td>\n",
              "      <td>0.536332</td>\n",
              "      <td>1.0</td>\n",
              "      <td>0.0</td>\n",
              "      <td>1.0</td>\n",
              "      <td>0.0</td>\n",
              "      <td>0.0</td>\n",
              "      <td>0.0</td>\n",
              "      <td>1.0</td>\n",
              "      <td>0.285714</td>\n",
              "      <td>0.819078</td>\n",
              "    </tr>\n",
              "  </tbody>\n",
              "</table>\n",
              "<p>93891 rows × 13 columns</p>\n",
              "</div>"
            ],
            "text/plain": [
              "       Age_Winzorized  Annual_Premium_Winzorized  ...   Vintage        id\n",
              "0            0.208632                   0.365385  ...  0.031746  0.848777\n",
              "1            0.489518                   0.346154  ...  0.587302  0.503571\n",
              "2            0.414687                   0.538462  ...  0.698413  0.599810\n",
              "3            0.901883                   0.788462  ...  0.507937  0.390742\n",
              "4            0.361855                   0.134615  ...  0.015873  0.421471\n",
              "...               ...                        ...  ...       ...       ...\n",
              "93886        0.999895                   0.884615  ...  0.317460  0.406630\n",
              "93887        0.999906                   0.538462  ...  0.333333  0.567938\n",
              "93888        0.999937                   0.538462  ...  0.412698  0.524852\n",
              "93889        0.999942                   0.538462  ...  0.650794  0.674147\n",
              "93890        1.000000                   0.538462  ...  0.285714  0.819078\n",
              "\n",
              "[93891 rows x 13 columns]"
            ]
          },
          "metadata": {},
          "execution_count": 25
        }
      ]
    },
    {
      "cell_type": "markdown",
      "metadata": {
        "id": "nFG7VI9pOGSr"
      },
      "source": [
        "### Análisis de correlación"
      ]
    },
    {
      "cell_type": "code",
      "metadata": {
        "colab": {
          "base_uri": "https://localhost:8080/",
          "height": 0
        },
        "id": "Fn7S-GtxmgAh",
        "outputId": "f381554d-2e8b-4810-99ef-df6161b0b8d4"
      },
      "source": [
        "d_cor = dfDummy_normalized.corr()\n",
        "d_cor"
      ],
      "execution_count": 26,
      "outputs": [
        {
          "output_type": "execute_result",
          "data": {
            "text/html": [
              "<div>\n",
              "<style scoped>\n",
              "    .dataframe tbody tr th:only-of-type {\n",
              "        vertical-align: middle;\n",
              "    }\n",
              "\n",
              "    .dataframe tbody tr th {\n",
              "        vertical-align: top;\n",
              "    }\n",
              "\n",
              "    .dataframe thead th {\n",
              "        text-align: right;\n",
              "    }\n",
              "</style>\n",
              "<table border=\"1\" class=\"dataframe\">\n",
              "  <thead>\n",
              "    <tr style=\"text-align: right;\">\n",
              "      <th></th>\n",
              "      <th>Age_Winzorized</th>\n",
              "      <th>Annual_Premium_Winzorized</th>\n",
              "      <th>Driving_License_1</th>\n",
              "      <th>Gender_Male</th>\n",
              "      <th>Policy_Sales_Channel</th>\n",
              "      <th>Previously_Insured_1</th>\n",
              "      <th>Region_Code</th>\n",
              "      <th>Response</th>\n",
              "      <th>Vehicle_Age_&lt; 1 Year</th>\n",
              "      <th>Vehicle_Age_&gt; 2 Years</th>\n",
              "      <th>Vehicle_Damage_Yes</th>\n",
              "      <th>Vintage</th>\n",
              "      <th>id</th>\n",
              "    </tr>\n",
              "  </thead>\n",
              "  <tbody>\n",
              "    <tr>\n",
              "      <th>Age_Winzorized</th>\n",
              "      <td>1.000000</td>\n",
              "      <td>-0.000327</td>\n",
              "      <td>0.001997</td>\n",
              "      <td>-0.002523</td>\n",
              "      <td>-0.003286</td>\n",
              "      <td>0.005085</td>\n",
              "      <td>-0.002911</td>\n",
              "      <td>0.003164</td>\n",
              "      <td>0.000701</td>\n",
              "      <td>-0.004702</td>\n",
              "      <td>-0.001973</td>\n",
              "      <td>0.002731</td>\n",
              "      <td>0.002147</td>\n",
              "    </tr>\n",
              "    <tr>\n",
              "      <th>Annual_Premium_Winzorized</th>\n",
              "      <td>-0.000327</td>\n",
              "      <td>1.000000</td>\n",
              "      <td>-0.035028</td>\n",
              "      <td>-0.005488</td>\n",
              "      <td>0.016278</td>\n",
              "      <td>-0.003781</td>\n",
              "      <td>0.003100</td>\n",
              "      <td>-0.023101</td>\n",
              "      <td>-0.034282</td>\n",
              "      <td>0.013191</td>\n",
              "      <td>0.025978</td>\n",
              "      <td>0.032374</td>\n",
              "      <td>-0.001270</td>\n",
              "    </tr>\n",
              "    <tr>\n",
              "      <th>Driving_License_1</th>\n",
              "      <td>0.001997</td>\n",
              "      <td>-0.035028</td>\n",
              "      <td>1.000000</td>\n",
              "      <td>0.003790</td>\n",
              "      <td>-0.207801</td>\n",
              "      <td>-0.090779</td>\n",
              "      <td>0.026948</td>\n",
              "      <td>0.228769</td>\n",
              "      <td>0.495390</td>\n",
              "      <td>-0.181666</td>\n",
              "      <td>-0.239369</td>\n",
              "      <td>-0.519569</td>\n",
              "      <td>-0.167470</td>\n",
              "    </tr>\n",
              "    <tr>\n",
              "      <th>Gender_Male</th>\n",
              "      <td>-0.002523</td>\n",
              "      <td>-0.005488</td>\n",
              "      <td>0.003790</td>\n",
              "      <td>1.000000</td>\n",
              "      <td>-0.006753</td>\n",
              "      <td>-0.001775</td>\n",
              "      <td>-0.001058</td>\n",
              "      <td>0.005661</td>\n",
              "      <td>0.003494</td>\n",
              "      <td>0.001171</td>\n",
              "      <td>-0.003744</td>\n",
              "      <td>-0.006477</td>\n",
              "      <td>0.000989</td>\n",
              "    </tr>\n",
              "    <tr>\n",
              "      <th>Policy_Sales_Channel</th>\n",
              "      <td>-0.003286</td>\n",
              "      <td>0.016278</td>\n",
              "      <td>-0.207801</td>\n",
              "      <td>-0.006753</td>\n",
              "      <td>1.000000</td>\n",
              "      <td>0.080682</td>\n",
              "      <td>0.016465</td>\n",
              "      <td>-0.588736</td>\n",
              "      <td>-0.341658</td>\n",
              "      <td>0.128924</td>\n",
              "      <td>0.595324</td>\n",
              "      <td>0.182061</td>\n",
              "      <td>0.033304</td>\n",
              "    </tr>\n",
              "    <tr>\n",
              "      <th>Previously_Insured_1</th>\n",
              "      <td>0.005085</td>\n",
              "      <td>-0.003781</td>\n",
              "      <td>-0.090779</td>\n",
              "      <td>-0.001775</td>\n",
              "      <td>0.080682</td>\n",
              "      <td>1.000000</td>\n",
              "      <td>-0.015677</td>\n",
              "      <td>-0.090274</td>\n",
              "      <td>-0.145536</td>\n",
              "      <td>0.049334</td>\n",
              "      <td>0.096432</td>\n",
              "      <td>0.131681</td>\n",
              "      <td>0.008915</td>\n",
              "    </tr>\n",
              "    <tr>\n",
              "      <th>Region_Code</th>\n",
              "      <td>-0.002911</td>\n",
              "      <td>0.003100</td>\n",
              "      <td>0.026948</td>\n",
              "      <td>-0.001058</td>\n",
              "      <td>0.016465</td>\n",
              "      <td>-0.015677</td>\n",
              "      <td>1.000000</td>\n",
              "      <td>0.000492</td>\n",
              "      <td>0.026392</td>\n",
              "      <td>-0.000294</td>\n",
              "      <td>-0.001779</td>\n",
              "      <td>-0.064070</td>\n",
              "      <td>-0.007420</td>\n",
              "    </tr>\n",
              "    <tr>\n",
              "      <th>Response</th>\n",
              "      <td>0.003164</td>\n",
              "      <td>-0.023101</td>\n",
              "      <td>0.228769</td>\n",
              "      <td>0.005661</td>\n",
              "      <td>-0.588736</td>\n",
              "      <td>-0.090274</td>\n",
              "      <td>0.000492</td>\n",
              "      <td>1.000000</td>\n",
              "      <td>0.403296</td>\n",
              "      <td>-0.161272</td>\n",
              "      <td>-0.853874</td>\n",
              "      <td>-0.261900</td>\n",
              "      <td>-0.010180</td>\n",
              "    </tr>\n",
              "    <tr>\n",
              "      <th>Vehicle_Age_&lt; 1 Year</th>\n",
              "      <td>0.000701</td>\n",
              "      <td>-0.034282</td>\n",
              "      <td>0.495390</td>\n",
              "      <td>0.003494</td>\n",
              "      <td>-0.341658</td>\n",
              "      <td>-0.145536</td>\n",
              "      <td>0.026392</td>\n",
              "      <td>0.403296</td>\n",
              "      <td>1.000000</td>\n",
              "      <td>-0.182579</td>\n",
              "      <td>-0.415373</td>\n",
              "      <td>-0.732124</td>\n",
              "      <td>-0.030455</td>\n",
              "    </tr>\n",
              "    <tr>\n",
              "      <th>Vehicle_Age_&gt; 2 Years</th>\n",
              "      <td>-0.004702</td>\n",
              "      <td>0.013191</td>\n",
              "      <td>-0.181666</td>\n",
              "      <td>0.001171</td>\n",
              "      <td>0.128924</td>\n",
              "      <td>0.049334</td>\n",
              "      <td>-0.000294</td>\n",
              "      <td>-0.161272</td>\n",
              "      <td>-0.182579</td>\n",
              "      <td>1.000000</td>\n",
              "      <td>0.173856</td>\n",
              "      <td>0.246683</td>\n",
              "      <td>0.101323</td>\n",
              "    </tr>\n",
              "    <tr>\n",
              "      <th>Vehicle_Damage_Yes</th>\n",
              "      <td>-0.001973</td>\n",
              "      <td>0.025978</td>\n",
              "      <td>-0.239369</td>\n",
              "      <td>-0.003744</td>\n",
              "      <td>0.595324</td>\n",
              "      <td>0.096432</td>\n",
              "      <td>-0.001779</td>\n",
              "      <td>-0.853874</td>\n",
              "      <td>-0.415373</td>\n",
              "      <td>0.173856</td>\n",
              "      <td>1.000000</td>\n",
              "      <td>0.276029</td>\n",
              "      <td>0.027007</td>\n",
              "    </tr>\n",
              "    <tr>\n",
              "      <th>Vintage</th>\n",
              "      <td>0.002731</td>\n",
              "      <td>0.032374</td>\n",
              "      <td>-0.519569</td>\n",
              "      <td>-0.006477</td>\n",
              "      <td>0.182061</td>\n",
              "      <td>0.131681</td>\n",
              "      <td>-0.064070</td>\n",
              "      <td>-0.261900</td>\n",
              "      <td>-0.732124</td>\n",
              "      <td>0.246683</td>\n",
              "      <td>0.276029</td>\n",
              "      <td>1.000000</td>\n",
              "      <td>0.092092</td>\n",
              "    </tr>\n",
              "    <tr>\n",
              "      <th>id</th>\n",
              "      <td>0.002147</td>\n",
              "      <td>-0.001270</td>\n",
              "      <td>-0.167470</td>\n",
              "      <td>0.000989</td>\n",
              "      <td>0.033304</td>\n",
              "      <td>0.008915</td>\n",
              "      <td>-0.007420</td>\n",
              "      <td>-0.010180</td>\n",
              "      <td>-0.030455</td>\n",
              "      <td>0.101323</td>\n",
              "      <td>0.027007</td>\n",
              "      <td>0.092092</td>\n",
              "      <td>1.000000</td>\n",
              "    </tr>\n",
              "  </tbody>\n",
              "</table>\n",
              "</div>"
            ],
            "text/plain": [
              "                           Age_Winzorized  ...        id\n",
              "Age_Winzorized                   1.000000  ...  0.002147\n",
              "Annual_Premium_Winzorized       -0.000327  ... -0.001270\n",
              "Driving_License_1                0.001997  ... -0.167470\n",
              "Gender_Male                     -0.002523  ...  0.000989\n",
              "Policy_Sales_Channel            -0.003286  ...  0.033304\n",
              "Previously_Insured_1             0.005085  ...  0.008915\n",
              "Region_Code                     -0.002911  ... -0.007420\n",
              "Response                         0.003164  ... -0.010180\n",
              "Vehicle_Age_< 1 Year             0.000701  ... -0.030455\n",
              "Vehicle_Age_> 2 Years           -0.004702  ...  0.101323\n",
              "Vehicle_Damage_Yes              -0.001973  ...  0.027007\n",
              "Vintage                          0.002731  ...  0.092092\n",
              "id                               0.002147  ...  1.000000\n",
              "\n",
              "[13 rows x 13 columns]"
            ]
          },
          "metadata": {},
          "execution_count": 26
        }
      ]
    },
    {
      "cell_type": "code",
      "metadata": {
        "id": "dsgTiMSSnBQ1"
      },
      "source": [
        "paletaColores = sns.diverging_palette(0, 100, sep = 10, as_cmap = False)"
      ],
      "execution_count": 27,
      "outputs": []
    },
    {
      "cell_type": "code",
      "metadata": {
        "colab": {
          "base_uri": "https://localhost:8080/",
          "height": 0
        },
        "id": "F1rsGW00mvtd",
        "outputId": "0fe9ebe1-d2e1-43f3-e330-c92f7dbad501"
      },
      "source": [
        "fig, ax = plt.subplots(nrows=1, ncols=1, figsize=(15, 15))\n",
        "sns.heatmap(\n",
        "    dfDummy_normalized.corr(),\n",
        "    annot     = True,\n",
        "    annot_kws = {\"size\": 12},\n",
        "    vmin      = -1,\n",
        "    vmax      = 1,\n",
        "    center    = 0,\n",
        "    cmap      = paletaColores,\n",
        "    square    = True,\n",
        "    ax        = ax\n",
        ").set_title(\"Mapa de correlación\", fontsize = 16)\n",
        "ax.set_xticklabels(\n",
        "    ax.get_xticklabels(),\n",
        "    rotation = 45,\n",
        "    horizontalalignment = 'right',\n",
        ")\n",
        "\n",
        "ax.tick_params(labelsize = 14)"
      ],
      "execution_count": 28,
      "outputs": [
        {
          "output_type": "display_data",
          "data": {
            "image/png": "[encoded data removed]",
            "text/plain": [
              "<Figure size 1080x1080 with 2 Axes>"
            ]
          },
          "metadata": {}
        }
      ]
    },
    {
      "cell_type": "markdown",
      "metadata": {
        "id": "P2WsyCy2naG1"
      },
      "source": [
        "Consideramos una alta correlacion cuando el valor supera 0.68. Por otro lado, no tomamos en cuenta la variable \"Response\" por ser el target. Por lo tanto las correlaciones existentes son:\n",
        "\n",
        "*   Vintage --> Vehicle_Age_> 1 Years\n",
        "\n",
        "Dado a que Vehicle_Age_> 1 Years contiene menos correlacion con las demas variables, procedemos a eliminar Vintage para tener un cuadro menor de correlacion. Por otro lado, Vehicle_Age_> 1 Years tiene mas correlacion con Response (target), haciendolo mas relevante. \n",
        "\n"
      ]
    },
    {
      "cell_type": "markdown",
      "metadata": {
        "id": "nMDcLuEuOY3J"
      },
      "source": [
        "####\tEliminación de variables altamente correlacionadas"
      ]
    },
    {
      "cell_type": "code",
      "metadata": {
        "colab": {
          "base_uri": "https://localhost:8080/",
          "height": 0
        },
        "id": "aajKGvVqpGmo",
        "outputId": "1364ed0a-e1c5-4b4a-9043-38aa1fa46ba8"
      },
      "source": [
        "df_sin_corr = dfDummy_normalized\n",
        "\n",
        "df_sin_corr = df_sin_corr.drop(columns=['Vintage'])\n",
        "\n",
        "df_sin_corr.corr()"
      ],
      "execution_count": 29,
      "outputs": [
        {
          "output_type": "execute_result",
          "data": {
            "text/html": [
              "<div>\n",
              "<style scoped>\n",
              "    .dataframe tbody tr th:only-of-type {\n",
              "        vertical-align: middle;\n",
              "    }\n",
              "\n",
              "    .dataframe tbody tr th {\n",
              "        vertical-align: top;\n",
              "    }\n",
              "\n",
              "    .dataframe thead th {\n",
              "        text-align: right;\n",
              "    }\n",
              "</style>\n",
              "<table border=\"1\" class=\"dataframe\">\n",
              "  <thead>\n",
              "    <tr style=\"text-align: right;\">\n",
              "      <th></th>\n",
              "      <th>Age_Winzorized</th>\n",
              "      <th>Annual_Premium_Winzorized</th>\n",
              "      <th>Driving_License_1</th>\n",
              "      <th>Gender_Male</th>\n",
              "      <th>Policy_Sales_Channel</th>\n",
              "      <th>Previously_Insured_1</th>\n",
              "      <th>Region_Code</th>\n",
              "      <th>Response</th>\n",
              "      <th>Vehicle_Age_&lt; 1 Year</th>\n",
              "      <th>Vehicle_Age_&gt; 2 Years</th>\n",
              "      <th>Vehicle_Damage_Yes</th>\n",
              "      <th>id</th>\n",
              "    </tr>\n",
              "  </thead>\n",
              "  <tbody>\n",
              "    <tr>\n",
              "      <th>Age_Winzorized</th>\n",
              "      <td>1.000000</td>\n",
              "      <td>-0.000327</td>\n",
              "      <td>0.001997</td>\n",
              "      <td>-0.002523</td>\n",
              "      <td>-0.003286</td>\n",
              "      <td>0.005085</td>\n",
              "      <td>-0.002911</td>\n",
              "      <td>0.003164</td>\n",
              "      <td>0.000701</td>\n",
              "      <td>-0.004702</td>\n",
              "      <td>-0.001973</td>\n",
              "      <td>0.002147</td>\n",
              "    </tr>\n",
              "    <tr>\n",
              "      <th>Annual_Premium_Winzorized</th>\n",
              "      <td>-0.000327</td>\n",
              "      <td>1.000000</td>\n",
              "      <td>-0.035028</td>\n",
              "      <td>-0.005488</td>\n",
              "      <td>0.016278</td>\n",
              "      <td>-0.003781</td>\n",
              "      <td>0.003100</td>\n",
              "      <td>-0.023101</td>\n",
              "      <td>-0.034282</td>\n",
              "      <td>0.013191</td>\n",
              "      <td>0.025978</td>\n",
              "      <td>-0.001270</td>\n",
              "    </tr>\n",
              "    <tr>\n",
              "      <th>Driving_License_1</th>\n",
              "      <td>0.001997</td>\n",
              "      <td>-0.035028</td>\n",
              "      <td>1.000000</td>\n",
              "      <td>0.003790</td>\n",
              "      <td>-0.207801</td>\n",
              "      <td>-0.090779</td>\n",
              "      <td>0.026948</td>\n",
              "      <td>0.228769</td>\n",
              "      <td>0.495390</td>\n",
              "      <td>-0.181666</td>\n",
              "      <td>-0.239369</td>\n",
              "      <td>-0.167470</td>\n",
              "    </tr>\n",
              "    <tr>\n",
              "      <th>Gender_Male</th>\n",
              "      <td>-0.002523</td>\n",
              "      <td>-0.005488</td>\n",
              "      <td>0.003790</td>\n",
              "      <td>1.000000</td>\n",
              "      <td>-0.006753</td>\n",
              "      <td>-0.001775</td>\n",
              "      <td>-0.001058</td>\n",
              "      <td>0.005661</td>\n",
              "      <td>0.003494</td>\n",
              "      <td>0.001171</td>\n",
              "      <td>-0.003744</td>\n",
              "      <td>0.000989</td>\n",
              "    </tr>\n",
              "    <tr>\n",
              "      <th>Policy_Sales_Channel</th>\n",
              "      <td>-0.003286</td>\n",
              "      <td>0.016278</td>\n",
              "      <td>-0.207801</td>\n",
              "      <td>-0.006753</td>\n",
              "      <td>1.000000</td>\n",
              "      <td>0.080682</td>\n",
              "      <td>0.016465</td>\n",
              "      <td>-0.588736</td>\n",
              "      <td>-0.341658</td>\n",
              "      <td>0.128924</td>\n",
              "      <td>0.595324</td>\n",
              "      <td>0.033304</td>\n",
              "    </tr>\n",
              "    <tr>\n",
              "      <th>Previously_Insured_1</th>\n",
              "      <td>0.005085</td>\n",
              "      <td>-0.003781</td>\n",
              "      <td>-0.090779</td>\n",
              "      <td>-0.001775</td>\n",
              "      <td>0.080682</td>\n",
              "      <td>1.000000</td>\n",
              "      <td>-0.015677</td>\n",
              "      <td>-0.090274</td>\n",
              "      <td>-0.145536</td>\n",
              "      <td>0.049334</td>\n",
              "      <td>0.096432</td>\n",
              "      <td>0.008915</td>\n",
              "    </tr>\n",
              "    <tr>\n",
              "      <th>Region_Code</th>\n",
              "      <td>-0.002911</td>\n",
              "      <td>0.003100</td>\n",
              "      <td>0.026948</td>\n",
              "      <td>-0.001058</td>\n",
              "      <td>0.016465</td>\n",
              "      <td>-0.015677</td>\n",
              "      <td>1.000000</td>\n",
              "      <td>0.000492</td>\n",
              "      <td>0.026392</td>\n",
              "      <td>-0.000294</td>\n",
              "      <td>-0.001779</td>\n",
              "      <td>-0.007420</td>\n",
              "    </tr>\n",
              "    <tr>\n",
              "      <th>Response</th>\n",
              "      <td>0.003164</td>\n",
              "      <td>-0.023101</td>\n",
              "      <td>0.228769</td>\n",
              "      <td>0.005661</td>\n",
              "      <td>-0.588736</td>\n",
              "      <td>-0.090274</td>\n",
              "      <td>0.000492</td>\n",
              "      <td>1.000000</td>\n",
              "      <td>0.403296</td>\n",
              "      <td>-0.161272</td>\n",
              "      <td>-0.853874</td>\n",
              "      <td>-0.010180</td>\n",
              "    </tr>\n",
              "    <tr>\n",
              "      <th>Vehicle_Age_&lt; 1 Year</th>\n",
              "      <td>0.000701</td>\n",
              "      <td>-0.034282</td>\n",
              "      <td>0.495390</td>\n",
              "      <td>0.003494</td>\n",
              "      <td>-0.341658</td>\n",
              "      <td>-0.145536</td>\n",
              "      <td>0.026392</td>\n",
              "      <td>0.403296</td>\n",
              "      <td>1.000000</td>\n",
              "      <td>-0.182579</td>\n",
              "      <td>-0.415373</td>\n",
              "      <td>-0.030455</td>\n",
              "    </tr>\n",
              "    <tr>\n",
              "      <th>Vehicle_Age_&gt; 2 Years</th>\n",
              "      <td>-0.004702</td>\n",
              "      <td>0.013191</td>\n",
              "      <td>-0.181666</td>\n",
              "      <td>0.001171</td>\n",
              "      <td>0.128924</td>\n",
              "      <td>0.049334</td>\n",
              "      <td>-0.000294</td>\n",
              "      <td>-0.161272</td>\n",
              "      <td>-0.182579</td>\n",
              "      <td>1.000000</td>\n",
              "      <td>0.173856</td>\n",
              "      <td>0.101323</td>\n",
              "    </tr>\n",
              "    <tr>\n",
              "      <th>Vehicle_Damage_Yes</th>\n",
              "      <td>-0.001973</td>\n",
              "      <td>0.025978</td>\n",
              "      <td>-0.239369</td>\n",
              "      <td>-0.003744</td>\n",
              "      <td>0.595324</td>\n",
              "      <td>0.096432</td>\n",
              "      <td>-0.001779</td>\n",
              "      <td>-0.853874</td>\n",
              "      <td>-0.415373</td>\n",
              "      <td>0.173856</td>\n",
              "      <td>1.000000</td>\n",
              "      <td>0.027007</td>\n",
              "    </tr>\n",
              "    <tr>\n",
              "      <th>id</th>\n",
              "      <td>0.002147</td>\n",
              "      <td>-0.001270</td>\n",
              "      <td>-0.167470</td>\n",
              "      <td>0.000989</td>\n",
              "      <td>0.033304</td>\n",
              "      <td>0.008915</td>\n",
              "      <td>-0.007420</td>\n",
              "      <td>-0.010180</td>\n",
              "      <td>-0.030455</td>\n",
              "      <td>0.101323</td>\n",
              "      <td>0.027007</td>\n",
              "      <td>1.000000</td>\n",
              "    </tr>\n",
              "  </tbody>\n",
              "</table>\n",
              "</div>"
            ],
            "text/plain": [
              "                           Age_Winzorized  ...        id\n",
              "Age_Winzorized                   1.000000  ...  0.002147\n",
              "Annual_Premium_Winzorized       -0.000327  ... -0.001270\n",
              "Driving_License_1                0.001997  ... -0.167470\n",
              "Gender_Male                     -0.002523  ...  0.000989\n",
              "Policy_Sales_Channel            -0.003286  ...  0.033304\n",
              "Previously_Insured_1             0.005085  ...  0.008915\n",
              "Region_Code                     -0.002911  ... -0.007420\n",
              "Response                         0.003164  ... -0.010180\n",
              "Vehicle_Age_< 1 Year             0.000701  ... -0.030455\n",
              "Vehicle_Age_> 2 Years           -0.004702  ...  0.101323\n",
              "Vehicle_Damage_Yes              -0.001973  ...  0.027007\n",
              "id                               0.002147  ...  1.000000\n",
              "\n",
              "[12 rows x 12 columns]"
            ]
          },
          "metadata": {},
          "execution_count": 29
        }
      ]
    },
    {
      "cell_type": "code",
      "metadata": {
        "colab": {
          "base_uri": "https://localhost:8080/",
          "height": 0
        },
        "id": "OdRge8LPpXxC",
        "outputId": "ef714442-4c01-41a5-b5f2-a4497ea54d38"
      },
      "source": [
        "fig, ax = plt.subplots(nrows=1, ncols=1, figsize=(15, 15))\n",
        "sns.heatmap(\n",
        "    df_sin_corr.corr(),\n",
        "    annot     = True,\n",
        "    annot_kws = {\"size\": 12},\n",
        "    vmin      = -1,\n",
        "    vmax      = 1,\n",
        "    center    = 0,\n",
        "    cmap      = paletaColores,\n",
        "    square    = True,\n",
        "    ax        = ax\n",
        ").set_title(\"Nuevo Mapa de correlación\", fontsize = 16)\n",
        "ax.set_xticklabels(\n",
        "    ax.get_xticklabels(),\n",
        "    rotation = 45,\n",
        "    horizontalalignment = 'right',\n",
        ")\n",
        "\n",
        "ax.tick_params(labelsize = 14)"
      ],
      "execution_count": 30,
      "outputs": [
        {
          "output_type": "display_data",
          "data": {
            "image/png": "[encoded data removed]",
            "text/plain": [
              "<Figure size 1080x1080 with 2 Axes>"
            ]
          },
          "metadata": {}
        }
      ]
    },
    {
      "cell_type": "markdown",
      "metadata": {
        "id": "orEigA6n_2Xt"
      },
      "source": [
        "## Implementación de Modelos"
      ]
    },
    {
      "cell_type": "markdown",
      "metadata": {
        "id": "H67dhp_HAESp"
      },
      "source": [
        "En primer lugar separamos el target del dataframe. "
      ]
    },
    {
      "cell_type": "code",
      "metadata": {
        "id": "gP3k9ezUALXY"
      },
      "source": [
        "data = df_sin_corr.drop(columns = \"Response\")\n",
        "targets = df_sin_corr[\"Response\"]\n",
        "x = data\n",
        "y = targets"
      ],
      "execution_count": 31,
      "outputs": []
    },
    {
      "cell_type": "markdown",
      "metadata": {
        "id": "Ej8OZzv_Bz5Z"
      },
      "source": [
        "Luego, hacemos la Partición en train y test"
      ]
    },
    {
      "cell_type": "code",
      "metadata": {
        "id": "8OtQdUpmB_Tp"
      },
      "source": [
        "X_train, X_test, y_train, y_test = train_test_split(x, y, test_size = 0.30, random_state = 42)"
      ],
      "execution_count": 32,
      "outputs": []
    },
    {
      "cell_type": "markdown",
      "metadata": {
        "id": "o2VSJD0PECtY"
      },
      "source": [
        "### Definicion de Modelos"
      ]
    },
    {
      "cell_type": "code",
      "metadata": {
        "id": "_hXk5nc8Ll_F"
      },
      "source": [
        "from sklearn.tree import DecisionTreeClassifier\n",
        "from sklearn.linear_model import LogisticRegression"
      ],
      "execution_count": 42,
      "outputs": []
    },
    {
      "cell_type": "markdown",
      "metadata": {
        "id": "tFAzpsYIlK76"
      },
      "source": [
        "Parameters DecisionTreeClassifier:\n",
        "\n",
        "*   criterion --> 'gini' or 'entropy' --> La funcion para medir la calidad de una division.\n",
        "*   splitter --> 'best' or 'random' --> Estrategia utilizada para eleigir la division en cada nodo. Elegir la mejor. \n",
        "*   max_depth --> profunidad\n",
        "*   min_samples_leaf --> numero minimo de muestras requerido para estar en un nodo hoja. Un punto de división en cualquier profundidad sólo se considerará si deja al menos min_samples_leaf muestras de entrenamiento en cada una de las ramas izquierda y derecha. Esto puede tener el efecto de suavizar el modelo, especialmente en la regresión.\n",
        " --> Si es int, entonces considera min_samples_leaf como el número mínimo.\n",
        " --> Si es float, entonces min_samples_leaf es una fracción y ceil(min_samples_leaf * n_samples) son el número mínimo de muestras para cada nodo.  \n",
        "\n",
        "\n",
        "\n",
        "\n"
      ]
    },
    {
      "cell_type": "code",
      "metadata": {
        "id": "awrzs9zfQZT-"
      },
      "source": [
        "decisionTree = DecisionTreeClassifier()"
      ],
      "execution_count": 63,
      "outputs": []
    },
    {
      "cell_type": "code",
      "metadata": {
        "id": "4XCARGdKQb9x"
      },
      "source": [
        "logisticRegression = LogisticRegression()"
      ],
      "execution_count": 64,
      "outputs": []
    },
    {
      "cell_type": "code",
      "metadata": {
        "id": "2XzZKFOXQbx9"
      },
      "source": [
        "bagging = BaggingClassifier()"
      ],
      "execution_count": null,
      "outputs": []
    },
    {
      "cell_type": "code",
      "metadata": {
        "id": "M67OONMWQfT7"
      },
      "source": [
        "randomForest = RandomForestClassifier()"
      ],
      "execution_count": null,
      "outputs": []
    },
    {
      "cell_type": "code",
      "metadata": {
        "id": "1OF25Cfto8N6"
      },
      "source": [
        "gradientBoosting = GradientBoostingClassifier()"
      ],
      "execution_count": null,
      "outputs": []
    },
    {
      "cell_type": "markdown",
      "metadata": {
        "id": "yM5Nd8FDCJmm"
      },
      "source": [
        "### Declaración de Parametros"
      ]
    },
    {
      "cell_type": "code",
      "metadata": {
        "id": "OOd7WjTMDZx5"
      },
      "source": [
        "parametersTree = {\n",
        "    \"criterion\" : ['entropy', 'gini'],\n",
        "    \"max_depth\":[None,5,10,15,20],\n",
        "    \"min_samples_leaf\":[None,1,2,4,8],\n",
        "    \"min_samples_split\":[None,1,2,4,8],\n",
        "    \"random_state\":[42],}\n",
        "\n",
        "parametersLogisticRegression = {\n",
        "    \"penalty\" : ['l1','l2'],\n",
        "    \"C\":[0.1, 0.3, 0.5, 0.8, 1.0],\n",
        "    \"max_iter\":[10,50,80, 100],\n",
        "    \"solver\" : ['newton-cg', 'lbfgs', 'liblinear', 'sag', 'saga'],\n",
        "    \"random_state\": [42]}\n",
        "\n"
      ],
      "execution_count": 65,
      "outputs": []
    },
    {
      "cell_type": "markdown",
      "metadata": {
        "id": "nva9RRKLDGu9"
      },
      "source": [
        "### Busqueda de Mejores Parametros para cada modelo "
      ]
    },
    {
      "cell_type": "code",
      "metadata": {
        "id": "GgZIw6lgQvud"
      },
      "source": [
        "from sklearn.model_selection import GridSearchCV"
      ],
      "execution_count": 38,
      "outputs": []
    },
    {
      "cell_type": "markdown",
      "metadata": {
        "id": "AhHWAI2ckUVa"
      },
      "source": [
        "#### Decision Tree"
      ]
    },
    {
      "cell_type": "code",
      "metadata": {
        "id": "m8rYxKxbDjEd"
      },
      "source": [
        "gridTree = GridSearchCV(decisionTree,\n",
        "                  parametersTree,\n",
        "                  scoring='accuracy',\n",
        "                  cv=5,\n",
        "                  return_train_score=True,\n",
        "                  verbose=1)"
      ],
      "execution_count": 66,
      "outputs": []
    },
    {
      "cell_type": "code",
      "metadata": {
        "id": "y4T7oRMODk-B",
        "colab": {
          "base_uri": "https://localhost:8080/"
        },
        "outputId": "e38f8fbd-edd6-48ea-ab0c-a9a543465226"
      },
      "source": [
        "gridTree.fit(X_train,y_train)"
      ],
      "execution_count": 67,
      "outputs": [
        {
          "output_type": "stream",
          "name": "stdout",
          "text": [
            "Fitting 5 folds for each of 250 candidates, totalling 1250 fits\n"
          ]
        },
        {
          "output_type": "stream",
          "name": "stderr",
          "text": [
            "/usr/local/lib/python3.7/dist-packages/sklearn/model_selection/_validation.py:372: FitFailedWarning: \n",
            "650 fits failed out of a total of 1250.\n",
            "The score on these train-test partitions for these parameters will be set to nan.\n",
            "If these failures are not expected, you can try to debug them by setting error_score='raise'.\n",
            "\n",
            "Below are more details about the failures:\n",
            "--------------------------------------------------------------------------------\n",
            "250 fits failed with the following error:\n",
            "Traceback (most recent call last):\n",
            "  File \"/usr/local/lib/python3.7/dist-packages/sklearn/model_selection/_validation.py\", line 681, in _fit_and_score\n",
            "    estimator.fit(X_train, y_train, **fit_params)\n",
            "  File \"/usr/local/lib/python3.7/dist-packages/sklearn/tree/_classes.py\", line 942, in fit\n",
            "    X_idx_sorted=X_idx_sorted,\n",
            "  File \"/usr/local/lib/python3.7/dist-packages/sklearn/tree/_classes.py\", line 241, in fit\n",
            "    if not 0.0 < self.min_samples_leaf <= 0.5:\n",
            "TypeError: '<' not supported between instances of 'float' and 'NoneType'\n",
            "\n",
            "--------------------------------------------------------------------------------\n",
            "200 fits failed with the following error:\n",
            "Traceback (most recent call last):\n",
            "  File \"/usr/local/lib/python3.7/dist-packages/sklearn/model_selection/_validation.py\", line 681, in _fit_and_score\n",
            "    estimator.fit(X_train, y_train, **fit_params)\n",
            "  File \"/usr/local/lib/python3.7/dist-packages/sklearn/tree/_classes.py\", line 942, in fit\n",
            "    X_idx_sorted=X_idx_sorted,\n",
            "  File \"/usr/local/lib/python3.7/dist-packages/sklearn/tree/_classes.py\", line 258, in fit\n",
            "    if not 0.0 < self.min_samples_split <= 1.0:\n",
            "TypeError: '<' not supported between instances of 'float' and 'NoneType'\n",
            "\n",
            "--------------------------------------------------------------------------------\n",
            "200 fits failed with the following error:\n",
            "Traceback (most recent call last):\n",
            "  File \"/usr/local/lib/python3.7/dist-packages/sklearn/model_selection/_validation.py\", line 681, in _fit_and_score\n",
            "    estimator.fit(X_train, y_train, **fit_params)\n",
            "  File \"/usr/local/lib/python3.7/dist-packages/sklearn/tree/_classes.py\", line 942, in fit\n",
            "    X_idx_sorted=X_idx_sorted,\n",
            "  File \"/usr/local/lib/python3.7/dist-packages/sklearn/tree/_classes.py\", line 254, in fit\n",
            "    % self.min_samples_split\n",
            "ValueError: min_samples_split must be an integer greater than 1 or a float in (0.0, 1.0]; got the integer 1\n",
            "\n",
            "  warnings.warn(some_fits_failed_message, FitFailedWarning)\n",
            "/usr/local/lib/python3.7/dist-packages/sklearn/model_selection/_search.py:972: UserWarning: One or more of the test scores are non-finite: [       nan        nan        nan        nan        nan        nan\n",
            "        nan 0.91214647 0.91194867 0.91470264        nan        nan\n",
            " 0.91097487 0.91097487 0.9163307         nan        nan 0.91897818\n",
            " 0.91897818 0.91897818        nan        nan 0.9351825  0.9351825\n",
            " 0.9351825         nan        nan        nan        nan        nan\n",
            "        nan        nan 0.95050438 0.95055003 0.95056524        nan\n",
            "        nan 0.95061089 0.95061089 0.95059567        nan        nan\n",
            " 0.95048917 0.95048917 0.95048917        nan        nan 0.95065654\n",
            " 0.95065654 0.95065654        nan        nan        nan        nan\n",
            "        nan        nan        nan 0.9485416  0.94855681 0.94866333\n",
            "        nan        nan 0.94875462 0.94875462 0.94881549        nan\n",
            "        nan 0.94854162 0.94854162 0.94854162        nan        nan\n",
            " 0.94959147 0.94959147 0.94959147        nan        nan        nan\n",
            "        nan        nan        nan        nan 0.94111653 0.94135998\n",
            " 0.94143606        nan        nan 0.94116218 0.94116218 0.94131433\n",
            "        nan        nan 0.94155774 0.94155774 0.94155774        nan\n",
            "        nan 0.94496597 0.94496597 0.94496597        nan        nan\n",
            "        nan        nan        nan        nan        nan 0.93159174\n",
            " 0.93192647 0.93276332        nan        nan 0.93054185 0.93054185\n",
            " 0.93251987        nan        nan 0.93337188 0.93337188 0.93337188\n",
            "        nan        nan 0.9407209  0.9407209  0.9407209         nan\n",
            "        nan        nan        nan        nan        nan        nan\n",
            " 0.91199427 0.91217685 0.91675669        nan        nan 0.91292243\n",
            " 0.91292243 0.91861296        nan        nan 0.92256896 0.92256896\n",
            " 0.92256896        nan        nan 0.93719092 0.93719092 0.93719092\n",
            "        nan        nan        nan        nan        nan        nan\n",
            "        nan 0.95041309 0.95044352 0.9504283         nan        nan\n",
            " 0.95048916 0.95048916 0.95047395        nan        nan 0.9506261\n",
            " 0.9506261  0.9506261         nan        nan 0.95064132 0.95064132\n",
            " 0.95064132        nan        nan        nan        nan        nan\n",
            "        nan        nan 0.94761346 0.94756783 0.94778084        nan\n",
            "        nan 0.94758304 0.94758304 0.94790256        nan        nan\n",
            " 0.94817644 0.94817644 0.94817644        nan        nan 0.94887634\n",
            " 0.94887634 0.94887634        nan        nan        nan        nan\n",
            "        nan        nan        nan 0.93985363 0.94047745 0.94090347\n",
            "        nan        nan 0.94072091 0.94072091 0.94114693        nan\n",
            "        nan 0.94151213 0.94151213 0.94151213        nan        nan\n",
            " 0.94569631 0.94569631 0.94569631        nan        nan        nan\n",
            "        nan        nan        nan        nan 0.92940066 0.92943111\n",
            " 0.93154602        nan        nan 0.93078528 0.93078528 0.93271761\n",
            "        nan        nan 0.93370667 0.93370667 0.93370667        nan\n",
            "        nan 0.94207508 0.94207508 0.94207508]\n",
            "  category=UserWarning,\n",
            "/usr/local/lib/python3.7/dist-packages/sklearn/model_selection/_search.py:972: UserWarning: One or more of the train scores are non-finite: [       nan        nan        nan        nan        nan        nan\n",
            "        nan 1.         0.99282975 0.98103784        nan        nan\n",
            " 0.98333536 0.98333536 0.97410344        nan        nan 0.96656802\n",
            " 0.96656802 0.96656802        nan        nan 0.95628623 0.95628623\n",
            " 0.95628623        nan        nan        nan        nan        nan\n",
            "        nan        nan 0.95080489 0.95078587 0.95072882        nan\n",
            "        nan 0.95076685 0.95076685 0.95070599        nan        nan\n",
            " 0.95069078 0.95069078 0.95069078        nan        nan 0.95065654\n",
            " 0.95065654 0.95065654        nan        nan        nan        nan\n",
            "        nan        nan        nan 0.95390503 0.95369201 0.95332304\n",
            "        nan        nan 0.95325837 0.95325837 0.95292744        nan\n",
            "        nan 0.95257748 0.95257748 0.95257748        nan        nan\n",
            " 0.95214004 0.95214004 0.95214004        nan        nan        nan\n",
            "        nan        nan        nan        nan 0.96258159 0.96151271\n",
            " 0.95943201        nan        nan 0.95987706 0.95987706 0.95810447\n",
            "        nan        nan 0.95663999 0.95663999 0.95663999        nan\n",
            "        nan 0.95376809 0.95376809 0.95376809        nan        nan\n",
            "        nan        nan        nan        nan        nan 0.97439253\n",
            " 0.97177549 0.96679245        nan        nan 0.96826834 0.96826834\n",
            " 0.96409933        nan        nan 0.96062642 0.96062642 0.96062642\n",
            "        nan        nan 0.95499292 0.95499292 0.95499292        nan\n",
            "        nan        nan        nan        nan        nan        nan\n",
            " 1.         0.99012141 0.97826484        nan        nan 0.97949348\n",
            " 0.97949348 0.97036426        nan        nan 0.96462806 0.96462806\n",
            " 0.96462806        nan        nan 0.95558632 0.95558632 0.95558632\n",
            "        nan        nan        nan        nan        nan        nan\n",
            "        nan 0.95083152 0.95080109 0.95075164        nan        nan\n",
            " 0.95078587 0.95078587 0.95072121        nan        nan 0.95067937\n",
            " 0.95067937 0.95067937        nan        nan 0.95066415 0.95066415\n",
            " 0.95066415        nan        nan        nan        nan        nan\n",
            "        nan        nan 0.95454787 0.95423596 0.95371864        nan\n",
            "        nan 0.9537795  0.9537795  0.95331543        nan        nan\n",
            " 0.95292363 0.95292363 0.95292363        nan        nan 0.95216286\n",
            " 0.95216286 0.95216286        nan        nan        nan        nan\n",
            "        nan        nan        nan 0.96419062 0.96238379 0.95995694\n",
            "        nan        nan 0.96053132 0.96053132 0.95821478        nan\n",
            "        nan 0.95678073 0.95678073 0.95678073        nan        nan\n",
            " 0.95354366 0.95354366 0.95354366        nan        nan        nan\n",
            "        nan        nan        nan        nan 0.97726443 0.97272264\n",
            " 0.96727934        nan        nan 0.96808195 0.96808195 0.96342985\n",
            "        nan        nan 0.96019278 0.96019278 0.96019278        nan\n",
            "        nan 0.9545745  0.9545745  0.9545745 ]\n",
            "  category=UserWarning,\n"
          ]
        },
        {
          "output_type": "execute_result",
          "data": {
            "text/plain": [
              "GridSearchCV(cv=5, estimator=DecisionTreeClassifier(),\n",
              "             param_grid={'criterion': ['entropy', 'gini'],\n",
              "                         'max_depth': [None, 5, 10, 15, 20],\n",
              "                         'min_samples_leaf': [None, 1, 2, 4, 8],\n",
              "                         'min_samples_split': [None, 1, 2, 4, 8],\n",
              "                         'random_state': [42]},\n",
              "             return_train_score=True, scoring='accuracy', verbose=1)"
            ]
          },
          "metadata": {},
          "execution_count": 67
        }
      ]
    },
    {
      "cell_type": "code",
      "metadata": {
        "id": "sQ47BedClH9l",
        "outputId": "231232e0-a0cd-4bc6-9b7d-49d69005aa4a",
        "colab": {
          "base_uri": "https://localhost:8080/"
        }
      },
      "source": [
        "gridTree.best_params_"
      ],
      "execution_count": 68,
      "outputs": [
        {
          "output_type": "execute_result",
          "data": {
            "text/plain": [
              "{'criterion': 'entropy',\n",
              " 'max_depth': 5,\n",
              " 'min_samples_leaf': 8,\n",
              " 'min_samples_split': 2,\n",
              " 'random_state': 42}"
            ]
          },
          "metadata": {},
          "execution_count": 68
        }
      ]
    },
    {
      "cell_type": "markdown",
      "metadata": {
        "id": "bH5IhzfzkRst"
      },
      "source": [
        "#### Logistic Regression"
      ]
    },
    {
      "cell_type": "code",
      "metadata": {
        "id": "9VYjc67-klKv"
      },
      "source": [
        "gridLogisticRegression = GridSearchCV(logisticRegression,\n",
        "                  parametersLogisticRegression,\n",
        "                  scoring='accuracy',\n",
        "                  cv=5,\n",
        "                  return_train_score=True,\n",
        "                  verbose=1)"
      ],
      "execution_count": 69,
      "outputs": []
    },
    {
      "cell_type": "code",
      "metadata": {
        "id": "KBLTBbcAk7es",
        "outputId": "36d9b942-ee08-4993-a6ec-8cc167549506",
        "colab": {
          "base_uri": "https://localhost:8080/"
        }
      },
      "source": [
        "gridLogisticRegression.fit(X_train,y_train)"
      ],
      "execution_count": 70,
      "outputs": [
        {
          "output_type": "stream",
          "name": "stdout",
          "text": [
            "Fitting 5 folds for each of 200 candidates, totalling 1000 fits\n"
          ]
        },
        {
          "output_type": "stream",
          "name": "stderr",
          "text": [
            "/usr/local/lib/python3.7/dist-packages/sklearn/svm/_base.py:1208: ConvergenceWarning: Liblinear failed to converge, increase the number of iterations.\n",
            "  ConvergenceWarning,\n",
            "/usr/local/lib/python3.7/dist-packages/sklearn/svm/_base.py:1208: ConvergenceWarning: Liblinear failed to converge, increase the number of iterations.\n",
            "  ConvergenceWarning,\n",
            "/usr/local/lib/python3.7/dist-packages/sklearn/svm/_base.py:1208: ConvergenceWarning: Liblinear failed to converge, increase the number of iterations.\n",
            "  ConvergenceWarning,\n",
            "/usr/local/lib/python3.7/dist-packages/sklearn/svm/_base.py:1208: ConvergenceWarning: Liblinear failed to converge, increase the number of iterations.\n",
            "  ConvergenceWarning,\n",
            "/usr/local/lib/python3.7/dist-packages/sklearn/svm/_base.py:1208: ConvergenceWarning: Liblinear failed to converge, increase the number of iterations.\n",
            "  ConvergenceWarning,\n",
            "/usr/local/lib/python3.7/dist-packages/sklearn/linear_model/_sag.py:354: ConvergenceWarning: The max_iter was reached which means the coef_ did not converge\n",
            "  ConvergenceWarning,\n",
            "/usr/local/lib/python3.7/dist-packages/sklearn/linear_model/_sag.py:354: ConvergenceWarning: The max_iter was reached which means the coef_ did not converge\n",
            "  ConvergenceWarning,\n",
            "/usr/local/lib/python3.7/dist-packages/sklearn/linear_model/_sag.py:354: ConvergenceWarning: The max_iter was reached which means the coef_ did not converge\n",
            "  ConvergenceWarning,\n",
            "/usr/local/lib/python3.7/dist-packages/sklearn/linear_model/_sag.py:354: ConvergenceWarning: The max_iter was reached which means the coef_ did not converge\n",
            "  ConvergenceWarning,\n",
            "/usr/local/lib/python3.7/dist-packages/sklearn/linear_model/_sag.py:354: ConvergenceWarning: The max_iter was reached which means the coef_ did not converge\n",
            "  ConvergenceWarning,\n",
            "/usr/local/lib/python3.7/dist-packages/sklearn/utils/optimize.py:212: ConvergenceWarning: newton-cg failed to converge. Increase the number of iterations.\n",
            "  ConvergenceWarning,\n",
            "/usr/local/lib/python3.7/dist-packages/sklearn/utils/optimize.py:212: ConvergenceWarning: newton-cg failed to converge. Increase the number of iterations.\n",
            "  ConvergenceWarning,\n",
            "/usr/local/lib/python3.7/dist-packages/sklearn/utils/optimize.py:212: ConvergenceWarning: newton-cg failed to converge. Increase the number of iterations.\n",
            "  ConvergenceWarning,\n",
            "/usr/local/lib/python3.7/dist-packages/sklearn/utils/optimize.py:212: ConvergenceWarning: newton-cg failed to converge. Increase the number of iterations.\n",
            "  ConvergenceWarning,\n",
            "/usr/local/lib/python3.7/dist-packages/sklearn/utils/optimize.py:212: ConvergenceWarning: newton-cg failed to converge. Increase the number of iterations.\n",
            "  ConvergenceWarning,\n",
            "/usr/local/lib/python3.7/dist-packages/sklearn/linear_model/_logistic.py:818: ConvergenceWarning: lbfgs failed to converge (status=1):\n",
            "STOP: TOTAL NO. of ITERATIONS REACHED LIMIT.\n",
            "\n",
            "Increase the number of iterations (max_iter) or scale the data as shown in:\n",
            "    https://scikit-learn.org/stable/modules/preprocessing.html\n",
            "Please also refer to the documentation for alternative solver options:\n",
            "    https://scikit-learn.org/stable/modules/linear_model.html#logistic-regression\n",
            "  extra_warning_msg=_LOGISTIC_SOLVER_CONVERGENCE_MSG,\n",
            "/usr/local/lib/python3.7/dist-packages/sklearn/linear_model/_logistic.py:818: ConvergenceWarning: lbfgs failed to converge (status=1):\n",
            "STOP: TOTAL NO. of ITERATIONS REACHED LIMIT.\n",
            "\n",
            "Increase the number of iterations (max_iter) or scale the data as shown in:\n",
            "    https://scikit-learn.org/stable/modules/preprocessing.html\n",
            "Please also refer to the documentation for alternative solver options:\n",
            "    https://scikit-learn.org/stable/modules/linear_model.html#logistic-regression\n",
            "  extra_warning_msg=_LOGISTIC_SOLVER_CONVERGENCE_MSG,\n",
            "/usr/local/lib/python3.7/dist-packages/sklearn/linear_model/_logistic.py:818: ConvergenceWarning: lbfgs failed to converge (status=1):\n",
            "STOP: TOTAL NO. of ITERATIONS REACHED LIMIT.\n",
            "\n",
            "Increase the number of iterations (max_iter) or scale the data as shown in:\n",
            "    https://scikit-learn.org/stable/modules/preprocessing.html\n",
            "Please also refer to the documentation for alternative solver options:\n",
            "    https://scikit-learn.org/stable/modules/linear_model.html#logistic-regression\n",
            "  extra_warning_msg=_LOGISTIC_SOLVER_CONVERGENCE_MSG,\n",
            "/usr/local/lib/python3.7/dist-packages/sklearn/linear_model/_logistic.py:818: ConvergenceWarning: lbfgs failed to converge (status=1):\n",
            "STOP: TOTAL NO. of ITERATIONS REACHED LIMIT.\n",
            "\n",
            "Increase the number of iterations (max_iter) or scale the data as shown in:\n",
            "    https://scikit-learn.org/stable/modules/preprocessing.html\n",
            "Please also refer to the documentation for alternative solver options:\n",
            "    https://scikit-learn.org/stable/modules/linear_model.html#logistic-regression\n",
            "  extra_warning_msg=_LOGISTIC_SOLVER_CONVERGENCE_MSG,\n",
            "/usr/local/lib/python3.7/dist-packages/sklearn/linear_model/_logistic.py:818: ConvergenceWarning: lbfgs failed to converge (status=1):\n",
            "STOP: TOTAL NO. of ITERATIONS REACHED LIMIT.\n",
            "\n",
            "Increase the number of iterations (max_iter) or scale the data as shown in:\n",
            "    https://scikit-learn.org/stable/modules/preprocessing.html\n",
            "Please also refer to the documentation for alternative solver options:\n",
            "    https://scikit-learn.org/stable/modules/linear_model.html#logistic-regression\n",
            "  extra_warning_msg=_LOGISTIC_SOLVER_CONVERGENCE_MSG,\n",
            "/usr/local/lib/python3.7/dist-packages/sklearn/linear_model/_sag.py:354: ConvergenceWarning: The max_iter was reached which means the coef_ did not converge\n",
            "  ConvergenceWarning,\n",
            "/usr/local/lib/python3.7/dist-packages/sklearn/linear_model/_sag.py:354: ConvergenceWarning: The max_iter was reached which means the coef_ did not converge\n",
            "  ConvergenceWarning,\n",
            "/usr/local/lib/python3.7/dist-packages/sklearn/linear_model/_sag.py:354: ConvergenceWarning: The max_iter was reached which means the coef_ did not converge\n",
            "  ConvergenceWarning,\n",
            "/usr/local/lib/python3.7/dist-packages/sklearn/linear_model/_sag.py:354: ConvergenceWarning: The max_iter was reached which means the coef_ did not converge\n",
            "  ConvergenceWarning,\n",
            "/usr/local/lib/python3.7/dist-packages/sklearn/linear_model/_sag.py:354: ConvergenceWarning: The max_iter was reached which means the coef_ did not converge\n",
            "  ConvergenceWarning,\n",
            "/usr/local/lib/python3.7/dist-packages/sklearn/linear_model/_sag.py:354: ConvergenceWarning: The max_iter was reached which means the coef_ did not converge\n",
            "  ConvergenceWarning,\n",
            "/usr/local/lib/python3.7/dist-packages/sklearn/linear_model/_sag.py:354: ConvergenceWarning: The max_iter was reached which means the coef_ did not converge\n",
            "  ConvergenceWarning,\n",
            "/usr/local/lib/python3.7/dist-packages/sklearn/linear_model/_sag.py:354: ConvergenceWarning: The max_iter was reached which means the coef_ did not converge\n",
            "  ConvergenceWarning,\n",
            "/usr/local/lib/python3.7/dist-packages/sklearn/linear_model/_sag.py:354: ConvergenceWarning: The max_iter was reached which means the coef_ did not converge\n",
            "  ConvergenceWarning,\n",
            "/usr/local/lib/python3.7/dist-packages/sklearn/linear_model/_sag.py:354: ConvergenceWarning: The max_iter was reached which means the coef_ did not converge\n",
            "  ConvergenceWarning,\n",
            "/usr/local/lib/python3.7/dist-packages/sklearn/svm/_base.py:1208: ConvergenceWarning: Liblinear failed to converge, increase the number of iterations.\n",
            "  ConvergenceWarning,\n",
            "/usr/local/lib/python3.7/dist-packages/sklearn/svm/_base.py:1208: ConvergenceWarning: Liblinear failed to converge, increase the number of iterations.\n",
            "  ConvergenceWarning,\n",
            "/usr/local/lib/python3.7/dist-packages/sklearn/svm/_base.py:1208: ConvergenceWarning: Liblinear failed to converge, increase the number of iterations.\n",
            "  ConvergenceWarning,\n",
            "/usr/local/lib/python3.7/dist-packages/sklearn/svm/_base.py:1208: ConvergenceWarning: Liblinear failed to converge, increase the number of iterations.\n",
            "  ConvergenceWarning,\n",
            "/usr/local/lib/python3.7/dist-packages/sklearn/svm/_base.py:1208: ConvergenceWarning: Liblinear failed to converge, increase the number of iterations.\n",
            "  ConvergenceWarning,\n",
            "/usr/local/lib/python3.7/dist-packages/sklearn/linear_model/_sag.py:354: ConvergenceWarning: The max_iter was reached which means the coef_ did not converge\n",
            "  ConvergenceWarning,\n",
            "/usr/local/lib/python3.7/dist-packages/sklearn/linear_model/_sag.py:354: ConvergenceWarning: The max_iter was reached which means the coef_ did not converge\n",
            "  ConvergenceWarning,\n",
            "/usr/local/lib/python3.7/dist-packages/sklearn/linear_model/_sag.py:354: ConvergenceWarning: The max_iter was reached which means the coef_ did not converge\n",
            "  ConvergenceWarning,\n",
            "/usr/local/lib/python3.7/dist-packages/sklearn/linear_model/_sag.py:354: ConvergenceWarning: The max_iter was reached which means the coef_ did not converge\n",
            "  ConvergenceWarning,\n",
            "/usr/local/lib/python3.7/dist-packages/sklearn/linear_model/_sag.py:354: ConvergenceWarning: The max_iter was reached which means the coef_ did not converge\n",
            "  ConvergenceWarning,\n",
            "/usr/local/lib/python3.7/dist-packages/sklearn/utils/optimize.py:212: ConvergenceWarning: newton-cg failed to converge. Increase the number of iterations.\n",
            "  ConvergenceWarning,\n",
            "/usr/local/lib/python3.7/dist-packages/sklearn/utils/optimize.py:212: ConvergenceWarning: newton-cg failed to converge. Increase the number of iterations.\n",
            "  ConvergenceWarning,\n",
            "/usr/local/lib/python3.7/dist-packages/sklearn/utils/optimize.py:212: ConvergenceWarning: newton-cg failed to converge. Increase the number of iterations.\n",
            "  ConvergenceWarning,\n",
            "/usr/local/lib/python3.7/dist-packages/sklearn/utils/optimize.py:212: ConvergenceWarning: newton-cg failed to converge. Increase the number of iterations.\n",
            "  ConvergenceWarning,\n",
            "/usr/local/lib/python3.7/dist-packages/sklearn/utils/optimize.py:212: ConvergenceWarning: newton-cg failed to converge. Increase the number of iterations.\n",
            "  ConvergenceWarning,\n",
            "/usr/local/lib/python3.7/dist-packages/sklearn/linear_model/_logistic.py:818: ConvergenceWarning: lbfgs failed to converge (status=1):\n",
            "STOP: TOTAL NO. of ITERATIONS REACHED LIMIT.\n",
            "\n",
            "Increase the number of iterations (max_iter) or scale the data as shown in:\n",
            "    https://scikit-learn.org/stable/modules/preprocessing.html\n",
            "Please also refer to the documentation for alternative solver options:\n",
            "    https://scikit-learn.org/stable/modules/linear_model.html#logistic-regression\n",
            "  extra_warning_msg=_LOGISTIC_SOLVER_CONVERGENCE_MSG,\n",
            "/usr/local/lib/python3.7/dist-packages/sklearn/linear_model/_logistic.py:818: ConvergenceWarning: lbfgs failed to converge (status=1):\n",
            "STOP: TOTAL NO. of ITERATIONS REACHED LIMIT.\n",
            "\n",
            "Increase the number of iterations (max_iter) or scale the data as shown in:\n",
            "    https://scikit-learn.org/stable/modules/preprocessing.html\n",
            "Please also refer to the documentation for alternative solver options:\n",
            "    https://scikit-learn.org/stable/modules/linear_model.html#logistic-regression\n",
            "  extra_warning_msg=_LOGISTIC_SOLVER_CONVERGENCE_MSG,\n",
            "/usr/local/lib/python3.7/dist-packages/sklearn/linear_model/_logistic.py:818: ConvergenceWarning: lbfgs failed to converge (status=1):\n",
            "STOP: TOTAL NO. of ITERATIONS REACHED LIMIT.\n",
            "\n",
            "Increase the number of iterations (max_iter) or scale the data as shown in:\n",
            "    https://scikit-learn.org/stable/modules/preprocessing.html\n",
            "Please also refer to the documentation for alternative solver options:\n",
            "    https://scikit-learn.org/stable/modules/linear_model.html#logistic-regression\n",
            "  extra_warning_msg=_LOGISTIC_SOLVER_CONVERGENCE_MSG,\n",
            "/usr/local/lib/python3.7/dist-packages/sklearn/linear_model/_logistic.py:818: ConvergenceWarning: lbfgs failed to converge (status=1):\n",
            "STOP: TOTAL NO. of ITERATIONS REACHED LIMIT.\n",
            "\n",
            "Increase the number of iterations (max_iter) or scale the data as shown in:\n",
            "    https://scikit-learn.org/stable/modules/preprocessing.html\n",
            "Please also refer to the documentation for alternative solver options:\n",
            "    https://scikit-learn.org/stable/modules/linear_model.html#logistic-regression\n",
            "  extra_warning_msg=_LOGISTIC_SOLVER_CONVERGENCE_MSG,\n",
            "/usr/local/lib/python3.7/dist-packages/sklearn/linear_model/_logistic.py:818: ConvergenceWarning: lbfgs failed to converge (status=1):\n",
            "STOP: TOTAL NO. of ITERATIONS REACHED LIMIT.\n",
            "\n",
            "Increase the number of iterations (max_iter) or scale the data as shown in:\n",
            "    https://scikit-learn.org/stable/modules/preprocessing.html\n",
            "Please also refer to the documentation for alternative solver options:\n",
            "    https://scikit-learn.org/stable/modules/linear_model.html#logistic-regression\n",
            "  extra_warning_msg=_LOGISTIC_SOLVER_CONVERGENCE_MSG,\n",
            "/usr/local/lib/python3.7/dist-packages/sklearn/linear_model/_sag.py:354: ConvergenceWarning: The max_iter was reached which means the coef_ did not converge\n",
            "  ConvergenceWarning,\n",
            "/usr/local/lib/python3.7/dist-packages/sklearn/linear_model/_sag.py:354: ConvergenceWarning: The max_iter was reached which means the coef_ did not converge\n",
            "  ConvergenceWarning,\n",
            "/usr/local/lib/python3.7/dist-packages/sklearn/linear_model/_sag.py:354: ConvergenceWarning: The max_iter was reached which means the coef_ did not converge\n",
            "  ConvergenceWarning,\n",
            "/usr/local/lib/python3.7/dist-packages/sklearn/linear_model/_sag.py:354: ConvergenceWarning: The max_iter was reached which means the coef_ did not converge\n",
            "  ConvergenceWarning,\n",
            "/usr/local/lib/python3.7/dist-packages/sklearn/linear_model/_sag.py:354: ConvergenceWarning: The max_iter was reached which means the coef_ did not converge\n",
            "  ConvergenceWarning,\n",
            "/usr/local/lib/python3.7/dist-packages/sklearn/linear_model/_sag.py:354: ConvergenceWarning: The max_iter was reached which means the coef_ did not converge\n",
            "  ConvergenceWarning,\n",
            "/usr/local/lib/python3.7/dist-packages/sklearn/linear_model/_sag.py:354: ConvergenceWarning: The max_iter was reached which means the coef_ did not converge\n",
            "  ConvergenceWarning,\n",
            "/usr/local/lib/python3.7/dist-packages/sklearn/linear_model/_sag.py:354: ConvergenceWarning: The max_iter was reached which means the coef_ did not converge\n",
            "  ConvergenceWarning,\n",
            "/usr/local/lib/python3.7/dist-packages/sklearn/linear_model/_sag.py:354: ConvergenceWarning: The max_iter was reached which means the coef_ did not converge\n",
            "  ConvergenceWarning,\n",
            "/usr/local/lib/python3.7/dist-packages/sklearn/linear_model/_sag.py:354: ConvergenceWarning: The max_iter was reached which means the coef_ did not converge\n",
            "  ConvergenceWarning,\n",
            "/usr/local/lib/python3.7/dist-packages/sklearn/svm/_base.py:1208: ConvergenceWarning: Liblinear failed to converge, increase the number of iterations.\n",
            "  ConvergenceWarning,\n",
            "/usr/local/lib/python3.7/dist-packages/sklearn/svm/_base.py:1208: ConvergenceWarning: Liblinear failed to converge, increase the number of iterations.\n",
            "  ConvergenceWarning,\n",
            "/usr/local/lib/python3.7/dist-packages/sklearn/svm/_base.py:1208: ConvergenceWarning: Liblinear failed to converge, increase the number of iterations.\n",
            "  ConvergenceWarning,\n",
            "/usr/local/lib/python3.7/dist-packages/sklearn/svm/_base.py:1208: ConvergenceWarning: Liblinear failed to converge, increase the number of iterations.\n",
            "  ConvergenceWarning,\n",
            "/usr/local/lib/python3.7/dist-packages/sklearn/svm/_base.py:1208: ConvergenceWarning: Liblinear failed to converge, increase the number of iterations.\n",
            "  ConvergenceWarning,\n",
            "/usr/local/lib/python3.7/dist-packages/sklearn/linear_model/_sag.py:354: ConvergenceWarning: The max_iter was reached which means the coef_ did not converge\n",
            "  ConvergenceWarning,\n",
            "/usr/local/lib/python3.7/dist-packages/sklearn/linear_model/_sag.py:354: ConvergenceWarning: The max_iter was reached which means the coef_ did not converge\n",
            "  ConvergenceWarning,\n",
            "/usr/local/lib/python3.7/dist-packages/sklearn/linear_model/_sag.py:354: ConvergenceWarning: The max_iter was reached which means the coef_ did not converge\n",
            "  ConvergenceWarning,\n",
            "/usr/local/lib/python3.7/dist-packages/sklearn/linear_model/_sag.py:354: ConvergenceWarning: The max_iter was reached which means the coef_ did not converge\n",
            "  ConvergenceWarning,\n",
            "/usr/local/lib/python3.7/dist-packages/sklearn/linear_model/_sag.py:354: ConvergenceWarning: The max_iter was reached which means the coef_ did not converge\n",
            "  ConvergenceWarning,\n",
            "/usr/local/lib/python3.7/dist-packages/sklearn/utils/optimize.py:212: ConvergenceWarning: newton-cg failed to converge. Increase the number of iterations.\n",
            "  ConvergenceWarning,\n",
            "/usr/local/lib/python3.7/dist-packages/sklearn/utils/optimize.py:212: ConvergenceWarning: newton-cg failed to converge. Increase the number of iterations.\n",
            "  ConvergenceWarning,\n",
            "/usr/local/lib/python3.7/dist-packages/sklearn/utils/optimize.py:212: ConvergenceWarning: newton-cg failed to converge. Increase the number of iterations.\n",
            "  ConvergenceWarning,\n",
            "/usr/local/lib/python3.7/dist-packages/sklearn/utils/optimize.py:212: ConvergenceWarning: newton-cg failed to converge. Increase the number of iterations.\n",
            "  ConvergenceWarning,\n",
            "/usr/local/lib/python3.7/dist-packages/sklearn/utils/optimize.py:212: ConvergenceWarning: newton-cg failed to converge. Increase the number of iterations.\n",
            "  ConvergenceWarning,\n",
            "/usr/local/lib/python3.7/dist-packages/sklearn/linear_model/_logistic.py:818: ConvergenceWarning: lbfgs failed to converge (status=1):\n",
            "STOP: TOTAL NO. of ITERATIONS REACHED LIMIT.\n",
            "\n",
            "Increase the number of iterations (max_iter) or scale the data as shown in:\n",
            "    https://scikit-learn.org/stable/modules/preprocessing.html\n",
            "Please also refer to the documentation for alternative solver options:\n",
            "    https://scikit-learn.org/stable/modules/linear_model.html#logistic-regression\n",
            "  extra_warning_msg=_LOGISTIC_SOLVER_CONVERGENCE_MSG,\n",
            "/usr/local/lib/python3.7/dist-packages/sklearn/linear_model/_logistic.py:818: ConvergenceWarning: lbfgs failed to converge (status=1):\n",
            "STOP: TOTAL NO. of ITERATIONS REACHED LIMIT.\n",
            "\n",
            "Increase the number of iterations (max_iter) or scale the data as shown in:\n",
            "    https://scikit-learn.org/stable/modules/preprocessing.html\n",
            "Please also refer to the documentation for alternative solver options:\n",
            "    https://scikit-learn.org/stable/modules/linear_model.html#logistic-regression\n",
            "  extra_warning_msg=_LOGISTIC_SOLVER_CONVERGENCE_MSG,\n",
            "/usr/local/lib/python3.7/dist-packages/sklearn/linear_model/_logistic.py:818: ConvergenceWarning: lbfgs failed to converge (status=1):\n",
            "STOP: TOTAL NO. of ITERATIONS REACHED LIMIT.\n",
            "\n",
            "Increase the number of iterations (max_iter) or scale the data as shown in:\n",
            "    https://scikit-learn.org/stable/modules/preprocessing.html\n",
            "Please also refer to the documentation for alternative solver options:\n",
            "    https://scikit-learn.org/stable/modules/linear_model.html#logistic-regression\n",
            "  extra_warning_msg=_LOGISTIC_SOLVER_CONVERGENCE_MSG,\n",
            "/usr/local/lib/python3.7/dist-packages/sklearn/linear_model/_logistic.py:818: ConvergenceWarning: lbfgs failed to converge (status=1):\n",
            "STOP: TOTAL NO. of ITERATIONS REACHED LIMIT.\n",
            "\n",
            "Increase the number of iterations (max_iter) or scale the data as shown in:\n",
            "    https://scikit-learn.org/stable/modules/preprocessing.html\n",
            "Please also refer to the documentation for alternative solver options:\n",
            "    https://scikit-learn.org/stable/modules/linear_model.html#logistic-regression\n",
            "  extra_warning_msg=_LOGISTIC_SOLVER_CONVERGENCE_MSG,\n",
            "/usr/local/lib/python3.7/dist-packages/sklearn/linear_model/_logistic.py:818: ConvergenceWarning: lbfgs failed to converge (status=1):\n",
            "STOP: TOTAL NO. of ITERATIONS REACHED LIMIT.\n",
            "\n",
            "Increase the number of iterations (max_iter) or scale the data as shown in:\n",
            "    https://scikit-learn.org/stable/modules/preprocessing.html\n",
            "Please also refer to the documentation for alternative solver options:\n",
            "    https://scikit-learn.org/stable/modules/linear_model.html#logistic-regression\n",
            "  extra_warning_msg=_LOGISTIC_SOLVER_CONVERGENCE_MSG,\n",
            "/usr/local/lib/python3.7/dist-packages/sklearn/linear_model/_sag.py:354: ConvergenceWarning: The max_iter was reached which means the coef_ did not converge\n",
            "  ConvergenceWarning,\n",
            "/usr/local/lib/python3.7/dist-packages/sklearn/linear_model/_sag.py:354: ConvergenceWarning: The max_iter was reached which means the coef_ did not converge\n",
            "  ConvergenceWarning,\n",
            "/usr/local/lib/python3.7/dist-packages/sklearn/linear_model/_sag.py:354: ConvergenceWarning: The max_iter was reached which means the coef_ did not converge\n",
            "  ConvergenceWarning,\n",
            "/usr/local/lib/python3.7/dist-packages/sklearn/linear_model/_sag.py:354: ConvergenceWarning: The max_iter was reached which means the coef_ did not converge\n",
            "  ConvergenceWarning,\n",
            "/usr/local/lib/python3.7/dist-packages/sklearn/linear_model/_sag.py:354: ConvergenceWarning: The max_iter was reached which means the coef_ did not converge\n",
            "  ConvergenceWarning,\n",
            "/usr/local/lib/python3.7/dist-packages/sklearn/linear_model/_sag.py:354: ConvergenceWarning: The max_iter was reached which means the coef_ did not converge\n",
            "  ConvergenceWarning,\n",
            "/usr/local/lib/python3.7/dist-packages/sklearn/linear_model/_sag.py:354: ConvergenceWarning: The max_iter was reached which means the coef_ did not converge\n",
            "  ConvergenceWarning,\n",
            "/usr/local/lib/python3.7/dist-packages/sklearn/linear_model/_sag.py:354: ConvergenceWarning: The max_iter was reached which means the coef_ did not converge\n",
            "  ConvergenceWarning,\n",
            "/usr/local/lib/python3.7/dist-packages/sklearn/linear_model/_sag.py:354: ConvergenceWarning: The max_iter was reached which means the coef_ did not converge\n",
            "  ConvergenceWarning,\n",
            "/usr/local/lib/python3.7/dist-packages/sklearn/linear_model/_sag.py:354: ConvergenceWarning: The max_iter was reached which means the coef_ did not converge\n",
            "  ConvergenceWarning,\n",
            "/usr/local/lib/python3.7/dist-packages/sklearn/linear_model/_logistic.py:818: ConvergenceWarning: lbfgs failed to converge (status=1):\n",
            "STOP: TOTAL NO. of ITERATIONS REACHED LIMIT.\n",
            "\n",
            "Increase the number of iterations (max_iter) or scale the data as shown in:\n",
            "    https://scikit-learn.org/stable/modules/preprocessing.html\n",
            "Please also refer to the documentation for alternative solver options:\n",
            "    https://scikit-learn.org/stable/modules/linear_model.html#logistic-regression\n",
            "  extra_warning_msg=_LOGISTIC_SOLVER_CONVERGENCE_MSG,\n",
            "/usr/local/lib/python3.7/dist-packages/sklearn/linear_model/_logistic.py:818: ConvergenceWarning: lbfgs failed to converge (status=1):\n",
            "STOP: TOTAL NO. of ITERATIONS REACHED LIMIT.\n",
            "\n",
            "Increase the number of iterations (max_iter) or scale the data as shown in:\n",
            "    https://scikit-learn.org/stable/modules/preprocessing.html\n",
            "Please also refer to the documentation for alternative solver options:\n",
            "    https://scikit-learn.org/stable/modules/linear_model.html#logistic-regression\n",
            "  extra_warning_msg=_LOGISTIC_SOLVER_CONVERGENCE_MSG,\n",
            "/usr/local/lib/python3.7/dist-packages/sklearn/svm/_base.py:1208: ConvergenceWarning: Liblinear failed to converge, increase the number of iterations.\n",
            "  ConvergenceWarning,\n",
            "/usr/local/lib/python3.7/dist-packages/sklearn/svm/_base.py:1208: ConvergenceWarning: Liblinear failed to converge, increase the number of iterations.\n",
            "  ConvergenceWarning,\n",
            "/usr/local/lib/python3.7/dist-packages/sklearn/svm/_base.py:1208: ConvergenceWarning: Liblinear failed to converge, increase the number of iterations.\n",
            "  ConvergenceWarning,\n",
            "/usr/local/lib/python3.7/dist-packages/sklearn/svm/_base.py:1208: ConvergenceWarning: Liblinear failed to converge, increase the number of iterations.\n",
            "  ConvergenceWarning,\n",
            "/usr/local/lib/python3.7/dist-packages/sklearn/svm/_base.py:1208: ConvergenceWarning: Liblinear failed to converge, increase the number of iterations.\n",
            "  ConvergenceWarning,\n",
            "/usr/local/lib/python3.7/dist-packages/sklearn/linear_model/_sag.py:354: ConvergenceWarning: The max_iter was reached which means the coef_ did not converge\n",
            "  ConvergenceWarning,\n",
            "/usr/local/lib/python3.7/dist-packages/sklearn/linear_model/_sag.py:354: ConvergenceWarning: The max_iter was reached which means the coef_ did not converge\n",
            "  ConvergenceWarning,\n",
            "/usr/local/lib/python3.7/dist-packages/sklearn/linear_model/_sag.py:354: ConvergenceWarning: The max_iter was reached which means the coef_ did not converge\n",
            "  ConvergenceWarning,\n",
            "/usr/local/lib/python3.7/dist-packages/sklearn/linear_model/_sag.py:354: ConvergenceWarning: The max_iter was reached which means the coef_ did not converge\n",
            "  ConvergenceWarning,\n",
            "/usr/local/lib/python3.7/dist-packages/sklearn/linear_model/_sag.py:354: ConvergenceWarning: The max_iter was reached which means the coef_ did not converge\n",
            "  ConvergenceWarning,\n",
            "/usr/local/lib/python3.7/dist-packages/sklearn/utils/optimize.py:212: ConvergenceWarning: newton-cg failed to converge. Increase the number of iterations.\n",
            "  ConvergenceWarning,\n",
            "/usr/local/lib/python3.7/dist-packages/sklearn/utils/optimize.py:212: ConvergenceWarning: newton-cg failed to converge. Increase the number of iterations.\n",
            "  ConvergenceWarning,\n",
            "/usr/local/lib/python3.7/dist-packages/sklearn/utils/optimize.py:212: ConvergenceWarning: newton-cg failed to converge. Increase the number of iterations.\n",
            "  ConvergenceWarning,\n",
            "/usr/local/lib/python3.7/dist-packages/sklearn/utils/optimize.py:212: ConvergenceWarning: newton-cg failed to converge. Increase the number of iterations.\n",
            "  ConvergenceWarning,\n",
            "/usr/local/lib/python3.7/dist-packages/sklearn/utils/optimize.py:212: ConvergenceWarning: newton-cg failed to converge. Increase the number of iterations.\n",
            "  ConvergenceWarning,\n",
            "/usr/local/lib/python3.7/dist-packages/sklearn/linear_model/_logistic.py:818: ConvergenceWarning: lbfgs failed to converge (status=1):\n",
            "STOP: TOTAL NO. of ITERATIONS REACHED LIMIT.\n",
            "\n",
            "Increase the number of iterations (max_iter) or scale the data as shown in:\n",
            "    https://scikit-learn.org/stable/modules/preprocessing.html\n",
            "Please also refer to the documentation for alternative solver options:\n",
            "    https://scikit-learn.org/stable/modules/linear_model.html#logistic-regression\n",
            "  extra_warning_msg=_LOGISTIC_SOLVER_CONVERGENCE_MSG,\n",
            "/usr/local/lib/python3.7/dist-packages/sklearn/linear_model/_logistic.py:818: ConvergenceWarning: lbfgs failed to converge (status=1):\n",
            "STOP: TOTAL NO. of ITERATIONS REACHED LIMIT.\n",
            "\n",
            "Increase the number of iterations (max_iter) or scale the data as shown in:\n",
            "    https://scikit-learn.org/stable/modules/preprocessing.html\n",
            "Please also refer to the documentation for alternative solver options:\n",
            "    https://scikit-learn.org/stable/modules/linear_model.html#logistic-regression\n",
            "  extra_warning_msg=_LOGISTIC_SOLVER_CONVERGENCE_MSG,\n",
            "/usr/local/lib/python3.7/dist-packages/sklearn/linear_model/_logistic.py:818: ConvergenceWarning: lbfgs failed to converge (status=1):\n",
            "STOP: TOTAL NO. of ITERATIONS REACHED LIMIT.\n",
            "\n",
            "Increase the number of iterations (max_iter) or scale the data as shown in:\n",
            "    https://scikit-learn.org/stable/modules/preprocessing.html\n",
            "Please also refer to the documentation for alternative solver options:\n",
            "    https://scikit-learn.org/stable/modules/linear_model.html#logistic-regression\n",
            "  extra_warning_msg=_LOGISTIC_SOLVER_CONVERGENCE_MSG,\n",
            "/usr/local/lib/python3.7/dist-packages/sklearn/linear_model/_logistic.py:818: ConvergenceWarning: lbfgs failed to converge (status=1):\n",
            "STOP: TOTAL NO. of ITERATIONS REACHED LIMIT.\n",
            "\n",
            "Increase the number of iterations (max_iter) or scale the data as shown in:\n",
            "    https://scikit-learn.org/stable/modules/preprocessing.html\n",
            "Please also refer to the documentation for alternative solver options:\n",
            "    https://scikit-learn.org/stable/modules/linear_model.html#logistic-regression\n",
            "  extra_warning_msg=_LOGISTIC_SOLVER_CONVERGENCE_MSG,\n",
            "/usr/local/lib/python3.7/dist-packages/sklearn/linear_model/_logistic.py:818: ConvergenceWarning: lbfgs failed to converge (status=1):\n",
            "STOP: TOTAL NO. of ITERATIONS REACHED LIMIT.\n",
            "\n",
            "Increase the number of iterations (max_iter) or scale the data as shown in:\n",
            "    https://scikit-learn.org/stable/modules/preprocessing.html\n",
            "Please also refer to the documentation for alternative solver options:\n",
            "    https://scikit-learn.org/stable/modules/linear_model.html#logistic-regression\n",
            "  extra_warning_msg=_LOGISTIC_SOLVER_CONVERGENCE_MSG,\n",
            "/usr/local/lib/python3.7/dist-packages/sklearn/linear_model/_sag.py:354: ConvergenceWarning: The max_iter was reached which means the coef_ did not converge\n",
            "  ConvergenceWarning,\n",
            "/usr/local/lib/python3.7/dist-packages/sklearn/linear_model/_sag.py:354: ConvergenceWarning: The max_iter was reached which means the coef_ did not converge\n",
            "  ConvergenceWarning,\n",
            "/usr/local/lib/python3.7/dist-packages/sklearn/linear_model/_sag.py:354: ConvergenceWarning: The max_iter was reached which means the coef_ did not converge\n",
            "  ConvergenceWarning,\n",
            "/usr/local/lib/python3.7/dist-packages/sklearn/linear_model/_sag.py:354: ConvergenceWarning: The max_iter was reached which means the coef_ did not converge\n",
            "  ConvergenceWarning,\n",
            "/usr/local/lib/python3.7/dist-packages/sklearn/linear_model/_sag.py:354: ConvergenceWarning: The max_iter was reached which means the coef_ did not converge\n",
            "  ConvergenceWarning,\n",
            "/usr/local/lib/python3.7/dist-packages/sklearn/linear_model/_sag.py:354: ConvergenceWarning: The max_iter was reached which means the coef_ did not converge\n",
            "  ConvergenceWarning,\n",
            "/usr/local/lib/python3.7/dist-packages/sklearn/linear_model/_sag.py:354: ConvergenceWarning: The max_iter was reached which means the coef_ did not converge\n",
            "  ConvergenceWarning,\n",
            "/usr/local/lib/python3.7/dist-packages/sklearn/linear_model/_sag.py:354: ConvergenceWarning: The max_iter was reached which means the coef_ did not converge\n",
            "  ConvergenceWarning,\n",
            "/usr/local/lib/python3.7/dist-packages/sklearn/linear_model/_sag.py:354: ConvergenceWarning: The max_iter was reached which means the coef_ did not converge\n",
            "  ConvergenceWarning,\n",
            "/usr/local/lib/python3.7/dist-packages/sklearn/linear_model/_sag.py:354: ConvergenceWarning: The max_iter was reached which means the coef_ did not converge\n",
            "  ConvergenceWarning,\n",
            "/usr/local/lib/python3.7/dist-packages/sklearn/linear_model/_logistic.py:818: ConvergenceWarning: lbfgs failed to converge (status=1):\n",
            "STOP: TOTAL NO. of ITERATIONS REACHED LIMIT.\n",
            "\n",
            "Increase the number of iterations (max_iter) or scale the data as shown in:\n",
            "    https://scikit-learn.org/stable/modules/preprocessing.html\n",
            "Please also refer to the documentation for alternative solver options:\n",
            "    https://scikit-learn.org/stable/modules/linear_model.html#logistic-regression\n",
            "  extra_warning_msg=_LOGISTIC_SOLVER_CONVERGENCE_MSG,\n",
            "/usr/local/lib/python3.7/dist-packages/sklearn/linear_model/_logistic.py:818: ConvergenceWarning: lbfgs failed to converge (status=1):\n",
            "STOP: TOTAL NO. of ITERATIONS REACHED LIMIT.\n",
            "\n",
            "Increase the number of iterations (max_iter) or scale the data as shown in:\n",
            "    https://scikit-learn.org/stable/modules/preprocessing.html\n",
            "Please also refer to the documentation for alternative solver options:\n",
            "    https://scikit-learn.org/stable/modules/linear_model.html#logistic-regression\n",
            "  extra_warning_msg=_LOGISTIC_SOLVER_CONVERGENCE_MSG,\n",
            "/usr/local/lib/python3.7/dist-packages/sklearn/svm/_base.py:1208: ConvergenceWarning: Liblinear failed to converge, increase the number of iterations.\n",
            "  ConvergenceWarning,\n",
            "/usr/local/lib/python3.7/dist-packages/sklearn/svm/_base.py:1208: ConvergenceWarning: Liblinear failed to converge, increase the number of iterations.\n",
            "  ConvergenceWarning,\n",
            "/usr/local/lib/python3.7/dist-packages/sklearn/svm/_base.py:1208: ConvergenceWarning: Liblinear failed to converge, increase the number of iterations.\n",
            "  ConvergenceWarning,\n",
            "/usr/local/lib/python3.7/dist-packages/sklearn/svm/_base.py:1208: ConvergenceWarning: Liblinear failed to converge, increase the number of iterations.\n",
            "  ConvergenceWarning,\n",
            "/usr/local/lib/python3.7/dist-packages/sklearn/svm/_base.py:1208: ConvergenceWarning: Liblinear failed to converge, increase the number of iterations.\n",
            "  ConvergenceWarning,\n",
            "/usr/local/lib/python3.7/dist-packages/sklearn/linear_model/_sag.py:354: ConvergenceWarning: The max_iter was reached which means the coef_ did not converge\n",
            "  ConvergenceWarning,\n",
            "/usr/local/lib/python3.7/dist-packages/sklearn/linear_model/_sag.py:354: ConvergenceWarning: The max_iter was reached which means the coef_ did not converge\n",
            "  ConvergenceWarning,\n",
            "/usr/local/lib/python3.7/dist-packages/sklearn/linear_model/_sag.py:354: ConvergenceWarning: The max_iter was reached which means the coef_ did not converge\n",
            "  ConvergenceWarning,\n",
            "/usr/local/lib/python3.7/dist-packages/sklearn/linear_model/_sag.py:354: ConvergenceWarning: The max_iter was reached which means the coef_ did not converge\n",
            "  ConvergenceWarning,\n",
            "/usr/local/lib/python3.7/dist-packages/sklearn/linear_model/_sag.py:354: ConvergenceWarning: The max_iter was reached which means the coef_ did not converge\n",
            "  ConvergenceWarning,\n",
            "/usr/local/lib/python3.7/dist-packages/sklearn/utils/optimize.py:212: ConvergenceWarning: newton-cg failed to converge. Increase the number of iterations.\n",
            "  ConvergenceWarning,\n",
            "/usr/local/lib/python3.7/dist-packages/sklearn/utils/optimize.py:212: ConvergenceWarning: newton-cg failed to converge. Increase the number of iterations.\n",
            "  ConvergenceWarning,\n",
            "/usr/local/lib/python3.7/dist-packages/sklearn/utils/optimize.py:212: ConvergenceWarning: newton-cg failed to converge. Increase the number of iterations.\n",
            "  ConvergenceWarning,\n",
            "/usr/local/lib/python3.7/dist-packages/sklearn/utils/optimize.py:212: ConvergenceWarning: newton-cg failed to converge. Increase the number of iterations.\n",
            "  ConvergenceWarning,\n",
            "/usr/local/lib/python3.7/dist-packages/sklearn/utils/optimize.py:212: ConvergenceWarning: newton-cg failed to converge. Increase the number of iterations.\n",
            "  ConvergenceWarning,\n",
            "/usr/local/lib/python3.7/dist-packages/sklearn/linear_model/_logistic.py:818: ConvergenceWarning: lbfgs failed to converge (status=1):\n",
            "STOP: TOTAL NO. of ITERATIONS REACHED LIMIT.\n",
            "\n",
            "Increase the number of iterations (max_iter) or scale the data as shown in:\n",
            "    https://scikit-learn.org/stable/modules/preprocessing.html\n",
            "Please also refer to the documentation for alternative solver options:\n",
            "    https://scikit-learn.org/stable/modules/linear_model.html#logistic-regression\n",
            "  extra_warning_msg=_LOGISTIC_SOLVER_CONVERGENCE_MSG,\n",
            "/usr/local/lib/python3.7/dist-packages/sklearn/linear_model/_logistic.py:818: ConvergenceWarning: lbfgs failed to converge (status=1):\n",
            "STOP: TOTAL NO. of ITERATIONS REACHED LIMIT.\n",
            "\n",
            "Increase the number of iterations (max_iter) or scale the data as shown in:\n",
            "    https://scikit-learn.org/stable/modules/preprocessing.html\n",
            "Please also refer to the documentation for alternative solver options:\n",
            "    https://scikit-learn.org/stable/modules/linear_model.html#logistic-regression\n",
            "  extra_warning_msg=_LOGISTIC_SOLVER_CONVERGENCE_MSG,\n",
            "/usr/local/lib/python3.7/dist-packages/sklearn/linear_model/_logistic.py:818: ConvergenceWarning: lbfgs failed to converge (status=1):\n",
            "STOP: TOTAL NO. of ITERATIONS REACHED LIMIT.\n",
            "\n",
            "Increase the number of iterations (max_iter) or scale the data as shown in:\n",
            "    https://scikit-learn.org/stable/modules/preprocessing.html\n",
            "Please also refer to the documentation for alternative solver options:\n",
            "    https://scikit-learn.org/stable/modules/linear_model.html#logistic-regression\n",
            "  extra_warning_msg=_LOGISTIC_SOLVER_CONVERGENCE_MSG,\n",
            "/usr/local/lib/python3.7/dist-packages/sklearn/linear_model/_logistic.py:818: ConvergenceWarning: lbfgs failed to converge (status=1):\n",
            "STOP: TOTAL NO. of ITERATIONS REACHED LIMIT.\n",
            "\n",
            "Increase the number of iterations (max_iter) or scale the data as shown in:\n",
            "    https://scikit-learn.org/stable/modules/preprocessing.html\n",
            "Please also refer to the documentation for alternative solver options:\n",
            "    https://scikit-learn.org/stable/modules/linear_model.html#logistic-regression\n",
            "  extra_warning_msg=_LOGISTIC_SOLVER_CONVERGENCE_MSG,\n",
            "/usr/local/lib/python3.7/dist-packages/sklearn/linear_model/_logistic.py:818: ConvergenceWarning: lbfgs failed to converge (status=1):\n",
            "STOP: TOTAL NO. of ITERATIONS REACHED LIMIT.\n",
            "\n",
            "Increase the number of iterations (max_iter) or scale the data as shown in:\n",
            "    https://scikit-learn.org/stable/modules/preprocessing.html\n",
            "Please also refer to the documentation for alternative solver options:\n",
            "    https://scikit-learn.org/stable/modules/linear_model.html#logistic-regression\n",
            "  extra_warning_msg=_LOGISTIC_SOLVER_CONVERGENCE_MSG,\n",
            "/usr/local/lib/python3.7/dist-packages/sklearn/linear_model/_sag.py:354: ConvergenceWarning: The max_iter was reached which means the coef_ did not converge\n",
            "  ConvergenceWarning,\n",
            "/usr/local/lib/python3.7/dist-packages/sklearn/linear_model/_sag.py:354: ConvergenceWarning: The max_iter was reached which means the coef_ did not converge\n",
            "  ConvergenceWarning,\n",
            "/usr/local/lib/python3.7/dist-packages/sklearn/linear_model/_sag.py:354: ConvergenceWarning: The max_iter was reached which means the coef_ did not converge\n",
            "  ConvergenceWarning,\n",
            "/usr/local/lib/python3.7/dist-packages/sklearn/linear_model/_sag.py:354: ConvergenceWarning: The max_iter was reached which means the coef_ did not converge\n",
            "  ConvergenceWarning,\n",
            "/usr/local/lib/python3.7/dist-packages/sklearn/linear_model/_sag.py:354: ConvergenceWarning: The max_iter was reached which means the coef_ did not converge\n",
            "  ConvergenceWarning,\n",
            "/usr/local/lib/python3.7/dist-packages/sklearn/linear_model/_sag.py:354: ConvergenceWarning: The max_iter was reached which means the coef_ did not converge\n",
            "  ConvergenceWarning,\n",
            "/usr/local/lib/python3.7/dist-packages/sklearn/linear_model/_sag.py:354: ConvergenceWarning: The max_iter was reached which means the coef_ did not converge\n",
            "  ConvergenceWarning,\n",
            "/usr/local/lib/python3.7/dist-packages/sklearn/linear_model/_sag.py:354: ConvergenceWarning: The max_iter was reached which means the coef_ did not converge\n",
            "  ConvergenceWarning,\n",
            "/usr/local/lib/python3.7/dist-packages/sklearn/linear_model/_sag.py:354: ConvergenceWarning: The max_iter was reached which means the coef_ did not converge\n",
            "  ConvergenceWarning,\n",
            "/usr/local/lib/python3.7/dist-packages/sklearn/linear_model/_sag.py:354: ConvergenceWarning: The max_iter was reached which means the coef_ did not converge\n",
            "  ConvergenceWarning,\n",
            "/usr/local/lib/python3.7/dist-packages/sklearn/linear_model/_logistic.py:818: ConvergenceWarning: lbfgs failed to converge (status=1):\n",
            "STOP: TOTAL NO. of ITERATIONS REACHED LIMIT.\n",
            "\n",
            "Increase the number of iterations (max_iter) or scale the data as shown in:\n",
            "    https://scikit-learn.org/stable/modules/preprocessing.html\n",
            "Please also refer to the documentation for alternative solver options:\n",
            "    https://scikit-learn.org/stable/modules/linear_model.html#logistic-regression\n",
            "  extra_warning_msg=_LOGISTIC_SOLVER_CONVERGENCE_MSG,\n",
            "/usr/local/lib/python3.7/dist-packages/sklearn/linear_model/_logistic.py:818: ConvergenceWarning: lbfgs failed to converge (status=1):\n",
            "STOP: TOTAL NO. of ITERATIONS REACHED LIMIT.\n",
            "\n",
            "Increase the number of iterations (max_iter) or scale the data as shown in:\n",
            "    https://scikit-learn.org/stable/modules/preprocessing.html\n",
            "Please also refer to the documentation for alternative solver options:\n",
            "    https://scikit-learn.org/stable/modules/linear_model.html#logistic-regression\n",
            "  extra_warning_msg=_LOGISTIC_SOLVER_CONVERGENCE_MSG,\n",
            "/usr/local/lib/python3.7/dist-packages/sklearn/model_selection/_validation.py:372: FitFailedWarning: \n",
            "300 fits failed out of a total of 1000.\n",
            "The score on these train-test partitions for these parameters will be set to nan.\n",
            "If these failures are not expected, you can try to debug them by setting error_score='raise'.\n",
            "\n",
            "Below are more details about the failures:\n",
            "--------------------------------------------------------------------------------\n",
            "100 fits failed with the following error:\n",
            "Traceback (most recent call last):\n",
            "  File \"/usr/local/lib/python3.7/dist-packages/sklearn/model_selection/_validation.py\", line 681, in _fit_and_score\n",
            "    estimator.fit(X_train, y_train, **fit_params)\n",
            "  File \"/usr/local/lib/python3.7/dist-packages/sklearn/linear_model/_logistic.py\", line 1461, in fit\n",
            "    solver = _check_solver(self.solver, self.penalty, self.dual)\n",
            "  File \"/usr/local/lib/python3.7/dist-packages/sklearn/linear_model/_logistic.py\", line 449, in _check_solver\n",
            "    % (solver, penalty)\n",
            "ValueError: Solver newton-cg supports only 'l2' or 'none' penalties, got l1 penalty.\n",
            "\n",
            "--------------------------------------------------------------------------------\n",
            "100 fits failed with the following error:\n",
            "Traceback (most recent call last):\n",
            "  File \"/usr/local/lib/python3.7/dist-packages/sklearn/model_selection/_validation.py\", line 681, in _fit_and_score\n",
            "    estimator.fit(X_train, y_train, **fit_params)\n",
            "  File \"/usr/local/lib/python3.7/dist-packages/sklearn/linear_model/_logistic.py\", line 1461, in fit\n",
            "    solver = _check_solver(self.solver, self.penalty, self.dual)\n",
            "  File \"/usr/local/lib/python3.7/dist-packages/sklearn/linear_model/_logistic.py\", line 449, in _check_solver\n",
            "    % (solver, penalty)\n",
            "ValueError: Solver lbfgs supports only 'l2' or 'none' penalties, got l1 penalty.\n",
            "\n",
            "--------------------------------------------------------------------------------\n",
            "100 fits failed with the following error:\n",
            "Traceback (most recent call last):\n",
            "  File \"/usr/local/lib/python3.7/dist-packages/sklearn/model_selection/_validation.py\", line 681, in _fit_and_score\n",
            "    estimator.fit(X_train, y_train, **fit_params)\n",
            "  File \"/usr/local/lib/python3.7/dist-packages/sklearn/linear_model/_logistic.py\", line 1461, in fit\n",
            "    solver = _check_solver(self.solver, self.penalty, self.dual)\n",
            "  File \"/usr/local/lib/python3.7/dist-packages/sklearn/linear_model/_logistic.py\", line 449, in _check_solver\n",
            "    % (solver, penalty)\n",
            "ValueError: Solver sag supports only 'l2' or 'none' penalties, got l1 penalty.\n",
            "\n",
            "  warnings.warn(some_fits_failed_message, FitFailedWarning)\n",
            "/usr/local/lib/python3.7/dist-packages/sklearn/model_selection/_search.py:972: UserWarning: One or more of the test scores are non-finite: [       nan        nan 0.94969797        nan 0.94969797 0.94969797\n",
            " 0.94969797 0.94968276 0.94968276 0.94969797        nan        nan\n",
            " 0.94969797        nan 0.94969797 0.94968276 0.94968276 0.94968276\n",
            " 0.94968276 0.94968276        nan        nan 0.94969797        nan\n",
            " 0.94969797 0.94968276 0.94968276 0.94968276 0.94968276 0.94968276\n",
            "        nan        nan 0.94969797        nan 0.94969797 0.94968276\n",
            " 0.94968276 0.94968276 0.94968276 0.94968276        nan        nan\n",
            " 0.94969797        nan 0.94969797 0.94969797 0.94969797 0.94969797\n",
            " 0.94969797 0.94969797        nan        nan 0.94969797        nan\n",
            " 0.94969797 0.94969797 0.94969797 0.94969797 0.94969797 0.94969797\n",
            "        nan        nan 0.94969797        nan 0.94969797 0.94969797\n",
            " 0.94969797 0.94969797 0.94969797 0.94969797        nan        nan\n",
            " 0.94969797        nan 0.94969797 0.94969797 0.94969797 0.94969797\n",
            " 0.94969797 0.94969797        nan        nan 0.94969797        nan\n",
            " 0.94969797 0.94969797 0.94969797 0.94969797 0.94969797 0.94969797\n",
            "        nan        nan 0.94969797        nan 0.94969797 0.94969797\n",
            " 0.94969797 0.94969797 0.94969797 0.94969797        nan        nan\n",
            " 0.94969797        nan 0.94969797 0.94969797 0.94969797 0.94969797\n",
            " 0.94969797 0.94969797        nan        nan 0.94969797        nan\n",
            " 0.94969797 0.94969797 0.94969797 0.94969797 0.94969797 0.94969797\n",
            "        nan        nan 0.94969797        nan 0.94969797 0.94969797\n",
            " 0.94969797 0.94969797 0.94969797 0.94969797        nan        nan\n",
            " 0.94969797        nan 0.94969797 0.94969797 0.94969797 0.94969797\n",
            " 0.94969797 0.94969797        nan        nan 0.94969797        nan\n",
            " 0.94969797 0.94969797 0.94969797 0.94969797 0.94969797 0.94969797\n",
            "        nan        nan 0.94969797        nan 0.94969797 0.94969797\n",
            " 0.94969797 0.94969797 0.94969797 0.94969797        nan        nan\n",
            " 0.94969797        nan 0.94969797 0.94969797 0.94969797 0.94969797\n",
            " 0.94969797 0.94969797        nan        nan 0.94969797        nan\n",
            " 0.94969797 0.94969797 0.94969797 0.94969797 0.94969797 0.94969797\n",
            "        nan        nan 0.94969797        nan 0.94969797 0.94969797\n",
            " 0.94969797 0.94969797 0.94969797 0.94969797        nan        nan\n",
            " 0.94969797        nan 0.94969797 0.94969797 0.94969797 0.94969797\n",
            " 0.94969797 0.94969797]\n",
            "  category=UserWarning,\n",
            "/usr/local/lib/python3.7/dist-packages/sklearn/model_selection/_search.py:972: UserWarning: One or more of the train scores are non-finite: [       nan        nan 0.94969417        nan 0.94969417 0.94969797\n",
            " 0.94969797 0.94969417 0.94969797 0.94969797        nan        nan\n",
            " 0.94969417        nan 0.94969417 0.94969797 0.94969797 0.94969417\n",
            " 0.94969797 0.94969797        nan        nan 0.94969417        nan\n",
            " 0.94969417 0.94969797 0.94969797 0.94969417 0.94969797 0.94969797\n",
            "        nan        nan 0.94969417        nan 0.94969417 0.94969797\n",
            " 0.94969797 0.94969417 0.94969797 0.94969797        nan        nan\n",
            " 0.94969797        nan 0.94969797 0.94969797 0.94969797 0.94969797\n",
            " 0.94969797 0.94969797        nan        nan 0.94969797        nan\n",
            " 0.94969797 0.94969797 0.94969797 0.94969797 0.94969797 0.94969797\n",
            "        nan        nan 0.94969797        nan 0.94969797 0.94969797\n",
            " 0.94969797 0.94969797 0.94969797 0.94969797        nan        nan\n",
            " 0.94969797        nan 0.94969797 0.94969797 0.94969797 0.94969797\n",
            " 0.94969797 0.94969797        nan        nan 0.94969797        nan\n",
            " 0.94969797 0.94969797 0.94969797 0.94969797 0.94969797 0.94969797\n",
            "        nan        nan 0.94969797        nan 0.94969797 0.94969797\n",
            " 0.94969797 0.94969797 0.94969797 0.94969797        nan        nan\n",
            " 0.94969797        nan 0.94969797 0.94969797 0.94969797 0.94969797\n",
            " 0.94969797 0.94969797        nan        nan 0.94969797        nan\n",
            " 0.94969797 0.94969797 0.94969797 0.94969797 0.94969797 0.94969797\n",
            "        nan        nan 0.94969797        nan 0.94969797 0.94969797\n",
            " 0.94969797 0.94969797 0.94969797 0.94969797        nan        nan\n",
            " 0.94969797        nan 0.94969797 0.94969797 0.94969797 0.94969797\n",
            " 0.94969797 0.94969797        nan        nan 0.94969797        nan\n",
            " 0.94969797 0.94969797 0.94969797 0.94969797 0.94969797 0.94969797\n",
            "        nan        nan 0.94969797        nan 0.94969797 0.94969797\n",
            " 0.94969797 0.94969797 0.94969797 0.94969797        nan        nan\n",
            " 0.94969797        nan 0.94969797 0.94969797 0.94969797 0.94969797\n",
            " 0.94969797 0.94969797        nan        nan 0.94969797        nan\n",
            " 0.94969797 0.94969797 0.94969797 0.94969797 0.94969797 0.94969797\n",
            "        nan        nan 0.94969797        nan 0.94969797 0.94969797\n",
            " 0.94969797 0.94969797 0.94969797 0.94969797        nan        nan\n",
            " 0.94969797        nan 0.94969797 0.94969797 0.94969797 0.94969797\n",
            " 0.94969797 0.94969797]\n",
            "  category=UserWarning,\n",
            "/usr/local/lib/python3.7/dist-packages/sklearn/svm/_base.py:1208: ConvergenceWarning: Liblinear failed to converge, increase the number of iterations.\n",
            "  ConvergenceWarning,\n"
          ]
        },
        {
          "output_type": "execute_result",
          "data": {
            "text/plain": [
              "GridSearchCV(cv=5, estimator=LogisticRegression(),\n",
              "             param_grid={'C': [0.1, 0.3, 0.5, 0.8, 1.0],\n",
              "                         'max_iter': [10, 50, 80, 100], 'penalty': ['l1', 'l2'],\n",
              "                         'random_state': [42],\n",
              "                         'solver': ['newton-cg', 'lbfgs', 'liblinear', 'sag',\n",
              "                                    'saga']},\n",
              "             return_train_score=True, scoring='accuracy', verbose=1)"
            ]
          },
          "metadata": {},
          "execution_count": 70
        }
      ]
    },
    {
      "cell_type": "code",
      "metadata": {
        "id": "PTnr2mlrDl62",
        "colab": {
          "base_uri": "https://localhost:8080/"
        },
        "outputId": "02fd5f81-c62d-43d8-caaa-08ac1fbe89ee"
      },
      "source": [
        "gridLogisticRegression.best_params_"
      ],
      "execution_count": 71,
      "outputs": [
        {
          "output_type": "execute_result",
          "data": {
            "text/plain": [
              "{'C': 0.1,\n",
              " 'max_iter': 10,\n",
              " 'penalty': 'l1',\n",
              " 'random_state': 42,\n",
              " 'solver': 'liblinear'}"
            ]
          },
          "metadata": {},
          "execution_count": 71
        }
      ]
    },
    {
      "cell_type": "markdown",
      "metadata": {
        "id": "PyFS2-7VEX1P"
      },
      "source": [
        "### Representacion de Mejores Parametros"
      ]
    },
    {
      "cell_type": "markdown",
      "metadata": {
        "id": "YcWXCYdfEjlq"
      },
      "source": [
        "### Entrenamiento de modelos con mejores parametros"
      ]
    },
    {
      "cell_type": "markdown",
      "metadata": {
        "id": "KZ-5PDjKoqYH"
      },
      "source": [
        "#### Decision Tree"
      ]
    },
    {
      "cell_type": "code",
      "metadata": {
        "id": "MO-LKXpPTWOU"
      },
      "source": [
        "treeMP = DecisionTreeClassifier(**gridTree.best_params_)"
      ],
      "execution_count": 72,
      "outputs": []
    },
    {
      "cell_type": "code",
      "metadata": {
        "id": "8fUmZXteJXN-",
        "colab": {
          "base_uri": "https://localhost:8080/"
        },
        "outputId": "a90145c3-5f0f-4faf-f92a-7c1e69665870"
      },
      "source": [
        "treeMP.fit(X_train, y_train)"
      ],
      "execution_count": 73,
      "outputs": [
        {
          "output_type": "execute_result",
          "data": {
            "text/plain": [
              "DecisionTreeClassifier(criterion='entropy', max_depth=5, min_samples_leaf=8,\n",
              "                       random_state=42)"
            ]
          },
          "metadata": {},
          "execution_count": 73
        }
      ]
    },
    {
      "cell_type": "markdown",
      "metadata": {
        "id": "BXODikvno8PE"
      },
      "source": [
        "#### Logistic Regression"
      ]
    },
    {
      "cell_type": "code",
      "metadata": {
        "id": "mSWMmr6YGmlD"
      },
      "source": [
        "logisticRegressionMP = LogisticRegression(**gridLogisticRegression.best_params_)"
      ],
      "execution_count": 74,
      "outputs": []
    },
    {
      "cell_type": "code",
      "metadata": {
        "id": "qSRFuF6EJNXc",
        "outputId": "54e55e55-6c7d-4e9e-b518-c26857967417",
        "colab": {
          "base_uri": "https://localhost:8080/"
        }
      },
      "source": [
        "logisticRegressionMP.fit(X_train, y_train)"
      ],
      "execution_count": 75,
      "outputs": [
        {
          "output_type": "stream",
          "name": "stderr",
          "text": [
            "/usr/local/lib/python3.7/dist-packages/sklearn/svm/_base.py:1208: ConvergenceWarning: Liblinear failed to converge, increase the number of iterations.\n",
            "  ConvergenceWarning,\n"
          ]
        },
        {
          "output_type": "execute_result",
          "data": {
            "text/plain": [
              "LogisticRegression(C=0.1, max_iter=10, penalty='l1', random_state=42,\n",
              "                   solver='liblinear')"
            ]
          },
          "metadata": {},
          "execution_count": 75
        }
      ]
    },
    {
      "cell_type": "markdown",
      "metadata": {
        "id": "hy8Dp2lbo-nS"
      },
      "source": [
        "#### Bagging"
      ]
    },
    {
      "cell_type": "code",
      "metadata": {
        "id": "6N7ZD99GJDQn"
      },
      "source": [
        "baggingMP.fit(X_train, y_train)"
      ],
      "execution_count": null,
      "outputs": []
    },
    {
      "cell_type": "code",
      "metadata": {
        "id": "0TTHYf3xICOj"
      },
      "source": [
        "baggingMP = BaggingClassifier(n_estimators=10,\n",
        "                              max_samples=10,\n",
        "                              random_state=42)"
      ],
      "execution_count": null,
      "outputs": []
    },
    {
      "cell_type": "markdown",
      "metadata": {
        "id": "hsSr9NKApDQJ"
      },
      "source": [
        "#### RandomForest"
      ]
    },
    {
      "cell_type": "code",
      "metadata": {
        "id": "VDedXRqiIPR2"
      },
      "source": [
        "randomForestMP = RandomForestClassifier(random_state=42, \n",
        "                                n_estimators=100,\n",
        "                                max_features=4,\n",
        "                                max_samples=50,                                \n",
        "                                criterion='gini',\n",
        "                                max_depth=2, \n",
        "                                min_samples_leaf=50, \n",
        "                                min_samples_split=50)"
      ],
      "execution_count": null,
      "outputs": []
    },
    {
      "cell_type": "code",
      "metadata": {
        "id": "Ft2zfZAkJBXr"
      },
      "source": [
        "randomForestMP.fit(X_train, y_train)"
      ],
      "execution_count": null,
      "outputs": []
    },
    {
      "cell_type": "markdown",
      "metadata": {
        "id": "Z9ZLF45-pF1m"
      },
      "source": [
        "#### GradientBoosting"
      ]
    },
    {
      "cell_type": "code",
      "metadata": {
        "id": "aDWcIGmHImmK"
      },
      "source": [
        "gradientBoostingMP= GradientBoostingClassifier(n_estimators=200, \n",
        "                                    learning_rate=0.01,\n",
        "                                    subsample=1,\n",
        "                                    random_state=42,\n",
        "                                    max_depth=8, \n",
        "                                    min_samples_leaf=2, \n",
        "                                    min_samples_split=10)"
      ],
      "execution_count": null,
      "outputs": []
    },
    {
      "cell_type": "code",
      "metadata": {
        "id": "COMSu5N1FZC8"
      },
      "source": [
        "gradientBoostingMP.fit(X_train, y_train)"
      ],
      "execution_count": null,
      "outputs": []
    },
    {
      "cell_type": "markdown",
      "metadata": {
        "id": "G8mKipE3FomF"
      },
      "source": [
        "### Evaluacion de los modelos"
      ]
    },
    {
      "cell_type": "markdown",
      "metadata": {
        "id": "0tqKMUrmGT2Z"
      },
      "source": [
        "Declaramos la siguiente funcion para evaluar cada uno de los modelos. "
      ]
    },
    {
      "cell_type": "code",
      "metadata": {
        "id": "eJa9WrB-Llfb"
      },
      "source": [
        "def evaluateAccuracy(model, X_train, X_test, y_train, y_test):\n",
        "    y_test_pred = model.predict(X_test)\n",
        "    y_train_pred = model.predict(X_train)\n",
        "    \n",
        "    print(\"Model:\", model)\n",
        "    print(f\"ACCURACY TRAIN: {accuracy_score(y_train, y_train_pred):.4f}\")\n",
        "    print(f\"ACCURACY TEST: {accuracy_score(y_test, y_test_pred):.4f}\")\n",
        "    print(\"\\n\")\n",
        "    "
      ],
      "execution_count": 61,
      "outputs": []
    },
    {
      "cell_type": "code",
      "metadata": {
        "id": "FR5va7DFGe42",
        "colab": {
          "base_uri": "https://localhost:8080/"
        },
        "outputId": "f3fdddfa-7e39-41a7-8c85-26fd188d8f7a"
      },
      "source": [
        "evaluateAccuracy(treeMP, X_train, X_test, y_train, y_test)"
      ],
      "execution_count": 76,
      "outputs": [
        {
          "output_type": "stream",
          "name": "stdout",
          "text": [
            "Model: DecisionTreeClassifier(criterion='entropy', max_depth=5, min_samples_leaf=8,\n",
            "                       random_state=42)\n",
            "ACCURACY TRAIN: 0.9507\n",
            "ACCURACY TEST: 0.9487\n",
            "\n",
            "\n"
          ]
        }
      ]
    },
    {
      "cell_type": "code",
      "metadata": {
        "id": "2iIlJGQMJiil",
        "colab": {
          "base_uri": "https://localhost:8080/"
        },
        "outputId": "dc4e0107-7759-440e-e516-197d55b37d01"
      },
      "source": [
        "evaluateAccuracy(logisticRegressionMP, X_train, X_test, y_train, y_test)"
      ],
      "execution_count": 77,
      "outputs": [
        {
          "output_type": "stream",
          "name": "stdout",
          "text": [
            "Model: LogisticRegression(C=0.1, max_iter=10, penalty='l1', random_state=42,\n",
            "                   solver='liblinear')\n",
            "ACCURACY TRAIN: 0.9497\n",
            "ACCURACY TEST: 0.9480\n",
            "\n",
            "\n"
          ]
        }
      ]
    },
    {
      "cell_type": "code",
      "metadata": {
        "id": "oRDw5xJCJifU"
      },
      "source": [
        "evaluateAccuracy(regresionLinealLassoMP, X_train, X_test, y_train, y_test)"
      ],
      "execution_count": null,
      "outputs": []
    },
    {
      "cell_type": "code",
      "metadata": {
        "id": "ZD1SyLNeJicZ"
      },
      "source": [
        "evaluateAccuracy(regresionLinealRidgeMP, X_train, X_test, y_train, y_test)"
      ],
      "execution_count": null,
      "outputs": []
    },
    {
      "cell_type": "code",
      "metadata": {
        "id": "czVfXpuPJiWY"
      },
      "source": [
        "evaluateAccuracy(baggingMP, X_train, X_test, y_train, y_test)"
      ],
      "execution_count": null,
      "outputs": []
    },
    {
      "cell_type": "code",
      "metadata": {
        "id": "HRETV5CdJiNV"
      },
      "source": [
        "evaluateAccuracy(randomForestMP, X_train, X_test, y_train, y_test)"
      ],
      "execution_count": null,
      "outputs": []
    },
    {
      "cell_type": "code",
      "metadata": {
        "id": "u4vVgMaHJiEv"
      },
      "source": [
        "evaluateAccuracy(gradientBoostingMP, X_train, X_test, y_train, y_test)"
      ],
      "execution_count": null,
      "outputs": []
    },
    {
      "cell_type": "markdown",
      "metadata": {
        "id": "VjsUTE9BGbUG"
      },
      "source": [
        "### Conlusiones"
      ]
    },
    {
      "cell_type": "markdown",
      "metadata": {
        "id": "MR0dEXjjYmYf"
      },
      "source": [
        "#### Mejor Modelo"
      ]
    },
    {
      "cell_type": "markdown",
      "metadata": {
        "id": "Cj3-RzxCHKhy"
      },
      "source": [
        " * ACURRACY DE CADA MODELO\n",
        " * CONSIDERAR CUAL FUE EL MEJOR"
      ]
    },
    {
      "cell_type": "markdown",
      "metadata": {
        "id": "3TBucQ_BYBv4"
      },
      "source": [
        "#### Importancia del data cleaning y uso de mejores parámetros"
      ]
    },
    {
      "cell_type": "markdown",
      "metadata": {
        "id": "Daub9H5DX4In"
      },
      "source": [
        "Evaluamos el modelo Árbol con el dataset sin aplicar Data Cleaning para los parámetros por defecto y para los mejores parámetros del modelo obtenidos anteriormente:"
      ]
    },
    {
      "cell_type": "code",
      "metadata": {
        "id": "9XAh9K9yVJsf"
      },
      "source": [
        "data2 = dfDummy.drop(columns = \"Response\")\n",
        "targets2 = dfDummy[\"Response\"]\n",
        "x2 = data2\n",
        "y2 = targets2"
      ],
      "execution_count": null,
      "outputs": []
    },
    {
      "cell_type": "code",
      "metadata": {
        "id": "ibrKlNspVRre"
      },
      "source": [
        "X_train2, X_test2, y_train2, y_test2 = train_test_split(x2, y2, test_size = 0.30, random_state = 42)"
      ],
      "execution_count": null,
      "outputs": []
    },
    {
      "cell_type": "code",
      "metadata": {
        "id": "A_SI3jWiVab6"
      },
      "source": [
        "arbolSinDataClining_ParamsDefault = DecisionTreeClassifier()"
      ],
      "execution_count": null,
      "outputs": []
    },
    {
      "cell_type": "code",
      "metadata": {
        "id": "6IyDdj_yVjyv",
        "colab": {
          "base_uri": "https://localhost:8080/"
        },
        "outputId": "1edd2713-6263-4cec-95ee-1c53bd0259e1"
      },
      "source": [
        "arbolSinDataClining_ParamsDefault.fit(X_train2, y_train2)"
      ],
      "execution_count": null,
      "outputs": [
        {
          "output_type": "execute_result",
          "data": {
            "text/plain": [
              "DecisionTreeClassifier()"
            ]
          },
          "metadata": {},
          "execution_count": 90
        }
      ]
    },
    {
      "cell_type": "code",
      "metadata": {
        "id": "wXaKn1yxVsBL",
        "colab": {
          "base_uri": "https://localhost:8080/"
        },
        "outputId": "b3a52f24-2f37-4813-f956-f48365047513"
      },
      "source": [
        "evaluateAccuracy(arbolSinDataClining_ParamsDefault, X_train2, X_test2, y_train2, y_test2)"
      ],
      "execution_count": null,
      "outputs": [
        {
          "output_type": "stream",
          "name": "stdout",
          "text": [
            "ACCURACY TRAIN: 1.0000\n",
            "ACCURACY TEST: 0.7177\n",
            "\n",
            "\n"
          ]
        }
      ]
    },
    {
      "cell_type": "code",
      "metadata": {
        "id": "1kzNr6CxXCHG"
      },
      "source": [
        "arbolSinDataClining_MejoresParams = DecisionTreeClassifier(**gridArbol.best_params_)"
      ],
      "execution_count": null,
      "outputs": []
    },
    {
      "cell_type": "code",
      "metadata": {
        "id": "y6CVO_kPXbPl",
        "colab": {
          "base_uri": "https://localhost:8080/"
        },
        "outputId": "06b8f8e3-c888-48e6-89ab-51cb81b5569f"
      },
      "source": [
        "arbolSinDataClining_MejoresParams.fit(X_train2, y_train2)"
      ],
      "execution_count": null,
      "outputs": [
        {
          "output_type": "execute_result",
          "data": {
            "text/plain": [
              "DecisionTreeClassifier(criterion='entropy', max_depth=10, min_samples_leaf=2,\n",
              "                       random_state=42)"
            ]
          },
          "metadata": {},
          "execution_count": 93
        }
      ]
    },
    {
      "cell_type": "code",
      "metadata": {
        "id": "tsxYRvfgXS1c",
        "colab": {
          "base_uri": "https://localhost:8080/"
        },
        "outputId": "a8d19364-55d5-4341-f94f-ad7337476da5"
      },
      "source": [
        "evaluateAccuracy(arbolSinDataClining_MejoresParams, X_train2, X_test2, y_train2, y_test2)"
      ],
      "execution_count": null,
      "outputs": [
        {
          "output_type": "stream",
          "name": "stdout",
          "text": [
            "ACCURACY TRAIN: 0.8026\n",
            "ACCURACY TEST: 0.7927\n",
            "\n",
            "\n"
          ]
        }
      ]
    },
    {
      "cell_type": "markdown",
      "metadata": {
        "id": "coafTA5-Yrb9"
      },
      "source": [
        "Pudimos observar que: \n",
        "* Sin aplicar Data Cleaning y con los parámetros por defecto, el algoritmo hace sobre ajuste de datos (alta varianza) y tiene un alto sesgo.\n",
        "* Sin aplicar Data Cleaning y con los mejores parámetros, el algoritmo tiene baja varianza pero se mantiene el alto sesgo.\n",
        "* Aplicando Data Cleaning y con los mejores parámetros, obtenemos baja varianza y bajo sesgo."
      ]
    }
  ]
}